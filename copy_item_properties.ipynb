{
 "cells": [
  {
   "cell_type": "code",
   "execution_count": 39,
   "metadata": {},
   "outputs": [],
   "source": [
    "import arcgis\n",
    "from arcgis import GIS # import the GIS module from the ArcGIS API for Python\n",
    "from AGOL_Credentials import AGOLusername, AGOLpassword, AGOL_ORG\n",
    "\n",
    "arcgis.env.verbose=True\n",
    "username = AGOLusername\n",
    "password = AGOLpassword\n",
    "\n",
    "gis = GIS(AGOL_ORG, username, password) # log into AGOL\n",
    "source_item_id = '4cad56958b1843ee9b4e25df31270c69'\n",
    "target_item_id = 'f3c388a8cc9b49f0bfcc1dbfe2dc19b2'\n",
    "\n",
    "# Get the source item\n",
    "source_item = gis.content.get(source_item_id)\n",
    "# Get the target item\n",
    "target_item = gis.content.get(target_item_id)"
   ]
  },
  {
   "cell_type": "code",
   "execution_count": 40,
   "metadata": {},
   "outputs": [
    {
     "data": {
      "text/plain": [
       "True"
      ]
     },
     "execution_count": 40,
     "metadata": {},
     "output_type": "execute_result"
    }
   ],
   "source": [
    "# Update the target item with source_item_properties\n",
    "target_item.update({\n",
    "    'title': source_item.title,\n",
    "    'snippet': source_item.snippet,\n",
    "    'description': source_item.description,\n",
    "    'tags': source_item.tags,\n",
    "    'accessInformation': source_item.accessInformation,\n",
    "    'licenseInfo': source_item.licenseInfo,\n",
    "    'extent': source_item.extent,\n",
    "    'sharing.groups': source_item.sharing.groups\n",
    "})\n",
    "print('Updated item properties...')\n",
    "target_item.update_thumbnail(url=source_item.get_thumbnail_link())\n",
    "print('Updated thumbnail...')"
   ]
  }
 ],
 "metadata": {
  "kernelspec": {
   "display_name": "Python 3",
   "language": "python",
   "name": "python3"
  },
  "language_info": {
   "codemirror_mode": {
    "name": "ipython",
    "version": 3
   },
   "file_extension": ".py",
   "mimetype": "text/x-python",
   "name": "python",
   "nbconvert_exporter": "python",
   "pygments_lexer": "ipython3",
   "version": "3.11.8"
  }
 },
 "nbformat": 4,
 "nbformat_minor": 2
}
