{
 "cells": [
  {
   "cell_type": "code",
   "execution_count": 6,
   "metadata": {},
   "outputs": [],
   "source": [
    "import arcgis\n",
    "from arcgis import GIS # import the GIS module from the ArcGIS API for Python\n",
    "from AGOL_Credentials import AGOLusername, AGOLpassword, AGOL_ORG\n",
    "\n",
    "arcgis.env.verbose=True\n",
    "username = AGOLusername\n",
    "password = AGOLpassword\n",
    "\n",
    "gis = GIS(AGOL_ORG, username, password) # log into AGOL\n",
    "source_item_id = 'b5899ea24ec3494ab398776de1d50952'\n",
    "target_item_id = '234f54d72dc14f26a25f1fa03d778915'\n",
    "\n",
    "# Get the source item\n",
    "source_item = gis.content.get(source_item_id)\n",
    "# Get the target item\n",
    "target_item = gis.content.get(target_item_id)"
   ]
  },
  {
   "cell_type": "code",
   "execution_count": 7,
   "metadata": {},
   "outputs": [
    {
     "name": "stdout",
     "output_type": "stream",
     "text": [
      "Updated item properties...\n",
      "Updated thumbnail...\n"
     ]
    }
   ],
   "source": [
    "# Update the target item with source_item_properties\n",
    "target_item.update({\n",
    "    'title': source_item.title,\n",
    "    'snippet': source_item.snippet,\n",
    "    'description': source_item.description,\n",
    "    'tags': source_item.tags,\n",
    "    'accessInformation': source_item.accessInformation,\n",
    "    'licenseInfo': source_item.licenseInfo,\n",
    "    'extent': source_item.extent,\n",
    "    'sharing.groups': source_item.sharing.groups\n",
    "})\n",
    "print('Updated item properties...')\n",
    "target_item.update_thumbnail(url=source_item.get_thumbnail_link() + '&w=800')\n",
    "print('Updated thumbnail...')"
   ]
  },
  {
   "cell_type": "code",
   "execution_count": 21,
   "metadata": {},
   "outputs": [
    {
     "data": {
      "text/plain": [
       "<SharingLevel.EVERYONE: 'EVERYONE'>"
      ]
     },
     "execution_count": 21,
     "metadata": {},
     "output_type": "execute_result"
    }
   ],
   "source": [
    "source_sharing = source_item.sharing"
   ]
  },
  {
   "cell_type": "code",
   "execution_count": 22,
   "metadata": {},
   "outputs": [
    {
     "data": {
      "text/plain": [
       "<SharingLevel.EVERYONE: 'EVERYONE'>"
      ]
     },
     "execution_count": 22,
     "metadata": {},
     "output_type": "execute_result"
    }
   ],
   "source": [
    "source_sharing.sharing_level\n"
   ]
  },
  {
   "cell_type": "code",
   "execution_count": 24,
   "metadata": {},
   "outputs": [
    {
     "data": {
      "text/plain": [
       "{'groups': [], 'level': <SharingLevel.EVERYONE: 'EVERYONE'>}"
      ]
     },
     "execution_count": 24,
     "metadata": {},
     "output_type": "execute_result"
    }
   ],
   "source": [
    "source_sharing.shared_with"
   ]
  },
  {
   "cell_type": "code",
   "execution_count": 26,
   "metadata": {},
   "outputs": [],
   "source": [
    "source_sharing_mgr = source_sharing.groups\n"
   ]
  },
  {
   "cell_type": "code",
   "execution_count": 27,
   "metadata": {},
   "outputs": [
    {
     "data": {
      "text/plain": [
       "<SharingLevel.EVERYONE: 'EVERYONE'>"
      ]
     },
     "execution_count": 27,
     "metadata": {},
     "output_type": "execute_result"
    }
   ],
   "source": [
    "target_sharing = target_item.sharing\n",
    "target_sharing.sharing_level\n"
   ]
  }
 ],
 "metadata": {
  "kernelspec": {
   "display_name": "Python 3",
   "language": "python",
   "name": "python3"
  },
  "language_info": {
   "codemirror_mode": {
    "name": "ipython",
    "version": 3
   },
   "file_extension": ".py",
   "mimetype": "text/x-python",
   "name": "python",
   "nbconvert_exporter": "python",
   "pygments_lexer": "ipython3",
   "version": "3.11.8"
  }
 },
 "nbformat": 4,
 "nbformat_minor": 2
}
