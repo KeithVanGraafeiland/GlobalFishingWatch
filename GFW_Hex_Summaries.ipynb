{
 "cells": [
  {
   "cell_type": "markdown",
   "metadata": {},
   "source": [
    "## Summarize the Global Fishing Watch imagery into hexbins"
   ]
  },
  {
   "cell_type": "code",
   "execution_count": 13,
   "metadata": {},
   "outputs": [],
   "source": [
    "import os\n",
    "import arcpy\n",
    "from arcpy.sa import *\n",
    "import time\n",
    "\n",
    "# Check out the ArcGIS Spatial Analyst extension license\n",
    "arcpy.CheckOutExtension(\"Spatial\")\n",
    "\n",
    "# Set the workspace to the geodatabase\n",
    "arcpy.env.workspace = r'E:\\gis_lib\\hexbins\\H3_Hexbins.gdb'\n",
    "\n",
    "p_type = 'gfw_2020_monthly'\n",
    "summary_raster = r'e:\\analysis\\GFW\\2020\\TIF\\global_fish_watch_monthly_fleet_sum_2020.crf'\n",
    "gdb = r'E:\\gis_projects\\Global Fishing Watch\\Global Fishing Watch.gdb'\n",
    "\n",
    "# List all feature classes in the geodatabase\n",
    "feature_classes = arcpy.ListFeatureClasses()\n",
    "global_summary_layer = r'E:\\gis_lib\\general\\Base_content.gdb\\Global_Extent_WGS84'\n",
    "global_summary_field = 'OBJECTID'\n",
    "hex_summary_field = 'GRID_ID'\n",
    "eez_summary_layer = r'E:\\gis_lib\\general\\Base_content.gdb\\eez_v12'\n",
    "eez_summary_field = 'OBJECTID'\n",
    "\n",
    "\n",
    "\n",
    "\n"
   ]
  },
  {
   "cell_type": "code",
   "execution_count": 14,
   "metadata": {},
   "outputs": [
    {
     "name": "stdout",
     "output_type": "stream",
     "text": [
      "Processing... h3_r6\n",
      "2024-09-25 15:00:46.771802\n",
      "E:\\gis_projects\\Global Fishing Watch\\Global Fishing Watch.gdb\\gfw_2020_monthly_GenerateTessellation_h3_r6_wgs84\n"
     ]
    }
   ],
   "source": [
    "# Print the feature classes\n",
    "for fc in feature_classes:\n",
    "    gdb_root = os.path.split(gdb)[0]\n",
    "    fc_short = fc.replace('GenerateTessellation_', '').replace('_wgs84', '')\n",
    "    print(\"Processing... \" + fc_short)\n",
    "    print(datetime.datetime.now())\n",
    "    print(os.path.join(gdb, p_type + '_' + fc))\n",
    "    # print(gdb_root)\n",
    "    # print(fc_short)\n",
    "    with arcpy.EnvManager(parallelProcessingFactor=\"99%\", cellSize=\"MINOF\"):\n",
    "        arcpy.ia.ZonalStatisticsAsTable(\n",
    "            in_zone_data=fc,\n",
    "            zone_field=hex_summary_field,\n",
    "            in_value_raster=summary_raster,\n",
    "            out_table = os.path.join(gdb, p_type + '_' + fc_short),\n",
    "            ignore_nodata=\"DATA\",\n",
    "            statistics_type=\"SUM\",\n",
    "            process_as_multidimensional=\"ALL_SLICES\",\n",
    "            percentile_values=90,\n",
    "            percentile_interpolation_type=\"AUTO_DETECT\",\n",
    "            circular_calculation=\"ARITHMETIC\",\n",
    "            circular_wrap_value=360,\n",
    "            out_join_layer = os.path.join(gdb_root, p_type + '_' + fc_short + '.lyr')\n",
    "        )"
   ]
  },
  {
   "cell_type": "code",
   "execution_count": null,
   "metadata": {},
   "outputs": [],
   "source": [
    "# arcpy.management.PivotTable(\n",
    "#     in_table=\"gfw_2020_annual_summary\",\n",
    "#     fields=\"OBJECTID_1\",\n",
    "#     pivot_field=\"Variable\",\n",
    "#     value_field=\"SUM\",\n",
    "#     out_table=r\"E:\\gis_projects\\Global Fishing Watch\\Global Fishing Watch.gdb\\gfw_2020_annual_summary_pivot\"\n",
    "# )\n",
    "\n",
    "# arcpy.management.CopyFeatures(\n",
    "#     in_features=fc,\n",
    "#     out_feature_class=os.path.join(gdb, p_type + '_' + fc_short + '_fc'),\n",
    "#     config_keyword=\"\",\n",
    "#     spatial_grid_1=None,\n",
    "#     spatial_grid_2=None,\n",
    "#     spatial_grid_3=None\n",
    "# )\n",
    "\n",
    "# arcpy.management.JoinField(\n",
    "#     in_data=os.path.join(gdb, p_type + '_' + fc_short + '_fc'),\n",
    "#     in_field=hex_summary_field,\n",
    "#     join_table=os.path.join(gdb, p_type + '_' + fc_short),\n",
    "#     join_field=hex_summary_field,\n",
    "#     fields=\"*.SUM\",\n",
    "#     fm_option=\"NOT_USE_FM\",\n",
    "#     field_mapping=None,\n",
    "#     index_join_fields=\"NO_INDEXES\"\n",
    "# )"
   ]
  },
  {
   "cell_type": "markdown",
   "metadata": {},
   "source": [
    "### Summarize the data for the entire globe"
   ]
  },
  {
   "cell_type": "code",
   "execution_count": 7,
   "metadata": {},
   "outputs": [],
   "source": [
    "with arcpy.EnvManager(parallelProcessingFactor=\"99%\", cellSize=\"MINOF\"):\n",
    "    arcpy.ia.ZonalStatisticsAsTable(\n",
    "        in_zone_data=global_summary_layer,\n",
    "        zone_field=global_summary_field,\n",
    "        in_value_raster=summary_raster,\n",
    "        out_table = os.path.join(gdb, p_type + '_global_summary'),\n",
    "        ignore_nodata=\"DATA\",\n",
    "        statistics_type=\"ALL\",\n",
    "        process_as_multidimensional=\"ALL_SLICES\",\n",
    "        percentile_values=90,\n",
    "        percentile_interpolation_type=\"AUTO_DETECT\",\n",
    "        circular_calculation=\"ARITHMETIC\",\n",
    "        circular_wrap_value=360,\n",
    "        out_join_layer = os.path.join(gdb, p_type + '_summary.lyr')\n",
    "    )"
   ]
  },
  {
   "cell_type": "markdown",
   "metadata": {},
   "source": [
    "### Summarize fishing activity for the different Exclusive Economic Zones (EEZ)"
   ]
  },
  {
   "cell_type": "code",
   "execution_count": 12,
   "metadata": {},
   "outputs": [],
   "source": [
    "with arcpy.EnvManager(parallelProcessingFactor=\"99%\", cellSize=\"MINOF\"):\n",
    "    arcpy.ia.ZonalStatisticsAsTable(\n",
    "        in_zone_data=eez_summary_layer,\n",
    "        zone_field=eez_summary_field,\n",
    "        in_value_raster=summary_raster,\n",
    "        out_table = os.path.join(gdb, p_type + '_eez_summary'),\n",
    "        ignore_nodata=\"DATA\",\n",
    "        statistics_type=\"ALL\",\n",
    "        process_as_multidimensional=\"ALL_SLICES\",\n",
    "        percentile_values=90,\n",
    "        percentile_interpolation_type=\"AUTO_DETECT\",\n",
    "        circular_calculation=\"ARITHMETIC\",\n",
    "        circular_wrap_value=360,\n",
    "        out_join_layer = os.path.join(gdb, p_type + '_eez_summary.lyr')\n",
    "    )"
   ]
  }
 ],
 "metadata": {
  "kernelspec": {
   "display_name": "Python 3",
   "language": "python",
   "name": "python3"
  },
  "language_info": {
   "codemirror_mode": {
    "name": "ipython",
    "version": 3
   },
   "file_extension": ".py",
   "mimetype": "text/x-python",
   "name": "python",
   "nbconvert_exporter": "python",
   "pygments_lexer": "ipython3",
   "version": "3.11.8"
  }
 },
 "nbformat": 4,
 "nbformat_minor": 2
}
