{
 "cells": [
  {
   "cell_type": "code",
   "execution_count": 1,
   "metadata": {},
   "outputs": [
    {
     "name": "stdout",
     "output_type": "stream",
     "text": [
      "['elevation.crf', 'gfw_fishhours_2020.crf', 'gfw_hours_2020.crf', 'slope.crf']\n",
      "E:\\gis_projects\\Global Fishing Watch\\sde_on_global_hex.sde\\global_hex.sde.Hex_r0\n"
     ]
    }
   ],
   "source": [
    "import os\n",
    "import arcpy\n",
    "arcpy.env.overwriteOutput = True\n",
    "\n",
    "hex_level = 'Hex_r0'\n",
    "directory = r\"E:\\test\"\n",
    "rasters = [f for f in os.listdir(directory) if f.endswith('.crf') and os.path.isdir(os.path.join(directory, f))]\n",
    "sde  = r'E:\\gis_projects\\Global Fishing Watch\\sde_on_global_hex.sde'\n",
    "h3_hex = os.path.join(sde, 'global_hex.sde.' + hex_level)\n",
    "# stats = 'SUM'\n",
    "print(rasters)\n",
    "print(h3_hex)"
   ]
  },
  {
   "cell_type": "code",
   "execution_count": 2,
   "metadata": {},
   "outputs": [],
   "source": [
    "## This function summarizes a non-multidimensional raster using SUM statistics\n",
    "def hexbin_summary(hex_level, rasters):\n",
    "    for raster in rasters:\n",
    "            print(raster)\n",
    "            raster_name = raster.split('.')[0]\n",
    "            print(raster_name)\n",
    "            SDE_Path = sde\n",
    "            # table_name = os.path.join(SDE_Path, hex_level + \"_\" + raster_name)\n",
    "            with arcpy.EnvManager(cellSize=\"MINOF\"):\n",
    "                arcpy.ia.ZonalStatisticsAsTable(\n",
    "                    in_zone_data=h3_hex,\n",
    "                    zone_field=\"grid_id\",\n",
    "                    in_value_raster=os.path.join(directory, raster),\n",
    "                    out_table=os.path.join(SDE_Path, hex_level + \"_\" + raster_name),\n",
    "                    ignore_nodata=\"DATA\",\n",
    "                    statistics_type=\"ALL\",\n",
    "                    process_as_multidimensional=\"CURRENT_SLICE\",\n",
    "                    percentile_values=[90],\n",
    "                    percentile_interpolation_type=\"AUTO_DETECT\",\n",
    "                    circular_calculation=\"ARITHMETIC\",\n",
    "                    circular_wrap_value=360,\n",
    "                    out_join_layer=None\n",
    "                )\n",
    "\n",
    "            # arcpy.management.DeleteField(\n",
    "            #     in_table=table_name,\n",
    "            #     drop_field=\"zone_code; count\",\n",
    "            #     method=\"DELETE_FIELDS\"\n",
    "            # )"
   ]
  },
  {
   "cell_type": "code",
   "execution_count": null,
   "metadata": {},
   "outputs": [],
   "source": [
    "hexbin_summary(hex_level, rasters)"
   ]
  },
  {
   "cell_type": "code",
   "execution_count": null,
   "metadata": {},
   "outputs": [],
   "source": [
    "hex_level = 'Hex_r1'\n",
    "h3_hex = os.path.join(sde, 'global_hex.sde.' + hex_level)\n",
    "hexbin_summary(hex_level, rasters)"
   ]
  },
  {
   "cell_type": "code",
   "execution_count": null,
   "metadata": {},
   "outputs": [],
   "source": [
    "hex_level = 'Hex_r2'\n",
    "h3_hex = os.path.join(sde, 'global_hex.sde.' + hex_level)\n",
    "hexbin_summary(hex_level, rasters)"
   ]
  },
  {
   "cell_type": "code",
   "execution_count": null,
   "metadata": {},
   "outputs": [],
   "source": [
    "hex_level = 'Hex_r3'\n",
    "h3_hex = os.path.join(sde, 'global_hex.sde.' + hex_level)\n",
    "hexbin_summary(hex_level, rasters)"
   ]
  },
  {
   "cell_type": "code",
   "execution_count": null,
   "metadata": {},
   "outputs": [],
   "source": [
    "hex_level = 'Hex_r4'\n",
    "h3_hex = os.path.join(sde, 'global_hex.sde.' + hex_level)\n",
    "hexbin_summary(hex_level, rasters)"
   ]
  },
  {
   "cell_type": "code",
   "execution_count": null,
   "metadata": {},
   "outputs": [],
   "source": [
    "hex_level = 'Hex_r5'\n",
    "h3_hex = os.path.join(sde, 'global_hex.sde.' + hex_level)\n",
    "hexbin_summary(hex_level, rasters)"
   ]
  },
  {
   "cell_type": "code",
   "execution_count": null,
   "metadata": {},
   "outputs": [],
   "source": [
    "hex_level = 'Hex_r6'\n",
    "h3_hex = os.path.join(sde, 'global_hex.sde.' + hex_level)\n",
    "hexbin_summary(hex_level, rasters)"
   ]
  }
 ],
 "metadata": {
  "kernelspec": {
   "display_name": "Python 3",
   "language": "python",
   "name": "python3"
  },
  "language_info": {
   "codemirror_mode": {
    "name": "ipython",
    "version": 3
   },
   "file_extension": ".py",
   "mimetype": "text/x-python",
   "name": "python",
   "nbconvert_exporter": "python",
   "pygments_lexer": "ipython3",
   "version": "3.11.10"
  }
 },
 "nbformat": 4,
 "nbformat_minor": 2
}
