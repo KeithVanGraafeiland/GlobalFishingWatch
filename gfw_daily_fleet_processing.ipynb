{
 "cells": [
  {
   "cell_type": "code",
   "execution_count": 1,
   "metadata": {},
   "outputs": [],
   "source": [
    "## import libraries\n",
    "from arcgis import GIS\n",
    "import os\n",
    "import pandas as pd\n",
    "import arcpy\n",
    "from arcgis.features import GeoAccessor"
   ]
  },
  {
   "cell_type": "code",
   "execution_count": 2,
   "metadata": {},
   "outputs": [],
   "source": [
    "## define variables\n",
    "# connect to GIS\n",
    "gis = GIS()\n",
    "\n",
    "# directory where the daily fleet csv files from GFW are stored\n",
    "directory = r'F:\\Global Fishing Watch\\Fishing Intensity\\v2\\fleet-daily\\fleet-daily-csvs-100-v2-2020'\n",
    "processing_gdb = r'E:\\analysis\\GFW\\gfw_daily_fleet_2020.gdb'\n",
    "analysis_directory = r'E:\\analysis\\GFW\\TIF\\2020'\n",
    "\n",
    "# To allow overwriting outputs change overwriteOutput option to True.\n",
    "arcpy.env.overwriteOutput = True\n",
    "arcpy.env.parallelProcessingFactor = \"90%\"\n",
    "\n",
    "# Check out any necessary licenses.\n",
    "arcpy.CheckOutExtension(\"spatial\")\n",
    "arcpy.CheckOutExtension(\"ImageAnalyst\")\n",
    "\n",
    "projectCoordinateSystem=\"GEOGCS[\\\"GCS_WGS_1984\\\",DATUM[\\\"D_WGS_1984\\\",SPHEROID[\\\"WGS_1984\\\",6378137.0,298.257223563]],PRIMEM[\\\"Greenwich\\\",0.0],UNIT[\\\"Degree\\\",0.0174532925199433]]\"\n",
    "gear_list = ['fishing', 'drifting_longlines', 'seiners', 'purse_seines', 'tuna_purse_seines', 'other_purse_seines', 'other_seines', 'trollers', 'fixed_gear', 'pots_and_traps', 'set_longlines', 'set_gillnets', 'dredge_fishing', 'squid_jiggers', 'other']"
   ]
  },
  {
   "cell_type": "code",
   "execution_count": 3,
   "metadata": {},
   "outputs": [],
   "source": [
    "def create_directories():\n",
    "    # if not arcpy.Exists(processing_gdb):\n",
    "    #     arcpy.management.CreateFileGDB(os.path.dirname(processing_gdb), os.path.basename(processing_gdb))\n",
    "    if not os.path.exists(analysis_directory):\n",
    "        os.makedirs(analysis_directory)"
   ]
  },
  {
   "cell_type": "code",
   "execution_count": 4,
   "metadata": {},
   "outputs": [],
   "source": [
    "def preprocess():\n",
    "            print(\"Starting processing of \" + filename + \"...\")\n",
    "            # Get the full path for the filename\n",
    "            file_path = os.path.join(directory, filename)\n",
    "            # Read the CSV file\n",
    "            print(file_path)\n",
    "            global data\n",
    "            data = pd.read_csv(file_path)\n",
    "            # Get the first row as a table\n",
    "            first_row = data.head(1)\n",
    "            # Get the value in the first column\n",
    "            global value\n",
    "            value = first_row.iloc[0, 0]\n",
    "            # replace the '-' with '_'\n",
    "            value = value.replace('-', '_')\n",
    "            global tif_name1\n",
    "            tif_name1 = os.path.join(analysis_directory, \"daily_fleet_\" + value + \"_hours.tif\")\n",
    "            global fc_hours\n",
    "            fc_hours = os.path.join(processing_gdb, \"daily_fleet_\" + value + \"_hours\")\n",
    "            global tif_name2\n",
    "            tif_name2 = os.path.join(analysis_directory, \"daily_fleet_\" + value + \"_fishhours.tif\")\n",
    "            data['cell_ll_lat'] = data['cell_ll_lat'] + 0.05\n",
    "            data['cell_ll_lon'] = data['cell_ll_lon'] + 0.05\n",
    "            data.rename(columns={'cell_ll_lat': 'lat'}, inplace=True)\n",
    "            data.rename(columns={'cell_ll_lon': 'lon'}, inplace=True)\n",
    "            print(\"Done with \" + value + \"...\")\n"
   ]
  },
  {
   "cell_type": "code",
   "execution_count": 5,
   "metadata": {},
   "outputs": [],
   "source": [
    "def process_hours():\n",
    "    hours_select = data.loc[data['hours'] != 0]\n",
    "    hours_csv = os.path.join(analysis_directory, \"daily_fleet_\" + value + \"_hours.csv\")\n",
    "    hours_select.drop(columns=['date', 'flag', 'geartype', 'fishing_hours', 'mmsi_present'], inplace=True)\n",
    "    hours_select.to_csv(hours_csv, index=False)"
   ]
  },
  {
   "cell_type": "code",
   "execution_count": 6,
   "metadata": {},
   "outputs": [],
   "source": [
    "def process_fishhours():\n",
    "    fishhours_select = data.loc[data['fishing_hours'] != 0]\n",
    "    fishhours_csv = os.path.join(analysis_directory, \"daily_fleet_\" + value + \"_fishhours.csv\")\n",
    "    fishhours_select.drop(columns=['date', 'flag', 'geartype', 'hours', 'mmsi_present'], inplace=True)\n",
    "    fishhours_select.to_csv(fishhours_csv, index=False)"
   ]
  },
  {
   "cell_type": "code",
   "execution_count": 7,
   "metadata": {},
   "outputs": [
    {
     "name": "stdout",
     "output_type": "stream",
     "text": [
      "Starting processing of 2020-01-01.csv...\n",
      "F:\\Global Fishing Watch\\Fishing Intensity\\v2\\fleet-daily\\fleet-daily-csvs-100-v2-2020\\2020-01-01.csv\n",
      "Done with 2020_01_01...\n"
     ]
    },
    {
     "name": "stderr",
     "output_type": "stream",
     "text": [
      "C:\\Users\\keit8223\\AppData\\Local\\Temp\\1\\ipykernel_21680\\959929405.py:5: SettingWithCopyWarning: \n",
      "A value is trying to be set on a copy of a slice from a DataFrame\n",
      "\n",
      "See the caveats in the documentation: https://pandas.pydata.org/pandas-docs/stable/user_guide/indexing.html#returning-a-view-versus-a-copy\n",
      "  hours_select.drop(columns=['date', 'flag', 'geartype', 'fishing_hours', 'mmsi_present'], inplace=True)\n"
     ]
    },
    {
     "name": "stdout",
     "output_type": "stream",
     "text": [
      "3\n"
     ]
    },
    {
     "name": "stderr",
     "output_type": "stream",
     "text": [
      "C:\\Users\\keit8223\\AppData\\Local\\Temp\\1\\ipykernel_21680\\1813207608.py:4: SettingWithCopyWarning: \n",
      "A value is trying to be set on a copy of a slice from a DataFrame\n",
      "\n",
      "See the caveats in the documentation: https://pandas.pydata.org/pandas-docs/stable/user_guide/indexing.html#returning-a-view-versus-a-copy\n",
      "  fishhours_select.drop(columns=['date', 'flag', 'geartype', 'hours', 'mmsi_present'], inplace=True)\n"
     ]
    },
    {
     "name": "stdout",
     "output_type": "stream",
     "text": [
      "Starting processing of 2020-01-02.csv...\n",
      "F:\\Global Fishing Watch\\Fishing Intensity\\v2\\fleet-daily\\fleet-daily-csvs-100-v2-2020\\2020-01-02.csv\n",
      "Done with 2020_01_02...\n"
     ]
    },
    {
     "name": "stderr",
     "output_type": "stream",
     "text": [
      "C:\\Users\\keit8223\\AppData\\Local\\Temp\\1\\ipykernel_21680\\959929405.py:5: SettingWithCopyWarning: \n",
      "A value is trying to be set on a copy of a slice from a DataFrame\n",
      "\n",
      "See the caveats in the documentation: https://pandas.pydata.org/pandas-docs/stable/user_guide/indexing.html#returning-a-view-versus-a-copy\n",
      "  hours_select.drop(columns=['date', 'flag', 'geartype', 'fishing_hours', 'mmsi_present'], inplace=True)\n"
     ]
    },
    {
     "name": "stdout",
     "output_type": "stream",
     "text": [
      "3\n"
     ]
    },
    {
     "name": "stderr",
     "output_type": "stream",
     "text": [
      "C:\\Users\\keit8223\\AppData\\Local\\Temp\\1\\ipykernel_21680\\1813207608.py:4: SettingWithCopyWarning: \n",
      "A value is trying to be set on a copy of a slice from a DataFrame\n",
      "\n",
      "See the caveats in the documentation: https://pandas.pydata.org/pandas-docs/stable/user_guide/indexing.html#returning-a-view-versus-a-copy\n",
      "  fishhours_select.drop(columns=['date', 'flag', 'geartype', 'hours', 'mmsi_present'], inplace=True)\n"
     ]
    },
    {
     "name": "stdout",
     "output_type": "stream",
     "text": [
      "Starting processing of 2020-01-03.csv...\n",
      "F:\\Global Fishing Watch\\Fishing Intensity\\v2\\fleet-daily\\fleet-daily-csvs-100-v2-2020\\2020-01-03.csv\n",
      "Done with 2020_01_03...\n"
     ]
    },
    {
     "name": "stderr",
     "output_type": "stream",
     "text": [
      "C:\\Users\\keit8223\\AppData\\Local\\Temp\\1\\ipykernel_21680\\959929405.py:5: SettingWithCopyWarning: \n",
      "A value is trying to be set on a copy of a slice from a DataFrame\n",
      "\n",
      "See the caveats in the documentation: https://pandas.pydata.org/pandas-docs/stable/user_guide/indexing.html#returning-a-view-versus-a-copy\n",
      "  hours_select.drop(columns=['date', 'flag', 'geartype', 'fishing_hours', 'mmsi_present'], inplace=True)\n"
     ]
    },
    {
     "name": "stdout",
     "output_type": "stream",
     "text": [
      "3\n"
     ]
    },
    {
     "name": "stderr",
     "output_type": "stream",
     "text": [
      "C:\\Users\\keit8223\\AppData\\Local\\Temp\\1\\ipykernel_21680\\1813207608.py:4: SettingWithCopyWarning: \n",
      "A value is trying to be set on a copy of a slice from a DataFrame\n",
      "\n",
      "See the caveats in the documentation: https://pandas.pydata.org/pandas-docs/stable/user_guide/indexing.html#returning-a-view-versus-a-copy\n",
      "  fishhours_select.drop(columns=['date', 'flag', 'geartype', 'hours', 'mmsi_present'], inplace=True)\n"
     ]
    },
    {
     "name": "stdout",
     "output_type": "stream",
     "text": [
      "Starting processing of 2020-01-04.csv...\n",
      "F:\\Global Fishing Watch\\Fishing Intensity\\v2\\fleet-daily\\fleet-daily-csvs-100-v2-2020\\2020-01-04.csv\n",
      "Done with 2020_01_04...\n"
     ]
    },
    {
     "name": "stderr",
     "output_type": "stream",
     "text": [
      "C:\\Users\\keit8223\\AppData\\Local\\Temp\\1\\ipykernel_21680\\959929405.py:5: SettingWithCopyWarning: \n",
      "A value is trying to be set on a copy of a slice from a DataFrame\n",
      "\n",
      "See the caveats in the documentation: https://pandas.pydata.org/pandas-docs/stable/user_guide/indexing.html#returning-a-view-versus-a-copy\n",
      "  hours_select.drop(columns=['date', 'flag', 'geartype', 'fishing_hours', 'mmsi_present'], inplace=True)\n"
     ]
    },
    {
     "name": "stdout",
     "output_type": "stream",
     "text": [
      "3\n"
     ]
    },
    {
     "name": "stderr",
     "output_type": "stream",
     "text": [
      "C:\\Users\\keit8223\\AppData\\Local\\Temp\\1\\ipykernel_21680\\1813207608.py:4: SettingWithCopyWarning: \n",
      "A value is trying to be set on a copy of a slice from a DataFrame\n",
      "\n",
      "See the caveats in the documentation: https://pandas.pydata.org/pandas-docs/stable/user_guide/indexing.html#returning-a-view-versus-a-copy\n",
      "  fishhours_select.drop(columns=['date', 'flag', 'geartype', 'hours', 'mmsi_present'], inplace=True)\n"
     ]
    },
    {
     "name": "stdout",
     "output_type": "stream",
     "text": [
      "Starting processing of 2020-01-05.csv...\n",
      "F:\\Global Fishing Watch\\Fishing Intensity\\v2\\fleet-daily\\fleet-daily-csvs-100-v2-2020\\2020-01-05.csv\n",
      "Done with 2020_01_05...\n"
     ]
    },
    {
     "name": "stderr",
     "output_type": "stream",
     "text": [
      "C:\\Users\\keit8223\\AppData\\Local\\Temp\\1\\ipykernel_21680\\959929405.py:5: SettingWithCopyWarning: \n",
      "A value is trying to be set on a copy of a slice from a DataFrame\n",
      "\n",
      "See the caveats in the documentation: https://pandas.pydata.org/pandas-docs/stable/user_guide/indexing.html#returning-a-view-versus-a-copy\n",
      "  hours_select.drop(columns=['date', 'flag', 'geartype', 'fishing_hours', 'mmsi_present'], inplace=True)\n"
     ]
    },
    {
     "name": "stdout",
     "output_type": "stream",
     "text": [
      "3\n"
     ]
    },
    {
     "name": "stderr",
     "output_type": "stream",
     "text": [
      "C:\\Users\\keit8223\\AppData\\Local\\Temp\\1\\ipykernel_21680\\1813207608.py:4: SettingWithCopyWarning: \n",
      "A value is trying to be set on a copy of a slice from a DataFrame\n",
      "\n",
      "See the caveats in the documentation: https://pandas.pydata.org/pandas-docs/stable/user_guide/indexing.html#returning-a-view-versus-a-copy\n",
      "  fishhours_select.drop(columns=['date', 'flag', 'geartype', 'hours', 'mmsi_present'], inplace=True)\n"
     ]
    },
    {
     "name": "stdout",
     "output_type": "stream",
     "text": [
      "Starting processing of 2020-01-06.csv...\n",
      "F:\\Global Fishing Watch\\Fishing Intensity\\v2\\fleet-daily\\fleet-daily-csvs-100-v2-2020\\2020-01-06.csv\n",
      "Done with 2020_01_06...\n"
     ]
    },
    {
     "name": "stderr",
     "output_type": "stream",
     "text": [
      "C:\\Users\\keit8223\\AppData\\Local\\Temp\\1\\ipykernel_21680\\959929405.py:5: SettingWithCopyWarning: \n",
      "A value is trying to be set on a copy of a slice from a DataFrame\n",
      "\n",
      "See the caveats in the documentation: https://pandas.pydata.org/pandas-docs/stable/user_guide/indexing.html#returning-a-view-versus-a-copy\n",
      "  hours_select.drop(columns=['date', 'flag', 'geartype', 'fishing_hours', 'mmsi_present'], inplace=True)\n"
     ]
    },
    {
     "name": "stdout",
     "output_type": "stream",
     "text": [
      "3\n"
     ]
    },
    {
     "name": "stderr",
     "output_type": "stream",
     "text": [
      "C:\\Users\\keit8223\\AppData\\Local\\Temp\\1\\ipykernel_21680\\1813207608.py:4: SettingWithCopyWarning: \n",
      "A value is trying to be set on a copy of a slice from a DataFrame\n",
      "\n",
      "See the caveats in the documentation: https://pandas.pydata.org/pandas-docs/stable/user_guide/indexing.html#returning-a-view-versus-a-copy\n",
      "  fishhours_select.drop(columns=['date', 'flag', 'geartype', 'hours', 'mmsi_present'], inplace=True)\n"
     ]
    },
    {
     "name": "stdout",
     "output_type": "stream",
     "text": [
      "Starting processing of 2020-01-07.csv...\n",
      "F:\\Global Fishing Watch\\Fishing Intensity\\v2\\fleet-daily\\fleet-daily-csvs-100-v2-2020\\2020-01-07.csv\n",
      "Done with 2020_01_07...\n"
     ]
    },
    {
     "name": "stderr",
     "output_type": "stream",
     "text": [
      "C:\\Users\\keit8223\\AppData\\Local\\Temp\\1\\ipykernel_21680\\959929405.py:5: SettingWithCopyWarning: \n",
      "A value is trying to be set on a copy of a slice from a DataFrame\n",
      "\n",
      "See the caveats in the documentation: https://pandas.pydata.org/pandas-docs/stable/user_guide/indexing.html#returning-a-view-versus-a-copy\n",
      "  hours_select.drop(columns=['date', 'flag', 'geartype', 'fishing_hours', 'mmsi_present'], inplace=True)\n"
     ]
    },
    {
     "name": "stdout",
     "output_type": "stream",
     "text": [
      "3\n"
     ]
    },
    {
     "name": "stderr",
     "output_type": "stream",
     "text": [
      "C:\\Users\\keit8223\\AppData\\Local\\Temp\\1\\ipykernel_21680\\1813207608.py:4: SettingWithCopyWarning: \n",
      "A value is trying to be set on a copy of a slice from a DataFrame\n",
      "\n",
      "See the caveats in the documentation: https://pandas.pydata.org/pandas-docs/stable/user_guide/indexing.html#returning-a-view-versus-a-copy\n",
      "  fishhours_select.drop(columns=['date', 'flag', 'geartype', 'hours', 'mmsi_present'], inplace=True)\n"
     ]
    },
    {
     "name": "stdout",
     "output_type": "stream",
     "text": [
      "Starting processing of 2020-01-08.csv...\n",
      "F:\\Global Fishing Watch\\Fishing Intensity\\v2\\fleet-daily\\fleet-daily-csvs-100-v2-2020\\2020-01-08.csv\n",
      "Done with 2020_01_08...\n"
     ]
    },
    {
     "name": "stderr",
     "output_type": "stream",
     "text": [
      "C:\\Users\\keit8223\\AppData\\Local\\Temp\\1\\ipykernel_21680\\959929405.py:5: SettingWithCopyWarning: \n",
      "A value is trying to be set on a copy of a slice from a DataFrame\n",
      "\n",
      "See the caveats in the documentation: https://pandas.pydata.org/pandas-docs/stable/user_guide/indexing.html#returning-a-view-versus-a-copy\n",
      "  hours_select.drop(columns=['date', 'flag', 'geartype', 'fishing_hours', 'mmsi_present'], inplace=True)\n"
     ]
    },
    {
     "name": "stdout",
     "output_type": "stream",
     "text": [
      "3\n"
     ]
    },
    {
     "name": "stderr",
     "output_type": "stream",
     "text": [
      "C:\\Users\\keit8223\\AppData\\Local\\Temp\\1\\ipykernel_21680\\1813207608.py:4: SettingWithCopyWarning: \n",
      "A value is trying to be set on a copy of a slice from a DataFrame\n",
      "\n",
      "See the caveats in the documentation: https://pandas.pydata.org/pandas-docs/stable/user_guide/indexing.html#returning-a-view-versus-a-copy\n",
      "  fishhours_select.drop(columns=['date', 'flag', 'geartype', 'hours', 'mmsi_present'], inplace=True)\n"
     ]
    },
    {
     "name": "stdout",
     "output_type": "stream",
     "text": [
      "Starting processing of 2020-01-09.csv...\n",
      "F:\\Global Fishing Watch\\Fishing Intensity\\v2\\fleet-daily\\fleet-daily-csvs-100-v2-2020\\2020-01-09.csv\n",
      "Done with 2020_01_09...\n"
     ]
    },
    {
     "name": "stderr",
     "output_type": "stream",
     "text": [
      "C:\\Users\\keit8223\\AppData\\Local\\Temp\\1\\ipykernel_21680\\959929405.py:5: SettingWithCopyWarning: \n",
      "A value is trying to be set on a copy of a slice from a DataFrame\n",
      "\n",
      "See the caveats in the documentation: https://pandas.pydata.org/pandas-docs/stable/user_guide/indexing.html#returning-a-view-versus-a-copy\n",
      "  hours_select.drop(columns=['date', 'flag', 'geartype', 'fishing_hours', 'mmsi_present'], inplace=True)\n"
     ]
    },
    {
     "name": "stdout",
     "output_type": "stream",
     "text": [
      "3\n"
     ]
    },
    {
     "name": "stderr",
     "output_type": "stream",
     "text": [
      "C:\\Users\\keit8223\\AppData\\Local\\Temp\\1\\ipykernel_21680\\1813207608.py:4: SettingWithCopyWarning: \n",
      "A value is trying to be set on a copy of a slice from a DataFrame\n",
      "\n",
      "See the caveats in the documentation: https://pandas.pydata.org/pandas-docs/stable/user_guide/indexing.html#returning-a-view-versus-a-copy\n",
      "  fishhours_select.drop(columns=['date', 'flag', 'geartype', 'hours', 'mmsi_present'], inplace=True)\n"
     ]
    },
    {
     "name": "stdout",
     "output_type": "stream",
     "text": [
      "Starting processing of 2020-01-10.csv...\n",
      "F:\\Global Fishing Watch\\Fishing Intensity\\v2\\fleet-daily\\fleet-daily-csvs-100-v2-2020\\2020-01-10.csv\n",
      "Done with 2020_01_10...\n"
     ]
    },
    {
     "name": "stderr",
     "output_type": "stream",
     "text": [
      "C:\\Users\\keit8223\\AppData\\Local\\Temp\\1\\ipykernel_21680\\959929405.py:5: SettingWithCopyWarning: \n",
      "A value is trying to be set on a copy of a slice from a DataFrame\n",
      "\n",
      "See the caveats in the documentation: https://pandas.pydata.org/pandas-docs/stable/user_guide/indexing.html#returning-a-view-versus-a-copy\n",
      "  hours_select.drop(columns=['date', 'flag', 'geartype', 'fishing_hours', 'mmsi_present'], inplace=True)\n"
     ]
    },
    {
     "name": "stdout",
     "output_type": "stream",
     "text": [
      "3\n"
     ]
    },
    {
     "name": "stderr",
     "output_type": "stream",
     "text": [
      "C:\\Users\\keit8223\\AppData\\Local\\Temp\\1\\ipykernel_21680\\1813207608.py:4: SettingWithCopyWarning: \n",
      "A value is trying to be set on a copy of a slice from a DataFrame\n",
      "\n",
      "See the caveats in the documentation: https://pandas.pydata.org/pandas-docs/stable/user_guide/indexing.html#returning-a-view-versus-a-copy\n",
      "  fishhours_select.drop(columns=['date', 'flag', 'geartype', 'hours', 'mmsi_present'], inplace=True)\n"
     ]
    },
    {
     "name": "stdout",
     "output_type": "stream",
     "text": [
      "Starting processing of 2020-01-11.csv...\n",
      "F:\\Global Fishing Watch\\Fishing Intensity\\v2\\fleet-daily\\fleet-daily-csvs-100-v2-2020\\2020-01-11.csv\n",
      "Done with 2020_01_11...\n"
     ]
    },
    {
     "name": "stderr",
     "output_type": "stream",
     "text": [
      "C:\\Users\\keit8223\\AppData\\Local\\Temp\\1\\ipykernel_21680\\959929405.py:5: SettingWithCopyWarning: \n",
      "A value is trying to be set on a copy of a slice from a DataFrame\n",
      "\n",
      "See the caveats in the documentation: https://pandas.pydata.org/pandas-docs/stable/user_guide/indexing.html#returning-a-view-versus-a-copy\n",
      "  hours_select.drop(columns=['date', 'flag', 'geartype', 'fishing_hours', 'mmsi_present'], inplace=True)\n"
     ]
    },
    {
     "name": "stdout",
     "output_type": "stream",
     "text": [
      "3\n"
     ]
    },
    {
     "name": "stderr",
     "output_type": "stream",
     "text": [
      "C:\\Users\\keit8223\\AppData\\Local\\Temp\\1\\ipykernel_21680\\1813207608.py:4: SettingWithCopyWarning: \n",
      "A value is trying to be set on a copy of a slice from a DataFrame\n",
      "\n",
      "See the caveats in the documentation: https://pandas.pydata.org/pandas-docs/stable/user_guide/indexing.html#returning-a-view-versus-a-copy\n",
      "  fishhours_select.drop(columns=['date', 'flag', 'geartype', 'hours', 'mmsi_present'], inplace=True)\n"
     ]
    },
    {
     "name": "stdout",
     "output_type": "stream",
     "text": [
      "Starting processing of 2020-01-12.csv...\n",
      "F:\\Global Fishing Watch\\Fishing Intensity\\v2\\fleet-daily\\fleet-daily-csvs-100-v2-2020\\2020-01-12.csv\n",
      "Done with 2020_01_12...\n"
     ]
    },
    {
     "name": "stderr",
     "output_type": "stream",
     "text": [
      "C:\\Users\\keit8223\\AppData\\Local\\Temp\\1\\ipykernel_21680\\959929405.py:5: SettingWithCopyWarning: \n",
      "A value is trying to be set on a copy of a slice from a DataFrame\n",
      "\n",
      "See the caveats in the documentation: https://pandas.pydata.org/pandas-docs/stable/user_guide/indexing.html#returning-a-view-versus-a-copy\n",
      "  hours_select.drop(columns=['date', 'flag', 'geartype', 'fishing_hours', 'mmsi_present'], inplace=True)\n"
     ]
    },
    {
     "name": "stdout",
     "output_type": "stream",
     "text": [
      "3\n"
     ]
    },
    {
     "name": "stderr",
     "output_type": "stream",
     "text": [
      "C:\\Users\\keit8223\\AppData\\Local\\Temp\\1\\ipykernel_21680\\1813207608.py:4: SettingWithCopyWarning: \n",
      "A value is trying to be set on a copy of a slice from a DataFrame\n",
      "\n",
      "See the caveats in the documentation: https://pandas.pydata.org/pandas-docs/stable/user_guide/indexing.html#returning-a-view-versus-a-copy\n",
      "  fishhours_select.drop(columns=['date', 'flag', 'geartype', 'hours', 'mmsi_present'], inplace=True)\n"
     ]
    },
    {
     "name": "stdout",
     "output_type": "stream",
     "text": [
      "Starting processing of 2020-01-13.csv...\n",
      "F:\\Global Fishing Watch\\Fishing Intensity\\v2\\fleet-daily\\fleet-daily-csvs-100-v2-2020\\2020-01-13.csv\n",
      "Done with 2020_01_13...\n"
     ]
    },
    {
     "name": "stderr",
     "output_type": "stream",
     "text": [
      "C:\\Users\\keit8223\\AppData\\Local\\Temp\\1\\ipykernel_21680\\959929405.py:5: SettingWithCopyWarning: \n",
      "A value is trying to be set on a copy of a slice from a DataFrame\n",
      "\n",
      "See the caveats in the documentation: https://pandas.pydata.org/pandas-docs/stable/user_guide/indexing.html#returning-a-view-versus-a-copy\n",
      "  hours_select.drop(columns=['date', 'flag', 'geartype', 'fishing_hours', 'mmsi_present'], inplace=True)\n"
     ]
    },
    {
     "name": "stdout",
     "output_type": "stream",
     "text": [
      "3\n"
     ]
    },
    {
     "name": "stderr",
     "output_type": "stream",
     "text": [
      "C:\\Users\\keit8223\\AppData\\Local\\Temp\\1\\ipykernel_21680\\1813207608.py:4: SettingWithCopyWarning: \n",
      "A value is trying to be set on a copy of a slice from a DataFrame\n",
      "\n",
      "See the caveats in the documentation: https://pandas.pydata.org/pandas-docs/stable/user_guide/indexing.html#returning-a-view-versus-a-copy\n",
      "  fishhours_select.drop(columns=['date', 'flag', 'geartype', 'hours', 'mmsi_present'], inplace=True)\n"
     ]
    },
    {
     "name": "stdout",
     "output_type": "stream",
     "text": [
      "Starting processing of 2020-01-14.csv...\n",
      "F:\\Global Fishing Watch\\Fishing Intensity\\v2\\fleet-daily\\fleet-daily-csvs-100-v2-2020\\2020-01-14.csv\n",
      "Done with 2020_01_14...\n"
     ]
    },
    {
     "name": "stderr",
     "output_type": "stream",
     "text": [
      "C:\\Users\\keit8223\\AppData\\Local\\Temp\\1\\ipykernel_21680\\959929405.py:5: SettingWithCopyWarning: \n",
      "A value is trying to be set on a copy of a slice from a DataFrame\n",
      "\n",
      "See the caveats in the documentation: https://pandas.pydata.org/pandas-docs/stable/user_guide/indexing.html#returning-a-view-versus-a-copy\n",
      "  hours_select.drop(columns=['date', 'flag', 'geartype', 'fishing_hours', 'mmsi_present'], inplace=True)\n"
     ]
    },
    {
     "name": "stdout",
     "output_type": "stream",
     "text": [
      "3\n"
     ]
    },
    {
     "name": "stderr",
     "output_type": "stream",
     "text": [
      "C:\\Users\\keit8223\\AppData\\Local\\Temp\\1\\ipykernel_21680\\1813207608.py:4: SettingWithCopyWarning: \n",
      "A value is trying to be set on a copy of a slice from a DataFrame\n",
      "\n",
      "See the caveats in the documentation: https://pandas.pydata.org/pandas-docs/stable/user_guide/indexing.html#returning-a-view-versus-a-copy\n",
      "  fishhours_select.drop(columns=['date', 'flag', 'geartype', 'hours', 'mmsi_present'], inplace=True)\n"
     ]
    },
    {
     "name": "stdout",
     "output_type": "stream",
     "text": [
      "Starting processing of 2020-01-15.csv...\n",
      "F:\\Global Fishing Watch\\Fishing Intensity\\v2\\fleet-daily\\fleet-daily-csvs-100-v2-2020\\2020-01-15.csv\n",
      "Done with 2020_01_15...\n"
     ]
    },
    {
     "name": "stderr",
     "output_type": "stream",
     "text": [
      "C:\\Users\\keit8223\\AppData\\Local\\Temp\\1\\ipykernel_21680\\959929405.py:5: SettingWithCopyWarning: \n",
      "A value is trying to be set on a copy of a slice from a DataFrame\n",
      "\n",
      "See the caveats in the documentation: https://pandas.pydata.org/pandas-docs/stable/user_guide/indexing.html#returning-a-view-versus-a-copy\n",
      "  hours_select.drop(columns=['date', 'flag', 'geartype', 'fishing_hours', 'mmsi_present'], inplace=True)\n"
     ]
    },
    {
     "name": "stdout",
     "output_type": "stream",
     "text": [
      "3\n"
     ]
    },
    {
     "name": "stderr",
     "output_type": "stream",
     "text": [
      "C:\\Users\\keit8223\\AppData\\Local\\Temp\\1\\ipykernel_21680\\1813207608.py:4: SettingWithCopyWarning: \n",
      "A value is trying to be set on a copy of a slice from a DataFrame\n",
      "\n",
      "See the caveats in the documentation: https://pandas.pydata.org/pandas-docs/stable/user_guide/indexing.html#returning-a-view-versus-a-copy\n",
      "  fishhours_select.drop(columns=['date', 'flag', 'geartype', 'hours', 'mmsi_present'], inplace=True)\n"
     ]
    },
    {
     "name": "stdout",
     "output_type": "stream",
     "text": [
      "Starting processing of 2020-01-16.csv...\n",
      "F:\\Global Fishing Watch\\Fishing Intensity\\v2\\fleet-daily\\fleet-daily-csvs-100-v2-2020\\2020-01-16.csv\n",
      "Done with 2020_01_16...\n"
     ]
    },
    {
     "name": "stderr",
     "output_type": "stream",
     "text": [
      "C:\\Users\\keit8223\\AppData\\Local\\Temp\\1\\ipykernel_21680\\959929405.py:5: SettingWithCopyWarning: \n",
      "A value is trying to be set on a copy of a slice from a DataFrame\n",
      "\n",
      "See the caveats in the documentation: https://pandas.pydata.org/pandas-docs/stable/user_guide/indexing.html#returning-a-view-versus-a-copy\n",
      "  hours_select.drop(columns=['date', 'flag', 'geartype', 'fishing_hours', 'mmsi_present'], inplace=True)\n"
     ]
    },
    {
     "name": "stdout",
     "output_type": "stream",
     "text": [
      "3\n"
     ]
    },
    {
     "name": "stderr",
     "output_type": "stream",
     "text": [
      "C:\\Users\\keit8223\\AppData\\Local\\Temp\\1\\ipykernel_21680\\1813207608.py:4: SettingWithCopyWarning: \n",
      "A value is trying to be set on a copy of a slice from a DataFrame\n",
      "\n",
      "See the caveats in the documentation: https://pandas.pydata.org/pandas-docs/stable/user_guide/indexing.html#returning-a-view-versus-a-copy\n",
      "  fishhours_select.drop(columns=['date', 'flag', 'geartype', 'hours', 'mmsi_present'], inplace=True)\n"
     ]
    },
    {
     "name": "stdout",
     "output_type": "stream",
     "text": [
      "Starting processing of 2020-01-17.csv...\n",
      "F:\\Global Fishing Watch\\Fishing Intensity\\v2\\fleet-daily\\fleet-daily-csvs-100-v2-2020\\2020-01-17.csv\n",
      "Done with 2020_01_17...\n"
     ]
    },
    {
     "name": "stderr",
     "output_type": "stream",
     "text": [
      "C:\\Users\\keit8223\\AppData\\Local\\Temp\\1\\ipykernel_21680\\959929405.py:5: SettingWithCopyWarning: \n",
      "A value is trying to be set on a copy of a slice from a DataFrame\n",
      "\n",
      "See the caveats in the documentation: https://pandas.pydata.org/pandas-docs/stable/user_guide/indexing.html#returning-a-view-versus-a-copy\n",
      "  hours_select.drop(columns=['date', 'flag', 'geartype', 'fishing_hours', 'mmsi_present'], inplace=True)\n"
     ]
    },
    {
     "name": "stdout",
     "output_type": "stream",
     "text": [
      "3\n"
     ]
    },
    {
     "name": "stderr",
     "output_type": "stream",
     "text": [
      "C:\\Users\\keit8223\\AppData\\Local\\Temp\\1\\ipykernel_21680\\1813207608.py:4: SettingWithCopyWarning: \n",
      "A value is trying to be set on a copy of a slice from a DataFrame\n",
      "\n",
      "See the caveats in the documentation: https://pandas.pydata.org/pandas-docs/stable/user_guide/indexing.html#returning-a-view-versus-a-copy\n",
      "  fishhours_select.drop(columns=['date', 'flag', 'geartype', 'hours', 'mmsi_present'], inplace=True)\n"
     ]
    },
    {
     "name": "stdout",
     "output_type": "stream",
     "text": [
      "Starting processing of 2020-01-18.csv...\n",
      "F:\\Global Fishing Watch\\Fishing Intensity\\v2\\fleet-daily\\fleet-daily-csvs-100-v2-2020\\2020-01-18.csv\n",
      "Done with 2020_01_18...\n"
     ]
    },
    {
     "name": "stderr",
     "output_type": "stream",
     "text": [
      "C:\\Users\\keit8223\\AppData\\Local\\Temp\\1\\ipykernel_21680\\959929405.py:5: SettingWithCopyWarning: \n",
      "A value is trying to be set on a copy of a slice from a DataFrame\n",
      "\n",
      "See the caveats in the documentation: https://pandas.pydata.org/pandas-docs/stable/user_guide/indexing.html#returning-a-view-versus-a-copy\n",
      "  hours_select.drop(columns=['date', 'flag', 'geartype', 'fishing_hours', 'mmsi_present'], inplace=True)\n"
     ]
    },
    {
     "name": "stdout",
     "output_type": "stream",
     "text": [
      "3\n"
     ]
    },
    {
     "name": "stderr",
     "output_type": "stream",
     "text": [
      "C:\\Users\\keit8223\\AppData\\Local\\Temp\\1\\ipykernel_21680\\1813207608.py:4: SettingWithCopyWarning: \n",
      "A value is trying to be set on a copy of a slice from a DataFrame\n",
      "\n",
      "See the caveats in the documentation: https://pandas.pydata.org/pandas-docs/stable/user_guide/indexing.html#returning-a-view-versus-a-copy\n",
      "  fishhours_select.drop(columns=['date', 'flag', 'geartype', 'hours', 'mmsi_present'], inplace=True)\n"
     ]
    },
    {
     "name": "stdout",
     "output_type": "stream",
     "text": [
      "Starting processing of 2020-01-19.csv...\n",
      "F:\\Global Fishing Watch\\Fishing Intensity\\v2\\fleet-daily\\fleet-daily-csvs-100-v2-2020\\2020-01-19.csv\n",
      "Done with 2020_01_19...\n"
     ]
    },
    {
     "name": "stderr",
     "output_type": "stream",
     "text": [
      "C:\\Users\\keit8223\\AppData\\Local\\Temp\\1\\ipykernel_21680\\959929405.py:5: SettingWithCopyWarning: \n",
      "A value is trying to be set on a copy of a slice from a DataFrame\n",
      "\n",
      "See the caveats in the documentation: https://pandas.pydata.org/pandas-docs/stable/user_guide/indexing.html#returning-a-view-versus-a-copy\n",
      "  hours_select.drop(columns=['date', 'flag', 'geartype', 'fishing_hours', 'mmsi_present'], inplace=True)\n"
     ]
    },
    {
     "name": "stdout",
     "output_type": "stream",
     "text": [
      "3\n"
     ]
    },
    {
     "name": "stderr",
     "output_type": "stream",
     "text": [
      "C:\\Users\\keit8223\\AppData\\Local\\Temp\\1\\ipykernel_21680\\1813207608.py:4: SettingWithCopyWarning: \n",
      "A value is trying to be set on a copy of a slice from a DataFrame\n",
      "\n",
      "See the caveats in the documentation: https://pandas.pydata.org/pandas-docs/stable/user_guide/indexing.html#returning-a-view-versus-a-copy\n",
      "  fishhours_select.drop(columns=['date', 'flag', 'geartype', 'hours', 'mmsi_present'], inplace=True)\n"
     ]
    },
    {
     "name": "stdout",
     "output_type": "stream",
     "text": [
      "Starting processing of 2020-01-20.csv...\n",
      "F:\\Global Fishing Watch\\Fishing Intensity\\v2\\fleet-daily\\fleet-daily-csvs-100-v2-2020\\2020-01-20.csv\n",
      "Done with 2020_01_20...\n"
     ]
    },
    {
     "name": "stderr",
     "output_type": "stream",
     "text": [
      "C:\\Users\\keit8223\\AppData\\Local\\Temp\\1\\ipykernel_21680\\959929405.py:5: SettingWithCopyWarning: \n",
      "A value is trying to be set on a copy of a slice from a DataFrame\n",
      "\n",
      "See the caveats in the documentation: https://pandas.pydata.org/pandas-docs/stable/user_guide/indexing.html#returning-a-view-versus-a-copy\n",
      "  hours_select.drop(columns=['date', 'flag', 'geartype', 'fishing_hours', 'mmsi_present'], inplace=True)\n"
     ]
    },
    {
     "name": "stdout",
     "output_type": "stream",
     "text": [
      "3\n"
     ]
    },
    {
     "name": "stderr",
     "output_type": "stream",
     "text": [
      "C:\\Users\\keit8223\\AppData\\Local\\Temp\\1\\ipykernel_21680\\1813207608.py:4: SettingWithCopyWarning: \n",
      "A value is trying to be set on a copy of a slice from a DataFrame\n",
      "\n",
      "See the caveats in the documentation: https://pandas.pydata.org/pandas-docs/stable/user_guide/indexing.html#returning-a-view-versus-a-copy\n",
      "  fishhours_select.drop(columns=['date', 'flag', 'geartype', 'hours', 'mmsi_present'], inplace=True)\n"
     ]
    },
    {
     "name": "stdout",
     "output_type": "stream",
     "text": [
      "Starting processing of 2020-01-21.csv...\n",
      "F:\\Global Fishing Watch\\Fishing Intensity\\v2\\fleet-daily\\fleet-daily-csvs-100-v2-2020\\2020-01-21.csv\n",
      "Done with 2020_01_21...\n"
     ]
    },
    {
     "name": "stderr",
     "output_type": "stream",
     "text": [
      "C:\\Users\\keit8223\\AppData\\Local\\Temp\\1\\ipykernel_21680\\959929405.py:5: SettingWithCopyWarning: \n",
      "A value is trying to be set on a copy of a slice from a DataFrame\n",
      "\n",
      "See the caveats in the documentation: https://pandas.pydata.org/pandas-docs/stable/user_guide/indexing.html#returning-a-view-versus-a-copy\n",
      "  hours_select.drop(columns=['date', 'flag', 'geartype', 'fishing_hours', 'mmsi_present'], inplace=True)\n"
     ]
    },
    {
     "name": "stdout",
     "output_type": "stream",
     "text": [
      "3\n"
     ]
    },
    {
     "name": "stderr",
     "output_type": "stream",
     "text": [
      "C:\\Users\\keit8223\\AppData\\Local\\Temp\\1\\ipykernel_21680\\1813207608.py:4: SettingWithCopyWarning: \n",
      "A value is trying to be set on a copy of a slice from a DataFrame\n",
      "\n",
      "See the caveats in the documentation: https://pandas.pydata.org/pandas-docs/stable/user_guide/indexing.html#returning-a-view-versus-a-copy\n",
      "  fishhours_select.drop(columns=['date', 'flag', 'geartype', 'hours', 'mmsi_present'], inplace=True)\n"
     ]
    },
    {
     "name": "stdout",
     "output_type": "stream",
     "text": [
      "Starting processing of 2020-01-22.csv...\n",
      "F:\\Global Fishing Watch\\Fishing Intensity\\v2\\fleet-daily\\fleet-daily-csvs-100-v2-2020\\2020-01-22.csv\n",
      "Done with 2020_01_22...\n"
     ]
    },
    {
     "name": "stderr",
     "output_type": "stream",
     "text": [
      "C:\\Users\\keit8223\\AppData\\Local\\Temp\\1\\ipykernel_21680\\959929405.py:5: SettingWithCopyWarning: \n",
      "A value is trying to be set on a copy of a slice from a DataFrame\n",
      "\n",
      "See the caveats in the documentation: https://pandas.pydata.org/pandas-docs/stable/user_guide/indexing.html#returning-a-view-versus-a-copy\n",
      "  hours_select.drop(columns=['date', 'flag', 'geartype', 'fishing_hours', 'mmsi_present'], inplace=True)\n"
     ]
    },
    {
     "name": "stdout",
     "output_type": "stream",
     "text": [
      "3\n"
     ]
    },
    {
     "name": "stderr",
     "output_type": "stream",
     "text": [
      "C:\\Users\\keit8223\\AppData\\Local\\Temp\\1\\ipykernel_21680\\1813207608.py:4: SettingWithCopyWarning: \n",
      "A value is trying to be set on a copy of a slice from a DataFrame\n",
      "\n",
      "See the caveats in the documentation: https://pandas.pydata.org/pandas-docs/stable/user_guide/indexing.html#returning-a-view-versus-a-copy\n",
      "  fishhours_select.drop(columns=['date', 'flag', 'geartype', 'hours', 'mmsi_present'], inplace=True)\n"
     ]
    },
    {
     "name": "stdout",
     "output_type": "stream",
     "text": [
      "Starting processing of 2020-01-23.csv...\n",
      "F:\\Global Fishing Watch\\Fishing Intensity\\v2\\fleet-daily\\fleet-daily-csvs-100-v2-2020\\2020-01-23.csv\n",
      "Done with 2020_01_23...\n"
     ]
    },
    {
     "name": "stderr",
     "output_type": "stream",
     "text": [
      "C:\\Users\\keit8223\\AppData\\Local\\Temp\\1\\ipykernel_21680\\959929405.py:5: SettingWithCopyWarning: \n",
      "A value is trying to be set on a copy of a slice from a DataFrame\n",
      "\n",
      "See the caveats in the documentation: https://pandas.pydata.org/pandas-docs/stable/user_guide/indexing.html#returning-a-view-versus-a-copy\n",
      "  hours_select.drop(columns=['date', 'flag', 'geartype', 'fishing_hours', 'mmsi_present'], inplace=True)\n"
     ]
    },
    {
     "name": "stdout",
     "output_type": "stream",
     "text": [
      "3\n"
     ]
    },
    {
     "name": "stderr",
     "output_type": "stream",
     "text": [
      "C:\\Users\\keit8223\\AppData\\Local\\Temp\\1\\ipykernel_21680\\1813207608.py:4: SettingWithCopyWarning: \n",
      "A value is trying to be set on a copy of a slice from a DataFrame\n",
      "\n",
      "See the caveats in the documentation: https://pandas.pydata.org/pandas-docs/stable/user_guide/indexing.html#returning-a-view-versus-a-copy\n",
      "  fishhours_select.drop(columns=['date', 'flag', 'geartype', 'hours', 'mmsi_present'], inplace=True)\n"
     ]
    },
    {
     "name": "stdout",
     "output_type": "stream",
     "text": [
      "Starting processing of 2020-01-24.csv...\n",
      "F:\\Global Fishing Watch\\Fishing Intensity\\v2\\fleet-daily\\fleet-daily-csvs-100-v2-2020\\2020-01-24.csv\n",
      "Done with 2020_01_24...\n"
     ]
    },
    {
     "name": "stderr",
     "output_type": "stream",
     "text": [
      "C:\\Users\\keit8223\\AppData\\Local\\Temp\\1\\ipykernel_21680\\959929405.py:5: SettingWithCopyWarning: \n",
      "A value is trying to be set on a copy of a slice from a DataFrame\n",
      "\n",
      "See the caveats in the documentation: https://pandas.pydata.org/pandas-docs/stable/user_guide/indexing.html#returning-a-view-versus-a-copy\n",
      "  hours_select.drop(columns=['date', 'flag', 'geartype', 'fishing_hours', 'mmsi_present'], inplace=True)\n"
     ]
    },
    {
     "name": "stdout",
     "output_type": "stream",
     "text": [
      "3\n"
     ]
    },
    {
     "name": "stderr",
     "output_type": "stream",
     "text": [
      "C:\\Users\\keit8223\\AppData\\Local\\Temp\\1\\ipykernel_21680\\1813207608.py:4: SettingWithCopyWarning: \n",
      "A value is trying to be set on a copy of a slice from a DataFrame\n",
      "\n",
      "See the caveats in the documentation: https://pandas.pydata.org/pandas-docs/stable/user_guide/indexing.html#returning-a-view-versus-a-copy\n",
      "  fishhours_select.drop(columns=['date', 'flag', 'geartype', 'hours', 'mmsi_present'], inplace=True)\n"
     ]
    },
    {
     "name": "stdout",
     "output_type": "stream",
     "text": [
      "Starting processing of 2020-01-25.csv...\n",
      "F:\\Global Fishing Watch\\Fishing Intensity\\v2\\fleet-daily\\fleet-daily-csvs-100-v2-2020\\2020-01-25.csv\n",
      "Done with 2020_01_25...\n"
     ]
    },
    {
     "name": "stderr",
     "output_type": "stream",
     "text": [
      "C:\\Users\\keit8223\\AppData\\Local\\Temp\\1\\ipykernel_21680\\959929405.py:5: SettingWithCopyWarning: \n",
      "A value is trying to be set on a copy of a slice from a DataFrame\n",
      "\n",
      "See the caveats in the documentation: https://pandas.pydata.org/pandas-docs/stable/user_guide/indexing.html#returning-a-view-versus-a-copy\n",
      "  hours_select.drop(columns=['date', 'flag', 'geartype', 'fishing_hours', 'mmsi_present'], inplace=True)\n"
     ]
    },
    {
     "name": "stdout",
     "output_type": "stream",
     "text": [
      "3\n"
     ]
    },
    {
     "name": "stderr",
     "output_type": "stream",
     "text": [
      "C:\\Users\\keit8223\\AppData\\Local\\Temp\\1\\ipykernel_21680\\1813207608.py:4: SettingWithCopyWarning: \n",
      "A value is trying to be set on a copy of a slice from a DataFrame\n",
      "\n",
      "See the caveats in the documentation: https://pandas.pydata.org/pandas-docs/stable/user_guide/indexing.html#returning-a-view-versus-a-copy\n",
      "  fishhours_select.drop(columns=['date', 'flag', 'geartype', 'hours', 'mmsi_present'], inplace=True)\n"
     ]
    },
    {
     "name": "stdout",
     "output_type": "stream",
     "text": [
      "Starting processing of 2020-01-26.csv...\n",
      "F:\\Global Fishing Watch\\Fishing Intensity\\v2\\fleet-daily\\fleet-daily-csvs-100-v2-2020\\2020-01-26.csv\n",
      "Done with 2020_01_26...\n"
     ]
    },
    {
     "name": "stderr",
     "output_type": "stream",
     "text": [
      "C:\\Users\\keit8223\\AppData\\Local\\Temp\\1\\ipykernel_21680\\959929405.py:5: SettingWithCopyWarning: \n",
      "A value is trying to be set on a copy of a slice from a DataFrame\n",
      "\n",
      "See the caveats in the documentation: https://pandas.pydata.org/pandas-docs/stable/user_guide/indexing.html#returning-a-view-versus-a-copy\n",
      "  hours_select.drop(columns=['date', 'flag', 'geartype', 'fishing_hours', 'mmsi_present'], inplace=True)\n"
     ]
    },
    {
     "name": "stdout",
     "output_type": "stream",
     "text": [
      "3\n"
     ]
    },
    {
     "name": "stderr",
     "output_type": "stream",
     "text": [
      "C:\\Users\\keit8223\\AppData\\Local\\Temp\\1\\ipykernel_21680\\1813207608.py:4: SettingWithCopyWarning: \n",
      "A value is trying to be set on a copy of a slice from a DataFrame\n",
      "\n",
      "See the caveats in the documentation: https://pandas.pydata.org/pandas-docs/stable/user_guide/indexing.html#returning-a-view-versus-a-copy\n",
      "  fishhours_select.drop(columns=['date', 'flag', 'geartype', 'hours', 'mmsi_present'], inplace=True)\n"
     ]
    },
    {
     "name": "stdout",
     "output_type": "stream",
     "text": [
      "Starting processing of 2020-01-27.csv...\n",
      "F:\\Global Fishing Watch\\Fishing Intensity\\v2\\fleet-daily\\fleet-daily-csvs-100-v2-2020\\2020-01-27.csv\n",
      "Done with 2020_01_27...\n"
     ]
    },
    {
     "name": "stderr",
     "output_type": "stream",
     "text": [
      "C:\\Users\\keit8223\\AppData\\Local\\Temp\\1\\ipykernel_21680\\959929405.py:5: SettingWithCopyWarning: \n",
      "A value is trying to be set on a copy of a slice from a DataFrame\n",
      "\n",
      "See the caveats in the documentation: https://pandas.pydata.org/pandas-docs/stable/user_guide/indexing.html#returning-a-view-versus-a-copy\n",
      "  hours_select.drop(columns=['date', 'flag', 'geartype', 'fishing_hours', 'mmsi_present'], inplace=True)\n"
     ]
    },
    {
     "name": "stdout",
     "output_type": "stream",
     "text": [
      "3\n"
     ]
    },
    {
     "name": "stderr",
     "output_type": "stream",
     "text": [
      "C:\\Users\\keit8223\\AppData\\Local\\Temp\\1\\ipykernel_21680\\1813207608.py:4: SettingWithCopyWarning: \n",
      "A value is trying to be set on a copy of a slice from a DataFrame\n",
      "\n",
      "See the caveats in the documentation: https://pandas.pydata.org/pandas-docs/stable/user_guide/indexing.html#returning-a-view-versus-a-copy\n",
      "  fishhours_select.drop(columns=['date', 'flag', 'geartype', 'hours', 'mmsi_present'], inplace=True)\n"
     ]
    },
    {
     "name": "stdout",
     "output_type": "stream",
     "text": [
      "Starting processing of 2020-01-28.csv...\n",
      "F:\\Global Fishing Watch\\Fishing Intensity\\v2\\fleet-daily\\fleet-daily-csvs-100-v2-2020\\2020-01-28.csv\n",
      "Done with 2020_01_28...\n"
     ]
    },
    {
     "name": "stderr",
     "output_type": "stream",
     "text": [
      "C:\\Users\\keit8223\\AppData\\Local\\Temp\\1\\ipykernel_21680\\959929405.py:5: SettingWithCopyWarning: \n",
      "A value is trying to be set on a copy of a slice from a DataFrame\n",
      "\n",
      "See the caveats in the documentation: https://pandas.pydata.org/pandas-docs/stable/user_guide/indexing.html#returning-a-view-versus-a-copy\n",
      "  hours_select.drop(columns=['date', 'flag', 'geartype', 'fishing_hours', 'mmsi_present'], inplace=True)\n"
     ]
    },
    {
     "name": "stdout",
     "output_type": "stream",
     "text": [
      "3\n"
     ]
    },
    {
     "name": "stderr",
     "output_type": "stream",
     "text": [
      "C:\\Users\\keit8223\\AppData\\Local\\Temp\\1\\ipykernel_21680\\1813207608.py:4: SettingWithCopyWarning: \n",
      "A value is trying to be set on a copy of a slice from a DataFrame\n",
      "\n",
      "See the caveats in the documentation: https://pandas.pydata.org/pandas-docs/stable/user_guide/indexing.html#returning-a-view-versus-a-copy\n",
      "  fishhours_select.drop(columns=['date', 'flag', 'geartype', 'hours', 'mmsi_present'], inplace=True)\n"
     ]
    },
    {
     "name": "stdout",
     "output_type": "stream",
     "text": [
      "Starting processing of 2020-01-29.csv...\n",
      "F:\\Global Fishing Watch\\Fishing Intensity\\v2\\fleet-daily\\fleet-daily-csvs-100-v2-2020\\2020-01-29.csv\n",
      "Done with 2020_01_29...\n"
     ]
    },
    {
     "name": "stderr",
     "output_type": "stream",
     "text": [
      "C:\\Users\\keit8223\\AppData\\Local\\Temp\\1\\ipykernel_21680\\959929405.py:5: SettingWithCopyWarning: \n",
      "A value is trying to be set on a copy of a slice from a DataFrame\n",
      "\n",
      "See the caveats in the documentation: https://pandas.pydata.org/pandas-docs/stable/user_guide/indexing.html#returning-a-view-versus-a-copy\n",
      "  hours_select.drop(columns=['date', 'flag', 'geartype', 'fishing_hours', 'mmsi_present'], inplace=True)\n"
     ]
    },
    {
     "name": "stdout",
     "output_type": "stream",
     "text": [
      "3\n"
     ]
    },
    {
     "name": "stderr",
     "output_type": "stream",
     "text": [
      "C:\\Users\\keit8223\\AppData\\Local\\Temp\\1\\ipykernel_21680\\1813207608.py:4: SettingWithCopyWarning: \n",
      "A value is trying to be set on a copy of a slice from a DataFrame\n",
      "\n",
      "See the caveats in the documentation: https://pandas.pydata.org/pandas-docs/stable/user_guide/indexing.html#returning-a-view-versus-a-copy\n",
      "  fishhours_select.drop(columns=['date', 'flag', 'geartype', 'hours', 'mmsi_present'], inplace=True)\n"
     ]
    },
    {
     "name": "stdout",
     "output_type": "stream",
     "text": [
      "Starting processing of 2020-01-30.csv...\n",
      "F:\\Global Fishing Watch\\Fishing Intensity\\v2\\fleet-daily\\fleet-daily-csvs-100-v2-2020\\2020-01-30.csv\n",
      "Done with 2020_01_30...\n"
     ]
    },
    {
     "name": "stderr",
     "output_type": "stream",
     "text": [
      "C:\\Users\\keit8223\\AppData\\Local\\Temp\\1\\ipykernel_21680\\959929405.py:5: SettingWithCopyWarning: \n",
      "A value is trying to be set on a copy of a slice from a DataFrame\n",
      "\n",
      "See the caveats in the documentation: https://pandas.pydata.org/pandas-docs/stable/user_guide/indexing.html#returning-a-view-versus-a-copy\n",
      "  hours_select.drop(columns=['date', 'flag', 'geartype', 'fishing_hours', 'mmsi_present'], inplace=True)\n"
     ]
    },
    {
     "name": "stdout",
     "output_type": "stream",
     "text": [
      "3\n"
     ]
    },
    {
     "name": "stderr",
     "output_type": "stream",
     "text": [
      "C:\\Users\\keit8223\\AppData\\Local\\Temp\\1\\ipykernel_21680\\1813207608.py:4: SettingWithCopyWarning: \n",
      "A value is trying to be set on a copy of a slice from a DataFrame\n",
      "\n",
      "See the caveats in the documentation: https://pandas.pydata.org/pandas-docs/stable/user_guide/indexing.html#returning-a-view-versus-a-copy\n",
      "  fishhours_select.drop(columns=['date', 'flag', 'geartype', 'hours', 'mmsi_present'], inplace=True)\n"
     ]
    },
    {
     "name": "stdout",
     "output_type": "stream",
     "text": [
      "Starting processing of 2020-01-31.csv...\n",
      "F:\\Global Fishing Watch\\Fishing Intensity\\v2\\fleet-daily\\fleet-daily-csvs-100-v2-2020\\2020-01-31.csv\n",
      "Done with 2020_01_31...\n"
     ]
    },
    {
     "name": "stderr",
     "output_type": "stream",
     "text": [
      "C:\\Users\\keit8223\\AppData\\Local\\Temp\\1\\ipykernel_21680\\959929405.py:5: SettingWithCopyWarning: \n",
      "A value is trying to be set on a copy of a slice from a DataFrame\n",
      "\n",
      "See the caveats in the documentation: https://pandas.pydata.org/pandas-docs/stable/user_guide/indexing.html#returning-a-view-versus-a-copy\n",
      "  hours_select.drop(columns=['date', 'flag', 'geartype', 'fishing_hours', 'mmsi_present'], inplace=True)\n"
     ]
    },
    {
     "name": "stdout",
     "output_type": "stream",
     "text": [
      "3\n"
     ]
    },
    {
     "name": "stderr",
     "output_type": "stream",
     "text": [
      "C:\\Users\\keit8223\\AppData\\Local\\Temp\\1\\ipykernel_21680\\1813207608.py:4: SettingWithCopyWarning: \n",
      "A value is trying to be set on a copy of a slice from a DataFrame\n",
      "\n",
      "See the caveats in the documentation: https://pandas.pydata.org/pandas-docs/stable/user_guide/indexing.html#returning-a-view-versus-a-copy\n",
      "  fishhours_select.drop(columns=['date', 'flag', 'geartype', 'hours', 'mmsi_present'], inplace=True)\n"
     ]
    },
    {
     "name": "stdout",
     "output_type": "stream",
     "text": [
      "Starting processing of 2020-02-01.csv...\n",
      "F:\\Global Fishing Watch\\Fishing Intensity\\v2\\fleet-daily\\fleet-daily-csvs-100-v2-2020\\2020-02-01.csv\n",
      "Done with 2020_02_01...\n"
     ]
    },
    {
     "name": "stderr",
     "output_type": "stream",
     "text": [
      "C:\\Users\\keit8223\\AppData\\Local\\Temp\\1\\ipykernel_21680\\959929405.py:5: SettingWithCopyWarning: \n",
      "A value is trying to be set on a copy of a slice from a DataFrame\n",
      "\n",
      "See the caveats in the documentation: https://pandas.pydata.org/pandas-docs/stable/user_guide/indexing.html#returning-a-view-versus-a-copy\n",
      "  hours_select.drop(columns=['date', 'flag', 'geartype', 'fishing_hours', 'mmsi_present'], inplace=True)\n"
     ]
    },
    {
     "name": "stdout",
     "output_type": "stream",
     "text": [
      "3\n"
     ]
    },
    {
     "name": "stderr",
     "output_type": "stream",
     "text": [
      "C:\\Users\\keit8223\\AppData\\Local\\Temp\\1\\ipykernel_21680\\1813207608.py:4: SettingWithCopyWarning: \n",
      "A value is trying to be set on a copy of a slice from a DataFrame\n",
      "\n",
      "See the caveats in the documentation: https://pandas.pydata.org/pandas-docs/stable/user_guide/indexing.html#returning-a-view-versus-a-copy\n",
      "  fishhours_select.drop(columns=['date', 'flag', 'geartype', 'hours', 'mmsi_present'], inplace=True)\n"
     ]
    },
    {
     "name": "stdout",
     "output_type": "stream",
     "text": [
      "Starting processing of 2020-02-02.csv...\n",
      "F:\\Global Fishing Watch\\Fishing Intensity\\v2\\fleet-daily\\fleet-daily-csvs-100-v2-2020\\2020-02-02.csv\n",
      "Done with 2020_02_02...\n"
     ]
    },
    {
     "name": "stderr",
     "output_type": "stream",
     "text": [
      "C:\\Users\\keit8223\\AppData\\Local\\Temp\\1\\ipykernel_21680\\959929405.py:5: SettingWithCopyWarning: \n",
      "A value is trying to be set on a copy of a slice from a DataFrame\n",
      "\n",
      "See the caveats in the documentation: https://pandas.pydata.org/pandas-docs/stable/user_guide/indexing.html#returning-a-view-versus-a-copy\n",
      "  hours_select.drop(columns=['date', 'flag', 'geartype', 'fishing_hours', 'mmsi_present'], inplace=True)\n"
     ]
    },
    {
     "name": "stdout",
     "output_type": "stream",
     "text": [
      "3\n"
     ]
    },
    {
     "name": "stderr",
     "output_type": "stream",
     "text": [
      "C:\\Users\\keit8223\\AppData\\Local\\Temp\\1\\ipykernel_21680\\1813207608.py:4: SettingWithCopyWarning: \n",
      "A value is trying to be set on a copy of a slice from a DataFrame\n",
      "\n",
      "See the caveats in the documentation: https://pandas.pydata.org/pandas-docs/stable/user_guide/indexing.html#returning-a-view-versus-a-copy\n",
      "  fishhours_select.drop(columns=['date', 'flag', 'geartype', 'hours', 'mmsi_present'], inplace=True)\n"
     ]
    },
    {
     "name": "stdout",
     "output_type": "stream",
     "text": [
      "Starting processing of 2020-02-03.csv...\n",
      "F:\\Global Fishing Watch\\Fishing Intensity\\v2\\fleet-daily\\fleet-daily-csvs-100-v2-2020\\2020-02-03.csv\n",
      "Done with 2020_02_03...\n"
     ]
    },
    {
     "name": "stderr",
     "output_type": "stream",
     "text": [
      "C:\\Users\\keit8223\\AppData\\Local\\Temp\\1\\ipykernel_21680\\959929405.py:5: SettingWithCopyWarning: \n",
      "A value is trying to be set on a copy of a slice from a DataFrame\n",
      "\n",
      "See the caveats in the documentation: https://pandas.pydata.org/pandas-docs/stable/user_guide/indexing.html#returning-a-view-versus-a-copy\n",
      "  hours_select.drop(columns=['date', 'flag', 'geartype', 'fishing_hours', 'mmsi_present'], inplace=True)\n"
     ]
    },
    {
     "name": "stdout",
     "output_type": "stream",
     "text": [
      "3\n"
     ]
    },
    {
     "name": "stderr",
     "output_type": "stream",
     "text": [
      "C:\\Users\\keit8223\\AppData\\Local\\Temp\\1\\ipykernel_21680\\1813207608.py:4: SettingWithCopyWarning: \n",
      "A value is trying to be set on a copy of a slice from a DataFrame\n",
      "\n",
      "See the caveats in the documentation: https://pandas.pydata.org/pandas-docs/stable/user_guide/indexing.html#returning-a-view-versus-a-copy\n",
      "  fishhours_select.drop(columns=['date', 'flag', 'geartype', 'hours', 'mmsi_present'], inplace=True)\n"
     ]
    },
    {
     "name": "stdout",
     "output_type": "stream",
     "text": [
      "Starting processing of 2020-02-04.csv...\n",
      "F:\\Global Fishing Watch\\Fishing Intensity\\v2\\fleet-daily\\fleet-daily-csvs-100-v2-2020\\2020-02-04.csv\n",
      "Done with 2020_02_04...\n"
     ]
    },
    {
     "name": "stderr",
     "output_type": "stream",
     "text": [
      "C:\\Users\\keit8223\\AppData\\Local\\Temp\\1\\ipykernel_21680\\959929405.py:5: SettingWithCopyWarning: \n",
      "A value is trying to be set on a copy of a slice from a DataFrame\n",
      "\n",
      "See the caveats in the documentation: https://pandas.pydata.org/pandas-docs/stable/user_guide/indexing.html#returning-a-view-versus-a-copy\n",
      "  hours_select.drop(columns=['date', 'flag', 'geartype', 'fishing_hours', 'mmsi_present'], inplace=True)\n"
     ]
    },
    {
     "name": "stdout",
     "output_type": "stream",
     "text": [
      "3\n"
     ]
    },
    {
     "name": "stderr",
     "output_type": "stream",
     "text": [
      "C:\\Users\\keit8223\\AppData\\Local\\Temp\\1\\ipykernel_21680\\1813207608.py:4: SettingWithCopyWarning: \n",
      "A value is trying to be set on a copy of a slice from a DataFrame\n",
      "\n",
      "See the caveats in the documentation: https://pandas.pydata.org/pandas-docs/stable/user_guide/indexing.html#returning-a-view-versus-a-copy\n",
      "  fishhours_select.drop(columns=['date', 'flag', 'geartype', 'hours', 'mmsi_present'], inplace=True)\n"
     ]
    },
    {
     "name": "stdout",
     "output_type": "stream",
     "text": [
      "Starting processing of 2020-02-05.csv...\n",
      "F:\\Global Fishing Watch\\Fishing Intensity\\v2\\fleet-daily\\fleet-daily-csvs-100-v2-2020\\2020-02-05.csv\n",
      "Done with 2020_02_05...\n"
     ]
    },
    {
     "name": "stderr",
     "output_type": "stream",
     "text": [
      "C:\\Users\\keit8223\\AppData\\Local\\Temp\\1\\ipykernel_21680\\959929405.py:5: SettingWithCopyWarning: \n",
      "A value is trying to be set on a copy of a slice from a DataFrame\n",
      "\n",
      "See the caveats in the documentation: https://pandas.pydata.org/pandas-docs/stable/user_guide/indexing.html#returning-a-view-versus-a-copy\n",
      "  hours_select.drop(columns=['date', 'flag', 'geartype', 'fishing_hours', 'mmsi_present'], inplace=True)\n"
     ]
    },
    {
     "name": "stdout",
     "output_type": "stream",
     "text": [
      "3\n"
     ]
    },
    {
     "name": "stderr",
     "output_type": "stream",
     "text": [
      "C:\\Users\\keit8223\\AppData\\Local\\Temp\\1\\ipykernel_21680\\1813207608.py:4: SettingWithCopyWarning: \n",
      "A value is trying to be set on a copy of a slice from a DataFrame\n",
      "\n",
      "See the caveats in the documentation: https://pandas.pydata.org/pandas-docs/stable/user_guide/indexing.html#returning-a-view-versus-a-copy\n",
      "  fishhours_select.drop(columns=['date', 'flag', 'geartype', 'hours', 'mmsi_present'], inplace=True)\n"
     ]
    },
    {
     "name": "stdout",
     "output_type": "stream",
     "text": [
      "Starting processing of 2020-02-06.csv...\n",
      "F:\\Global Fishing Watch\\Fishing Intensity\\v2\\fleet-daily\\fleet-daily-csvs-100-v2-2020\\2020-02-06.csv\n",
      "Done with 2020_02_06...\n"
     ]
    },
    {
     "name": "stderr",
     "output_type": "stream",
     "text": [
      "C:\\Users\\keit8223\\AppData\\Local\\Temp\\1\\ipykernel_21680\\959929405.py:5: SettingWithCopyWarning: \n",
      "A value is trying to be set on a copy of a slice from a DataFrame\n",
      "\n",
      "See the caveats in the documentation: https://pandas.pydata.org/pandas-docs/stable/user_guide/indexing.html#returning-a-view-versus-a-copy\n",
      "  hours_select.drop(columns=['date', 'flag', 'geartype', 'fishing_hours', 'mmsi_present'], inplace=True)\n"
     ]
    },
    {
     "name": "stdout",
     "output_type": "stream",
     "text": [
      "3\n"
     ]
    },
    {
     "name": "stderr",
     "output_type": "stream",
     "text": [
      "C:\\Users\\keit8223\\AppData\\Local\\Temp\\1\\ipykernel_21680\\1813207608.py:4: SettingWithCopyWarning: \n",
      "A value is trying to be set on a copy of a slice from a DataFrame\n",
      "\n",
      "See the caveats in the documentation: https://pandas.pydata.org/pandas-docs/stable/user_guide/indexing.html#returning-a-view-versus-a-copy\n",
      "  fishhours_select.drop(columns=['date', 'flag', 'geartype', 'hours', 'mmsi_present'], inplace=True)\n"
     ]
    },
    {
     "name": "stdout",
     "output_type": "stream",
     "text": [
      "Starting processing of 2020-02-07.csv...\n",
      "F:\\Global Fishing Watch\\Fishing Intensity\\v2\\fleet-daily\\fleet-daily-csvs-100-v2-2020\\2020-02-07.csv\n",
      "Done with 2020_02_07...\n"
     ]
    },
    {
     "name": "stderr",
     "output_type": "stream",
     "text": [
      "C:\\Users\\keit8223\\AppData\\Local\\Temp\\1\\ipykernel_21680\\959929405.py:5: SettingWithCopyWarning: \n",
      "A value is trying to be set on a copy of a slice from a DataFrame\n",
      "\n",
      "See the caveats in the documentation: https://pandas.pydata.org/pandas-docs/stable/user_guide/indexing.html#returning-a-view-versus-a-copy\n",
      "  hours_select.drop(columns=['date', 'flag', 'geartype', 'fishing_hours', 'mmsi_present'], inplace=True)\n"
     ]
    },
    {
     "name": "stdout",
     "output_type": "stream",
     "text": [
      "3\n"
     ]
    },
    {
     "name": "stderr",
     "output_type": "stream",
     "text": [
      "C:\\Users\\keit8223\\AppData\\Local\\Temp\\1\\ipykernel_21680\\1813207608.py:4: SettingWithCopyWarning: \n",
      "A value is trying to be set on a copy of a slice from a DataFrame\n",
      "\n",
      "See the caveats in the documentation: https://pandas.pydata.org/pandas-docs/stable/user_guide/indexing.html#returning-a-view-versus-a-copy\n",
      "  fishhours_select.drop(columns=['date', 'flag', 'geartype', 'hours', 'mmsi_present'], inplace=True)\n"
     ]
    },
    {
     "name": "stdout",
     "output_type": "stream",
     "text": [
      "Starting processing of 2020-02-08.csv...\n",
      "F:\\Global Fishing Watch\\Fishing Intensity\\v2\\fleet-daily\\fleet-daily-csvs-100-v2-2020\\2020-02-08.csv\n",
      "Done with 2020_02_08...\n"
     ]
    },
    {
     "name": "stderr",
     "output_type": "stream",
     "text": [
      "C:\\Users\\keit8223\\AppData\\Local\\Temp\\1\\ipykernel_21680\\959929405.py:5: SettingWithCopyWarning: \n",
      "A value is trying to be set on a copy of a slice from a DataFrame\n",
      "\n",
      "See the caveats in the documentation: https://pandas.pydata.org/pandas-docs/stable/user_guide/indexing.html#returning-a-view-versus-a-copy\n",
      "  hours_select.drop(columns=['date', 'flag', 'geartype', 'fishing_hours', 'mmsi_present'], inplace=True)\n"
     ]
    },
    {
     "name": "stdout",
     "output_type": "stream",
     "text": [
      "3\n"
     ]
    },
    {
     "name": "stderr",
     "output_type": "stream",
     "text": [
      "C:\\Users\\keit8223\\AppData\\Local\\Temp\\1\\ipykernel_21680\\1813207608.py:4: SettingWithCopyWarning: \n",
      "A value is trying to be set on a copy of a slice from a DataFrame\n",
      "\n",
      "See the caveats in the documentation: https://pandas.pydata.org/pandas-docs/stable/user_guide/indexing.html#returning-a-view-versus-a-copy\n",
      "  fishhours_select.drop(columns=['date', 'flag', 'geartype', 'hours', 'mmsi_present'], inplace=True)\n"
     ]
    },
    {
     "name": "stdout",
     "output_type": "stream",
     "text": [
      "Starting processing of 2020-02-09.csv...\n",
      "F:\\Global Fishing Watch\\Fishing Intensity\\v2\\fleet-daily\\fleet-daily-csvs-100-v2-2020\\2020-02-09.csv\n",
      "Done with 2020_02_09...\n"
     ]
    },
    {
     "name": "stderr",
     "output_type": "stream",
     "text": [
      "C:\\Users\\keit8223\\AppData\\Local\\Temp\\1\\ipykernel_21680\\959929405.py:5: SettingWithCopyWarning: \n",
      "A value is trying to be set on a copy of a slice from a DataFrame\n",
      "\n",
      "See the caveats in the documentation: https://pandas.pydata.org/pandas-docs/stable/user_guide/indexing.html#returning-a-view-versus-a-copy\n",
      "  hours_select.drop(columns=['date', 'flag', 'geartype', 'fishing_hours', 'mmsi_present'], inplace=True)\n"
     ]
    },
    {
     "name": "stdout",
     "output_type": "stream",
     "text": [
      "3\n"
     ]
    },
    {
     "name": "stderr",
     "output_type": "stream",
     "text": [
      "C:\\Users\\keit8223\\AppData\\Local\\Temp\\1\\ipykernel_21680\\1813207608.py:4: SettingWithCopyWarning: \n",
      "A value is trying to be set on a copy of a slice from a DataFrame\n",
      "\n",
      "See the caveats in the documentation: https://pandas.pydata.org/pandas-docs/stable/user_guide/indexing.html#returning-a-view-versus-a-copy\n",
      "  fishhours_select.drop(columns=['date', 'flag', 'geartype', 'hours', 'mmsi_present'], inplace=True)\n"
     ]
    },
    {
     "name": "stdout",
     "output_type": "stream",
     "text": [
      "Starting processing of 2020-02-10.csv...\n",
      "F:\\Global Fishing Watch\\Fishing Intensity\\v2\\fleet-daily\\fleet-daily-csvs-100-v2-2020\\2020-02-10.csv\n",
      "Done with 2020_02_10...\n"
     ]
    },
    {
     "name": "stderr",
     "output_type": "stream",
     "text": [
      "C:\\Users\\keit8223\\AppData\\Local\\Temp\\1\\ipykernel_21680\\959929405.py:5: SettingWithCopyWarning: \n",
      "A value is trying to be set on a copy of a slice from a DataFrame\n",
      "\n",
      "See the caveats in the documentation: https://pandas.pydata.org/pandas-docs/stable/user_guide/indexing.html#returning-a-view-versus-a-copy\n",
      "  hours_select.drop(columns=['date', 'flag', 'geartype', 'fishing_hours', 'mmsi_present'], inplace=True)\n"
     ]
    },
    {
     "name": "stdout",
     "output_type": "stream",
     "text": [
      "3\n"
     ]
    },
    {
     "name": "stderr",
     "output_type": "stream",
     "text": [
      "C:\\Users\\keit8223\\AppData\\Local\\Temp\\1\\ipykernel_21680\\1813207608.py:4: SettingWithCopyWarning: \n",
      "A value is trying to be set on a copy of a slice from a DataFrame\n",
      "\n",
      "See the caveats in the documentation: https://pandas.pydata.org/pandas-docs/stable/user_guide/indexing.html#returning-a-view-versus-a-copy\n",
      "  fishhours_select.drop(columns=['date', 'flag', 'geartype', 'hours', 'mmsi_present'], inplace=True)\n"
     ]
    },
    {
     "name": "stdout",
     "output_type": "stream",
     "text": [
      "Starting processing of 2020-02-11.csv...\n",
      "F:\\Global Fishing Watch\\Fishing Intensity\\v2\\fleet-daily\\fleet-daily-csvs-100-v2-2020\\2020-02-11.csv\n",
      "Done with 2020_02_11...\n"
     ]
    },
    {
     "name": "stderr",
     "output_type": "stream",
     "text": [
      "C:\\Users\\keit8223\\AppData\\Local\\Temp\\1\\ipykernel_21680\\959929405.py:5: SettingWithCopyWarning: \n",
      "A value is trying to be set on a copy of a slice from a DataFrame\n",
      "\n",
      "See the caveats in the documentation: https://pandas.pydata.org/pandas-docs/stable/user_guide/indexing.html#returning-a-view-versus-a-copy\n",
      "  hours_select.drop(columns=['date', 'flag', 'geartype', 'fishing_hours', 'mmsi_present'], inplace=True)\n"
     ]
    },
    {
     "name": "stdout",
     "output_type": "stream",
     "text": [
      "3\n"
     ]
    },
    {
     "name": "stderr",
     "output_type": "stream",
     "text": [
      "C:\\Users\\keit8223\\AppData\\Local\\Temp\\1\\ipykernel_21680\\1813207608.py:4: SettingWithCopyWarning: \n",
      "A value is trying to be set on a copy of a slice from a DataFrame\n",
      "\n",
      "See the caveats in the documentation: https://pandas.pydata.org/pandas-docs/stable/user_guide/indexing.html#returning-a-view-versus-a-copy\n",
      "  fishhours_select.drop(columns=['date', 'flag', 'geartype', 'hours', 'mmsi_present'], inplace=True)\n"
     ]
    },
    {
     "name": "stdout",
     "output_type": "stream",
     "text": [
      "Starting processing of 2020-02-12.csv...\n",
      "F:\\Global Fishing Watch\\Fishing Intensity\\v2\\fleet-daily\\fleet-daily-csvs-100-v2-2020\\2020-02-12.csv\n",
      "Done with 2020_02_12...\n"
     ]
    },
    {
     "name": "stderr",
     "output_type": "stream",
     "text": [
      "C:\\Users\\keit8223\\AppData\\Local\\Temp\\1\\ipykernel_21680\\959929405.py:5: SettingWithCopyWarning: \n",
      "A value is trying to be set on a copy of a slice from a DataFrame\n",
      "\n",
      "See the caveats in the documentation: https://pandas.pydata.org/pandas-docs/stable/user_guide/indexing.html#returning-a-view-versus-a-copy\n",
      "  hours_select.drop(columns=['date', 'flag', 'geartype', 'fishing_hours', 'mmsi_present'], inplace=True)\n"
     ]
    },
    {
     "name": "stdout",
     "output_type": "stream",
     "text": [
      "3\n"
     ]
    },
    {
     "name": "stderr",
     "output_type": "stream",
     "text": [
      "C:\\Users\\keit8223\\AppData\\Local\\Temp\\1\\ipykernel_21680\\1813207608.py:4: SettingWithCopyWarning: \n",
      "A value is trying to be set on a copy of a slice from a DataFrame\n",
      "\n",
      "See the caveats in the documentation: https://pandas.pydata.org/pandas-docs/stable/user_guide/indexing.html#returning-a-view-versus-a-copy\n",
      "  fishhours_select.drop(columns=['date', 'flag', 'geartype', 'hours', 'mmsi_present'], inplace=True)\n"
     ]
    },
    {
     "name": "stdout",
     "output_type": "stream",
     "text": [
      "Starting processing of 2020-02-13.csv...\n",
      "F:\\Global Fishing Watch\\Fishing Intensity\\v2\\fleet-daily\\fleet-daily-csvs-100-v2-2020\\2020-02-13.csv\n",
      "Done with 2020_02_13...\n"
     ]
    },
    {
     "name": "stderr",
     "output_type": "stream",
     "text": [
      "C:\\Users\\keit8223\\AppData\\Local\\Temp\\1\\ipykernel_21680\\959929405.py:5: SettingWithCopyWarning: \n",
      "A value is trying to be set on a copy of a slice from a DataFrame\n",
      "\n",
      "See the caveats in the documentation: https://pandas.pydata.org/pandas-docs/stable/user_guide/indexing.html#returning-a-view-versus-a-copy\n",
      "  hours_select.drop(columns=['date', 'flag', 'geartype', 'fishing_hours', 'mmsi_present'], inplace=True)\n"
     ]
    },
    {
     "name": "stdout",
     "output_type": "stream",
     "text": [
      "3\n"
     ]
    },
    {
     "name": "stderr",
     "output_type": "stream",
     "text": [
      "C:\\Users\\keit8223\\AppData\\Local\\Temp\\1\\ipykernel_21680\\1813207608.py:4: SettingWithCopyWarning: \n",
      "A value is trying to be set on a copy of a slice from a DataFrame\n",
      "\n",
      "See the caveats in the documentation: https://pandas.pydata.org/pandas-docs/stable/user_guide/indexing.html#returning-a-view-versus-a-copy\n",
      "  fishhours_select.drop(columns=['date', 'flag', 'geartype', 'hours', 'mmsi_present'], inplace=True)\n"
     ]
    },
    {
     "name": "stdout",
     "output_type": "stream",
     "text": [
      "Starting processing of 2020-02-14.csv...\n",
      "F:\\Global Fishing Watch\\Fishing Intensity\\v2\\fleet-daily\\fleet-daily-csvs-100-v2-2020\\2020-02-14.csv\n",
      "Done with 2020_02_14...\n"
     ]
    },
    {
     "name": "stderr",
     "output_type": "stream",
     "text": [
      "C:\\Users\\keit8223\\AppData\\Local\\Temp\\1\\ipykernel_21680\\959929405.py:5: SettingWithCopyWarning: \n",
      "A value is trying to be set on a copy of a slice from a DataFrame\n",
      "\n",
      "See the caveats in the documentation: https://pandas.pydata.org/pandas-docs/stable/user_guide/indexing.html#returning-a-view-versus-a-copy\n",
      "  hours_select.drop(columns=['date', 'flag', 'geartype', 'fishing_hours', 'mmsi_present'], inplace=True)\n"
     ]
    },
    {
     "name": "stdout",
     "output_type": "stream",
     "text": [
      "3\n"
     ]
    },
    {
     "name": "stderr",
     "output_type": "stream",
     "text": [
      "C:\\Users\\keit8223\\AppData\\Local\\Temp\\1\\ipykernel_21680\\1813207608.py:4: SettingWithCopyWarning: \n",
      "A value is trying to be set on a copy of a slice from a DataFrame\n",
      "\n",
      "See the caveats in the documentation: https://pandas.pydata.org/pandas-docs/stable/user_guide/indexing.html#returning-a-view-versus-a-copy\n",
      "  fishhours_select.drop(columns=['date', 'flag', 'geartype', 'hours', 'mmsi_present'], inplace=True)\n"
     ]
    },
    {
     "name": "stdout",
     "output_type": "stream",
     "text": [
      "Starting processing of 2020-02-15.csv...\n",
      "F:\\Global Fishing Watch\\Fishing Intensity\\v2\\fleet-daily\\fleet-daily-csvs-100-v2-2020\\2020-02-15.csv\n",
      "Done with 2020_02_15...\n"
     ]
    },
    {
     "name": "stderr",
     "output_type": "stream",
     "text": [
      "C:\\Users\\keit8223\\AppData\\Local\\Temp\\1\\ipykernel_21680\\959929405.py:5: SettingWithCopyWarning: \n",
      "A value is trying to be set on a copy of a slice from a DataFrame\n",
      "\n",
      "See the caveats in the documentation: https://pandas.pydata.org/pandas-docs/stable/user_guide/indexing.html#returning-a-view-versus-a-copy\n",
      "  hours_select.drop(columns=['date', 'flag', 'geartype', 'fishing_hours', 'mmsi_present'], inplace=True)\n"
     ]
    },
    {
     "name": "stdout",
     "output_type": "stream",
     "text": [
      "3\n"
     ]
    },
    {
     "name": "stderr",
     "output_type": "stream",
     "text": [
      "C:\\Users\\keit8223\\AppData\\Local\\Temp\\1\\ipykernel_21680\\1813207608.py:4: SettingWithCopyWarning: \n",
      "A value is trying to be set on a copy of a slice from a DataFrame\n",
      "\n",
      "See the caveats in the documentation: https://pandas.pydata.org/pandas-docs/stable/user_guide/indexing.html#returning-a-view-versus-a-copy\n",
      "  fishhours_select.drop(columns=['date', 'flag', 'geartype', 'hours', 'mmsi_present'], inplace=True)\n"
     ]
    },
    {
     "name": "stdout",
     "output_type": "stream",
     "text": [
      "Starting processing of 2020-02-16.csv...\n",
      "F:\\Global Fishing Watch\\Fishing Intensity\\v2\\fleet-daily\\fleet-daily-csvs-100-v2-2020\\2020-02-16.csv\n",
      "Done with 2020_02_16...\n"
     ]
    },
    {
     "name": "stderr",
     "output_type": "stream",
     "text": [
      "C:\\Users\\keit8223\\AppData\\Local\\Temp\\1\\ipykernel_21680\\959929405.py:5: SettingWithCopyWarning: \n",
      "A value is trying to be set on a copy of a slice from a DataFrame\n",
      "\n",
      "See the caveats in the documentation: https://pandas.pydata.org/pandas-docs/stable/user_guide/indexing.html#returning-a-view-versus-a-copy\n",
      "  hours_select.drop(columns=['date', 'flag', 'geartype', 'fishing_hours', 'mmsi_present'], inplace=True)\n"
     ]
    },
    {
     "name": "stdout",
     "output_type": "stream",
     "text": [
      "3\n"
     ]
    },
    {
     "name": "stderr",
     "output_type": "stream",
     "text": [
      "C:\\Users\\keit8223\\AppData\\Local\\Temp\\1\\ipykernel_21680\\1813207608.py:4: SettingWithCopyWarning: \n",
      "A value is trying to be set on a copy of a slice from a DataFrame\n",
      "\n",
      "See the caveats in the documentation: https://pandas.pydata.org/pandas-docs/stable/user_guide/indexing.html#returning-a-view-versus-a-copy\n",
      "  fishhours_select.drop(columns=['date', 'flag', 'geartype', 'hours', 'mmsi_present'], inplace=True)\n"
     ]
    },
    {
     "name": "stdout",
     "output_type": "stream",
     "text": [
      "Starting processing of 2020-02-17.csv...\n",
      "F:\\Global Fishing Watch\\Fishing Intensity\\v2\\fleet-daily\\fleet-daily-csvs-100-v2-2020\\2020-02-17.csv\n",
      "Done with 2020_02_17...\n"
     ]
    },
    {
     "name": "stderr",
     "output_type": "stream",
     "text": [
      "C:\\Users\\keit8223\\AppData\\Local\\Temp\\1\\ipykernel_21680\\959929405.py:5: SettingWithCopyWarning: \n",
      "A value is trying to be set on a copy of a slice from a DataFrame\n",
      "\n",
      "See the caveats in the documentation: https://pandas.pydata.org/pandas-docs/stable/user_guide/indexing.html#returning-a-view-versus-a-copy\n",
      "  hours_select.drop(columns=['date', 'flag', 'geartype', 'fishing_hours', 'mmsi_present'], inplace=True)\n"
     ]
    },
    {
     "name": "stdout",
     "output_type": "stream",
     "text": [
      "3\n"
     ]
    },
    {
     "name": "stderr",
     "output_type": "stream",
     "text": [
      "C:\\Users\\keit8223\\AppData\\Local\\Temp\\1\\ipykernel_21680\\1813207608.py:4: SettingWithCopyWarning: \n",
      "A value is trying to be set on a copy of a slice from a DataFrame\n",
      "\n",
      "See the caveats in the documentation: https://pandas.pydata.org/pandas-docs/stable/user_guide/indexing.html#returning-a-view-versus-a-copy\n",
      "  fishhours_select.drop(columns=['date', 'flag', 'geartype', 'hours', 'mmsi_present'], inplace=True)\n"
     ]
    },
    {
     "name": "stdout",
     "output_type": "stream",
     "text": [
      "Starting processing of 2020-02-18.csv...\n",
      "F:\\Global Fishing Watch\\Fishing Intensity\\v2\\fleet-daily\\fleet-daily-csvs-100-v2-2020\\2020-02-18.csv\n",
      "Done with 2020_02_18...\n"
     ]
    },
    {
     "name": "stderr",
     "output_type": "stream",
     "text": [
      "C:\\Users\\keit8223\\AppData\\Local\\Temp\\1\\ipykernel_21680\\959929405.py:5: SettingWithCopyWarning: \n",
      "A value is trying to be set on a copy of a slice from a DataFrame\n",
      "\n",
      "See the caveats in the documentation: https://pandas.pydata.org/pandas-docs/stable/user_guide/indexing.html#returning-a-view-versus-a-copy\n",
      "  hours_select.drop(columns=['date', 'flag', 'geartype', 'fishing_hours', 'mmsi_present'], inplace=True)\n"
     ]
    },
    {
     "name": "stdout",
     "output_type": "stream",
     "text": [
      "3\n"
     ]
    },
    {
     "name": "stderr",
     "output_type": "stream",
     "text": [
      "C:\\Users\\keit8223\\AppData\\Local\\Temp\\1\\ipykernel_21680\\1813207608.py:4: SettingWithCopyWarning: \n",
      "A value is trying to be set on a copy of a slice from a DataFrame\n",
      "\n",
      "See the caveats in the documentation: https://pandas.pydata.org/pandas-docs/stable/user_guide/indexing.html#returning-a-view-versus-a-copy\n",
      "  fishhours_select.drop(columns=['date', 'flag', 'geartype', 'hours', 'mmsi_present'], inplace=True)\n"
     ]
    },
    {
     "name": "stdout",
     "output_type": "stream",
     "text": [
      "Starting processing of 2020-02-19.csv...\n",
      "F:\\Global Fishing Watch\\Fishing Intensity\\v2\\fleet-daily\\fleet-daily-csvs-100-v2-2020\\2020-02-19.csv\n",
      "Done with 2020_02_19...\n"
     ]
    },
    {
     "name": "stderr",
     "output_type": "stream",
     "text": [
      "C:\\Users\\keit8223\\AppData\\Local\\Temp\\1\\ipykernel_21680\\959929405.py:5: SettingWithCopyWarning: \n",
      "A value is trying to be set on a copy of a slice from a DataFrame\n",
      "\n",
      "See the caveats in the documentation: https://pandas.pydata.org/pandas-docs/stable/user_guide/indexing.html#returning-a-view-versus-a-copy\n",
      "  hours_select.drop(columns=['date', 'flag', 'geartype', 'fishing_hours', 'mmsi_present'], inplace=True)\n"
     ]
    },
    {
     "name": "stdout",
     "output_type": "stream",
     "text": [
      "3\n"
     ]
    },
    {
     "name": "stderr",
     "output_type": "stream",
     "text": [
      "C:\\Users\\keit8223\\AppData\\Local\\Temp\\1\\ipykernel_21680\\1813207608.py:4: SettingWithCopyWarning: \n",
      "A value is trying to be set on a copy of a slice from a DataFrame\n",
      "\n",
      "See the caveats in the documentation: https://pandas.pydata.org/pandas-docs/stable/user_guide/indexing.html#returning-a-view-versus-a-copy\n",
      "  fishhours_select.drop(columns=['date', 'flag', 'geartype', 'hours', 'mmsi_present'], inplace=True)\n"
     ]
    },
    {
     "name": "stdout",
     "output_type": "stream",
     "text": [
      "Starting processing of 2020-02-20.csv...\n",
      "F:\\Global Fishing Watch\\Fishing Intensity\\v2\\fleet-daily\\fleet-daily-csvs-100-v2-2020\\2020-02-20.csv\n",
      "Done with 2020_02_20...\n"
     ]
    },
    {
     "name": "stderr",
     "output_type": "stream",
     "text": [
      "C:\\Users\\keit8223\\AppData\\Local\\Temp\\1\\ipykernel_21680\\959929405.py:5: SettingWithCopyWarning: \n",
      "A value is trying to be set on a copy of a slice from a DataFrame\n",
      "\n",
      "See the caveats in the documentation: https://pandas.pydata.org/pandas-docs/stable/user_guide/indexing.html#returning-a-view-versus-a-copy\n",
      "  hours_select.drop(columns=['date', 'flag', 'geartype', 'fishing_hours', 'mmsi_present'], inplace=True)\n"
     ]
    },
    {
     "name": "stdout",
     "output_type": "stream",
     "text": [
      "3\n"
     ]
    },
    {
     "name": "stderr",
     "output_type": "stream",
     "text": [
      "C:\\Users\\keit8223\\AppData\\Local\\Temp\\1\\ipykernel_21680\\1813207608.py:4: SettingWithCopyWarning: \n",
      "A value is trying to be set on a copy of a slice from a DataFrame\n",
      "\n",
      "See the caveats in the documentation: https://pandas.pydata.org/pandas-docs/stable/user_guide/indexing.html#returning-a-view-versus-a-copy\n",
      "  fishhours_select.drop(columns=['date', 'flag', 'geartype', 'hours', 'mmsi_present'], inplace=True)\n"
     ]
    },
    {
     "name": "stdout",
     "output_type": "stream",
     "text": [
      "Starting processing of 2020-02-21.csv...\n",
      "F:\\Global Fishing Watch\\Fishing Intensity\\v2\\fleet-daily\\fleet-daily-csvs-100-v2-2020\\2020-02-21.csv\n",
      "Done with 2020_02_21...\n"
     ]
    },
    {
     "name": "stderr",
     "output_type": "stream",
     "text": [
      "C:\\Users\\keit8223\\AppData\\Local\\Temp\\1\\ipykernel_21680\\959929405.py:5: SettingWithCopyWarning: \n",
      "A value is trying to be set on a copy of a slice from a DataFrame\n",
      "\n",
      "See the caveats in the documentation: https://pandas.pydata.org/pandas-docs/stable/user_guide/indexing.html#returning-a-view-versus-a-copy\n",
      "  hours_select.drop(columns=['date', 'flag', 'geartype', 'fishing_hours', 'mmsi_present'], inplace=True)\n"
     ]
    },
    {
     "name": "stdout",
     "output_type": "stream",
     "text": [
      "3\n"
     ]
    },
    {
     "name": "stderr",
     "output_type": "stream",
     "text": [
      "C:\\Users\\keit8223\\AppData\\Local\\Temp\\1\\ipykernel_21680\\1813207608.py:4: SettingWithCopyWarning: \n",
      "A value is trying to be set on a copy of a slice from a DataFrame\n",
      "\n",
      "See the caveats in the documentation: https://pandas.pydata.org/pandas-docs/stable/user_guide/indexing.html#returning-a-view-versus-a-copy\n",
      "  fishhours_select.drop(columns=['date', 'flag', 'geartype', 'hours', 'mmsi_present'], inplace=True)\n"
     ]
    },
    {
     "name": "stdout",
     "output_type": "stream",
     "text": [
      "Starting processing of 2020-02-22.csv...\n",
      "F:\\Global Fishing Watch\\Fishing Intensity\\v2\\fleet-daily\\fleet-daily-csvs-100-v2-2020\\2020-02-22.csv\n",
      "Done with 2020_02_22...\n"
     ]
    },
    {
     "name": "stderr",
     "output_type": "stream",
     "text": [
      "C:\\Users\\keit8223\\AppData\\Local\\Temp\\1\\ipykernel_21680\\959929405.py:5: SettingWithCopyWarning: \n",
      "A value is trying to be set on a copy of a slice from a DataFrame\n",
      "\n",
      "See the caveats in the documentation: https://pandas.pydata.org/pandas-docs/stable/user_guide/indexing.html#returning-a-view-versus-a-copy\n",
      "  hours_select.drop(columns=['date', 'flag', 'geartype', 'fishing_hours', 'mmsi_present'], inplace=True)\n"
     ]
    },
    {
     "name": "stdout",
     "output_type": "stream",
     "text": [
      "3\n"
     ]
    },
    {
     "name": "stderr",
     "output_type": "stream",
     "text": [
      "C:\\Users\\keit8223\\AppData\\Local\\Temp\\1\\ipykernel_21680\\1813207608.py:4: SettingWithCopyWarning: \n",
      "A value is trying to be set on a copy of a slice from a DataFrame\n",
      "\n",
      "See the caveats in the documentation: https://pandas.pydata.org/pandas-docs/stable/user_guide/indexing.html#returning-a-view-versus-a-copy\n",
      "  fishhours_select.drop(columns=['date', 'flag', 'geartype', 'hours', 'mmsi_present'], inplace=True)\n"
     ]
    },
    {
     "name": "stdout",
     "output_type": "stream",
     "text": [
      "Starting processing of 2020-02-23.csv...\n",
      "F:\\Global Fishing Watch\\Fishing Intensity\\v2\\fleet-daily\\fleet-daily-csvs-100-v2-2020\\2020-02-23.csv\n",
      "Done with 2020_02_23...\n"
     ]
    },
    {
     "name": "stderr",
     "output_type": "stream",
     "text": [
      "C:\\Users\\keit8223\\AppData\\Local\\Temp\\1\\ipykernel_21680\\959929405.py:5: SettingWithCopyWarning: \n",
      "A value is trying to be set on a copy of a slice from a DataFrame\n",
      "\n",
      "See the caveats in the documentation: https://pandas.pydata.org/pandas-docs/stable/user_guide/indexing.html#returning-a-view-versus-a-copy\n",
      "  hours_select.drop(columns=['date', 'flag', 'geartype', 'fishing_hours', 'mmsi_present'], inplace=True)\n"
     ]
    },
    {
     "name": "stdout",
     "output_type": "stream",
     "text": [
      "3\n"
     ]
    },
    {
     "name": "stderr",
     "output_type": "stream",
     "text": [
      "C:\\Users\\keit8223\\AppData\\Local\\Temp\\1\\ipykernel_21680\\1813207608.py:4: SettingWithCopyWarning: \n",
      "A value is trying to be set on a copy of a slice from a DataFrame\n",
      "\n",
      "See the caveats in the documentation: https://pandas.pydata.org/pandas-docs/stable/user_guide/indexing.html#returning-a-view-versus-a-copy\n",
      "  fishhours_select.drop(columns=['date', 'flag', 'geartype', 'hours', 'mmsi_present'], inplace=True)\n"
     ]
    },
    {
     "name": "stdout",
     "output_type": "stream",
     "text": [
      "Starting processing of 2020-02-24.csv...\n",
      "F:\\Global Fishing Watch\\Fishing Intensity\\v2\\fleet-daily\\fleet-daily-csvs-100-v2-2020\\2020-02-24.csv\n",
      "Done with 2020_02_24...\n"
     ]
    },
    {
     "name": "stderr",
     "output_type": "stream",
     "text": [
      "C:\\Users\\keit8223\\AppData\\Local\\Temp\\1\\ipykernel_21680\\959929405.py:5: SettingWithCopyWarning: \n",
      "A value is trying to be set on a copy of a slice from a DataFrame\n",
      "\n",
      "See the caveats in the documentation: https://pandas.pydata.org/pandas-docs/stable/user_guide/indexing.html#returning-a-view-versus-a-copy\n",
      "  hours_select.drop(columns=['date', 'flag', 'geartype', 'fishing_hours', 'mmsi_present'], inplace=True)\n"
     ]
    },
    {
     "name": "stdout",
     "output_type": "stream",
     "text": [
      "3\n"
     ]
    },
    {
     "name": "stderr",
     "output_type": "stream",
     "text": [
      "C:\\Users\\keit8223\\AppData\\Local\\Temp\\1\\ipykernel_21680\\1813207608.py:4: SettingWithCopyWarning: \n",
      "A value is trying to be set on a copy of a slice from a DataFrame\n",
      "\n",
      "See the caveats in the documentation: https://pandas.pydata.org/pandas-docs/stable/user_guide/indexing.html#returning-a-view-versus-a-copy\n",
      "  fishhours_select.drop(columns=['date', 'flag', 'geartype', 'hours', 'mmsi_present'], inplace=True)\n"
     ]
    },
    {
     "name": "stdout",
     "output_type": "stream",
     "text": [
      "Starting processing of 2020-02-25.csv...\n",
      "F:\\Global Fishing Watch\\Fishing Intensity\\v2\\fleet-daily\\fleet-daily-csvs-100-v2-2020\\2020-02-25.csv\n",
      "Done with 2020_02_25...\n"
     ]
    },
    {
     "name": "stderr",
     "output_type": "stream",
     "text": [
      "C:\\Users\\keit8223\\AppData\\Local\\Temp\\1\\ipykernel_21680\\959929405.py:5: SettingWithCopyWarning: \n",
      "A value is trying to be set on a copy of a slice from a DataFrame\n",
      "\n",
      "See the caveats in the documentation: https://pandas.pydata.org/pandas-docs/stable/user_guide/indexing.html#returning-a-view-versus-a-copy\n",
      "  hours_select.drop(columns=['date', 'flag', 'geartype', 'fishing_hours', 'mmsi_present'], inplace=True)\n"
     ]
    },
    {
     "name": "stdout",
     "output_type": "stream",
     "text": [
      "3\n"
     ]
    },
    {
     "name": "stderr",
     "output_type": "stream",
     "text": [
      "C:\\Users\\keit8223\\AppData\\Local\\Temp\\1\\ipykernel_21680\\1813207608.py:4: SettingWithCopyWarning: \n",
      "A value is trying to be set on a copy of a slice from a DataFrame\n",
      "\n",
      "See the caveats in the documentation: https://pandas.pydata.org/pandas-docs/stable/user_guide/indexing.html#returning-a-view-versus-a-copy\n",
      "  fishhours_select.drop(columns=['date', 'flag', 'geartype', 'hours', 'mmsi_present'], inplace=True)\n"
     ]
    },
    {
     "name": "stdout",
     "output_type": "stream",
     "text": [
      "Starting processing of 2020-02-26.csv...\n",
      "F:\\Global Fishing Watch\\Fishing Intensity\\v2\\fleet-daily\\fleet-daily-csvs-100-v2-2020\\2020-02-26.csv\n",
      "Done with 2020_02_26...\n"
     ]
    },
    {
     "name": "stderr",
     "output_type": "stream",
     "text": [
      "C:\\Users\\keit8223\\AppData\\Local\\Temp\\1\\ipykernel_21680\\959929405.py:5: SettingWithCopyWarning: \n",
      "A value is trying to be set on a copy of a slice from a DataFrame\n",
      "\n",
      "See the caveats in the documentation: https://pandas.pydata.org/pandas-docs/stable/user_guide/indexing.html#returning-a-view-versus-a-copy\n",
      "  hours_select.drop(columns=['date', 'flag', 'geartype', 'fishing_hours', 'mmsi_present'], inplace=True)\n"
     ]
    },
    {
     "name": "stdout",
     "output_type": "stream",
     "text": [
      "3\n"
     ]
    },
    {
     "name": "stderr",
     "output_type": "stream",
     "text": [
      "C:\\Users\\keit8223\\AppData\\Local\\Temp\\1\\ipykernel_21680\\1813207608.py:4: SettingWithCopyWarning: \n",
      "A value is trying to be set on a copy of a slice from a DataFrame\n",
      "\n",
      "See the caveats in the documentation: https://pandas.pydata.org/pandas-docs/stable/user_guide/indexing.html#returning-a-view-versus-a-copy\n",
      "  fishhours_select.drop(columns=['date', 'flag', 'geartype', 'hours', 'mmsi_present'], inplace=True)\n"
     ]
    },
    {
     "name": "stdout",
     "output_type": "stream",
     "text": [
      "Starting processing of 2020-02-27.csv...\n",
      "F:\\Global Fishing Watch\\Fishing Intensity\\v2\\fleet-daily\\fleet-daily-csvs-100-v2-2020\\2020-02-27.csv\n",
      "Done with 2020_02_27...\n"
     ]
    },
    {
     "name": "stderr",
     "output_type": "stream",
     "text": [
      "C:\\Users\\keit8223\\AppData\\Local\\Temp\\1\\ipykernel_21680\\959929405.py:5: SettingWithCopyWarning: \n",
      "A value is trying to be set on a copy of a slice from a DataFrame\n",
      "\n",
      "See the caveats in the documentation: https://pandas.pydata.org/pandas-docs/stable/user_guide/indexing.html#returning-a-view-versus-a-copy\n",
      "  hours_select.drop(columns=['date', 'flag', 'geartype', 'fishing_hours', 'mmsi_present'], inplace=True)\n"
     ]
    },
    {
     "name": "stdout",
     "output_type": "stream",
     "text": [
      "3\n"
     ]
    },
    {
     "name": "stderr",
     "output_type": "stream",
     "text": [
      "C:\\Users\\keit8223\\AppData\\Local\\Temp\\1\\ipykernel_21680\\1813207608.py:4: SettingWithCopyWarning: \n",
      "A value is trying to be set on a copy of a slice from a DataFrame\n",
      "\n",
      "See the caveats in the documentation: https://pandas.pydata.org/pandas-docs/stable/user_guide/indexing.html#returning-a-view-versus-a-copy\n",
      "  fishhours_select.drop(columns=['date', 'flag', 'geartype', 'hours', 'mmsi_present'], inplace=True)\n"
     ]
    },
    {
     "name": "stdout",
     "output_type": "stream",
     "text": [
      "Starting processing of 2020-02-28.csv...\n",
      "F:\\Global Fishing Watch\\Fishing Intensity\\v2\\fleet-daily\\fleet-daily-csvs-100-v2-2020\\2020-02-28.csv\n",
      "Done with 2020_02_28...\n"
     ]
    },
    {
     "name": "stderr",
     "output_type": "stream",
     "text": [
      "C:\\Users\\keit8223\\AppData\\Local\\Temp\\1\\ipykernel_21680\\959929405.py:5: SettingWithCopyWarning: \n",
      "A value is trying to be set on a copy of a slice from a DataFrame\n",
      "\n",
      "See the caveats in the documentation: https://pandas.pydata.org/pandas-docs/stable/user_guide/indexing.html#returning-a-view-versus-a-copy\n",
      "  hours_select.drop(columns=['date', 'flag', 'geartype', 'fishing_hours', 'mmsi_present'], inplace=True)\n"
     ]
    },
    {
     "name": "stdout",
     "output_type": "stream",
     "text": [
      "3\n"
     ]
    },
    {
     "name": "stderr",
     "output_type": "stream",
     "text": [
      "C:\\Users\\keit8223\\AppData\\Local\\Temp\\1\\ipykernel_21680\\1813207608.py:4: SettingWithCopyWarning: \n",
      "A value is trying to be set on a copy of a slice from a DataFrame\n",
      "\n",
      "See the caveats in the documentation: https://pandas.pydata.org/pandas-docs/stable/user_guide/indexing.html#returning-a-view-versus-a-copy\n",
      "  fishhours_select.drop(columns=['date', 'flag', 'geartype', 'hours', 'mmsi_present'], inplace=True)\n"
     ]
    },
    {
     "name": "stdout",
     "output_type": "stream",
     "text": [
      "Starting processing of 2020-02-29.csv...\n",
      "F:\\Global Fishing Watch\\Fishing Intensity\\v2\\fleet-daily\\fleet-daily-csvs-100-v2-2020\\2020-02-29.csv\n",
      "Done with 2020_02_29...\n"
     ]
    },
    {
     "name": "stderr",
     "output_type": "stream",
     "text": [
      "C:\\Users\\keit8223\\AppData\\Local\\Temp\\1\\ipykernel_21680\\959929405.py:5: SettingWithCopyWarning: \n",
      "A value is trying to be set on a copy of a slice from a DataFrame\n",
      "\n",
      "See the caveats in the documentation: https://pandas.pydata.org/pandas-docs/stable/user_guide/indexing.html#returning-a-view-versus-a-copy\n",
      "  hours_select.drop(columns=['date', 'flag', 'geartype', 'fishing_hours', 'mmsi_present'], inplace=True)\n"
     ]
    },
    {
     "name": "stdout",
     "output_type": "stream",
     "text": [
      "3\n"
     ]
    },
    {
     "name": "stderr",
     "output_type": "stream",
     "text": [
      "C:\\Users\\keit8223\\AppData\\Local\\Temp\\1\\ipykernel_21680\\1813207608.py:4: SettingWithCopyWarning: \n",
      "A value is trying to be set on a copy of a slice from a DataFrame\n",
      "\n",
      "See the caveats in the documentation: https://pandas.pydata.org/pandas-docs/stable/user_guide/indexing.html#returning-a-view-versus-a-copy\n",
      "  fishhours_select.drop(columns=['date', 'flag', 'geartype', 'hours', 'mmsi_present'], inplace=True)\n"
     ]
    },
    {
     "name": "stdout",
     "output_type": "stream",
     "text": [
      "Starting processing of 2020-03-01.csv...\n",
      "F:\\Global Fishing Watch\\Fishing Intensity\\v2\\fleet-daily\\fleet-daily-csvs-100-v2-2020\\2020-03-01.csv\n",
      "Done with 2020_03_01...\n"
     ]
    },
    {
     "name": "stderr",
     "output_type": "stream",
     "text": [
      "C:\\Users\\keit8223\\AppData\\Local\\Temp\\1\\ipykernel_21680\\959929405.py:5: SettingWithCopyWarning: \n",
      "A value is trying to be set on a copy of a slice from a DataFrame\n",
      "\n",
      "See the caveats in the documentation: https://pandas.pydata.org/pandas-docs/stable/user_guide/indexing.html#returning-a-view-versus-a-copy\n",
      "  hours_select.drop(columns=['date', 'flag', 'geartype', 'fishing_hours', 'mmsi_present'], inplace=True)\n"
     ]
    },
    {
     "name": "stdout",
     "output_type": "stream",
     "text": [
      "3\n"
     ]
    },
    {
     "name": "stderr",
     "output_type": "stream",
     "text": [
      "C:\\Users\\keit8223\\AppData\\Local\\Temp\\1\\ipykernel_21680\\1813207608.py:4: SettingWithCopyWarning: \n",
      "A value is trying to be set on a copy of a slice from a DataFrame\n",
      "\n",
      "See the caveats in the documentation: https://pandas.pydata.org/pandas-docs/stable/user_guide/indexing.html#returning-a-view-versus-a-copy\n",
      "  fishhours_select.drop(columns=['date', 'flag', 'geartype', 'hours', 'mmsi_present'], inplace=True)\n"
     ]
    },
    {
     "name": "stdout",
     "output_type": "stream",
     "text": [
      "Starting processing of 2020-03-02.csv...\n",
      "F:\\Global Fishing Watch\\Fishing Intensity\\v2\\fleet-daily\\fleet-daily-csvs-100-v2-2020\\2020-03-02.csv\n",
      "Done with 2020_03_02...\n"
     ]
    },
    {
     "name": "stderr",
     "output_type": "stream",
     "text": [
      "C:\\Users\\keit8223\\AppData\\Local\\Temp\\1\\ipykernel_21680\\959929405.py:5: SettingWithCopyWarning: \n",
      "A value is trying to be set on a copy of a slice from a DataFrame\n",
      "\n",
      "See the caveats in the documentation: https://pandas.pydata.org/pandas-docs/stable/user_guide/indexing.html#returning-a-view-versus-a-copy\n",
      "  hours_select.drop(columns=['date', 'flag', 'geartype', 'fishing_hours', 'mmsi_present'], inplace=True)\n"
     ]
    },
    {
     "name": "stdout",
     "output_type": "stream",
     "text": [
      "3\n"
     ]
    },
    {
     "name": "stderr",
     "output_type": "stream",
     "text": [
      "C:\\Users\\keit8223\\AppData\\Local\\Temp\\1\\ipykernel_21680\\1813207608.py:4: SettingWithCopyWarning: \n",
      "A value is trying to be set on a copy of a slice from a DataFrame\n",
      "\n",
      "See the caveats in the documentation: https://pandas.pydata.org/pandas-docs/stable/user_guide/indexing.html#returning-a-view-versus-a-copy\n",
      "  fishhours_select.drop(columns=['date', 'flag', 'geartype', 'hours', 'mmsi_present'], inplace=True)\n"
     ]
    },
    {
     "name": "stdout",
     "output_type": "stream",
     "text": [
      "Starting processing of 2020-03-03.csv...\n",
      "F:\\Global Fishing Watch\\Fishing Intensity\\v2\\fleet-daily\\fleet-daily-csvs-100-v2-2020\\2020-03-03.csv\n",
      "Done with 2020_03_03...\n"
     ]
    },
    {
     "name": "stderr",
     "output_type": "stream",
     "text": [
      "C:\\Users\\keit8223\\AppData\\Local\\Temp\\1\\ipykernel_21680\\959929405.py:5: SettingWithCopyWarning: \n",
      "A value is trying to be set on a copy of a slice from a DataFrame\n",
      "\n",
      "See the caveats in the documentation: https://pandas.pydata.org/pandas-docs/stable/user_guide/indexing.html#returning-a-view-versus-a-copy\n",
      "  hours_select.drop(columns=['date', 'flag', 'geartype', 'fishing_hours', 'mmsi_present'], inplace=True)\n"
     ]
    },
    {
     "name": "stdout",
     "output_type": "stream",
     "text": [
      "3\n"
     ]
    },
    {
     "name": "stderr",
     "output_type": "stream",
     "text": [
      "C:\\Users\\keit8223\\AppData\\Local\\Temp\\1\\ipykernel_21680\\1813207608.py:4: SettingWithCopyWarning: \n",
      "A value is trying to be set on a copy of a slice from a DataFrame\n",
      "\n",
      "See the caveats in the documentation: https://pandas.pydata.org/pandas-docs/stable/user_guide/indexing.html#returning-a-view-versus-a-copy\n",
      "  fishhours_select.drop(columns=['date', 'flag', 'geartype', 'hours', 'mmsi_present'], inplace=True)\n"
     ]
    },
    {
     "name": "stdout",
     "output_type": "stream",
     "text": [
      "Starting processing of 2020-03-04.csv...\n",
      "F:\\Global Fishing Watch\\Fishing Intensity\\v2\\fleet-daily\\fleet-daily-csvs-100-v2-2020\\2020-03-04.csv\n",
      "Done with 2020_03_04...\n"
     ]
    },
    {
     "name": "stderr",
     "output_type": "stream",
     "text": [
      "C:\\Users\\keit8223\\AppData\\Local\\Temp\\1\\ipykernel_21680\\959929405.py:5: SettingWithCopyWarning: \n",
      "A value is trying to be set on a copy of a slice from a DataFrame\n",
      "\n",
      "See the caveats in the documentation: https://pandas.pydata.org/pandas-docs/stable/user_guide/indexing.html#returning-a-view-versus-a-copy\n",
      "  hours_select.drop(columns=['date', 'flag', 'geartype', 'fishing_hours', 'mmsi_present'], inplace=True)\n"
     ]
    },
    {
     "name": "stdout",
     "output_type": "stream",
     "text": [
      "3\n"
     ]
    },
    {
     "name": "stderr",
     "output_type": "stream",
     "text": [
      "C:\\Users\\keit8223\\AppData\\Local\\Temp\\1\\ipykernel_21680\\1813207608.py:4: SettingWithCopyWarning: \n",
      "A value is trying to be set on a copy of a slice from a DataFrame\n",
      "\n",
      "See the caveats in the documentation: https://pandas.pydata.org/pandas-docs/stable/user_guide/indexing.html#returning-a-view-versus-a-copy\n",
      "  fishhours_select.drop(columns=['date', 'flag', 'geartype', 'hours', 'mmsi_present'], inplace=True)\n"
     ]
    },
    {
     "name": "stdout",
     "output_type": "stream",
     "text": [
      "Starting processing of 2020-03-05.csv...\n",
      "F:\\Global Fishing Watch\\Fishing Intensity\\v2\\fleet-daily\\fleet-daily-csvs-100-v2-2020\\2020-03-05.csv\n",
      "Done with 2020_03_05...\n"
     ]
    },
    {
     "name": "stderr",
     "output_type": "stream",
     "text": [
      "C:\\Users\\keit8223\\AppData\\Local\\Temp\\1\\ipykernel_21680\\959929405.py:5: SettingWithCopyWarning: \n",
      "A value is trying to be set on a copy of a slice from a DataFrame\n",
      "\n",
      "See the caveats in the documentation: https://pandas.pydata.org/pandas-docs/stable/user_guide/indexing.html#returning-a-view-versus-a-copy\n",
      "  hours_select.drop(columns=['date', 'flag', 'geartype', 'fishing_hours', 'mmsi_present'], inplace=True)\n"
     ]
    },
    {
     "name": "stdout",
     "output_type": "stream",
     "text": [
      "3\n"
     ]
    },
    {
     "name": "stderr",
     "output_type": "stream",
     "text": [
      "C:\\Users\\keit8223\\AppData\\Local\\Temp\\1\\ipykernel_21680\\1813207608.py:4: SettingWithCopyWarning: \n",
      "A value is trying to be set on a copy of a slice from a DataFrame\n",
      "\n",
      "See the caveats in the documentation: https://pandas.pydata.org/pandas-docs/stable/user_guide/indexing.html#returning-a-view-versus-a-copy\n",
      "  fishhours_select.drop(columns=['date', 'flag', 'geartype', 'hours', 'mmsi_present'], inplace=True)\n"
     ]
    },
    {
     "name": "stdout",
     "output_type": "stream",
     "text": [
      "Starting processing of 2020-03-06.csv...\n",
      "F:\\Global Fishing Watch\\Fishing Intensity\\v2\\fleet-daily\\fleet-daily-csvs-100-v2-2020\\2020-03-06.csv\n",
      "Done with 2020_03_06...\n"
     ]
    },
    {
     "name": "stderr",
     "output_type": "stream",
     "text": [
      "C:\\Users\\keit8223\\AppData\\Local\\Temp\\1\\ipykernel_21680\\959929405.py:5: SettingWithCopyWarning: \n",
      "A value is trying to be set on a copy of a slice from a DataFrame\n",
      "\n",
      "See the caveats in the documentation: https://pandas.pydata.org/pandas-docs/stable/user_guide/indexing.html#returning-a-view-versus-a-copy\n",
      "  hours_select.drop(columns=['date', 'flag', 'geartype', 'fishing_hours', 'mmsi_present'], inplace=True)\n"
     ]
    },
    {
     "name": "stdout",
     "output_type": "stream",
     "text": [
      "3\n"
     ]
    },
    {
     "name": "stderr",
     "output_type": "stream",
     "text": [
      "C:\\Users\\keit8223\\AppData\\Local\\Temp\\1\\ipykernel_21680\\1813207608.py:4: SettingWithCopyWarning: \n",
      "A value is trying to be set on a copy of a slice from a DataFrame\n",
      "\n",
      "See the caveats in the documentation: https://pandas.pydata.org/pandas-docs/stable/user_guide/indexing.html#returning-a-view-versus-a-copy\n",
      "  fishhours_select.drop(columns=['date', 'flag', 'geartype', 'hours', 'mmsi_present'], inplace=True)\n"
     ]
    },
    {
     "name": "stdout",
     "output_type": "stream",
     "text": [
      "Starting processing of 2020-03-07.csv...\n",
      "F:\\Global Fishing Watch\\Fishing Intensity\\v2\\fleet-daily\\fleet-daily-csvs-100-v2-2020\\2020-03-07.csv\n",
      "Done with 2020_03_07...\n"
     ]
    },
    {
     "name": "stderr",
     "output_type": "stream",
     "text": [
      "C:\\Users\\keit8223\\AppData\\Local\\Temp\\1\\ipykernel_21680\\959929405.py:5: SettingWithCopyWarning: \n",
      "A value is trying to be set on a copy of a slice from a DataFrame\n",
      "\n",
      "See the caveats in the documentation: https://pandas.pydata.org/pandas-docs/stable/user_guide/indexing.html#returning-a-view-versus-a-copy\n",
      "  hours_select.drop(columns=['date', 'flag', 'geartype', 'fishing_hours', 'mmsi_present'], inplace=True)\n"
     ]
    },
    {
     "name": "stdout",
     "output_type": "stream",
     "text": [
      "3\n"
     ]
    },
    {
     "name": "stderr",
     "output_type": "stream",
     "text": [
      "C:\\Users\\keit8223\\AppData\\Local\\Temp\\1\\ipykernel_21680\\1813207608.py:4: SettingWithCopyWarning: \n",
      "A value is trying to be set on a copy of a slice from a DataFrame\n",
      "\n",
      "See the caveats in the documentation: https://pandas.pydata.org/pandas-docs/stable/user_guide/indexing.html#returning-a-view-versus-a-copy\n",
      "  fishhours_select.drop(columns=['date', 'flag', 'geartype', 'hours', 'mmsi_present'], inplace=True)\n"
     ]
    },
    {
     "name": "stdout",
     "output_type": "stream",
     "text": [
      "Starting processing of 2020-03-08.csv...\n",
      "F:\\Global Fishing Watch\\Fishing Intensity\\v2\\fleet-daily\\fleet-daily-csvs-100-v2-2020\\2020-03-08.csv\n",
      "Done with 2020_03_08...\n"
     ]
    },
    {
     "name": "stderr",
     "output_type": "stream",
     "text": [
      "C:\\Users\\keit8223\\AppData\\Local\\Temp\\1\\ipykernel_21680\\959929405.py:5: SettingWithCopyWarning: \n",
      "A value is trying to be set on a copy of a slice from a DataFrame\n",
      "\n",
      "See the caveats in the documentation: https://pandas.pydata.org/pandas-docs/stable/user_guide/indexing.html#returning-a-view-versus-a-copy\n",
      "  hours_select.drop(columns=['date', 'flag', 'geartype', 'fishing_hours', 'mmsi_present'], inplace=True)\n"
     ]
    },
    {
     "name": "stdout",
     "output_type": "stream",
     "text": [
      "3\n"
     ]
    },
    {
     "name": "stderr",
     "output_type": "stream",
     "text": [
      "C:\\Users\\keit8223\\AppData\\Local\\Temp\\1\\ipykernel_21680\\1813207608.py:4: SettingWithCopyWarning: \n",
      "A value is trying to be set on a copy of a slice from a DataFrame\n",
      "\n",
      "See the caveats in the documentation: https://pandas.pydata.org/pandas-docs/stable/user_guide/indexing.html#returning-a-view-versus-a-copy\n",
      "  fishhours_select.drop(columns=['date', 'flag', 'geartype', 'hours', 'mmsi_present'], inplace=True)\n"
     ]
    },
    {
     "name": "stdout",
     "output_type": "stream",
     "text": [
      "Starting processing of 2020-03-09.csv...\n",
      "F:\\Global Fishing Watch\\Fishing Intensity\\v2\\fleet-daily\\fleet-daily-csvs-100-v2-2020\\2020-03-09.csv\n",
      "Done with 2020_03_09...\n"
     ]
    },
    {
     "name": "stderr",
     "output_type": "stream",
     "text": [
      "C:\\Users\\keit8223\\AppData\\Local\\Temp\\1\\ipykernel_21680\\959929405.py:5: SettingWithCopyWarning: \n",
      "A value is trying to be set on a copy of a slice from a DataFrame\n",
      "\n",
      "See the caveats in the documentation: https://pandas.pydata.org/pandas-docs/stable/user_guide/indexing.html#returning-a-view-versus-a-copy\n",
      "  hours_select.drop(columns=['date', 'flag', 'geartype', 'fishing_hours', 'mmsi_present'], inplace=True)\n"
     ]
    },
    {
     "name": "stdout",
     "output_type": "stream",
     "text": [
      "3\n"
     ]
    },
    {
     "name": "stderr",
     "output_type": "stream",
     "text": [
      "C:\\Users\\keit8223\\AppData\\Local\\Temp\\1\\ipykernel_21680\\1813207608.py:4: SettingWithCopyWarning: \n",
      "A value is trying to be set on a copy of a slice from a DataFrame\n",
      "\n",
      "See the caveats in the documentation: https://pandas.pydata.org/pandas-docs/stable/user_guide/indexing.html#returning-a-view-versus-a-copy\n",
      "  fishhours_select.drop(columns=['date', 'flag', 'geartype', 'hours', 'mmsi_present'], inplace=True)\n"
     ]
    },
    {
     "name": "stdout",
     "output_type": "stream",
     "text": [
      "Starting processing of 2020-03-10.csv...\n",
      "F:\\Global Fishing Watch\\Fishing Intensity\\v2\\fleet-daily\\fleet-daily-csvs-100-v2-2020\\2020-03-10.csv\n",
      "Done with 2020_03_10...\n"
     ]
    },
    {
     "name": "stderr",
     "output_type": "stream",
     "text": [
      "C:\\Users\\keit8223\\AppData\\Local\\Temp\\1\\ipykernel_21680\\959929405.py:5: SettingWithCopyWarning: \n",
      "A value is trying to be set on a copy of a slice from a DataFrame\n",
      "\n",
      "See the caveats in the documentation: https://pandas.pydata.org/pandas-docs/stable/user_guide/indexing.html#returning-a-view-versus-a-copy\n",
      "  hours_select.drop(columns=['date', 'flag', 'geartype', 'fishing_hours', 'mmsi_present'], inplace=True)\n"
     ]
    },
    {
     "name": "stdout",
     "output_type": "stream",
     "text": [
      "3\n"
     ]
    },
    {
     "name": "stderr",
     "output_type": "stream",
     "text": [
      "C:\\Users\\keit8223\\AppData\\Local\\Temp\\1\\ipykernel_21680\\1813207608.py:4: SettingWithCopyWarning: \n",
      "A value is trying to be set on a copy of a slice from a DataFrame\n",
      "\n",
      "See the caveats in the documentation: https://pandas.pydata.org/pandas-docs/stable/user_guide/indexing.html#returning-a-view-versus-a-copy\n",
      "  fishhours_select.drop(columns=['date', 'flag', 'geartype', 'hours', 'mmsi_present'], inplace=True)\n"
     ]
    },
    {
     "name": "stdout",
     "output_type": "stream",
     "text": [
      "Starting processing of 2020-03-11.csv...\n",
      "F:\\Global Fishing Watch\\Fishing Intensity\\v2\\fleet-daily\\fleet-daily-csvs-100-v2-2020\\2020-03-11.csv\n",
      "Done with 2020_03_11...\n"
     ]
    },
    {
     "name": "stderr",
     "output_type": "stream",
     "text": [
      "C:\\Users\\keit8223\\AppData\\Local\\Temp\\1\\ipykernel_21680\\959929405.py:5: SettingWithCopyWarning: \n",
      "A value is trying to be set on a copy of a slice from a DataFrame\n",
      "\n",
      "See the caveats in the documentation: https://pandas.pydata.org/pandas-docs/stable/user_guide/indexing.html#returning-a-view-versus-a-copy\n",
      "  hours_select.drop(columns=['date', 'flag', 'geartype', 'fishing_hours', 'mmsi_present'], inplace=True)\n"
     ]
    },
    {
     "name": "stdout",
     "output_type": "stream",
     "text": [
      "3\n"
     ]
    },
    {
     "name": "stderr",
     "output_type": "stream",
     "text": [
      "C:\\Users\\keit8223\\AppData\\Local\\Temp\\1\\ipykernel_21680\\1813207608.py:4: SettingWithCopyWarning: \n",
      "A value is trying to be set on a copy of a slice from a DataFrame\n",
      "\n",
      "See the caveats in the documentation: https://pandas.pydata.org/pandas-docs/stable/user_guide/indexing.html#returning-a-view-versus-a-copy\n",
      "  fishhours_select.drop(columns=['date', 'flag', 'geartype', 'hours', 'mmsi_present'], inplace=True)\n"
     ]
    },
    {
     "name": "stdout",
     "output_type": "stream",
     "text": [
      "Starting processing of 2020-03-12.csv...\n",
      "F:\\Global Fishing Watch\\Fishing Intensity\\v2\\fleet-daily\\fleet-daily-csvs-100-v2-2020\\2020-03-12.csv\n",
      "Done with 2020_03_12...\n"
     ]
    },
    {
     "name": "stderr",
     "output_type": "stream",
     "text": [
      "C:\\Users\\keit8223\\AppData\\Local\\Temp\\1\\ipykernel_21680\\959929405.py:5: SettingWithCopyWarning: \n",
      "A value is trying to be set on a copy of a slice from a DataFrame\n",
      "\n",
      "See the caveats in the documentation: https://pandas.pydata.org/pandas-docs/stable/user_guide/indexing.html#returning-a-view-versus-a-copy\n",
      "  hours_select.drop(columns=['date', 'flag', 'geartype', 'fishing_hours', 'mmsi_present'], inplace=True)\n"
     ]
    },
    {
     "name": "stdout",
     "output_type": "stream",
     "text": [
      "3\n"
     ]
    },
    {
     "name": "stderr",
     "output_type": "stream",
     "text": [
      "C:\\Users\\keit8223\\AppData\\Local\\Temp\\1\\ipykernel_21680\\1813207608.py:4: SettingWithCopyWarning: \n",
      "A value is trying to be set on a copy of a slice from a DataFrame\n",
      "\n",
      "See the caveats in the documentation: https://pandas.pydata.org/pandas-docs/stable/user_guide/indexing.html#returning-a-view-versus-a-copy\n",
      "  fishhours_select.drop(columns=['date', 'flag', 'geartype', 'hours', 'mmsi_present'], inplace=True)\n"
     ]
    },
    {
     "name": "stdout",
     "output_type": "stream",
     "text": [
      "Starting processing of 2020-03-13.csv...\n",
      "F:\\Global Fishing Watch\\Fishing Intensity\\v2\\fleet-daily\\fleet-daily-csvs-100-v2-2020\\2020-03-13.csv\n",
      "Done with 2020_03_13...\n"
     ]
    },
    {
     "name": "stderr",
     "output_type": "stream",
     "text": [
      "C:\\Users\\keit8223\\AppData\\Local\\Temp\\1\\ipykernel_21680\\959929405.py:5: SettingWithCopyWarning: \n",
      "A value is trying to be set on a copy of a slice from a DataFrame\n",
      "\n",
      "See the caveats in the documentation: https://pandas.pydata.org/pandas-docs/stable/user_guide/indexing.html#returning-a-view-versus-a-copy\n",
      "  hours_select.drop(columns=['date', 'flag', 'geartype', 'fishing_hours', 'mmsi_present'], inplace=True)\n"
     ]
    },
    {
     "name": "stdout",
     "output_type": "stream",
     "text": [
      "3\n"
     ]
    },
    {
     "name": "stderr",
     "output_type": "stream",
     "text": [
      "C:\\Users\\keit8223\\AppData\\Local\\Temp\\1\\ipykernel_21680\\1813207608.py:4: SettingWithCopyWarning: \n",
      "A value is trying to be set on a copy of a slice from a DataFrame\n",
      "\n",
      "See the caveats in the documentation: https://pandas.pydata.org/pandas-docs/stable/user_guide/indexing.html#returning-a-view-versus-a-copy\n",
      "  fishhours_select.drop(columns=['date', 'flag', 'geartype', 'hours', 'mmsi_present'], inplace=True)\n"
     ]
    },
    {
     "name": "stdout",
     "output_type": "stream",
     "text": [
      "Starting processing of 2020-03-14.csv...\n",
      "F:\\Global Fishing Watch\\Fishing Intensity\\v2\\fleet-daily\\fleet-daily-csvs-100-v2-2020\\2020-03-14.csv\n",
      "Done with 2020_03_14...\n"
     ]
    },
    {
     "name": "stderr",
     "output_type": "stream",
     "text": [
      "C:\\Users\\keit8223\\AppData\\Local\\Temp\\1\\ipykernel_21680\\959929405.py:5: SettingWithCopyWarning: \n",
      "A value is trying to be set on a copy of a slice from a DataFrame\n",
      "\n",
      "See the caveats in the documentation: https://pandas.pydata.org/pandas-docs/stable/user_guide/indexing.html#returning-a-view-versus-a-copy\n",
      "  hours_select.drop(columns=['date', 'flag', 'geartype', 'fishing_hours', 'mmsi_present'], inplace=True)\n"
     ]
    },
    {
     "name": "stdout",
     "output_type": "stream",
     "text": [
      "3\n"
     ]
    },
    {
     "name": "stderr",
     "output_type": "stream",
     "text": [
      "C:\\Users\\keit8223\\AppData\\Local\\Temp\\1\\ipykernel_21680\\1813207608.py:4: SettingWithCopyWarning: \n",
      "A value is trying to be set on a copy of a slice from a DataFrame\n",
      "\n",
      "See the caveats in the documentation: https://pandas.pydata.org/pandas-docs/stable/user_guide/indexing.html#returning-a-view-versus-a-copy\n",
      "  fishhours_select.drop(columns=['date', 'flag', 'geartype', 'hours', 'mmsi_present'], inplace=True)\n"
     ]
    },
    {
     "name": "stdout",
     "output_type": "stream",
     "text": [
      "Starting processing of 2020-03-15.csv...\n",
      "F:\\Global Fishing Watch\\Fishing Intensity\\v2\\fleet-daily\\fleet-daily-csvs-100-v2-2020\\2020-03-15.csv\n",
      "Done with 2020_03_15...\n"
     ]
    },
    {
     "name": "stderr",
     "output_type": "stream",
     "text": [
      "C:\\Users\\keit8223\\AppData\\Local\\Temp\\1\\ipykernel_21680\\959929405.py:5: SettingWithCopyWarning: \n",
      "A value is trying to be set on a copy of a slice from a DataFrame\n",
      "\n",
      "See the caveats in the documentation: https://pandas.pydata.org/pandas-docs/stable/user_guide/indexing.html#returning-a-view-versus-a-copy\n",
      "  hours_select.drop(columns=['date', 'flag', 'geartype', 'fishing_hours', 'mmsi_present'], inplace=True)\n"
     ]
    },
    {
     "name": "stdout",
     "output_type": "stream",
     "text": [
      "3\n"
     ]
    },
    {
     "name": "stderr",
     "output_type": "stream",
     "text": [
      "C:\\Users\\keit8223\\AppData\\Local\\Temp\\1\\ipykernel_21680\\1813207608.py:4: SettingWithCopyWarning: \n",
      "A value is trying to be set on a copy of a slice from a DataFrame\n",
      "\n",
      "See the caveats in the documentation: https://pandas.pydata.org/pandas-docs/stable/user_guide/indexing.html#returning-a-view-versus-a-copy\n",
      "  fishhours_select.drop(columns=['date', 'flag', 'geartype', 'hours', 'mmsi_present'], inplace=True)\n"
     ]
    },
    {
     "name": "stdout",
     "output_type": "stream",
     "text": [
      "Starting processing of 2020-03-16.csv...\n",
      "F:\\Global Fishing Watch\\Fishing Intensity\\v2\\fleet-daily\\fleet-daily-csvs-100-v2-2020\\2020-03-16.csv\n",
      "Done with 2020_03_16...\n"
     ]
    },
    {
     "name": "stderr",
     "output_type": "stream",
     "text": [
      "C:\\Users\\keit8223\\AppData\\Local\\Temp\\1\\ipykernel_21680\\959929405.py:5: SettingWithCopyWarning: \n",
      "A value is trying to be set on a copy of a slice from a DataFrame\n",
      "\n",
      "See the caveats in the documentation: https://pandas.pydata.org/pandas-docs/stable/user_guide/indexing.html#returning-a-view-versus-a-copy\n",
      "  hours_select.drop(columns=['date', 'flag', 'geartype', 'fishing_hours', 'mmsi_present'], inplace=True)\n"
     ]
    },
    {
     "name": "stdout",
     "output_type": "stream",
     "text": [
      "3\n"
     ]
    },
    {
     "name": "stderr",
     "output_type": "stream",
     "text": [
      "C:\\Users\\keit8223\\AppData\\Local\\Temp\\1\\ipykernel_21680\\1813207608.py:4: SettingWithCopyWarning: \n",
      "A value is trying to be set on a copy of a slice from a DataFrame\n",
      "\n",
      "See the caveats in the documentation: https://pandas.pydata.org/pandas-docs/stable/user_guide/indexing.html#returning-a-view-versus-a-copy\n",
      "  fishhours_select.drop(columns=['date', 'flag', 'geartype', 'hours', 'mmsi_present'], inplace=True)\n"
     ]
    },
    {
     "name": "stdout",
     "output_type": "stream",
     "text": [
      "Starting processing of 2020-03-17.csv...\n",
      "F:\\Global Fishing Watch\\Fishing Intensity\\v2\\fleet-daily\\fleet-daily-csvs-100-v2-2020\\2020-03-17.csv\n",
      "Done with 2020_03_17...\n"
     ]
    },
    {
     "name": "stderr",
     "output_type": "stream",
     "text": [
      "C:\\Users\\keit8223\\AppData\\Local\\Temp\\1\\ipykernel_21680\\959929405.py:5: SettingWithCopyWarning: \n",
      "A value is trying to be set on a copy of a slice from a DataFrame\n",
      "\n",
      "See the caveats in the documentation: https://pandas.pydata.org/pandas-docs/stable/user_guide/indexing.html#returning-a-view-versus-a-copy\n",
      "  hours_select.drop(columns=['date', 'flag', 'geartype', 'fishing_hours', 'mmsi_present'], inplace=True)\n"
     ]
    },
    {
     "name": "stdout",
     "output_type": "stream",
     "text": [
      "3\n"
     ]
    },
    {
     "name": "stderr",
     "output_type": "stream",
     "text": [
      "C:\\Users\\keit8223\\AppData\\Local\\Temp\\1\\ipykernel_21680\\1813207608.py:4: SettingWithCopyWarning: \n",
      "A value is trying to be set on a copy of a slice from a DataFrame\n",
      "\n",
      "See the caveats in the documentation: https://pandas.pydata.org/pandas-docs/stable/user_guide/indexing.html#returning-a-view-versus-a-copy\n",
      "  fishhours_select.drop(columns=['date', 'flag', 'geartype', 'hours', 'mmsi_present'], inplace=True)\n"
     ]
    },
    {
     "name": "stdout",
     "output_type": "stream",
     "text": [
      "Starting processing of 2020-03-18.csv...\n",
      "F:\\Global Fishing Watch\\Fishing Intensity\\v2\\fleet-daily\\fleet-daily-csvs-100-v2-2020\\2020-03-18.csv\n",
      "Done with 2020_03_18...\n"
     ]
    },
    {
     "name": "stderr",
     "output_type": "stream",
     "text": [
      "C:\\Users\\keit8223\\AppData\\Local\\Temp\\1\\ipykernel_21680\\959929405.py:5: SettingWithCopyWarning: \n",
      "A value is trying to be set on a copy of a slice from a DataFrame\n",
      "\n",
      "See the caveats in the documentation: https://pandas.pydata.org/pandas-docs/stable/user_guide/indexing.html#returning-a-view-versus-a-copy\n",
      "  hours_select.drop(columns=['date', 'flag', 'geartype', 'fishing_hours', 'mmsi_present'], inplace=True)\n"
     ]
    },
    {
     "name": "stdout",
     "output_type": "stream",
     "text": [
      "3\n"
     ]
    },
    {
     "name": "stderr",
     "output_type": "stream",
     "text": [
      "C:\\Users\\keit8223\\AppData\\Local\\Temp\\1\\ipykernel_21680\\1813207608.py:4: SettingWithCopyWarning: \n",
      "A value is trying to be set on a copy of a slice from a DataFrame\n",
      "\n",
      "See the caveats in the documentation: https://pandas.pydata.org/pandas-docs/stable/user_guide/indexing.html#returning-a-view-versus-a-copy\n",
      "  fishhours_select.drop(columns=['date', 'flag', 'geartype', 'hours', 'mmsi_present'], inplace=True)\n"
     ]
    },
    {
     "name": "stdout",
     "output_type": "stream",
     "text": [
      "Starting processing of 2020-03-19.csv...\n",
      "F:\\Global Fishing Watch\\Fishing Intensity\\v2\\fleet-daily\\fleet-daily-csvs-100-v2-2020\\2020-03-19.csv\n",
      "Done with 2020_03_19...\n"
     ]
    },
    {
     "name": "stderr",
     "output_type": "stream",
     "text": [
      "C:\\Users\\keit8223\\AppData\\Local\\Temp\\1\\ipykernel_21680\\959929405.py:5: SettingWithCopyWarning: \n",
      "A value is trying to be set on a copy of a slice from a DataFrame\n",
      "\n",
      "See the caveats in the documentation: https://pandas.pydata.org/pandas-docs/stable/user_guide/indexing.html#returning-a-view-versus-a-copy\n",
      "  hours_select.drop(columns=['date', 'flag', 'geartype', 'fishing_hours', 'mmsi_present'], inplace=True)\n"
     ]
    },
    {
     "name": "stdout",
     "output_type": "stream",
     "text": [
      "3\n"
     ]
    },
    {
     "name": "stderr",
     "output_type": "stream",
     "text": [
      "C:\\Users\\keit8223\\AppData\\Local\\Temp\\1\\ipykernel_21680\\1813207608.py:4: SettingWithCopyWarning: \n",
      "A value is trying to be set on a copy of a slice from a DataFrame\n",
      "\n",
      "See the caveats in the documentation: https://pandas.pydata.org/pandas-docs/stable/user_guide/indexing.html#returning-a-view-versus-a-copy\n",
      "  fishhours_select.drop(columns=['date', 'flag', 'geartype', 'hours', 'mmsi_present'], inplace=True)\n"
     ]
    },
    {
     "name": "stdout",
     "output_type": "stream",
     "text": [
      "Starting processing of 2020-03-20.csv...\n",
      "F:\\Global Fishing Watch\\Fishing Intensity\\v2\\fleet-daily\\fleet-daily-csvs-100-v2-2020\\2020-03-20.csv\n",
      "Done with 2020_03_20...\n"
     ]
    },
    {
     "name": "stderr",
     "output_type": "stream",
     "text": [
      "C:\\Users\\keit8223\\AppData\\Local\\Temp\\1\\ipykernel_21680\\959929405.py:5: SettingWithCopyWarning: \n",
      "A value is trying to be set on a copy of a slice from a DataFrame\n",
      "\n",
      "See the caveats in the documentation: https://pandas.pydata.org/pandas-docs/stable/user_guide/indexing.html#returning-a-view-versus-a-copy\n",
      "  hours_select.drop(columns=['date', 'flag', 'geartype', 'fishing_hours', 'mmsi_present'], inplace=True)\n"
     ]
    },
    {
     "name": "stdout",
     "output_type": "stream",
     "text": [
      "3\n"
     ]
    },
    {
     "name": "stderr",
     "output_type": "stream",
     "text": [
      "C:\\Users\\keit8223\\AppData\\Local\\Temp\\1\\ipykernel_21680\\1813207608.py:4: SettingWithCopyWarning: \n",
      "A value is trying to be set on a copy of a slice from a DataFrame\n",
      "\n",
      "See the caveats in the documentation: https://pandas.pydata.org/pandas-docs/stable/user_guide/indexing.html#returning-a-view-versus-a-copy\n",
      "  fishhours_select.drop(columns=['date', 'flag', 'geartype', 'hours', 'mmsi_present'], inplace=True)\n"
     ]
    },
    {
     "name": "stdout",
     "output_type": "stream",
     "text": [
      "Starting processing of 2020-03-21.csv...\n",
      "F:\\Global Fishing Watch\\Fishing Intensity\\v2\\fleet-daily\\fleet-daily-csvs-100-v2-2020\\2020-03-21.csv\n",
      "Done with 2020_03_21...\n"
     ]
    },
    {
     "name": "stderr",
     "output_type": "stream",
     "text": [
      "C:\\Users\\keit8223\\AppData\\Local\\Temp\\1\\ipykernel_21680\\959929405.py:5: SettingWithCopyWarning: \n",
      "A value is trying to be set on a copy of a slice from a DataFrame\n",
      "\n",
      "See the caveats in the documentation: https://pandas.pydata.org/pandas-docs/stable/user_guide/indexing.html#returning-a-view-versus-a-copy\n",
      "  hours_select.drop(columns=['date', 'flag', 'geartype', 'fishing_hours', 'mmsi_present'], inplace=True)\n"
     ]
    },
    {
     "name": "stdout",
     "output_type": "stream",
     "text": [
      "3\n"
     ]
    },
    {
     "name": "stderr",
     "output_type": "stream",
     "text": [
      "C:\\Users\\keit8223\\AppData\\Local\\Temp\\1\\ipykernel_21680\\1813207608.py:4: SettingWithCopyWarning: \n",
      "A value is trying to be set on a copy of a slice from a DataFrame\n",
      "\n",
      "See the caveats in the documentation: https://pandas.pydata.org/pandas-docs/stable/user_guide/indexing.html#returning-a-view-versus-a-copy\n",
      "  fishhours_select.drop(columns=['date', 'flag', 'geartype', 'hours', 'mmsi_present'], inplace=True)\n"
     ]
    },
    {
     "name": "stdout",
     "output_type": "stream",
     "text": [
      "Starting processing of 2020-03-22.csv...\n",
      "F:\\Global Fishing Watch\\Fishing Intensity\\v2\\fleet-daily\\fleet-daily-csvs-100-v2-2020\\2020-03-22.csv\n",
      "Done with 2020_03_22...\n"
     ]
    },
    {
     "name": "stderr",
     "output_type": "stream",
     "text": [
      "C:\\Users\\keit8223\\AppData\\Local\\Temp\\1\\ipykernel_21680\\959929405.py:5: SettingWithCopyWarning: \n",
      "A value is trying to be set on a copy of a slice from a DataFrame\n",
      "\n",
      "See the caveats in the documentation: https://pandas.pydata.org/pandas-docs/stable/user_guide/indexing.html#returning-a-view-versus-a-copy\n",
      "  hours_select.drop(columns=['date', 'flag', 'geartype', 'fishing_hours', 'mmsi_present'], inplace=True)\n"
     ]
    },
    {
     "name": "stdout",
     "output_type": "stream",
     "text": [
      "3\n"
     ]
    },
    {
     "name": "stderr",
     "output_type": "stream",
     "text": [
      "C:\\Users\\keit8223\\AppData\\Local\\Temp\\1\\ipykernel_21680\\1813207608.py:4: SettingWithCopyWarning: \n",
      "A value is trying to be set on a copy of a slice from a DataFrame\n",
      "\n",
      "See the caveats in the documentation: https://pandas.pydata.org/pandas-docs/stable/user_guide/indexing.html#returning-a-view-versus-a-copy\n",
      "  fishhours_select.drop(columns=['date', 'flag', 'geartype', 'hours', 'mmsi_present'], inplace=True)\n"
     ]
    },
    {
     "name": "stdout",
     "output_type": "stream",
     "text": [
      "Starting processing of 2020-03-23.csv...\n",
      "F:\\Global Fishing Watch\\Fishing Intensity\\v2\\fleet-daily\\fleet-daily-csvs-100-v2-2020\\2020-03-23.csv\n",
      "Done with 2020_03_23...\n"
     ]
    },
    {
     "name": "stderr",
     "output_type": "stream",
     "text": [
      "C:\\Users\\keit8223\\AppData\\Local\\Temp\\1\\ipykernel_21680\\959929405.py:5: SettingWithCopyWarning: \n",
      "A value is trying to be set on a copy of a slice from a DataFrame\n",
      "\n",
      "See the caveats in the documentation: https://pandas.pydata.org/pandas-docs/stable/user_guide/indexing.html#returning-a-view-versus-a-copy\n",
      "  hours_select.drop(columns=['date', 'flag', 'geartype', 'fishing_hours', 'mmsi_present'], inplace=True)\n"
     ]
    },
    {
     "name": "stdout",
     "output_type": "stream",
     "text": [
      "3\n"
     ]
    },
    {
     "name": "stderr",
     "output_type": "stream",
     "text": [
      "C:\\Users\\keit8223\\AppData\\Local\\Temp\\1\\ipykernel_21680\\1813207608.py:4: SettingWithCopyWarning: \n",
      "A value is trying to be set on a copy of a slice from a DataFrame\n",
      "\n",
      "See the caveats in the documentation: https://pandas.pydata.org/pandas-docs/stable/user_guide/indexing.html#returning-a-view-versus-a-copy\n",
      "  fishhours_select.drop(columns=['date', 'flag', 'geartype', 'hours', 'mmsi_present'], inplace=True)\n"
     ]
    },
    {
     "name": "stdout",
     "output_type": "stream",
     "text": [
      "Starting processing of 2020-03-24.csv...\n",
      "F:\\Global Fishing Watch\\Fishing Intensity\\v2\\fleet-daily\\fleet-daily-csvs-100-v2-2020\\2020-03-24.csv\n",
      "Done with 2020_03_24...\n"
     ]
    },
    {
     "name": "stderr",
     "output_type": "stream",
     "text": [
      "C:\\Users\\keit8223\\AppData\\Local\\Temp\\1\\ipykernel_21680\\959929405.py:5: SettingWithCopyWarning: \n",
      "A value is trying to be set on a copy of a slice from a DataFrame\n",
      "\n",
      "See the caveats in the documentation: https://pandas.pydata.org/pandas-docs/stable/user_guide/indexing.html#returning-a-view-versus-a-copy\n",
      "  hours_select.drop(columns=['date', 'flag', 'geartype', 'fishing_hours', 'mmsi_present'], inplace=True)\n"
     ]
    },
    {
     "name": "stdout",
     "output_type": "stream",
     "text": [
      "3\n"
     ]
    },
    {
     "name": "stderr",
     "output_type": "stream",
     "text": [
      "C:\\Users\\keit8223\\AppData\\Local\\Temp\\1\\ipykernel_21680\\1813207608.py:4: SettingWithCopyWarning: \n",
      "A value is trying to be set on a copy of a slice from a DataFrame\n",
      "\n",
      "See the caveats in the documentation: https://pandas.pydata.org/pandas-docs/stable/user_guide/indexing.html#returning-a-view-versus-a-copy\n",
      "  fishhours_select.drop(columns=['date', 'flag', 'geartype', 'hours', 'mmsi_present'], inplace=True)\n"
     ]
    },
    {
     "name": "stdout",
     "output_type": "stream",
     "text": [
      "Starting processing of 2020-03-25.csv...\n",
      "F:\\Global Fishing Watch\\Fishing Intensity\\v2\\fleet-daily\\fleet-daily-csvs-100-v2-2020\\2020-03-25.csv\n",
      "Done with 2020_03_25...\n"
     ]
    },
    {
     "name": "stderr",
     "output_type": "stream",
     "text": [
      "C:\\Users\\keit8223\\AppData\\Local\\Temp\\1\\ipykernel_21680\\959929405.py:5: SettingWithCopyWarning: \n",
      "A value is trying to be set on a copy of a slice from a DataFrame\n",
      "\n",
      "See the caveats in the documentation: https://pandas.pydata.org/pandas-docs/stable/user_guide/indexing.html#returning-a-view-versus-a-copy\n",
      "  hours_select.drop(columns=['date', 'flag', 'geartype', 'fishing_hours', 'mmsi_present'], inplace=True)\n"
     ]
    },
    {
     "name": "stdout",
     "output_type": "stream",
     "text": [
      "3\n"
     ]
    },
    {
     "name": "stderr",
     "output_type": "stream",
     "text": [
      "C:\\Users\\keit8223\\AppData\\Local\\Temp\\1\\ipykernel_21680\\1813207608.py:4: SettingWithCopyWarning: \n",
      "A value is trying to be set on a copy of a slice from a DataFrame\n",
      "\n",
      "See the caveats in the documentation: https://pandas.pydata.org/pandas-docs/stable/user_guide/indexing.html#returning-a-view-versus-a-copy\n",
      "  fishhours_select.drop(columns=['date', 'flag', 'geartype', 'hours', 'mmsi_present'], inplace=True)\n"
     ]
    },
    {
     "name": "stdout",
     "output_type": "stream",
     "text": [
      "Starting processing of 2020-03-26.csv...\n",
      "F:\\Global Fishing Watch\\Fishing Intensity\\v2\\fleet-daily\\fleet-daily-csvs-100-v2-2020\\2020-03-26.csv\n",
      "Done with 2020_03_26...\n"
     ]
    },
    {
     "name": "stderr",
     "output_type": "stream",
     "text": [
      "C:\\Users\\keit8223\\AppData\\Local\\Temp\\1\\ipykernel_21680\\959929405.py:5: SettingWithCopyWarning: \n",
      "A value is trying to be set on a copy of a slice from a DataFrame\n",
      "\n",
      "See the caveats in the documentation: https://pandas.pydata.org/pandas-docs/stable/user_guide/indexing.html#returning-a-view-versus-a-copy\n",
      "  hours_select.drop(columns=['date', 'flag', 'geartype', 'fishing_hours', 'mmsi_present'], inplace=True)\n"
     ]
    },
    {
     "name": "stdout",
     "output_type": "stream",
     "text": [
      "3\n"
     ]
    },
    {
     "name": "stderr",
     "output_type": "stream",
     "text": [
      "C:\\Users\\keit8223\\AppData\\Local\\Temp\\1\\ipykernel_21680\\1813207608.py:4: SettingWithCopyWarning: \n",
      "A value is trying to be set on a copy of a slice from a DataFrame\n",
      "\n",
      "See the caveats in the documentation: https://pandas.pydata.org/pandas-docs/stable/user_guide/indexing.html#returning-a-view-versus-a-copy\n",
      "  fishhours_select.drop(columns=['date', 'flag', 'geartype', 'hours', 'mmsi_present'], inplace=True)\n"
     ]
    },
    {
     "name": "stdout",
     "output_type": "stream",
     "text": [
      "Starting processing of 2020-03-27.csv...\n",
      "F:\\Global Fishing Watch\\Fishing Intensity\\v2\\fleet-daily\\fleet-daily-csvs-100-v2-2020\\2020-03-27.csv\n",
      "Done with 2020_03_27...\n"
     ]
    },
    {
     "name": "stderr",
     "output_type": "stream",
     "text": [
      "C:\\Users\\keit8223\\AppData\\Local\\Temp\\1\\ipykernel_21680\\959929405.py:5: SettingWithCopyWarning: \n",
      "A value is trying to be set on a copy of a slice from a DataFrame\n",
      "\n",
      "See the caveats in the documentation: https://pandas.pydata.org/pandas-docs/stable/user_guide/indexing.html#returning-a-view-versus-a-copy\n",
      "  hours_select.drop(columns=['date', 'flag', 'geartype', 'fishing_hours', 'mmsi_present'], inplace=True)\n"
     ]
    },
    {
     "name": "stdout",
     "output_type": "stream",
     "text": [
      "3\n"
     ]
    },
    {
     "name": "stderr",
     "output_type": "stream",
     "text": [
      "C:\\Users\\keit8223\\AppData\\Local\\Temp\\1\\ipykernel_21680\\1813207608.py:4: SettingWithCopyWarning: \n",
      "A value is trying to be set on a copy of a slice from a DataFrame\n",
      "\n",
      "See the caveats in the documentation: https://pandas.pydata.org/pandas-docs/stable/user_guide/indexing.html#returning-a-view-versus-a-copy\n",
      "  fishhours_select.drop(columns=['date', 'flag', 'geartype', 'hours', 'mmsi_present'], inplace=True)\n"
     ]
    },
    {
     "name": "stdout",
     "output_type": "stream",
     "text": [
      "Starting processing of 2020-03-28.csv...\n",
      "F:\\Global Fishing Watch\\Fishing Intensity\\v2\\fleet-daily\\fleet-daily-csvs-100-v2-2020\\2020-03-28.csv\n",
      "Done with 2020_03_28...\n"
     ]
    },
    {
     "name": "stderr",
     "output_type": "stream",
     "text": [
      "C:\\Users\\keit8223\\AppData\\Local\\Temp\\1\\ipykernel_21680\\959929405.py:5: SettingWithCopyWarning: \n",
      "A value is trying to be set on a copy of a slice from a DataFrame\n",
      "\n",
      "See the caveats in the documentation: https://pandas.pydata.org/pandas-docs/stable/user_guide/indexing.html#returning-a-view-versus-a-copy\n",
      "  hours_select.drop(columns=['date', 'flag', 'geartype', 'fishing_hours', 'mmsi_present'], inplace=True)\n"
     ]
    },
    {
     "name": "stdout",
     "output_type": "stream",
     "text": [
      "3\n"
     ]
    },
    {
     "name": "stderr",
     "output_type": "stream",
     "text": [
      "C:\\Users\\keit8223\\AppData\\Local\\Temp\\1\\ipykernel_21680\\1813207608.py:4: SettingWithCopyWarning: \n",
      "A value is trying to be set on a copy of a slice from a DataFrame\n",
      "\n",
      "See the caveats in the documentation: https://pandas.pydata.org/pandas-docs/stable/user_guide/indexing.html#returning-a-view-versus-a-copy\n",
      "  fishhours_select.drop(columns=['date', 'flag', 'geartype', 'hours', 'mmsi_present'], inplace=True)\n"
     ]
    },
    {
     "name": "stdout",
     "output_type": "stream",
     "text": [
      "Starting processing of 2020-03-29.csv...\n",
      "F:\\Global Fishing Watch\\Fishing Intensity\\v2\\fleet-daily\\fleet-daily-csvs-100-v2-2020\\2020-03-29.csv\n",
      "Done with 2020_03_29...\n"
     ]
    },
    {
     "name": "stderr",
     "output_type": "stream",
     "text": [
      "C:\\Users\\keit8223\\AppData\\Local\\Temp\\1\\ipykernel_21680\\959929405.py:5: SettingWithCopyWarning: \n",
      "A value is trying to be set on a copy of a slice from a DataFrame\n",
      "\n",
      "See the caveats in the documentation: https://pandas.pydata.org/pandas-docs/stable/user_guide/indexing.html#returning-a-view-versus-a-copy\n",
      "  hours_select.drop(columns=['date', 'flag', 'geartype', 'fishing_hours', 'mmsi_present'], inplace=True)\n"
     ]
    },
    {
     "name": "stdout",
     "output_type": "stream",
     "text": [
      "3\n"
     ]
    },
    {
     "name": "stderr",
     "output_type": "stream",
     "text": [
      "C:\\Users\\keit8223\\AppData\\Local\\Temp\\1\\ipykernel_21680\\1813207608.py:4: SettingWithCopyWarning: \n",
      "A value is trying to be set on a copy of a slice from a DataFrame\n",
      "\n",
      "See the caveats in the documentation: https://pandas.pydata.org/pandas-docs/stable/user_guide/indexing.html#returning-a-view-versus-a-copy\n",
      "  fishhours_select.drop(columns=['date', 'flag', 'geartype', 'hours', 'mmsi_present'], inplace=True)\n"
     ]
    },
    {
     "name": "stdout",
     "output_type": "stream",
     "text": [
      "Starting processing of 2020-03-30.csv...\n",
      "F:\\Global Fishing Watch\\Fishing Intensity\\v2\\fleet-daily\\fleet-daily-csvs-100-v2-2020\\2020-03-30.csv\n",
      "Done with 2020_03_30...\n"
     ]
    },
    {
     "name": "stderr",
     "output_type": "stream",
     "text": [
      "C:\\Users\\keit8223\\AppData\\Local\\Temp\\1\\ipykernel_21680\\959929405.py:5: SettingWithCopyWarning: \n",
      "A value is trying to be set on a copy of a slice from a DataFrame\n",
      "\n",
      "See the caveats in the documentation: https://pandas.pydata.org/pandas-docs/stable/user_guide/indexing.html#returning-a-view-versus-a-copy\n",
      "  hours_select.drop(columns=['date', 'flag', 'geartype', 'fishing_hours', 'mmsi_present'], inplace=True)\n"
     ]
    },
    {
     "name": "stdout",
     "output_type": "stream",
     "text": [
      "3\n"
     ]
    },
    {
     "name": "stderr",
     "output_type": "stream",
     "text": [
      "C:\\Users\\keit8223\\AppData\\Local\\Temp\\1\\ipykernel_21680\\1813207608.py:4: SettingWithCopyWarning: \n",
      "A value is trying to be set on a copy of a slice from a DataFrame\n",
      "\n",
      "See the caveats in the documentation: https://pandas.pydata.org/pandas-docs/stable/user_guide/indexing.html#returning-a-view-versus-a-copy\n",
      "  fishhours_select.drop(columns=['date', 'flag', 'geartype', 'hours', 'mmsi_present'], inplace=True)\n"
     ]
    },
    {
     "name": "stdout",
     "output_type": "stream",
     "text": [
      "Starting processing of 2020-03-31.csv...\n",
      "F:\\Global Fishing Watch\\Fishing Intensity\\v2\\fleet-daily\\fleet-daily-csvs-100-v2-2020\\2020-03-31.csv\n",
      "Done with 2020_03_31...\n"
     ]
    },
    {
     "name": "stderr",
     "output_type": "stream",
     "text": [
      "C:\\Users\\keit8223\\AppData\\Local\\Temp\\1\\ipykernel_21680\\959929405.py:5: SettingWithCopyWarning: \n",
      "A value is trying to be set on a copy of a slice from a DataFrame\n",
      "\n",
      "See the caveats in the documentation: https://pandas.pydata.org/pandas-docs/stable/user_guide/indexing.html#returning-a-view-versus-a-copy\n",
      "  hours_select.drop(columns=['date', 'flag', 'geartype', 'fishing_hours', 'mmsi_present'], inplace=True)\n"
     ]
    },
    {
     "name": "stdout",
     "output_type": "stream",
     "text": [
      "3\n"
     ]
    },
    {
     "name": "stderr",
     "output_type": "stream",
     "text": [
      "C:\\Users\\keit8223\\AppData\\Local\\Temp\\1\\ipykernel_21680\\1813207608.py:4: SettingWithCopyWarning: \n",
      "A value is trying to be set on a copy of a slice from a DataFrame\n",
      "\n",
      "See the caveats in the documentation: https://pandas.pydata.org/pandas-docs/stable/user_guide/indexing.html#returning-a-view-versus-a-copy\n",
      "  fishhours_select.drop(columns=['date', 'flag', 'geartype', 'hours', 'mmsi_present'], inplace=True)\n"
     ]
    },
    {
     "name": "stdout",
     "output_type": "stream",
     "text": [
      "Starting processing of 2020-04-01.csv...\n",
      "F:\\Global Fishing Watch\\Fishing Intensity\\v2\\fleet-daily\\fleet-daily-csvs-100-v2-2020\\2020-04-01.csv\n",
      "Done with 2020_04_01...\n"
     ]
    },
    {
     "name": "stderr",
     "output_type": "stream",
     "text": [
      "C:\\Users\\keit8223\\AppData\\Local\\Temp\\1\\ipykernel_21680\\959929405.py:5: SettingWithCopyWarning: \n",
      "A value is trying to be set on a copy of a slice from a DataFrame\n",
      "\n",
      "See the caveats in the documentation: https://pandas.pydata.org/pandas-docs/stable/user_guide/indexing.html#returning-a-view-versus-a-copy\n",
      "  hours_select.drop(columns=['date', 'flag', 'geartype', 'fishing_hours', 'mmsi_present'], inplace=True)\n"
     ]
    },
    {
     "name": "stdout",
     "output_type": "stream",
     "text": [
      "3\n"
     ]
    },
    {
     "name": "stderr",
     "output_type": "stream",
     "text": [
      "C:\\Users\\keit8223\\AppData\\Local\\Temp\\1\\ipykernel_21680\\1813207608.py:4: SettingWithCopyWarning: \n",
      "A value is trying to be set on a copy of a slice from a DataFrame\n",
      "\n",
      "See the caveats in the documentation: https://pandas.pydata.org/pandas-docs/stable/user_guide/indexing.html#returning-a-view-versus-a-copy\n",
      "  fishhours_select.drop(columns=['date', 'flag', 'geartype', 'hours', 'mmsi_present'], inplace=True)\n"
     ]
    },
    {
     "name": "stdout",
     "output_type": "stream",
     "text": [
      "Starting processing of 2020-04-02.csv...\n",
      "F:\\Global Fishing Watch\\Fishing Intensity\\v2\\fleet-daily\\fleet-daily-csvs-100-v2-2020\\2020-04-02.csv\n",
      "Done with 2020_04_02...\n"
     ]
    },
    {
     "name": "stderr",
     "output_type": "stream",
     "text": [
      "C:\\Users\\keit8223\\AppData\\Local\\Temp\\1\\ipykernel_21680\\959929405.py:5: SettingWithCopyWarning: \n",
      "A value is trying to be set on a copy of a slice from a DataFrame\n",
      "\n",
      "See the caveats in the documentation: https://pandas.pydata.org/pandas-docs/stable/user_guide/indexing.html#returning-a-view-versus-a-copy\n",
      "  hours_select.drop(columns=['date', 'flag', 'geartype', 'fishing_hours', 'mmsi_present'], inplace=True)\n"
     ]
    },
    {
     "name": "stdout",
     "output_type": "stream",
     "text": [
      "3\n"
     ]
    },
    {
     "name": "stderr",
     "output_type": "stream",
     "text": [
      "C:\\Users\\keit8223\\AppData\\Local\\Temp\\1\\ipykernel_21680\\1813207608.py:4: SettingWithCopyWarning: \n",
      "A value is trying to be set on a copy of a slice from a DataFrame\n",
      "\n",
      "See the caveats in the documentation: https://pandas.pydata.org/pandas-docs/stable/user_guide/indexing.html#returning-a-view-versus-a-copy\n",
      "  fishhours_select.drop(columns=['date', 'flag', 'geartype', 'hours', 'mmsi_present'], inplace=True)\n"
     ]
    },
    {
     "name": "stdout",
     "output_type": "stream",
     "text": [
      "Starting processing of 2020-04-03.csv...\n",
      "F:\\Global Fishing Watch\\Fishing Intensity\\v2\\fleet-daily\\fleet-daily-csvs-100-v2-2020\\2020-04-03.csv\n",
      "Done with 2020_04_03...\n"
     ]
    },
    {
     "name": "stderr",
     "output_type": "stream",
     "text": [
      "C:\\Users\\keit8223\\AppData\\Local\\Temp\\1\\ipykernel_21680\\959929405.py:5: SettingWithCopyWarning: \n",
      "A value is trying to be set on a copy of a slice from a DataFrame\n",
      "\n",
      "See the caveats in the documentation: https://pandas.pydata.org/pandas-docs/stable/user_guide/indexing.html#returning-a-view-versus-a-copy\n",
      "  hours_select.drop(columns=['date', 'flag', 'geartype', 'fishing_hours', 'mmsi_present'], inplace=True)\n"
     ]
    },
    {
     "name": "stdout",
     "output_type": "stream",
     "text": [
      "3\n"
     ]
    },
    {
     "name": "stderr",
     "output_type": "stream",
     "text": [
      "C:\\Users\\keit8223\\AppData\\Local\\Temp\\1\\ipykernel_21680\\1813207608.py:4: SettingWithCopyWarning: \n",
      "A value is trying to be set on a copy of a slice from a DataFrame\n",
      "\n",
      "See the caveats in the documentation: https://pandas.pydata.org/pandas-docs/stable/user_guide/indexing.html#returning-a-view-versus-a-copy\n",
      "  fishhours_select.drop(columns=['date', 'flag', 'geartype', 'hours', 'mmsi_present'], inplace=True)\n"
     ]
    },
    {
     "name": "stdout",
     "output_type": "stream",
     "text": [
      "Starting processing of 2020-04-04.csv...\n",
      "F:\\Global Fishing Watch\\Fishing Intensity\\v2\\fleet-daily\\fleet-daily-csvs-100-v2-2020\\2020-04-04.csv\n",
      "Done with 2020_04_04...\n"
     ]
    },
    {
     "name": "stderr",
     "output_type": "stream",
     "text": [
      "C:\\Users\\keit8223\\AppData\\Local\\Temp\\1\\ipykernel_21680\\959929405.py:5: SettingWithCopyWarning: \n",
      "A value is trying to be set on a copy of a slice from a DataFrame\n",
      "\n",
      "See the caveats in the documentation: https://pandas.pydata.org/pandas-docs/stable/user_guide/indexing.html#returning-a-view-versus-a-copy\n",
      "  hours_select.drop(columns=['date', 'flag', 'geartype', 'fishing_hours', 'mmsi_present'], inplace=True)\n"
     ]
    },
    {
     "name": "stdout",
     "output_type": "stream",
     "text": [
      "3\n"
     ]
    },
    {
     "name": "stderr",
     "output_type": "stream",
     "text": [
      "C:\\Users\\keit8223\\AppData\\Local\\Temp\\1\\ipykernel_21680\\1813207608.py:4: SettingWithCopyWarning: \n",
      "A value is trying to be set on a copy of a slice from a DataFrame\n",
      "\n",
      "See the caveats in the documentation: https://pandas.pydata.org/pandas-docs/stable/user_guide/indexing.html#returning-a-view-versus-a-copy\n",
      "  fishhours_select.drop(columns=['date', 'flag', 'geartype', 'hours', 'mmsi_present'], inplace=True)\n"
     ]
    },
    {
     "name": "stdout",
     "output_type": "stream",
     "text": [
      "Starting processing of 2020-04-05.csv...\n",
      "F:\\Global Fishing Watch\\Fishing Intensity\\v2\\fleet-daily\\fleet-daily-csvs-100-v2-2020\\2020-04-05.csv\n",
      "Done with 2020_04_05...\n"
     ]
    },
    {
     "name": "stderr",
     "output_type": "stream",
     "text": [
      "C:\\Users\\keit8223\\AppData\\Local\\Temp\\1\\ipykernel_21680\\959929405.py:5: SettingWithCopyWarning: \n",
      "A value is trying to be set on a copy of a slice from a DataFrame\n",
      "\n",
      "See the caveats in the documentation: https://pandas.pydata.org/pandas-docs/stable/user_guide/indexing.html#returning-a-view-versus-a-copy\n",
      "  hours_select.drop(columns=['date', 'flag', 'geartype', 'fishing_hours', 'mmsi_present'], inplace=True)\n"
     ]
    },
    {
     "name": "stdout",
     "output_type": "stream",
     "text": [
      "3\n"
     ]
    },
    {
     "name": "stderr",
     "output_type": "stream",
     "text": [
      "C:\\Users\\keit8223\\AppData\\Local\\Temp\\1\\ipykernel_21680\\1813207608.py:4: SettingWithCopyWarning: \n",
      "A value is trying to be set on a copy of a slice from a DataFrame\n",
      "\n",
      "See the caveats in the documentation: https://pandas.pydata.org/pandas-docs/stable/user_guide/indexing.html#returning-a-view-versus-a-copy\n",
      "  fishhours_select.drop(columns=['date', 'flag', 'geartype', 'hours', 'mmsi_present'], inplace=True)\n"
     ]
    },
    {
     "name": "stdout",
     "output_type": "stream",
     "text": [
      "Starting processing of 2020-04-06.csv...\n",
      "F:\\Global Fishing Watch\\Fishing Intensity\\v2\\fleet-daily\\fleet-daily-csvs-100-v2-2020\\2020-04-06.csv\n",
      "Done with 2020_04_06...\n"
     ]
    },
    {
     "name": "stderr",
     "output_type": "stream",
     "text": [
      "C:\\Users\\keit8223\\AppData\\Local\\Temp\\1\\ipykernel_21680\\959929405.py:5: SettingWithCopyWarning: \n",
      "A value is trying to be set on a copy of a slice from a DataFrame\n",
      "\n",
      "See the caveats in the documentation: https://pandas.pydata.org/pandas-docs/stable/user_guide/indexing.html#returning-a-view-versus-a-copy\n",
      "  hours_select.drop(columns=['date', 'flag', 'geartype', 'fishing_hours', 'mmsi_present'], inplace=True)\n"
     ]
    },
    {
     "name": "stdout",
     "output_type": "stream",
     "text": [
      "3\n"
     ]
    },
    {
     "name": "stderr",
     "output_type": "stream",
     "text": [
      "C:\\Users\\keit8223\\AppData\\Local\\Temp\\1\\ipykernel_21680\\1813207608.py:4: SettingWithCopyWarning: \n",
      "A value is trying to be set on a copy of a slice from a DataFrame\n",
      "\n",
      "See the caveats in the documentation: https://pandas.pydata.org/pandas-docs/stable/user_guide/indexing.html#returning-a-view-versus-a-copy\n",
      "  fishhours_select.drop(columns=['date', 'flag', 'geartype', 'hours', 'mmsi_present'], inplace=True)\n"
     ]
    },
    {
     "name": "stdout",
     "output_type": "stream",
     "text": [
      "Starting processing of 2020-04-07.csv...\n",
      "F:\\Global Fishing Watch\\Fishing Intensity\\v2\\fleet-daily\\fleet-daily-csvs-100-v2-2020\\2020-04-07.csv\n",
      "Done with 2020_04_07...\n"
     ]
    },
    {
     "name": "stderr",
     "output_type": "stream",
     "text": [
      "C:\\Users\\keit8223\\AppData\\Local\\Temp\\1\\ipykernel_21680\\959929405.py:5: SettingWithCopyWarning: \n",
      "A value is trying to be set on a copy of a slice from a DataFrame\n",
      "\n",
      "See the caveats in the documentation: https://pandas.pydata.org/pandas-docs/stable/user_guide/indexing.html#returning-a-view-versus-a-copy\n",
      "  hours_select.drop(columns=['date', 'flag', 'geartype', 'fishing_hours', 'mmsi_present'], inplace=True)\n"
     ]
    },
    {
     "name": "stdout",
     "output_type": "stream",
     "text": [
      "3\n"
     ]
    },
    {
     "name": "stderr",
     "output_type": "stream",
     "text": [
      "C:\\Users\\keit8223\\AppData\\Local\\Temp\\1\\ipykernel_21680\\1813207608.py:4: SettingWithCopyWarning: \n",
      "A value is trying to be set on a copy of a slice from a DataFrame\n",
      "\n",
      "See the caveats in the documentation: https://pandas.pydata.org/pandas-docs/stable/user_guide/indexing.html#returning-a-view-versus-a-copy\n",
      "  fishhours_select.drop(columns=['date', 'flag', 'geartype', 'hours', 'mmsi_present'], inplace=True)\n"
     ]
    },
    {
     "name": "stdout",
     "output_type": "stream",
     "text": [
      "Starting processing of 2020-04-08.csv...\n",
      "F:\\Global Fishing Watch\\Fishing Intensity\\v2\\fleet-daily\\fleet-daily-csvs-100-v2-2020\\2020-04-08.csv\n",
      "Done with 2020_04_08...\n"
     ]
    },
    {
     "name": "stderr",
     "output_type": "stream",
     "text": [
      "C:\\Users\\keit8223\\AppData\\Local\\Temp\\1\\ipykernel_21680\\959929405.py:5: SettingWithCopyWarning: \n",
      "A value is trying to be set on a copy of a slice from a DataFrame\n",
      "\n",
      "See the caveats in the documentation: https://pandas.pydata.org/pandas-docs/stable/user_guide/indexing.html#returning-a-view-versus-a-copy\n",
      "  hours_select.drop(columns=['date', 'flag', 'geartype', 'fishing_hours', 'mmsi_present'], inplace=True)\n"
     ]
    },
    {
     "name": "stdout",
     "output_type": "stream",
     "text": [
      "3\n"
     ]
    },
    {
     "name": "stderr",
     "output_type": "stream",
     "text": [
      "C:\\Users\\keit8223\\AppData\\Local\\Temp\\1\\ipykernel_21680\\1813207608.py:4: SettingWithCopyWarning: \n",
      "A value is trying to be set on a copy of a slice from a DataFrame\n",
      "\n",
      "See the caveats in the documentation: https://pandas.pydata.org/pandas-docs/stable/user_guide/indexing.html#returning-a-view-versus-a-copy\n",
      "  fishhours_select.drop(columns=['date', 'flag', 'geartype', 'hours', 'mmsi_present'], inplace=True)\n"
     ]
    },
    {
     "name": "stdout",
     "output_type": "stream",
     "text": [
      "Starting processing of 2020-04-09.csv...\n",
      "F:\\Global Fishing Watch\\Fishing Intensity\\v2\\fleet-daily\\fleet-daily-csvs-100-v2-2020\\2020-04-09.csv\n",
      "Done with 2020_04_09...\n"
     ]
    },
    {
     "name": "stderr",
     "output_type": "stream",
     "text": [
      "C:\\Users\\keit8223\\AppData\\Local\\Temp\\1\\ipykernel_21680\\959929405.py:5: SettingWithCopyWarning: \n",
      "A value is trying to be set on a copy of a slice from a DataFrame\n",
      "\n",
      "See the caveats in the documentation: https://pandas.pydata.org/pandas-docs/stable/user_guide/indexing.html#returning-a-view-versus-a-copy\n",
      "  hours_select.drop(columns=['date', 'flag', 'geartype', 'fishing_hours', 'mmsi_present'], inplace=True)\n"
     ]
    },
    {
     "name": "stdout",
     "output_type": "stream",
     "text": [
      "3\n"
     ]
    },
    {
     "name": "stderr",
     "output_type": "stream",
     "text": [
      "C:\\Users\\keit8223\\AppData\\Local\\Temp\\1\\ipykernel_21680\\1813207608.py:4: SettingWithCopyWarning: \n",
      "A value is trying to be set on a copy of a slice from a DataFrame\n",
      "\n",
      "See the caveats in the documentation: https://pandas.pydata.org/pandas-docs/stable/user_guide/indexing.html#returning-a-view-versus-a-copy\n",
      "  fishhours_select.drop(columns=['date', 'flag', 'geartype', 'hours', 'mmsi_present'], inplace=True)\n"
     ]
    },
    {
     "name": "stdout",
     "output_type": "stream",
     "text": [
      "Starting processing of 2020-04-10.csv...\n",
      "F:\\Global Fishing Watch\\Fishing Intensity\\v2\\fleet-daily\\fleet-daily-csvs-100-v2-2020\\2020-04-10.csv\n",
      "Done with 2020_04_10...\n"
     ]
    },
    {
     "name": "stderr",
     "output_type": "stream",
     "text": [
      "C:\\Users\\keit8223\\AppData\\Local\\Temp\\1\\ipykernel_21680\\959929405.py:5: SettingWithCopyWarning: \n",
      "A value is trying to be set on a copy of a slice from a DataFrame\n",
      "\n",
      "See the caveats in the documentation: https://pandas.pydata.org/pandas-docs/stable/user_guide/indexing.html#returning-a-view-versus-a-copy\n",
      "  hours_select.drop(columns=['date', 'flag', 'geartype', 'fishing_hours', 'mmsi_present'], inplace=True)\n"
     ]
    },
    {
     "name": "stdout",
     "output_type": "stream",
     "text": [
      "3\n"
     ]
    },
    {
     "name": "stderr",
     "output_type": "stream",
     "text": [
      "C:\\Users\\keit8223\\AppData\\Local\\Temp\\1\\ipykernel_21680\\1813207608.py:4: SettingWithCopyWarning: \n",
      "A value is trying to be set on a copy of a slice from a DataFrame\n",
      "\n",
      "See the caveats in the documentation: https://pandas.pydata.org/pandas-docs/stable/user_guide/indexing.html#returning-a-view-versus-a-copy\n",
      "  fishhours_select.drop(columns=['date', 'flag', 'geartype', 'hours', 'mmsi_present'], inplace=True)\n"
     ]
    },
    {
     "name": "stdout",
     "output_type": "stream",
     "text": [
      "Starting processing of 2020-04-11.csv...\n",
      "F:\\Global Fishing Watch\\Fishing Intensity\\v2\\fleet-daily\\fleet-daily-csvs-100-v2-2020\\2020-04-11.csv\n",
      "Done with 2020_04_11...\n"
     ]
    },
    {
     "name": "stderr",
     "output_type": "stream",
     "text": [
      "C:\\Users\\keit8223\\AppData\\Local\\Temp\\1\\ipykernel_21680\\959929405.py:5: SettingWithCopyWarning: \n",
      "A value is trying to be set on a copy of a slice from a DataFrame\n",
      "\n",
      "See the caveats in the documentation: https://pandas.pydata.org/pandas-docs/stable/user_guide/indexing.html#returning-a-view-versus-a-copy\n",
      "  hours_select.drop(columns=['date', 'flag', 'geartype', 'fishing_hours', 'mmsi_present'], inplace=True)\n"
     ]
    },
    {
     "name": "stdout",
     "output_type": "stream",
     "text": [
      "3\n"
     ]
    },
    {
     "name": "stderr",
     "output_type": "stream",
     "text": [
      "C:\\Users\\keit8223\\AppData\\Local\\Temp\\1\\ipykernel_21680\\1813207608.py:4: SettingWithCopyWarning: \n",
      "A value is trying to be set on a copy of a slice from a DataFrame\n",
      "\n",
      "See the caveats in the documentation: https://pandas.pydata.org/pandas-docs/stable/user_guide/indexing.html#returning-a-view-versus-a-copy\n",
      "  fishhours_select.drop(columns=['date', 'flag', 'geartype', 'hours', 'mmsi_present'], inplace=True)\n"
     ]
    },
    {
     "name": "stdout",
     "output_type": "stream",
     "text": [
      "Starting processing of 2020-04-12.csv...\n",
      "F:\\Global Fishing Watch\\Fishing Intensity\\v2\\fleet-daily\\fleet-daily-csvs-100-v2-2020\\2020-04-12.csv\n",
      "Done with 2020_04_12...\n"
     ]
    },
    {
     "name": "stderr",
     "output_type": "stream",
     "text": [
      "C:\\Users\\keit8223\\AppData\\Local\\Temp\\1\\ipykernel_21680\\959929405.py:5: SettingWithCopyWarning: \n",
      "A value is trying to be set on a copy of a slice from a DataFrame\n",
      "\n",
      "See the caveats in the documentation: https://pandas.pydata.org/pandas-docs/stable/user_guide/indexing.html#returning-a-view-versus-a-copy\n",
      "  hours_select.drop(columns=['date', 'flag', 'geartype', 'fishing_hours', 'mmsi_present'], inplace=True)\n"
     ]
    },
    {
     "name": "stdout",
     "output_type": "stream",
     "text": [
      "3\n"
     ]
    },
    {
     "name": "stderr",
     "output_type": "stream",
     "text": [
      "C:\\Users\\keit8223\\AppData\\Local\\Temp\\1\\ipykernel_21680\\1813207608.py:4: SettingWithCopyWarning: \n",
      "A value is trying to be set on a copy of a slice from a DataFrame\n",
      "\n",
      "See the caveats in the documentation: https://pandas.pydata.org/pandas-docs/stable/user_guide/indexing.html#returning-a-view-versus-a-copy\n",
      "  fishhours_select.drop(columns=['date', 'flag', 'geartype', 'hours', 'mmsi_present'], inplace=True)\n"
     ]
    },
    {
     "name": "stdout",
     "output_type": "stream",
     "text": [
      "Starting processing of 2020-04-13.csv...\n",
      "F:\\Global Fishing Watch\\Fishing Intensity\\v2\\fleet-daily\\fleet-daily-csvs-100-v2-2020\\2020-04-13.csv\n",
      "Done with 2020_04_13...\n"
     ]
    },
    {
     "name": "stderr",
     "output_type": "stream",
     "text": [
      "C:\\Users\\keit8223\\AppData\\Local\\Temp\\1\\ipykernel_21680\\959929405.py:5: SettingWithCopyWarning: \n",
      "A value is trying to be set on a copy of a slice from a DataFrame\n",
      "\n",
      "See the caveats in the documentation: https://pandas.pydata.org/pandas-docs/stable/user_guide/indexing.html#returning-a-view-versus-a-copy\n",
      "  hours_select.drop(columns=['date', 'flag', 'geartype', 'fishing_hours', 'mmsi_present'], inplace=True)\n"
     ]
    },
    {
     "name": "stdout",
     "output_type": "stream",
     "text": [
      "3\n"
     ]
    },
    {
     "name": "stderr",
     "output_type": "stream",
     "text": [
      "C:\\Users\\keit8223\\AppData\\Local\\Temp\\1\\ipykernel_21680\\1813207608.py:4: SettingWithCopyWarning: \n",
      "A value is trying to be set on a copy of a slice from a DataFrame\n",
      "\n",
      "See the caveats in the documentation: https://pandas.pydata.org/pandas-docs/stable/user_guide/indexing.html#returning-a-view-versus-a-copy\n",
      "  fishhours_select.drop(columns=['date', 'flag', 'geartype', 'hours', 'mmsi_present'], inplace=True)\n"
     ]
    },
    {
     "name": "stdout",
     "output_type": "stream",
     "text": [
      "Starting processing of 2020-04-14.csv...\n",
      "F:\\Global Fishing Watch\\Fishing Intensity\\v2\\fleet-daily\\fleet-daily-csvs-100-v2-2020\\2020-04-14.csv\n",
      "Done with 2020_04_14...\n"
     ]
    },
    {
     "name": "stderr",
     "output_type": "stream",
     "text": [
      "C:\\Users\\keit8223\\AppData\\Local\\Temp\\1\\ipykernel_21680\\959929405.py:5: SettingWithCopyWarning: \n",
      "A value is trying to be set on a copy of a slice from a DataFrame\n",
      "\n",
      "See the caveats in the documentation: https://pandas.pydata.org/pandas-docs/stable/user_guide/indexing.html#returning-a-view-versus-a-copy\n",
      "  hours_select.drop(columns=['date', 'flag', 'geartype', 'fishing_hours', 'mmsi_present'], inplace=True)\n"
     ]
    },
    {
     "name": "stdout",
     "output_type": "stream",
     "text": [
      "3\n"
     ]
    },
    {
     "name": "stderr",
     "output_type": "stream",
     "text": [
      "C:\\Users\\keit8223\\AppData\\Local\\Temp\\1\\ipykernel_21680\\1813207608.py:4: SettingWithCopyWarning: \n",
      "A value is trying to be set on a copy of a slice from a DataFrame\n",
      "\n",
      "See the caveats in the documentation: https://pandas.pydata.org/pandas-docs/stable/user_guide/indexing.html#returning-a-view-versus-a-copy\n",
      "  fishhours_select.drop(columns=['date', 'flag', 'geartype', 'hours', 'mmsi_present'], inplace=True)\n"
     ]
    },
    {
     "name": "stdout",
     "output_type": "stream",
     "text": [
      "Starting processing of 2020-04-15.csv...\n",
      "F:\\Global Fishing Watch\\Fishing Intensity\\v2\\fleet-daily\\fleet-daily-csvs-100-v2-2020\\2020-04-15.csv\n",
      "Done with 2020_04_15...\n"
     ]
    },
    {
     "name": "stderr",
     "output_type": "stream",
     "text": [
      "C:\\Users\\keit8223\\AppData\\Local\\Temp\\1\\ipykernel_21680\\959929405.py:5: SettingWithCopyWarning: \n",
      "A value is trying to be set on a copy of a slice from a DataFrame\n",
      "\n",
      "See the caveats in the documentation: https://pandas.pydata.org/pandas-docs/stable/user_guide/indexing.html#returning-a-view-versus-a-copy\n",
      "  hours_select.drop(columns=['date', 'flag', 'geartype', 'fishing_hours', 'mmsi_present'], inplace=True)\n"
     ]
    },
    {
     "name": "stdout",
     "output_type": "stream",
     "text": [
      "3\n"
     ]
    },
    {
     "name": "stderr",
     "output_type": "stream",
     "text": [
      "C:\\Users\\keit8223\\AppData\\Local\\Temp\\1\\ipykernel_21680\\1813207608.py:4: SettingWithCopyWarning: \n",
      "A value is trying to be set on a copy of a slice from a DataFrame\n",
      "\n",
      "See the caveats in the documentation: https://pandas.pydata.org/pandas-docs/stable/user_guide/indexing.html#returning-a-view-versus-a-copy\n",
      "  fishhours_select.drop(columns=['date', 'flag', 'geartype', 'hours', 'mmsi_present'], inplace=True)\n"
     ]
    },
    {
     "name": "stdout",
     "output_type": "stream",
     "text": [
      "Starting processing of 2020-04-16.csv...\n",
      "F:\\Global Fishing Watch\\Fishing Intensity\\v2\\fleet-daily\\fleet-daily-csvs-100-v2-2020\\2020-04-16.csv\n",
      "Done with 2020_04_16...\n"
     ]
    },
    {
     "name": "stderr",
     "output_type": "stream",
     "text": [
      "C:\\Users\\keit8223\\AppData\\Local\\Temp\\1\\ipykernel_21680\\959929405.py:5: SettingWithCopyWarning: \n",
      "A value is trying to be set on a copy of a slice from a DataFrame\n",
      "\n",
      "See the caveats in the documentation: https://pandas.pydata.org/pandas-docs/stable/user_guide/indexing.html#returning-a-view-versus-a-copy\n",
      "  hours_select.drop(columns=['date', 'flag', 'geartype', 'fishing_hours', 'mmsi_present'], inplace=True)\n"
     ]
    },
    {
     "name": "stdout",
     "output_type": "stream",
     "text": [
      "3\n"
     ]
    },
    {
     "name": "stderr",
     "output_type": "stream",
     "text": [
      "C:\\Users\\keit8223\\AppData\\Local\\Temp\\1\\ipykernel_21680\\1813207608.py:4: SettingWithCopyWarning: \n",
      "A value is trying to be set on a copy of a slice from a DataFrame\n",
      "\n",
      "See the caveats in the documentation: https://pandas.pydata.org/pandas-docs/stable/user_guide/indexing.html#returning-a-view-versus-a-copy\n",
      "  fishhours_select.drop(columns=['date', 'flag', 'geartype', 'hours', 'mmsi_present'], inplace=True)\n"
     ]
    },
    {
     "name": "stdout",
     "output_type": "stream",
     "text": [
      "Starting processing of 2020-04-17.csv...\n",
      "F:\\Global Fishing Watch\\Fishing Intensity\\v2\\fleet-daily\\fleet-daily-csvs-100-v2-2020\\2020-04-17.csv\n",
      "Done with 2020_04_17...\n"
     ]
    },
    {
     "name": "stderr",
     "output_type": "stream",
     "text": [
      "C:\\Users\\keit8223\\AppData\\Local\\Temp\\1\\ipykernel_21680\\959929405.py:5: SettingWithCopyWarning: \n",
      "A value is trying to be set on a copy of a slice from a DataFrame\n",
      "\n",
      "See the caveats in the documentation: https://pandas.pydata.org/pandas-docs/stable/user_guide/indexing.html#returning-a-view-versus-a-copy\n",
      "  hours_select.drop(columns=['date', 'flag', 'geartype', 'fishing_hours', 'mmsi_present'], inplace=True)\n"
     ]
    },
    {
     "name": "stdout",
     "output_type": "stream",
     "text": [
      "3\n"
     ]
    },
    {
     "name": "stderr",
     "output_type": "stream",
     "text": [
      "C:\\Users\\keit8223\\AppData\\Local\\Temp\\1\\ipykernel_21680\\1813207608.py:4: SettingWithCopyWarning: \n",
      "A value is trying to be set on a copy of a slice from a DataFrame\n",
      "\n",
      "See the caveats in the documentation: https://pandas.pydata.org/pandas-docs/stable/user_guide/indexing.html#returning-a-view-versus-a-copy\n",
      "  fishhours_select.drop(columns=['date', 'flag', 'geartype', 'hours', 'mmsi_present'], inplace=True)\n"
     ]
    },
    {
     "name": "stdout",
     "output_type": "stream",
     "text": [
      "Starting processing of 2020-04-18.csv...\n",
      "F:\\Global Fishing Watch\\Fishing Intensity\\v2\\fleet-daily\\fleet-daily-csvs-100-v2-2020\\2020-04-18.csv\n",
      "Done with 2020_04_18...\n"
     ]
    },
    {
     "name": "stderr",
     "output_type": "stream",
     "text": [
      "C:\\Users\\keit8223\\AppData\\Local\\Temp\\1\\ipykernel_21680\\959929405.py:5: SettingWithCopyWarning: \n",
      "A value is trying to be set on a copy of a slice from a DataFrame\n",
      "\n",
      "See the caveats in the documentation: https://pandas.pydata.org/pandas-docs/stable/user_guide/indexing.html#returning-a-view-versus-a-copy\n",
      "  hours_select.drop(columns=['date', 'flag', 'geartype', 'fishing_hours', 'mmsi_present'], inplace=True)\n"
     ]
    },
    {
     "name": "stdout",
     "output_type": "stream",
     "text": [
      "3\n"
     ]
    },
    {
     "name": "stderr",
     "output_type": "stream",
     "text": [
      "C:\\Users\\keit8223\\AppData\\Local\\Temp\\1\\ipykernel_21680\\1813207608.py:4: SettingWithCopyWarning: \n",
      "A value is trying to be set on a copy of a slice from a DataFrame\n",
      "\n",
      "See the caveats in the documentation: https://pandas.pydata.org/pandas-docs/stable/user_guide/indexing.html#returning-a-view-versus-a-copy\n",
      "  fishhours_select.drop(columns=['date', 'flag', 'geartype', 'hours', 'mmsi_present'], inplace=True)\n"
     ]
    },
    {
     "name": "stdout",
     "output_type": "stream",
     "text": [
      "Starting processing of 2020-04-19.csv...\n",
      "F:\\Global Fishing Watch\\Fishing Intensity\\v2\\fleet-daily\\fleet-daily-csvs-100-v2-2020\\2020-04-19.csv\n",
      "Done with 2020_04_19...\n"
     ]
    },
    {
     "name": "stderr",
     "output_type": "stream",
     "text": [
      "C:\\Users\\keit8223\\AppData\\Local\\Temp\\1\\ipykernel_21680\\959929405.py:5: SettingWithCopyWarning: \n",
      "A value is trying to be set on a copy of a slice from a DataFrame\n",
      "\n",
      "See the caveats in the documentation: https://pandas.pydata.org/pandas-docs/stable/user_guide/indexing.html#returning-a-view-versus-a-copy\n",
      "  hours_select.drop(columns=['date', 'flag', 'geartype', 'fishing_hours', 'mmsi_present'], inplace=True)\n"
     ]
    },
    {
     "name": "stdout",
     "output_type": "stream",
     "text": [
      "3\n"
     ]
    },
    {
     "name": "stderr",
     "output_type": "stream",
     "text": [
      "C:\\Users\\keit8223\\AppData\\Local\\Temp\\1\\ipykernel_21680\\1813207608.py:4: SettingWithCopyWarning: \n",
      "A value is trying to be set on a copy of a slice from a DataFrame\n",
      "\n",
      "See the caveats in the documentation: https://pandas.pydata.org/pandas-docs/stable/user_guide/indexing.html#returning-a-view-versus-a-copy\n",
      "  fishhours_select.drop(columns=['date', 'flag', 'geartype', 'hours', 'mmsi_present'], inplace=True)\n"
     ]
    },
    {
     "name": "stdout",
     "output_type": "stream",
     "text": [
      "Starting processing of 2020-04-20.csv...\n",
      "F:\\Global Fishing Watch\\Fishing Intensity\\v2\\fleet-daily\\fleet-daily-csvs-100-v2-2020\\2020-04-20.csv\n",
      "Done with 2020_04_20...\n"
     ]
    },
    {
     "name": "stderr",
     "output_type": "stream",
     "text": [
      "C:\\Users\\keit8223\\AppData\\Local\\Temp\\1\\ipykernel_21680\\959929405.py:5: SettingWithCopyWarning: \n",
      "A value is trying to be set on a copy of a slice from a DataFrame\n",
      "\n",
      "See the caveats in the documentation: https://pandas.pydata.org/pandas-docs/stable/user_guide/indexing.html#returning-a-view-versus-a-copy\n",
      "  hours_select.drop(columns=['date', 'flag', 'geartype', 'fishing_hours', 'mmsi_present'], inplace=True)\n"
     ]
    },
    {
     "name": "stdout",
     "output_type": "stream",
     "text": [
      "3\n"
     ]
    },
    {
     "name": "stderr",
     "output_type": "stream",
     "text": [
      "C:\\Users\\keit8223\\AppData\\Local\\Temp\\1\\ipykernel_21680\\1813207608.py:4: SettingWithCopyWarning: \n",
      "A value is trying to be set on a copy of a slice from a DataFrame\n",
      "\n",
      "See the caveats in the documentation: https://pandas.pydata.org/pandas-docs/stable/user_guide/indexing.html#returning-a-view-versus-a-copy\n",
      "  fishhours_select.drop(columns=['date', 'flag', 'geartype', 'hours', 'mmsi_present'], inplace=True)\n"
     ]
    },
    {
     "name": "stdout",
     "output_type": "stream",
     "text": [
      "Starting processing of 2020-04-21.csv...\n",
      "F:\\Global Fishing Watch\\Fishing Intensity\\v2\\fleet-daily\\fleet-daily-csvs-100-v2-2020\\2020-04-21.csv\n",
      "Done with 2020_04_21...\n"
     ]
    },
    {
     "name": "stderr",
     "output_type": "stream",
     "text": [
      "C:\\Users\\keit8223\\AppData\\Local\\Temp\\1\\ipykernel_21680\\959929405.py:5: SettingWithCopyWarning: \n",
      "A value is trying to be set on a copy of a slice from a DataFrame\n",
      "\n",
      "See the caveats in the documentation: https://pandas.pydata.org/pandas-docs/stable/user_guide/indexing.html#returning-a-view-versus-a-copy\n",
      "  hours_select.drop(columns=['date', 'flag', 'geartype', 'fishing_hours', 'mmsi_present'], inplace=True)\n"
     ]
    },
    {
     "name": "stdout",
     "output_type": "stream",
     "text": [
      "3\n"
     ]
    },
    {
     "name": "stderr",
     "output_type": "stream",
     "text": [
      "C:\\Users\\keit8223\\AppData\\Local\\Temp\\1\\ipykernel_21680\\1813207608.py:4: SettingWithCopyWarning: \n",
      "A value is trying to be set on a copy of a slice from a DataFrame\n",
      "\n",
      "See the caveats in the documentation: https://pandas.pydata.org/pandas-docs/stable/user_guide/indexing.html#returning-a-view-versus-a-copy\n",
      "  fishhours_select.drop(columns=['date', 'flag', 'geartype', 'hours', 'mmsi_present'], inplace=True)\n"
     ]
    },
    {
     "name": "stdout",
     "output_type": "stream",
     "text": [
      "Starting processing of 2020-04-22.csv...\n",
      "F:\\Global Fishing Watch\\Fishing Intensity\\v2\\fleet-daily\\fleet-daily-csvs-100-v2-2020\\2020-04-22.csv\n",
      "Done with 2020_04_22...\n"
     ]
    },
    {
     "name": "stderr",
     "output_type": "stream",
     "text": [
      "C:\\Users\\keit8223\\AppData\\Local\\Temp\\1\\ipykernel_21680\\959929405.py:5: SettingWithCopyWarning: \n",
      "A value is trying to be set on a copy of a slice from a DataFrame\n",
      "\n",
      "See the caveats in the documentation: https://pandas.pydata.org/pandas-docs/stable/user_guide/indexing.html#returning-a-view-versus-a-copy\n",
      "  hours_select.drop(columns=['date', 'flag', 'geartype', 'fishing_hours', 'mmsi_present'], inplace=True)\n"
     ]
    },
    {
     "name": "stdout",
     "output_type": "stream",
     "text": [
      "3\n"
     ]
    },
    {
     "name": "stderr",
     "output_type": "stream",
     "text": [
      "C:\\Users\\keit8223\\AppData\\Local\\Temp\\1\\ipykernel_21680\\1813207608.py:4: SettingWithCopyWarning: \n",
      "A value is trying to be set on a copy of a slice from a DataFrame\n",
      "\n",
      "See the caveats in the documentation: https://pandas.pydata.org/pandas-docs/stable/user_guide/indexing.html#returning-a-view-versus-a-copy\n",
      "  fishhours_select.drop(columns=['date', 'flag', 'geartype', 'hours', 'mmsi_present'], inplace=True)\n"
     ]
    },
    {
     "name": "stdout",
     "output_type": "stream",
     "text": [
      "Starting processing of 2020-04-23.csv...\n",
      "F:\\Global Fishing Watch\\Fishing Intensity\\v2\\fleet-daily\\fleet-daily-csvs-100-v2-2020\\2020-04-23.csv\n",
      "Done with 2020_04_23...\n"
     ]
    },
    {
     "name": "stderr",
     "output_type": "stream",
     "text": [
      "C:\\Users\\keit8223\\AppData\\Local\\Temp\\1\\ipykernel_21680\\959929405.py:5: SettingWithCopyWarning: \n",
      "A value is trying to be set on a copy of a slice from a DataFrame\n",
      "\n",
      "See the caveats in the documentation: https://pandas.pydata.org/pandas-docs/stable/user_guide/indexing.html#returning-a-view-versus-a-copy\n",
      "  hours_select.drop(columns=['date', 'flag', 'geartype', 'fishing_hours', 'mmsi_present'], inplace=True)\n"
     ]
    },
    {
     "name": "stdout",
     "output_type": "stream",
     "text": [
      "3\n"
     ]
    },
    {
     "name": "stderr",
     "output_type": "stream",
     "text": [
      "C:\\Users\\keit8223\\AppData\\Local\\Temp\\1\\ipykernel_21680\\1813207608.py:4: SettingWithCopyWarning: \n",
      "A value is trying to be set on a copy of a slice from a DataFrame\n",
      "\n",
      "See the caveats in the documentation: https://pandas.pydata.org/pandas-docs/stable/user_guide/indexing.html#returning-a-view-versus-a-copy\n",
      "  fishhours_select.drop(columns=['date', 'flag', 'geartype', 'hours', 'mmsi_present'], inplace=True)\n"
     ]
    },
    {
     "name": "stdout",
     "output_type": "stream",
     "text": [
      "Starting processing of 2020-04-24.csv...\n",
      "F:\\Global Fishing Watch\\Fishing Intensity\\v2\\fleet-daily\\fleet-daily-csvs-100-v2-2020\\2020-04-24.csv\n",
      "Done with 2020_04_24...\n"
     ]
    },
    {
     "name": "stderr",
     "output_type": "stream",
     "text": [
      "C:\\Users\\keit8223\\AppData\\Local\\Temp\\1\\ipykernel_21680\\959929405.py:5: SettingWithCopyWarning: \n",
      "A value is trying to be set on a copy of a slice from a DataFrame\n",
      "\n",
      "See the caveats in the documentation: https://pandas.pydata.org/pandas-docs/stable/user_guide/indexing.html#returning-a-view-versus-a-copy\n",
      "  hours_select.drop(columns=['date', 'flag', 'geartype', 'fishing_hours', 'mmsi_present'], inplace=True)\n"
     ]
    },
    {
     "name": "stdout",
     "output_type": "stream",
     "text": [
      "3\n"
     ]
    },
    {
     "name": "stderr",
     "output_type": "stream",
     "text": [
      "C:\\Users\\keit8223\\AppData\\Local\\Temp\\1\\ipykernel_21680\\1813207608.py:4: SettingWithCopyWarning: \n",
      "A value is trying to be set on a copy of a slice from a DataFrame\n",
      "\n",
      "See the caveats in the documentation: https://pandas.pydata.org/pandas-docs/stable/user_guide/indexing.html#returning-a-view-versus-a-copy\n",
      "  fishhours_select.drop(columns=['date', 'flag', 'geartype', 'hours', 'mmsi_present'], inplace=True)\n"
     ]
    },
    {
     "name": "stdout",
     "output_type": "stream",
     "text": [
      "Starting processing of 2020-04-25.csv...\n",
      "F:\\Global Fishing Watch\\Fishing Intensity\\v2\\fleet-daily\\fleet-daily-csvs-100-v2-2020\\2020-04-25.csv\n",
      "Done with 2020_04_25...\n"
     ]
    },
    {
     "name": "stderr",
     "output_type": "stream",
     "text": [
      "C:\\Users\\keit8223\\AppData\\Local\\Temp\\1\\ipykernel_21680\\959929405.py:5: SettingWithCopyWarning: \n",
      "A value is trying to be set on a copy of a slice from a DataFrame\n",
      "\n",
      "See the caveats in the documentation: https://pandas.pydata.org/pandas-docs/stable/user_guide/indexing.html#returning-a-view-versus-a-copy\n",
      "  hours_select.drop(columns=['date', 'flag', 'geartype', 'fishing_hours', 'mmsi_present'], inplace=True)\n"
     ]
    },
    {
     "name": "stdout",
     "output_type": "stream",
     "text": [
      "3\n"
     ]
    },
    {
     "name": "stderr",
     "output_type": "stream",
     "text": [
      "C:\\Users\\keit8223\\AppData\\Local\\Temp\\1\\ipykernel_21680\\1813207608.py:4: SettingWithCopyWarning: \n",
      "A value is trying to be set on a copy of a slice from a DataFrame\n",
      "\n",
      "See the caveats in the documentation: https://pandas.pydata.org/pandas-docs/stable/user_guide/indexing.html#returning-a-view-versus-a-copy\n",
      "  fishhours_select.drop(columns=['date', 'flag', 'geartype', 'hours', 'mmsi_present'], inplace=True)\n"
     ]
    },
    {
     "name": "stdout",
     "output_type": "stream",
     "text": [
      "Starting processing of 2020-04-26.csv...\n",
      "F:\\Global Fishing Watch\\Fishing Intensity\\v2\\fleet-daily\\fleet-daily-csvs-100-v2-2020\\2020-04-26.csv\n",
      "Done with 2020_04_26...\n"
     ]
    },
    {
     "name": "stderr",
     "output_type": "stream",
     "text": [
      "C:\\Users\\keit8223\\AppData\\Local\\Temp\\1\\ipykernel_21680\\959929405.py:5: SettingWithCopyWarning: \n",
      "A value is trying to be set on a copy of a slice from a DataFrame\n",
      "\n",
      "See the caveats in the documentation: https://pandas.pydata.org/pandas-docs/stable/user_guide/indexing.html#returning-a-view-versus-a-copy\n",
      "  hours_select.drop(columns=['date', 'flag', 'geartype', 'fishing_hours', 'mmsi_present'], inplace=True)\n"
     ]
    },
    {
     "name": "stdout",
     "output_type": "stream",
     "text": [
      "3\n"
     ]
    },
    {
     "name": "stderr",
     "output_type": "stream",
     "text": [
      "C:\\Users\\keit8223\\AppData\\Local\\Temp\\1\\ipykernel_21680\\1813207608.py:4: SettingWithCopyWarning: \n",
      "A value is trying to be set on a copy of a slice from a DataFrame\n",
      "\n",
      "See the caveats in the documentation: https://pandas.pydata.org/pandas-docs/stable/user_guide/indexing.html#returning-a-view-versus-a-copy\n",
      "  fishhours_select.drop(columns=['date', 'flag', 'geartype', 'hours', 'mmsi_present'], inplace=True)\n"
     ]
    },
    {
     "name": "stdout",
     "output_type": "stream",
     "text": [
      "Starting processing of 2020-04-27.csv...\n",
      "F:\\Global Fishing Watch\\Fishing Intensity\\v2\\fleet-daily\\fleet-daily-csvs-100-v2-2020\\2020-04-27.csv\n",
      "Done with 2020_04_27...\n"
     ]
    },
    {
     "name": "stderr",
     "output_type": "stream",
     "text": [
      "C:\\Users\\keit8223\\AppData\\Local\\Temp\\1\\ipykernel_21680\\959929405.py:5: SettingWithCopyWarning: \n",
      "A value is trying to be set on a copy of a slice from a DataFrame\n",
      "\n",
      "See the caveats in the documentation: https://pandas.pydata.org/pandas-docs/stable/user_guide/indexing.html#returning-a-view-versus-a-copy\n",
      "  hours_select.drop(columns=['date', 'flag', 'geartype', 'fishing_hours', 'mmsi_present'], inplace=True)\n"
     ]
    },
    {
     "name": "stdout",
     "output_type": "stream",
     "text": [
      "3\n"
     ]
    },
    {
     "name": "stderr",
     "output_type": "stream",
     "text": [
      "C:\\Users\\keit8223\\AppData\\Local\\Temp\\1\\ipykernel_21680\\1813207608.py:4: SettingWithCopyWarning: \n",
      "A value is trying to be set on a copy of a slice from a DataFrame\n",
      "\n",
      "See the caveats in the documentation: https://pandas.pydata.org/pandas-docs/stable/user_guide/indexing.html#returning-a-view-versus-a-copy\n",
      "  fishhours_select.drop(columns=['date', 'flag', 'geartype', 'hours', 'mmsi_present'], inplace=True)\n"
     ]
    },
    {
     "name": "stdout",
     "output_type": "stream",
     "text": [
      "Starting processing of 2020-04-28.csv...\n",
      "F:\\Global Fishing Watch\\Fishing Intensity\\v2\\fleet-daily\\fleet-daily-csvs-100-v2-2020\\2020-04-28.csv\n",
      "Done with 2020_04_28...\n"
     ]
    },
    {
     "name": "stderr",
     "output_type": "stream",
     "text": [
      "C:\\Users\\keit8223\\AppData\\Local\\Temp\\1\\ipykernel_21680\\959929405.py:5: SettingWithCopyWarning: \n",
      "A value is trying to be set on a copy of a slice from a DataFrame\n",
      "\n",
      "See the caveats in the documentation: https://pandas.pydata.org/pandas-docs/stable/user_guide/indexing.html#returning-a-view-versus-a-copy\n",
      "  hours_select.drop(columns=['date', 'flag', 'geartype', 'fishing_hours', 'mmsi_present'], inplace=True)\n"
     ]
    },
    {
     "name": "stdout",
     "output_type": "stream",
     "text": [
      "3\n"
     ]
    },
    {
     "name": "stderr",
     "output_type": "stream",
     "text": [
      "C:\\Users\\keit8223\\AppData\\Local\\Temp\\1\\ipykernel_21680\\1813207608.py:4: SettingWithCopyWarning: \n",
      "A value is trying to be set on a copy of a slice from a DataFrame\n",
      "\n",
      "See the caveats in the documentation: https://pandas.pydata.org/pandas-docs/stable/user_guide/indexing.html#returning-a-view-versus-a-copy\n",
      "  fishhours_select.drop(columns=['date', 'flag', 'geartype', 'hours', 'mmsi_present'], inplace=True)\n"
     ]
    },
    {
     "name": "stdout",
     "output_type": "stream",
     "text": [
      "Starting processing of 2020-04-29.csv...\n",
      "F:\\Global Fishing Watch\\Fishing Intensity\\v2\\fleet-daily\\fleet-daily-csvs-100-v2-2020\\2020-04-29.csv\n",
      "Done with 2020_04_29...\n"
     ]
    },
    {
     "name": "stderr",
     "output_type": "stream",
     "text": [
      "C:\\Users\\keit8223\\AppData\\Local\\Temp\\1\\ipykernel_21680\\959929405.py:5: SettingWithCopyWarning: \n",
      "A value is trying to be set on a copy of a slice from a DataFrame\n",
      "\n",
      "See the caveats in the documentation: https://pandas.pydata.org/pandas-docs/stable/user_guide/indexing.html#returning-a-view-versus-a-copy\n",
      "  hours_select.drop(columns=['date', 'flag', 'geartype', 'fishing_hours', 'mmsi_present'], inplace=True)\n"
     ]
    },
    {
     "name": "stdout",
     "output_type": "stream",
     "text": [
      "3\n"
     ]
    },
    {
     "name": "stderr",
     "output_type": "stream",
     "text": [
      "C:\\Users\\keit8223\\AppData\\Local\\Temp\\1\\ipykernel_21680\\1813207608.py:4: SettingWithCopyWarning: \n",
      "A value is trying to be set on a copy of a slice from a DataFrame\n",
      "\n",
      "See the caveats in the documentation: https://pandas.pydata.org/pandas-docs/stable/user_guide/indexing.html#returning-a-view-versus-a-copy\n",
      "  fishhours_select.drop(columns=['date', 'flag', 'geartype', 'hours', 'mmsi_present'], inplace=True)\n"
     ]
    },
    {
     "name": "stdout",
     "output_type": "stream",
     "text": [
      "Starting processing of 2020-04-30.csv...\n",
      "F:\\Global Fishing Watch\\Fishing Intensity\\v2\\fleet-daily\\fleet-daily-csvs-100-v2-2020\\2020-04-30.csv\n",
      "Done with 2020_04_30...\n"
     ]
    },
    {
     "name": "stderr",
     "output_type": "stream",
     "text": [
      "C:\\Users\\keit8223\\AppData\\Local\\Temp\\1\\ipykernel_21680\\959929405.py:5: SettingWithCopyWarning: \n",
      "A value is trying to be set on a copy of a slice from a DataFrame\n",
      "\n",
      "See the caveats in the documentation: https://pandas.pydata.org/pandas-docs/stable/user_guide/indexing.html#returning-a-view-versus-a-copy\n",
      "  hours_select.drop(columns=['date', 'flag', 'geartype', 'fishing_hours', 'mmsi_present'], inplace=True)\n"
     ]
    },
    {
     "name": "stdout",
     "output_type": "stream",
     "text": [
      "3\n"
     ]
    },
    {
     "name": "stderr",
     "output_type": "stream",
     "text": [
      "C:\\Users\\keit8223\\AppData\\Local\\Temp\\1\\ipykernel_21680\\1813207608.py:4: SettingWithCopyWarning: \n",
      "A value is trying to be set on a copy of a slice from a DataFrame\n",
      "\n",
      "See the caveats in the documentation: https://pandas.pydata.org/pandas-docs/stable/user_guide/indexing.html#returning-a-view-versus-a-copy\n",
      "  fishhours_select.drop(columns=['date', 'flag', 'geartype', 'hours', 'mmsi_present'], inplace=True)\n"
     ]
    },
    {
     "name": "stdout",
     "output_type": "stream",
     "text": [
      "Starting processing of 2020-05-01.csv...\n",
      "F:\\Global Fishing Watch\\Fishing Intensity\\v2\\fleet-daily\\fleet-daily-csvs-100-v2-2020\\2020-05-01.csv\n",
      "Done with 2020_05_01...\n"
     ]
    },
    {
     "name": "stderr",
     "output_type": "stream",
     "text": [
      "C:\\Users\\keit8223\\AppData\\Local\\Temp\\1\\ipykernel_21680\\959929405.py:5: SettingWithCopyWarning: \n",
      "A value is trying to be set on a copy of a slice from a DataFrame\n",
      "\n",
      "See the caveats in the documentation: https://pandas.pydata.org/pandas-docs/stable/user_guide/indexing.html#returning-a-view-versus-a-copy\n",
      "  hours_select.drop(columns=['date', 'flag', 'geartype', 'fishing_hours', 'mmsi_present'], inplace=True)\n"
     ]
    },
    {
     "name": "stdout",
     "output_type": "stream",
     "text": [
      "3\n"
     ]
    },
    {
     "name": "stderr",
     "output_type": "stream",
     "text": [
      "C:\\Users\\keit8223\\AppData\\Local\\Temp\\1\\ipykernel_21680\\1813207608.py:4: SettingWithCopyWarning: \n",
      "A value is trying to be set on a copy of a slice from a DataFrame\n",
      "\n",
      "See the caveats in the documentation: https://pandas.pydata.org/pandas-docs/stable/user_guide/indexing.html#returning-a-view-versus-a-copy\n",
      "  fishhours_select.drop(columns=['date', 'flag', 'geartype', 'hours', 'mmsi_present'], inplace=True)\n"
     ]
    },
    {
     "name": "stdout",
     "output_type": "stream",
     "text": [
      "Starting processing of 2020-05-02.csv...\n",
      "F:\\Global Fishing Watch\\Fishing Intensity\\v2\\fleet-daily\\fleet-daily-csvs-100-v2-2020\\2020-05-02.csv\n",
      "Done with 2020_05_02...\n"
     ]
    },
    {
     "name": "stderr",
     "output_type": "stream",
     "text": [
      "C:\\Users\\keit8223\\AppData\\Local\\Temp\\1\\ipykernel_21680\\959929405.py:5: SettingWithCopyWarning: \n",
      "A value is trying to be set on a copy of a slice from a DataFrame\n",
      "\n",
      "See the caveats in the documentation: https://pandas.pydata.org/pandas-docs/stable/user_guide/indexing.html#returning-a-view-versus-a-copy\n",
      "  hours_select.drop(columns=['date', 'flag', 'geartype', 'fishing_hours', 'mmsi_present'], inplace=True)\n"
     ]
    },
    {
     "name": "stdout",
     "output_type": "stream",
     "text": [
      "3\n"
     ]
    },
    {
     "name": "stderr",
     "output_type": "stream",
     "text": [
      "C:\\Users\\keit8223\\AppData\\Local\\Temp\\1\\ipykernel_21680\\1813207608.py:4: SettingWithCopyWarning: \n",
      "A value is trying to be set on a copy of a slice from a DataFrame\n",
      "\n",
      "See the caveats in the documentation: https://pandas.pydata.org/pandas-docs/stable/user_guide/indexing.html#returning-a-view-versus-a-copy\n",
      "  fishhours_select.drop(columns=['date', 'flag', 'geartype', 'hours', 'mmsi_present'], inplace=True)\n"
     ]
    },
    {
     "name": "stdout",
     "output_type": "stream",
     "text": [
      "Starting processing of 2020-05-03.csv...\n",
      "F:\\Global Fishing Watch\\Fishing Intensity\\v2\\fleet-daily\\fleet-daily-csvs-100-v2-2020\\2020-05-03.csv\n",
      "Done with 2020_05_03...\n"
     ]
    },
    {
     "name": "stderr",
     "output_type": "stream",
     "text": [
      "C:\\Users\\keit8223\\AppData\\Local\\Temp\\1\\ipykernel_21680\\959929405.py:5: SettingWithCopyWarning: \n",
      "A value is trying to be set on a copy of a slice from a DataFrame\n",
      "\n",
      "See the caveats in the documentation: https://pandas.pydata.org/pandas-docs/stable/user_guide/indexing.html#returning-a-view-versus-a-copy\n",
      "  hours_select.drop(columns=['date', 'flag', 'geartype', 'fishing_hours', 'mmsi_present'], inplace=True)\n"
     ]
    },
    {
     "name": "stdout",
     "output_type": "stream",
     "text": [
      "3\n"
     ]
    },
    {
     "name": "stderr",
     "output_type": "stream",
     "text": [
      "C:\\Users\\keit8223\\AppData\\Local\\Temp\\1\\ipykernel_21680\\1813207608.py:4: SettingWithCopyWarning: \n",
      "A value is trying to be set on a copy of a slice from a DataFrame\n",
      "\n",
      "See the caveats in the documentation: https://pandas.pydata.org/pandas-docs/stable/user_guide/indexing.html#returning-a-view-versus-a-copy\n",
      "  fishhours_select.drop(columns=['date', 'flag', 'geartype', 'hours', 'mmsi_present'], inplace=True)\n"
     ]
    },
    {
     "name": "stdout",
     "output_type": "stream",
     "text": [
      "Starting processing of 2020-05-04.csv...\n",
      "F:\\Global Fishing Watch\\Fishing Intensity\\v2\\fleet-daily\\fleet-daily-csvs-100-v2-2020\\2020-05-04.csv\n",
      "Done with 2020_05_04...\n"
     ]
    },
    {
     "name": "stderr",
     "output_type": "stream",
     "text": [
      "C:\\Users\\keit8223\\AppData\\Local\\Temp\\1\\ipykernel_21680\\959929405.py:5: SettingWithCopyWarning: \n",
      "A value is trying to be set on a copy of a slice from a DataFrame\n",
      "\n",
      "See the caveats in the documentation: https://pandas.pydata.org/pandas-docs/stable/user_guide/indexing.html#returning-a-view-versus-a-copy\n",
      "  hours_select.drop(columns=['date', 'flag', 'geartype', 'fishing_hours', 'mmsi_present'], inplace=True)\n"
     ]
    },
    {
     "name": "stdout",
     "output_type": "stream",
     "text": [
      "3\n"
     ]
    },
    {
     "name": "stderr",
     "output_type": "stream",
     "text": [
      "C:\\Users\\keit8223\\AppData\\Local\\Temp\\1\\ipykernel_21680\\1813207608.py:4: SettingWithCopyWarning: \n",
      "A value is trying to be set on a copy of a slice from a DataFrame\n",
      "\n",
      "See the caveats in the documentation: https://pandas.pydata.org/pandas-docs/stable/user_guide/indexing.html#returning-a-view-versus-a-copy\n",
      "  fishhours_select.drop(columns=['date', 'flag', 'geartype', 'hours', 'mmsi_present'], inplace=True)\n"
     ]
    },
    {
     "name": "stdout",
     "output_type": "stream",
     "text": [
      "Starting processing of 2020-05-05.csv...\n",
      "F:\\Global Fishing Watch\\Fishing Intensity\\v2\\fleet-daily\\fleet-daily-csvs-100-v2-2020\\2020-05-05.csv\n",
      "Done with 2020_05_05...\n"
     ]
    },
    {
     "name": "stderr",
     "output_type": "stream",
     "text": [
      "C:\\Users\\keit8223\\AppData\\Local\\Temp\\1\\ipykernel_21680\\959929405.py:5: SettingWithCopyWarning: \n",
      "A value is trying to be set on a copy of a slice from a DataFrame\n",
      "\n",
      "See the caveats in the documentation: https://pandas.pydata.org/pandas-docs/stable/user_guide/indexing.html#returning-a-view-versus-a-copy\n",
      "  hours_select.drop(columns=['date', 'flag', 'geartype', 'fishing_hours', 'mmsi_present'], inplace=True)\n"
     ]
    },
    {
     "name": "stdout",
     "output_type": "stream",
     "text": [
      "3\n"
     ]
    },
    {
     "name": "stderr",
     "output_type": "stream",
     "text": [
      "C:\\Users\\keit8223\\AppData\\Local\\Temp\\1\\ipykernel_21680\\1813207608.py:4: SettingWithCopyWarning: \n",
      "A value is trying to be set on a copy of a slice from a DataFrame\n",
      "\n",
      "See the caveats in the documentation: https://pandas.pydata.org/pandas-docs/stable/user_guide/indexing.html#returning-a-view-versus-a-copy\n",
      "  fishhours_select.drop(columns=['date', 'flag', 'geartype', 'hours', 'mmsi_present'], inplace=True)\n"
     ]
    },
    {
     "name": "stdout",
     "output_type": "stream",
     "text": [
      "Starting processing of 2020-05-06.csv...\n",
      "F:\\Global Fishing Watch\\Fishing Intensity\\v2\\fleet-daily\\fleet-daily-csvs-100-v2-2020\\2020-05-06.csv\n",
      "Done with 2020_05_06...\n"
     ]
    },
    {
     "name": "stderr",
     "output_type": "stream",
     "text": [
      "C:\\Users\\keit8223\\AppData\\Local\\Temp\\1\\ipykernel_21680\\959929405.py:5: SettingWithCopyWarning: \n",
      "A value is trying to be set on a copy of a slice from a DataFrame\n",
      "\n",
      "See the caveats in the documentation: https://pandas.pydata.org/pandas-docs/stable/user_guide/indexing.html#returning-a-view-versus-a-copy\n",
      "  hours_select.drop(columns=['date', 'flag', 'geartype', 'fishing_hours', 'mmsi_present'], inplace=True)\n"
     ]
    },
    {
     "name": "stdout",
     "output_type": "stream",
     "text": [
      "3\n"
     ]
    },
    {
     "name": "stderr",
     "output_type": "stream",
     "text": [
      "C:\\Users\\keit8223\\AppData\\Local\\Temp\\1\\ipykernel_21680\\1813207608.py:4: SettingWithCopyWarning: \n",
      "A value is trying to be set on a copy of a slice from a DataFrame\n",
      "\n",
      "See the caveats in the documentation: https://pandas.pydata.org/pandas-docs/stable/user_guide/indexing.html#returning-a-view-versus-a-copy\n",
      "  fishhours_select.drop(columns=['date', 'flag', 'geartype', 'hours', 'mmsi_present'], inplace=True)\n"
     ]
    },
    {
     "name": "stdout",
     "output_type": "stream",
     "text": [
      "Starting processing of 2020-05-07.csv...\n",
      "F:\\Global Fishing Watch\\Fishing Intensity\\v2\\fleet-daily\\fleet-daily-csvs-100-v2-2020\\2020-05-07.csv\n",
      "Done with 2020_05_07...\n"
     ]
    },
    {
     "name": "stderr",
     "output_type": "stream",
     "text": [
      "C:\\Users\\keit8223\\AppData\\Local\\Temp\\1\\ipykernel_21680\\959929405.py:5: SettingWithCopyWarning: \n",
      "A value is trying to be set on a copy of a slice from a DataFrame\n",
      "\n",
      "See the caveats in the documentation: https://pandas.pydata.org/pandas-docs/stable/user_guide/indexing.html#returning-a-view-versus-a-copy\n",
      "  hours_select.drop(columns=['date', 'flag', 'geartype', 'fishing_hours', 'mmsi_present'], inplace=True)\n"
     ]
    },
    {
     "name": "stdout",
     "output_type": "stream",
     "text": [
      "3\n"
     ]
    },
    {
     "name": "stderr",
     "output_type": "stream",
     "text": [
      "C:\\Users\\keit8223\\AppData\\Local\\Temp\\1\\ipykernel_21680\\1813207608.py:4: SettingWithCopyWarning: \n",
      "A value is trying to be set on a copy of a slice from a DataFrame\n",
      "\n",
      "See the caveats in the documentation: https://pandas.pydata.org/pandas-docs/stable/user_guide/indexing.html#returning-a-view-versus-a-copy\n",
      "  fishhours_select.drop(columns=['date', 'flag', 'geartype', 'hours', 'mmsi_present'], inplace=True)\n"
     ]
    },
    {
     "name": "stdout",
     "output_type": "stream",
     "text": [
      "Starting processing of 2020-05-08.csv...\n",
      "F:\\Global Fishing Watch\\Fishing Intensity\\v2\\fleet-daily\\fleet-daily-csvs-100-v2-2020\\2020-05-08.csv\n",
      "Done with 2020_05_08...\n"
     ]
    },
    {
     "name": "stderr",
     "output_type": "stream",
     "text": [
      "C:\\Users\\keit8223\\AppData\\Local\\Temp\\1\\ipykernel_21680\\959929405.py:5: SettingWithCopyWarning: \n",
      "A value is trying to be set on a copy of a slice from a DataFrame\n",
      "\n",
      "See the caveats in the documentation: https://pandas.pydata.org/pandas-docs/stable/user_guide/indexing.html#returning-a-view-versus-a-copy\n",
      "  hours_select.drop(columns=['date', 'flag', 'geartype', 'fishing_hours', 'mmsi_present'], inplace=True)\n"
     ]
    },
    {
     "name": "stdout",
     "output_type": "stream",
     "text": [
      "3\n"
     ]
    },
    {
     "name": "stderr",
     "output_type": "stream",
     "text": [
      "C:\\Users\\keit8223\\AppData\\Local\\Temp\\1\\ipykernel_21680\\1813207608.py:4: SettingWithCopyWarning: \n",
      "A value is trying to be set on a copy of a slice from a DataFrame\n",
      "\n",
      "See the caveats in the documentation: https://pandas.pydata.org/pandas-docs/stable/user_guide/indexing.html#returning-a-view-versus-a-copy\n",
      "  fishhours_select.drop(columns=['date', 'flag', 'geartype', 'hours', 'mmsi_present'], inplace=True)\n"
     ]
    },
    {
     "name": "stdout",
     "output_type": "stream",
     "text": [
      "Starting processing of 2020-05-09.csv...\n",
      "F:\\Global Fishing Watch\\Fishing Intensity\\v2\\fleet-daily\\fleet-daily-csvs-100-v2-2020\\2020-05-09.csv\n",
      "Done with 2020_05_09...\n"
     ]
    },
    {
     "name": "stderr",
     "output_type": "stream",
     "text": [
      "C:\\Users\\keit8223\\AppData\\Local\\Temp\\1\\ipykernel_21680\\959929405.py:5: SettingWithCopyWarning: \n",
      "A value is trying to be set on a copy of a slice from a DataFrame\n",
      "\n",
      "See the caveats in the documentation: https://pandas.pydata.org/pandas-docs/stable/user_guide/indexing.html#returning-a-view-versus-a-copy\n",
      "  hours_select.drop(columns=['date', 'flag', 'geartype', 'fishing_hours', 'mmsi_present'], inplace=True)\n"
     ]
    },
    {
     "name": "stdout",
     "output_type": "stream",
     "text": [
      "3\n"
     ]
    },
    {
     "name": "stderr",
     "output_type": "stream",
     "text": [
      "C:\\Users\\keit8223\\AppData\\Local\\Temp\\1\\ipykernel_21680\\1813207608.py:4: SettingWithCopyWarning: \n",
      "A value is trying to be set on a copy of a slice from a DataFrame\n",
      "\n",
      "See the caveats in the documentation: https://pandas.pydata.org/pandas-docs/stable/user_guide/indexing.html#returning-a-view-versus-a-copy\n",
      "  fishhours_select.drop(columns=['date', 'flag', 'geartype', 'hours', 'mmsi_present'], inplace=True)\n"
     ]
    },
    {
     "name": "stdout",
     "output_type": "stream",
     "text": [
      "Starting processing of 2020-05-10.csv...\n",
      "F:\\Global Fishing Watch\\Fishing Intensity\\v2\\fleet-daily\\fleet-daily-csvs-100-v2-2020\\2020-05-10.csv\n",
      "Done with 2020_05_10...\n"
     ]
    },
    {
     "name": "stderr",
     "output_type": "stream",
     "text": [
      "C:\\Users\\keit8223\\AppData\\Local\\Temp\\1\\ipykernel_21680\\959929405.py:5: SettingWithCopyWarning: \n",
      "A value is trying to be set on a copy of a slice from a DataFrame\n",
      "\n",
      "See the caveats in the documentation: https://pandas.pydata.org/pandas-docs/stable/user_guide/indexing.html#returning-a-view-versus-a-copy\n",
      "  hours_select.drop(columns=['date', 'flag', 'geartype', 'fishing_hours', 'mmsi_present'], inplace=True)\n"
     ]
    },
    {
     "name": "stdout",
     "output_type": "stream",
     "text": [
      "3\n"
     ]
    },
    {
     "name": "stderr",
     "output_type": "stream",
     "text": [
      "C:\\Users\\keit8223\\AppData\\Local\\Temp\\1\\ipykernel_21680\\1813207608.py:4: SettingWithCopyWarning: \n",
      "A value is trying to be set on a copy of a slice from a DataFrame\n",
      "\n",
      "See the caveats in the documentation: https://pandas.pydata.org/pandas-docs/stable/user_guide/indexing.html#returning-a-view-versus-a-copy\n",
      "  fishhours_select.drop(columns=['date', 'flag', 'geartype', 'hours', 'mmsi_present'], inplace=True)\n"
     ]
    },
    {
     "name": "stdout",
     "output_type": "stream",
     "text": [
      "Starting processing of 2020-05-11.csv...\n",
      "F:\\Global Fishing Watch\\Fishing Intensity\\v2\\fleet-daily\\fleet-daily-csvs-100-v2-2020\\2020-05-11.csv\n",
      "Done with 2020_05_11...\n"
     ]
    },
    {
     "name": "stderr",
     "output_type": "stream",
     "text": [
      "C:\\Users\\keit8223\\AppData\\Local\\Temp\\1\\ipykernel_21680\\959929405.py:5: SettingWithCopyWarning: \n",
      "A value is trying to be set on a copy of a slice from a DataFrame\n",
      "\n",
      "See the caveats in the documentation: https://pandas.pydata.org/pandas-docs/stable/user_guide/indexing.html#returning-a-view-versus-a-copy\n",
      "  hours_select.drop(columns=['date', 'flag', 'geartype', 'fishing_hours', 'mmsi_present'], inplace=True)\n"
     ]
    },
    {
     "name": "stdout",
     "output_type": "stream",
     "text": [
      "3\n"
     ]
    },
    {
     "name": "stderr",
     "output_type": "stream",
     "text": [
      "C:\\Users\\keit8223\\AppData\\Local\\Temp\\1\\ipykernel_21680\\1813207608.py:4: SettingWithCopyWarning: \n",
      "A value is trying to be set on a copy of a slice from a DataFrame\n",
      "\n",
      "See the caveats in the documentation: https://pandas.pydata.org/pandas-docs/stable/user_guide/indexing.html#returning-a-view-versus-a-copy\n",
      "  fishhours_select.drop(columns=['date', 'flag', 'geartype', 'hours', 'mmsi_present'], inplace=True)\n"
     ]
    },
    {
     "name": "stdout",
     "output_type": "stream",
     "text": [
      "Starting processing of 2020-05-12.csv...\n",
      "F:\\Global Fishing Watch\\Fishing Intensity\\v2\\fleet-daily\\fleet-daily-csvs-100-v2-2020\\2020-05-12.csv\n",
      "Done with 2020_05_12...\n"
     ]
    },
    {
     "name": "stderr",
     "output_type": "stream",
     "text": [
      "C:\\Users\\keit8223\\AppData\\Local\\Temp\\1\\ipykernel_21680\\959929405.py:5: SettingWithCopyWarning: \n",
      "A value is trying to be set on a copy of a slice from a DataFrame\n",
      "\n",
      "See the caveats in the documentation: https://pandas.pydata.org/pandas-docs/stable/user_guide/indexing.html#returning-a-view-versus-a-copy\n",
      "  hours_select.drop(columns=['date', 'flag', 'geartype', 'fishing_hours', 'mmsi_present'], inplace=True)\n"
     ]
    },
    {
     "name": "stdout",
     "output_type": "stream",
     "text": [
      "3\n"
     ]
    },
    {
     "name": "stderr",
     "output_type": "stream",
     "text": [
      "C:\\Users\\keit8223\\AppData\\Local\\Temp\\1\\ipykernel_21680\\1813207608.py:4: SettingWithCopyWarning: \n",
      "A value is trying to be set on a copy of a slice from a DataFrame\n",
      "\n",
      "See the caveats in the documentation: https://pandas.pydata.org/pandas-docs/stable/user_guide/indexing.html#returning-a-view-versus-a-copy\n",
      "  fishhours_select.drop(columns=['date', 'flag', 'geartype', 'hours', 'mmsi_present'], inplace=True)\n"
     ]
    },
    {
     "name": "stdout",
     "output_type": "stream",
     "text": [
      "Starting processing of 2020-05-13.csv...\n",
      "F:\\Global Fishing Watch\\Fishing Intensity\\v2\\fleet-daily\\fleet-daily-csvs-100-v2-2020\\2020-05-13.csv\n",
      "Done with 2020_05_13...\n"
     ]
    },
    {
     "name": "stderr",
     "output_type": "stream",
     "text": [
      "C:\\Users\\keit8223\\AppData\\Local\\Temp\\1\\ipykernel_21680\\959929405.py:5: SettingWithCopyWarning: \n",
      "A value is trying to be set on a copy of a slice from a DataFrame\n",
      "\n",
      "See the caveats in the documentation: https://pandas.pydata.org/pandas-docs/stable/user_guide/indexing.html#returning-a-view-versus-a-copy\n",
      "  hours_select.drop(columns=['date', 'flag', 'geartype', 'fishing_hours', 'mmsi_present'], inplace=True)\n"
     ]
    },
    {
     "name": "stdout",
     "output_type": "stream",
     "text": [
      "3\n"
     ]
    },
    {
     "name": "stderr",
     "output_type": "stream",
     "text": [
      "C:\\Users\\keit8223\\AppData\\Local\\Temp\\1\\ipykernel_21680\\1813207608.py:4: SettingWithCopyWarning: \n",
      "A value is trying to be set on a copy of a slice from a DataFrame\n",
      "\n",
      "See the caveats in the documentation: https://pandas.pydata.org/pandas-docs/stable/user_guide/indexing.html#returning-a-view-versus-a-copy\n",
      "  fishhours_select.drop(columns=['date', 'flag', 'geartype', 'hours', 'mmsi_present'], inplace=True)\n"
     ]
    },
    {
     "name": "stdout",
     "output_type": "stream",
     "text": [
      "Starting processing of 2020-05-14.csv...\n",
      "F:\\Global Fishing Watch\\Fishing Intensity\\v2\\fleet-daily\\fleet-daily-csvs-100-v2-2020\\2020-05-14.csv\n",
      "Done with 2020_05_14...\n"
     ]
    },
    {
     "name": "stderr",
     "output_type": "stream",
     "text": [
      "C:\\Users\\keit8223\\AppData\\Local\\Temp\\1\\ipykernel_21680\\959929405.py:5: SettingWithCopyWarning: \n",
      "A value is trying to be set on a copy of a slice from a DataFrame\n",
      "\n",
      "See the caveats in the documentation: https://pandas.pydata.org/pandas-docs/stable/user_guide/indexing.html#returning-a-view-versus-a-copy\n",
      "  hours_select.drop(columns=['date', 'flag', 'geartype', 'fishing_hours', 'mmsi_present'], inplace=True)\n"
     ]
    },
    {
     "name": "stdout",
     "output_type": "stream",
     "text": [
      "3\n"
     ]
    },
    {
     "name": "stderr",
     "output_type": "stream",
     "text": [
      "C:\\Users\\keit8223\\AppData\\Local\\Temp\\1\\ipykernel_21680\\1813207608.py:4: SettingWithCopyWarning: \n",
      "A value is trying to be set on a copy of a slice from a DataFrame\n",
      "\n",
      "See the caveats in the documentation: https://pandas.pydata.org/pandas-docs/stable/user_guide/indexing.html#returning-a-view-versus-a-copy\n",
      "  fishhours_select.drop(columns=['date', 'flag', 'geartype', 'hours', 'mmsi_present'], inplace=True)\n"
     ]
    },
    {
     "name": "stdout",
     "output_type": "stream",
     "text": [
      "Starting processing of 2020-05-15.csv...\n",
      "F:\\Global Fishing Watch\\Fishing Intensity\\v2\\fleet-daily\\fleet-daily-csvs-100-v2-2020\\2020-05-15.csv\n",
      "Done with 2020_05_15...\n"
     ]
    },
    {
     "name": "stderr",
     "output_type": "stream",
     "text": [
      "C:\\Users\\keit8223\\AppData\\Local\\Temp\\1\\ipykernel_21680\\959929405.py:5: SettingWithCopyWarning: \n",
      "A value is trying to be set on a copy of a slice from a DataFrame\n",
      "\n",
      "See the caveats in the documentation: https://pandas.pydata.org/pandas-docs/stable/user_guide/indexing.html#returning-a-view-versus-a-copy\n",
      "  hours_select.drop(columns=['date', 'flag', 'geartype', 'fishing_hours', 'mmsi_present'], inplace=True)\n"
     ]
    },
    {
     "name": "stdout",
     "output_type": "stream",
     "text": [
      "3\n"
     ]
    },
    {
     "name": "stderr",
     "output_type": "stream",
     "text": [
      "C:\\Users\\keit8223\\AppData\\Local\\Temp\\1\\ipykernel_21680\\1813207608.py:4: SettingWithCopyWarning: \n",
      "A value is trying to be set on a copy of a slice from a DataFrame\n",
      "\n",
      "See the caveats in the documentation: https://pandas.pydata.org/pandas-docs/stable/user_guide/indexing.html#returning-a-view-versus-a-copy\n",
      "  fishhours_select.drop(columns=['date', 'flag', 'geartype', 'hours', 'mmsi_present'], inplace=True)\n"
     ]
    },
    {
     "name": "stdout",
     "output_type": "stream",
     "text": [
      "Starting processing of 2020-05-16.csv...\n",
      "F:\\Global Fishing Watch\\Fishing Intensity\\v2\\fleet-daily\\fleet-daily-csvs-100-v2-2020\\2020-05-16.csv\n",
      "Done with 2020_05_16...\n"
     ]
    },
    {
     "name": "stderr",
     "output_type": "stream",
     "text": [
      "C:\\Users\\keit8223\\AppData\\Local\\Temp\\1\\ipykernel_21680\\959929405.py:5: SettingWithCopyWarning: \n",
      "A value is trying to be set on a copy of a slice from a DataFrame\n",
      "\n",
      "See the caveats in the documentation: https://pandas.pydata.org/pandas-docs/stable/user_guide/indexing.html#returning-a-view-versus-a-copy\n",
      "  hours_select.drop(columns=['date', 'flag', 'geartype', 'fishing_hours', 'mmsi_present'], inplace=True)\n"
     ]
    },
    {
     "name": "stdout",
     "output_type": "stream",
     "text": [
      "3\n"
     ]
    },
    {
     "name": "stderr",
     "output_type": "stream",
     "text": [
      "C:\\Users\\keit8223\\AppData\\Local\\Temp\\1\\ipykernel_21680\\1813207608.py:4: SettingWithCopyWarning: \n",
      "A value is trying to be set on a copy of a slice from a DataFrame\n",
      "\n",
      "See the caveats in the documentation: https://pandas.pydata.org/pandas-docs/stable/user_guide/indexing.html#returning-a-view-versus-a-copy\n",
      "  fishhours_select.drop(columns=['date', 'flag', 'geartype', 'hours', 'mmsi_present'], inplace=True)\n"
     ]
    },
    {
     "name": "stdout",
     "output_type": "stream",
     "text": [
      "Starting processing of 2020-05-17.csv...\n",
      "F:\\Global Fishing Watch\\Fishing Intensity\\v2\\fleet-daily\\fleet-daily-csvs-100-v2-2020\\2020-05-17.csv\n",
      "Done with 2020_05_17...\n"
     ]
    },
    {
     "name": "stderr",
     "output_type": "stream",
     "text": [
      "C:\\Users\\keit8223\\AppData\\Local\\Temp\\1\\ipykernel_21680\\959929405.py:5: SettingWithCopyWarning: \n",
      "A value is trying to be set on a copy of a slice from a DataFrame\n",
      "\n",
      "See the caveats in the documentation: https://pandas.pydata.org/pandas-docs/stable/user_guide/indexing.html#returning-a-view-versus-a-copy\n",
      "  hours_select.drop(columns=['date', 'flag', 'geartype', 'fishing_hours', 'mmsi_present'], inplace=True)\n"
     ]
    },
    {
     "name": "stdout",
     "output_type": "stream",
     "text": [
      "3\n"
     ]
    },
    {
     "name": "stderr",
     "output_type": "stream",
     "text": [
      "C:\\Users\\keit8223\\AppData\\Local\\Temp\\1\\ipykernel_21680\\1813207608.py:4: SettingWithCopyWarning: \n",
      "A value is trying to be set on a copy of a slice from a DataFrame\n",
      "\n",
      "See the caveats in the documentation: https://pandas.pydata.org/pandas-docs/stable/user_guide/indexing.html#returning-a-view-versus-a-copy\n",
      "  fishhours_select.drop(columns=['date', 'flag', 'geartype', 'hours', 'mmsi_present'], inplace=True)\n"
     ]
    },
    {
     "name": "stdout",
     "output_type": "stream",
     "text": [
      "Starting processing of 2020-05-18.csv...\n",
      "F:\\Global Fishing Watch\\Fishing Intensity\\v2\\fleet-daily\\fleet-daily-csvs-100-v2-2020\\2020-05-18.csv\n",
      "Done with 2020_05_18...\n"
     ]
    },
    {
     "name": "stderr",
     "output_type": "stream",
     "text": [
      "C:\\Users\\keit8223\\AppData\\Local\\Temp\\1\\ipykernel_21680\\959929405.py:5: SettingWithCopyWarning: \n",
      "A value is trying to be set on a copy of a slice from a DataFrame\n",
      "\n",
      "See the caveats in the documentation: https://pandas.pydata.org/pandas-docs/stable/user_guide/indexing.html#returning-a-view-versus-a-copy\n",
      "  hours_select.drop(columns=['date', 'flag', 'geartype', 'fishing_hours', 'mmsi_present'], inplace=True)\n"
     ]
    },
    {
     "name": "stdout",
     "output_type": "stream",
     "text": [
      "3\n"
     ]
    },
    {
     "name": "stderr",
     "output_type": "stream",
     "text": [
      "C:\\Users\\keit8223\\AppData\\Local\\Temp\\1\\ipykernel_21680\\1813207608.py:4: SettingWithCopyWarning: \n",
      "A value is trying to be set on a copy of a slice from a DataFrame\n",
      "\n",
      "See the caveats in the documentation: https://pandas.pydata.org/pandas-docs/stable/user_guide/indexing.html#returning-a-view-versus-a-copy\n",
      "  fishhours_select.drop(columns=['date', 'flag', 'geartype', 'hours', 'mmsi_present'], inplace=True)\n"
     ]
    },
    {
     "name": "stdout",
     "output_type": "stream",
     "text": [
      "Starting processing of 2020-05-19.csv...\n",
      "F:\\Global Fishing Watch\\Fishing Intensity\\v2\\fleet-daily\\fleet-daily-csvs-100-v2-2020\\2020-05-19.csv\n",
      "Done with 2020_05_19...\n"
     ]
    },
    {
     "name": "stderr",
     "output_type": "stream",
     "text": [
      "C:\\Users\\keit8223\\AppData\\Local\\Temp\\1\\ipykernel_21680\\959929405.py:5: SettingWithCopyWarning: \n",
      "A value is trying to be set on a copy of a slice from a DataFrame\n",
      "\n",
      "See the caveats in the documentation: https://pandas.pydata.org/pandas-docs/stable/user_guide/indexing.html#returning-a-view-versus-a-copy\n",
      "  hours_select.drop(columns=['date', 'flag', 'geartype', 'fishing_hours', 'mmsi_present'], inplace=True)\n"
     ]
    },
    {
     "name": "stdout",
     "output_type": "stream",
     "text": [
      "3\n"
     ]
    },
    {
     "name": "stderr",
     "output_type": "stream",
     "text": [
      "C:\\Users\\keit8223\\AppData\\Local\\Temp\\1\\ipykernel_21680\\1813207608.py:4: SettingWithCopyWarning: \n",
      "A value is trying to be set on a copy of a slice from a DataFrame\n",
      "\n",
      "See the caveats in the documentation: https://pandas.pydata.org/pandas-docs/stable/user_guide/indexing.html#returning-a-view-versus-a-copy\n",
      "  fishhours_select.drop(columns=['date', 'flag', 'geartype', 'hours', 'mmsi_present'], inplace=True)\n"
     ]
    },
    {
     "name": "stdout",
     "output_type": "stream",
     "text": [
      "Starting processing of 2020-05-20.csv...\n",
      "F:\\Global Fishing Watch\\Fishing Intensity\\v2\\fleet-daily\\fleet-daily-csvs-100-v2-2020\\2020-05-20.csv\n",
      "Done with 2020_05_20...\n"
     ]
    },
    {
     "name": "stderr",
     "output_type": "stream",
     "text": [
      "C:\\Users\\keit8223\\AppData\\Local\\Temp\\1\\ipykernel_21680\\959929405.py:5: SettingWithCopyWarning: \n",
      "A value is trying to be set on a copy of a slice from a DataFrame\n",
      "\n",
      "See the caveats in the documentation: https://pandas.pydata.org/pandas-docs/stable/user_guide/indexing.html#returning-a-view-versus-a-copy\n",
      "  hours_select.drop(columns=['date', 'flag', 'geartype', 'fishing_hours', 'mmsi_present'], inplace=True)\n"
     ]
    },
    {
     "name": "stdout",
     "output_type": "stream",
     "text": [
      "3\n"
     ]
    },
    {
     "name": "stderr",
     "output_type": "stream",
     "text": [
      "C:\\Users\\keit8223\\AppData\\Local\\Temp\\1\\ipykernel_21680\\1813207608.py:4: SettingWithCopyWarning: \n",
      "A value is trying to be set on a copy of a slice from a DataFrame\n",
      "\n",
      "See the caveats in the documentation: https://pandas.pydata.org/pandas-docs/stable/user_guide/indexing.html#returning-a-view-versus-a-copy\n",
      "  fishhours_select.drop(columns=['date', 'flag', 'geartype', 'hours', 'mmsi_present'], inplace=True)\n"
     ]
    },
    {
     "name": "stdout",
     "output_type": "stream",
     "text": [
      "Starting processing of 2020-05-21.csv...\n",
      "F:\\Global Fishing Watch\\Fishing Intensity\\v2\\fleet-daily\\fleet-daily-csvs-100-v2-2020\\2020-05-21.csv\n",
      "Done with 2020_05_21...\n"
     ]
    },
    {
     "name": "stderr",
     "output_type": "stream",
     "text": [
      "C:\\Users\\keit8223\\AppData\\Local\\Temp\\1\\ipykernel_21680\\959929405.py:5: SettingWithCopyWarning: \n",
      "A value is trying to be set on a copy of a slice from a DataFrame\n",
      "\n",
      "See the caveats in the documentation: https://pandas.pydata.org/pandas-docs/stable/user_guide/indexing.html#returning-a-view-versus-a-copy\n",
      "  hours_select.drop(columns=['date', 'flag', 'geartype', 'fishing_hours', 'mmsi_present'], inplace=True)\n"
     ]
    },
    {
     "name": "stdout",
     "output_type": "stream",
     "text": [
      "3\n"
     ]
    },
    {
     "name": "stderr",
     "output_type": "stream",
     "text": [
      "C:\\Users\\keit8223\\AppData\\Local\\Temp\\1\\ipykernel_21680\\1813207608.py:4: SettingWithCopyWarning: \n",
      "A value is trying to be set on a copy of a slice from a DataFrame\n",
      "\n",
      "See the caveats in the documentation: https://pandas.pydata.org/pandas-docs/stable/user_guide/indexing.html#returning-a-view-versus-a-copy\n",
      "  fishhours_select.drop(columns=['date', 'flag', 'geartype', 'hours', 'mmsi_present'], inplace=True)\n"
     ]
    },
    {
     "name": "stdout",
     "output_type": "stream",
     "text": [
      "Starting processing of 2020-05-22.csv...\n",
      "F:\\Global Fishing Watch\\Fishing Intensity\\v2\\fleet-daily\\fleet-daily-csvs-100-v2-2020\\2020-05-22.csv\n",
      "Done with 2020_05_22...\n"
     ]
    },
    {
     "name": "stderr",
     "output_type": "stream",
     "text": [
      "C:\\Users\\keit8223\\AppData\\Local\\Temp\\1\\ipykernel_21680\\959929405.py:5: SettingWithCopyWarning: \n",
      "A value is trying to be set on a copy of a slice from a DataFrame\n",
      "\n",
      "See the caveats in the documentation: https://pandas.pydata.org/pandas-docs/stable/user_guide/indexing.html#returning-a-view-versus-a-copy\n",
      "  hours_select.drop(columns=['date', 'flag', 'geartype', 'fishing_hours', 'mmsi_present'], inplace=True)\n"
     ]
    },
    {
     "name": "stdout",
     "output_type": "stream",
     "text": [
      "3\n"
     ]
    },
    {
     "name": "stderr",
     "output_type": "stream",
     "text": [
      "C:\\Users\\keit8223\\AppData\\Local\\Temp\\1\\ipykernel_21680\\1813207608.py:4: SettingWithCopyWarning: \n",
      "A value is trying to be set on a copy of a slice from a DataFrame\n",
      "\n",
      "See the caveats in the documentation: https://pandas.pydata.org/pandas-docs/stable/user_guide/indexing.html#returning-a-view-versus-a-copy\n",
      "  fishhours_select.drop(columns=['date', 'flag', 'geartype', 'hours', 'mmsi_present'], inplace=True)\n"
     ]
    },
    {
     "name": "stdout",
     "output_type": "stream",
     "text": [
      "Starting processing of 2020-05-23.csv...\n",
      "F:\\Global Fishing Watch\\Fishing Intensity\\v2\\fleet-daily\\fleet-daily-csvs-100-v2-2020\\2020-05-23.csv\n",
      "Done with 2020_05_23...\n"
     ]
    },
    {
     "name": "stderr",
     "output_type": "stream",
     "text": [
      "C:\\Users\\keit8223\\AppData\\Local\\Temp\\1\\ipykernel_21680\\959929405.py:5: SettingWithCopyWarning: \n",
      "A value is trying to be set on a copy of a slice from a DataFrame\n",
      "\n",
      "See the caveats in the documentation: https://pandas.pydata.org/pandas-docs/stable/user_guide/indexing.html#returning-a-view-versus-a-copy\n",
      "  hours_select.drop(columns=['date', 'flag', 'geartype', 'fishing_hours', 'mmsi_present'], inplace=True)\n"
     ]
    },
    {
     "name": "stdout",
     "output_type": "stream",
     "text": [
      "3\n"
     ]
    },
    {
     "name": "stderr",
     "output_type": "stream",
     "text": [
      "C:\\Users\\keit8223\\AppData\\Local\\Temp\\1\\ipykernel_21680\\1813207608.py:4: SettingWithCopyWarning: \n",
      "A value is trying to be set on a copy of a slice from a DataFrame\n",
      "\n",
      "See the caveats in the documentation: https://pandas.pydata.org/pandas-docs/stable/user_guide/indexing.html#returning-a-view-versus-a-copy\n",
      "  fishhours_select.drop(columns=['date', 'flag', 'geartype', 'hours', 'mmsi_present'], inplace=True)\n"
     ]
    },
    {
     "name": "stdout",
     "output_type": "stream",
     "text": [
      "Starting processing of 2020-05-24.csv...\n",
      "F:\\Global Fishing Watch\\Fishing Intensity\\v2\\fleet-daily\\fleet-daily-csvs-100-v2-2020\\2020-05-24.csv\n",
      "Done with 2020_05_24...\n"
     ]
    },
    {
     "name": "stderr",
     "output_type": "stream",
     "text": [
      "C:\\Users\\keit8223\\AppData\\Local\\Temp\\1\\ipykernel_21680\\959929405.py:5: SettingWithCopyWarning: \n",
      "A value is trying to be set on a copy of a slice from a DataFrame\n",
      "\n",
      "See the caveats in the documentation: https://pandas.pydata.org/pandas-docs/stable/user_guide/indexing.html#returning-a-view-versus-a-copy\n",
      "  hours_select.drop(columns=['date', 'flag', 'geartype', 'fishing_hours', 'mmsi_present'], inplace=True)\n"
     ]
    },
    {
     "name": "stdout",
     "output_type": "stream",
     "text": [
      "3\n"
     ]
    },
    {
     "name": "stderr",
     "output_type": "stream",
     "text": [
      "C:\\Users\\keit8223\\AppData\\Local\\Temp\\1\\ipykernel_21680\\1813207608.py:4: SettingWithCopyWarning: \n",
      "A value is trying to be set on a copy of a slice from a DataFrame\n",
      "\n",
      "See the caveats in the documentation: https://pandas.pydata.org/pandas-docs/stable/user_guide/indexing.html#returning-a-view-versus-a-copy\n",
      "  fishhours_select.drop(columns=['date', 'flag', 'geartype', 'hours', 'mmsi_present'], inplace=True)\n"
     ]
    },
    {
     "name": "stdout",
     "output_type": "stream",
     "text": [
      "Starting processing of 2020-05-25.csv...\n",
      "F:\\Global Fishing Watch\\Fishing Intensity\\v2\\fleet-daily\\fleet-daily-csvs-100-v2-2020\\2020-05-25.csv\n",
      "Done with 2020_05_25...\n"
     ]
    },
    {
     "name": "stderr",
     "output_type": "stream",
     "text": [
      "C:\\Users\\keit8223\\AppData\\Local\\Temp\\1\\ipykernel_21680\\959929405.py:5: SettingWithCopyWarning: \n",
      "A value is trying to be set on a copy of a slice from a DataFrame\n",
      "\n",
      "See the caveats in the documentation: https://pandas.pydata.org/pandas-docs/stable/user_guide/indexing.html#returning-a-view-versus-a-copy\n",
      "  hours_select.drop(columns=['date', 'flag', 'geartype', 'fishing_hours', 'mmsi_present'], inplace=True)\n"
     ]
    },
    {
     "name": "stdout",
     "output_type": "stream",
     "text": [
      "3\n"
     ]
    },
    {
     "name": "stderr",
     "output_type": "stream",
     "text": [
      "C:\\Users\\keit8223\\AppData\\Local\\Temp\\1\\ipykernel_21680\\1813207608.py:4: SettingWithCopyWarning: \n",
      "A value is trying to be set on a copy of a slice from a DataFrame\n",
      "\n",
      "See the caveats in the documentation: https://pandas.pydata.org/pandas-docs/stable/user_guide/indexing.html#returning-a-view-versus-a-copy\n",
      "  fishhours_select.drop(columns=['date', 'flag', 'geartype', 'hours', 'mmsi_present'], inplace=True)\n"
     ]
    },
    {
     "name": "stdout",
     "output_type": "stream",
     "text": [
      "Starting processing of 2020-05-26.csv...\n",
      "F:\\Global Fishing Watch\\Fishing Intensity\\v2\\fleet-daily\\fleet-daily-csvs-100-v2-2020\\2020-05-26.csv\n",
      "Done with 2020_05_26...\n"
     ]
    },
    {
     "name": "stderr",
     "output_type": "stream",
     "text": [
      "C:\\Users\\keit8223\\AppData\\Local\\Temp\\1\\ipykernel_21680\\959929405.py:5: SettingWithCopyWarning: \n",
      "A value is trying to be set on a copy of a slice from a DataFrame\n",
      "\n",
      "See the caveats in the documentation: https://pandas.pydata.org/pandas-docs/stable/user_guide/indexing.html#returning-a-view-versus-a-copy\n",
      "  hours_select.drop(columns=['date', 'flag', 'geartype', 'fishing_hours', 'mmsi_present'], inplace=True)\n"
     ]
    },
    {
     "name": "stdout",
     "output_type": "stream",
     "text": [
      "3\n"
     ]
    },
    {
     "name": "stderr",
     "output_type": "stream",
     "text": [
      "C:\\Users\\keit8223\\AppData\\Local\\Temp\\1\\ipykernel_21680\\1813207608.py:4: SettingWithCopyWarning: \n",
      "A value is trying to be set on a copy of a slice from a DataFrame\n",
      "\n",
      "See the caveats in the documentation: https://pandas.pydata.org/pandas-docs/stable/user_guide/indexing.html#returning-a-view-versus-a-copy\n",
      "  fishhours_select.drop(columns=['date', 'flag', 'geartype', 'hours', 'mmsi_present'], inplace=True)\n"
     ]
    },
    {
     "name": "stdout",
     "output_type": "stream",
     "text": [
      "Starting processing of 2020-05-27.csv...\n",
      "F:\\Global Fishing Watch\\Fishing Intensity\\v2\\fleet-daily\\fleet-daily-csvs-100-v2-2020\\2020-05-27.csv\n",
      "Done with 2020_05_27...\n"
     ]
    },
    {
     "name": "stderr",
     "output_type": "stream",
     "text": [
      "C:\\Users\\keit8223\\AppData\\Local\\Temp\\1\\ipykernel_21680\\959929405.py:5: SettingWithCopyWarning: \n",
      "A value is trying to be set on a copy of a slice from a DataFrame\n",
      "\n",
      "See the caveats in the documentation: https://pandas.pydata.org/pandas-docs/stable/user_guide/indexing.html#returning-a-view-versus-a-copy\n",
      "  hours_select.drop(columns=['date', 'flag', 'geartype', 'fishing_hours', 'mmsi_present'], inplace=True)\n"
     ]
    },
    {
     "name": "stdout",
     "output_type": "stream",
     "text": [
      "3\n"
     ]
    },
    {
     "name": "stderr",
     "output_type": "stream",
     "text": [
      "C:\\Users\\keit8223\\AppData\\Local\\Temp\\1\\ipykernel_21680\\1813207608.py:4: SettingWithCopyWarning: \n",
      "A value is trying to be set on a copy of a slice from a DataFrame\n",
      "\n",
      "See the caveats in the documentation: https://pandas.pydata.org/pandas-docs/stable/user_guide/indexing.html#returning-a-view-versus-a-copy\n",
      "  fishhours_select.drop(columns=['date', 'flag', 'geartype', 'hours', 'mmsi_present'], inplace=True)\n"
     ]
    },
    {
     "name": "stdout",
     "output_type": "stream",
     "text": [
      "Starting processing of 2020-05-28.csv...\n",
      "F:\\Global Fishing Watch\\Fishing Intensity\\v2\\fleet-daily\\fleet-daily-csvs-100-v2-2020\\2020-05-28.csv\n",
      "Done with 2020_05_28...\n"
     ]
    },
    {
     "name": "stderr",
     "output_type": "stream",
     "text": [
      "C:\\Users\\keit8223\\AppData\\Local\\Temp\\1\\ipykernel_21680\\959929405.py:5: SettingWithCopyWarning: \n",
      "A value is trying to be set on a copy of a slice from a DataFrame\n",
      "\n",
      "See the caveats in the documentation: https://pandas.pydata.org/pandas-docs/stable/user_guide/indexing.html#returning-a-view-versus-a-copy\n",
      "  hours_select.drop(columns=['date', 'flag', 'geartype', 'fishing_hours', 'mmsi_present'], inplace=True)\n"
     ]
    },
    {
     "name": "stdout",
     "output_type": "stream",
     "text": [
      "3\n"
     ]
    },
    {
     "name": "stderr",
     "output_type": "stream",
     "text": [
      "C:\\Users\\keit8223\\AppData\\Local\\Temp\\1\\ipykernel_21680\\1813207608.py:4: SettingWithCopyWarning: \n",
      "A value is trying to be set on a copy of a slice from a DataFrame\n",
      "\n",
      "See the caveats in the documentation: https://pandas.pydata.org/pandas-docs/stable/user_guide/indexing.html#returning-a-view-versus-a-copy\n",
      "  fishhours_select.drop(columns=['date', 'flag', 'geartype', 'hours', 'mmsi_present'], inplace=True)\n"
     ]
    },
    {
     "name": "stdout",
     "output_type": "stream",
     "text": [
      "Starting processing of 2020-05-29.csv...\n",
      "F:\\Global Fishing Watch\\Fishing Intensity\\v2\\fleet-daily\\fleet-daily-csvs-100-v2-2020\\2020-05-29.csv\n",
      "Done with 2020_05_29...\n"
     ]
    },
    {
     "name": "stderr",
     "output_type": "stream",
     "text": [
      "C:\\Users\\keit8223\\AppData\\Local\\Temp\\1\\ipykernel_21680\\959929405.py:5: SettingWithCopyWarning: \n",
      "A value is trying to be set on a copy of a slice from a DataFrame\n",
      "\n",
      "See the caveats in the documentation: https://pandas.pydata.org/pandas-docs/stable/user_guide/indexing.html#returning-a-view-versus-a-copy\n",
      "  hours_select.drop(columns=['date', 'flag', 'geartype', 'fishing_hours', 'mmsi_present'], inplace=True)\n"
     ]
    },
    {
     "name": "stdout",
     "output_type": "stream",
     "text": [
      "3\n"
     ]
    },
    {
     "name": "stderr",
     "output_type": "stream",
     "text": [
      "C:\\Users\\keit8223\\AppData\\Local\\Temp\\1\\ipykernel_21680\\1813207608.py:4: SettingWithCopyWarning: \n",
      "A value is trying to be set on a copy of a slice from a DataFrame\n",
      "\n",
      "See the caveats in the documentation: https://pandas.pydata.org/pandas-docs/stable/user_guide/indexing.html#returning-a-view-versus-a-copy\n",
      "  fishhours_select.drop(columns=['date', 'flag', 'geartype', 'hours', 'mmsi_present'], inplace=True)\n"
     ]
    },
    {
     "name": "stdout",
     "output_type": "stream",
     "text": [
      "Starting processing of 2020-05-30.csv...\n",
      "F:\\Global Fishing Watch\\Fishing Intensity\\v2\\fleet-daily\\fleet-daily-csvs-100-v2-2020\\2020-05-30.csv\n",
      "Done with 2020_05_30...\n"
     ]
    },
    {
     "name": "stderr",
     "output_type": "stream",
     "text": [
      "C:\\Users\\keit8223\\AppData\\Local\\Temp\\1\\ipykernel_21680\\959929405.py:5: SettingWithCopyWarning: \n",
      "A value is trying to be set on a copy of a slice from a DataFrame\n",
      "\n",
      "See the caveats in the documentation: https://pandas.pydata.org/pandas-docs/stable/user_guide/indexing.html#returning-a-view-versus-a-copy\n",
      "  hours_select.drop(columns=['date', 'flag', 'geartype', 'fishing_hours', 'mmsi_present'], inplace=True)\n"
     ]
    },
    {
     "name": "stdout",
     "output_type": "stream",
     "text": [
      "3\n"
     ]
    },
    {
     "name": "stderr",
     "output_type": "stream",
     "text": [
      "C:\\Users\\keit8223\\AppData\\Local\\Temp\\1\\ipykernel_21680\\1813207608.py:4: SettingWithCopyWarning: \n",
      "A value is trying to be set on a copy of a slice from a DataFrame\n",
      "\n",
      "See the caveats in the documentation: https://pandas.pydata.org/pandas-docs/stable/user_guide/indexing.html#returning-a-view-versus-a-copy\n",
      "  fishhours_select.drop(columns=['date', 'flag', 'geartype', 'hours', 'mmsi_present'], inplace=True)\n"
     ]
    },
    {
     "name": "stdout",
     "output_type": "stream",
     "text": [
      "Starting processing of 2020-05-31.csv...\n",
      "F:\\Global Fishing Watch\\Fishing Intensity\\v2\\fleet-daily\\fleet-daily-csvs-100-v2-2020\\2020-05-31.csv\n",
      "Done with 2020_05_31...\n"
     ]
    },
    {
     "name": "stderr",
     "output_type": "stream",
     "text": [
      "C:\\Users\\keit8223\\AppData\\Local\\Temp\\1\\ipykernel_21680\\959929405.py:5: SettingWithCopyWarning: \n",
      "A value is trying to be set on a copy of a slice from a DataFrame\n",
      "\n",
      "See the caveats in the documentation: https://pandas.pydata.org/pandas-docs/stable/user_guide/indexing.html#returning-a-view-versus-a-copy\n",
      "  hours_select.drop(columns=['date', 'flag', 'geartype', 'fishing_hours', 'mmsi_present'], inplace=True)\n"
     ]
    },
    {
     "name": "stdout",
     "output_type": "stream",
     "text": [
      "3\n"
     ]
    },
    {
     "name": "stderr",
     "output_type": "stream",
     "text": [
      "C:\\Users\\keit8223\\AppData\\Local\\Temp\\1\\ipykernel_21680\\1813207608.py:4: SettingWithCopyWarning: \n",
      "A value is trying to be set on a copy of a slice from a DataFrame\n",
      "\n",
      "See the caveats in the documentation: https://pandas.pydata.org/pandas-docs/stable/user_guide/indexing.html#returning-a-view-versus-a-copy\n",
      "  fishhours_select.drop(columns=['date', 'flag', 'geartype', 'hours', 'mmsi_present'], inplace=True)\n"
     ]
    },
    {
     "name": "stdout",
     "output_type": "stream",
     "text": [
      "Starting processing of 2020-06-01.csv...\n",
      "F:\\Global Fishing Watch\\Fishing Intensity\\v2\\fleet-daily\\fleet-daily-csvs-100-v2-2020\\2020-06-01.csv\n",
      "Done with 2020_06_01...\n"
     ]
    },
    {
     "name": "stderr",
     "output_type": "stream",
     "text": [
      "C:\\Users\\keit8223\\AppData\\Local\\Temp\\1\\ipykernel_21680\\959929405.py:5: SettingWithCopyWarning: \n",
      "A value is trying to be set on a copy of a slice from a DataFrame\n",
      "\n",
      "See the caveats in the documentation: https://pandas.pydata.org/pandas-docs/stable/user_guide/indexing.html#returning-a-view-versus-a-copy\n",
      "  hours_select.drop(columns=['date', 'flag', 'geartype', 'fishing_hours', 'mmsi_present'], inplace=True)\n"
     ]
    },
    {
     "name": "stdout",
     "output_type": "stream",
     "text": [
      "3\n"
     ]
    },
    {
     "name": "stderr",
     "output_type": "stream",
     "text": [
      "C:\\Users\\keit8223\\AppData\\Local\\Temp\\1\\ipykernel_21680\\1813207608.py:4: SettingWithCopyWarning: \n",
      "A value is trying to be set on a copy of a slice from a DataFrame\n",
      "\n",
      "See the caveats in the documentation: https://pandas.pydata.org/pandas-docs/stable/user_guide/indexing.html#returning-a-view-versus-a-copy\n",
      "  fishhours_select.drop(columns=['date', 'flag', 'geartype', 'hours', 'mmsi_present'], inplace=True)\n"
     ]
    },
    {
     "name": "stdout",
     "output_type": "stream",
     "text": [
      "Starting processing of 2020-06-02.csv...\n",
      "F:\\Global Fishing Watch\\Fishing Intensity\\v2\\fleet-daily\\fleet-daily-csvs-100-v2-2020\\2020-06-02.csv\n",
      "Done with 2020_06_02...\n"
     ]
    },
    {
     "name": "stderr",
     "output_type": "stream",
     "text": [
      "C:\\Users\\keit8223\\AppData\\Local\\Temp\\1\\ipykernel_21680\\959929405.py:5: SettingWithCopyWarning: \n",
      "A value is trying to be set on a copy of a slice from a DataFrame\n",
      "\n",
      "See the caveats in the documentation: https://pandas.pydata.org/pandas-docs/stable/user_guide/indexing.html#returning-a-view-versus-a-copy\n",
      "  hours_select.drop(columns=['date', 'flag', 'geartype', 'fishing_hours', 'mmsi_present'], inplace=True)\n"
     ]
    },
    {
     "name": "stdout",
     "output_type": "stream",
     "text": [
      "3\n"
     ]
    },
    {
     "name": "stderr",
     "output_type": "stream",
     "text": [
      "C:\\Users\\keit8223\\AppData\\Local\\Temp\\1\\ipykernel_21680\\1813207608.py:4: SettingWithCopyWarning: \n",
      "A value is trying to be set on a copy of a slice from a DataFrame\n",
      "\n",
      "See the caveats in the documentation: https://pandas.pydata.org/pandas-docs/stable/user_guide/indexing.html#returning-a-view-versus-a-copy\n",
      "  fishhours_select.drop(columns=['date', 'flag', 'geartype', 'hours', 'mmsi_present'], inplace=True)\n"
     ]
    },
    {
     "name": "stdout",
     "output_type": "stream",
     "text": [
      "Starting processing of 2020-06-03.csv...\n",
      "F:\\Global Fishing Watch\\Fishing Intensity\\v2\\fleet-daily\\fleet-daily-csvs-100-v2-2020\\2020-06-03.csv\n",
      "Done with 2020_06_03...\n"
     ]
    },
    {
     "name": "stderr",
     "output_type": "stream",
     "text": [
      "C:\\Users\\keit8223\\AppData\\Local\\Temp\\1\\ipykernel_21680\\959929405.py:5: SettingWithCopyWarning: \n",
      "A value is trying to be set on a copy of a slice from a DataFrame\n",
      "\n",
      "See the caveats in the documentation: https://pandas.pydata.org/pandas-docs/stable/user_guide/indexing.html#returning-a-view-versus-a-copy\n",
      "  hours_select.drop(columns=['date', 'flag', 'geartype', 'fishing_hours', 'mmsi_present'], inplace=True)\n"
     ]
    },
    {
     "name": "stdout",
     "output_type": "stream",
     "text": [
      "3\n"
     ]
    },
    {
     "name": "stderr",
     "output_type": "stream",
     "text": [
      "C:\\Users\\keit8223\\AppData\\Local\\Temp\\1\\ipykernel_21680\\1813207608.py:4: SettingWithCopyWarning: \n",
      "A value is trying to be set on a copy of a slice from a DataFrame\n",
      "\n",
      "See the caveats in the documentation: https://pandas.pydata.org/pandas-docs/stable/user_guide/indexing.html#returning-a-view-versus-a-copy\n",
      "  fishhours_select.drop(columns=['date', 'flag', 'geartype', 'hours', 'mmsi_present'], inplace=True)\n"
     ]
    },
    {
     "name": "stdout",
     "output_type": "stream",
     "text": [
      "Starting processing of 2020-06-04.csv...\n",
      "F:\\Global Fishing Watch\\Fishing Intensity\\v2\\fleet-daily\\fleet-daily-csvs-100-v2-2020\\2020-06-04.csv\n",
      "Done with 2020_06_04...\n"
     ]
    },
    {
     "name": "stderr",
     "output_type": "stream",
     "text": [
      "C:\\Users\\keit8223\\AppData\\Local\\Temp\\1\\ipykernel_21680\\959929405.py:5: SettingWithCopyWarning: \n",
      "A value is trying to be set on a copy of a slice from a DataFrame\n",
      "\n",
      "See the caveats in the documentation: https://pandas.pydata.org/pandas-docs/stable/user_guide/indexing.html#returning-a-view-versus-a-copy\n",
      "  hours_select.drop(columns=['date', 'flag', 'geartype', 'fishing_hours', 'mmsi_present'], inplace=True)\n"
     ]
    },
    {
     "name": "stdout",
     "output_type": "stream",
     "text": [
      "3\n"
     ]
    },
    {
     "name": "stderr",
     "output_type": "stream",
     "text": [
      "C:\\Users\\keit8223\\AppData\\Local\\Temp\\1\\ipykernel_21680\\1813207608.py:4: SettingWithCopyWarning: \n",
      "A value is trying to be set on a copy of a slice from a DataFrame\n",
      "\n",
      "See the caveats in the documentation: https://pandas.pydata.org/pandas-docs/stable/user_guide/indexing.html#returning-a-view-versus-a-copy\n",
      "  fishhours_select.drop(columns=['date', 'flag', 'geartype', 'hours', 'mmsi_present'], inplace=True)\n"
     ]
    },
    {
     "name": "stdout",
     "output_type": "stream",
     "text": [
      "Starting processing of 2020-06-05.csv...\n",
      "F:\\Global Fishing Watch\\Fishing Intensity\\v2\\fleet-daily\\fleet-daily-csvs-100-v2-2020\\2020-06-05.csv\n",
      "Done with 2020_06_05...\n"
     ]
    },
    {
     "name": "stderr",
     "output_type": "stream",
     "text": [
      "C:\\Users\\keit8223\\AppData\\Local\\Temp\\1\\ipykernel_21680\\959929405.py:5: SettingWithCopyWarning: \n",
      "A value is trying to be set on a copy of a slice from a DataFrame\n",
      "\n",
      "See the caveats in the documentation: https://pandas.pydata.org/pandas-docs/stable/user_guide/indexing.html#returning-a-view-versus-a-copy\n",
      "  hours_select.drop(columns=['date', 'flag', 'geartype', 'fishing_hours', 'mmsi_present'], inplace=True)\n"
     ]
    },
    {
     "name": "stdout",
     "output_type": "stream",
     "text": [
      "3\n"
     ]
    },
    {
     "name": "stderr",
     "output_type": "stream",
     "text": [
      "C:\\Users\\keit8223\\AppData\\Local\\Temp\\1\\ipykernel_21680\\1813207608.py:4: SettingWithCopyWarning: \n",
      "A value is trying to be set on a copy of a slice from a DataFrame\n",
      "\n",
      "See the caveats in the documentation: https://pandas.pydata.org/pandas-docs/stable/user_guide/indexing.html#returning-a-view-versus-a-copy\n",
      "  fishhours_select.drop(columns=['date', 'flag', 'geartype', 'hours', 'mmsi_present'], inplace=True)\n"
     ]
    },
    {
     "name": "stdout",
     "output_type": "stream",
     "text": [
      "Starting processing of 2020-06-06.csv...\n",
      "F:\\Global Fishing Watch\\Fishing Intensity\\v2\\fleet-daily\\fleet-daily-csvs-100-v2-2020\\2020-06-06.csv\n",
      "Done with 2020_06_06...\n"
     ]
    },
    {
     "name": "stderr",
     "output_type": "stream",
     "text": [
      "C:\\Users\\keit8223\\AppData\\Local\\Temp\\1\\ipykernel_21680\\959929405.py:5: SettingWithCopyWarning: \n",
      "A value is trying to be set on a copy of a slice from a DataFrame\n",
      "\n",
      "See the caveats in the documentation: https://pandas.pydata.org/pandas-docs/stable/user_guide/indexing.html#returning-a-view-versus-a-copy\n",
      "  hours_select.drop(columns=['date', 'flag', 'geartype', 'fishing_hours', 'mmsi_present'], inplace=True)\n"
     ]
    },
    {
     "name": "stdout",
     "output_type": "stream",
     "text": [
      "3\n"
     ]
    },
    {
     "name": "stderr",
     "output_type": "stream",
     "text": [
      "C:\\Users\\keit8223\\AppData\\Local\\Temp\\1\\ipykernel_21680\\1813207608.py:4: SettingWithCopyWarning: \n",
      "A value is trying to be set on a copy of a slice from a DataFrame\n",
      "\n",
      "See the caveats in the documentation: https://pandas.pydata.org/pandas-docs/stable/user_guide/indexing.html#returning-a-view-versus-a-copy\n",
      "  fishhours_select.drop(columns=['date', 'flag', 'geartype', 'hours', 'mmsi_present'], inplace=True)\n"
     ]
    },
    {
     "name": "stdout",
     "output_type": "stream",
     "text": [
      "Starting processing of 2020-06-07.csv...\n",
      "F:\\Global Fishing Watch\\Fishing Intensity\\v2\\fleet-daily\\fleet-daily-csvs-100-v2-2020\\2020-06-07.csv\n",
      "Done with 2020_06_07...\n"
     ]
    },
    {
     "name": "stderr",
     "output_type": "stream",
     "text": [
      "C:\\Users\\keit8223\\AppData\\Local\\Temp\\1\\ipykernel_21680\\959929405.py:5: SettingWithCopyWarning: \n",
      "A value is trying to be set on a copy of a slice from a DataFrame\n",
      "\n",
      "See the caveats in the documentation: https://pandas.pydata.org/pandas-docs/stable/user_guide/indexing.html#returning-a-view-versus-a-copy\n",
      "  hours_select.drop(columns=['date', 'flag', 'geartype', 'fishing_hours', 'mmsi_present'], inplace=True)\n"
     ]
    },
    {
     "name": "stdout",
     "output_type": "stream",
     "text": [
      "3\n"
     ]
    },
    {
     "name": "stderr",
     "output_type": "stream",
     "text": [
      "C:\\Users\\keit8223\\AppData\\Local\\Temp\\1\\ipykernel_21680\\1813207608.py:4: SettingWithCopyWarning: \n",
      "A value is trying to be set on a copy of a slice from a DataFrame\n",
      "\n",
      "See the caveats in the documentation: https://pandas.pydata.org/pandas-docs/stable/user_guide/indexing.html#returning-a-view-versus-a-copy\n",
      "  fishhours_select.drop(columns=['date', 'flag', 'geartype', 'hours', 'mmsi_present'], inplace=True)\n"
     ]
    },
    {
     "name": "stdout",
     "output_type": "stream",
     "text": [
      "Starting processing of 2020-06-08.csv...\n",
      "F:\\Global Fishing Watch\\Fishing Intensity\\v2\\fleet-daily\\fleet-daily-csvs-100-v2-2020\\2020-06-08.csv\n",
      "Done with 2020_06_08...\n"
     ]
    },
    {
     "name": "stderr",
     "output_type": "stream",
     "text": [
      "C:\\Users\\keit8223\\AppData\\Local\\Temp\\1\\ipykernel_21680\\959929405.py:5: SettingWithCopyWarning: \n",
      "A value is trying to be set on a copy of a slice from a DataFrame\n",
      "\n",
      "See the caveats in the documentation: https://pandas.pydata.org/pandas-docs/stable/user_guide/indexing.html#returning-a-view-versus-a-copy\n",
      "  hours_select.drop(columns=['date', 'flag', 'geartype', 'fishing_hours', 'mmsi_present'], inplace=True)\n"
     ]
    },
    {
     "name": "stdout",
     "output_type": "stream",
     "text": [
      "3\n"
     ]
    },
    {
     "name": "stderr",
     "output_type": "stream",
     "text": [
      "C:\\Users\\keit8223\\AppData\\Local\\Temp\\1\\ipykernel_21680\\1813207608.py:4: SettingWithCopyWarning: \n",
      "A value is trying to be set on a copy of a slice from a DataFrame\n",
      "\n",
      "See the caveats in the documentation: https://pandas.pydata.org/pandas-docs/stable/user_guide/indexing.html#returning-a-view-versus-a-copy\n",
      "  fishhours_select.drop(columns=['date', 'flag', 'geartype', 'hours', 'mmsi_present'], inplace=True)\n"
     ]
    },
    {
     "name": "stdout",
     "output_type": "stream",
     "text": [
      "Starting processing of 2020-06-09.csv...\n",
      "F:\\Global Fishing Watch\\Fishing Intensity\\v2\\fleet-daily\\fleet-daily-csvs-100-v2-2020\\2020-06-09.csv\n",
      "Done with 2020_06_09...\n"
     ]
    },
    {
     "name": "stderr",
     "output_type": "stream",
     "text": [
      "C:\\Users\\keit8223\\AppData\\Local\\Temp\\1\\ipykernel_21680\\959929405.py:5: SettingWithCopyWarning: \n",
      "A value is trying to be set on a copy of a slice from a DataFrame\n",
      "\n",
      "See the caveats in the documentation: https://pandas.pydata.org/pandas-docs/stable/user_guide/indexing.html#returning-a-view-versus-a-copy\n",
      "  hours_select.drop(columns=['date', 'flag', 'geartype', 'fishing_hours', 'mmsi_present'], inplace=True)\n"
     ]
    },
    {
     "name": "stdout",
     "output_type": "stream",
     "text": [
      "3\n"
     ]
    },
    {
     "name": "stderr",
     "output_type": "stream",
     "text": [
      "C:\\Users\\keit8223\\AppData\\Local\\Temp\\1\\ipykernel_21680\\1813207608.py:4: SettingWithCopyWarning: \n",
      "A value is trying to be set on a copy of a slice from a DataFrame\n",
      "\n",
      "See the caveats in the documentation: https://pandas.pydata.org/pandas-docs/stable/user_guide/indexing.html#returning-a-view-versus-a-copy\n",
      "  fishhours_select.drop(columns=['date', 'flag', 'geartype', 'hours', 'mmsi_present'], inplace=True)\n"
     ]
    },
    {
     "name": "stdout",
     "output_type": "stream",
     "text": [
      "Starting processing of 2020-06-10.csv...\n",
      "F:\\Global Fishing Watch\\Fishing Intensity\\v2\\fleet-daily\\fleet-daily-csvs-100-v2-2020\\2020-06-10.csv\n",
      "Done with 2020_06_10...\n"
     ]
    },
    {
     "name": "stderr",
     "output_type": "stream",
     "text": [
      "C:\\Users\\keit8223\\AppData\\Local\\Temp\\1\\ipykernel_21680\\959929405.py:5: SettingWithCopyWarning: \n",
      "A value is trying to be set on a copy of a slice from a DataFrame\n",
      "\n",
      "See the caveats in the documentation: https://pandas.pydata.org/pandas-docs/stable/user_guide/indexing.html#returning-a-view-versus-a-copy\n",
      "  hours_select.drop(columns=['date', 'flag', 'geartype', 'fishing_hours', 'mmsi_present'], inplace=True)\n"
     ]
    },
    {
     "name": "stdout",
     "output_type": "stream",
     "text": [
      "3\n"
     ]
    },
    {
     "name": "stderr",
     "output_type": "stream",
     "text": [
      "C:\\Users\\keit8223\\AppData\\Local\\Temp\\1\\ipykernel_21680\\1813207608.py:4: SettingWithCopyWarning: \n",
      "A value is trying to be set on a copy of a slice from a DataFrame\n",
      "\n",
      "See the caveats in the documentation: https://pandas.pydata.org/pandas-docs/stable/user_guide/indexing.html#returning-a-view-versus-a-copy\n",
      "  fishhours_select.drop(columns=['date', 'flag', 'geartype', 'hours', 'mmsi_present'], inplace=True)\n"
     ]
    },
    {
     "name": "stdout",
     "output_type": "stream",
     "text": [
      "Starting processing of 2020-06-11.csv...\n",
      "F:\\Global Fishing Watch\\Fishing Intensity\\v2\\fleet-daily\\fleet-daily-csvs-100-v2-2020\\2020-06-11.csv\n",
      "Done with 2020_06_11...\n"
     ]
    },
    {
     "name": "stderr",
     "output_type": "stream",
     "text": [
      "C:\\Users\\keit8223\\AppData\\Local\\Temp\\1\\ipykernel_21680\\959929405.py:5: SettingWithCopyWarning: \n",
      "A value is trying to be set on a copy of a slice from a DataFrame\n",
      "\n",
      "See the caveats in the documentation: https://pandas.pydata.org/pandas-docs/stable/user_guide/indexing.html#returning-a-view-versus-a-copy\n",
      "  hours_select.drop(columns=['date', 'flag', 'geartype', 'fishing_hours', 'mmsi_present'], inplace=True)\n"
     ]
    },
    {
     "name": "stdout",
     "output_type": "stream",
     "text": [
      "3\n"
     ]
    },
    {
     "name": "stderr",
     "output_type": "stream",
     "text": [
      "C:\\Users\\keit8223\\AppData\\Local\\Temp\\1\\ipykernel_21680\\1813207608.py:4: SettingWithCopyWarning: \n",
      "A value is trying to be set on a copy of a slice from a DataFrame\n",
      "\n",
      "See the caveats in the documentation: https://pandas.pydata.org/pandas-docs/stable/user_guide/indexing.html#returning-a-view-versus-a-copy\n",
      "  fishhours_select.drop(columns=['date', 'flag', 'geartype', 'hours', 'mmsi_present'], inplace=True)\n"
     ]
    },
    {
     "name": "stdout",
     "output_type": "stream",
     "text": [
      "Starting processing of 2020-06-12.csv...\n",
      "F:\\Global Fishing Watch\\Fishing Intensity\\v2\\fleet-daily\\fleet-daily-csvs-100-v2-2020\\2020-06-12.csv\n",
      "Done with 2020_06_12...\n"
     ]
    },
    {
     "name": "stderr",
     "output_type": "stream",
     "text": [
      "C:\\Users\\keit8223\\AppData\\Local\\Temp\\1\\ipykernel_21680\\959929405.py:5: SettingWithCopyWarning: \n",
      "A value is trying to be set on a copy of a slice from a DataFrame\n",
      "\n",
      "See the caveats in the documentation: https://pandas.pydata.org/pandas-docs/stable/user_guide/indexing.html#returning-a-view-versus-a-copy\n",
      "  hours_select.drop(columns=['date', 'flag', 'geartype', 'fishing_hours', 'mmsi_present'], inplace=True)\n"
     ]
    },
    {
     "name": "stdout",
     "output_type": "stream",
     "text": [
      "3\n"
     ]
    },
    {
     "name": "stderr",
     "output_type": "stream",
     "text": [
      "C:\\Users\\keit8223\\AppData\\Local\\Temp\\1\\ipykernel_21680\\1813207608.py:4: SettingWithCopyWarning: \n",
      "A value is trying to be set on a copy of a slice from a DataFrame\n",
      "\n",
      "See the caveats in the documentation: https://pandas.pydata.org/pandas-docs/stable/user_guide/indexing.html#returning-a-view-versus-a-copy\n",
      "  fishhours_select.drop(columns=['date', 'flag', 'geartype', 'hours', 'mmsi_present'], inplace=True)\n"
     ]
    },
    {
     "name": "stdout",
     "output_type": "stream",
     "text": [
      "Starting processing of 2020-06-13.csv...\n",
      "F:\\Global Fishing Watch\\Fishing Intensity\\v2\\fleet-daily\\fleet-daily-csvs-100-v2-2020\\2020-06-13.csv\n",
      "Done with 2020_06_13...\n"
     ]
    },
    {
     "name": "stderr",
     "output_type": "stream",
     "text": [
      "C:\\Users\\keit8223\\AppData\\Local\\Temp\\1\\ipykernel_21680\\959929405.py:5: SettingWithCopyWarning: \n",
      "A value is trying to be set on a copy of a slice from a DataFrame\n",
      "\n",
      "See the caveats in the documentation: https://pandas.pydata.org/pandas-docs/stable/user_guide/indexing.html#returning-a-view-versus-a-copy\n",
      "  hours_select.drop(columns=['date', 'flag', 'geartype', 'fishing_hours', 'mmsi_present'], inplace=True)\n"
     ]
    },
    {
     "name": "stdout",
     "output_type": "stream",
     "text": [
      "3\n"
     ]
    },
    {
     "name": "stderr",
     "output_type": "stream",
     "text": [
      "C:\\Users\\keit8223\\AppData\\Local\\Temp\\1\\ipykernel_21680\\1813207608.py:4: SettingWithCopyWarning: \n",
      "A value is trying to be set on a copy of a slice from a DataFrame\n",
      "\n",
      "See the caveats in the documentation: https://pandas.pydata.org/pandas-docs/stable/user_guide/indexing.html#returning-a-view-versus-a-copy\n",
      "  fishhours_select.drop(columns=['date', 'flag', 'geartype', 'hours', 'mmsi_present'], inplace=True)\n"
     ]
    },
    {
     "name": "stdout",
     "output_type": "stream",
     "text": [
      "Starting processing of 2020-06-14.csv...\n",
      "F:\\Global Fishing Watch\\Fishing Intensity\\v2\\fleet-daily\\fleet-daily-csvs-100-v2-2020\\2020-06-14.csv\n",
      "Done with 2020_06_14...\n"
     ]
    },
    {
     "name": "stderr",
     "output_type": "stream",
     "text": [
      "C:\\Users\\keit8223\\AppData\\Local\\Temp\\1\\ipykernel_21680\\959929405.py:5: SettingWithCopyWarning: \n",
      "A value is trying to be set on a copy of a slice from a DataFrame\n",
      "\n",
      "See the caveats in the documentation: https://pandas.pydata.org/pandas-docs/stable/user_guide/indexing.html#returning-a-view-versus-a-copy\n",
      "  hours_select.drop(columns=['date', 'flag', 'geartype', 'fishing_hours', 'mmsi_present'], inplace=True)\n"
     ]
    },
    {
     "name": "stdout",
     "output_type": "stream",
     "text": [
      "3\n"
     ]
    },
    {
     "name": "stderr",
     "output_type": "stream",
     "text": [
      "C:\\Users\\keit8223\\AppData\\Local\\Temp\\1\\ipykernel_21680\\1813207608.py:4: SettingWithCopyWarning: \n",
      "A value is trying to be set on a copy of a slice from a DataFrame\n",
      "\n",
      "See the caveats in the documentation: https://pandas.pydata.org/pandas-docs/stable/user_guide/indexing.html#returning-a-view-versus-a-copy\n",
      "  fishhours_select.drop(columns=['date', 'flag', 'geartype', 'hours', 'mmsi_present'], inplace=True)\n"
     ]
    },
    {
     "name": "stdout",
     "output_type": "stream",
     "text": [
      "Starting processing of 2020-06-15.csv...\n",
      "F:\\Global Fishing Watch\\Fishing Intensity\\v2\\fleet-daily\\fleet-daily-csvs-100-v2-2020\\2020-06-15.csv\n",
      "Done with 2020_06_15...\n"
     ]
    },
    {
     "name": "stderr",
     "output_type": "stream",
     "text": [
      "C:\\Users\\keit8223\\AppData\\Local\\Temp\\1\\ipykernel_21680\\959929405.py:5: SettingWithCopyWarning: \n",
      "A value is trying to be set on a copy of a slice from a DataFrame\n",
      "\n",
      "See the caveats in the documentation: https://pandas.pydata.org/pandas-docs/stable/user_guide/indexing.html#returning-a-view-versus-a-copy\n",
      "  hours_select.drop(columns=['date', 'flag', 'geartype', 'fishing_hours', 'mmsi_present'], inplace=True)\n"
     ]
    },
    {
     "name": "stdout",
     "output_type": "stream",
     "text": [
      "3\n"
     ]
    },
    {
     "name": "stderr",
     "output_type": "stream",
     "text": [
      "C:\\Users\\keit8223\\AppData\\Local\\Temp\\1\\ipykernel_21680\\1813207608.py:4: SettingWithCopyWarning: \n",
      "A value is trying to be set on a copy of a slice from a DataFrame\n",
      "\n",
      "See the caveats in the documentation: https://pandas.pydata.org/pandas-docs/stable/user_guide/indexing.html#returning-a-view-versus-a-copy\n",
      "  fishhours_select.drop(columns=['date', 'flag', 'geartype', 'hours', 'mmsi_present'], inplace=True)\n"
     ]
    },
    {
     "name": "stdout",
     "output_type": "stream",
     "text": [
      "Starting processing of 2020-06-16.csv...\n",
      "F:\\Global Fishing Watch\\Fishing Intensity\\v2\\fleet-daily\\fleet-daily-csvs-100-v2-2020\\2020-06-16.csv\n",
      "Done with 2020_06_16...\n"
     ]
    },
    {
     "name": "stderr",
     "output_type": "stream",
     "text": [
      "C:\\Users\\keit8223\\AppData\\Local\\Temp\\1\\ipykernel_21680\\959929405.py:5: SettingWithCopyWarning: \n",
      "A value is trying to be set on a copy of a slice from a DataFrame\n",
      "\n",
      "See the caveats in the documentation: https://pandas.pydata.org/pandas-docs/stable/user_guide/indexing.html#returning-a-view-versus-a-copy\n",
      "  hours_select.drop(columns=['date', 'flag', 'geartype', 'fishing_hours', 'mmsi_present'], inplace=True)\n"
     ]
    },
    {
     "name": "stdout",
     "output_type": "stream",
     "text": [
      "3\n"
     ]
    },
    {
     "name": "stderr",
     "output_type": "stream",
     "text": [
      "C:\\Users\\keit8223\\AppData\\Local\\Temp\\1\\ipykernel_21680\\1813207608.py:4: SettingWithCopyWarning: \n",
      "A value is trying to be set on a copy of a slice from a DataFrame\n",
      "\n",
      "See the caveats in the documentation: https://pandas.pydata.org/pandas-docs/stable/user_guide/indexing.html#returning-a-view-versus-a-copy\n",
      "  fishhours_select.drop(columns=['date', 'flag', 'geartype', 'hours', 'mmsi_present'], inplace=True)\n"
     ]
    },
    {
     "name": "stdout",
     "output_type": "stream",
     "text": [
      "Starting processing of 2020-06-17.csv...\n",
      "F:\\Global Fishing Watch\\Fishing Intensity\\v2\\fleet-daily\\fleet-daily-csvs-100-v2-2020\\2020-06-17.csv\n",
      "Done with 2020_06_17...\n"
     ]
    },
    {
     "name": "stderr",
     "output_type": "stream",
     "text": [
      "C:\\Users\\keit8223\\AppData\\Local\\Temp\\1\\ipykernel_21680\\959929405.py:5: SettingWithCopyWarning: \n",
      "A value is trying to be set on a copy of a slice from a DataFrame\n",
      "\n",
      "See the caveats in the documentation: https://pandas.pydata.org/pandas-docs/stable/user_guide/indexing.html#returning-a-view-versus-a-copy\n",
      "  hours_select.drop(columns=['date', 'flag', 'geartype', 'fishing_hours', 'mmsi_present'], inplace=True)\n"
     ]
    },
    {
     "name": "stdout",
     "output_type": "stream",
     "text": [
      "3\n"
     ]
    },
    {
     "name": "stderr",
     "output_type": "stream",
     "text": [
      "C:\\Users\\keit8223\\AppData\\Local\\Temp\\1\\ipykernel_21680\\1813207608.py:4: SettingWithCopyWarning: \n",
      "A value is trying to be set on a copy of a slice from a DataFrame\n",
      "\n",
      "See the caveats in the documentation: https://pandas.pydata.org/pandas-docs/stable/user_guide/indexing.html#returning-a-view-versus-a-copy\n",
      "  fishhours_select.drop(columns=['date', 'flag', 'geartype', 'hours', 'mmsi_present'], inplace=True)\n"
     ]
    },
    {
     "name": "stdout",
     "output_type": "stream",
     "text": [
      "Starting processing of 2020-06-18.csv...\n",
      "F:\\Global Fishing Watch\\Fishing Intensity\\v2\\fleet-daily\\fleet-daily-csvs-100-v2-2020\\2020-06-18.csv\n",
      "Done with 2020_06_18...\n"
     ]
    },
    {
     "name": "stderr",
     "output_type": "stream",
     "text": [
      "C:\\Users\\keit8223\\AppData\\Local\\Temp\\1\\ipykernel_21680\\959929405.py:5: SettingWithCopyWarning: \n",
      "A value is trying to be set on a copy of a slice from a DataFrame\n",
      "\n",
      "See the caveats in the documentation: https://pandas.pydata.org/pandas-docs/stable/user_guide/indexing.html#returning-a-view-versus-a-copy\n",
      "  hours_select.drop(columns=['date', 'flag', 'geartype', 'fishing_hours', 'mmsi_present'], inplace=True)\n"
     ]
    },
    {
     "name": "stdout",
     "output_type": "stream",
     "text": [
      "3\n"
     ]
    },
    {
     "name": "stderr",
     "output_type": "stream",
     "text": [
      "C:\\Users\\keit8223\\AppData\\Local\\Temp\\1\\ipykernel_21680\\1813207608.py:4: SettingWithCopyWarning: \n",
      "A value is trying to be set on a copy of a slice from a DataFrame\n",
      "\n",
      "See the caveats in the documentation: https://pandas.pydata.org/pandas-docs/stable/user_guide/indexing.html#returning-a-view-versus-a-copy\n",
      "  fishhours_select.drop(columns=['date', 'flag', 'geartype', 'hours', 'mmsi_present'], inplace=True)\n"
     ]
    },
    {
     "name": "stdout",
     "output_type": "stream",
     "text": [
      "Starting processing of 2020-06-19.csv...\n",
      "F:\\Global Fishing Watch\\Fishing Intensity\\v2\\fleet-daily\\fleet-daily-csvs-100-v2-2020\\2020-06-19.csv\n",
      "Done with 2020_06_19...\n"
     ]
    },
    {
     "name": "stderr",
     "output_type": "stream",
     "text": [
      "C:\\Users\\keit8223\\AppData\\Local\\Temp\\1\\ipykernel_21680\\959929405.py:5: SettingWithCopyWarning: \n",
      "A value is trying to be set on a copy of a slice from a DataFrame\n",
      "\n",
      "See the caveats in the documentation: https://pandas.pydata.org/pandas-docs/stable/user_guide/indexing.html#returning-a-view-versus-a-copy\n",
      "  hours_select.drop(columns=['date', 'flag', 'geartype', 'fishing_hours', 'mmsi_present'], inplace=True)\n"
     ]
    },
    {
     "name": "stdout",
     "output_type": "stream",
     "text": [
      "3\n"
     ]
    },
    {
     "name": "stderr",
     "output_type": "stream",
     "text": [
      "C:\\Users\\keit8223\\AppData\\Local\\Temp\\1\\ipykernel_21680\\1813207608.py:4: SettingWithCopyWarning: \n",
      "A value is trying to be set on a copy of a slice from a DataFrame\n",
      "\n",
      "See the caveats in the documentation: https://pandas.pydata.org/pandas-docs/stable/user_guide/indexing.html#returning-a-view-versus-a-copy\n",
      "  fishhours_select.drop(columns=['date', 'flag', 'geartype', 'hours', 'mmsi_present'], inplace=True)\n"
     ]
    },
    {
     "name": "stdout",
     "output_type": "stream",
     "text": [
      "Starting processing of 2020-06-20.csv...\n",
      "F:\\Global Fishing Watch\\Fishing Intensity\\v2\\fleet-daily\\fleet-daily-csvs-100-v2-2020\\2020-06-20.csv\n",
      "Done with 2020_06_20...\n"
     ]
    },
    {
     "name": "stderr",
     "output_type": "stream",
     "text": [
      "C:\\Users\\keit8223\\AppData\\Local\\Temp\\1\\ipykernel_21680\\959929405.py:5: SettingWithCopyWarning: \n",
      "A value is trying to be set on a copy of a slice from a DataFrame\n",
      "\n",
      "See the caveats in the documentation: https://pandas.pydata.org/pandas-docs/stable/user_guide/indexing.html#returning-a-view-versus-a-copy\n",
      "  hours_select.drop(columns=['date', 'flag', 'geartype', 'fishing_hours', 'mmsi_present'], inplace=True)\n"
     ]
    },
    {
     "name": "stdout",
     "output_type": "stream",
     "text": [
      "3\n"
     ]
    },
    {
     "name": "stderr",
     "output_type": "stream",
     "text": [
      "C:\\Users\\keit8223\\AppData\\Local\\Temp\\1\\ipykernel_21680\\1813207608.py:4: SettingWithCopyWarning: \n",
      "A value is trying to be set on a copy of a slice from a DataFrame\n",
      "\n",
      "See the caveats in the documentation: https://pandas.pydata.org/pandas-docs/stable/user_guide/indexing.html#returning-a-view-versus-a-copy\n",
      "  fishhours_select.drop(columns=['date', 'flag', 'geartype', 'hours', 'mmsi_present'], inplace=True)\n"
     ]
    },
    {
     "name": "stdout",
     "output_type": "stream",
     "text": [
      "Starting processing of 2020-06-21.csv...\n",
      "F:\\Global Fishing Watch\\Fishing Intensity\\v2\\fleet-daily\\fleet-daily-csvs-100-v2-2020\\2020-06-21.csv\n",
      "Done with 2020_06_21...\n"
     ]
    },
    {
     "name": "stderr",
     "output_type": "stream",
     "text": [
      "C:\\Users\\keit8223\\AppData\\Local\\Temp\\1\\ipykernel_21680\\959929405.py:5: SettingWithCopyWarning: \n",
      "A value is trying to be set on a copy of a slice from a DataFrame\n",
      "\n",
      "See the caveats in the documentation: https://pandas.pydata.org/pandas-docs/stable/user_guide/indexing.html#returning-a-view-versus-a-copy\n",
      "  hours_select.drop(columns=['date', 'flag', 'geartype', 'fishing_hours', 'mmsi_present'], inplace=True)\n"
     ]
    },
    {
     "name": "stdout",
     "output_type": "stream",
     "text": [
      "3\n"
     ]
    },
    {
     "name": "stderr",
     "output_type": "stream",
     "text": [
      "C:\\Users\\keit8223\\AppData\\Local\\Temp\\1\\ipykernel_21680\\1813207608.py:4: SettingWithCopyWarning: \n",
      "A value is trying to be set on a copy of a slice from a DataFrame\n",
      "\n",
      "See the caveats in the documentation: https://pandas.pydata.org/pandas-docs/stable/user_guide/indexing.html#returning-a-view-versus-a-copy\n",
      "  fishhours_select.drop(columns=['date', 'flag', 'geartype', 'hours', 'mmsi_present'], inplace=True)\n"
     ]
    },
    {
     "name": "stdout",
     "output_type": "stream",
     "text": [
      "Starting processing of 2020-06-22.csv...\n",
      "F:\\Global Fishing Watch\\Fishing Intensity\\v2\\fleet-daily\\fleet-daily-csvs-100-v2-2020\\2020-06-22.csv\n",
      "Done with 2020_06_22...\n"
     ]
    },
    {
     "name": "stderr",
     "output_type": "stream",
     "text": [
      "C:\\Users\\keit8223\\AppData\\Local\\Temp\\1\\ipykernel_21680\\959929405.py:5: SettingWithCopyWarning: \n",
      "A value is trying to be set on a copy of a slice from a DataFrame\n",
      "\n",
      "See the caveats in the documentation: https://pandas.pydata.org/pandas-docs/stable/user_guide/indexing.html#returning-a-view-versus-a-copy\n",
      "  hours_select.drop(columns=['date', 'flag', 'geartype', 'fishing_hours', 'mmsi_present'], inplace=True)\n"
     ]
    },
    {
     "name": "stdout",
     "output_type": "stream",
     "text": [
      "3\n"
     ]
    },
    {
     "name": "stderr",
     "output_type": "stream",
     "text": [
      "C:\\Users\\keit8223\\AppData\\Local\\Temp\\1\\ipykernel_21680\\1813207608.py:4: SettingWithCopyWarning: \n",
      "A value is trying to be set on a copy of a slice from a DataFrame\n",
      "\n",
      "See the caveats in the documentation: https://pandas.pydata.org/pandas-docs/stable/user_guide/indexing.html#returning-a-view-versus-a-copy\n",
      "  fishhours_select.drop(columns=['date', 'flag', 'geartype', 'hours', 'mmsi_present'], inplace=True)\n"
     ]
    },
    {
     "name": "stdout",
     "output_type": "stream",
     "text": [
      "Starting processing of 2020-06-23.csv...\n",
      "F:\\Global Fishing Watch\\Fishing Intensity\\v2\\fleet-daily\\fleet-daily-csvs-100-v2-2020\\2020-06-23.csv\n",
      "Done with 2020_06_23...\n"
     ]
    },
    {
     "name": "stderr",
     "output_type": "stream",
     "text": [
      "C:\\Users\\keit8223\\AppData\\Local\\Temp\\1\\ipykernel_21680\\959929405.py:5: SettingWithCopyWarning: \n",
      "A value is trying to be set on a copy of a slice from a DataFrame\n",
      "\n",
      "See the caveats in the documentation: https://pandas.pydata.org/pandas-docs/stable/user_guide/indexing.html#returning-a-view-versus-a-copy\n",
      "  hours_select.drop(columns=['date', 'flag', 'geartype', 'fishing_hours', 'mmsi_present'], inplace=True)\n"
     ]
    },
    {
     "name": "stdout",
     "output_type": "stream",
     "text": [
      "3\n"
     ]
    },
    {
     "name": "stderr",
     "output_type": "stream",
     "text": [
      "C:\\Users\\keit8223\\AppData\\Local\\Temp\\1\\ipykernel_21680\\1813207608.py:4: SettingWithCopyWarning: \n",
      "A value is trying to be set on a copy of a slice from a DataFrame\n",
      "\n",
      "See the caveats in the documentation: https://pandas.pydata.org/pandas-docs/stable/user_guide/indexing.html#returning-a-view-versus-a-copy\n",
      "  fishhours_select.drop(columns=['date', 'flag', 'geartype', 'hours', 'mmsi_present'], inplace=True)\n"
     ]
    },
    {
     "name": "stdout",
     "output_type": "stream",
     "text": [
      "Starting processing of 2020-06-24.csv...\n",
      "F:\\Global Fishing Watch\\Fishing Intensity\\v2\\fleet-daily\\fleet-daily-csvs-100-v2-2020\\2020-06-24.csv\n",
      "Done with 2020_06_24...\n"
     ]
    },
    {
     "name": "stderr",
     "output_type": "stream",
     "text": [
      "C:\\Users\\keit8223\\AppData\\Local\\Temp\\1\\ipykernel_21680\\959929405.py:5: SettingWithCopyWarning: \n",
      "A value is trying to be set on a copy of a slice from a DataFrame\n",
      "\n",
      "See the caveats in the documentation: https://pandas.pydata.org/pandas-docs/stable/user_guide/indexing.html#returning-a-view-versus-a-copy\n",
      "  hours_select.drop(columns=['date', 'flag', 'geartype', 'fishing_hours', 'mmsi_present'], inplace=True)\n"
     ]
    },
    {
     "name": "stdout",
     "output_type": "stream",
     "text": [
      "3\n"
     ]
    },
    {
     "name": "stderr",
     "output_type": "stream",
     "text": [
      "C:\\Users\\keit8223\\AppData\\Local\\Temp\\1\\ipykernel_21680\\1813207608.py:4: SettingWithCopyWarning: \n",
      "A value is trying to be set on a copy of a slice from a DataFrame\n",
      "\n",
      "See the caveats in the documentation: https://pandas.pydata.org/pandas-docs/stable/user_guide/indexing.html#returning-a-view-versus-a-copy\n",
      "  fishhours_select.drop(columns=['date', 'flag', 'geartype', 'hours', 'mmsi_present'], inplace=True)\n"
     ]
    },
    {
     "name": "stdout",
     "output_type": "stream",
     "text": [
      "Starting processing of 2020-06-25.csv...\n",
      "F:\\Global Fishing Watch\\Fishing Intensity\\v2\\fleet-daily\\fleet-daily-csvs-100-v2-2020\\2020-06-25.csv\n",
      "Done with 2020_06_25...\n"
     ]
    },
    {
     "name": "stderr",
     "output_type": "stream",
     "text": [
      "C:\\Users\\keit8223\\AppData\\Local\\Temp\\1\\ipykernel_21680\\959929405.py:5: SettingWithCopyWarning: \n",
      "A value is trying to be set on a copy of a slice from a DataFrame\n",
      "\n",
      "See the caveats in the documentation: https://pandas.pydata.org/pandas-docs/stable/user_guide/indexing.html#returning-a-view-versus-a-copy\n",
      "  hours_select.drop(columns=['date', 'flag', 'geartype', 'fishing_hours', 'mmsi_present'], inplace=True)\n"
     ]
    },
    {
     "name": "stdout",
     "output_type": "stream",
     "text": [
      "3\n"
     ]
    },
    {
     "name": "stderr",
     "output_type": "stream",
     "text": [
      "C:\\Users\\keit8223\\AppData\\Local\\Temp\\1\\ipykernel_21680\\1813207608.py:4: SettingWithCopyWarning: \n",
      "A value is trying to be set on a copy of a slice from a DataFrame\n",
      "\n",
      "See the caveats in the documentation: https://pandas.pydata.org/pandas-docs/stable/user_guide/indexing.html#returning-a-view-versus-a-copy\n",
      "  fishhours_select.drop(columns=['date', 'flag', 'geartype', 'hours', 'mmsi_present'], inplace=True)\n"
     ]
    },
    {
     "name": "stdout",
     "output_type": "stream",
     "text": [
      "Starting processing of 2020-06-26.csv...\n",
      "F:\\Global Fishing Watch\\Fishing Intensity\\v2\\fleet-daily\\fleet-daily-csvs-100-v2-2020\\2020-06-26.csv\n",
      "Done with 2020_06_26...\n"
     ]
    },
    {
     "name": "stderr",
     "output_type": "stream",
     "text": [
      "C:\\Users\\keit8223\\AppData\\Local\\Temp\\1\\ipykernel_21680\\959929405.py:5: SettingWithCopyWarning: \n",
      "A value is trying to be set on a copy of a slice from a DataFrame\n",
      "\n",
      "See the caveats in the documentation: https://pandas.pydata.org/pandas-docs/stable/user_guide/indexing.html#returning-a-view-versus-a-copy\n",
      "  hours_select.drop(columns=['date', 'flag', 'geartype', 'fishing_hours', 'mmsi_present'], inplace=True)\n"
     ]
    },
    {
     "name": "stdout",
     "output_type": "stream",
     "text": [
      "3\n"
     ]
    },
    {
     "name": "stderr",
     "output_type": "stream",
     "text": [
      "C:\\Users\\keit8223\\AppData\\Local\\Temp\\1\\ipykernel_21680\\1813207608.py:4: SettingWithCopyWarning: \n",
      "A value is trying to be set on a copy of a slice from a DataFrame\n",
      "\n",
      "See the caveats in the documentation: https://pandas.pydata.org/pandas-docs/stable/user_guide/indexing.html#returning-a-view-versus-a-copy\n",
      "  fishhours_select.drop(columns=['date', 'flag', 'geartype', 'hours', 'mmsi_present'], inplace=True)\n"
     ]
    },
    {
     "name": "stdout",
     "output_type": "stream",
     "text": [
      "Starting processing of 2020-06-27.csv...\n",
      "F:\\Global Fishing Watch\\Fishing Intensity\\v2\\fleet-daily\\fleet-daily-csvs-100-v2-2020\\2020-06-27.csv\n",
      "Done with 2020_06_27...\n"
     ]
    },
    {
     "name": "stderr",
     "output_type": "stream",
     "text": [
      "C:\\Users\\keit8223\\AppData\\Local\\Temp\\1\\ipykernel_21680\\959929405.py:5: SettingWithCopyWarning: \n",
      "A value is trying to be set on a copy of a slice from a DataFrame\n",
      "\n",
      "See the caveats in the documentation: https://pandas.pydata.org/pandas-docs/stable/user_guide/indexing.html#returning-a-view-versus-a-copy\n",
      "  hours_select.drop(columns=['date', 'flag', 'geartype', 'fishing_hours', 'mmsi_present'], inplace=True)\n"
     ]
    },
    {
     "name": "stdout",
     "output_type": "stream",
     "text": [
      "3\n"
     ]
    },
    {
     "name": "stderr",
     "output_type": "stream",
     "text": [
      "C:\\Users\\keit8223\\AppData\\Local\\Temp\\1\\ipykernel_21680\\1813207608.py:4: SettingWithCopyWarning: \n",
      "A value is trying to be set on a copy of a slice from a DataFrame\n",
      "\n",
      "See the caveats in the documentation: https://pandas.pydata.org/pandas-docs/stable/user_guide/indexing.html#returning-a-view-versus-a-copy\n",
      "  fishhours_select.drop(columns=['date', 'flag', 'geartype', 'hours', 'mmsi_present'], inplace=True)\n"
     ]
    },
    {
     "name": "stdout",
     "output_type": "stream",
     "text": [
      "Starting processing of 2020-06-28.csv...\n",
      "F:\\Global Fishing Watch\\Fishing Intensity\\v2\\fleet-daily\\fleet-daily-csvs-100-v2-2020\\2020-06-28.csv\n",
      "Done with 2020_06_28...\n"
     ]
    },
    {
     "name": "stderr",
     "output_type": "stream",
     "text": [
      "C:\\Users\\keit8223\\AppData\\Local\\Temp\\1\\ipykernel_21680\\959929405.py:5: SettingWithCopyWarning: \n",
      "A value is trying to be set on a copy of a slice from a DataFrame\n",
      "\n",
      "See the caveats in the documentation: https://pandas.pydata.org/pandas-docs/stable/user_guide/indexing.html#returning-a-view-versus-a-copy\n",
      "  hours_select.drop(columns=['date', 'flag', 'geartype', 'fishing_hours', 'mmsi_present'], inplace=True)\n"
     ]
    },
    {
     "name": "stdout",
     "output_type": "stream",
     "text": [
      "3\n"
     ]
    },
    {
     "name": "stderr",
     "output_type": "stream",
     "text": [
      "C:\\Users\\keit8223\\AppData\\Local\\Temp\\1\\ipykernel_21680\\1813207608.py:4: SettingWithCopyWarning: \n",
      "A value is trying to be set on a copy of a slice from a DataFrame\n",
      "\n",
      "See the caveats in the documentation: https://pandas.pydata.org/pandas-docs/stable/user_guide/indexing.html#returning-a-view-versus-a-copy\n",
      "  fishhours_select.drop(columns=['date', 'flag', 'geartype', 'hours', 'mmsi_present'], inplace=True)\n"
     ]
    },
    {
     "name": "stdout",
     "output_type": "stream",
     "text": [
      "Starting processing of 2020-06-29.csv...\n",
      "F:\\Global Fishing Watch\\Fishing Intensity\\v2\\fleet-daily\\fleet-daily-csvs-100-v2-2020\\2020-06-29.csv\n",
      "Done with 2020_06_29...\n"
     ]
    },
    {
     "name": "stderr",
     "output_type": "stream",
     "text": [
      "C:\\Users\\keit8223\\AppData\\Local\\Temp\\1\\ipykernel_21680\\959929405.py:5: SettingWithCopyWarning: \n",
      "A value is trying to be set on a copy of a slice from a DataFrame\n",
      "\n",
      "See the caveats in the documentation: https://pandas.pydata.org/pandas-docs/stable/user_guide/indexing.html#returning-a-view-versus-a-copy\n",
      "  hours_select.drop(columns=['date', 'flag', 'geartype', 'fishing_hours', 'mmsi_present'], inplace=True)\n"
     ]
    },
    {
     "name": "stdout",
     "output_type": "stream",
     "text": [
      "3\n"
     ]
    },
    {
     "name": "stderr",
     "output_type": "stream",
     "text": [
      "C:\\Users\\keit8223\\AppData\\Local\\Temp\\1\\ipykernel_21680\\1813207608.py:4: SettingWithCopyWarning: \n",
      "A value is trying to be set on a copy of a slice from a DataFrame\n",
      "\n",
      "See the caveats in the documentation: https://pandas.pydata.org/pandas-docs/stable/user_guide/indexing.html#returning-a-view-versus-a-copy\n",
      "  fishhours_select.drop(columns=['date', 'flag', 'geartype', 'hours', 'mmsi_present'], inplace=True)\n"
     ]
    },
    {
     "name": "stdout",
     "output_type": "stream",
     "text": [
      "Starting processing of 2020-06-30.csv...\n",
      "F:\\Global Fishing Watch\\Fishing Intensity\\v2\\fleet-daily\\fleet-daily-csvs-100-v2-2020\\2020-06-30.csv\n",
      "Done with 2020_06_30...\n"
     ]
    },
    {
     "name": "stderr",
     "output_type": "stream",
     "text": [
      "C:\\Users\\keit8223\\AppData\\Local\\Temp\\1\\ipykernel_21680\\959929405.py:5: SettingWithCopyWarning: \n",
      "A value is trying to be set on a copy of a slice from a DataFrame\n",
      "\n",
      "See the caveats in the documentation: https://pandas.pydata.org/pandas-docs/stable/user_guide/indexing.html#returning-a-view-versus-a-copy\n",
      "  hours_select.drop(columns=['date', 'flag', 'geartype', 'fishing_hours', 'mmsi_present'], inplace=True)\n"
     ]
    },
    {
     "name": "stdout",
     "output_type": "stream",
     "text": [
      "3\n"
     ]
    },
    {
     "name": "stderr",
     "output_type": "stream",
     "text": [
      "C:\\Users\\keit8223\\AppData\\Local\\Temp\\1\\ipykernel_21680\\1813207608.py:4: SettingWithCopyWarning: \n",
      "A value is trying to be set on a copy of a slice from a DataFrame\n",
      "\n",
      "See the caveats in the documentation: https://pandas.pydata.org/pandas-docs/stable/user_guide/indexing.html#returning-a-view-versus-a-copy\n",
      "  fishhours_select.drop(columns=['date', 'flag', 'geartype', 'hours', 'mmsi_present'], inplace=True)\n"
     ]
    },
    {
     "name": "stdout",
     "output_type": "stream",
     "text": [
      "Starting processing of 2020-07-01.csv...\n",
      "F:\\Global Fishing Watch\\Fishing Intensity\\v2\\fleet-daily\\fleet-daily-csvs-100-v2-2020\\2020-07-01.csv\n",
      "Done with 2020_07_01...\n"
     ]
    },
    {
     "name": "stderr",
     "output_type": "stream",
     "text": [
      "C:\\Users\\keit8223\\AppData\\Local\\Temp\\1\\ipykernel_21680\\959929405.py:5: SettingWithCopyWarning: \n",
      "A value is trying to be set on a copy of a slice from a DataFrame\n",
      "\n",
      "See the caveats in the documentation: https://pandas.pydata.org/pandas-docs/stable/user_guide/indexing.html#returning-a-view-versus-a-copy\n",
      "  hours_select.drop(columns=['date', 'flag', 'geartype', 'fishing_hours', 'mmsi_present'], inplace=True)\n"
     ]
    },
    {
     "name": "stdout",
     "output_type": "stream",
     "text": [
      "3\n"
     ]
    },
    {
     "name": "stderr",
     "output_type": "stream",
     "text": [
      "C:\\Users\\keit8223\\AppData\\Local\\Temp\\1\\ipykernel_21680\\1813207608.py:4: SettingWithCopyWarning: \n",
      "A value is trying to be set on a copy of a slice from a DataFrame\n",
      "\n",
      "See the caveats in the documentation: https://pandas.pydata.org/pandas-docs/stable/user_guide/indexing.html#returning-a-view-versus-a-copy\n",
      "  fishhours_select.drop(columns=['date', 'flag', 'geartype', 'hours', 'mmsi_present'], inplace=True)\n"
     ]
    },
    {
     "name": "stdout",
     "output_type": "stream",
     "text": [
      "Starting processing of 2020-07-02.csv...\n",
      "F:\\Global Fishing Watch\\Fishing Intensity\\v2\\fleet-daily\\fleet-daily-csvs-100-v2-2020\\2020-07-02.csv\n",
      "Done with 2020_07_02...\n"
     ]
    },
    {
     "name": "stderr",
     "output_type": "stream",
     "text": [
      "C:\\Users\\keit8223\\AppData\\Local\\Temp\\1\\ipykernel_21680\\959929405.py:5: SettingWithCopyWarning: \n",
      "A value is trying to be set on a copy of a slice from a DataFrame\n",
      "\n",
      "See the caveats in the documentation: https://pandas.pydata.org/pandas-docs/stable/user_guide/indexing.html#returning-a-view-versus-a-copy\n",
      "  hours_select.drop(columns=['date', 'flag', 'geartype', 'fishing_hours', 'mmsi_present'], inplace=True)\n"
     ]
    },
    {
     "name": "stdout",
     "output_type": "stream",
     "text": [
      "3\n"
     ]
    },
    {
     "name": "stderr",
     "output_type": "stream",
     "text": [
      "C:\\Users\\keit8223\\AppData\\Local\\Temp\\1\\ipykernel_21680\\1813207608.py:4: SettingWithCopyWarning: \n",
      "A value is trying to be set on a copy of a slice from a DataFrame\n",
      "\n",
      "See the caveats in the documentation: https://pandas.pydata.org/pandas-docs/stable/user_guide/indexing.html#returning-a-view-versus-a-copy\n",
      "  fishhours_select.drop(columns=['date', 'flag', 'geartype', 'hours', 'mmsi_present'], inplace=True)\n"
     ]
    },
    {
     "name": "stdout",
     "output_type": "stream",
     "text": [
      "Starting processing of 2020-07-03.csv...\n",
      "F:\\Global Fishing Watch\\Fishing Intensity\\v2\\fleet-daily\\fleet-daily-csvs-100-v2-2020\\2020-07-03.csv\n",
      "Done with 2020_07_03...\n"
     ]
    },
    {
     "name": "stderr",
     "output_type": "stream",
     "text": [
      "C:\\Users\\keit8223\\AppData\\Local\\Temp\\1\\ipykernel_21680\\959929405.py:5: SettingWithCopyWarning: \n",
      "A value is trying to be set on a copy of a slice from a DataFrame\n",
      "\n",
      "See the caveats in the documentation: https://pandas.pydata.org/pandas-docs/stable/user_guide/indexing.html#returning-a-view-versus-a-copy\n",
      "  hours_select.drop(columns=['date', 'flag', 'geartype', 'fishing_hours', 'mmsi_present'], inplace=True)\n"
     ]
    },
    {
     "name": "stdout",
     "output_type": "stream",
     "text": [
      "3\n"
     ]
    },
    {
     "name": "stderr",
     "output_type": "stream",
     "text": [
      "C:\\Users\\keit8223\\AppData\\Local\\Temp\\1\\ipykernel_21680\\1813207608.py:4: SettingWithCopyWarning: \n",
      "A value is trying to be set on a copy of a slice from a DataFrame\n",
      "\n",
      "See the caveats in the documentation: https://pandas.pydata.org/pandas-docs/stable/user_guide/indexing.html#returning-a-view-versus-a-copy\n",
      "  fishhours_select.drop(columns=['date', 'flag', 'geartype', 'hours', 'mmsi_present'], inplace=True)\n"
     ]
    },
    {
     "name": "stdout",
     "output_type": "stream",
     "text": [
      "Starting processing of 2020-07-04.csv...\n",
      "F:\\Global Fishing Watch\\Fishing Intensity\\v2\\fleet-daily\\fleet-daily-csvs-100-v2-2020\\2020-07-04.csv\n",
      "Done with 2020_07_04...\n"
     ]
    },
    {
     "name": "stderr",
     "output_type": "stream",
     "text": [
      "C:\\Users\\keit8223\\AppData\\Local\\Temp\\1\\ipykernel_21680\\959929405.py:5: SettingWithCopyWarning: \n",
      "A value is trying to be set on a copy of a slice from a DataFrame\n",
      "\n",
      "See the caveats in the documentation: https://pandas.pydata.org/pandas-docs/stable/user_guide/indexing.html#returning-a-view-versus-a-copy\n",
      "  hours_select.drop(columns=['date', 'flag', 'geartype', 'fishing_hours', 'mmsi_present'], inplace=True)\n"
     ]
    },
    {
     "name": "stdout",
     "output_type": "stream",
     "text": [
      "3\n"
     ]
    },
    {
     "name": "stderr",
     "output_type": "stream",
     "text": [
      "C:\\Users\\keit8223\\AppData\\Local\\Temp\\1\\ipykernel_21680\\1813207608.py:4: SettingWithCopyWarning: \n",
      "A value is trying to be set on a copy of a slice from a DataFrame\n",
      "\n",
      "See the caveats in the documentation: https://pandas.pydata.org/pandas-docs/stable/user_guide/indexing.html#returning-a-view-versus-a-copy\n",
      "  fishhours_select.drop(columns=['date', 'flag', 'geartype', 'hours', 'mmsi_present'], inplace=True)\n"
     ]
    },
    {
     "name": "stdout",
     "output_type": "stream",
     "text": [
      "Starting processing of 2020-07-05.csv...\n",
      "F:\\Global Fishing Watch\\Fishing Intensity\\v2\\fleet-daily\\fleet-daily-csvs-100-v2-2020\\2020-07-05.csv\n",
      "Done with 2020_07_05...\n"
     ]
    },
    {
     "name": "stderr",
     "output_type": "stream",
     "text": [
      "C:\\Users\\keit8223\\AppData\\Local\\Temp\\1\\ipykernel_21680\\959929405.py:5: SettingWithCopyWarning: \n",
      "A value is trying to be set on a copy of a slice from a DataFrame\n",
      "\n",
      "See the caveats in the documentation: https://pandas.pydata.org/pandas-docs/stable/user_guide/indexing.html#returning-a-view-versus-a-copy\n",
      "  hours_select.drop(columns=['date', 'flag', 'geartype', 'fishing_hours', 'mmsi_present'], inplace=True)\n"
     ]
    },
    {
     "name": "stdout",
     "output_type": "stream",
     "text": [
      "3\n"
     ]
    },
    {
     "name": "stderr",
     "output_type": "stream",
     "text": [
      "C:\\Users\\keit8223\\AppData\\Local\\Temp\\1\\ipykernel_21680\\1813207608.py:4: SettingWithCopyWarning: \n",
      "A value is trying to be set on a copy of a slice from a DataFrame\n",
      "\n",
      "See the caveats in the documentation: https://pandas.pydata.org/pandas-docs/stable/user_guide/indexing.html#returning-a-view-versus-a-copy\n",
      "  fishhours_select.drop(columns=['date', 'flag', 'geartype', 'hours', 'mmsi_present'], inplace=True)\n"
     ]
    },
    {
     "name": "stdout",
     "output_type": "stream",
     "text": [
      "Starting processing of 2020-07-06.csv...\n",
      "F:\\Global Fishing Watch\\Fishing Intensity\\v2\\fleet-daily\\fleet-daily-csvs-100-v2-2020\\2020-07-06.csv\n",
      "Done with 2020_07_06...\n"
     ]
    },
    {
     "name": "stderr",
     "output_type": "stream",
     "text": [
      "C:\\Users\\keit8223\\AppData\\Local\\Temp\\1\\ipykernel_21680\\959929405.py:5: SettingWithCopyWarning: \n",
      "A value is trying to be set on a copy of a slice from a DataFrame\n",
      "\n",
      "See the caveats in the documentation: https://pandas.pydata.org/pandas-docs/stable/user_guide/indexing.html#returning-a-view-versus-a-copy\n",
      "  hours_select.drop(columns=['date', 'flag', 'geartype', 'fishing_hours', 'mmsi_present'], inplace=True)\n"
     ]
    },
    {
     "name": "stdout",
     "output_type": "stream",
     "text": [
      "3\n"
     ]
    },
    {
     "name": "stderr",
     "output_type": "stream",
     "text": [
      "C:\\Users\\keit8223\\AppData\\Local\\Temp\\1\\ipykernel_21680\\1813207608.py:4: SettingWithCopyWarning: \n",
      "A value is trying to be set on a copy of a slice from a DataFrame\n",
      "\n",
      "See the caveats in the documentation: https://pandas.pydata.org/pandas-docs/stable/user_guide/indexing.html#returning-a-view-versus-a-copy\n",
      "  fishhours_select.drop(columns=['date', 'flag', 'geartype', 'hours', 'mmsi_present'], inplace=True)\n"
     ]
    },
    {
     "name": "stdout",
     "output_type": "stream",
     "text": [
      "Starting processing of 2020-07-07.csv...\n",
      "F:\\Global Fishing Watch\\Fishing Intensity\\v2\\fleet-daily\\fleet-daily-csvs-100-v2-2020\\2020-07-07.csv\n",
      "Done with 2020_07_07...\n"
     ]
    },
    {
     "name": "stderr",
     "output_type": "stream",
     "text": [
      "C:\\Users\\keit8223\\AppData\\Local\\Temp\\1\\ipykernel_21680\\959929405.py:5: SettingWithCopyWarning: \n",
      "A value is trying to be set on a copy of a slice from a DataFrame\n",
      "\n",
      "See the caveats in the documentation: https://pandas.pydata.org/pandas-docs/stable/user_guide/indexing.html#returning-a-view-versus-a-copy\n",
      "  hours_select.drop(columns=['date', 'flag', 'geartype', 'fishing_hours', 'mmsi_present'], inplace=True)\n"
     ]
    },
    {
     "name": "stdout",
     "output_type": "stream",
     "text": [
      "3\n"
     ]
    },
    {
     "name": "stderr",
     "output_type": "stream",
     "text": [
      "C:\\Users\\keit8223\\AppData\\Local\\Temp\\1\\ipykernel_21680\\1813207608.py:4: SettingWithCopyWarning: \n",
      "A value is trying to be set on a copy of a slice from a DataFrame\n",
      "\n",
      "See the caveats in the documentation: https://pandas.pydata.org/pandas-docs/stable/user_guide/indexing.html#returning-a-view-versus-a-copy\n",
      "  fishhours_select.drop(columns=['date', 'flag', 'geartype', 'hours', 'mmsi_present'], inplace=True)\n"
     ]
    },
    {
     "name": "stdout",
     "output_type": "stream",
     "text": [
      "Starting processing of 2020-07-08.csv...\n",
      "F:\\Global Fishing Watch\\Fishing Intensity\\v2\\fleet-daily\\fleet-daily-csvs-100-v2-2020\\2020-07-08.csv\n",
      "Done with 2020_07_08...\n"
     ]
    },
    {
     "name": "stderr",
     "output_type": "stream",
     "text": [
      "C:\\Users\\keit8223\\AppData\\Local\\Temp\\1\\ipykernel_21680\\959929405.py:5: SettingWithCopyWarning: \n",
      "A value is trying to be set on a copy of a slice from a DataFrame\n",
      "\n",
      "See the caveats in the documentation: https://pandas.pydata.org/pandas-docs/stable/user_guide/indexing.html#returning-a-view-versus-a-copy\n",
      "  hours_select.drop(columns=['date', 'flag', 'geartype', 'fishing_hours', 'mmsi_present'], inplace=True)\n"
     ]
    },
    {
     "name": "stdout",
     "output_type": "stream",
     "text": [
      "3\n"
     ]
    },
    {
     "name": "stderr",
     "output_type": "stream",
     "text": [
      "C:\\Users\\keit8223\\AppData\\Local\\Temp\\1\\ipykernel_21680\\1813207608.py:4: SettingWithCopyWarning: \n",
      "A value is trying to be set on a copy of a slice from a DataFrame\n",
      "\n",
      "See the caveats in the documentation: https://pandas.pydata.org/pandas-docs/stable/user_guide/indexing.html#returning-a-view-versus-a-copy\n",
      "  fishhours_select.drop(columns=['date', 'flag', 'geartype', 'hours', 'mmsi_present'], inplace=True)\n"
     ]
    },
    {
     "name": "stdout",
     "output_type": "stream",
     "text": [
      "Starting processing of 2020-07-09.csv...\n",
      "F:\\Global Fishing Watch\\Fishing Intensity\\v2\\fleet-daily\\fleet-daily-csvs-100-v2-2020\\2020-07-09.csv\n",
      "Done with 2020_07_09...\n"
     ]
    },
    {
     "name": "stderr",
     "output_type": "stream",
     "text": [
      "C:\\Users\\keit8223\\AppData\\Local\\Temp\\1\\ipykernel_21680\\959929405.py:5: SettingWithCopyWarning: \n",
      "A value is trying to be set on a copy of a slice from a DataFrame\n",
      "\n",
      "See the caveats in the documentation: https://pandas.pydata.org/pandas-docs/stable/user_guide/indexing.html#returning-a-view-versus-a-copy\n",
      "  hours_select.drop(columns=['date', 'flag', 'geartype', 'fishing_hours', 'mmsi_present'], inplace=True)\n"
     ]
    },
    {
     "name": "stdout",
     "output_type": "stream",
     "text": [
      "3\n"
     ]
    },
    {
     "name": "stderr",
     "output_type": "stream",
     "text": [
      "C:\\Users\\keit8223\\AppData\\Local\\Temp\\1\\ipykernel_21680\\1813207608.py:4: SettingWithCopyWarning: \n",
      "A value is trying to be set on a copy of a slice from a DataFrame\n",
      "\n",
      "See the caveats in the documentation: https://pandas.pydata.org/pandas-docs/stable/user_guide/indexing.html#returning-a-view-versus-a-copy\n",
      "  fishhours_select.drop(columns=['date', 'flag', 'geartype', 'hours', 'mmsi_present'], inplace=True)\n"
     ]
    },
    {
     "name": "stdout",
     "output_type": "stream",
     "text": [
      "Starting processing of 2020-07-10.csv...\n",
      "F:\\Global Fishing Watch\\Fishing Intensity\\v2\\fleet-daily\\fleet-daily-csvs-100-v2-2020\\2020-07-10.csv\n",
      "Done with 2020_07_10...\n"
     ]
    },
    {
     "name": "stderr",
     "output_type": "stream",
     "text": [
      "C:\\Users\\keit8223\\AppData\\Local\\Temp\\1\\ipykernel_21680\\959929405.py:5: SettingWithCopyWarning: \n",
      "A value is trying to be set on a copy of a slice from a DataFrame\n",
      "\n",
      "See the caveats in the documentation: https://pandas.pydata.org/pandas-docs/stable/user_guide/indexing.html#returning-a-view-versus-a-copy\n",
      "  hours_select.drop(columns=['date', 'flag', 'geartype', 'fishing_hours', 'mmsi_present'], inplace=True)\n"
     ]
    },
    {
     "name": "stdout",
     "output_type": "stream",
     "text": [
      "3\n"
     ]
    },
    {
     "name": "stderr",
     "output_type": "stream",
     "text": [
      "C:\\Users\\keit8223\\AppData\\Local\\Temp\\1\\ipykernel_21680\\1813207608.py:4: SettingWithCopyWarning: \n",
      "A value is trying to be set on a copy of a slice from a DataFrame\n",
      "\n",
      "See the caveats in the documentation: https://pandas.pydata.org/pandas-docs/stable/user_guide/indexing.html#returning-a-view-versus-a-copy\n",
      "  fishhours_select.drop(columns=['date', 'flag', 'geartype', 'hours', 'mmsi_present'], inplace=True)\n"
     ]
    },
    {
     "name": "stdout",
     "output_type": "stream",
     "text": [
      "Starting processing of 2020-07-11.csv...\n",
      "F:\\Global Fishing Watch\\Fishing Intensity\\v2\\fleet-daily\\fleet-daily-csvs-100-v2-2020\\2020-07-11.csv\n",
      "Done with 2020_07_11...\n"
     ]
    },
    {
     "name": "stderr",
     "output_type": "stream",
     "text": [
      "C:\\Users\\keit8223\\AppData\\Local\\Temp\\1\\ipykernel_21680\\959929405.py:5: SettingWithCopyWarning: \n",
      "A value is trying to be set on a copy of a slice from a DataFrame\n",
      "\n",
      "See the caveats in the documentation: https://pandas.pydata.org/pandas-docs/stable/user_guide/indexing.html#returning-a-view-versus-a-copy\n",
      "  hours_select.drop(columns=['date', 'flag', 'geartype', 'fishing_hours', 'mmsi_present'], inplace=True)\n"
     ]
    },
    {
     "name": "stdout",
     "output_type": "stream",
     "text": [
      "3\n"
     ]
    },
    {
     "name": "stderr",
     "output_type": "stream",
     "text": [
      "C:\\Users\\keit8223\\AppData\\Local\\Temp\\1\\ipykernel_21680\\1813207608.py:4: SettingWithCopyWarning: \n",
      "A value is trying to be set on a copy of a slice from a DataFrame\n",
      "\n",
      "See the caveats in the documentation: https://pandas.pydata.org/pandas-docs/stable/user_guide/indexing.html#returning-a-view-versus-a-copy\n",
      "  fishhours_select.drop(columns=['date', 'flag', 'geartype', 'hours', 'mmsi_present'], inplace=True)\n"
     ]
    },
    {
     "name": "stdout",
     "output_type": "stream",
     "text": [
      "Starting processing of 2020-07-12.csv...\n",
      "F:\\Global Fishing Watch\\Fishing Intensity\\v2\\fleet-daily\\fleet-daily-csvs-100-v2-2020\\2020-07-12.csv\n",
      "Done with 2020_07_12...\n"
     ]
    },
    {
     "name": "stderr",
     "output_type": "stream",
     "text": [
      "C:\\Users\\keit8223\\AppData\\Local\\Temp\\1\\ipykernel_21680\\959929405.py:5: SettingWithCopyWarning: \n",
      "A value is trying to be set on a copy of a slice from a DataFrame\n",
      "\n",
      "See the caveats in the documentation: https://pandas.pydata.org/pandas-docs/stable/user_guide/indexing.html#returning-a-view-versus-a-copy\n",
      "  hours_select.drop(columns=['date', 'flag', 'geartype', 'fishing_hours', 'mmsi_present'], inplace=True)\n"
     ]
    },
    {
     "name": "stdout",
     "output_type": "stream",
     "text": [
      "3\n"
     ]
    },
    {
     "name": "stderr",
     "output_type": "stream",
     "text": [
      "C:\\Users\\keit8223\\AppData\\Local\\Temp\\1\\ipykernel_21680\\1813207608.py:4: SettingWithCopyWarning: \n",
      "A value is trying to be set on a copy of a slice from a DataFrame\n",
      "\n",
      "See the caveats in the documentation: https://pandas.pydata.org/pandas-docs/stable/user_guide/indexing.html#returning-a-view-versus-a-copy\n",
      "  fishhours_select.drop(columns=['date', 'flag', 'geartype', 'hours', 'mmsi_present'], inplace=True)\n"
     ]
    },
    {
     "name": "stdout",
     "output_type": "stream",
     "text": [
      "Starting processing of 2020-07-13.csv...\n",
      "F:\\Global Fishing Watch\\Fishing Intensity\\v2\\fleet-daily\\fleet-daily-csvs-100-v2-2020\\2020-07-13.csv\n",
      "Done with 2020_07_13...\n"
     ]
    },
    {
     "name": "stderr",
     "output_type": "stream",
     "text": [
      "C:\\Users\\keit8223\\AppData\\Local\\Temp\\1\\ipykernel_21680\\959929405.py:5: SettingWithCopyWarning: \n",
      "A value is trying to be set on a copy of a slice from a DataFrame\n",
      "\n",
      "See the caveats in the documentation: https://pandas.pydata.org/pandas-docs/stable/user_guide/indexing.html#returning-a-view-versus-a-copy\n",
      "  hours_select.drop(columns=['date', 'flag', 'geartype', 'fishing_hours', 'mmsi_present'], inplace=True)\n"
     ]
    },
    {
     "name": "stdout",
     "output_type": "stream",
     "text": [
      "3\n"
     ]
    },
    {
     "name": "stderr",
     "output_type": "stream",
     "text": [
      "C:\\Users\\keit8223\\AppData\\Local\\Temp\\1\\ipykernel_21680\\1813207608.py:4: SettingWithCopyWarning: \n",
      "A value is trying to be set on a copy of a slice from a DataFrame\n",
      "\n",
      "See the caveats in the documentation: https://pandas.pydata.org/pandas-docs/stable/user_guide/indexing.html#returning-a-view-versus-a-copy\n",
      "  fishhours_select.drop(columns=['date', 'flag', 'geartype', 'hours', 'mmsi_present'], inplace=True)\n"
     ]
    },
    {
     "name": "stdout",
     "output_type": "stream",
     "text": [
      "Starting processing of 2020-07-14.csv...\n",
      "F:\\Global Fishing Watch\\Fishing Intensity\\v2\\fleet-daily\\fleet-daily-csvs-100-v2-2020\\2020-07-14.csv\n",
      "Done with 2020_07_14...\n"
     ]
    },
    {
     "name": "stderr",
     "output_type": "stream",
     "text": [
      "C:\\Users\\keit8223\\AppData\\Local\\Temp\\1\\ipykernel_21680\\959929405.py:5: SettingWithCopyWarning: \n",
      "A value is trying to be set on a copy of a slice from a DataFrame\n",
      "\n",
      "See the caveats in the documentation: https://pandas.pydata.org/pandas-docs/stable/user_guide/indexing.html#returning-a-view-versus-a-copy\n",
      "  hours_select.drop(columns=['date', 'flag', 'geartype', 'fishing_hours', 'mmsi_present'], inplace=True)\n"
     ]
    },
    {
     "name": "stdout",
     "output_type": "stream",
     "text": [
      "3\n"
     ]
    },
    {
     "name": "stderr",
     "output_type": "stream",
     "text": [
      "C:\\Users\\keit8223\\AppData\\Local\\Temp\\1\\ipykernel_21680\\1813207608.py:4: SettingWithCopyWarning: \n",
      "A value is trying to be set on a copy of a slice from a DataFrame\n",
      "\n",
      "See the caveats in the documentation: https://pandas.pydata.org/pandas-docs/stable/user_guide/indexing.html#returning-a-view-versus-a-copy\n",
      "  fishhours_select.drop(columns=['date', 'flag', 'geartype', 'hours', 'mmsi_present'], inplace=True)\n"
     ]
    },
    {
     "name": "stdout",
     "output_type": "stream",
     "text": [
      "Starting processing of 2020-07-15.csv...\n",
      "F:\\Global Fishing Watch\\Fishing Intensity\\v2\\fleet-daily\\fleet-daily-csvs-100-v2-2020\\2020-07-15.csv\n",
      "Done with 2020_07_15...\n"
     ]
    },
    {
     "name": "stderr",
     "output_type": "stream",
     "text": [
      "C:\\Users\\keit8223\\AppData\\Local\\Temp\\1\\ipykernel_21680\\959929405.py:5: SettingWithCopyWarning: \n",
      "A value is trying to be set on a copy of a slice from a DataFrame\n",
      "\n",
      "See the caveats in the documentation: https://pandas.pydata.org/pandas-docs/stable/user_guide/indexing.html#returning-a-view-versus-a-copy\n",
      "  hours_select.drop(columns=['date', 'flag', 'geartype', 'fishing_hours', 'mmsi_present'], inplace=True)\n"
     ]
    },
    {
     "name": "stdout",
     "output_type": "stream",
     "text": [
      "3\n"
     ]
    },
    {
     "name": "stderr",
     "output_type": "stream",
     "text": [
      "C:\\Users\\keit8223\\AppData\\Local\\Temp\\1\\ipykernel_21680\\1813207608.py:4: SettingWithCopyWarning: \n",
      "A value is trying to be set on a copy of a slice from a DataFrame\n",
      "\n",
      "See the caveats in the documentation: https://pandas.pydata.org/pandas-docs/stable/user_guide/indexing.html#returning-a-view-versus-a-copy\n",
      "  fishhours_select.drop(columns=['date', 'flag', 'geartype', 'hours', 'mmsi_present'], inplace=True)\n"
     ]
    },
    {
     "name": "stdout",
     "output_type": "stream",
     "text": [
      "Starting processing of 2020-07-16.csv...\n",
      "F:\\Global Fishing Watch\\Fishing Intensity\\v2\\fleet-daily\\fleet-daily-csvs-100-v2-2020\\2020-07-16.csv\n",
      "Done with 2020_07_16...\n"
     ]
    },
    {
     "name": "stderr",
     "output_type": "stream",
     "text": [
      "C:\\Users\\keit8223\\AppData\\Local\\Temp\\1\\ipykernel_21680\\959929405.py:5: SettingWithCopyWarning: \n",
      "A value is trying to be set on a copy of a slice from a DataFrame\n",
      "\n",
      "See the caveats in the documentation: https://pandas.pydata.org/pandas-docs/stable/user_guide/indexing.html#returning-a-view-versus-a-copy\n",
      "  hours_select.drop(columns=['date', 'flag', 'geartype', 'fishing_hours', 'mmsi_present'], inplace=True)\n"
     ]
    },
    {
     "name": "stdout",
     "output_type": "stream",
     "text": [
      "3\n"
     ]
    },
    {
     "name": "stderr",
     "output_type": "stream",
     "text": [
      "C:\\Users\\keit8223\\AppData\\Local\\Temp\\1\\ipykernel_21680\\1813207608.py:4: SettingWithCopyWarning: \n",
      "A value is trying to be set on a copy of a slice from a DataFrame\n",
      "\n",
      "See the caveats in the documentation: https://pandas.pydata.org/pandas-docs/stable/user_guide/indexing.html#returning-a-view-versus-a-copy\n",
      "  fishhours_select.drop(columns=['date', 'flag', 'geartype', 'hours', 'mmsi_present'], inplace=True)\n"
     ]
    },
    {
     "name": "stdout",
     "output_type": "stream",
     "text": [
      "Starting processing of 2020-07-17.csv...\n",
      "F:\\Global Fishing Watch\\Fishing Intensity\\v2\\fleet-daily\\fleet-daily-csvs-100-v2-2020\\2020-07-17.csv\n",
      "Done with 2020_07_17...\n"
     ]
    },
    {
     "name": "stderr",
     "output_type": "stream",
     "text": [
      "C:\\Users\\keit8223\\AppData\\Local\\Temp\\1\\ipykernel_21680\\959929405.py:5: SettingWithCopyWarning: \n",
      "A value is trying to be set on a copy of a slice from a DataFrame\n",
      "\n",
      "See the caveats in the documentation: https://pandas.pydata.org/pandas-docs/stable/user_guide/indexing.html#returning-a-view-versus-a-copy\n",
      "  hours_select.drop(columns=['date', 'flag', 'geartype', 'fishing_hours', 'mmsi_present'], inplace=True)\n"
     ]
    },
    {
     "name": "stdout",
     "output_type": "stream",
     "text": [
      "3\n"
     ]
    },
    {
     "name": "stderr",
     "output_type": "stream",
     "text": [
      "C:\\Users\\keit8223\\AppData\\Local\\Temp\\1\\ipykernel_21680\\1813207608.py:4: SettingWithCopyWarning: \n",
      "A value is trying to be set on a copy of a slice from a DataFrame\n",
      "\n",
      "See the caveats in the documentation: https://pandas.pydata.org/pandas-docs/stable/user_guide/indexing.html#returning-a-view-versus-a-copy\n",
      "  fishhours_select.drop(columns=['date', 'flag', 'geartype', 'hours', 'mmsi_present'], inplace=True)\n"
     ]
    },
    {
     "name": "stdout",
     "output_type": "stream",
     "text": [
      "Starting processing of 2020-07-18.csv...\n",
      "F:\\Global Fishing Watch\\Fishing Intensity\\v2\\fleet-daily\\fleet-daily-csvs-100-v2-2020\\2020-07-18.csv\n",
      "Done with 2020_07_18...\n"
     ]
    },
    {
     "name": "stderr",
     "output_type": "stream",
     "text": [
      "C:\\Users\\keit8223\\AppData\\Local\\Temp\\1\\ipykernel_21680\\959929405.py:5: SettingWithCopyWarning: \n",
      "A value is trying to be set on a copy of a slice from a DataFrame\n",
      "\n",
      "See the caveats in the documentation: https://pandas.pydata.org/pandas-docs/stable/user_guide/indexing.html#returning-a-view-versus-a-copy\n",
      "  hours_select.drop(columns=['date', 'flag', 'geartype', 'fishing_hours', 'mmsi_present'], inplace=True)\n"
     ]
    },
    {
     "name": "stdout",
     "output_type": "stream",
     "text": [
      "3\n"
     ]
    },
    {
     "name": "stderr",
     "output_type": "stream",
     "text": [
      "C:\\Users\\keit8223\\AppData\\Local\\Temp\\1\\ipykernel_21680\\1813207608.py:4: SettingWithCopyWarning: \n",
      "A value is trying to be set on a copy of a slice from a DataFrame\n",
      "\n",
      "See the caveats in the documentation: https://pandas.pydata.org/pandas-docs/stable/user_guide/indexing.html#returning-a-view-versus-a-copy\n",
      "  fishhours_select.drop(columns=['date', 'flag', 'geartype', 'hours', 'mmsi_present'], inplace=True)\n"
     ]
    },
    {
     "name": "stdout",
     "output_type": "stream",
     "text": [
      "Starting processing of 2020-07-19.csv...\n",
      "F:\\Global Fishing Watch\\Fishing Intensity\\v2\\fleet-daily\\fleet-daily-csvs-100-v2-2020\\2020-07-19.csv\n",
      "Done with 2020_07_19...\n"
     ]
    },
    {
     "name": "stderr",
     "output_type": "stream",
     "text": [
      "C:\\Users\\keit8223\\AppData\\Local\\Temp\\1\\ipykernel_21680\\959929405.py:5: SettingWithCopyWarning: \n",
      "A value is trying to be set on a copy of a slice from a DataFrame\n",
      "\n",
      "See the caveats in the documentation: https://pandas.pydata.org/pandas-docs/stable/user_guide/indexing.html#returning-a-view-versus-a-copy\n",
      "  hours_select.drop(columns=['date', 'flag', 'geartype', 'fishing_hours', 'mmsi_present'], inplace=True)\n"
     ]
    },
    {
     "name": "stdout",
     "output_type": "stream",
     "text": [
      "3\n"
     ]
    },
    {
     "name": "stderr",
     "output_type": "stream",
     "text": [
      "C:\\Users\\keit8223\\AppData\\Local\\Temp\\1\\ipykernel_21680\\1813207608.py:4: SettingWithCopyWarning: \n",
      "A value is trying to be set on a copy of a slice from a DataFrame\n",
      "\n",
      "See the caveats in the documentation: https://pandas.pydata.org/pandas-docs/stable/user_guide/indexing.html#returning-a-view-versus-a-copy\n",
      "  fishhours_select.drop(columns=['date', 'flag', 'geartype', 'hours', 'mmsi_present'], inplace=True)\n"
     ]
    },
    {
     "name": "stdout",
     "output_type": "stream",
     "text": [
      "Starting processing of 2020-07-20.csv...\n",
      "F:\\Global Fishing Watch\\Fishing Intensity\\v2\\fleet-daily\\fleet-daily-csvs-100-v2-2020\\2020-07-20.csv\n",
      "Done with 2020_07_20...\n"
     ]
    },
    {
     "name": "stderr",
     "output_type": "stream",
     "text": [
      "C:\\Users\\keit8223\\AppData\\Local\\Temp\\1\\ipykernel_21680\\959929405.py:5: SettingWithCopyWarning: \n",
      "A value is trying to be set on a copy of a slice from a DataFrame\n",
      "\n",
      "See the caveats in the documentation: https://pandas.pydata.org/pandas-docs/stable/user_guide/indexing.html#returning-a-view-versus-a-copy\n",
      "  hours_select.drop(columns=['date', 'flag', 'geartype', 'fishing_hours', 'mmsi_present'], inplace=True)\n"
     ]
    },
    {
     "name": "stdout",
     "output_type": "stream",
     "text": [
      "3\n"
     ]
    },
    {
     "name": "stderr",
     "output_type": "stream",
     "text": [
      "C:\\Users\\keit8223\\AppData\\Local\\Temp\\1\\ipykernel_21680\\1813207608.py:4: SettingWithCopyWarning: \n",
      "A value is trying to be set on a copy of a slice from a DataFrame\n",
      "\n",
      "See the caveats in the documentation: https://pandas.pydata.org/pandas-docs/stable/user_guide/indexing.html#returning-a-view-versus-a-copy\n",
      "  fishhours_select.drop(columns=['date', 'flag', 'geartype', 'hours', 'mmsi_present'], inplace=True)\n"
     ]
    },
    {
     "name": "stdout",
     "output_type": "stream",
     "text": [
      "Starting processing of 2020-07-21.csv...\n",
      "F:\\Global Fishing Watch\\Fishing Intensity\\v2\\fleet-daily\\fleet-daily-csvs-100-v2-2020\\2020-07-21.csv\n",
      "Done with 2020_07_21...\n"
     ]
    },
    {
     "name": "stderr",
     "output_type": "stream",
     "text": [
      "C:\\Users\\keit8223\\AppData\\Local\\Temp\\1\\ipykernel_21680\\959929405.py:5: SettingWithCopyWarning: \n",
      "A value is trying to be set on a copy of a slice from a DataFrame\n",
      "\n",
      "See the caveats in the documentation: https://pandas.pydata.org/pandas-docs/stable/user_guide/indexing.html#returning-a-view-versus-a-copy\n",
      "  hours_select.drop(columns=['date', 'flag', 'geartype', 'fishing_hours', 'mmsi_present'], inplace=True)\n"
     ]
    },
    {
     "name": "stdout",
     "output_type": "stream",
     "text": [
      "3\n"
     ]
    },
    {
     "name": "stderr",
     "output_type": "stream",
     "text": [
      "C:\\Users\\keit8223\\AppData\\Local\\Temp\\1\\ipykernel_21680\\1813207608.py:4: SettingWithCopyWarning: \n",
      "A value is trying to be set on a copy of a slice from a DataFrame\n",
      "\n",
      "See the caveats in the documentation: https://pandas.pydata.org/pandas-docs/stable/user_guide/indexing.html#returning-a-view-versus-a-copy\n",
      "  fishhours_select.drop(columns=['date', 'flag', 'geartype', 'hours', 'mmsi_present'], inplace=True)\n"
     ]
    },
    {
     "name": "stdout",
     "output_type": "stream",
     "text": [
      "Starting processing of 2020-07-22.csv...\n",
      "F:\\Global Fishing Watch\\Fishing Intensity\\v2\\fleet-daily\\fleet-daily-csvs-100-v2-2020\\2020-07-22.csv\n",
      "Done with 2020_07_22...\n"
     ]
    },
    {
     "name": "stderr",
     "output_type": "stream",
     "text": [
      "C:\\Users\\keit8223\\AppData\\Local\\Temp\\1\\ipykernel_21680\\959929405.py:5: SettingWithCopyWarning: \n",
      "A value is trying to be set on a copy of a slice from a DataFrame\n",
      "\n",
      "See the caveats in the documentation: https://pandas.pydata.org/pandas-docs/stable/user_guide/indexing.html#returning-a-view-versus-a-copy\n",
      "  hours_select.drop(columns=['date', 'flag', 'geartype', 'fishing_hours', 'mmsi_present'], inplace=True)\n"
     ]
    },
    {
     "name": "stdout",
     "output_type": "stream",
     "text": [
      "3\n"
     ]
    },
    {
     "name": "stderr",
     "output_type": "stream",
     "text": [
      "C:\\Users\\keit8223\\AppData\\Local\\Temp\\1\\ipykernel_21680\\1813207608.py:4: SettingWithCopyWarning: \n",
      "A value is trying to be set on a copy of a slice from a DataFrame\n",
      "\n",
      "See the caveats in the documentation: https://pandas.pydata.org/pandas-docs/stable/user_guide/indexing.html#returning-a-view-versus-a-copy\n",
      "  fishhours_select.drop(columns=['date', 'flag', 'geartype', 'hours', 'mmsi_present'], inplace=True)\n"
     ]
    },
    {
     "name": "stdout",
     "output_type": "stream",
     "text": [
      "Starting processing of 2020-07-23.csv...\n",
      "F:\\Global Fishing Watch\\Fishing Intensity\\v2\\fleet-daily\\fleet-daily-csvs-100-v2-2020\\2020-07-23.csv\n",
      "Done with 2020_07_23...\n"
     ]
    },
    {
     "name": "stderr",
     "output_type": "stream",
     "text": [
      "C:\\Users\\keit8223\\AppData\\Local\\Temp\\1\\ipykernel_21680\\959929405.py:5: SettingWithCopyWarning: \n",
      "A value is trying to be set on a copy of a slice from a DataFrame\n",
      "\n",
      "See the caveats in the documentation: https://pandas.pydata.org/pandas-docs/stable/user_guide/indexing.html#returning-a-view-versus-a-copy\n",
      "  hours_select.drop(columns=['date', 'flag', 'geartype', 'fishing_hours', 'mmsi_present'], inplace=True)\n"
     ]
    },
    {
     "name": "stdout",
     "output_type": "stream",
     "text": [
      "3\n"
     ]
    },
    {
     "name": "stderr",
     "output_type": "stream",
     "text": [
      "C:\\Users\\keit8223\\AppData\\Local\\Temp\\1\\ipykernel_21680\\1813207608.py:4: SettingWithCopyWarning: \n",
      "A value is trying to be set on a copy of a slice from a DataFrame\n",
      "\n",
      "See the caveats in the documentation: https://pandas.pydata.org/pandas-docs/stable/user_guide/indexing.html#returning-a-view-versus-a-copy\n",
      "  fishhours_select.drop(columns=['date', 'flag', 'geartype', 'hours', 'mmsi_present'], inplace=True)\n"
     ]
    },
    {
     "name": "stdout",
     "output_type": "stream",
     "text": [
      "Starting processing of 2020-07-24.csv...\n",
      "F:\\Global Fishing Watch\\Fishing Intensity\\v2\\fleet-daily\\fleet-daily-csvs-100-v2-2020\\2020-07-24.csv\n",
      "Done with 2020_07_24...\n"
     ]
    },
    {
     "name": "stderr",
     "output_type": "stream",
     "text": [
      "C:\\Users\\keit8223\\AppData\\Local\\Temp\\1\\ipykernel_21680\\959929405.py:5: SettingWithCopyWarning: \n",
      "A value is trying to be set on a copy of a slice from a DataFrame\n",
      "\n",
      "See the caveats in the documentation: https://pandas.pydata.org/pandas-docs/stable/user_guide/indexing.html#returning-a-view-versus-a-copy\n",
      "  hours_select.drop(columns=['date', 'flag', 'geartype', 'fishing_hours', 'mmsi_present'], inplace=True)\n"
     ]
    },
    {
     "name": "stdout",
     "output_type": "stream",
     "text": [
      "3\n"
     ]
    },
    {
     "name": "stderr",
     "output_type": "stream",
     "text": [
      "C:\\Users\\keit8223\\AppData\\Local\\Temp\\1\\ipykernel_21680\\1813207608.py:4: SettingWithCopyWarning: \n",
      "A value is trying to be set on a copy of a slice from a DataFrame\n",
      "\n",
      "See the caveats in the documentation: https://pandas.pydata.org/pandas-docs/stable/user_guide/indexing.html#returning-a-view-versus-a-copy\n",
      "  fishhours_select.drop(columns=['date', 'flag', 'geartype', 'hours', 'mmsi_present'], inplace=True)\n"
     ]
    },
    {
     "name": "stdout",
     "output_type": "stream",
     "text": [
      "Starting processing of 2020-07-25.csv...\n",
      "F:\\Global Fishing Watch\\Fishing Intensity\\v2\\fleet-daily\\fleet-daily-csvs-100-v2-2020\\2020-07-25.csv\n",
      "Done with 2020_07_25...\n"
     ]
    },
    {
     "name": "stderr",
     "output_type": "stream",
     "text": [
      "C:\\Users\\keit8223\\AppData\\Local\\Temp\\1\\ipykernel_21680\\959929405.py:5: SettingWithCopyWarning: \n",
      "A value is trying to be set on a copy of a slice from a DataFrame\n",
      "\n",
      "See the caveats in the documentation: https://pandas.pydata.org/pandas-docs/stable/user_guide/indexing.html#returning-a-view-versus-a-copy\n",
      "  hours_select.drop(columns=['date', 'flag', 'geartype', 'fishing_hours', 'mmsi_present'], inplace=True)\n"
     ]
    },
    {
     "name": "stdout",
     "output_type": "stream",
     "text": [
      "3\n"
     ]
    },
    {
     "name": "stderr",
     "output_type": "stream",
     "text": [
      "C:\\Users\\keit8223\\AppData\\Local\\Temp\\1\\ipykernel_21680\\1813207608.py:4: SettingWithCopyWarning: \n",
      "A value is trying to be set on a copy of a slice from a DataFrame\n",
      "\n",
      "See the caveats in the documentation: https://pandas.pydata.org/pandas-docs/stable/user_guide/indexing.html#returning-a-view-versus-a-copy\n",
      "  fishhours_select.drop(columns=['date', 'flag', 'geartype', 'hours', 'mmsi_present'], inplace=True)\n"
     ]
    },
    {
     "name": "stdout",
     "output_type": "stream",
     "text": [
      "Starting processing of 2020-07-26.csv...\n",
      "F:\\Global Fishing Watch\\Fishing Intensity\\v2\\fleet-daily\\fleet-daily-csvs-100-v2-2020\\2020-07-26.csv\n",
      "Done with 2020_07_26...\n"
     ]
    },
    {
     "name": "stderr",
     "output_type": "stream",
     "text": [
      "C:\\Users\\keit8223\\AppData\\Local\\Temp\\1\\ipykernel_21680\\959929405.py:5: SettingWithCopyWarning: \n",
      "A value is trying to be set on a copy of a slice from a DataFrame\n",
      "\n",
      "See the caveats in the documentation: https://pandas.pydata.org/pandas-docs/stable/user_guide/indexing.html#returning-a-view-versus-a-copy\n",
      "  hours_select.drop(columns=['date', 'flag', 'geartype', 'fishing_hours', 'mmsi_present'], inplace=True)\n"
     ]
    },
    {
     "name": "stdout",
     "output_type": "stream",
     "text": [
      "3\n"
     ]
    },
    {
     "name": "stderr",
     "output_type": "stream",
     "text": [
      "C:\\Users\\keit8223\\AppData\\Local\\Temp\\1\\ipykernel_21680\\1813207608.py:4: SettingWithCopyWarning: \n",
      "A value is trying to be set on a copy of a slice from a DataFrame\n",
      "\n",
      "See the caveats in the documentation: https://pandas.pydata.org/pandas-docs/stable/user_guide/indexing.html#returning-a-view-versus-a-copy\n",
      "  fishhours_select.drop(columns=['date', 'flag', 'geartype', 'hours', 'mmsi_present'], inplace=True)\n"
     ]
    },
    {
     "name": "stdout",
     "output_type": "stream",
     "text": [
      "Starting processing of 2020-07-27.csv...\n",
      "F:\\Global Fishing Watch\\Fishing Intensity\\v2\\fleet-daily\\fleet-daily-csvs-100-v2-2020\\2020-07-27.csv\n",
      "Done with 2020_07_27...\n"
     ]
    },
    {
     "name": "stderr",
     "output_type": "stream",
     "text": [
      "C:\\Users\\keit8223\\AppData\\Local\\Temp\\1\\ipykernel_21680\\959929405.py:5: SettingWithCopyWarning: \n",
      "A value is trying to be set on a copy of a slice from a DataFrame\n",
      "\n",
      "See the caveats in the documentation: https://pandas.pydata.org/pandas-docs/stable/user_guide/indexing.html#returning-a-view-versus-a-copy\n",
      "  hours_select.drop(columns=['date', 'flag', 'geartype', 'fishing_hours', 'mmsi_present'], inplace=True)\n"
     ]
    },
    {
     "name": "stdout",
     "output_type": "stream",
     "text": [
      "3\n"
     ]
    },
    {
     "name": "stderr",
     "output_type": "stream",
     "text": [
      "C:\\Users\\keit8223\\AppData\\Local\\Temp\\1\\ipykernel_21680\\1813207608.py:4: SettingWithCopyWarning: \n",
      "A value is trying to be set on a copy of a slice from a DataFrame\n",
      "\n",
      "See the caveats in the documentation: https://pandas.pydata.org/pandas-docs/stable/user_guide/indexing.html#returning-a-view-versus-a-copy\n",
      "  fishhours_select.drop(columns=['date', 'flag', 'geartype', 'hours', 'mmsi_present'], inplace=True)\n"
     ]
    },
    {
     "name": "stdout",
     "output_type": "stream",
     "text": [
      "Starting processing of 2020-07-28.csv...\n",
      "F:\\Global Fishing Watch\\Fishing Intensity\\v2\\fleet-daily\\fleet-daily-csvs-100-v2-2020\\2020-07-28.csv\n",
      "Done with 2020_07_28...\n"
     ]
    },
    {
     "name": "stderr",
     "output_type": "stream",
     "text": [
      "C:\\Users\\keit8223\\AppData\\Local\\Temp\\1\\ipykernel_21680\\959929405.py:5: SettingWithCopyWarning: \n",
      "A value is trying to be set on a copy of a slice from a DataFrame\n",
      "\n",
      "See the caveats in the documentation: https://pandas.pydata.org/pandas-docs/stable/user_guide/indexing.html#returning-a-view-versus-a-copy\n",
      "  hours_select.drop(columns=['date', 'flag', 'geartype', 'fishing_hours', 'mmsi_present'], inplace=True)\n"
     ]
    },
    {
     "name": "stdout",
     "output_type": "stream",
     "text": [
      "3\n"
     ]
    },
    {
     "name": "stderr",
     "output_type": "stream",
     "text": [
      "C:\\Users\\keit8223\\AppData\\Local\\Temp\\1\\ipykernel_21680\\1813207608.py:4: SettingWithCopyWarning: \n",
      "A value is trying to be set on a copy of a slice from a DataFrame\n",
      "\n",
      "See the caveats in the documentation: https://pandas.pydata.org/pandas-docs/stable/user_guide/indexing.html#returning-a-view-versus-a-copy\n",
      "  fishhours_select.drop(columns=['date', 'flag', 'geartype', 'hours', 'mmsi_present'], inplace=True)\n"
     ]
    },
    {
     "name": "stdout",
     "output_type": "stream",
     "text": [
      "Starting processing of 2020-07-29.csv...\n",
      "F:\\Global Fishing Watch\\Fishing Intensity\\v2\\fleet-daily\\fleet-daily-csvs-100-v2-2020\\2020-07-29.csv\n",
      "Done with 2020_07_29...\n"
     ]
    },
    {
     "name": "stderr",
     "output_type": "stream",
     "text": [
      "C:\\Users\\keit8223\\AppData\\Local\\Temp\\1\\ipykernel_21680\\959929405.py:5: SettingWithCopyWarning: \n",
      "A value is trying to be set on a copy of a slice from a DataFrame\n",
      "\n",
      "See the caveats in the documentation: https://pandas.pydata.org/pandas-docs/stable/user_guide/indexing.html#returning-a-view-versus-a-copy\n",
      "  hours_select.drop(columns=['date', 'flag', 'geartype', 'fishing_hours', 'mmsi_present'], inplace=True)\n"
     ]
    },
    {
     "name": "stdout",
     "output_type": "stream",
     "text": [
      "3\n"
     ]
    },
    {
     "name": "stderr",
     "output_type": "stream",
     "text": [
      "C:\\Users\\keit8223\\AppData\\Local\\Temp\\1\\ipykernel_21680\\1813207608.py:4: SettingWithCopyWarning: \n",
      "A value is trying to be set on a copy of a slice from a DataFrame\n",
      "\n",
      "See the caveats in the documentation: https://pandas.pydata.org/pandas-docs/stable/user_guide/indexing.html#returning-a-view-versus-a-copy\n",
      "  fishhours_select.drop(columns=['date', 'flag', 'geartype', 'hours', 'mmsi_present'], inplace=True)\n"
     ]
    },
    {
     "name": "stdout",
     "output_type": "stream",
     "text": [
      "Starting processing of 2020-07-30.csv...\n",
      "F:\\Global Fishing Watch\\Fishing Intensity\\v2\\fleet-daily\\fleet-daily-csvs-100-v2-2020\\2020-07-30.csv\n",
      "Done with 2020_07_30...\n"
     ]
    },
    {
     "name": "stderr",
     "output_type": "stream",
     "text": [
      "C:\\Users\\keit8223\\AppData\\Local\\Temp\\1\\ipykernel_21680\\959929405.py:5: SettingWithCopyWarning: \n",
      "A value is trying to be set on a copy of a slice from a DataFrame\n",
      "\n",
      "See the caveats in the documentation: https://pandas.pydata.org/pandas-docs/stable/user_guide/indexing.html#returning-a-view-versus-a-copy\n",
      "  hours_select.drop(columns=['date', 'flag', 'geartype', 'fishing_hours', 'mmsi_present'], inplace=True)\n"
     ]
    },
    {
     "name": "stdout",
     "output_type": "stream",
     "text": [
      "3\n"
     ]
    },
    {
     "name": "stderr",
     "output_type": "stream",
     "text": [
      "C:\\Users\\keit8223\\AppData\\Local\\Temp\\1\\ipykernel_21680\\1813207608.py:4: SettingWithCopyWarning: \n",
      "A value is trying to be set on a copy of a slice from a DataFrame\n",
      "\n",
      "See the caveats in the documentation: https://pandas.pydata.org/pandas-docs/stable/user_guide/indexing.html#returning-a-view-versus-a-copy\n",
      "  fishhours_select.drop(columns=['date', 'flag', 'geartype', 'hours', 'mmsi_present'], inplace=True)\n"
     ]
    },
    {
     "name": "stdout",
     "output_type": "stream",
     "text": [
      "Starting processing of 2020-07-31.csv...\n",
      "F:\\Global Fishing Watch\\Fishing Intensity\\v2\\fleet-daily\\fleet-daily-csvs-100-v2-2020\\2020-07-31.csv\n",
      "Done with 2020_07_31...\n"
     ]
    },
    {
     "name": "stderr",
     "output_type": "stream",
     "text": [
      "C:\\Users\\keit8223\\AppData\\Local\\Temp\\1\\ipykernel_21680\\959929405.py:5: SettingWithCopyWarning: \n",
      "A value is trying to be set on a copy of a slice from a DataFrame\n",
      "\n",
      "See the caveats in the documentation: https://pandas.pydata.org/pandas-docs/stable/user_guide/indexing.html#returning-a-view-versus-a-copy\n",
      "  hours_select.drop(columns=['date', 'flag', 'geartype', 'fishing_hours', 'mmsi_present'], inplace=True)\n"
     ]
    },
    {
     "name": "stdout",
     "output_type": "stream",
     "text": [
      "3\n"
     ]
    },
    {
     "name": "stderr",
     "output_type": "stream",
     "text": [
      "C:\\Users\\keit8223\\AppData\\Local\\Temp\\1\\ipykernel_21680\\1813207608.py:4: SettingWithCopyWarning: \n",
      "A value is trying to be set on a copy of a slice from a DataFrame\n",
      "\n",
      "See the caveats in the documentation: https://pandas.pydata.org/pandas-docs/stable/user_guide/indexing.html#returning-a-view-versus-a-copy\n",
      "  fishhours_select.drop(columns=['date', 'flag', 'geartype', 'hours', 'mmsi_present'], inplace=True)\n"
     ]
    },
    {
     "name": "stdout",
     "output_type": "stream",
     "text": [
      "Starting processing of 2020-08-01.csv...\n",
      "F:\\Global Fishing Watch\\Fishing Intensity\\v2\\fleet-daily\\fleet-daily-csvs-100-v2-2020\\2020-08-01.csv\n",
      "Done with 2020_08_01...\n"
     ]
    },
    {
     "name": "stderr",
     "output_type": "stream",
     "text": [
      "C:\\Users\\keit8223\\AppData\\Local\\Temp\\1\\ipykernel_21680\\959929405.py:5: SettingWithCopyWarning: \n",
      "A value is trying to be set on a copy of a slice from a DataFrame\n",
      "\n",
      "See the caveats in the documentation: https://pandas.pydata.org/pandas-docs/stable/user_guide/indexing.html#returning-a-view-versus-a-copy\n",
      "  hours_select.drop(columns=['date', 'flag', 'geartype', 'fishing_hours', 'mmsi_present'], inplace=True)\n"
     ]
    },
    {
     "name": "stdout",
     "output_type": "stream",
     "text": [
      "3\n"
     ]
    },
    {
     "name": "stderr",
     "output_type": "stream",
     "text": [
      "C:\\Users\\keit8223\\AppData\\Local\\Temp\\1\\ipykernel_21680\\1813207608.py:4: SettingWithCopyWarning: \n",
      "A value is trying to be set on a copy of a slice from a DataFrame\n",
      "\n",
      "See the caveats in the documentation: https://pandas.pydata.org/pandas-docs/stable/user_guide/indexing.html#returning-a-view-versus-a-copy\n",
      "  fishhours_select.drop(columns=['date', 'flag', 'geartype', 'hours', 'mmsi_present'], inplace=True)\n"
     ]
    },
    {
     "name": "stdout",
     "output_type": "stream",
     "text": [
      "Starting processing of 2020-08-02.csv...\n",
      "F:\\Global Fishing Watch\\Fishing Intensity\\v2\\fleet-daily\\fleet-daily-csvs-100-v2-2020\\2020-08-02.csv\n",
      "Done with 2020_08_02...\n"
     ]
    },
    {
     "name": "stderr",
     "output_type": "stream",
     "text": [
      "C:\\Users\\keit8223\\AppData\\Local\\Temp\\1\\ipykernel_21680\\959929405.py:5: SettingWithCopyWarning: \n",
      "A value is trying to be set on a copy of a slice from a DataFrame\n",
      "\n",
      "See the caveats in the documentation: https://pandas.pydata.org/pandas-docs/stable/user_guide/indexing.html#returning-a-view-versus-a-copy\n",
      "  hours_select.drop(columns=['date', 'flag', 'geartype', 'fishing_hours', 'mmsi_present'], inplace=True)\n"
     ]
    },
    {
     "name": "stdout",
     "output_type": "stream",
     "text": [
      "3\n"
     ]
    },
    {
     "name": "stderr",
     "output_type": "stream",
     "text": [
      "C:\\Users\\keit8223\\AppData\\Local\\Temp\\1\\ipykernel_21680\\1813207608.py:4: SettingWithCopyWarning: \n",
      "A value is trying to be set on a copy of a slice from a DataFrame\n",
      "\n",
      "See the caveats in the documentation: https://pandas.pydata.org/pandas-docs/stable/user_guide/indexing.html#returning-a-view-versus-a-copy\n",
      "  fishhours_select.drop(columns=['date', 'flag', 'geartype', 'hours', 'mmsi_present'], inplace=True)\n"
     ]
    },
    {
     "name": "stdout",
     "output_type": "stream",
     "text": [
      "Starting processing of 2020-08-03.csv...\n",
      "F:\\Global Fishing Watch\\Fishing Intensity\\v2\\fleet-daily\\fleet-daily-csvs-100-v2-2020\\2020-08-03.csv\n",
      "Done with 2020_08_03...\n"
     ]
    },
    {
     "name": "stderr",
     "output_type": "stream",
     "text": [
      "C:\\Users\\keit8223\\AppData\\Local\\Temp\\1\\ipykernel_21680\\959929405.py:5: SettingWithCopyWarning: \n",
      "A value is trying to be set on a copy of a slice from a DataFrame\n",
      "\n",
      "See the caveats in the documentation: https://pandas.pydata.org/pandas-docs/stable/user_guide/indexing.html#returning-a-view-versus-a-copy\n",
      "  hours_select.drop(columns=['date', 'flag', 'geartype', 'fishing_hours', 'mmsi_present'], inplace=True)\n"
     ]
    },
    {
     "name": "stdout",
     "output_type": "stream",
     "text": [
      "3\n"
     ]
    },
    {
     "name": "stderr",
     "output_type": "stream",
     "text": [
      "C:\\Users\\keit8223\\AppData\\Local\\Temp\\1\\ipykernel_21680\\1813207608.py:4: SettingWithCopyWarning: \n",
      "A value is trying to be set on a copy of a slice from a DataFrame\n",
      "\n",
      "See the caveats in the documentation: https://pandas.pydata.org/pandas-docs/stable/user_guide/indexing.html#returning-a-view-versus-a-copy\n",
      "  fishhours_select.drop(columns=['date', 'flag', 'geartype', 'hours', 'mmsi_present'], inplace=True)\n"
     ]
    },
    {
     "name": "stdout",
     "output_type": "stream",
     "text": [
      "Starting processing of 2020-08-04.csv...\n",
      "F:\\Global Fishing Watch\\Fishing Intensity\\v2\\fleet-daily\\fleet-daily-csvs-100-v2-2020\\2020-08-04.csv\n",
      "Done with 2020_08_04...\n"
     ]
    },
    {
     "name": "stderr",
     "output_type": "stream",
     "text": [
      "C:\\Users\\keit8223\\AppData\\Local\\Temp\\1\\ipykernel_21680\\959929405.py:5: SettingWithCopyWarning: \n",
      "A value is trying to be set on a copy of a slice from a DataFrame\n",
      "\n",
      "See the caveats in the documentation: https://pandas.pydata.org/pandas-docs/stable/user_guide/indexing.html#returning-a-view-versus-a-copy\n",
      "  hours_select.drop(columns=['date', 'flag', 'geartype', 'fishing_hours', 'mmsi_present'], inplace=True)\n"
     ]
    },
    {
     "name": "stdout",
     "output_type": "stream",
     "text": [
      "3\n"
     ]
    },
    {
     "name": "stderr",
     "output_type": "stream",
     "text": [
      "C:\\Users\\keit8223\\AppData\\Local\\Temp\\1\\ipykernel_21680\\1813207608.py:4: SettingWithCopyWarning: \n",
      "A value is trying to be set on a copy of a slice from a DataFrame\n",
      "\n",
      "See the caveats in the documentation: https://pandas.pydata.org/pandas-docs/stable/user_guide/indexing.html#returning-a-view-versus-a-copy\n",
      "  fishhours_select.drop(columns=['date', 'flag', 'geartype', 'hours', 'mmsi_present'], inplace=True)\n"
     ]
    },
    {
     "name": "stdout",
     "output_type": "stream",
     "text": [
      "Starting processing of 2020-08-05.csv...\n",
      "F:\\Global Fishing Watch\\Fishing Intensity\\v2\\fleet-daily\\fleet-daily-csvs-100-v2-2020\\2020-08-05.csv\n",
      "Done with 2020_08_05...\n"
     ]
    },
    {
     "name": "stderr",
     "output_type": "stream",
     "text": [
      "C:\\Users\\keit8223\\AppData\\Local\\Temp\\1\\ipykernel_21680\\959929405.py:5: SettingWithCopyWarning: \n",
      "A value is trying to be set on a copy of a slice from a DataFrame\n",
      "\n",
      "See the caveats in the documentation: https://pandas.pydata.org/pandas-docs/stable/user_guide/indexing.html#returning-a-view-versus-a-copy\n",
      "  hours_select.drop(columns=['date', 'flag', 'geartype', 'fishing_hours', 'mmsi_present'], inplace=True)\n"
     ]
    },
    {
     "name": "stdout",
     "output_type": "stream",
     "text": [
      "3\n"
     ]
    },
    {
     "name": "stderr",
     "output_type": "stream",
     "text": [
      "C:\\Users\\keit8223\\AppData\\Local\\Temp\\1\\ipykernel_21680\\1813207608.py:4: SettingWithCopyWarning: \n",
      "A value is trying to be set on a copy of a slice from a DataFrame\n",
      "\n",
      "See the caveats in the documentation: https://pandas.pydata.org/pandas-docs/stable/user_guide/indexing.html#returning-a-view-versus-a-copy\n",
      "  fishhours_select.drop(columns=['date', 'flag', 'geartype', 'hours', 'mmsi_present'], inplace=True)\n"
     ]
    },
    {
     "name": "stdout",
     "output_type": "stream",
     "text": [
      "Starting processing of 2020-08-06.csv...\n",
      "F:\\Global Fishing Watch\\Fishing Intensity\\v2\\fleet-daily\\fleet-daily-csvs-100-v2-2020\\2020-08-06.csv\n",
      "Done with 2020_08_06...\n"
     ]
    },
    {
     "name": "stderr",
     "output_type": "stream",
     "text": [
      "C:\\Users\\keit8223\\AppData\\Local\\Temp\\1\\ipykernel_21680\\959929405.py:5: SettingWithCopyWarning: \n",
      "A value is trying to be set on a copy of a slice from a DataFrame\n",
      "\n",
      "See the caveats in the documentation: https://pandas.pydata.org/pandas-docs/stable/user_guide/indexing.html#returning-a-view-versus-a-copy\n",
      "  hours_select.drop(columns=['date', 'flag', 'geartype', 'fishing_hours', 'mmsi_present'], inplace=True)\n"
     ]
    },
    {
     "name": "stdout",
     "output_type": "stream",
     "text": [
      "3\n"
     ]
    },
    {
     "name": "stderr",
     "output_type": "stream",
     "text": [
      "C:\\Users\\keit8223\\AppData\\Local\\Temp\\1\\ipykernel_21680\\1813207608.py:4: SettingWithCopyWarning: \n",
      "A value is trying to be set on a copy of a slice from a DataFrame\n",
      "\n",
      "See the caveats in the documentation: https://pandas.pydata.org/pandas-docs/stable/user_guide/indexing.html#returning-a-view-versus-a-copy\n",
      "  fishhours_select.drop(columns=['date', 'flag', 'geartype', 'hours', 'mmsi_present'], inplace=True)\n"
     ]
    },
    {
     "name": "stdout",
     "output_type": "stream",
     "text": [
      "Starting processing of 2020-08-07.csv...\n",
      "F:\\Global Fishing Watch\\Fishing Intensity\\v2\\fleet-daily\\fleet-daily-csvs-100-v2-2020\\2020-08-07.csv\n",
      "Done with 2020_08_07...\n"
     ]
    },
    {
     "name": "stderr",
     "output_type": "stream",
     "text": [
      "C:\\Users\\keit8223\\AppData\\Local\\Temp\\1\\ipykernel_21680\\959929405.py:5: SettingWithCopyWarning: \n",
      "A value is trying to be set on a copy of a slice from a DataFrame\n",
      "\n",
      "See the caveats in the documentation: https://pandas.pydata.org/pandas-docs/stable/user_guide/indexing.html#returning-a-view-versus-a-copy\n",
      "  hours_select.drop(columns=['date', 'flag', 'geartype', 'fishing_hours', 'mmsi_present'], inplace=True)\n"
     ]
    },
    {
     "name": "stdout",
     "output_type": "stream",
     "text": [
      "3\n"
     ]
    },
    {
     "name": "stderr",
     "output_type": "stream",
     "text": [
      "C:\\Users\\keit8223\\AppData\\Local\\Temp\\1\\ipykernel_21680\\1813207608.py:4: SettingWithCopyWarning: \n",
      "A value is trying to be set on a copy of a slice from a DataFrame\n",
      "\n",
      "See the caveats in the documentation: https://pandas.pydata.org/pandas-docs/stable/user_guide/indexing.html#returning-a-view-versus-a-copy\n",
      "  fishhours_select.drop(columns=['date', 'flag', 'geartype', 'hours', 'mmsi_present'], inplace=True)\n"
     ]
    },
    {
     "name": "stdout",
     "output_type": "stream",
     "text": [
      "Starting processing of 2020-08-08.csv...\n",
      "F:\\Global Fishing Watch\\Fishing Intensity\\v2\\fleet-daily\\fleet-daily-csvs-100-v2-2020\\2020-08-08.csv\n",
      "Done with 2020_08_08...\n"
     ]
    },
    {
     "name": "stderr",
     "output_type": "stream",
     "text": [
      "C:\\Users\\keit8223\\AppData\\Local\\Temp\\1\\ipykernel_21680\\959929405.py:5: SettingWithCopyWarning: \n",
      "A value is trying to be set on a copy of a slice from a DataFrame\n",
      "\n",
      "See the caveats in the documentation: https://pandas.pydata.org/pandas-docs/stable/user_guide/indexing.html#returning-a-view-versus-a-copy\n",
      "  hours_select.drop(columns=['date', 'flag', 'geartype', 'fishing_hours', 'mmsi_present'], inplace=True)\n"
     ]
    },
    {
     "name": "stdout",
     "output_type": "stream",
     "text": [
      "3\n"
     ]
    },
    {
     "name": "stderr",
     "output_type": "stream",
     "text": [
      "C:\\Users\\keit8223\\AppData\\Local\\Temp\\1\\ipykernel_21680\\1813207608.py:4: SettingWithCopyWarning: \n",
      "A value is trying to be set on a copy of a slice from a DataFrame\n",
      "\n",
      "See the caveats in the documentation: https://pandas.pydata.org/pandas-docs/stable/user_guide/indexing.html#returning-a-view-versus-a-copy\n",
      "  fishhours_select.drop(columns=['date', 'flag', 'geartype', 'hours', 'mmsi_present'], inplace=True)\n"
     ]
    },
    {
     "name": "stdout",
     "output_type": "stream",
     "text": [
      "Starting processing of 2020-08-09.csv...\n",
      "F:\\Global Fishing Watch\\Fishing Intensity\\v2\\fleet-daily\\fleet-daily-csvs-100-v2-2020\\2020-08-09.csv\n",
      "Done with 2020_08_09...\n"
     ]
    },
    {
     "name": "stderr",
     "output_type": "stream",
     "text": [
      "C:\\Users\\keit8223\\AppData\\Local\\Temp\\1\\ipykernel_21680\\959929405.py:5: SettingWithCopyWarning: \n",
      "A value is trying to be set on a copy of a slice from a DataFrame\n",
      "\n",
      "See the caveats in the documentation: https://pandas.pydata.org/pandas-docs/stable/user_guide/indexing.html#returning-a-view-versus-a-copy\n",
      "  hours_select.drop(columns=['date', 'flag', 'geartype', 'fishing_hours', 'mmsi_present'], inplace=True)\n"
     ]
    },
    {
     "name": "stdout",
     "output_type": "stream",
     "text": [
      "3\n"
     ]
    },
    {
     "name": "stderr",
     "output_type": "stream",
     "text": [
      "C:\\Users\\keit8223\\AppData\\Local\\Temp\\1\\ipykernel_21680\\1813207608.py:4: SettingWithCopyWarning: \n",
      "A value is trying to be set on a copy of a slice from a DataFrame\n",
      "\n",
      "See the caveats in the documentation: https://pandas.pydata.org/pandas-docs/stable/user_guide/indexing.html#returning-a-view-versus-a-copy\n",
      "  fishhours_select.drop(columns=['date', 'flag', 'geartype', 'hours', 'mmsi_present'], inplace=True)\n"
     ]
    },
    {
     "name": "stdout",
     "output_type": "stream",
     "text": [
      "Starting processing of 2020-08-10.csv...\n",
      "F:\\Global Fishing Watch\\Fishing Intensity\\v2\\fleet-daily\\fleet-daily-csvs-100-v2-2020\\2020-08-10.csv\n",
      "Done with 2020_08_10...\n"
     ]
    },
    {
     "name": "stderr",
     "output_type": "stream",
     "text": [
      "C:\\Users\\keit8223\\AppData\\Local\\Temp\\1\\ipykernel_21680\\959929405.py:5: SettingWithCopyWarning: \n",
      "A value is trying to be set on a copy of a slice from a DataFrame\n",
      "\n",
      "See the caveats in the documentation: https://pandas.pydata.org/pandas-docs/stable/user_guide/indexing.html#returning-a-view-versus-a-copy\n",
      "  hours_select.drop(columns=['date', 'flag', 'geartype', 'fishing_hours', 'mmsi_present'], inplace=True)\n"
     ]
    },
    {
     "name": "stdout",
     "output_type": "stream",
     "text": [
      "3\n"
     ]
    },
    {
     "name": "stderr",
     "output_type": "stream",
     "text": [
      "C:\\Users\\keit8223\\AppData\\Local\\Temp\\1\\ipykernel_21680\\1813207608.py:4: SettingWithCopyWarning: \n",
      "A value is trying to be set on a copy of a slice from a DataFrame\n",
      "\n",
      "See the caveats in the documentation: https://pandas.pydata.org/pandas-docs/stable/user_guide/indexing.html#returning-a-view-versus-a-copy\n",
      "  fishhours_select.drop(columns=['date', 'flag', 'geartype', 'hours', 'mmsi_present'], inplace=True)\n"
     ]
    },
    {
     "name": "stdout",
     "output_type": "stream",
     "text": [
      "Starting processing of 2020-08-11.csv...\n",
      "F:\\Global Fishing Watch\\Fishing Intensity\\v2\\fleet-daily\\fleet-daily-csvs-100-v2-2020\\2020-08-11.csv\n",
      "Done with 2020_08_11...\n"
     ]
    },
    {
     "name": "stderr",
     "output_type": "stream",
     "text": [
      "C:\\Users\\keit8223\\AppData\\Local\\Temp\\1\\ipykernel_21680\\959929405.py:5: SettingWithCopyWarning: \n",
      "A value is trying to be set on a copy of a slice from a DataFrame\n",
      "\n",
      "See the caveats in the documentation: https://pandas.pydata.org/pandas-docs/stable/user_guide/indexing.html#returning-a-view-versus-a-copy\n",
      "  hours_select.drop(columns=['date', 'flag', 'geartype', 'fishing_hours', 'mmsi_present'], inplace=True)\n"
     ]
    },
    {
     "name": "stdout",
     "output_type": "stream",
     "text": [
      "3\n"
     ]
    },
    {
     "name": "stderr",
     "output_type": "stream",
     "text": [
      "C:\\Users\\keit8223\\AppData\\Local\\Temp\\1\\ipykernel_21680\\1813207608.py:4: SettingWithCopyWarning: \n",
      "A value is trying to be set on a copy of a slice from a DataFrame\n",
      "\n",
      "See the caveats in the documentation: https://pandas.pydata.org/pandas-docs/stable/user_guide/indexing.html#returning-a-view-versus-a-copy\n",
      "  fishhours_select.drop(columns=['date', 'flag', 'geartype', 'hours', 'mmsi_present'], inplace=True)\n"
     ]
    },
    {
     "name": "stdout",
     "output_type": "stream",
     "text": [
      "Starting processing of 2020-08-12.csv...\n",
      "F:\\Global Fishing Watch\\Fishing Intensity\\v2\\fleet-daily\\fleet-daily-csvs-100-v2-2020\\2020-08-12.csv\n",
      "Done with 2020_08_12...\n"
     ]
    },
    {
     "name": "stderr",
     "output_type": "stream",
     "text": [
      "C:\\Users\\keit8223\\AppData\\Local\\Temp\\1\\ipykernel_21680\\959929405.py:5: SettingWithCopyWarning: \n",
      "A value is trying to be set on a copy of a slice from a DataFrame\n",
      "\n",
      "See the caveats in the documentation: https://pandas.pydata.org/pandas-docs/stable/user_guide/indexing.html#returning-a-view-versus-a-copy\n",
      "  hours_select.drop(columns=['date', 'flag', 'geartype', 'fishing_hours', 'mmsi_present'], inplace=True)\n"
     ]
    },
    {
     "name": "stdout",
     "output_type": "stream",
     "text": [
      "3\n"
     ]
    },
    {
     "name": "stderr",
     "output_type": "stream",
     "text": [
      "C:\\Users\\keit8223\\AppData\\Local\\Temp\\1\\ipykernel_21680\\1813207608.py:4: SettingWithCopyWarning: \n",
      "A value is trying to be set on a copy of a slice from a DataFrame\n",
      "\n",
      "See the caveats in the documentation: https://pandas.pydata.org/pandas-docs/stable/user_guide/indexing.html#returning-a-view-versus-a-copy\n",
      "  fishhours_select.drop(columns=['date', 'flag', 'geartype', 'hours', 'mmsi_present'], inplace=True)\n"
     ]
    },
    {
     "name": "stdout",
     "output_type": "stream",
     "text": [
      "Starting processing of 2020-08-13.csv...\n",
      "F:\\Global Fishing Watch\\Fishing Intensity\\v2\\fleet-daily\\fleet-daily-csvs-100-v2-2020\\2020-08-13.csv\n",
      "Done with 2020_08_13...\n"
     ]
    },
    {
     "name": "stderr",
     "output_type": "stream",
     "text": [
      "C:\\Users\\keit8223\\AppData\\Local\\Temp\\1\\ipykernel_21680\\959929405.py:5: SettingWithCopyWarning: \n",
      "A value is trying to be set on a copy of a slice from a DataFrame\n",
      "\n",
      "See the caveats in the documentation: https://pandas.pydata.org/pandas-docs/stable/user_guide/indexing.html#returning-a-view-versus-a-copy\n",
      "  hours_select.drop(columns=['date', 'flag', 'geartype', 'fishing_hours', 'mmsi_present'], inplace=True)\n"
     ]
    },
    {
     "name": "stdout",
     "output_type": "stream",
     "text": [
      "3\n"
     ]
    },
    {
     "name": "stderr",
     "output_type": "stream",
     "text": [
      "C:\\Users\\keit8223\\AppData\\Local\\Temp\\1\\ipykernel_21680\\1813207608.py:4: SettingWithCopyWarning: \n",
      "A value is trying to be set on a copy of a slice from a DataFrame\n",
      "\n",
      "See the caveats in the documentation: https://pandas.pydata.org/pandas-docs/stable/user_guide/indexing.html#returning-a-view-versus-a-copy\n",
      "  fishhours_select.drop(columns=['date', 'flag', 'geartype', 'hours', 'mmsi_present'], inplace=True)\n"
     ]
    },
    {
     "name": "stdout",
     "output_type": "stream",
     "text": [
      "Starting processing of 2020-08-14.csv...\n",
      "F:\\Global Fishing Watch\\Fishing Intensity\\v2\\fleet-daily\\fleet-daily-csvs-100-v2-2020\\2020-08-14.csv\n",
      "Done with 2020_08_14...\n"
     ]
    },
    {
     "name": "stderr",
     "output_type": "stream",
     "text": [
      "C:\\Users\\keit8223\\AppData\\Local\\Temp\\1\\ipykernel_21680\\959929405.py:5: SettingWithCopyWarning: \n",
      "A value is trying to be set on a copy of a slice from a DataFrame\n",
      "\n",
      "See the caveats in the documentation: https://pandas.pydata.org/pandas-docs/stable/user_guide/indexing.html#returning-a-view-versus-a-copy\n",
      "  hours_select.drop(columns=['date', 'flag', 'geartype', 'fishing_hours', 'mmsi_present'], inplace=True)\n"
     ]
    },
    {
     "name": "stdout",
     "output_type": "stream",
     "text": [
      "3\n"
     ]
    },
    {
     "name": "stderr",
     "output_type": "stream",
     "text": [
      "C:\\Users\\keit8223\\AppData\\Local\\Temp\\1\\ipykernel_21680\\1813207608.py:4: SettingWithCopyWarning: \n",
      "A value is trying to be set on a copy of a slice from a DataFrame\n",
      "\n",
      "See the caveats in the documentation: https://pandas.pydata.org/pandas-docs/stable/user_guide/indexing.html#returning-a-view-versus-a-copy\n",
      "  fishhours_select.drop(columns=['date', 'flag', 'geartype', 'hours', 'mmsi_present'], inplace=True)\n"
     ]
    },
    {
     "name": "stdout",
     "output_type": "stream",
     "text": [
      "Starting processing of 2020-08-15.csv...\n",
      "F:\\Global Fishing Watch\\Fishing Intensity\\v2\\fleet-daily\\fleet-daily-csvs-100-v2-2020\\2020-08-15.csv\n",
      "Done with 2020_08_15...\n"
     ]
    },
    {
     "name": "stderr",
     "output_type": "stream",
     "text": [
      "C:\\Users\\keit8223\\AppData\\Local\\Temp\\1\\ipykernel_21680\\959929405.py:5: SettingWithCopyWarning: \n",
      "A value is trying to be set on a copy of a slice from a DataFrame\n",
      "\n",
      "See the caveats in the documentation: https://pandas.pydata.org/pandas-docs/stable/user_guide/indexing.html#returning-a-view-versus-a-copy\n",
      "  hours_select.drop(columns=['date', 'flag', 'geartype', 'fishing_hours', 'mmsi_present'], inplace=True)\n"
     ]
    },
    {
     "name": "stdout",
     "output_type": "stream",
     "text": [
      "3\n"
     ]
    },
    {
     "name": "stderr",
     "output_type": "stream",
     "text": [
      "C:\\Users\\keit8223\\AppData\\Local\\Temp\\1\\ipykernel_21680\\1813207608.py:4: SettingWithCopyWarning: \n",
      "A value is trying to be set on a copy of a slice from a DataFrame\n",
      "\n",
      "See the caveats in the documentation: https://pandas.pydata.org/pandas-docs/stable/user_guide/indexing.html#returning-a-view-versus-a-copy\n",
      "  fishhours_select.drop(columns=['date', 'flag', 'geartype', 'hours', 'mmsi_present'], inplace=True)\n"
     ]
    },
    {
     "name": "stdout",
     "output_type": "stream",
     "text": [
      "Starting processing of 2020-08-16.csv...\n",
      "F:\\Global Fishing Watch\\Fishing Intensity\\v2\\fleet-daily\\fleet-daily-csvs-100-v2-2020\\2020-08-16.csv\n",
      "Done with 2020_08_16...\n"
     ]
    },
    {
     "name": "stderr",
     "output_type": "stream",
     "text": [
      "C:\\Users\\keit8223\\AppData\\Local\\Temp\\1\\ipykernel_21680\\959929405.py:5: SettingWithCopyWarning: \n",
      "A value is trying to be set on a copy of a slice from a DataFrame\n",
      "\n",
      "See the caveats in the documentation: https://pandas.pydata.org/pandas-docs/stable/user_guide/indexing.html#returning-a-view-versus-a-copy\n",
      "  hours_select.drop(columns=['date', 'flag', 'geartype', 'fishing_hours', 'mmsi_present'], inplace=True)\n"
     ]
    },
    {
     "name": "stdout",
     "output_type": "stream",
     "text": [
      "3\n"
     ]
    },
    {
     "name": "stderr",
     "output_type": "stream",
     "text": [
      "C:\\Users\\keit8223\\AppData\\Local\\Temp\\1\\ipykernel_21680\\1813207608.py:4: SettingWithCopyWarning: \n",
      "A value is trying to be set on a copy of a slice from a DataFrame\n",
      "\n",
      "See the caveats in the documentation: https://pandas.pydata.org/pandas-docs/stable/user_guide/indexing.html#returning-a-view-versus-a-copy\n",
      "  fishhours_select.drop(columns=['date', 'flag', 'geartype', 'hours', 'mmsi_present'], inplace=True)\n"
     ]
    },
    {
     "name": "stdout",
     "output_type": "stream",
     "text": [
      "Starting processing of 2020-08-17.csv...\n",
      "F:\\Global Fishing Watch\\Fishing Intensity\\v2\\fleet-daily\\fleet-daily-csvs-100-v2-2020\\2020-08-17.csv\n",
      "Done with 2020_08_17...\n"
     ]
    },
    {
     "name": "stderr",
     "output_type": "stream",
     "text": [
      "C:\\Users\\keit8223\\AppData\\Local\\Temp\\1\\ipykernel_21680\\959929405.py:5: SettingWithCopyWarning: \n",
      "A value is trying to be set on a copy of a slice from a DataFrame\n",
      "\n",
      "See the caveats in the documentation: https://pandas.pydata.org/pandas-docs/stable/user_guide/indexing.html#returning-a-view-versus-a-copy\n",
      "  hours_select.drop(columns=['date', 'flag', 'geartype', 'fishing_hours', 'mmsi_present'], inplace=True)\n"
     ]
    },
    {
     "name": "stdout",
     "output_type": "stream",
     "text": [
      "3\n"
     ]
    },
    {
     "name": "stderr",
     "output_type": "stream",
     "text": [
      "C:\\Users\\keit8223\\AppData\\Local\\Temp\\1\\ipykernel_21680\\1813207608.py:4: SettingWithCopyWarning: \n",
      "A value is trying to be set on a copy of a slice from a DataFrame\n",
      "\n",
      "See the caveats in the documentation: https://pandas.pydata.org/pandas-docs/stable/user_guide/indexing.html#returning-a-view-versus-a-copy\n",
      "  fishhours_select.drop(columns=['date', 'flag', 'geartype', 'hours', 'mmsi_present'], inplace=True)\n"
     ]
    },
    {
     "name": "stdout",
     "output_type": "stream",
     "text": [
      "Starting processing of 2020-08-18.csv...\n",
      "F:\\Global Fishing Watch\\Fishing Intensity\\v2\\fleet-daily\\fleet-daily-csvs-100-v2-2020\\2020-08-18.csv\n",
      "Done with 2020_08_18...\n"
     ]
    },
    {
     "name": "stderr",
     "output_type": "stream",
     "text": [
      "C:\\Users\\keit8223\\AppData\\Local\\Temp\\1\\ipykernel_21680\\959929405.py:5: SettingWithCopyWarning: \n",
      "A value is trying to be set on a copy of a slice from a DataFrame\n",
      "\n",
      "See the caveats in the documentation: https://pandas.pydata.org/pandas-docs/stable/user_guide/indexing.html#returning-a-view-versus-a-copy\n",
      "  hours_select.drop(columns=['date', 'flag', 'geartype', 'fishing_hours', 'mmsi_present'], inplace=True)\n"
     ]
    },
    {
     "name": "stdout",
     "output_type": "stream",
     "text": [
      "3\n"
     ]
    },
    {
     "name": "stderr",
     "output_type": "stream",
     "text": [
      "C:\\Users\\keit8223\\AppData\\Local\\Temp\\1\\ipykernel_21680\\1813207608.py:4: SettingWithCopyWarning: \n",
      "A value is trying to be set on a copy of a slice from a DataFrame\n",
      "\n",
      "See the caveats in the documentation: https://pandas.pydata.org/pandas-docs/stable/user_guide/indexing.html#returning-a-view-versus-a-copy\n",
      "  fishhours_select.drop(columns=['date', 'flag', 'geartype', 'hours', 'mmsi_present'], inplace=True)\n"
     ]
    },
    {
     "name": "stdout",
     "output_type": "stream",
     "text": [
      "Starting processing of 2020-08-19.csv...\n",
      "F:\\Global Fishing Watch\\Fishing Intensity\\v2\\fleet-daily\\fleet-daily-csvs-100-v2-2020\\2020-08-19.csv\n",
      "Done with 2020_08_19...\n"
     ]
    },
    {
     "name": "stderr",
     "output_type": "stream",
     "text": [
      "C:\\Users\\keit8223\\AppData\\Local\\Temp\\1\\ipykernel_21680\\959929405.py:5: SettingWithCopyWarning: \n",
      "A value is trying to be set on a copy of a slice from a DataFrame\n",
      "\n",
      "See the caveats in the documentation: https://pandas.pydata.org/pandas-docs/stable/user_guide/indexing.html#returning-a-view-versus-a-copy\n",
      "  hours_select.drop(columns=['date', 'flag', 'geartype', 'fishing_hours', 'mmsi_present'], inplace=True)\n"
     ]
    },
    {
     "name": "stdout",
     "output_type": "stream",
     "text": [
      "3\n"
     ]
    },
    {
     "name": "stderr",
     "output_type": "stream",
     "text": [
      "C:\\Users\\keit8223\\AppData\\Local\\Temp\\1\\ipykernel_21680\\1813207608.py:4: SettingWithCopyWarning: \n",
      "A value is trying to be set on a copy of a slice from a DataFrame\n",
      "\n",
      "See the caveats in the documentation: https://pandas.pydata.org/pandas-docs/stable/user_guide/indexing.html#returning-a-view-versus-a-copy\n",
      "  fishhours_select.drop(columns=['date', 'flag', 'geartype', 'hours', 'mmsi_present'], inplace=True)\n"
     ]
    },
    {
     "name": "stdout",
     "output_type": "stream",
     "text": [
      "Starting processing of 2020-08-20.csv...\n",
      "F:\\Global Fishing Watch\\Fishing Intensity\\v2\\fleet-daily\\fleet-daily-csvs-100-v2-2020\\2020-08-20.csv\n",
      "Done with 2020_08_20...\n"
     ]
    },
    {
     "name": "stderr",
     "output_type": "stream",
     "text": [
      "C:\\Users\\keit8223\\AppData\\Local\\Temp\\1\\ipykernel_21680\\959929405.py:5: SettingWithCopyWarning: \n",
      "A value is trying to be set on a copy of a slice from a DataFrame\n",
      "\n",
      "See the caveats in the documentation: https://pandas.pydata.org/pandas-docs/stable/user_guide/indexing.html#returning-a-view-versus-a-copy\n",
      "  hours_select.drop(columns=['date', 'flag', 'geartype', 'fishing_hours', 'mmsi_present'], inplace=True)\n"
     ]
    },
    {
     "name": "stdout",
     "output_type": "stream",
     "text": [
      "3\n"
     ]
    },
    {
     "name": "stderr",
     "output_type": "stream",
     "text": [
      "C:\\Users\\keit8223\\AppData\\Local\\Temp\\1\\ipykernel_21680\\1813207608.py:4: SettingWithCopyWarning: \n",
      "A value is trying to be set on a copy of a slice from a DataFrame\n",
      "\n",
      "See the caveats in the documentation: https://pandas.pydata.org/pandas-docs/stable/user_guide/indexing.html#returning-a-view-versus-a-copy\n",
      "  fishhours_select.drop(columns=['date', 'flag', 'geartype', 'hours', 'mmsi_present'], inplace=True)\n"
     ]
    },
    {
     "name": "stdout",
     "output_type": "stream",
     "text": [
      "Starting processing of 2020-08-21.csv...\n",
      "F:\\Global Fishing Watch\\Fishing Intensity\\v2\\fleet-daily\\fleet-daily-csvs-100-v2-2020\\2020-08-21.csv\n",
      "Done with 2020_08_21...\n"
     ]
    },
    {
     "name": "stderr",
     "output_type": "stream",
     "text": [
      "C:\\Users\\keit8223\\AppData\\Local\\Temp\\1\\ipykernel_21680\\959929405.py:5: SettingWithCopyWarning: \n",
      "A value is trying to be set on a copy of a slice from a DataFrame\n",
      "\n",
      "See the caveats in the documentation: https://pandas.pydata.org/pandas-docs/stable/user_guide/indexing.html#returning-a-view-versus-a-copy\n",
      "  hours_select.drop(columns=['date', 'flag', 'geartype', 'fishing_hours', 'mmsi_present'], inplace=True)\n"
     ]
    },
    {
     "name": "stdout",
     "output_type": "stream",
     "text": [
      "3\n"
     ]
    },
    {
     "name": "stderr",
     "output_type": "stream",
     "text": [
      "C:\\Users\\keit8223\\AppData\\Local\\Temp\\1\\ipykernel_21680\\1813207608.py:4: SettingWithCopyWarning: \n",
      "A value is trying to be set on a copy of a slice from a DataFrame\n",
      "\n",
      "See the caveats in the documentation: https://pandas.pydata.org/pandas-docs/stable/user_guide/indexing.html#returning-a-view-versus-a-copy\n",
      "  fishhours_select.drop(columns=['date', 'flag', 'geartype', 'hours', 'mmsi_present'], inplace=True)\n"
     ]
    },
    {
     "name": "stdout",
     "output_type": "stream",
     "text": [
      "Starting processing of 2020-08-22.csv...\n",
      "F:\\Global Fishing Watch\\Fishing Intensity\\v2\\fleet-daily\\fleet-daily-csvs-100-v2-2020\\2020-08-22.csv\n",
      "Done with 2020_08_22...\n"
     ]
    },
    {
     "name": "stderr",
     "output_type": "stream",
     "text": [
      "C:\\Users\\keit8223\\AppData\\Local\\Temp\\1\\ipykernel_21680\\959929405.py:5: SettingWithCopyWarning: \n",
      "A value is trying to be set on a copy of a slice from a DataFrame\n",
      "\n",
      "See the caveats in the documentation: https://pandas.pydata.org/pandas-docs/stable/user_guide/indexing.html#returning-a-view-versus-a-copy\n",
      "  hours_select.drop(columns=['date', 'flag', 'geartype', 'fishing_hours', 'mmsi_present'], inplace=True)\n"
     ]
    },
    {
     "name": "stdout",
     "output_type": "stream",
     "text": [
      "3\n"
     ]
    },
    {
     "name": "stderr",
     "output_type": "stream",
     "text": [
      "C:\\Users\\keit8223\\AppData\\Local\\Temp\\1\\ipykernel_21680\\1813207608.py:4: SettingWithCopyWarning: \n",
      "A value is trying to be set on a copy of a slice from a DataFrame\n",
      "\n",
      "See the caveats in the documentation: https://pandas.pydata.org/pandas-docs/stable/user_guide/indexing.html#returning-a-view-versus-a-copy\n",
      "  fishhours_select.drop(columns=['date', 'flag', 'geartype', 'hours', 'mmsi_present'], inplace=True)\n"
     ]
    },
    {
     "name": "stdout",
     "output_type": "stream",
     "text": [
      "Starting processing of 2020-08-23.csv...\n",
      "F:\\Global Fishing Watch\\Fishing Intensity\\v2\\fleet-daily\\fleet-daily-csvs-100-v2-2020\\2020-08-23.csv\n",
      "Done with 2020_08_23...\n"
     ]
    },
    {
     "name": "stderr",
     "output_type": "stream",
     "text": [
      "C:\\Users\\keit8223\\AppData\\Local\\Temp\\1\\ipykernel_21680\\959929405.py:5: SettingWithCopyWarning: \n",
      "A value is trying to be set on a copy of a slice from a DataFrame\n",
      "\n",
      "See the caveats in the documentation: https://pandas.pydata.org/pandas-docs/stable/user_guide/indexing.html#returning-a-view-versus-a-copy\n",
      "  hours_select.drop(columns=['date', 'flag', 'geartype', 'fishing_hours', 'mmsi_present'], inplace=True)\n"
     ]
    },
    {
     "name": "stdout",
     "output_type": "stream",
     "text": [
      "3\n"
     ]
    },
    {
     "name": "stderr",
     "output_type": "stream",
     "text": [
      "C:\\Users\\keit8223\\AppData\\Local\\Temp\\1\\ipykernel_21680\\1813207608.py:4: SettingWithCopyWarning: \n",
      "A value is trying to be set on a copy of a slice from a DataFrame\n",
      "\n",
      "See the caveats in the documentation: https://pandas.pydata.org/pandas-docs/stable/user_guide/indexing.html#returning-a-view-versus-a-copy\n",
      "  fishhours_select.drop(columns=['date', 'flag', 'geartype', 'hours', 'mmsi_present'], inplace=True)\n"
     ]
    },
    {
     "name": "stdout",
     "output_type": "stream",
     "text": [
      "Starting processing of 2020-08-24.csv...\n",
      "F:\\Global Fishing Watch\\Fishing Intensity\\v2\\fleet-daily\\fleet-daily-csvs-100-v2-2020\\2020-08-24.csv\n",
      "Done with 2020_08_24...\n"
     ]
    },
    {
     "name": "stderr",
     "output_type": "stream",
     "text": [
      "C:\\Users\\keit8223\\AppData\\Local\\Temp\\1\\ipykernel_21680\\959929405.py:5: SettingWithCopyWarning: \n",
      "A value is trying to be set on a copy of a slice from a DataFrame\n",
      "\n",
      "See the caveats in the documentation: https://pandas.pydata.org/pandas-docs/stable/user_guide/indexing.html#returning-a-view-versus-a-copy\n",
      "  hours_select.drop(columns=['date', 'flag', 'geartype', 'fishing_hours', 'mmsi_present'], inplace=True)\n"
     ]
    },
    {
     "name": "stdout",
     "output_type": "stream",
     "text": [
      "3\n"
     ]
    },
    {
     "name": "stderr",
     "output_type": "stream",
     "text": [
      "C:\\Users\\keit8223\\AppData\\Local\\Temp\\1\\ipykernel_21680\\1813207608.py:4: SettingWithCopyWarning: \n",
      "A value is trying to be set on a copy of a slice from a DataFrame\n",
      "\n",
      "See the caveats in the documentation: https://pandas.pydata.org/pandas-docs/stable/user_guide/indexing.html#returning-a-view-versus-a-copy\n",
      "  fishhours_select.drop(columns=['date', 'flag', 'geartype', 'hours', 'mmsi_present'], inplace=True)\n"
     ]
    },
    {
     "name": "stdout",
     "output_type": "stream",
     "text": [
      "Starting processing of 2020-08-25.csv...\n",
      "F:\\Global Fishing Watch\\Fishing Intensity\\v2\\fleet-daily\\fleet-daily-csvs-100-v2-2020\\2020-08-25.csv\n",
      "Done with 2020_08_25...\n"
     ]
    },
    {
     "name": "stderr",
     "output_type": "stream",
     "text": [
      "C:\\Users\\keit8223\\AppData\\Local\\Temp\\1\\ipykernel_21680\\959929405.py:5: SettingWithCopyWarning: \n",
      "A value is trying to be set on a copy of a slice from a DataFrame\n",
      "\n",
      "See the caveats in the documentation: https://pandas.pydata.org/pandas-docs/stable/user_guide/indexing.html#returning-a-view-versus-a-copy\n",
      "  hours_select.drop(columns=['date', 'flag', 'geartype', 'fishing_hours', 'mmsi_present'], inplace=True)\n"
     ]
    },
    {
     "name": "stdout",
     "output_type": "stream",
     "text": [
      "3\n"
     ]
    },
    {
     "name": "stderr",
     "output_type": "stream",
     "text": [
      "C:\\Users\\keit8223\\AppData\\Local\\Temp\\1\\ipykernel_21680\\1813207608.py:4: SettingWithCopyWarning: \n",
      "A value is trying to be set on a copy of a slice from a DataFrame\n",
      "\n",
      "See the caveats in the documentation: https://pandas.pydata.org/pandas-docs/stable/user_guide/indexing.html#returning-a-view-versus-a-copy\n",
      "  fishhours_select.drop(columns=['date', 'flag', 'geartype', 'hours', 'mmsi_present'], inplace=True)\n"
     ]
    },
    {
     "name": "stdout",
     "output_type": "stream",
     "text": [
      "Starting processing of 2020-08-26.csv...\n",
      "F:\\Global Fishing Watch\\Fishing Intensity\\v2\\fleet-daily\\fleet-daily-csvs-100-v2-2020\\2020-08-26.csv\n",
      "Done with 2020_08_26...\n"
     ]
    },
    {
     "name": "stderr",
     "output_type": "stream",
     "text": [
      "C:\\Users\\keit8223\\AppData\\Local\\Temp\\1\\ipykernel_21680\\959929405.py:5: SettingWithCopyWarning: \n",
      "A value is trying to be set on a copy of a slice from a DataFrame\n",
      "\n",
      "See the caveats in the documentation: https://pandas.pydata.org/pandas-docs/stable/user_guide/indexing.html#returning-a-view-versus-a-copy\n",
      "  hours_select.drop(columns=['date', 'flag', 'geartype', 'fishing_hours', 'mmsi_present'], inplace=True)\n"
     ]
    },
    {
     "name": "stdout",
     "output_type": "stream",
     "text": [
      "3\n"
     ]
    },
    {
     "name": "stderr",
     "output_type": "stream",
     "text": [
      "C:\\Users\\keit8223\\AppData\\Local\\Temp\\1\\ipykernel_21680\\1813207608.py:4: SettingWithCopyWarning: \n",
      "A value is trying to be set on a copy of a slice from a DataFrame\n",
      "\n",
      "See the caveats in the documentation: https://pandas.pydata.org/pandas-docs/stable/user_guide/indexing.html#returning-a-view-versus-a-copy\n",
      "  fishhours_select.drop(columns=['date', 'flag', 'geartype', 'hours', 'mmsi_present'], inplace=True)\n"
     ]
    },
    {
     "name": "stdout",
     "output_type": "stream",
     "text": [
      "Starting processing of 2020-08-27.csv...\n",
      "F:\\Global Fishing Watch\\Fishing Intensity\\v2\\fleet-daily\\fleet-daily-csvs-100-v2-2020\\2020-08-27.csv\n",
      "Done with 2020_08_27...\n"
     ]
    },
    {
     "name": "stderr",
     "output_type": "stream",
     "text": [
      "C:\\Users\\keit8223\\AppData\\Local\\Temp\\1\\ipykernel_21680\\959929405.py:5: SettingWithCopyWarning: \n",
      "A value is trying to be set on a copy of a slice from a DataFrame\n",
      "\n",
      "See the caveats in the documentation: https://pandas.pydata.org/pandas-docs/stable/user_guide/indexing.html#returning-a-view-versus-a-copy\n",
      "  hours_select.drop(columns=['date', 'flag', 'geartype', 'fishing_hours', 'mmsi_present'], inplace=True)\n"
     ]
    },
    {
     "name": "stdout",
     "output_type": "stream",
     "text": [
      "3\n"
     ]
    },
    {
     "name": "stderr",
     "output_type": "stream",
     "text": [
      "C:\\Users\\keit8223\\AppData\\Local\\Temp\\1\\ipykernel_21680\\1813207608.py:4: SettingWithCopyWarning: \n",
      "A value is trying to be set on a copy of a slice from a DataFrame\n",
      "\n",
      "See the caveats in the documentation: https://pandas.pydata.org/pandas-docs/stable/user_guide/indexing.html#returning-a-view-versus-a-copy\n",
      "  fishhours_select.drop(columns=['date', 'flag', 'geartype', 'hours', 'mmsi_present'], inplace=True)\n"
     ]
    },
    {
     "name": "stdout",
     "output_type": "stream",
     "text": [
      "Starting processing of 2020-08-28.csv...\n",
      "F:\\Global Fishing Watch\\Fishing Intensity\\v2\\fleet-daily\\fleet-daily-csvs-100-v2-2020\\2020-08-28.csv\n",
      "Done with 2020_08_28...\n"
     ]
    },
    {
     "name": "stderr",
     "output_type": "stream",
     "text": [
      "C:\\Users\\keit8223\\AppData\\Local\\Temp\\1\\ipykernel_21680\\959929405.py:5: SettingWithCopyWarning: \n",
      "A value is trying to be set on a copy of a slice from a DataFrame\n",
      "\n",
      "See the caveats in the documentation: https://pandas.pydata.org/pandas-docs/stable/user_guide/indexing.html#returning-a-view-versus-a-copy\n",
      "  hours_select.drop(columns=['date', 'flag', 'geartype', 'fishing_hours', 'mmsi_present'], inplace=True)\n"
     ]
    },
    {
     "name": "stdout",
     "output_type": "stream",
     "text": [
      "3\n"
     ]
    },
    {
     "name": "stderr",
     "output_type": "stream",
     "text": [
      "C:\\Users\\keit8223\\AppData\\Local\\Temp\\1\\ipykernel_21680\\1813207608.py:4: SettingWithCopyWarning: \n",
      "A value is trying to be set on a copy of a slice from a DataFrame\n",
      "\n",
      "See the caveats in the documentation: https://pandas.pydata.org/pandas-docs/stable/user_guide/indexing.html#returning-a-view-versus-a-copy\n",
      "  fishhours_select.drop(columns=['date', 'flag', 'geartype', 'hours', 'mmsi_present'], inplace=True)\n"
     ]
    },
    {
     "name": "stdout",
     "output_type": "stream",
     "text": [
      "Starting processing of 2020-08-29.csv...\n",
      "F:\\Global Fishing Watch\\Fishing Intensity\\v2\\fleet-daily\\fleet-daily-csvs-100-v2-2020\\2020-08-29.csv\n",
      "Done with 2020_08_29...\n"
     ]
    },
    {
     "name": "stderr",
     "output_type": "stream",
     "text": [
      "C:\\Users\\keit8223\\AppData\\Local\\Temp\\1\\ipykernel_21680\\959929405.py:5: SettingWithCopyWarning: \n",
      "A value is trying to be set on a copy of a slice from a DataFrame\n",
      "\n",
      "See the caveats in the documentation: https://pandas.pydata.org/pandas-docs/stable/user_guide/indexing.html#returning-a-view-versus-a-copy\n",
      "  hours_select.drop(columns=['date', 'flag', 'geartype', 'fishing_hours', 'mmsi_present'], inplace=True)\n"
     ]
    },
    {
     "name": "stdout",
     "output_type": "stream",
     "text": [
      "3\n"
     ]
    },
    {
     "name": "stderr",
     "output_type": "stream",
     "text": [
      "C:\\Users\\keit8223\\AppData\\Local\\Temp\\1\\ipykernel_21680\\1813207608.py:4: SettingWithCopyWarning: \n",
      "A value is trying to be set on a copy of a slice from a DataFrame\n",
      "\n",
      "See the caveats in the documentation: https://pandas.pydata.org/pandas-docs/stable/user_guide/indexing.html#returning-a-view-versus-a-copy\n",
      "  fishhours_select.drop(columns=['date', 'flag', 'geartype', 'hours', 'mmsi_present'], inplace=True)\n"
     ]
    },
    {
     "name": "stdout",
     "output_type": "stream",
     "text": [
      "Starting processing of 2020-08-30.csv...\n",
      "F:\\Global Fishing Watch\\Fishing Intensity\\v2\\fleet-daily\\fleet-daily-csvs-100-v2-2020\\2020-08-30.csv\n",
      "Done with 2020_08_30...\n"
     ]
    },
    {
     "name": "stderr",
     "output_type": "stream",
     "text": [
      "C:\\Users\\keit8223\\AppData\\Local\\Temp\\1\\ipykernel_21680\\959929405.py:5: SettingWithCopyWarning: \n",
      "A value is trying to be set on a copy of a slice from a DataFrame\n",
      "\n",
      "See the caveats in the documentation: https://pandas.pydata.org/pandas-docs/stable/user_guide/indexing.html#returning-a-view-versus-a-copy\n",
      "  hours_select.drop(columns=['date', 'flag', 'geartype', 'fishing_hours', 'mmsi_present'], inplace=True)\n"
     ]
    },
    {
     "name": "stdout",
     "output_type": "stream",
     "text": [
      "3\n"
     ]
    },
    {
     "name": "stderr",
     "output_type": "stream",
     "text": [
      "C:\\Users\\keit8223\\AppData\\Local\\Temp\\1\\ipykernel_21680\\1813207608.py:4: SettingWithCopyWarning: \n",
      "A value is trying to be set on a copy of a slice from a DataFrame\n",
      "\n",
      "See the caveats in the documentation: https://pandas.pydata.org/pandas-docs/stable/user_guide/indexing.html#returning-a-view-versus-a-copy\n",
      "  fishhours_select.drop(columns=['date', 'flag', 'geartype', 'hours', 'mmsi_present'], inplace=True)\n"
     ]
    },
    {
     "name": "stdout",
     "output_type": "stream",
     "text": [
      "Starting processing of 2020-08-31.csv...\n",
      "F:\\Global Fishing Watch\\Fishing Intensity\\v2\\fleet-daily\\fleet-daily-csvs-100-v2-2020\\2020-08-31.csv\n",
      "Done with 2020_08_31...\n"
     ]
    },
    {
     "name": "stderr",
     "output_type": "stream",
     "text": [
      "C:\\Users\\keit8223\\AppData\\Local\\Temp\\1\\ipykernel_21680\\959929405.py:5: SettingWithCopyWarning: \n",
      "A value is trying to be set on a copy of a slice from a DataFrame\n",
      "\n",
      "See the caveats in the documentation: https://pandas.pydata.org/pandas-docs/stable/user_guide/indexing.html#returning-a-view-versus-a-copy\n",
      "  hours_select.drop(columns=['date', 'flag', 'geartype', 'fishing_hours', 'mmsi_present'], inplace=True)\n"
     ]
    },
    {
     "name": "stdout",
     "output_type": "stream",
     "text": [
      "3\n"
     ]
    },
    {
     "name": "stderr",
     "output_type": "stream",
     "text": [
      "C:\\Users\\keit8223\\AppData\\Local\\Temp\\1\\ipykernel_21680\\1813207608.py:4: SettingWithCopyWarning: \n",
      "A value is trying to be set on a copy of a slice from a DataFrame\n",
      "\n",
      "See the caveats in the documentation: https://pandas.pydata.org/pandas-docs/stable/user_guide/indexing.html#returning-a-view-versus-a-copy\n",
      "  fishhours_select.drop(columns=['date', 'flag', 'geartype', 'hours', 'mmsi_present'], inplace=True)\n"
     ]
    },
    {
     "name": "stdout",
     "output_type": "stream",
     "text": [
      "Starting processing of 2020-09-01.csv...\n",
      "F:\\Global Fishing Watch\\Fishing Intensity\\v2\\fleet-daily\\fleet-daily-csvs-100-v2-2020\\2020-09-01.csv\n",
      "Done with 2020_09_01...\n"
     ]
    },
    {
     "name": "stderr",
     "output_type": "stream",
     "text": [
      "C:\\Users\\keit8223\\AppData\\Local\\Temp\\1\\ipykernel_21680\\959929405.py:5: SettingWithCopyWarning: \n",
      "A value is trying to be set on a copy of a slice from a DataFrame\n",
      "\n",
      "See the caveats in the documentation: https://pandas.pydata.org/pandas-docs/stable/user_guide/indexing.html#returning-a-view-versus-a-copy\n",
      "  hours_select.drop(columns=['date', 'flag', 'geartype', 'fishing_hours', 'mmsi_present'], inplace=True)\n"
     ]
    },
    {
     "name": "stdout",
     "output_type": "stream",
     "text": [
      "3\n"
     ]
    },
    {
     "name": "stderr",
     "output_type": "stream",
     "text": [
      "C:\\Users\\keit8223\\AppData\\Local\\Temp\\1\\ipykernel_21680\\1813207608.py:4: SettingWithCopyWarning: \n",
      "A value is trying to be set on a copy of a slice from a DataFrame\n",
      "\n",
      "See the caveats in the documentation: https://pandas.pydata.org/pandas-docs/stable/user_guide/indexing.html#returning-a-view-versus-a-copy\n",
      "  fishhours_select.drop(columns=['date', 'flag', 'geartype', 'hours', 'mmsi_present'], inplace=True)\n"
     ]
    },
    {
     "name": "stdout",
     "output_type": "stream",
     "text": [
      "Starting processing of 2020-09-02.csv...\n",
      "F:\\Global Fishing Watch\\Fishing Intensity\\v2\\fleet-daily\\fleet-daily-csvs-100-v2-2020\\2020-09-02.csv\n",
      "Done with 2020_09_02...\n"
     ]
    },
    {
     "name": "stderr",
     "output_type": "stream",
     "text": [
      "C:\\Users\\keit8223\\AppData\\Local\\Temp\\1\\ipykernel_21680\\959929405.py:5: SettingWithCopyWarning: \n",
      "A value is trying to be set on a copy of a slice from a DataFrame\n",
      "\n",
      "See the caveats in the documentation: https://pandas.pydata.org/pandas-docs/stable/user_guide/indexing.html#returning-a-view-versus-a-copy\n",
      "  hours_select.drop(columns=['date', 'flag', 'geartype', 'fishing_hours', 'mmsi_present'], inplace=True)\n"
     ]
    },
    {
     "name": "stdout",
     "output_type": "stream",
     "text": [
      "3\n"
     ]
    },
    {
     "name": "stderr",
     "output_type": "stream",
     "text": [
      "C:\\Users\\keit8223\\AppData\\Local\\Temp\\1\\ipykernel_21680\\1813207608.py:4: SettingWithCopyWarning: \n",
      "A value is trying to be set on a copy of a slice from a DataFrame\n",
      "\n",
      "See the caveats in the documentation: https://pandas.pydata.org/pandas-docs/stable/user_guide/indexing.html#returning-a-view-versus-a-copy\n",
      "  fishhours_select.drop(columns=['date', 'flag', 'geartype', 'hours', 'mmsi_present'], inplace=True)\n"
     ]
    },
    {
     "name": "stdout",
     "output_type": "stream",
     "text": [
      "Starting processing of 2020-09-03.csv...\n",
      "F:\\Global Fishing Watch\\Fishing Intensity\\v2\\fleet-daily\\fleet-daily-csvs-100-v2-2020\\2020-09-03.csv\n",
      "Done with 2020_09_03...\n"
     ]
    },
    {
     "name": "stderr",
     "output_type": "stream",
     "text": [
      "C:\\Users\\keit8223\\AppData\\Local\\Temp\\1\\ipykernel_21680\\959929405.py:5: SettingWithCopyWarning: \n",
      "A value is trying to be set on a copy of a slice from a DataFrame\n",
      "\n",
      "See the caveats in the documentation: https://pandas.pydata.org/pandas-docs/stable/user_guide/indexing.html#returning-a-view-versus-a-copy\n",
      "  hours_select.drop(columns=['date', 'flag', 'geartype', 'fishing_hours', 'mmsi_present'], inplace=True)\n"
     ]
    },
    {
     "name": "stdout",
     "output_type": "stream",
     "text": [
      "3\n"
     ]
    },
    {
     "name": "stderr",
     "output_type": "stream",
     "text": [
      "C:\\Users\\keit8223\\AppData\\Local\\Temp\\1\\ipykernel_21680\\1813207608.py:4: SettingWithCopyWarning: \n",
      "A value is trying to be set on a copy of a slice from a DataFrame\n",
      "\n",
      "See the caveats in the documentation: https://pandas.pydata.org/pandas-docs/stable/user_guide/indexing.html#returning-a-view-versus-a-copy\n",
      "  fishhours_select.drop(columns=['date', 'flag', 'geartype', 'hours', 'mmsi_present'], inplace=True)\n"
     ]
    },
    {
     "name": "stdout",
     "output_type": "stream",
     "text": [
      "Starting processing of 2020-09-04.csv...\n",
      "F:\\Global Fishing Watch\\Fishing Intensity\\v2\\fleet-daily\\fleet-daily-csvs-100-v2-2020\\2020-09-04.csv\n",
      "Done with 2020_09_04...\n"
     ]
    },
    {
     "name": "stderr",
     "output_type": "stream",
     "text": [
      "C:\\Users\\keit8223\\AppData\\Local\\Temp\\1\\ipykernel_21680\\959929405.py:5: SettingWithCopyWarning: \n",
      "A value is trying to be set on a copy of a slice from a DataFrame\n",
      "\n",
      "See the caveats in the documentation: https://pandas.pydata.org/pandas-docs/stable/user_guide/indexing.html#returning-a-view-versus-a-copy\n",
      "  hours_select.drop(columns=['date', 'flag', 'geartype', 'fishing_hours', 'mmsi_present'], inplace=True)\n"
     ]
    },
    {
     "name": "stdout",
     "output_type": "stream",
     "text": [
      "3\n"
     ]
    },
    {
     "name": "stderr",
     "output_type": "stream",
     "text": [
      "C:\\Users\\keit8223\\AppData\\Local\\Temp\\1\\ipykernel_21680\\1813207608.py:4: SettingWithCopyWarning: \n",
      "A value is trying to be set on a copy of a slice from a DataFrame\n",
      "\n",
      "See the caveats in the documentation: https://pandas.pydata.org/pandas-docs/stable/user_guide/indexing.html#returning-a-view-versus-a-copy\n",
      "  fishhours_select.drop(columns=['date', 'flag', 'geartype', 'hours', 'mmsi_present'], inplace=True)\n"
     ]
    },
    {
     "name": "stdout",
     "output_type": "stream",
     "text": [
      "Starting processing of 2020-09-05.csv...\n",
      "F:\\Global Fishing Watch\\Fishing Intensity\\v2\\fleet-daily\\fleet-daily-csvs-100-v2-2020\\2020-09-05.csv\n",
      "Done with 2020_09_05...\n"
     ]
    },
    {
     "name": "stderr",
     "output_type": "stream",
     "text": [
      "C:\\Users\\keit8223\\AppData\\Local\\Temp\\1\\ipykernel_21680\\959929405.py:5: SettingWithCopyWarning: \n",
      "A value is trying to be set on a copy of a slice from a DataFrame\n",
      "\n",
      "See the caveats in the documentation: https://pandas.pydata.org/pandas-docs/stable/user_guide/indexing.html#returning-a-view-versus-a-copy\n",
      "  hours_select.drop(columns=['date', 'flag', 'geartype', 'fishing_hours', 'mmsi_present'], inplace=True)\n"
     ]
    },
    {
     "name": "stdout",
     "output_type": "stream",
     "text": [
      "3\n"
     ]
    },
    {
     "name": "stderr",
     "output_type": "stream",
     "text": [
      "C:\\Users\\keit8223\\AppData\\Local\\Temp\\1\\ipykernel_21680\\1813207608.py:4: SettingWithCopyWarning: \n",
      "A value is trying to be set on a copy of a slice from a DataFrame\n",
      "\n",
      "See the caveats in the documentation: https://pandas.pydata.org/pandas-docs/stable/user_guide/indexing.html#returning-a-view-versus-a-copy\n",
      "  fishhours_select.drop(columns=['date', 'flag', 'geartype', 'hours', 'mmsi_present'], inplace=True)\n"
     ]
    },
    {
     "name": "stdout",
     "output_type": "stream",
     "text": [
      "Starting processing of 2020-09-06.csv...\n",
      "F:\\Global Fishing Watch\\Fishing Intensity\\v2\\fleet-daily\\fleet-daily-csvs-100-v2-2020\\2020-09-06.csv\n",
      "Done with 2020_09_06...\n"
     ]
    },
    {
     "name": "stderr",
     "output_type": "stream",
     "text": [
      "C:\\Users\\keit8223\\AppData\\Local\\Temp\\1\\ipykernel_21680\\959929405.py:5: SettingWithCopyWarning: \n",
      "A value is trying to be set on a copy of a slice from a DataFrame\n",
      "\n",
      "See the caveats in the documentation: https://pandas.pydata.org/pandas-docs/stable/user_guide/indexing.html#returning-a-view-versus-a-copy\n",
      "  hours_select.drop(columns=['date', 'flag', 'geartype', 'fishing_hours', 'mmsi_present'], inplace=True)\n"
     ]
    },
    {
     "name": "stdout",
     "output_type": "stream",
     "text": [
      "3\n"
     ]
    },
    {
     "name": "stderr",
     "output_type": "stream",
     "text": [
      "C:\\Users\\keit8223\\AppData\\Local\\Temp\\1\\ipykernel_21680\\1813207608.py:4: SettingWithCopyWarning: \n",
      "A value is trying to be set on a copy of a slice from a DataFrame\n",
      "\n",
      "See the caveats in the documentation: https://pandas.pydata.org/pandas-docs/stable/user_guide/indexing.html#returning-a-view-versus-a-copy\n",
      "  fishhours_select.drop(columns=['date', 'flag', 'geartype', 'hours', 'mmsi_present'], inplace=True)\n"
     ]
    },
    {
     "name": "stdout",
     "output_type": "stream",
     "text": [
      "Starting processing of 2020-09-07.csv...\n",
      "F:\\Global Fishing Watch\\Fishing Intensity\\v2\\fleet-daily\\fleet-daily-csvs-100-v2-2020\\2020-09-07.csv\n",
      "Done with 2020_09_07...\n"
     ]
    },
    {
     "name": "stderr",
     "output_type": "stream",
     "text": [
      "C:\\Users\\keit8223\\AppData\\Local\\Temp\\1\\ipykernel_21680\\959929405.py:5: SettingWithCopyWarning: \n",
      "A value is trying to be set on a copy of a slice from a DataFrame\n",
      "\n",
      "See the caveats in the documentation: https://pandas.pydata.org/pandas-docs/stable/user_guide/indexing.html#returning-a-view-versus-a-copy\n",
      "  hours_select.drop(columns=['date', 'flag', 'geartype', 'fishing_hours', 'mmsi_present'], inplace=True)\n"
     ]
    },
    {
     "name": "stdout",
     "output_type": "stream",
     "text": [
      "3\n"
     ]
    },
    {
     "name": "stderr",
     "output_type": "stream",
     "text": [
      "C:\\Users\\keit8223\\AppData\\Local\\Temp\\1\\ipykernel_21680\\1813207608.py:4: SettingWithCopyWarning: \n",
      "A value is trying to be set on a copy of a slice from a DataFrame\n",
      "\n",
      "See the caveats in the documentation: https://pandas.pydata.org/pandas-docs/stable/user_guide/indexing.html#returning-a-view-versus-a-copy\n",
      "  fishhours_select.drop(columns=['date', 'flag', 'geartype', 'hours', 'mmsi_present'], inplace=True)\n"
     ]
    },
    {
     "name": "stdout",
     "output_type": "stream",
     "text": [
      "Starting processing of 2020-09-08.csv...\n",
      "F:\\Global Fishing Watch\\Fishing Intensity\\v2\\fleet-daily\\fleet-daily-csvs-100-v2-2020\\2020-09-08.csv\n",
      "Done with 2020_09_08...\n"
     ]
    },
    {
     "name": "stderr",
     "output_type": "stream",
     "text": [
      "C:\\Users\\keit8223\\AppData\\Local\\Temp\\1\\ipykernel_21680\\959929405.py:5: SettingWithCopyWarning: \n",
      "A value is trying to be set on a copy of a slice from a DataFrame\n",
      "\n",
      "See the caveats in the documentation: https://pandas.pydata.org/pandas-docs/stable/user_guide/indexing.html#returning-a-view-versus-a-copy\n",
      "  hours_select.drop(columns=['date', 'flag', 'geartype', 'fishing_hours', 'mmsi_present'], inplace=True)\n"
     ]
    },
    {
     "name": "stdout",
     "output_type": "stream",
     "text": [
      "3\n"
     ]
    },
    {
     "name": "stderr",
     "output_type": "stream",
     "text": [
      "C:\\Users\\keit8223\\AppData\\Local\\Temp\\1\\ipykernel_21680\\1813207608.py:4: SettingWithCopyWarning: \n",
      "A value is trying to be set on a copy of a slice from a DataFrame\n",
      "\n",
      "See the caveats in the documentation: https://pandas.pydata.org/pandas-docs/stable/user_guide/indexing.html#returning-a-view-versus-a-copy\n",
      "  fishhours_select.drop(columns=['date', 'flag', 'geartype', 'hours', 'mmsi_present'], inplace=True)\n"
     ]
    },
    {
     "name": "stdout",
     "output_type": "stream",
     "text": [
      "Starting processing of 2020-09-09.csv...\n",
      "F:\\Global Fishing Watch\\Fishing Intensity\\v2\\fleet-daily\\fleet-daily-csvs-100-v2-2020\\2020-09-09.csv\n",
      "Done with 2020_09_09...\n"
     ]
    },
    {
     "name": "stderr",
     "output_type": "stream",
     "text": [
      "C:\\Users\\keit8223\\AppData\\Local\\Temp\\1\\ipykernel_21680\\959929405.py:5: SettingWithCopyWarning: \n",
      "A value is trying to be set on a copy of a slice from a DataFrame\n",
      "\n",
      "See the caveats in the documentation: https://pandas.pydata.org/pandas-docs/stable/user_guide/indexing.html#returning-a-view-versus-a-copy\n",
      "  hours_select.drop(columns=['date', 'flag', 'geartype', 'fishing_hours', 'mmsi_present'], inplace=True)\n"
     ]
    },
    {
     "name": "stdout",
     "output_type": "stream",
     "text": [
      "3\n"
     ]
    },
    {
     "name": "stderr",
     "output_type": "stream",
     "text": [
      "C:\\Users\\keit8223\\AppData\\Local\\Temp\\1\\ipykernel_21680\\1813207608.py:4: SettingWithCopyWarning: \n",
      "A value is trying to be set on a copy of a slice from a DataFrame\n",
      "\n",
      "See the caveats in the documentation: https://pandas.pydata.org/pandas-docs/stable/user_guide/indexing.html#returning-a-view-versus-a-copy\n",
      "  fishhours_select.drop(columns=['date', 'flag', 'geartype', 'hours', 'mmsi_present'], inplace=True)\n"
     ]
    },
    {
     "name": "stdout",
     "output_type": "stream",
     "text": [
      "Starting processing of 2020-09-10.csv...\n",
      "F:\\Global Fishing Watch\\Fishing Intensity\\v2\\fleet-daily\\fleet-daily-csvs-100-v2-2020\\2020-09-10.csv\n",
      "Done with 2020_09_10...\n"
     ]
    },
    {
     "name": "stderr",
     "output_type": "stream",
     "text": [
      "C:\\Users\\keit8223\\AppData\\Local\\Temp\\1\\ipykernel_21680\\959929405.py:5: SettingWithCopyWarning: \n",
      "A value is trying to be set on a copy of a slice from a DataFrame\n",
      "\n",
      "See the caveats in the documentation: https://pandas.pydata.org/pandas-docs/stable/user_guide/indexing.html#returning-a-view-versus-a-copy\n",
      "  hours_select.drop(columns=['date', 'flag', 'geartype', 'fishing_hours', 'mmsi_present'], inplace=True)\n"
     ]
    },
    {
     "name": "stdout",
     "output_type": "stream",
     "text": [
      "3\n"
     ]
    },
    {
     "name": "stderr",
     "output_type": "stream",
     "text": [
      "C:\\Users\\keit8223\\AppData\\Local\\Temp\\1\\ipykernel_21680\\1813207608.py:4: SettingWithCopyWarning: \n",
      "A value is trying to be set on a copy of a slice from a DataFrame\n",
      "\n",
      "See the caveats in the documentation: https://pandas.pydata.org/pandas-docs/stable/user_guide/indexing.html#returning-a-view-versus-a-copy\n",
      "  fishhours_select.drop(columns=['date', 'flag', 'geartype', 'hours', 'mmsi_present'], inplace=True)\n"
     ]
    },
    {
     "name": "stdout",
     "output_type": "stream",
     "text": [
      "Starting processing of 2020-09-11.csv...\n",
      "F:\\Global Fishing Watch\\Fishing Intensity\\v2\\fleet-daily\\fleet-daily-csvs-100-v2-2020\\2020-09-11.csv\n",
      "Done with 2020_09_11...\n"
     ]
    },
    {
     "name": "stderr",
     "output_type": "stream",
     "text": [
      "C:\\Users\\keit8223\\AppData\\Local\\Temp\\1\\ipykernel_21680\\959929405.py:5: SettingWithCopyWarning: \n",
      "A value is trying to be set on a copy of a slice from a DataFrame\n",
      "\n",
      "See the caveats in the documentation: https://pandas.pydata.org/pandas-docs/stable/user_guide/indexing.html#returning-a-view-versus-a-copy\n",
      "  hours_select.drop(columns=['date', 'flag', 'geartype', 'fishing_hours', 'mmsi_present'], inplace=True)\n"
     ]
    },
    {
     "name": "stdout",
     "output_type": "stream",
     "text": [
      "3\n"
     ]
    },
    {
     "name": "stderr",
     "output_type": "stream",
     "text": [
      "C:\\Users\\keit8223\\AppData\\Local\\Temp\\1\\ipykernel_21680\\1813207608.py:4: SettingWithCopyWarning: \n",
      "A value is trying to be set on a copy of a slice from a DataFrame\n",
      "\n",
      "See the caveats in the documentation: https://pandas.pydata.org/pandas-docs/stable/user_guide/indexing.html#returning-a-view-versus-a-copy\n",
      "  fishhours_select.drop(columns=['date', 'flag', 'geartype', 'hours', 'mmsi_present'], inplace=True)\n"
     ]
    },
    {
     "name": "stdout",
     "output_type": "stream",
     "text": [
      "Starting processing of 2020-09-12.csv...\n",
      "F:\\Global Fishing Watch\\Fishing Intensity\\v2\\fleet-daily\\fleet-daily-csvs-100-v2-2020\\2020-09-12.csv\n",
      "Done with 2020_09_12...\n"
     ]
    },
    {
     "name": "stderr",
     "output_type": "stream",
     "text": [
      "C:\\Users\\keit8223\\AppData\\Local\\Temp\\1\\ipykernel_21680\\959929405.py:5: SettingWithCopyWarning: \n",
      "A value is trying to be set on a copy of a slice from a DataFrame\n",
      "\n",
      "See the caveats in the documentation: https://pandas.pydata.org/pandas-docs/stable/user_guide/indexing.html#returning-a-view-versus-a-copy\n",
      "  hours_select.drop(columns=['date', 'flag', 'geartype', 'fishing_hours', 'mmsi_present'], inplace=True)\n"
     ]
    },
    {
     "name": "stdout",
     "output_type": "stream",
     "text": [
      "3\n"
     ]
    },
    {
     "name": "stderr",
     "output_type": "stream",
     "text": [
      "C:\\Users\\keit8223\\AppData\\Local\\Temp\\1\\ipykernel_21680\\1813207608.py:4: SettingWithCopyWarning: \n",
      "A value is trying to be set on a copy of a slice from a DataFrame\n",
      "\n",
      "See the caveats in the documentation: https://pandas.pydata.org/pandas-docs/stable/user_guide/indexing.html#returning-a-view-versus-a-copy\n",
      "  fishhours_select.drop(columns=['date', 'flag', 'geartype', 'hours', 'mmsi_present'], inplace=True)\n"
     ]
    },
    {
     "name": "stdout",
     "output_type": "stream",
     "text": [
      "Starting processing of 2020-09-13.csv...\n",
      "F:\\Global Fishing Watch\\Fishing Intensity\\v2\\fleet-daily\\fleet-daily-csvs-100-v2-2020\\2020-09-13.csv\n",
      "Done with 2020_09_13...\n"
     ]
    },
    {
     "name": "stderr",
     "output_type": "stream",
     "text": [
      "C:\\Users\\keit8223\\AppData\\Local\\Temp\\1\\ipykernel_21680\\959929405.py:5: SettingWithCopyWarning: \n",
      "A value is trying to be set on a copy of a slice from a DataFrame\n",
      "\n",
      "See the caveats in the documentation: https://pandas.pydata.org/pandas-docs/stable/user_guide/indexing.html#returning-a-view-versus-a-copy\n",
      "  hours_select.drop(columns=['date', 'flag', 'geartype', 'fishing_hours', 'mmsi_present'], inplace=True)\n"
     ]
    },
    {
     "name": "stdout",
     "output_type": "stream",
     "text": [
      "3\n"
     ]
    },
    {
     "name": "stderr",
     "output_type": "stream",
     "text": [
      "C:\\Users\\keit8223\\AppData\\Local\\Temp\\1\\ipykernel_21680\\1813207608.py:4: SettingWithCopyWarning: \n",
      "A value is trying to be set on a copy of a slice from a DataFrame\n",
      "\n",
      "See the caveats in the documentation: https://pandas.pydata.org/pandas-docs/stable/user_guide/indexing.html#returning-a-view-versus-a-copy\n",
      "  fishhours_select.drop(columns=['date', 'flag', 'geartype', 'hours', 'mmsi_present'], inplace=True)\n"
     ]
    },
    {
     "name": "stdout",
     "output_type": "stream",
     "text": [
      "Starting processing of 2020-09-14.csv...\n",
      "F:\\Global Fishing Watch\\Fishing Intensity\\v2\\fleet-daily\\fleet-daily-csvs-100-v2-2020\\2020-09-14.csv\n",
      "Done with 2020_09_14...\n"
     ]
    },
    {
     "name": "stderr",
     "output_type": "stream",
     "text": [
      "C:\\Users\\keit8223\\AppData\\Local\\Temp\\1\\ipykernel_21680\\959929405.py:5: SettingWithCopyWarning: \n",
      "A value is trying to be set on a copy of a slice from a DataFrame\n",
      "\n",
      "See the caveats in the documentation: https://pandas.pydata.org/pandas-docs/stable/user_guide/indexing.html#returning-a-view-versus-a-copy\n",
      "  hours_select.drop(columns=['date', 'flag', 'geartype', 'fishing_hours', 'mmsi_present'], inplace=True)\n"
     ]
    },
    {
     "name": "stdout",
     "output_type": "stream",
     "text": [
      "3\n"
     ]
    },
    {
     "name": "stderr",
     "output_type": "stream",
     "text": [
      "C:\\Users\\keit8223\\AppData\\Local\\Temp\\1\\ipykernel_21680\\1813207608.py:4: SettingWithCopyWarning: \n",
      "A value is trying to be set on a copy of a slice from a DataFrame\n",
      "\n",
      "See the caveats in the documentation: https://pandas.pydata.org/pandas-docs/stable/user_guide/indexing.html#returning-a-view-versus-a-copy\n",
      "  fishhours_select.drop(columns=['date', 'flag', 'geartype', 'hours', 'mmsi_present'], inplace=True)\n"
     ]
    },
    {
     "name": "stdout",
     "output_type": "stream",
     "text": [
      "Starting processing of 2020-09-15.csv...\n",
      "F:\\Global Fishing Watch\\Fishing Intensity\\v2\\fleet-daily\\fleet-daily-csvs-100-v2-2020\\2020-09-15.csv\n",
      "Done with 2020_09_15...\n"
     ]
    },
    {
     "name": "stderr",
     "output_type": "stream",
     "text": [
      "C:\\Users\\keit8223\\AppData\\Local\\Temp\\1\\ipykernel_21680\\959929405.py:5: SettingWithCopyWarning: \n",
      "A value is trying to be set on a copy of a slice from a DataFrame\n",
      "\n",
      "See the caveats in the documentation: https://pandas.pydata.org/pandas-docs/stable/user_guide/indexing.html#returning-a-view-versus-a-copy\n",
      "  hours_select.drop(columns=['date', 'flag', 'geartype', 'fishing_hours', 'mmsi_present'], inplace=True)\n"
     ]
    },
    {
     "name": "stdout",
     "output_type": "stream",
     "text": [
      "3\n"
     ]
    },
    {
     "name": "stderr",
     "output_type": "stream",
     "text": [
      "C:\\Users\\keit8223\\AppData\\Local\\Temp\\1\\ipykernel_21680\\1813207608.py:4: SettingWithCopyWarning: \n",
      "A value is trying to be set on a copy of a slice from a DataFrame\n",
      "\n",
      "See the caveats in the documentation: https://pandas.pydata.org/pandas-docs/stable/user_guide/indexing.html#returning-a-view-versus-a-copy\n",
      "  fishhours_select.drop(columns=['date', 'flag', 'geartype', 'hours', 'mmsi_present'], inplace=True)\n"
     ]
    },
    {
     "name": "stdout",
     "output_type": "stream",
     "text": [
      "Starting processing of 2020-09-16.csv...\n",
      "F:\\Global Fishing Watch\\Fishing Intensity\\v2\\fleet-daily\\fleet-daily-csvs-100-v2-2020\\2020-09-16.csv\n",
      "Done with 2020_09_16...\n"
     ]
    },
    {
     "name": "stderr",
     "output_type": "stream",
     "text": [
      "C:\\Users\\keit8223\\AppData\\Local\\Temp\\1\\ipykernel_21680\\959929405.py:5: SettingWithCopyWarning: \n",
      "A value is trying to be set on a copy of a slice from a DataFrame\n",
      "\n",
      "See the caveats in the documentation: https://pandas.pydata.org/pandas-docs/stable/user_guide/indexing.html#returning-a-view-versus-a-copy\n",
      "  hours_select.drop(columns=['date', 'flag', 'geartype', 'fishing_hours', 'mmsi_present'], inplace=True)\n"
     ]
    },
    {
     "name": "stdout",
     "output_type": "stream",
     "text": [
      "3\n"
     ]
    },
    {
     "name": "stderr",
     "output_type": "stream",
     "text": [
      "C:\\Users\\keit8223\\AppData\\Local\\Temp\\1\\ipykernel_21680\\1813207608.py:4: SettingWithCopyWarning: \n",
      "A value is trying to be set on a copy of a slice from a DataFrame\n",
      "\n",
      "See the caveats in the documentation: https://pandas.pydata.org/pandas-docs/stable/user_guide/indexing.html#returning-a-view-versus-a-copy\n",
      "  fishhours_select.drop(columns=['date', 'flag', 'geartype', 'hours', 'mmsi_present'], inplace=True)\n"
     ]
    },
    {
     "name": "stdout",
     "output_type": "stream",
     "text": [
      "Starting processing of 2020-09-17.csv...\n",
      "F:\\Global Fishing Watch\\Fishing Intensity\\v2\\fleet-daily\\fleet-daily-csvs-100-v2-2020\\2020-09-17.csv\n",
      "Done with 2020_09_17...\n"
     ]
    },
    {
     "name": "stderr",
     "output_type": "stream",
     "text": [
      "C:\\Users\\keit8223\\AppData\\Local\\Temp\\1\\ipykernel_21680\\959929405.py:5: SettingWithCopyWarning: \n",
      "A value is trying to be set on a copy of a slice from a DataFrame\n",
      "\n",
      "See the caveats in the documentation: https://pandas.pydata.org/pandas-docs/stable/user_guide/indexing.html#returning-a-view-versus-a-copy\n",
      "  hours_select.drop(columns=['date', 'flag', 'geartype', 'fishing_hours', 'mmsi_present'], inplace=True)\n"
     ]
    },
    {
     "name": "stdout",
     "output_type": "stream",
     "text": [
      "3\n"
     ]
    },
    {
     "name": "stderr",
     "output_type": "stream",
     "text": [
      "C:\\Users\\keit8223\\AppData\\Local\\Temp\\1\\ipykernel_21680\\1813207608.py:4: SettingWithCopyWarning: \n",
      "A value is trying to be set on a copy of a slice from a DataFrame\n",
      "\n",
      "See the caveats in the documentation: https://pandas.pydata.org/pandas-docs/stable/user_guide/indexing.html#returning-a-view-versus-a-copy\n",
      "  fishhours_select.drop(columns=['date', 'flag', 'geartype', 'hours', 'mmsi_present'], inplace=True)\n"
     ]
    },
    {
     "name": "stdout",
     "output_type": "stream",
     "text": [
      "Starting processing of 2020-09-18.csv...\n",
      "F:\\Global Fishing Watch\\Fishing Intensity\\v2\\fleet-daily\\fleet-daily-csvs-100-v2-2020\\2020-09-18.csv\n",
      "Done with 2020_09_18...\n"
     ]
    },
    {
     "name": "stderr",
     "output_type": "stream",
     "text": [
      "C:\\Users\\keit8223\\AppData\\Local\\Temp\\1\\ipykernel_21680\\959929405.py:5: SettingWithCopyWarning: \n",
      "A value is trying to be set on a copy of a slice from a DataFrame\n",
      "\n",
      "See the caveats in the documentation: https://pandas.pydata.org/pandas-docs/stable/user_guide/indexing.html#returning-a-view-versus-a-copy\n",
      "  hours_select.drop(columns=['date', 'flag', 'geartype', 'fishing_hours', 'mmsi_present'], inplace=True)\n"
     ]
    },
    {
     "name": "stdout",
     "output_type": "stream",
     "text": [
      "3\n"
     ]
    },
    {
     "name": "stderr",
     "output_type": "stream",
     "text": [
      "C:\\Users\\keit8223\\AppData\\Local\\Temp\\1\\ipykernel_21680\\1813207608.py:4: SettingWithCopyWarning: \n",
      "A value is trying to be set on a copy of a slice from a DataFrame\n",
      "\n",
      "See the caveats in the documentation: https://pandas.pydata.org/pandas-docs/stable/user_guide/indexing.html#returning-a-view-versus-a-copy\n",
      "  fishhours_select.drop(columns=['date', 'flag', 'geartype', 'hours', 'mmsi_present'], inplace=True)\n"
     ]
    },
    {
     "name": "stdout",
     "output_type": "stream",
     "text": [
      "Starting processing of 2020-09-19.csv...\n",
      "F:\\Global Fishing Watch\\Fishing Intensity\\v2\\fleet-daily\\fleet-daily-csvs-100-v2-2020\\2020-09-19.csv\n",
      "Done with 2020_09_19...\n"
     ]
    },
    {
     "name": "stderr",
     "output_type": "stream",
     "text": [
      "C:\\Users\\keit8223\\AppData\\Local\\Temp\\1\\ipykernel_21680\\959929405.py:5: SettingWithCopyWarning: \n",
      "A value is trying to be set on a copy of a slice from a DataFrame\n",
      "\n",
      "See the caveats in the documentation: https://pandas.pydata.org/pandas-docs/stable/user_guide/indexing.html#returning-a-view-versus-a-copy\n",
      "  hours_select.drop(columns=['date', 'flag', 'geartype', 'fishing_hours', 'mmsi_present'], inplace=True)\n"
     ]
    },
    {
     "name": "stdout",
     "output_type": "stream",
     "text": [
      "3\n"
     ]
    },
    {
     "name": "stderr",
     "output_type": "stream",
     "text": [
      "C:\\Users\\keit8223\\AppData\\Local\\Temp\\1\\ipykernel_21680\\1813207608.py:4: SettingWithCopyWarning: \n",
      "A value is trying to be set on a copy of a slice from a DataFrame\n",
      "\n",
      "See the caveats in the documentation: https://pandas.pydata.org/pandas-docs/stable/user_guide/indexing.html#returning-a-view-versus-a-copy\n",
      "  fishhours_select.drop(columns=['date', 'flag', 'geartype', 'hours', 'mmsi_present'], inplace=True)\n"
     ]
    },
    {
     "name": "stdout",
     "output_type": "stream",
     "text": [
      "Starting processing of 2020-09-20.csv...\n",
      "F:\\Global Fishing Watch\\Fishing Intensity\\v2\\fleet-daily\\fleet-daily-csvs-100-v2-2020\\2020-09-20.csv\n",
      "Done with 2020_09_20...\n"
     ]
    },
    {
     "name": "stderr",
     "output_type": "stream",
     "text": [
      "C:\\Users\\keit8223\\AppData\\Local\\Temp\\1\\ipykernel_21680\\959929405.py:5: SettingWithCopyWarning: \n",
      "A value is trying to be set on a copy of a slice from a DataFrame\n",
      "\n",
      "See the caveats in the documentation: https://pandas.pydata.org/pandas-docs/stable/user_guide/indexing.html#returning-a-view-versus-a-copy\n",
      "  hours_select.drop(columns=['date', 'flag', 'geartype', 'fishing_hours', 'mmsi_present'], inplace=True)\n"
     ]
    },
    {
     "name": "stdout",
     "output_type": "stream",
     "text": [
      "3\n"
     ]
    },
    {
     "name": "stderr",
     "output_type": "stream",
     "text": [
      "C:\\Users\\keit8223\\AppData\\Local\\Temp\\1\\ipykernel_21680\\1813207608.py:4: SettingWithCopyWarning: \n",
      "A value is trying to be set on a copy of a slice from a DataFrame\n",
      "\n",
      "See the caveats in the documentation: https://pandas.pydata.org/pandas-docs/stable/user_guide/indexing.html#returning-a-view-versus-a-copy\n",
      "  fishhours_select.drop(columns=['date', 'flag', 'geartype', 'hours', 'mmsi_present'], inplace=True)\n"
     ]
    },
    {
     "name": "stdout",
     "output_type": "stream",
     "text": [
      "Starting processing of 2020-09-21.csv...\n",
      "F:\\Global Fishing Watch\\Fishing Intensity\\v2\\fleet-daily\\fleet-daily-csvs-100-v2-2020\\2020-09-21.csv\n",
      "Done with 2020_09_21...\n"
     ]
    },
    {
     "name": "stderr",
     "output_type": "stream",
     "text": [
      "C:\\Users\\keit8223\\AppData\\Local\\Temp\\1\\ipykernel_21680\\959929405.py:5: SettingWithCopyWarning: \n",
      "A value is trying to be set on a copy of a slice from a DataFrame\n",
      "\n",
      "See the caveats in the documentation: https://pandas.pydata.org/pandas-docs/stable/user_guide/indexing.html#returning-a-view-versus-a-copy\n",
      "  hours_select.drop(columns=['date', 'flag', 'geartype', 'fishing_hours', 'mmsi_present'], inplace=True)\n"
     ]
    },
    {
     "name": "stdout",
     "output_type": "stream",
     "text": [
      "3\n"
     ]
    },
    {
     "name": "stderr",
     "output_type": "stream",
     "text": [
      "C:\\Users\\keit8223\\AppData\\Local\\Temp\\1\\ipykernel_21680\\1813207608.py:4: SettingWithCopyWarning: \n",
      "A value is trying to be set on a copy of a slice from a DataFrame\n",
      "\n",
      "See the caveats in the documentation: https://pandas.pydata.org/pandas-docs/stable/user_guide/indexing.html#returning-a-view-versus-a-copy\n",
      "  fishhours_select.drop(columns=['date', 'flag', 'geartype', 'hours', 'mmsi_present'], inplace=True)\n"
     ]
    },
    {
     "name": "stdout",
     "output_type": "stream",
     "text": [
      "Starting processing of 2020-09-22.csv...\n",
      "F:\\Global Fishing Watch\\Fishing Intensity\\v2\\fleet-daily\\fleet-daily-csvs-100-v2-2020\\2020-09-22.csv\n",
      "Done with 2020_09_22...\n"
     ]
    },
    {
     "name": "stderr",
     "output_type": "stream",
     "text": [
      "C:\\Users\\keit8223\\AppData\\Local\\Temp\\1\\ipykernel_21680\\959929405.py:5: SettingWithCopyWarning: \n",
      "A value is trying to be set on a copy of a slice from a DataFrame\n",
      "\n",
      "See the caveats in the documentation: https://pandas.pydata.org/pandas-docs/stable/user_guide/indexing.html#returning-a-view-versus-a-copy\n",
      "  hours_select.drop(columns=['date', 'flag', 'geartype', 'fishing_hours', 'mmsi_present'], inplace=True)\n"
     ]
    },
    {
     "name": "stdout",
     "output_type": "stream",
     "text": [
      "3\n"
     ]
    },
    {
     "name": "stderr",
     "output_type": "stream",
     "text": [
      "C:\\Users\\keit8223\\AppData\\Local\\Temp\\1\\ipykernel_21680\\1813207608.py:4: SettingWithCopyWarning: \n",
      "A value is trying to be set on a copy of a slice from a DataFrame\n",
      "\n",
      "See the caveats in the documentation: https://pandas.pydata.org/pandas-docs/stable/user_guide/indexing.html#returning-a-view-versus-a-copy\n",
      "  fishhours_select.drop(columns=['date', 'flag', 'geartype', 'hours', 'mmsi_present'], inplace=True)\n"
     ]
    },
    {
     "name": "stdout",
     "output_type": "stream",
     "text": [
      "Starting processing of 2020-09-23.csv...\n",
      "F:\\Global Fishing Watch\\Fishing Intensity\\v2\\fleet-daily\\fleet-daily-csvs-100-v2-2020\\2020-09-23.csv\n",
      "Done with 2020_09_23...\n"
     ]
    },
    {
     "name": "stderr",
     "output_type": "stream",
     "text": [
      "C:\\Users\\keit8223\\AppData\\Local\\Temp\\1\\ipykernel_21680\\959929405.py:5: SettingWithCopyWarning: \n",
      "A value is trying to be set on a copy of a slice from a DataFrame\n",
      "\n",
      "See the caveats in the documentation: https://pandas.pydata.org/pandas-docs/stable/user_guide/indexing.html#returning-a-view-versus-a-copy\n",
      "  hours_select.drop(columns=['date', 'flag', 'geartype', 'fishing_hours', 'mmsi_present'], inplace=True)\n"
     ]
    },
    {
     "name": "stdout",
     "output_type": "stream",
     "text": [
      "3\n"
     ]
    },
    {
     "name": "stderr",
     "output_type": "stream",
     "text": [
      "C:\\Users\\keit8223\\AppData\\Local\\Temp\\1\\ipykernel_21680\\1813207608.py:4: SettingWithCopyWarning: \n",
      "A value is trying to be set on a copy of a slice from a DataFrame\n",
      "\n",
      "See the caveats in the documentation: https://pandas.pydata.org/pandas-docs/stable/user_guide/indexing.html#returning-a-view-versus-a-copy\n",
      "  fishhours_select.drop(columns=['date', 'flag', 'geartype', 'hours', 'mmsi_present'], inplace=True)\n"
     ]
    },
    {
     "name": "stdout",
     "output_type": "stream",
     "text": [
      "Starting processing of 2020-09-24.csv...\n",
      "F:\\Global Fishing Watch\\Fishing Intensity\\v2\\fleet-daily\\fleet-daily-csvs-100-v2-2020\\2020-09-24.csv\n",
      "Done with 2020_09_24...\n"
     ]
    },
    {
     "name": "stderr",
     "output_type": "stream",
     "text": [
      "C:\\Users\\keit8223\\AppData\\Local\\Temp\\1\\ipykernel_21680\\959929405.py:5: SettingWithCopyWarning: \n",
      "A value is trying to be set on a copy of a slice from a DataFrame\n",
      "\n",
      "See the caveats in the documentation: https://pandas.pydata.org/pandas-docs/stable/user_guide/indexing.html#returning-a-view-versus-a-copy\n",
      "  hours_select.drop(columns=['date', 'flag', 'geartype', 'fishing_hours', 'mmsi_present'], inplace=True)\n"
     ]
    },
    {
     "name": "stdout",
     "output_type": "stream",
     "text": [
      "3\n"
     ]
    },
    {
     "name": "stderr",
     "output_type": "stream",
     "text": [
      "C:\\Users\\keit8223\\AppData\\Local\\Temp\\1\\ipykernel_21680\\1813207608.py:4: SettingWithCopyWarning: \n",
      "A value is trying to be set on a copy of a slice from a DataFrame\n",
      "\n",
      "See the caveats in the documentation: https://pandas.pydata.org/pandas-docs/stable/user_guide/indexing.html#returning-a-view-versus-a-copy\n",
      "  fishhours_select.drop(columns=['date', 'flag', 'geartype', 'hours', 'mmsi_present'], inplace=True)\n"
     ]
    },
    {
     "name": "stdout",
     "output_type": "stream",
     "text": [
      "Starting processing of 2020-09-25.csv...\n",
      "F:\\Global Fishing Watch\\Fishing Intensity\\v2\\fleet-daily\\fleet-daily-csvs-100-v2-2020\\2020-09-25.csv\n",
      "Done with 2020_09_25...\n"
     ]
    },
    {
     "name": "stderr",
     "output_type": "stream",
     "text": [
      "C:\\Users\\keit8223\\AppData\\Local\\Temp\\1\\ipykernel_21680\\959929405.py:5: SettingWithCopyWarning: \n",
      "A value is trying to be set on a copy of a slice from a DataFrame\n",
      "\n",
      "See the caveats in the documentation: https://pandas.pydata.org/pandas-docs/stable/user_guide/indexing.html#returning-a-view-versus-a-copy\n",
      "  hours_select.drop(columns=['date', 'flag', 'geartype', 'fishing_hours', 'mmsi_present'], inplace=True)\n"
     ]
    },
    {
     "name": "stdout",
     "output_type": "stream",
     "text": [
      "3\n"
     ]
    },
    {
     "name": "stderr",
     "output_type": "stream",
     "text": [
      "C:\\Users\\keit8223\\AppData\\Local\\Temp\\1\\ipykernel_21680\\1813207608.py:4: SettingWithCopyWarning: \n",
      "A value is trying to be set on a copy of a slice from a DataFrame\n",
      "\n",
      "See the caveats in the documentation: https://pandas.pydata.org/pandas-docs/stable/user_guide/indexing.html#returning-a-view-versus-a-copy\n",
      "  fishhours_select.drop(columns=['date', 'flag', 'geartype', 'hours', 'mmsi_present'], inplace=True)\n"
     ]
    },
    {
     "name": "stdout",
     "output_type": "stream",
     "text": [
      "Starting processing of 2020-09-26.csv...\n",
      "F:\\Global Fishing Watch\\Fishing Intensity\\v2\\fleet-daily\\fleet-daily-csvs-100-v2-2020\\2020-09-26.csv\n",
      "Done with 2020_09_26...\n"
     ]
    },
    {
     "name": "stderr",
     "output_type": "stream",
     "text": [
      "C:\\Users\\keit8223\\AppData\\Local\\Temp\\1\\ipykernel_21680\\959929405.py:5: SettingWithCopyWarning: \n",
      "A value is trying to be set on a copy of a slice from a DataFrame\n",
      "\n",
      "See the caveats in the documentation: https://pandas.pydata.org/pandas-docs/stable/user_guide/indexing.html#returning-a-view-versus-a-copy\n",
      "  hours_select.drop(columns=['date', 'flag', 'geartype', 'fishing_hours', 'mmsi_present'], inplace=True)\n"
     ]
    },
    {
     "name": "stdout",
     "output_type": "stream",
     "text": [
      "3\n"
     ]
    },
    {
     "name": "stderr",
     "output_type": "stream",
     "text": [
      "C:\\Users\\keit8223\\AppData\\Local\\Temp\\1\\ipykernel_21680\\1813207608.py:4: SettingWithCopyWarning: \n",
      "A value is trying to be set on a copy of a slice from a DataFrame\n",
      "\n",
      "See the caveats in the documentation: https://pandas.pydata.org/pandas-docs/stable/user_guide/indexing.html#returning-a-view-versus-a-copy\n",
      "  fishhours_select.drop(columns=['date', 'flag', 'geartype', 'hours', 'mmsi_present'], inplace=True)\n"
     ]
    },
    {
     "name": "stdout",
     "output_type": "stream",
     "text": [
      "Starting processing of 2020-09-27.csv...\n",
      "F:\\Global Fishing Watch\\Fishing Intensity\\v2\\fleet-daily\\fleet-daily-csvs-100-v2-2020\\2020-09-27.csv\n",
      "Done with 2020_09_27...\n"
     ]
    },
    {
     "name": "stderr",
     "output_type": "stream",
     "text": [
      "C:\\Users\\keit8223\\AppData\\Local\\Temp\\1\\ipykernel_21680\\959929405.py:5: SettingWithCopyWarning: \n",
      "A value is trying to be set on a copy of a slice from a DataFrame\n",
      "\n",
      "See the caveats in the documentation: https://pandas.pydata.org/pandas-docs/stable/user_guide/indexing.html#returning-a-view-versus-a-copy\n",
      "  hours_select.drop(columns=['date', 'flag', 'geartype', 'fishing_hours', 'mmsi_present'], inplace=True)\n"
     ]
    },
    {
     "name": "stdout",
     "output_type": "stream",
     "text": [
      "3\n"
     ]
    },
    {
     "name": "stderr",
     "output_type": "stream",
     "text": [
      "C:\\Users\\keit8223\\AppData\\Local\\Temp\\1\\ipykernel_21680\\1813207608.py:4: SettingWithCopyWarning: \n",
      "A value is trying to be set on a copy of a slice from a DataFrame\n",
      "\n",
      "See the caveats in the documentation: https://pandas.pydata.org/pandas-docs/stable/user_guide/indexing.html#returning-a-view-versus-a-copy\n",
      "  fishhours_select.drop(columns=['date', 'flag', 'geartype', 'hours', 'mmsi_present'], inplace=True)\n"
     ]
    },
    {
     "name": "stdout",
     "output_type": "stream",
     "text": [
      "Starting processing of 2020-09-28.csv...\n",
      "F:\\Global Fishing Watch\\Fishing Intensity\\v2\\fleet-daily\\fleet-daily-csvs-100-v2-2020\\2020-09-28.csv\n",
      "Done with 2020_09_28...\n"
     ]
    },
    {
     "name": "stderr",
     "output_type": "stream",
     "text": [
      "C:\\Users\\keit8223\\AppData\\Local\\Temp\\1\\ipykernel_21680\\959929405.py:5: SettingWithCopyWarning: \n",
      "A value is trying to be set on a copy of a slice from a DataFrame\n",
      "\n",
      "See the caveats in the documentation: https://pandas.pydata.org/pandas-docs/stable/user_guide/indexing.html#returning-a-view-versus-a-copy\n",
      "  hours_select.drop(columns=['date', 'flag', 'geartype', 'fishing_hours', 'mmsi_present'], inplace=True)\n"
     ]
    },
    {
     "name": "stdout",
     "output_type": "stream",
     "text": [
      "3\n"
     ]
    },
    {
     "name": "stderr",
     "output_type": "stream",
     "text": [
      "C:\\Users\\keit8223\\AppData\\Local\\Temp\\1\\ipykernel_21680\\1813207608.py:4: SettingWithCopyWarning: \n",
      "A value is trying to be set on a copy of a slice from a DataFrame\n",
      "\n",
      "See the caveats in the documentation: https://pandas.pydata.org/pandas-docs/stable/user_guide/indexing.html#returning-a-view-versus-a-copy\n",
      "  fishhours_select.drop(columns=['date', 'flag', 'geartype', 'hours', 'mmsi_present'], inplace=True)\n"
     ]
    },
    {
     "name": "stdout",
     "output_type": "stream",
     "text": [
      "Starting processing of 2020-09-29.csv...\n",
      "F:\\Global Fishing Watch\\Fishing Intensity\\v2\\fleet-daily\\fleet-daily-csvs-100-v2-2020\\2020-09-29.csv\n",
      "Done with 2020_09_29...\n"
     ]
    },
    {
     "name": "stderr",
     "output_type": "stream",
     "text": [
      "C:\\Users\\keit8223\\AppData\\Local\\Temp\\1\\ipykernel_21680\\959929405.py:5: SettingWithCopyWarning: \n",
      "A value is trying to be set on a copy of a slice from a DataFrame\n",
      "\n",
      "See the caveats in the documentation: https://pandas.pydata.org/pandas-docs/stable/user_guide/indexing.html#returning-a-view-versus-a-copy\n",
      "  hours_select.drop(columns=['date', 'flag', 'geartype', 'fishing_hours', 'mmsi_present'], inplace=True)\n"
     ]
    },
    {
     "name": "stdout",
     "output_type": "stream",
     "text": [
      "3\n"
     ]
    },
    {
     "name": "stderr",
     "output_type": "stream",
     "text": [
      "C:\\Users\\keit8223\\AppData\\Local\\Temp\\1\\ipykernel_21680\\1813207608.py:4: SettingWithCopyWarning: \n",
      "A value is trying to be set on a copy of a slice from a DataFrame\n",
      "\n",
      "See the caveats in the documentation: https://pandas.pydata.org/pandas-docs/stable/user_guide/indexing.html#returning-a-view-versus-a-copy\n",
      "  fishhours_select.drop(columns=['date', 'flag', 'geartype', 'hours', 'mmsi_present'], inplace=True)\n"
     ]
    },
    {
     "name": "stdout",
     "output_type": "stream",
     "text": [
      "Starting processing of 2020-09-30.csv...\n",
      "F:\\Global Fishing Watch\\Fishing Intensity\\v2\\fleet-daily\\fleet-daily-csvs-100-v2-2020\\2020-09-30.csv\n",
      "Done with 2020_09_30...\n"
     ]
    },
    {
     "name": "stderr",
     "output_type": "stream",
     "text": [
      "C:\\Users\\keit8223\\AppData\\Local\\Temp\\1\\ipykernel_21680\\959929405.py:5: SettingWithCopyWarning: \n",
      "A value is trying to be set on a copy of a slice from a DataFrame\n",
      "\n",
      "See the caveats in the documentation: https://pandas.pydata.org/pandas-docs/stable/user_guide/indexing.html#returning-a-view-versus-a-copy\n",
      "  hours_select.drop(columns=['date', 'flag', 'geartype', 'fishing_hours', 'mmsi_present'], inplace=True)\n"
     ]
    },
    {
     "name": "stdout",
     "output_type": "stream",
     "text": [
      "3\n"
     ]
    },
    {
     "name": "stderr",
     "output_type": "stream",
     "text": [
      "C:\\Users\\keit8223\\AppData\\Local\\Temp\\1\\ipykernel_21680\\1813207608.py:4: SettingWithCopyWarning: \n",
      "A value is trying to be set on a copy of a slice from a DataFrame\n",
      "\n",
      "See the caveats in the documentation: https://pandas.pydata.org/pandas-docs/stable/user_guide/indexing.html#returning-a-view-versus-a-copy\n",
      "  fishhours_select.drop(columns=['date', 'flag', 'geartype', 'hours', 'mmsi_present'], inplace=True)\n"
     ]
    },
    {
     "name": "stdout",
     "output_type": "stream",
     "text": [
      "Starting processing of 2020-10-01.csv...\n",
      "F:\\Global Fishing Watch\\Fishing Intensity\\v2\\fleet-daily\\fleet-daily-csvs-100-v2-2020\\2020-10-01.csv\n",
      "Done with 2020_10_01...\n"
     ]
    },
    {
     "name": "stderr",
     "output_type": "stream",
     "text": [
      "C:\\Users\\keit8223\\AppData\\Local\\Temp\\1\\ipykernel_21680\\959929405.py:5: SettingWithCopyWarning: \n",
      "A value is trying to be set on a copy of a slice from a DataFrame\n",
      "\n",
      "See the caveats in the documentation: https://pandas.pydata.org/pandas-docs/stable/user_guide/indexing.html#returning-a-view-versus-a-copy\n",
      "  hours_select.drop(columns=['date', 'flag', 'geartype', 'fishing_hours', 'mmsi_present'], inplace=True)\n"
     ]
    },
    {
     "name": "stdout",
     "output_type": "stream",
     "text": [
      "3\n"
     ]
    },
    {
     "name": "stderr",
     "output_type": "stream",
     "text": [
      "C:\\Users\\keit8223\\AppData\\Local\\Temp\\1\\ipykernel_21680\\1813207608.py:4: SettingWithCopyWarning: \n",
      "A value is trying to be set on a copy of a slice from a DataFrame\n",
      "\n",
      "See the caveats in the documentation: https://pandas.pydata.org/pandas-docs/stable/user_guide/indexing.html#returning-a-view-versus-a-copy\n",
      "  fishhours_select.drop(columns=['date', 'flag', 'geartype', 'hours', 'mmsi_present'], inplace=True)\n"
     ]
    },
    {
     "name": "stdout",
     "output_type": "stream",
     "text": [
      "Starting processing of 2020-10-02.csv...\n",
      "F:\\Global Fishing Watch\\Fishing Intensity\\v2\\fleet-daily\\fleet-daily-csvs-100-v2-2020\\2020-10-02.csv\n",
      "Done with 2020_10_02...\n"
     ]
    },
    {
     "name": "stderr",
     "output_type": "stream",
     "text": [
      "C:\\Users\\keit8223\\AppData\\Local\\Temp\\1\\ipykernel_21680\\959929405.py:5: SettingWithCopyWarning: \n",
      "A value is trying to be set on a copy of a slice from a DataFrame\n",
      "\n",
      "See the caveats in the documentation: https://pandas.pydata.org/pandas-docs/stable/user_guide/indexing.html#returning-a-view-versus-a-copy\n",
      "  hours_select.drop(columns=['date', 'flag', 'geartype', 'fishing_hours', 'mmsi_present'], inplace=True)\n"
     ]
    },
    {
     "name": "stdout",
     "output_type": "stream",
     "text": [
      "3\n"
     ]
    },
    {
     "name": "stderr",
     "output_type": "stream",
     "text": [
      "C:\\Users\\keit8223\\AppData\\Local\\Temp\\1\\ipykernel_21680\\1813207608.py:4: SettingWithCopyWarning: \n",
      "A value is trying to be set on a copy of a slice from a DataFrame\n",
      "\n",
      "See the caveats in the documentation: https://pandas.pydata.org/pandas-docs/stable/user_guide/indexing.html#returning-a-view-versus-a-copy\n",
      "  fishhours_select.drop(columns=['date', 'flag', 'geartype', 'hours', 'mmsi_present'], inplace=True)\n"
     ]
    },
    {
     "name": "stdout",
     "output_type": "stream",
     "text": [
      "Starting processing of 2020-10-03.csv...\n",
      "F:\\Global Fishing Watch\\Fishing Intensity\\v2\\fleet-daily\\fleet-daily-csvs-100-v2-2020\\2020-10-03.csv\n",
      "Done with 2020_10_03...\n"
     ]
    },
    {
     "name": "stderr",
     "output_type": "stream",
     "text": [
      "C:\\Users\\keit8223\\AppData\\Local\\Temp\\1\\ipykernel_21680\\959929405.py:5: SettingWithCopyWarning: \n",
      "A value is trying to be set on a copy of a slice from a DataFrame\n",
      "\n",
      "See the caveats in the documentation: https://pandas.pydata.org/pandas-docs/stable/user_guide/indexing.html#returning-a-view-versus-a-copy\n",
      "  hours_select.drop(columns=['date', 'flag', 'geartype', 'fishing_hours', 'mmsi_present'], inplace=True)\n"
     ]
    },
    {
     "name": "stdout",
     "output_type": "stream",
     "text": [
      "3\n"
     ]
    },
    {
     "name": "stderr",
     "output_type": "stream",
     "text": [
      "C:\\Users\\keit8223\\AppData\\Local\\Temp\\1\\ipykernel_21680\\1813207608.py:4: SettingWithCopyWarning: \n",
      "A value is trying to be set on a copy of a slice from a DataFrame\n",
      "\n",
      "See the caveats in the documentation: https://pandas.pydata.org/pandas-docs/stable/user_guide/indexing.html#returning-a-view-versus-a-copy\n",
      "  fishhours_select.drop(columns=['date', 'flag', 'geartype', 'hours', 'mmsi_present'], inplace=True)\n"
     ]
    },
    {
     "name": "stdout",
     "output_type": "stream",
     "text": [
      "Starting processing of 2020-10-04.csv...\n",
      "F:\\Global Fishing Watch\\Fishing Intensity\\v2\\fleet-daily\\fleet-daily-csvs-100-v2-2020\\2020-10-04.csv\n",
      "Done with 2020_10_04...\n"
     ]
    },
    {
     "name": "stderr",
     "output_type": "stream",
     "text": [
      "C:\\Users\\keit8223\\AppData\\Local\\Temp\\1\\ipykernel_21680\\959929405.py:5: SettingWithCopyWarning: \n",
      "A value is trying to be set on a copy of a slice from a DataFrame\n",
      "\n",
      "See the caveats in the documentation: https://pandas.pydata.org/pandas-docs/stable/user_guide/indexing.html#returning-a-view-versus-a-copy\n",
      "  hours_select.drop(columns=['date', 'flag', 'geartype', 'fishing_hours', 'mmsi_present'], inplace=True)\n"
     ]
    },
    {
     "name": "stdout",
     "output_type": "stream",
     "text": [
      "3\n"
     ]
    },
    {
     "name": "stderr",
     "output_type": "stream",
     "text": [
      "C:\\Users\\keit8223\\AppData\\Local\\Temp\\1\\ipykernel_21680\\1813207608.py:4: SettingWithCopyWarning: \n",
      "A value is trying to be set on a copy of a slice from a DataFrame\n",
      "\n",
      "See the caveats in the documentation: https://pandas.pydata.org/pandas-docs/stable/user_guide/indexing.html#returning-a-view-versus-a-copy\n",
      "  fishhours_select.drop(columns=['date', 'flag', 'geartype', 'hours', 'mmsi_present'], inplace=True)\n"
     ]
    },
    {
     "name": "stdout",
     "output_type": "stream",
     "text": [
      "Starting processing of 2020-10-05.csv...\n",
      "F:\\Global Fishing Watch\\Fishing Intensity\\v2\\fleet-daily\\fleet-daily-csvs-100-v2-2020\\2020-10-05.csv\n",
      "Done with 2020_10_05...\n"
     ]
    },
    {
     "name": "stderr",
     "output_type": "stream",
     "text": [
      "C:\\Users\\keit8223\\AppData\\Local\\Temp\\1\\ipykernel_21680\\959929405.py:5: SettingWithCopyWarning: \n",
      "A value is trying to be set on a copy of a slice from a DataFrame\n",
      "\n",
      "See the caveats in the documentation: https://pandas.pydata.org/pandas-docs/stable/user_guide/indexing.html#returning-a-view-versus-a-copy\n",
      "  hours_select.drop(columns=['date', 'flag', 'geartype', 'fishing_hours', 'mmsi_present'], inplace=True)\n"
     ]
    },
    {
     "name": "stdout",
     "output_type": "stream",
     "text": [
      "3\n"
     ]
    },
    {
     "name": "stderr",
     "output_type": "stream",
     "text": [
      "C:\\Users\\keit8223\\AppData\\Local\\Temp\\1\\ipykernel_21680\\1813207608.py:4: SettingWithCopyWarning: \n",
      "A value is trying to be set on a copy of a slice from a DataFrame\n",
      "\n",
      "See the caveats in the documentation: https://pandas.pydata.org/pandas-docs/stable/user_guide/indexing.html#returning-a-view-versus-a-copy\n",
      "  fishhours_select.drop(columns=['date', 'flag', 'geartype', 'hours', 'mmsi_present'], inplace=True)\n"
     ]
    },
    {
     "name": "stdout",
     "output_type": "stream",
     "text": [
      "Starting processing of 2020-10-06.csv...\n",
      "F:\\Global Fishing Watch\\Fishing Intensity\\v2\\fleet-daily\\fleet-daily-csvs-100-v2-2020\\2020-10-06.csv\n",
      "Done with 2020_10_06...\n"
     ]
    },
    {
     "name": "stderr",
     "output_type": "stream",
     "text": [
      "C:\\Users\\keit8223\\AppData\\Local\\Temp\\1\\ipykernel_21680\\959929405.py:5: SettingWithCopyWarning: \n",
      "A value is trying to be set on a copy of a slice from a DataFrame\n",
      "\n",
      "See the caveats in the documentation: https://pandas.pydata.org/pandas-docs/stable/user_guide/indexing.html#returning-a-view-versus-a-copy\n",
      "  hours_select.drop(columns=['date', 'flag', 'geartype', 'fishing_hours', 'mmsi_present'], inplace=True)\n"
     ]
    },
    {
     "name": "stdout",
     "output_type": "stream",
     "text": [
      "3\n"
     ]
    },
    {
     "name": "stderr",
     "output_type": "stream",
     "text": [
      "C:\\Users\\keit8223\\AppData\\Local\\Temp\\1\\ipykernel_21680\\1813207608.py:4: SettingWithCopyWarning: \n",
      "A value is trying to be set on a copy of a slice from a DataFrame\n",
      "\n",
      "See the caveats in the documentation: https://pandas.pydata.org/pandas-docs/stable/user_guide/indexing.html#returning-a-view-versus-a-copy\n",
      "  fishhours_select.drop(columns=['date', 'flag', 'geartype', 'hours', 'mmsi_present'], inplace=True)\n"
     ]
    },
    {
     "name": "stdout",
     "output_type": "stream",
     "text": [
      "Starting processing of 2020-10-07.csv...\n",
      "F:\\Global Fishing Watch\\Fishing Intensity\\v2\\fleet-daily\\fleet-daily-csvs-100-v2-2020\\2020-10-07.csv\n",
      "Done with 2020_10_07...\n"
     ]
    },
    {
     "name": "stderr",
     "output_type": "stream",
     "text": [
      "C:\\Users\\keit8223\\AppData\\Local\\Temp\\1\\ipykernel_21680\\959929405.py:5: SettingWithCopyWarning: \n",
      "A value is trying to be set on a copy of a slice from a DataFrame\n",
      "\n",
      "See the caveats in the documentation: https://pandas.pydata.org/pandas-docs/stable/user_guide/indexing.html#returning-a-view-versus-a-copy\n",
      "  hours_select.drop(columns=['date', 'flag', 'geartype', 'fishing_hours', 'mmsi_present'], inplace=True)\n"
     ]
    },
    {
     "name": "stdout",
     "output_type": "stream",
     "text": [
      "3\n"
     ]
    },
    {
     "name": "stderr",
     "output_type": "stream",
     "text": [
      "C:\\Users\\keit8223\\AppData\\Local\\Temp\\1\\ipykernel_21680\\1813207608.py:4: SettingWithCopyWarning: \n",
      "A value is trying to be set on a copy of a slice from a DataFrame\n",
      "\n",
      "See the caveats in the documentation: https://pandas.pydata.org/pandas-docs/stable/user_guide/indexing.html#returning-a-view-versus-a-copy\n",
      "  fishhours_select.drop(columns=['date', 'flag', 'geartype', 'hours', 'mmsi_present'], inplace=True)\n"
     ]
    },
    {
     "name": "stdout",
     "output_type": "stream",
     "text": [
      "Starting processing of 2020-10-08.csv...\n",
      "F:\\Global Fishing Watch\\Fishing Intensity\\v2\\fleet-daily\\fleet-daily-csvs-100-v2-2020\\2020-10-08.csv\n",
      "Done with 2020_10_08...\n"
     ]
    },
    {
     "name": "stderr",
     "output_type": "stream",
     "text": [
      "C:\\Users\\keit8223\\AppData\\Local\\Temp\\1\\ipykernel_21680\\959929405.py:5: SettingWithCopyWarning: \n",
      "A value is trying to be set on a copy of a slice from a DataFrame\n",
      "\n",
      "See the caveats in the documentation: https://pandas.pydata.org/pandas-docs/stable/user_guide/indexing.html#returning-a-view-versus-a-copy\n",
      "  hours_select.drop(columns=['date', 'flag', 'geartype', 'fishing_hours', 'mmsi_present'], inplace=True)\n"
     ]
    },
    {
     "name": "stdout",
     "output_type": "stream",
     "text": [
      "3\n"
     ]
    },
    {
     "name": "stderr",
     "output_type": "stream",
     "text": [
      "C:\\Users\\keit8223\\AppData\\Local\\Temp\\1\\ipykernel_21680\\1813207608.py:4: SettingWithCopyWarning: \n",
      "A value is trying to be set on a copy of a slice from a DataFrame\n",
      "\n",
      "See the caveats in the documentation: https://pandas.pydata.org/pandas-docs/stable/user_guide/indexing.html#returning-a-view-versus-a-copy\n",
      "  fishhours_select.drop(columns=['date', 'flag', 'geartype', 'hours', 'mmsi_present'], inplace=True)\n"
     ]
    },
    {
     "name": "stdout",
     "output_type": "stream",
     "text": [
      "Starting processing of 2020-10-09.csv...\n",
      "F:\\Global Fishing Watch\\Fishing Intensity\\v2\\fleet-daily\\fleet-daily-csvs-100-v2-2020\\2020-10-09.csv\n",
      "Done with 2020_10_09...\n"
     ]
    },
    {
     "name": "stderr",
     "output_type": "stream",
     "text": [
      "C:\\Users\\keit8223\\AppData\\Local\\Temp\\1\\ipykernel_21680\\959929405.py:5: SettingWithCopyWarning: \n",
      "A value is trying to be set on a copy of a slice from a DataFrame\n",
      "\n",
      "See the caveats in the documentation: https://pandas.pydata.org/pandas-docs/stable/user_guide/indexing.html#returning-a-view-versus-a-copy\n",
      "  hours_select.drop(columns=['date', 'flag', 'geartype', 'fishing_hours', 'mmsi_present'], inplace=True)\n"
     ]
    },
    {
     "name": "stdout",
     "output_type": "stream",
     "text": [
      "3\n"
     ]
    },
    {
     "name": "stderr",
     "output_type": "stream",
     "text": [
      "C:\\Users\\keit8223\\AppData\\Local\\Temp\\1\\ipykernel_21680\\1813207608.py:4: SettingWithCopyWarning: \n",
      "A value is trying to be set on a copy of a slice from a DataFrame\n",
      "\n",
      "See the caveats in the documentation: https://pandas.pydata.org/pandas-docs/stable/user_guide/indexing.html#returning-a-view-versus-a-copy\n",
      "  fishhours_select.drop(columns=['date', 'flag', 'geartype', 'hours', 'mmsi_present'], inplace=True)\n"
     ]
    },
    {
     "name": "stdout",
     "output_type": "stream",
     "text": [
      "Starting processing of 2020-10-10.csv...\n",
      "F:\\Global Fishing Watch\\Fishing Intensity\\v2\\fleet-daily\\fleet-daily-csvs-100-v2-2020\\2020-10-10.csv\n",
      "Done with 2020_10_10...\n"
     ]
    },
    {
     "name": "stderr",
     "output_type": "stream",
     "text": [
      "C:\\Users\\keit8223\\AppData\\Local\\Temp\\1\\ipykernel_21680\\959929405.py:5: SettingWithCopyWarning: \n",
      "A value is trying to be set on a copy of a slice from a DataFrame\n",
      "\n",
      "See the caveats in the documentation: https://pandas.pydata.org/pandas-docs/stable/user_guide/indexing.html#returning-a-view-versus-a-copy\n",
      "  hours_select.drop(columns=['date', 'flag', 'geartype', 'fishing_hours', 'mmsi_present'], inplace=True)\n"
     ]
    },
    {
     "name": "stdout",
     "output_type": "stream",
     "text": [
      "3\n"
     ]
    },
    {
     "name": "stderr",
     "output_type": "stream",
     "text": [
      "C:\\Users\\keit8223\\AppData\\Local\\Temp\\1\\ipykernel_21680\\1813207608.py:4: SettingWithCopyWarning: \n",
      "A value is trying to be set on a copy of a slice from a DataFrame\n",
      "\n",
      "See the caveats in the documentation: https://pandas.pydata.org/pandas-docs/stable/user_guide/indexing.html#returning-a-view-versus-a-copy\n",
      "  fishhours_select.drop(columns=['date', 'flag', 'geartype', 'hours', 'mmsi_present'], inplace=True)\n"
     ]
    },
    {
     "name": "stdout",
     "output_type": "stream",
     "text": [
      "Starting processing of 2020-10-11.csv...\n",
      "F:\\Global Fishing Watch\\Fishing Intensity\\v2\\fleet-daily\\fleet-daily-csvs-100-v2-2020\\2020-10-11.csv\n",
      "Done with 2020_10_11...\n"
     ]
    },
    {
     "name": "stderr",
     "output_type": "stream",
     "text": [
      "C:\\Users\\keit8223\\AppData\\Local\\Temp\\1\\ipykernel_21680\\959929405.py:5: SettingWithCopyWarning: \n",
      "A value is trying to be set on a copy of a slice from a DataFrame\n",
      "\n",
      "See the caveats in the documentation: https://pandas.pydata.org/pandas-docs/stable/user_guide/indexing.html#returning-a-view-versus-a-copy\n",
      "  hours_select.drop(columns=['date', 'flag', 'geartype', 'fishing_hours', 'mmsi_present'], inplace=True)\n"
     ]
    },
    {
     "name": "stdout",
     "output_type": "stream",
     "text": [
      "3\n"
     ]
    },
    {
     "name": "stderr",
     "output_type": "stream",
     "text": [
      "C:\\Users\\keit8223\\AppData\\Local\\Temp\\1\\ipykernel_21680\\1813207608.py:4: SettingWithCopyWarning: \n",
      "A value is trying to be set on a copy of a slice from a DataFrame\n",
      "\n",
      "See the caveats in the documentation: https://pandas.pydata.org/pandas-docs/stable/user_guide/indexing.html#returning-a-view-versus-a-copy\n",
      "  fishhours_select.drop(columns=['date', 'flag', 'geartype', 'hours', 'mmsi_present'], inplace=True)\n"
     ]
    },
    {
     "name": "stdout",
     "output_type": "stream",
     "text": [
      "Starting processing of 2020-10-12.csv...\n",
      "F:\\Global Fishing Watch\\Fishing Intensity\\v2\\fleet-daily\\fleet-daily-csvs-100-v2-2020\\2020-10-12.csv\n",
      "Done with 2020_10_12...\n"
     ]
    },
    {
     "name": "stderr",
     "output_type": "stream",
     "text": [
      "C:\\Users\\keit8223\\AppData\\Local\\Temp\\1\\ipykernel_21680\\959929405.py:5: SettingWithCopyWarning: \n",
      "A value is trying to be set on a copy of a slice from a DataFrame\n",
      "\n",
      "See the caveats in the documentation: https://pandas.pydata.org/pandas-docs/stable/user_guide/indexing.html#returning-a-view-versus-a-copy\n",
      "  hours_select.drop(columns=['date', 'flag', 'geartype', 'fishing_hours', 'mmsi_present'], inplace=True)\n"
     ]
    },
    {
     "name": "stdout",
     "output_type": "stream",
     "text": [
      "3\n"
     ]
    },
    {
     "name": "stderr",
     "output_type": "stream",
     "text": [
      "C:\\Users\\keit8223\\AppData\\Local\\Temp\\1\\ipykernel_21680\\1813207608.py:4: SettingWithCopyWarning: \n",
      "A value is trying to be set on a copy of a slice from a DataFrame\n",
      "\n",
      "See the caveats in the documentation: https://pandas.pydata.org/pandas-docs/stable/user_guide/indexing.html#returning-a-view-versus-a-copy\n",
      "  fishhours_select.drop(columns=['date', 'flag', 'geartype', 'hours', 'mmsi_present'], inplace=True)\n"
     ]
    },
    {
     "name": "stdout",
     "output_type": "stream",
     "text": [
      "Starting processing of 2020-10-13.csv...\n",
      "F:\\Global Fishing Watch\\Fishing Intensity\\v2\\fleet-daily\\fleet-daily-csvs-100-v2-2020\\2020-10-13.csv\n",
      "Done with 2020_10_13...\n"
     ]
    },
    {
     "name": "stderr",
     "output_type": "stream",
     "text": [
      "C:\\Users\\keit8223\\AppData\\Local\\Temp\\1\\ipykernel_21680\\959929405.py:5: SettingWithCopyWarning: \n",
      "A value is trying to be set on a copy of a slice from a DataFrame\n",
      "\n",
      "See the caveats in the documentation: https://pandas.pydata.org/pandas-docs/stable/user_guide/indexing.html#returning-a-view-versus-a-copy\n",
      "  hours_select.drop(columns=['date', 'flag', 'geartype', 'fishing_hours', 'mmsi_present'], inplace=True)\n"
     ]
    },
    {
     "name": "stdout",
     "output_type": "stream",
     "text": [
      "3\n"
     ]
    },
    {
     "name": "stderr",
     "output_type": "stream",
     "text": [
      "C:\\Users\\keit8223\\AppData\\Local\\Temp\\1\\ipykernel_21680\\1813207608.py:4: SettingWithCopyWarning: \n",
      "A value is trying to be set on a copy of a slice from a DataFrame\n",
      "\n",
      "See the caveats in the documentation: https://pandas.pydata.org/pandas-docs/stable/user_guide/indexing.html#returning-a-view-versus-a-copy\n",
      "  fishhours_select.drop(columns=['date', 'flag', 'geartype', 'hours', 'mmsi_present'], inplace=True)\n"
     ]
    },
    {
     "name": "stdout",
     "output_type": "stream",
     "text": [
      "Starting processing of 2020-10-14.csv...\n",
      "F:\\Global Fishing Watch\\Fishing Intensity\\v2\\fleet-daily\\fleet-daily-csvs-100-v2-2020\\2020-10-14.csv\n",
      "Done with 2020_10_14...\n"
     ]
    },
    {
     "name": "stderr",
     "output_type": "stream",
     "text": [
      "C:\\Users\\keit8223\\AppData\\Local\\Temp\\1\\ipykernel_21680\\959929405.py:5: SettingWithCopyWarning: \n",
      "A value is trying to be set on a copy of a slice from a DataFrame\n",
      "\n",
      "See the caveats in the documentation: https://pandas.pydata.org/pandas-docs/stable/user_guide/indexing.html#returning-a-view-versus-a-copy\n",
      "  hours_select.drop(columns=['date', 'flag', 'geartype', 'fishing_hours', 'mmsi_present'], inplace=True)\n"
     ]
    },
    {
     "name": "stdout",
     "output_type": "stream",
     "text": [
      "3\n"
     ]
    },
    {
     "name": "stderr",
     "output_type": "stream",
     "text": [
      "C:\\Users\\keit8223\\AppData\\Local\\Temp\\1\\ipykernel_21680\\1813207608.py:4: SettingWithCopyWarning: \n",
      "A value is trying to be set on a copy of a slice from a DataFrame\n",
      "\n",
      "See the caveats in the documentation: https://pandas.pydata.org/pandas-docs/stable/user_guide/indexing.html#returning-a-view-versus-a-copy\n",
      "  fishhours_select.drop(columns=['date', 'flag', 'geartype', 'hours', 'mmsi_present'], inplace=True)\n"
     ]
    },
    {
     "name": "stdout",
     "output_type": "stream",
     "text": [
      "Starting processing of 2020-10-15.csv...\n",
      "F:\\Global Fishing Watch\\Fishing Intensity\\v2\\fleet-daily\\fleet-daily-csvs-100-v2-2020\\2020-10-15.csv\n",
      "Done with 2020_10_15...\n"
     ]
    },
    {
     "name": "stderr",
     "output_type": "stream",
     "text": [
      "C:\\Users\\keit8223\\AppData\\Local\\Temp\\1\\ipykernel_21680\\959929405.py:5: SettingWithCopyWarning: \n",
      "A value is trying to be set on a copy of a slice from a DataFrame\n",
      "\n",
      "See the caveats in the documentation: https://pandas.pydata.org/pandas-docs/stable/user_guide/indexing.html#returning-a-view-versus-a-copy\n",
      "  hours_select.drop(columns=['date', 'flag', 'geartype', 'fishing_hours', 'mmsi_present'], inplace=True)\n"
     ]
    },
    {
     "name": "stdout",
     "output_type": "stream",
     "text": [
      "3\n"
     ]
    },
    {
     "name": "stderr",
     "output_type": "stream",
     "text": [
      "C:\\Users\\keit8223\\AppData\\Local\\Temp\\1\\ipykernel_21680\\1813207608.py:4: SettingWithCopyWarning: \n",
      "A value is trying to be set on a copy of a slice from a DataFrame\n",
      "\n",
      "See the caveats in the documentation: https://pandas.pydata.org/pandas-docs/stable/user_guide/indexing.html#returning-a-view-versus-a-copy\n",
      "  fishhours_select.drop(columns=['date', 'flag', 'geartype', 'hours', 'mmsi_present'], inplace=True)\n"
     ]
    },
    {
     "name": "stdout",
     "output_type": "stream",
     "text": [
      "Starting processing of 2020-10-16.csv...\n",
      "F:\\Global Fishing Watch\\Fishing Intensity\\v2\\fleet-daily\\fleet-daily-csvs-100-v2-2020\\2020-10-16.csv\n",
      "Done with 2020_10_16...\n"
     ]
    },
    {
     "name": "stderr",
     "output_type": "stream",
     "text": [
      "C:\\Users\\keit8223\\AppData\\Local\\Temp\\1\\ipykernel_21680\\959929405.py:5: SettingWithCopyWarning: \n",
      "A value is trying to be set on a copy of a slice from a DataFrame\n",
      "\n",
      "See the caveats in the documentation: https://pandas.pydata.org/pandas-docs/stable/user_guide/indexing.html#returning-a-view-versus-a-copy\n",
      "  hours_select.drop(columns=['date', 'flag', 'geartype', 'fishing_hours', 'mmsi_present'], inplace=True)\n"
     ]
    },
    {
     "name": "stdout",
     "output_type": "stream",
     "text": [
      "3\n"
     ]
    },
    {
     "name": "stderr",
     "output_type": "stream",
     "text": [
      "C:\\Users\\keit8223\\AppData\\Local\\Temp\\1\\ipykernel_21680\\1813207608.py:4: SettingWithCopyWarning: \n",
      "A value is trying to be set on a copy of a slice from a DataFrame\n",
      "\n",
      "See the caveats in the documentation: https://pandas.pydata.org/pandas-docs/stable/user_guide/indexing.html#returning-a-view-versus-a-copy\n",
      "  fishhours_select.drop(columns=['date', 'flag', 'geartype', 'hours', 'mmsi_present'], inplace=True)\n"
     ]
    },
    {
     "name": "stdout",
     "output_type": "stream",
     "text": [
      "Starting processing of 2020-10-17.csv...\n",
      "F:\\Global Fishing Watch\\Fishing Intensity\\v2\\fleet-daily\\fleet-daily-csvs-100-v2-2020\\2020-10-17.csv\n",
      "Done with 2020_10_17...\n"
     ]
    },
    {
     "name": "stderr",
     "output_type": "stream",
     "text": [
      "C:\\Users\\keit8223\\AppData\\Local\\Temp\\1\\ipykernel_21680\\959929405.py:5: SettingWithCopyWarning: \n",
      "A value is trying to be set on a copy of a slice from a DataFrame\n",
      "\n",
      "See the caveats in the documentation: https://pandas.pydata.org/pandas-docs/stable/user_guide/indexing.html#returning-a-view-versus-a-copy\n",
      "  hours_select.drop(columns=['date', 'flag', 'geartype', 'fishing_hours', 'mmsi_present'], inplace=True)\n"
     ]
    },
    {
     "name": "stdout",
     "output_type": "stream",
     "text": [
      "3\n"
     ]
    },
    {
     "name": "stderr",
     "output_type": "stream",
     "text": [
      "C:\\Users\\keit8223\\AppData\\Local\\Temp\\1\\ipykernel_21680\\1813207608.py:4: SettingWithCopyWarning: \n",
      "A value is trying to be set on a copy of a slice from a DataFrame\n",
      "\n",
      "See the caveats in the documentation: https://pandas.pydata.org/pandas-docs/stable/user_guide/indexing.html#returning-a-view-versus-a-copy\n",
      "  fishhours_select.drop(columns=['date', 'flag', 'geartype', 'hours', 'mmsi_present'], inplace=True)\n"
     ]
    },
    {
     "name": "stdout",
     "output_type": "stream",
     "text": [
      "Starting processing of 2020-10-18.csv...\n",
      "F:\\Global Fishing Watch\\Fishing Intensity\\v2\\fleet-daily\\fleet-daily-csvs-100-v2-2020\\2020-10-18.csv\n",
      "Done with 2020_10_18...\n"
     ]
    },
    {
     "name": "stderr",
     "output_type": "stream",
     "text": [
      "C:\\Users\\keit8223\\AppData\\Local\\Temp\\1\\ipykernel_21680\\959929405.py:5: SettingWithCopyWarning: \n",
      "A value is trying to be set on a copy of a slice from a DataFrame\n",
      "\n",
      "See the caveats in the documentation: https://pandas.pydata.org/pandas-docs/stable/user_guide/indexing.html#returning-a-view-versus-a-copy\n",
      "  hours_select.drop(columns=['date', 'flag', 'geartype', 'fishing_hours', 'mmsi_present'], inplace=True)\n"
     ]
    },
    {
     "name": "stdout",
     "output_type": "stream",
     "text": [
      "3\n"
     ]
    },
    {
     "name": "stderr",
     "output_type": "stream",
     "text": [
      "C:\\Users\\keit8223\\AppData\\Local\\Temp\\1\\ipykernel_21680\\1813207608.py:4: SettingWithCopyWarning: \n",
      "A value is trying to be set on a copy of a slice from a DataFrame\n",
      "\n",
      "See the caveats in the documentation: https://pandas.pydata.org/pandas-docs/stable/user_guide/indexing.html#returning-a-view-versus-a-copy\n",
      "  fishhours_select.drop(columns=['date', 'flag', 'geartype', 'hours', 'mmsi_present'], inplace=True)\n"
     ]
    },
    {
     "name": "stdout",
     "output_type": "stream",
     "text": [
      "Starting processing of 2020-10-19.csv...\n",
      "F:\\Global Fishing Watch\\Fishing Intensity\\v2\\fleet-daily\\fleet-daily-csvs-100-v2-2020\\2020-10-19.csv\n",
      "Done with 2020_10_19...\n"
     ]
    },
    {
     "name": "stderr",
     "output_type": "stream",
     "text": [
      "C:\\Users\\keit8223\\AppData\\Local\\Temp\\1\\ipykernel_21680\\959929405.py:5: SettingWithCopyWarning: \n",
      "A value is trying to be set on a copy of a slice from a DataFrame\n",
      "\n",
      "See the caveats in the documentation: https://pandas.pydata.org/pandas-docs/stable/user_guide/indexing.html#returning-a-view-versus-a-copy\n",
      "  hours_select.drop(columns=['date', 'flag', 'geartype', 'fishing_hours', 'mmsi_present'], inplace=True)\n"
     ]
    },
    {
     "name": "stdout",
     "output_type": "stream",
     "text": [
      "3\n"
     ]
    },
    {
     "name": "stderr",
     "output_type": "stream",
     "text": [
      "C:\\Users\\keit8223\\AppData\\Local\\Temp\\1\\ipykernel_21680\\1813207608.py:4: SettingWithCopyWarning: \n",
      "A value is trying to be set on a copy of a slice from a DataFrame\n",
      "\n",
      "See the caveats in the documentation: https://pandas.pydata.org/pandas-docs/stable/user_guide/indexing.html#returning-a-view-versus-a-copy\n",
      "  fishhours_select.drop(columns=['date', 'flag', 'geartype', 'hours', 'mmsi_present'], inplace=True)\n"
     ]
    },
    {
     "name": "stdout",
     "output_type": "stream",
     "text": [
      "Starting processing of 2020-10-20.csv...\n",
      "F:\\Global Fishing Watch\\Fishing Intensity\\v2\\fleet-daily\\fleet-daily-csvs-100-v2-2020\\2020-10-20.csv\n",
      "Done with 2020_10_20...\n"
     ]
    },
    {
     "name": "stderr",
     "output_type": "stream",
     "text": [
      "C:\\Users\\keit8223\\AppData\\Local\\Temp\\1\\ipykernel_21680\\959929405.py:5: SettingWithCopyWarning: \n",
      "A value is trying to be set on a copy of a slice from a DataFrame\n",
      "\n",
      "See the caveats in the documentation: https://pandas.pydata.org/pandas-docs/stable/user_guide/indexing.html#returning-a-view-versus-a-copy\n",
      "  hours_select.drop(columns=['date', 'flag', 'geartype', 'fishing_hours', 'mmsi_present'], inplace=True)\n"
     ]
    },
    {
     "name": "stdout",
     "output_type": "stream",
     "text": [
      "3\n"
     ]
    },
    {
     "name": "stderr",
     "output_type": "stream",
     "text": [
      "C:\\Users\\keit8223\\AppData\\Local\\Temp\\1\\ipykernel_21680\\1813207608.py:4: SettingWithCopyWarning: \n",
      "A value is trying to be set on a copy of a slice from a DataFrame\n",
      "\n",
      "See the caveats in the documentation: https://pandas.pydata.org/pandas-docs/stable/user_guide/indexing.html#returning-a-view-versus-a-copy\n",
      "  fishhours_select.drop(columns=['date', 'flag', 'geartype', 'hours', 'mmsi_present'], inplace=True)\n"
     ]
    },
    {
     "name": "stdout",
     "output_type": "stream",
     "text": [
      "Starting processing of 2020-10-21.csv...\n",
      "F:\\Global Fishing Watch\\Fishing Intensity\\v2\\fleet-daily\\fleet-daily-csvs-100-v2-2020\\2020-10-21.csv\n",
      "Done with 2020_10_21...\n"
     ]
    },
    {
     "name": "stderr",
     "output_type": "stream",
     "text": [
      "C:\\Users\\keit8223\\AppData\\Local\\Temp\\1\\ipykernel_21680\\959929405.py:5: SettingWithCopyWarning: \n",
      "A value is trying to be set on a copy of a slice from a DataFrame\n",
      "\n",
      "See the caveats in the documentation: https://pandas.pydata.org/pandas-docs/stable/user_guide/indexing.html#returning-a-view-versus-a-copy\n",
      "  hours_select.drop(columns=['date', 'flag', 'geartype', 'fishing_hours', 'mmsi_present'], inplace=True)\n"
     ]
    },
    {
     "name": "stdout",
     "output_type": "stream",
     "text": [
      "3\n"
     ]
    },
    {
     "name": "stderr",
     "output_type": "stream",
     "text": [
      "C:\\Users\\keit8223\\AppData\\Local\\Temp\\1\\ipykernel_21680\\1813207608.py:4: SettingWithCopyWarning: \n",
      "A value is trying to be set on a copy of a slice from a DataFrame\n",
      "\n",
      "See the caveats in the documentation: https://pandas.pydata.org/pandas-docs/stable/user_guide/indexing.html#returning-a-view-versus-a-copy\n",
      "  fishhours_select.drop(columns=['date', 'flag', 'geartype', 'hours', 'mmsi_present'], inplace=True)\n"
     ]
    },
    {
     "name": "stdout",
     "output_type": "stream",
     "text": [
      "Starting processing of 2020-10-22.csv...\n",
      "F:\\Global Fishing Watch\\Fishing Intensity\\v2\\fleet-daily\\fleet-daily-csvs-100-v2-2020\\2020-10-22.csv\n",
      "Done with 2020_10_22...\n"
     ]
    },
    {
     "name": "stderr",
     "output_type": "stream",
     "text": [
      "C:\\Users\\keit8223\\AppData\\Local\\Temp\\1\\ipykernel_21680\\959929405.py:5: SettingWithCopyWarning: \n",
      "A value is trying to be set on a copy of a slice from a DataFrame\n",
      "\n",
      "See the caveats in the documentation: https://pandas.pydata.org/pandas-docs/stable/user_guide/indexing.html#returning-a-view-versus-a-copy\n",
      "  hours_select.drop(columns=['date', 'flag', 'geartype', 'fishing_hours', 'mmsi_present'], inplace=True)\n"
     ]
    },
    {
     "name": "stdout",
     "output_type": "stream",
     "text": [
      "3\n"
     ]
    },
    {
     "name": "stderr",
     "output_type": "stream",
     "text": [
      "C:\\Users\\keit8223\\AppData\\Local\\Temp\\1\\ipykernel_21680\\1813207608.py:4: SettingWithCopyWarning: \n",
      "A value is trying to be set on a copy of a slice from a DataFrame\n",
      "\n",
      "See the caveats in the documentation: https://pandas.pydata.org/pandas-docs/stable/user_guide/indexing.html#returning-a-view-versus-a-copy\n",
      "  fishhours_select.drop(columns=['date', 'flag', 'geartype', 'hours', 'mmsi_present'], inplace=True)\n"
     ]
    },
    {
     "name": "stdout",
     "output_type": "stream",
     "text": [
      "Starting processing of 2020-10-23.csv...\n",
      "F:\\Global Fishing Watch\\Fishing Intensity\\v2\\fleet-daily\\fleet-daily-csvs-100-v2-2020\\2020-10-23.csv\n",
      "Done with 2020_10_23...\n"
     ]
    },
    {
     "name": "stderr",
     "output_type": "stream",
     "text": [
      "C:\\Users\\keit8223\\AppData\\Local\\Temp\\1\\ipykernel_21680\\959929405.py:5: SettingWithCopyWarning: \n",
      "A value is trying to be set on a copy of a slice from a DataFrame\n",
      "\n",
      "See the caveats in the documentation: https://pandas.pydata.org/pandas-docs/stable/user_guide/indexing.html#returning-a-view-versus-a-copy\n",
      "  hours_select.drop(columns=['date', 'flag', 'geartype', 'fishing_hours', 'mmsi_present'], inplace=True)\n"
     ]
    },
    {
     "name": "stdout",
     "output_type": "stream",
     "text": [
      "3\n"
     ]
    },
    {
     "name": "stderr",
     "output_type": "stream",
     "text": [
      "C:\\Users\\keit8223\\AppData\\Local\\Temp\\1\\ipykernel_21680\\1813207608.py:4: SettingWithCopyWarning: \n",
      "A value is trying to be set on a copy of a slice from a DataFrame\n",
      "\n",
      "See the caveats in the documentation: https://pandas.pydata.org/pandas-docs/stable/user_guide/indexing.html#returning-a-view-versus-a-copy\n",
      "  fishhours_select.drop(columns=['date', 'flag', 'geartype', 'hours', 'mmsi_present'], inplace=True)\n"
     ]
    },
    {
     "name": "stdout",
     "output_type": "stream",
     "text": [
      "Starting processing of 2020-10-24.csv...\n",
      "F:\\Global Fishing Watch\\Fishing Intensity\\v2\\fleet-daily\\fleet-daily-csvs-100-v2-2020\\2020-10-24.csv\n",
      "Done with 2020_10_24...\n"
     ]
    },
    {
     "name": "stderr",
     "output_type": "stream",
     "text": [
      "C:\\Users\\keit8223\\AppData\\Local\\Temp\\1\\ipykernel_21680\\959929405.py:5: SettingWithCopyWarning: \n",
      "A value is trying to be set on a copy of a slice from a DataFrame\n",
      "\n",
      "See the caveats in the documentation: https://pandas.pydata.org/pandas-docs/stable/user_guide/indexing.html#returning-a-view-versus-a-copy\n",
      "  hours_select.drop(columns=['date', 'flag', 'geartype', 'fishing_hours', 'mmsi_present'], inplace=True)\n"
     ]
    },
    {
     "name": "stdout",
     "output_type": "stream",
     "text": [
      "3\n"
     ]
    },
    {
     "name": "stderr",
     "output_type": "stream",
     "text": [
      "C:\\Users\\keit8223\\AppData\\Local\\Temp\\1\\ipykernel_21680\\1813207608.py:4: SettingWithCopyWarning: \n",
      "A value is trying to be set on a copy of a slice from a DataFrame\n",
      "\n",
      "See the caveats in the documentation: https://pandas.pydata.org/pandas-docs/stable/user_guide/indexing.html#returning-a-view-versus-a-copy\n",
      "  fishhours_select.drop(columns=['date', 'flag', 'geartype', 'hours', 'mmsi_present'], inplace=True)\n"
     ]
    },
    {
     "name": "stdout",
     "output_type": "stream",
     "text": [
      "Starting processing of 2020-10-25.csv...\n",
      "F:\\Global Fishing Watch\\Fishing Intensity\\v2\\fleet-daily\\fleet-daily-csvs-100-v2-2020\\2020-10-25.csv\n",
      "Done with 2020_10_25...\n"
     ]
    },
    {
     "name": "stderr",
     "output_type": "stream",
     "text": [
      "C:\\Users\\keit8223\\AppData\\Local\\Temp\\1\\ipykernel_21680\\959929405.py:5: SettingWithCopyWarning: \n",
      "A value is trying to be set on a copy of a slice from a DataFrame\n",
      "\n",
      "See the caveats in the documentation: https://pandas.pydata.org/pandas-docs/stable/user_guide/indexing.html#returning-a-view-versus-a-copy\n",
      "  hours_select.drop(columns=['date', 'flag', 'geartype', 'fishing_hours', 'mmsi_present'], inplace=True)\n"
     ]
    },
    {
     "name": "stdout",
     "output_type": "stream",
     "text": [
      "3\n"
     ]
    },
    {
     "name": "stderr",
     "output_type": "stream",
     "text": [
      "C:\\Users\\keit8223\\AppData\\Local\\Temp\\1\\ipykernel_21680\\1813207608.py:4: SettingWithCopyWarning: \n",
      "A value is trying to be set on a copy of a slice from a DataFrame\n",
      "\n",
      "See the caveats in the documentation: https://pandas.pydata.org/pandas-docs/stable/user_guide/indexing.html#returning-a-view-versus-a-copy\n",
      "  fishhours_select.drop(columns=['date', 'flag', 'geartype', 'hours', 'mmsi_present'], inplace=True)\n"
     ]
    },
    {
     "name": "stdout",
     "output_type": "stream",
     "text": [
      "Starting processing of 2020-10-26.csv...\n",
      "F:\\Global Fishing Watch\\Fishing Intensity\\v2\\fleet-daily\\fleet-daily-csvs-100-v2-2020\\2020-10-26.csv\n",
      "Done with 2020_10_26...\n"
     ]
    },
    {
     "name": "stderr",
     "output_type": "stream",
     "text": [
      "C:\\Users\\keit8223\\AppData\\Local\\Temp\\1\\ipykernel_21680\\959929405.py:5: SettingWithCopyWarning: \n",
      "A value is trying to be set on a copy of a slice from a DataFrame\n",
      "\n",
      "See the caveats in the documentation: https://pandas.pydata.org/pandas-docs/stable/user_guide/indexing.html#returning-a-view-versus-a-copy\n",
      "  hours_select.drop(columns=['date', 'flag', 'geartype', 'fishing_hours', 'mmsi_present'], inplace=True)\n"
     ]
    },
    {
     "name": "stdout",
     "output_type": "stream",
     "text": [
      "3\n"
     ]
    },
    {
     "name": "stderr",
     "output_type": "stream",
     "text": [
      "C:\\Users\\keit8223\\AppData\\Local\\Temp\\1\\ipykernel_21680\\1813207608.py:4: SettingWithCopyWarning: \n",
      "A value is trying to be set on a copy of a slice from a DataFrame\n",
      "\n",
      "See the caveats in the documentation: https://pandas.pydata.org/pandas-docs/stable/user_guide/indexing.html#returning-a-view-versus-a-copy\n",
      "  fishhours_select.drop(columns=['date', 'flag', 'geartype', 'hours', 'mmsi_present'], inplace=True)\n"
     ]
    },
    {
     "name": "stdout",
     "output_type": "stream",
     "text": [
      "Starting processing of 2020-10-27.csv...\n",
      "F:\\Global Fishing Watch\\Fishing Intensity\\v2\\fleet-daily\\fleet-daily-csvs-100-v2-2020\\2020-10-27.csv\n",
      "Done with 2020_10_27...\n"
     ]
    },
    {
     "name": "stderr",
     "output_type": "stream",
     "text": [
      "C:\\Users\\keit8223\\AppData\\Local\\Temp\\1\\ipykernel_21680\\959929405.py:5: SettingWithCopyWarning: \n",
      "A value is trying to be set on a copy of a slice from a DataFrame\n",
      "\n",
      "See the caveats in the documentation: https://pandas.pydata.org/pandas-docs/stable/user_guide/indexing.html#returning-a-view-versus-a-copy\n",
      "  hours_select.drop(columns=['date', 'flag', 'geartype', 'fishing_hours', 'mmsi_present'], inplace=True)\n"
     ]
    },
    {
     "name": "stdout",
     "output_type": "stream",
     "text": [
      "3\n"
     ]
    },
    {
     "name": "stderr",
     "output_type": "stream",
     "text": [
      "C:\\Users\\keit8223\\AppData\\Local\\Temp\\1\\ipykernel_21680\\1813207608.py:4: SettingWithCopyWarning: \n",
      "A value is trying to be set on a copy of a slice from a DataFrame\n",
      "\n",
      "See the caveats in the documentation: https://pandas.pydata.org/pandas-docs/stable/user_guide/indexing.html#returning-a-view-versus-a-copy\n",
      "  fishhours_select.drop(columns=['date', 'flag', 'geartype', 'hours', 'mmsi_present'], inplace=True)\n"
     ]
    },
    {
     "name": "stdout",
     "output_type": "stream",
     "text": [
      "Starting processing of 2020-10-28.csv...\n",
      "F:\\Global Fishing Watch\\Fishing Intensity\\v2\\fleet-daily\\fleet-daily-csvs-100-v2-2020\\2020-10-28.csv\n",
      "Done with 2020_10_28...\n"
     ]
    },
    {
     "name": "stderr",
     "output_type": "stream",
     "text": [
      "C:\\Users\\keit8223\\AppData\\Local\\Temp\\1\\ipykernel_21680\\959929405.py:5: SettingWithCopyWarning: \n",
      "A value is trying to be set on a copy of a slice from a DataFrame\n",
      "\n",
      "See the caveats in the documentation: https://pandas.pydata.org/pandas-docs/stable/user_guide/indexing.html#returning-a-view-versus-a-copy\n",
      "  hours_select.drop(columns=['date', 'flag', 'geartype', 'fishing_hours', 'mmsi_present'], inplace=True)\n"
     ]
    },
    {
     "name": "stdout",
     "output_type": "stream",
     "text": [
      "3\n"
     ]
    },
    {
     "name": "stderr",
     "output_type": "stream",
     "text": [
      "C:\\Users\\keit8223\\AppData\\Local\\Temp\\1\\ipykernel_21680\\1813207608.py:4: SettingWithCopyWarning: \n",
      "A value is trying to be set on a copy of a slice from a DataFrame\n",
      "\n",
      "See the caveats in the documentation: https://pandas.pydata.org/pandas-docs/stable/user_guide/indexing.html#returning-a-view-versus-a-copy\n",
      "  fishhours_select.drop(columns=['date', 'flag', 'geartype', 'hours', 'mmsi_present'], inplace=True)\n"
     ]
    },
    {
     "name": "stdout",
     "output_type": "stream",
     "text": [
      "Starting processing of 2020-10-29.csv...\n",
      "F:\\Global Fishing Watch\\Fishing Intensity\\v2\\fleet-daily\\fleet-daily-csvs-100-v2-2020\\2020-10-29.csv\n",
      "Done with 2020_10_29...\n"
     ]
    },
    {
     "name": "stderr",
     "output_type": "stream",
     "text": [
      "C:\\Users\\keit8223\\AppData\\Local\\Temp\\1\\ipykernel_21680\\959929405.py:5: SettingWithCopyWarning: \n",
      "A value is trying to be set on a copy of a slice from a DataFrame\n",
      "\n",
      "See the caveats in the documentation: https://pandas.pydata.org/pandas-docs/stable/user_guide/indexing.html#returning-a-view-versus-a-copy\n",
      "  hours_select.drop(columns=['date', 'flag', 'geartype', 'fishing_hours', 'mmsi_present'], inplace=True)\n"
     ]
    },
    {
     "name": "stdout",
     "output_type": "stream",
     "text": [
      "3\n"
     ]
    },
    {
     "name": "stderr",
     "output_type": "stream",
     "text": [
      "C:\\Users\\keit8223\\AppData\\Local\\Temp\\1\\ipykernel_21680\\1813207608.py:4: SettingWithCopyWarning: \n",
      "A value is trying to be set on a copy of a slice from a DataFrame\n",
      "\n",
      "See the caveats in the documentation: https://pandas.pydata.org/pandas-docs/stable/user_guide/indexing.html#returning-a-view-versus-a-copy\n",
      "  fishhours_select.drop(columns=['date', 'flag', 'geartype', 'hours', 'mmsi_present'], inplace=True)\n"
     ]
    },
    {
     "name": "stdout",
     "output_type": "stream",
     "text": [
      "Starting processing of 2020-10-30.csv...\n",
      "F:\\Global Fishing Watch\\Fishing Intensity\\v2\\fleet-daily\\fleet-daily-csvs-100-v2-2020\\2020-10-30.csv\n",
      "Done with 2020_10_30...\n"
     ]
    },
    {
     "name": "stderr",
     "output_type": "stream",
     "text": [
      "C:\\Users\\keit8223\\AppData\\Local\\Temp\\1\\ipykernel_21680\\959929405.py:5: SettingWithCopyWarning: \n",
      "A value is trying to be set on a copy of a slice from a DataFrame\n",
      "\n",
      "See the caveats in the documentation: https://pandas.pydata.org/pandas-docs/stable/user_guide/indexing.html#returning-a-view-versus-a-copy\n",
      "  hours_select.drop(columns=['date', 'flag', 'geartype', 'fishing_hours', 'mmsi_present'], inplace=True)\n"
     ]
    },
    {
     "name": "stdout",
     "output_type": "stream",
     "text": [
      "3\n"
     ]
    },
    {
     "name": "stderr",
     "output_type": "stream",
     "text": [
      "C:\\Users\\keit8223\\AppData\\Local\\Temp\\1\\ipykernel_21680\\1813207608.py:4: SettingWithCopyWarning: \n",
      "A value is trying to be set on a copy of a slice from a DataFrame\n",
      "\n",
      "See the caveats in the documentation: https://pandas.pydata.org/pandas-docs/stable/user_guide/indexing.html#returning-a-view-versus-a-copy\n",
      "  fishhours_select.drop(columns=['date', 'flag', 'geartype', 'hours', 'mmsi_present'], inplace=True)\n"
     ]
    },
    {
     "name": "stdout",
     "output_type": "stream",
     "text": [
      "Starting processing of 2020-10-31.csv...\n",
      "F:\\Global Fishing Watch\\Fishing Intensity\\v2\\fleet-daily\\fleet-daily-csvs-100-v2-2020\\2020-10-31.csv\n",
      "Done with 2020_10_31...\n"
     ]
    },
    {
     "name": "stderr",
     "output_type": "stream",
     "text": [
      "C:\\Users\\keit8223\\AppData\\Local\\Temp\\1\\ipykernel_21680\\959929405.py:5: SettingWithCopyWarning: \n",
      "A value is trying to be set on a copy of a slice from a DataFrame\n",
      "\n",
      "See the caveats in the documentation: https://pandas.pydata.org/pandas-docs/stable/user_guide/indexing.html#returning-a-view-versus-a-copy\n",
      "  hours_select.drop(columns=['date', 'flag', 'geartype', 'fishing_hours', 'mmsi_present'], inplace=True)\n"
     ]
    },
    {
     "name": "stdout",
     "output_type": "stream",
     "text": [
      "3\n"
     ]
    },
    {
     "name": "stderr",
     "output_type": "stream",
     "text": [
      "C:\\Users\\keit8223\\AppData\\Local\\Temp\\1\\ipykernel_21680\\1813207608.py:4: SettingWithCopyWarning: \n",
      "A value is trying to be set on a copy of a slice from a DataFrame\n",
      "\n",
      "See the caveats in the documentation: https://pandas.pydata.org/pandas-docs/stable/user_guide/indexing.html#returning-a-view-versus-a-copy\n",
      "  fishhours_select.drop(columns=['date', 'flag', 'geartype', 'hours', 'mmsi_present'], inplace=True)\n"
     ]
    },
    {
     "name": "stdout",
     "output_type": "stream",
     "text": [
      "Starting processing of 2020-11-01.csv...\n",
      "F:\\Global Fishing Watch\\Fishing Intensity\\v2\\fleet-daily\\fleet-daily-csvs-100-v2-2020\\2020-11-01.csv\n",
      "Done with 2020_11_01...\n"
     ]
    },
    {
     "name": "stderr",
     "output_type": "stream",
     "text": [
      "C:\\Users\\keit8223\\AppData\\Local\\Temp\\1\\ipykernel_21680\\959929405.py:5: SettingWithCopyWarning: \n",
      "A value is trying to be set on a copy of a slice from a DataFrame\n",
      "\n",
      "See the caveats in the documentation: https://pandas.pydata.org/pandas-docs/stable/user_guide/indexing.html#returning-a-view-versus-a-copy\n",
      "  hours_select.drop(columns=['date', 'flag', 'geartype', 'fishing_hours', 'mmsi_present'], inplace=True)\n"
     ]
    },
    {
     "name": "stdout",
     "output_type": "stream",
     "text": [
      "3\n"
     ]
    },
    {
     "name": "stderr",
     "output_type": "stream",
     "text": [
      "C:\\Users\\keit8223\\AppData\\Local\\Temp\\1\\ipykernel_21680\\1813207608.py:4: SettingWithCopyWarning: \n",
      "A value is trying to be set on a copy of a slice from a DataFrame\n",
      "\n",
      "See the caveats in the documentation: https://pandas.pydata.org/pandas-docs/stable/user_guide/indexing.html#returning-a-view-versus-a-copy\n",
      "  fishhours_select.drop(columns=['date', 'flag', 'geartype', 'hours', 'mmsi_present'], inplace=True)\n"
     ]
    },
    {
     "name": "stdout",
     "output_type": "stream",
     "text": [
      "Starting processing of 2020-11-02.csv...\n",
      "F:\\Global Fishing Watch\\Fishing Intensity\\v2\\fleet-daily\\fleet-daily-csvs-100-v2-2020\\2020-11-02.csv\n",
      "Done with 2020_11_02...\n"
     ]
    },
    {
     "name": "stderr",
     "output_type": "stream",
     "text": [
      "C:\\Users\\keit8223\\AppData\\Local\\Temp\\1\\ipykernel_21680\\959929405.py:5: SettingWithCopyWarning: \n",
      "A value is trying to be set on a copy of a slice from a DataFrame\n",
      "\n",
      "See the caveats in the documentation: https://pandas.pydata.org/pandas-docs/stable/user_guide/indexing.html#returning-a-view-versus-a-copy\n",
      "  hours_select.drop(columns=['date', 'flag', 'geartype', 'fishing_hours', 'mmsi_present'], inplace=True)\n"
     ]
    },
    {
     "name": "stdout",
     "output_type": "stream",
     "text": [
      "3\n"
     ]
    },
    {
     "name": "stderr",
     "output_type": "stream",
     "text": [
      "C:\\Users\\keit8223\\AppData\\Local\\Temp\\1\\ipykernel_21680\\1813207608.py:4: SettingWithCopyWarning: \n",
      "A value is trying to be set on a copy of a slice from a DataFrame\n",
      "\n",
      "See the caveats in the documentation: https://pandas.pydata.org/pandas-docs/stable/user_guide/indexing.html#returning-a-view-versus-a-copy\n",
      "  fishhours_select.drop(columns=['date', 'flag', 'geartype', 'hours', 'mmsi_present'], inplace=True)\n"
     ]
    },
    {
     "name": "stdout",
     "output_type": "stream",
     "text": [
      "Starting processing of 2020-11-03.csv...\n",
      "F:\\Global Fishing Watch\\Fishing Intensity\\v2\\fleet-daily\\fleet-daily-csvs-100-v2-2020\\2020-11-03.csv\n",
      "Done with 2020_11_03...\n"
     ]
    },
    {
     "name": "stderr",
     "output_type": "stream",
     "text": [
      "C:\\Users\\keit8223\\AppData\\Local\\Temp\\1\\ipykernel_21680\\959929405.py:5: SettingWithCopyWarning: \n",
      "A value is trying to be set on a copy of a slice from a DataFrame\n",
      "\n",
      "See the caveats in the documentation: https://pandas.pydata.org/pandas-docs/stable/user_guide/indexing.html#returning-a-view-versus-a-copy\n",
      "  hours_select.drop(columns=['date', 'flag', 'geartype', 'fishing_hours', 'mmsi_present'], inplace=True)\n"
     ]
    },
    {
     "name": "stdout",
     "output_type": "stream",
     "text": [
      "3\n"
     ]
    },
    {
     "name": "stderr",
     "output_type": "stream",
     "text": [
      "C:\\Users\\keit8223\\AppData\\Local\\Temp\\1\\ipykernel_21680\\1813207608.py:4: SettingWithCopyWarning: \n",
      "A value is trying to be set on a copy of a slice from a DataFrame\n",
      "\n",
      "See the caveats in the documentation: https://pandas.pydata.org/pandas-docs/stable/user_guide/indexing.html#returning-a-view-versus-a-copy\n",
      "  fishhours_select.drop(columns=['date', 'flag', 'geartype', 'hours', 'mmsi_present'], inplace=True)\n"
     ]
    },
    {
     "name": "stdout",
     "output_type": "stream",
     "text": [
      "Starting processing of 2020-11-04.csv...\n",
      "F:\\Global Fishing Watch\\Fishing Intensity\\v2\\fleet-daily\\fleet-daily-csvs-100-v2-2020\\2020-11-04.csv\n",
      "Done with 2020_11_04...\n"
     ]
    },
    {
     "name": "stderr",
     "output_type": "stream",
     "text": [
      "C:\\Users\\keit8223\\AppData\\Local\\Temp\\1\\ipykernel_21680\\959929405.py:5: SettingWithCopyWarning: \n",
      "A value is trying to be set on a copy of a slice from a DataFrame\n",
      "\n",
      "See the caveats in the documentation: https://pandas.pydata.org/pandas-docs/stable/user_guide/indexing.html#returning-a-view-versus-a-copy\n",
      "  hours_select.drop(columns=['date', 'flag', 'geartype', 'fishing_hours', 'mmsi_present'], inplace=True)\n"
     ]
    },
    {
     "name": "stdout",
     "output_type": "stream",
     "text": [
      "3\n"
     ]
    },
    {
     "name": "stderr",
     "output_type": "stream",
     "text": [
      "C:\\Users\\keit8223\\AppData\\Local\\Temp\\1\\ipykernel_21680\\1813207608.py:4: SettingWithCopyWarning: \n",
      "A value is trying to be set on a copy of a slice from a DataFrame\n",
      "\n",
      "See the caveats in the documentation: https://pandas.pydata.org/pandas-docs/stable/user_guide/indexing.html#returning-a-view-versus-a-copy\n",
      "  fishhours_select.drop(columns=['date', 'flag', 'geartype', 'hours', 'mmsi_present'], inplace=True)\n"
     ]
    },
    {
     "name": "stdout",
     "output_type": "stream",
     "text": [
      "Starting processing of 2020-11-05.csv...\n",
      "F:\\Global Fishing Watch\\Fishing Intensity\\v2\\fleet-daily\\fleet-daily-csvs-100-v2-2020\\2020-11-05.csv\n",
      "Done with 2020_11_05...\n"
     ]
    },
    {
     "name": "stderr",
     "output_type": "stream",
     "text": [
      "C:\\Users\\keit8223\\AppData\\Local\\Temp\\1\\ipykernel_21680\\959929405.py:5: SettingWithCopyWarning: \n",
      "A value is trying to be set on a copy of a slice from a DataFrame\n",
      "\n",
      "See the caveats in the documentation: https://pandas.pydata.org/pandas-docs/stable/user_guide/indexing.html#returning-a-view-versus-a-copy\n",
      "  hours_select.drop(columns=['date', 'flag', 'geartype', 'fishing_hours', 'mmsi_present'], inplace=True)\n"
     ]
    },
    {
     "name": "stdout",
     "output_type": "stream",
     "text": [
      "3\n"
     ]
    },
    {
     "name": "stderr",
     "output_type": "stream",
     "text": [
      "C:\\Users\\keit8223\\AppData\\Local\\Temp\\1\\ipykernel_21680\\1813207608.py:4: SettingWithCopyWarning: \n",
      "A value is trying to be set on a copy of a slice from a DataFrame\n",
      "\n",
      "See the caveats in the documentation: https://pandas.pydata.org/pandas-docs/stable/user_guide/indexing.html#returning-a-view-versus-a-copy\n",
      "  fishhours_select.drop(columns=['date', 'flag', 'geartype', 'hours', 'mmsi_present'], inplace=True)\n"
     ]
    },
    {
     "name": "stdout",
     "output_type": "stream",
     "text": [
      "Starting processing of 2020-11-06.csv...\n",
      "F:\\Global Fishing Watch\\Fishing Intensity\\v2\\fleet-daily\\fleet-daily-csvs-100-v2-2020\\2020-11-06.csv\n",
      "Done with 2020_11_06...\n"
     ]
    },
    {
     "name": "stderr",
     "output_type": "stream",
     "text": [
      "C:\\Users\\keit8223\\AppData\\Local\\Temp\\1\\ipykernel_21680\\959929405.py:5: SettingWithCopyWarning: \n",
      "A value is trying to be set on a copy of a slice from a DataFrame\n",
      "\n",
      "See the caveats in the documentation: https://pandas.pydata.org/pandas-docs/stable/user_guide/indexing.html#returning-a-view-versus-a-copy\n",
      "  hours_select.drop(columns=['date', 'flag', 'geartype', 'fishing_hours', 'mmsi_present'], inplace=True)\n"
     ]
    },
    {
     "name": "stdout",
     "output_type": "stream",
     "text": [
      "3\n"
     ]
    },
    {
     "name": "stderr",
     "output_type": "stream",
     "text": [
      "C:\\Users\\keit8223\\AppData\\Local\\Temp\\1\\ipykernel_21680\\1813207608.py:4: SettingWithCopyWarning: \n",
      "A value is trying to be set on a copy of a slice from a DataFrame\n",
      "\n",
      "See the caveats in the documentation: https://pandas.pydata.org/pandas-docs/stable/user_guide/indexing.html#returning-a-view-versus-a-copy\n",
      "  fishhours_select.drop(columns=['date', 'flag', 'geartype', 'hours', 'mmsi_present'], inplace=True)\n"
     ]
    },
    {
     "name": "stdout",
     "output_type": "stream",
     "text": [
      "Starting processing of 2020-11-07.csv...\n",
      "F:\\Global Fishing Watch\\Fishing Intensity\\v2\\fleet-daily\\fleet-daily-csvs-100-v2-2020\\2020-11-07.csv\n",
      "Done with 2020_11_07...\n"
     ]
    },
    {
     "name": "stderr",
     "output_type": "stream",
     "text": [
      "C:\\Users\\keit8223\\AppData\\Local\\Temp\\1\\ipykernel_21680\\959929405.py:5: SettingWithCopyWarning: \n",
      "A value is trying to be set on a copy of a slice from a DataFrame\n",
      "\n",
      "See the caveats in the documentation: https://pandas.pydata.org/pandas-docs/stable/user_guide/indexing.html#returning-a-view-versus-a-copy\n",
      "  hours_select.drop(columns=['date', 'flag', 'geartype', 'fishing_hours', 'mmsi_present'], inplace=True)\n"
     ]
    },
    {
     "name": "stdout",
     "output_type": "stream",
     "text": [
      "3\n"
     ]
    },
    {
     "name": "stderr",
     "output_type": "stream",
     "text": [
      "C:\\Users\\keit8223\\AppData\\Local\\Temp\\1\\ipykernel_21680\\1813207608.py:4: SettingWithCopyWarning: \n",
      "A value is trying to be set on a copy of a slice from a DataFrame\n",
      "\n",
      "See the caveats in the documentation: https://pandas.pydata.org/pandas-docs/stable/user_guide/indexing.html#returning-a-view-versus-a-copy\n",
      "  fishhours_select.drop(columns=['date', 'flag', 'geartype', 'hours', 'mmsi_present'], inplace=True)\n"
     ]
    },
    {
     "name": "stdout",
     "output_type": "stream",
     "text": [
      "Starting processing of 2020-11-08.csv...\n",
      "F:\\Global Fishing Watch\\Fishing Intensity\\v2\\fleet-daily\\fleet-daily-csvs-100-v2-2020\\2020-11-08.csv\n",
      "Done with 2020_11_08...\n"
     ]
    },
    {
     "name": "stderr",
     "output_type": "stream",
     "text": [
      "C:\\Users\\keit8223\\AppData\\Local\\Temp\\1\\ipykernel_21680\\959929405.py:5: SettingWithCopyWarning: \n",
      "A value is trying to be set on a copy of a slice from a DataFrame\n",
      "\n",
      "See the caveats in the documentation: https://pandas.pydata.org/pandas-docs/stable/user_guide/indexing.html#returning-a-view-versus-a-copy\n",
      "  hours_select.drop(columns=['date', 'flag', 'geartype', 'fishing_hours', 'mmsi_present'], inplace=True)\n"
     ]
    },
    {
     "name": "stdout",
     "output_type": "stream",
     "text": [
      "3\n"
     ]
    },
    {
     "name": "stderr",
     "output_type": "stream",
     "text": [
      "C:\\Users\\keit8223\\AppData\\Local\\Temp\\1\\ipykernel_21680\\1813207608.py:4: SettingWithCopyWarning: \n",
      "A value is trying to be set on a copy of a slice from a DataFrame\n",
      "\n",
      "See the caveats in the documentation: https://pandas.pydata.org/pandas-docs/stable/user_guide/indexing.html#returning-a-view-versus-a-copy\n",
      "  fishhours_select.drop(columns=['date', 'flag', 'geartype', 'hours', 'mmsi_present'], inplace=True)\n"
     ]
    },
    {
     "name": "stdout",
     "output_type": "stream",
     "text": [
      "Starting processing of 2020-11-09.csv...\n",
      "F:\\Global Fishing Watch\\Fishing Intensity\\v2\\fleet-daily\\fleet-daily-csvs-100-v2-2020\\2020-11-09.csv\n",
      "Done with 2020_11_09...\n"
     ]
    },
    {
     "name": "stderr",
     "output_type": "stream",
     "text": [
      "C:\\Users\\keit8223\\AppData\\Local\\Temp\\1\\ipykernel_21680\\959929405.py:5: SettingWithCopyWarning: \n",
      "A value is trying to be set on a copy of a slice from a DataFrame\n",
      "\n",
      "See the caveats in the documentation: https://pandas.pydata.org/pandas-docs/stable/user_guide/indexing.html#returning-a-view-versus-a-copy\n",
      "  hours_select.drop(columns=['date', 'flag', 'geartype', 'fishing_hours', 'mmsi_present'], inplace=True)\n"
     ]
    },
    {
     "name": "stdout",
     "output_type": "stream",
     "text": [
      "3\n"
     ]
    },
    {
     "name": "stderr",
     "output_type": "stream",
     "text": [
      "C:\\Users\\keit8223\\AppData\\Local\\Temp\\1\\ipykernel_21680\\1813207608.py:4: SettingWithCopyWarning: \n",
      "A value is trying to be set on a copy of a slice from a DataFrame\n",
      "\n",
      "See the caveats in the documentation: https://pandas.pydata.org/pandas-docs/stable/user_guide/indexing.html#returning-a-view-versus-a-copy\n",
      "  fishhours_select.drop(columns=['date', 'flag', 'geartype', 'hours', 'mmsi_present'], inplace=True)\n"
     ]
    },
    {
     "name": "stdout",
     "output_type": "stream",
     "text": [
      "Starting processing of 2020-11-10.csv...\n",
      "F:\\Global Fishing Watch\\Fishing Intensity\\v2\\fleet-daily\\fleet-daily-csvs-100-v2-2020\\2020-11-10.csv\n",
      "Done with 2020_11_10...\n"
     ]
    },
    {
     "name": "stderr",
     "output_type": "stream",
     "text": [
      "C:\\Users\\keit8223\\AppData\\Local\\Temp\\1\\ipykernel_21680\\959929405.py:5: SettingWithCopyWarning: \n",
      "A value is trying to be set on a copy of a slice from a DataFrame\n",
      "\n",
      "See the caveats in the documentation: https://pandas.pydata.org/pandas-docs/stable/user_guide/indexing.html#returning-a-view-versus-a-copy\n",
      "  hours_select.drop(columns=['date', 'flag', 'geartype', 'fishing_hours', 'mmsi_present'], inplace=True)\n"
     ]
    },
    {
     "name": "stdout",
     "output_type": "stream",
     "text": [
      "3\n"
     ]
    },
    {
     "name": "stderr",
     "output_type": "stream",
     "text": [
      "C:\\Users\\keit8223\\AppData\\Local\\Temp\\1\\ipykernel_21680\\1813207608.py:4: SettingWithCopyWarning: \n",
      "A value is trying to be set on a copy of a slice from a DataFrame\n",
      "\n",
      "See the caveats in the documentation: https://pandas.pydata.org/pandas-docs/stable/user_guide/indexing.html#returning-a-view-versus-a-copy\n",
      "  fishhours_select.drop(columns=['date', 'flag', 'geartype', 'hours', 'mmsi_present'], inplace=True)\n"
     ]
    },
    {
     "name": "stdout",
     "output_type": "stream",
     "text": [
      "Starting processing of 2020-11-11.csv...\n",
      "F:\\Global Fishing Watch\\Fishing Intensity\\v2\\fleet-daily\\fleet-daily-csvs-100-v2-2020\\2020-11-11.csv\n",
      "Done with 2020_11_11...\n"
     ]
    },
    {
     "name": "stderr",
     "output_type": "stream",
     "text": [
      "C:\\Users\\keit8223\\AppData\\Local\\Temp\\1\\ipykernel_21680\\959929405.py:5: SettingWithCopyWarning: \n",
      "A value is trying to be set on a copy of a slice from a DataFrame\n",
      "\n",
      "See the caveats in the documentation: https://pandas.pydata.org/pandas-docs/stable/user_guide/indexing.html#returning-a-view-versus-a-copy\n",
      "  hours_select.drop(columns=['date', 'flag', 'geartype', 'fishing_hours', 'mmsi_present'], inplace=True)\n"
     ]
    },
    {
     "name": "stdout",
     "output_type": "stream",
     "text": [
      "3\n"
     ]
    },
    {
     "name": "stderr",
     "output_type": "stream",
     "text": [
      "C:\\Users\\keit8223\\AppData\\Local\\Temp\\1\\ipykernel_21680\\1813207608.py:4: SettingWithCopyWarning: \n",
      "A value is trying to be set on a copy of a slice from a DataFrame\n",
      "\n",
      "See the caveats in the documentation: https://pandas.pydata.org/pandas-docs/stable/user_guide/indexing.html#returning-a-view-versus-a-copy\n",
      "  fishhours_select.drop(columns=['date', 'flag', 'geartype', 'hours', 'mmsi_present'], inplace=True)\n"
     ]
    },
    {
     "name": "stdout",
     "output_type": "stream",
     "text": [
      "Starting processing of 2020-11-12.csv...\n",
      "F:\\Global Fishing Watch\\Fishing Intensity\\v2\\fleet-daily\\fleet-daily-csvs-100-v2-2020\\2020-11-12.csv\n",
      "Done with 2020_11_12...\n"
     ]
    },
    {
     "name": "stderr",
     "output_type": "stream",
     "text": [
      "C:\\Users\\keit8223\\AppData\\Local\\Temp\\1\\ipykernel_21680\\959929405.py:5: SettingWithCopyWarning: \n",
      "A value is trying to be set on a copy of a slice from a DataFrame\n",
      "\n",
      "See the caveats in the documentation: https://pandas.pydata.org/pandas-docs/stable/user_guide/indexing.html#returning-a-view-versus-a-copy\n",
      "  hours_select.drop(columns=['date', 'flag', 'geartype', 'fishing_hours', 'mmsi_present'], inplace=True)\n"
     ]
    },
    {
     "name": "stdout",
     "output_type": "stream",
     "text": [
      "3\n"
     ]
    },
    {
     "name": "stderr",
     "output_type": "stream",
     "text": [
      "C:\\Users\\keit8223\\AppData\\Local\\Temp\\1\\ipykernel_21680\\1813207608.py:4: SettingWithCopyWarning: \n",
      "A value is trying to be set on a copy of a slice from a DataFrame\n",
      "\n",
      "See the caveats in the documentation: https://pandas.pydata.org/pandas-docs/stable/user_guide/indexing.html#returning-a-view-versus-a-copy\n",
      "  fishhours_select.drop(columns=['date', 'flag', 'geartype', 'hours', 'mmsi_present'], inplace=True)\n"
     ]
    },
    {
     "name": "stdout",
     "output_type": "stream",
     "text": [
      "Starting processing of 2020-11-13.csv...\n",
      "F:\\Global Fishing Watch\\Fishing Intensity\\v2\\fleet-daily\\fleet-daily-csvs-100-v2-2020\\2020-11-13.csv\n",
      "Done with 2020_11_13...\n"
     ]
    },
    {
     "name": "stderr",
     "output_type": "stream",
     "text": [
      "C:\\Users\\keit8223\\AppData\\Local\\Temp\\1\\ipykernel_21680\\959929405.py:5: SettingWithCopyWarning: \n",
      "A value is trying to be set on a copy of a slice from a DataFrame\n",
      "\n",
      "See the caveats in the documentation: https://pandas.pydata.org/pandas-docs/stable/user_guide/indexing.html#returning-a-view-versus-a-copy\n",
      "  hours_select.drop(columns=['date', 'flag', 'geartype', 'fishing_hours', 'mmsi_present'], inplace=True)\n"
     ]
    },
    {
     "name": "stdout",
     "output_type": "stream",
     "text": [
      "3\n"
     ]
    },
    {
     "name": "stderr",
     "output_type": "stream",
     "text": [
      "C:\\Users\\keit8223\\AppData\\Local\\Temp\\1\\ipykernel_21680\\1813207608.py:4: SettingWithCopyWarning: \n",
      "A value is trying to be set on a copy of a slice from a DataFrame\n",
      "\n",
      "See the caveats in the documentation: https://pandas.pydata.org/pandas-docs/stable/user_guide/indexing.html#returning-a-view-versus-a-copy\n",
      "  fishhours_select.drop(columns=['date', 'flag', 'geartype', 'hours', 'mmsi_present'], inplace=True)\n"
     ]
    },
    {
     "name": "stdout",
     "output_type": "stream",
     "text": [
      "Starting processing of 2020-11-14.csv...\n",
      "F:\\Global Fishing Watch\\Fishing Intensity\\v2\\fleet-daily\\fleet-daily-csvs-100-v2-2020\\2020-11-14.csv\n",
      "Done with 2020_11_14...\n"
     ]
    },
    {
     "name": "stderr",
     "output_type": "stream",
     "text": [
      "C:\\Users\\keit8223\\AppData\\Local\\Temp\\1\\ipykernel_21680\\959929405.py:5: SettingWithCopyWarning: \n",
      "A value is trying to be set on a copy of a slice from a DataFrame\n",
      "\n",
      "See the caveats in the documentation: https://pandas.pydata.org/pandas-docs/stable/user_guide/indexing.html#returning-a-view-versus-a-copy\n",
      "  hours_select.drop(columns=['date', 'flag', 'geartype', 'fishing_hours', 'mmsi_present'], inplace=True)\n"
     ]
    },
    {
     "name": "stdout",
     "output_type": "stream",
     "text": [
      "3\n"
     ]
    },
    {
     "name": "stderr",
     "output_type": "stream",
     "text": [
      "C:\\Users\\keit8223\\AppData\\Local\\Temp\\1\\ipykernel_21680\\1813207608.py:4: SettingWithCopyWarning: \n",
      "A value is trying to be set on a copy of a slice from a DataFrame\n",
      "\n",
      "See the caveats in the documentation: https://pandas.pydata.org/pandas-docs/stable/user_guide/indexing.html#returning-a-view-versus-a-copy\n",
      "  fishhours_select.drop(columns=['date', 'flag', 'geartype', 'hours', 'mmsi_present'], inplace=True)\n"
     ]
    },
    {
     "name": "stdout",
     "output_type": "stream",
     "text": [
      "Starting processing of 2020-11-15.csv...\n",
      "F:\\Global Fishing Watch\\Fishing Intensity\\v2\\fleet-daily\\fleet-daily-csvs-100-v2-2020\\2020-11-15.csv\n",
      "Done with 2020_11_15...\n"
     ]
    },
    {
     "name": "stderr",
     "output_type": "stream",
     "text": [
      "C:\\Users\\keit8223\\AppData\\Local\\Temp\\1\\ipykernel_21680\\959929405.py:5: SettingWithCopyWarning: \n",
      "A value is trying to be set on a copy of a slice from a DataFrame\n",
      "\n",
      "See the caveats in the documentation: https://pandas.pydata.org/pandas-docs/stable/user_guide/indexing.html#returning-a-view-versus-a-copy\n",
      "  hours_select.drop(columns=['date', 'flag', 'geartype', 'fishing_hours', 'mmsi_present'], inplace=True)\n"
     ]
    },
    {
     "name": "stdout",
     "output_type": "stream",
     "text": [
      "3\n"
     ]
    },
    {
     "name": "stderr",
     "output_type": "stream",
     "text": [
      "C:\\Users\\keit8223\\AppData\\Local\\Temp\\1\\ipykernel_21680\\1813207608.py:4: SettingWithCopyWarning: \n",
      "A value is trying to be set on a copy of a slice from a DataFrame\n",
      "\n",
      "See the caveats in the documentation: https://pandas.pydata.org/pandas-docs/stable/user_guide/indexing.html#returning-a-view-versus-a-copy\n",
      "  fishhours_select.drop(columns=['date', 'flag', 'geartype', 'hours', 'mmsi_present'], inplace=True)\n"
     ]
    },
    {
     "name": "stdout",
     "output_type": "stream",
     "text": [
      "Starting processing of 2020-11-16.csv...\n",
      "F:\\Global Fishing Watch\\Fishing Intensity\\v2\\fleet-daily\\fleet-daily-csvs-100-v2-2020\\2020-11-16.csv\n",
      "Done with 2020_11_16...\n"
     ]
    },
    {
     "name": "stderr",
     "output_type": "stream",
     "text": [
      "C:\\Users\\keit8223\\AppData\\Local\\Temp\\1\\ipykernel_21680\\959929405.py:5: SettingWithCopyWarning: \n",
      "A value is trying to be set on a copy of a slice from a DataFrame\n",
      "\n",
      "See the caveats in the documentation: https://pandas.pydata.org/pandas-docs/stable/user_guide/indexing.html#returning-a-view-versus-a-copy\n",
      "  hours_select.drop(columns=['date', 'flag', 'geartype', 'fishing_hours', 'mmsi_present'], inplace=True)\n"
     ]
    },
    {
     "name": "stdout",
     "output_type": "stream",
     "text": [
      "3\n"
     ]
    },
    {
     "name": "stderr",
     "output_type": "stream",
     "text": [
      "C:\\Users\\keit8223\\AppData\\Local\\Temp\\1\\ipykernel_21680\\1813207608.py:4: SettingWithCopyWarning: \n",
      "A value is trying to be set on a copy of a slice from a DataFrame\n",
      "\n",
      "See the caveats in the documentation: https://pandas.pydata.org/pandas-docs/stable/user_guide/indexing.html#returning-a-view-versus-a-copy\n",
      "  fishhours_select.drop(columns=['date', 'flag', 'geartype', 'hours', 'mmsi_present'], inplace=True)\n"
     ]
    },
    {
     "name": "stdout",
     "output_type": "stream",
     "text": [
      "Starting processing of 2020-11-17.csv...\n",
      "F:\\Global Fishing Watch\\Fishing Intensity\\v2\\fleet-daily\\fleet-daily-csvs-100-v2-2020\\2020-11-17.csv\n",
      "Done with 2020_11_17...\n"
     ]
    },
    {
     "name": "stderr",
     "output_type": "stream",
     "text": [
      "C:\\Users\\keit8223\\AppData\\Local\\Temp\\1\\ipykernel_21680\\959929405.py:5: SettingWithCopyWarning: \n",
      "A value is trying to be set on a copy of a slice from a DataFrame\n",
      "\n",
      "See the caveats in the documentation: https://pandas.pydata.org/pandas-docs/stable/user_guide/indexing.html#returning-a-view-versus-a-copy\n",
      "  hours_select.drop(columns=['date', 'flag', 'geartype', 'fishing_hours', 'mmsi_present'], inplace=True)\n"
     ]
    },
    {
     "name": "stdout",
     "output_type": "stream",
     "text": [
      "3\n"
     ]
    },
    {
     "name": "stderr",
     "output_type": "stream",
     "text": [
      "C:\\Users\\keit8223\\AppData\\Local\\Temp\\1\\ipykernel_21680\\1813207608.py:4: SettingWithCopyWarning: \n",
      "A value is trying to be set on a copy of a slice from a DataFrame\n",
      "\n",
      "See the caveats in the documentation: https://pandas.pydata.org/pandas-docs/stable/user_guide/indexing.html#returning-a-view-versus-a-copy\n",
      "  fishhours_select.drop(columns=['date', 'flag', 'geartype', 'hours', 'mmsi_present'], inplace=True)\n"
     ]
    },
    {
     "name": "stdout",
     "output_type": "stream",
     "text": [
      "Starting processing of 2020-11-18.csv...\n",
      "F:\\Global Fishing Watch\\Fishing Intensity\\v2\\fleet-daily\\fleet-daily-csvs-100-v2-2020\\2020-11-18.csv\n",
      "Done with 2020_11_18...\n"
     ]
    },
    {
     "name": "stderr",
     "output_type": "stream",
     "text": [
      "C:\\Users\\keit8223\\AppData\\Local\\Temp\\1\\ipykernel_21680\\959929405.py:5: SettingWithCopyWarning: \n",
      "A value is trying to be set on a copy of a slice from a DataFrame\n",
      "\n",
      "See the caveats in the documentation: https://pandas.pydata.org/pandas-docs/stable/user_guide/indexing.html#returning-a-view-versus-a-copy\n",
      "  hours_select.drop(columns=['date', 'flag', 'geartype', 'fishing_hours', 'mmsi_present'], inplace=True)\n"
     ]
    },
    {
     "name": "stdout",
     "output_type": "stream",
     "text": [
      "3\n"
     ]
    },
    {
     "name": "stderr",
     "output_type": "stream",
     "text": [
      "C:\\Users\\keit8223\\AppData\\Local\\Temp\\1\\ipykernel_21680\\1813207608.py:4: SettingWithCopyWarning: \n",
      "A value is trying to be set on a copy of a slice from a DataFrame\n",
      "\n",
      "See the caveats in the documentation: https://pandas.pydata.org/pandas-docs/stable/user_guide/indexing.html#returning-a-view-versus-a-copy\n",
      "  fishhours_select.drop(columns=['date', 'flag', 'geartype', 'hours', 'mmsi_present'], inplace=True)\n"
     ]
    },
    {
     "name": "stdout",
     "output_type": "stream",
     "text": [
      "Starting processing of 2020-11-19.csv...\n",
      "F:\\Global Fishing Watch\\Fishing Intensity\\v2\\fleet-daily\\fleet-daily-csvs-100-v2-2020\\2020-11-19.csv\n",
      "Done with 2020_11_19...\n"
     ]
    },
    {
     "name": "stderr",
     "output_type": "stream",
     "text": [
      "C:\\Users\\keit8223\\AppData\\Local\\Temp\\1\\ipykernel_21680\\959929405.py:5: SettingWithCopyWarning: \n",
      "A value is trying to be set on a copy of a slice from a DataFrame\n",
      "\n",
      "See the caveats in the documentation: https://pandas.pydata.org/pandas-docs/stable/user_guide/indexing.html#returning-a-view-versus-a-copy\n",
      "  hours_select.drop(columns=['date', 'flag', 'geartype', 'fishing_hours', 'mmsi_present'], inplace=True)\n"
     ]
    },
    {
     "name": "stdout",
     "output_type": "stream",
     "text": [
      "3\n"
     ]
    },
    {
     "name": "stderr",
     "output_type": "stream",
     "text": [
      "C:\\Users\\keit8223\\AppData\\Local\\Temp\\1\\ipykernel_21680\\1813207608.py:4: SettingWithCopyWarning: \n",
      "A value is trying to be set on a copy of a slice from a DataFrame\n",
      "\n",
      "See the caveats in the documentation: https://pandas.pydata.org/pandas-docs/stable/user_guide/indexing.html#returning-a-view-versus-a-copy\n",
      "  fishhours_select.drop(columns=['date', 'flag', 'geartype', 'hours', 'mmsi_present'], inplace=True)\n"
     ]
    },
    {
     "name": "stdout",
     "output_type": "stream",
     "text": [
      "Starting processing of 2020-11-20.csv...\n",
      "F:\\Global Fishing Watch\\Fishing Intensity\\v2\\fleet-daily\\fleet-daily-csvs-100-v2-2020\\2020-11-20.csv\n",
      "Done with 2020_11_20...\n"
     ]
    },
    {
     "name": "stderr",
     "output_type": "stream",
     "text": [
      "C:\\Users\\keit8223\\AppData\\Local\\Temp\\1\\ipykernel_21680\\959929405.py:5: SettingWithCopyWarning: \n",
      "A value is trying to be set on a copy of a slice from a DataFrame\n",
      "\n",
      "See the caveats in the documentation: https://pandas.pydata.org/pandas-docs/stable/user_guide/indexing.html#returning-a-view-versus-a-copy\n",
      "  hours_select.drop(columns=['date', 'flag', 'geartype', 'fishing_hours', 'mmsi_present'], inplace=True)\n"
     ]
    },
    {
     "name": "stdout",
     "output_type": "stream",
     "text": [
      "3\n"
     ]
    },
    {
     "name": "stderr",
     "output_type": "stream",
     "text": [
      "C:\\Users\\keit8223\\AppData\\Local\\Temp\\1\\ipykernel_21680\\1813207608.py:4: SettingWithCopyWarning: \n",
      "A value is trying to be set on a copy of a slice from a DataFrame\n",
      "\n",
      "See the caveats in the documentation: https://pandas.pydata.org/pandas-docs/stable/user_guide/indexing.html#returning-a-view-versus-a-copy\n",
      "  fishhours_select.drop(columns=['date', 'flag', 'geartype', 'hours', 'mmsi_present'], inplace=True)\n"
     ]
    },
    {
     "name": "stdout",
     "output_type": "stream",
     "text": [
      "Starting processing of 2020-11-21.csv...\n",
      "F:\\Global Fishing Watch\\Fishing Intensity\\v2\\fleet-daily\\fleet-daily-csvs-100-v2-2020\\2020-11-21.csv\n",
      "Done with 2020_11_21...\n"
     ]
    },
    {
     "name": "stderr",
     "output_type": "stream",
     "text": [
      "C:\\Users\\keit8223\\AppData\\Local\\Temp\\1\\ipykernel_21680\\959929405.py:5: SettingWithCopyWarning: \n",
      "A value is trying to be set on a copy of a slice from a DataFrame\n",
      "\n",
      "See the caveats in the documentation: https://pandas.pydata.org/pandas-docs/stable/user_guide/indexing.html#returning-a-view-versus-a-copy\n",
      "  hours_select.drop(columns=['date', 'flag', 'geartype', 'fishing_hours', 'mmsi_present'], inplace=True)\n"
     ]
    },
    {
     "name": "stdout",
     "output_type": "stream",
     "text": [
      "3\n"
     ]
    },
    {
     "name": "stderr",
     "output_type": "stream",
     "text": [
      "C:\\Users\\keit8223\\AppData\\Local\\Temp\\1\\ipykernel_21680\\1813207608.py:4: SettingWithCopyWarning: \n",
      "A value is trying to be set on a copy of a slice from a DataFrame\n",
      "\n",
      "See the caveats in the documentation: https://pandas.pydata.org/pandas-docs/stable/user_guide/indexing.html#returning-a-view-versus-a-copy\n",
      "  fishhours_select.drop(columns=['date', 'flag', 'geartype', 'hours', 'mmsi_present'], inplace=True)\n"
     ]
    },
    {
     "name": "stdout",
     "output_type": "stream",
     "text": [
      "Starting processing of 2020-11-22.csv...\n",
      "F:\\Global Fishing Watch\\Fishing Intensity\\v2\\fleet-daily\\fleet-daily-csvs-100-v2-2020\\2020-11-22.csv\n",
      "Done with 2020_11_22...\n"
     ]
    },
    {
     "name": "stderr",
     "output_type": "stream",
     "text": [
      "C:\\Users\\keit8223\\AppData\\Local\\Temp\\1\\ipykernel_21680\\959929405.py:5: SettingWithCopyWarning: \n",
      "A value is trying to be set on a copy of a slice from a DataFrame\n",
      "\n",
      "See the caveats in the documentation: https://pandas.pydata.org/pandas-docs/stable/user_guide/indexing.html#returning-a-view-versus-a-copy\n",
      "  hours_select.drop(columns=['date', 'flag', 'geartype', 'fishing_hours', 'mmsi_present'], inplace=True)\n"
     ]
    },
    {
     "name": "stdout",
     "output_type": "stream",
     "text": [
      "3\n"
     ]
    },
    {
     "name": "stderr",
     "output_type": "stream",
     "text": [
      "C:\\Users\\keit8223\\AppData\\Local\\Temp\\1\\ipykernel_21680\\1813207608.py:4: SettingWithCopyWarning: \n",
      "A value is trying to be set on a copy of a slice from a DataFrame\n",
      "\n",
      "See the caveats in the documentation: https://pandas.pydata.org/pandas-docs/stable/user_guide/indexing.html#returning-a-view-versus-a-copy\n",
      "  fishhours_select.drop(columns=['date', 'flag', 'geartype', 'hours', 'mmsi_present'], inplace=True)\n"
     ]
    },
    {
     "name": "stdout",
     "output_type": "stream",
     "text": [
      "Starting processing of 2020-11-23.csv...\n",
      "F:\\Global Fishing Watch\\Fishing Intensity\\v2\\fleet-daily\\fleet-daily-csvs-100-v2-2020\\2020-11-23.csv\n",
      "Done with 2020_11_23...\n"
     ]
    },
    {
     "name": "stderr",
     "output_type": "stream",
     "text": [
      "C:\\Users\\keit8223\\AppData\\Local\\Temp\\1\\ipykernel_21680\\959929405.py:5: SettingWithCopyWarning: \n",
      "A value is trying to be set on a copy of a slice from a DataFrame\n",
      "\n",
      "See the caveats in the documentation: https://pandas.pydata.org/pandas-docs/stable/user_guide/indexing.html#returning-a-view-versus-a-copy\n",
      "  hours_select.drop(columns=['date', 'flag', 'geartype', 'fishing_hours', 'mmsi_present'], inplace=True)\n"
     ]
    },
    {
     "name": "stdout",
     "output_type": "stream",
     "text": [
      "3\n"
     ]
    },
    {
     "name": "stderr",
     "output_type": "stream",
     "text": [
      "C:\\Users\\keit8223\\AppData\\Local\\Temp\\1\\ipykernel_21680\\1813207608.py:4: SettingWithCopyWarning: \n",
      "A value is trying to be set on a copy of a slice from a DataFrame\n",
      "\n",
      "See the caveats in the documentation: https://pandas.pydata.org/pandas-docs/stable/user_guide/indexing.html#returning-a-view-versus-a-copy\n",
      "  fishhours_select.drop(columns=['date', 'flag', 'geartype', 'hours', 'mmsi_present'], inplace=True)\n"
     ]
    },
    {
     "name": "stdout",
     "output_type": "stream",
     "text": [
      "Starting processing of 2020-11-24.csv...\n",
      "F:\\Global Fishing Watch\\Fishing Intensity\\v2\\fleet-daily\\fleet-daily-csvs-100-v2-2020\\2020-11-24.csv\n",
      "Done with 2020_11_24...\n"
     ]
    },
    {
     "name": "stderr",
     "output_type": "stream",
     "text": [
      "C:\\Users\\keit8223\\AppData\\Local\\Temp\\1\\ipykernel_21680\\959929405.py:5: SettingWithCopyWarning: \n",
      "A value is trying to be set on a copy of a slice from a DataFrame\n",
      "\n",
      "See the caveats in the documentation: https://pandas.pydata.org/pandas-docs/stable/user_guide/indexing.html#returning-a-view-versus-a-copy\n",
      "  hours_select.drop(columns=['date', 'flag', 'geartype', 'fishing_hours', 'mmsi_present'], inplace=True)\n"
     ]
    },
    {
     "name": "stdout",
     "output_type": "stream",
     "text": [
      "3\n"
     ]
    },
    {
     "name": "stderr",
     "output_type": "stream",
     "text": [
      "C:\\Users\\keit8223\\AppData\\Local\\Temp\\1\\ipykernel_21680\\1813207608.py:4: SettingWithCopyWarning: \n",
      "A value is trying to be set on a copy of a slice from a DataFrame\n",
      "\n",
      "See the caveats in the documentation: https://pandas.pydata.org/pandas-docs/stable/user_guide/indexing.html#returning-a-view-versus-a-copy\n",
      "  fishhours_select.drop(columns=['date', 'flag', 'geartype', 'hours', 'mmsi_present'], inplace=True)\n"
     ]
    },
    {
     "name": "stdout",
     "output_type": "stream",
     "text": [
      "Starting processing of 2020-11-25.csv...\n",
      "F:\\Global Fishing Watch\\Fishing Intensity\\v2\\fleet-daily\\fleet-daily-csvs-100-v2-2020\\2020-11-25.csv\n",
      "Done with 2020_11_25...\n"
     ]
    },
    {
     "name": "stderr",
     "output_type": "stream",
     "text": [
      "C:\\Users\\keit8223\\AppData\\Local\\Temp\\1\\ipykernel_21680\\959929405.py:5: SettingWithCopyWarning: \n",
      "A value is trying to be set on a copy of a slice from a DataFrame\n",
      "\n",
      "See the caveats in the documentation: https://pandas.pydata.org/pandas-docs/stable/user_guide/indexing.html#returning-a-view-versus-a-copy\n",
      "  hours_select.drop(columns=['date', 'flag', 'geartype', 'fishing_hours', 'mmsi_present'], inplace=True)\n"
     ]
    },
    {
     "name": "stdout",
     "output_type": "stream",
     "text": [
      "3\n"
     ]
    },
    {
     "name": "stderr",
     "output_type": "stream",
     "text": [
      "C:\\Users\\keit8223\\AppData\\Local\\Temp\\1\\ipykernel_21680\\1813207608.py:4: SettingWithCopyWarning: \n",
      "A value is trying to be set on a copy of a slice from a DataFrame\n",
      "\n",
      "See the caveats in the documentation: https://pandas.pydata.org/pandas-docs/stable/user_guide/indexing.html#returning-a-view-versus-a-copy\n",
      "  fishhours_select.drop(columns=['date', 'flag', 'geartype', 'hours', 'mmsi_present'], inplace=True)\n"
     ]
    },
    {
     "name": "stdout",
     "output_type": "stream",
     "text": [
      "Starting processing of 2020-11-26.csv...\n",
      "F:\\Global Fishing Watch\\Fishing Intensity\\v2\\fleet-daily\\fleet-daily-csvs-100-v2-2020\\2020-11-26.csv\n",
      "Done with 2020_11_26...\n"
     ]
    },
    {
     "name": "stderr",
     "output_type": "stream",
     "text": [
      "C:\\Users\\keit8223\\AppData\\Local\\Temp\\1\\ipykernel_21680\\959929405.py:5: SettingWithCopyWarning: \n",
      "A value is trying to be set on a copy of a slice from a DataFrame\n",
      "\n",
      "See the caveats in the documentation: https://pandas.pydata.org/pandas-docs/stable/user_guide/indexing.html#returning-a-view-versus-a-copy\n",
      "  hours_select.drop(columns=['date', 'flag', 'geartype', 'fishing_hours', 'mmsi_present'], inplace=True)\n"
     ]
    },
    {
     "name": "stdout",
     "output_type": "stream",
     "text": [
      "3\n"
     ]
    },
    {
     "name": "stderr",
     "output_type": "stream",
     "text": [
      "C:\\Users\\keit8223\\AppData\\Local\\Temp\\1\\ipykernel_21680\\1813207608.py:4: SettingWithCopyWarning: \n",
      "A value is trying to be set on a copy of a slice from a DataFrame\n",
      "\n",
      "See the caveats in the documentation: https://pandas.pydata.org/pandas-docs/stable/user_guide/indexing.html#returning-a-view-versus-a-copy\n",
      "  fishhours_select.drop(columns=['date', 'flag', 'geartype', 'hours', 'mmsi_present'], inplace=True)\n"
     ]
    },
    {
     "name": "stdout",
     "output_type": "stream",
     "text": [
      "Starting processing of 2020-11-27.csv...\n",
      "F:\\Global Fishing Watch\\Fishing Intensity\\v2\\fleet-daily\\fleet-daily-csvs-100-v2-2020\\2020-11-27.csv\n",
      "Done with 2020_11_27...\n"
     ]
    },
    {
     "name": "stderr",
     "output_type": "stream",
     "text": [
      "C:\\Users\\keit8223\\AppData\\Local\\Temp\\1\\ipykernel_21680\\959929405.py:5: SettingWithCopyWarning: \n",
      "A value is trying to be set on a copy of a slice from a DataFrame\n",
      "\n",
      "See the caveats in the documentation: https://pandas.pydata.org/pandas-docs/stable/user_guide/indexing.html#returning-a-view-versus-a-copy\n",
      "  hours_select.drop(columns=['date', 'flag', 'geartype', 'fishing_hours', 'mmsi_present'], inplace=True)\n"
     ]
    },
    {
     "name": "stdout",
     "output_type": "stream",
     "text": [
      "3\n"
     ]
    },
    {
     "name": "stderr",
     "output_type": "stream",
     "text": [
      "C:\\Users\\keit8223\\AppData\\Local\\Temp\\1\\ipykernel_21680\\1813207608.py:4: SettingWithCopyWarning: \n",
      "A value is trying to be set on a copy of a slice from a DataFrame\n",
      "\n",
      "See the caveats in the documentation: https://pandas.pydata.org/pandas-docs/stable/user_guide/indexing.html#returning-a-view-versus-a-copy\n",
      "  fishhours_select.drop(columns=['date', 'flag', 'geartype', 'hours', 'mmsi_present'], inplace=True)\n"
     ]
    },
    {
     "name": "stdout",
     "output_type": "stream",
     "text": [
      "Starting processing of 2020-11-28.csv...\n",
      "F:\\Global Fishing Watch\\Fishing Intensity\\v2\\fleet-daily\\fleet-daily-csvs-100-v2-2020\\2020-11-28.csv\n",
      "Done with 2020_11_28...\n"
     ]
    },
    {
     "name": "stderr",
     "output_type": "stream",
     "text": [
      "C:\\Users\\keit8223\\AppData\\Local\\Temp\\1\\ipykernel_21680\\959929405.py:5: SettingWithCopyWarning: \n",
      "A value is trying to be set on a copy of a slice from a DataFrame\n",
      "\n",
      "See the caveats in the documentation: https://pandas.pydata.org/pandas-docs/stable/user_guide/indexing.html#returning-a-view-versus-a-copy\n",
      "  hours_select.drop(columns=['date', 'flag', 'geartype', 'fishing_hours', 'mmsi_present'], inplace=True)\n"
     ]
    },
    {
     "name": "stdout",
     "output_type": "stream",
     "text": [
      "3\n"
     ]
    },
    {
     "name": "stderr",
     "output_type": "stream",
     "text": [
      "C:\\Users\\keit8223\\AppData\\Local\\Temp\\1\\ipykernel_21680\\1813207608.py:4: SettingWithCopyWarning: \n",
      "A value is trying to be set on a copy of a slice from a DataFrame\n",
      "\n",
      "See the caveats in the documentation: https://pandas.pydata.org/pandas-docs/stable/user_guide/indexing.html#returning-a-view-versus-a-copy\n",
      "  fishhours_select.drop(columns=['date', 'flag', 'geartype', 'hours', 'mmsi_present'], inplace=True)\n"
     ]
    },
    {
     "name": "stdout",
     "output_type": "stream",
     "text": [
      "Starting processing of 2020-11-29.csv...\n",
      "F:\\Global Fishing Watch\\Fishing Intensity\\v2\\fleet-daily\\fleet-daily-csvs-100-v2-2020\\2020-11-29.csv\n",
      "Done with 2020_11_29...\n"
     ]
    },
    {
     "name": "stderr",
     "output_type": "stream",
     "text": [
      "C:\\Users\\keit8223\\AppData\\Local\\Temp\\1\\ipykernel_21680\\959929405.py:5: SettingWithCopyWarning: \n",
      "A value is trying to be set on a copy of a slice from a DataFrame\n",
      "\n",
      "See the caveats in the documentation: https://pandas.pydata.org/pandas-docs/stable/user_guide/indexing.html#returning-a-view-versus-a-copy\n",
      "  hours_select.drop(columns=['date', 'flag', 'geartype', 'fishing_hours', 'mmsi_present'], inplace=True)\n"
     ]
    },
    {
     "name": "stdout",
     "output_type": "stream",
     "text": [
      "3\n"
     ]
    },
    {
     "name": "stderr",
     "output_type": "stream",
     "text": [
      "C:\\Users\\keit8223\\AppData\\Local\\Temp\\1\\ipykernel_21680\\1813207608.py:4: SettingWithCopyWarning: \n",
      "A value is trying to be set on a copy of a slice from a DataFrame\n",
      "\n",
      "See the caveats in the documentation: https://pandas.pydata.org/pandas-docs/stable/user_guide/indexing.html#returning-a-view-versus-a-copy\n",
      "  fishhours_select.drop(columns=['date', 'flag', 'geartype', 'hours', 'mmsi_present'], inplace=True)\n"
     ]
    },
    {
     "name": "stdout",
     "output_type": "stream",
     "text": [
      "Starting processing of 2020-11-30.csv...\n",
      "F:\\Global Fishing Watch\\Fishing Intensity\\v2\\fleet-daily\\fleet-daily-csvs-100-v2-2020\\2020-11-30.csv\n",
      "Done with 2020_11_30...\n"
     ]
    },
    {
     "name": "stderr",
     "output_type": "stream",
     "text": [
      "C:\\Users\\keit8223\\AppData\\Local\\Temp\\1\\ipykernel_21680\\959929405.py:5: SettingWithCopyWarning: \n",
      "A value is trying to be set on a copy of a slice from a DataFrame\n",
      "\n",
      "See the caveats in the documentation: https://pandas.pydata.org/pandas-docs/stable/user_guide/indexing.html#returning-a-view-versus-a-copy\n",
      "  hours_select.drop(columns=['date', 'flag', 'geartype', 'fishing_hours', 'mmsi_present'], inplace=True)\n"
     ]
    },
    {
     "name": "stdout",
     "output_type": "stream",
     "text": [
      "3\n"
     ]
    },
    {
     "name": "stderr",
     "output_type": "stream",
     "text": [
      "C:\\Users\\keit8223\\AppData\\Local\\Temp\\1\\ipykernel_21680\\1813207608.py:4: SettingWithCopyWarning: \n",
      "A value is trying to be set on a copy of a slice from a DataFrame\n",
      "\n",
      "See the caveats in the documentation: https://pandas.pydata.org/pandas-docs/stable/user_guide/indexing.html#returning-a-view-versus-a-copy\n",
      "  fishhours_select.drop(columns=['date', 'flag', 'geartype', 'hours', 'mmsi_present'], inplace=True)\n"
     ]
    },
    {
     "name": "stdout",
     "output_type": "stream",
     "text": [
      "Starting processing of 2020-12-01.csv...\n",
      "F:\\Global Fishing Watch\\Fishing Intensity\\v2\\fleet-daily\\fleet-daily-csvs-100-v2-2020\\2020-12-01.csv\n",
      "Done with 2020_12_01...\n"
     ]
    },
    {
     "name": "stderr",
     "output_type": "stream",
     "text": [
      "C:\\Users\\keit8223\\AppData\\Local\\Temp\\1\\ipykernel_21680\\959929405.py:5: SettingWithCopyWarning: \n",
      "A value is trying to be set on a copy of a slice from a DataFrame\n",
      "\n",
      "See the caveats in the documentation: https://pandas.pydata.org/pandas-docs/stable/user_guide/indexing.html#returning-a-view-versus-a-copy\n",
      "  hours_select.drop(columns=['date', 'flag', 'geartype', 'fishing_hours', 'mmsi_present'], inplace=True)\n"
     ]
    },
    {
     "name": "stdout",
     "output_type": "stream",
     "text": [
      "3\n"
     ]
    },
    {
     "name": "stderr",
     "output_type": "stream",
     "text": [
      "C:\\Users\\keit8223\\AppData\\Local\\Temp\\1\\ipykernel_21680\\1813207608.py:4: SettingWithCopyWarning: \n",
      "A value is trying to be set on a copy of a slice from a DataFrame\n",
      "\n",
      "See the caveats in the documentation: https://pandas.pydata.org/pandas-docs/stable/user_guide/indexing.html#returning-a-view-versus-a-copy\n",
      "  fishhours_select.drop(columns=['date', 'flag', 'geartype', 'hours', 'mmsi_present'], inplace=True)\n"
     ]
    },
    {
     "name": "stdout",
     "output_type": "stream",
     "text": [
      "Starting processing of 2020-12-02.csv...\n",
      "F:\\Global Fishing Watch\\Fishing Intensity\\v2\\fleet-daily\\fleet-daily-csvs-100-v2-2020\\2020-12-02.csv\n",
      "Done with 2020_12_02...\n"
     ]
    },
    {
     "name": "stderr",
     "output_type": "stream",
     "text": [
      "C:\\Users\\keit8223\\AppData\\Local\\Temp\\1\\ipykernel_21680\\959929405.py:5: SettingWithCopyWarning: \n",
      "A value is trying to be set on a copy of a slice from a DataFrame\n",
      "\n",
      "See the caveats in the documentation: https://pandas.pydata.org/pandas-docs/stable/user_guide/indexing.html#returning-a-view-versus-a-copy\n",
      "  hours_select.drop(columns=['date', 'flag', 'geartype', 'fishing_hours', 'mmsi_present'], inplace=True)\n"
     ]
    },
    {
     "name": "stdout",
     "output_type": "stream",
     "text": [
      "3\n"
     ]
    },
    {
     "name": "stderr",
     "output_type": "stream",
     "text": [
      "C:\\Users\\keit8223\\AppData\\Local\\Temp\\1\\ipykernel_21680\\1813207608.py:4: SettingWithCopyWarning: \n",
      "A value is trying to be set on a copy of a slice from a DataFrame\n",
      "\n",
      "See the caveats in the documentation: https://pandas.pydata.org/pandas-docs/stable/user_guide/indexing.html#returning-a-view-versus-a-copy\n",
      "  fishhours_select.drop(columns=['date', 'flag', 'geartype', 'hours', 'mmsi_present'], inplace=True)\n"
     ]
    },
    {
     "name": "stdout",
     "output_type": "stream",
     "text": [
      "Starting processing of 2020-12-03.csv...\n",
      "F:\\Global Fishing Watch\\Fishing Intensity\\v2\\fleet-daily\\fleet-daily-csvs-100-v2-2020\\2020-12-03.csv\n",
      "Done with 2020_12_03...\n"
     ]
    },
    {
     "name": "stderr",
     "output_type": "stream",
     "text": [
      "C:\\Users\\keit8223\\AppData\\Local\\Temp\\1\\ipykernel_21680\\959929405.py:5: SettingWithCopyWarning: \n",
      "A value is trying to be set on a copy of a slice from a DataFrame\n",
      "\n",
      "See the caveats in the documentation: https://pandas.pydata.org/pandas-docs/stable/user_guide/indexing.html#returning-a-view-versus-a-copy\n",
      "  hours_select.drop(columns=['date', 'flag', 'geartype', 'fishing_hours', 'mmsi_present'], inplace=True)\n"
     ]
    },
    {
     "name": "stdout",
     "output_type": "stream",
     "text": [
      "3\n"
     ]
    },
    {
     "name": "stderr",
     "output_type": "stream",
     "text": [
      "C:\\Users\\keit8223\\AppData\\Local\\Temp\\1\\ipykernel_21680\\1813207608.py:4: SettingWithCopyWarning: \n",
      "A value is trying to be set on a copy of a slice from a DataFrame\n",
      "\n",
      "See the caveats in the documentation: https://pandas.pydata.org/pandas-docs/stable/user_guide/indexing.html#returning-a-view-versus-a-copy\n",
      "  fishhours_select.drop(columns=['date', 'flag', 'geartype', 'hours', 'mmsi_present'], inplace=True)\n"
     ]
    },
    {
     "name": "stdout",
     "output_type": "stream",
     "text": [
      "Starting processing of 2020-12-04.csv...\n",
      "F:\\Global Fishing Watch\\Fishing Intensity\\v2\\fleet-daily\\fleet-daily-csvs-100-v2-2020\\2020-12-04.csv\n",
      "Done with 2020_12_04...\n"
     ]
    },
    {
     "name": "stderr",
     "output_type": "stream",
     "text": [
      "C:\\Users\\keit8223\\AppData\\Local\\Temp\\1\\ipykernel_21680\\959929405.py:5: SettingWithCopyWarning: \n",
      "A value is trying to be set on a copy of a slice from a DataFrame\n",
      "\n",
      "See the caveats in the documentation: https://pandas.pydata.org/pandas-docs/stable/user_guide/indexing.html#returning-a-view-versus-a-copy\n",
      "  hours_select.drop(columns=['date', 'flag', 'geartype', 'fishing_hours', 'mmsi_present'], inplace=True)\n"
     ]
    },
    {
     "name": "stdout",
     "output_type": "stream",
     "text": [
      "3\n"
     ]
    },
    {
     "name": "stderr",
     "output_type": "stream",
     "text": [
      "C:\\Users\\keit8223\\AppData\\Local\\Temp\\1\\ipykernel_21680\\1813207608.py:4: SettingWithCopyWarning: \n",
      "A value is trying to be set on a copy of a slice from a DataFrame\n",
      "\n",
      "See the caveats in the documentation: https://pandas.pydata.org/pandas-docs/stable/user_guide/indexing.html#returning-a-view-versus-a-copy\n",
      "  fishhours_select.drop(columns=['date', 'flag', 'geartype', 'hours', 'mmsi_present'], inplace=True)\n"
     ]
    },
    {
     "name": "stdout",
     "output_type": "stream",
     "text": [
      "Starting processing of 2020-12-05.csv...\n",
      "F:\\Global Fishing Watch\\Fishing Intensity\\v2\\fleet-daily\\fleet-daily-csvs-100-v2-2020\\2020-12-05.csv\n",
      "Done with 2020_12_05...\n"
     ]
    },
    {
     "name": "stderr",
     "output_type": "stream",
     "text": [
      "C:\\Users\\keit8223\\AppData\\Local\\Temp\\1\\ipykernel_21680\\959929405.py:5: SettingWithCopyWarning: \n",
      "A value is trying to be set on a copy of a slice from a DataFrame\n",
      "\n",
      "See the caveats in the documentation: https://pandas.pydata.org/pandas-docs/stable/user_guide/indexing.html#returning-a-view-versus-a-copy\n",
      "  hours_select.drop(columns=['date', 'flag', 'geartype', 'fishing_hours', 'mmsi_present'], inplace=True)\n"
     ]
    },
    {
     "name": "stdout",
     "output_type": "stream",
     "text": [
      "3\n"
     ]
    },
    {
     "name": "stderr",
     "output_type": "stream",
     "text": [
      "C:\\Users\\keit8223\\AppData\\Local\\Temp\\1\\ipykernel_21680\\1813207608.py:4: SettingWithCopyWarning: \n",
      "A value is trying to be set on a copy of a slice from a DataFrame\n",
      "\n",
      "See the caveats in the documentation: https://pandas.pydata.org/pandas-docs/stable/user_guide/indexing.html#returning-a-view-versus-a-copy\n",
      "  fishhours_select.drop(columns=['date', 'flag', 'geartype', 'hours', 'mmsi_present'], inplace=True)\n"
     ]
    },
    {
     "name": "stdout",
     "output_type": "stream",
     "text": [
      "Starting processing of 2020-12-06.csv...\n",
      "F:\\Global Fishing Watch\\Fishing Intensity\\v2\\fleet-daily\\fleet-daily-csvs-100-v2-2020\\2020-12-06.csv\n",
      "Done with 2020_12_06...\n"
     ]
    },
    {
     "name": "stderr",
     "output_type": "stream",
     "text": [
      "C:\\Users\\keit8223\\AppData\\Local\\Temp\\1\\ipykernel_21680\\959929405.py:5: SettingWithCopyWarning: \n",
      "A value is trying to be set on a copy of a slice from a DataFrame\n",
      "\n",
      "See the caveats in the documentation: https://pandas.pydata.org/pandas-docs/stable/user_guide/indexing.html#returning-a-view-versus-a-copy\n",
      "  hours_select.drop(columns=['date', 'flag', 'geartype', 'fishing_hours', 'mmsi_present'], inplace=True)\n"
     ]
    },
    {
     "name": "stdout",
     "output_type": "stream",
     "text": [
      "3\n"
     ]
    },
    {
     "name": "stderr",
     "output_type": "stream",
     "text": [
      "C:\\Users\\keit8223\\AppData\\Local\\Temp\\1\\ipykernel_21680\\1813207608.py:4: SettingWithCopyWarning: \n",
      "A value is trying to be set on a copy of a slice from a DataFrame\n",
      "\n",
      "See the caveats in the documentation: https://pandas.pydata.org/pandas-docs/stable/user_guide/indexing.html#returning-a-view-versus-a-copy\n",
      "  fishhours_select.drop(columns=['date', 'flag', 'geartype', 'hours', 'mmsi_present'], inplace=True)\n"
     ]
    },
    {
     "name": "stdout",
     "output_type": "stream",
     "text": [
      "Starting processing of 2020-12-07.csv...\n",
      "F:\\Global Fishing Watch\\Fishing Intensity\\v2\\fleet-daily\\fleet-daily-csvs-100-v2-2020\\2020-12-07.csv\n",
      "Done with 2020_12_07...\n"
     ]
    },
    {
     "name": "stderr",
     "output_type": "stream",
     "text": [
      "C:\\Users\\keit8223\\AppData\\Local\\Temp\\1\\ipykernel_21680\\959929405.py:5: SettingWithCopyWarning: \n",
      "A value is trying to be set on a copy of a slice from a DataFrame\n",
      "\n",
      "See the caveats in the documentation: https://pandas.pydata.org/pandas-docs/stable/user_guide/indexing.html#returning-a-view-versus-a-copy\n",
      "  hours_select.drop(columns=['date', 'flag', 'geartype', 'fishing_hours', 'mmsi_present'], inplace=True)\n"
     ]
    },
    {
     "name": "stdout",
     "output_type": "stream",
     "text": [
      "3\n"
     ]
    },
    {
     "name": "stderr",
     "output_type": "stream",
     "text": [
      "C:\\Users\\keit8223\\AppData\\Local\\Temp\\1\\ipykernel_21680\\1813207608.py:4: SettingWithCopyWarning: \n",
      "A value is trying to be set on a copy of a slice from a DataFrame\n",
      "\n",
      "See the caveats in the documentation: https://pandas.pydata.org/pandas-docs/stable/user_guide/indexing.html#returning-a-view-versus-a-copy\n",
      "  fishhours_select.drop(columns=['date', 'flag', 'geartype', 'hours', 'mmsi_present'], inplace=True)\n"
     ]
    },
    {
     "name": "stdout",
     "output_type": "stream",
     "text": [
      "Starting processing of 2020-12-08.csv...\n",
      "F:\\Global Fishing Watch\\Fishing Intensity\\v2\\fleet-daily\\fleet-daily-csvs-100-v2-2020\\2020-12-08.csv\n",
      "Done with 2020_12_08...\n"
     ]
    },
    {
     "name": "stderr",
     "output_type": "stream",
     "text": [
      "C:\\Users\\keit8223\\AppData\\Local\\Temp\\1\\ipykernel_21680\\959929405.py:5: SettingWithCopyWarning: \n",
      "A value is trying to be set on a copy of a slice from a DataFrame\n",
      "\n",
      "See the caveats in the documentation: https://pandas.pydata.org/pandas-docs/stable/user_guide/indexing.html#returning-a-view-versus-a-copy\n",
      "  hours_select.drop(columns=['date', 'flag', 'geartype', 'fishing_hours', 'mmsi_present'], inplace=True)\n"
     ]
    },
    {
     "name": "stdout",
     "output_type": "stream",
     "text": [
      "3\n"
     ]
    },
    {
     "name": "stderr",
     "output_type": "stream",
     "text": [
      "C:\\Users\\keit8223\\AppData\\Local\\Temp\\1\\ipykernel_21680\\1813207608.py:4: SettingWithCopyWarning: \n",
      "A value is trying to be set on a copy of a slice from a DataFrame\n",
      "\n",
      "See the caveats in the documentation: https://pandas.pydata.org/pandas-docs/stable/user_guide/indexing.html#returning-a-view-versus-a-copy\n",
      "  fishhours_select.drop(columns=['date', 'flag', 'geartype', 'hours', 'mmsi_present'], inplace=True)\n"
     ]
    },
    {
     "name": "stdout",
     "output_type": "stream",
     "text": [
      "Starting processing of 2020-12-09.csv...\n",
      "F:\\Global Fishing Watch\\Fishing Intensity\\v2\\fleet-daily\\fleet-daily-csvs-100-v2-2020\\2020-12-09.csv\n",
      "Done with 2020_12_09...\n"
     ]
    },
    {
     "name": "stderr",
     "output_type": "stream",
     "text": [
      "C:\\Users\\keit8223\\AppData\\Local\\Temp\\1\\ipykernel_21680\\959929405.py:5: SettingWithCopyWarning: \n",
      "A value is trying to be set on a copy of a slice from a DataFrame\n",
      "\n",
      "See the caveats in the documentation: https://pandas.pydata.org/pandas-docs/stable/user_guide/indexing.html#returning-a-view-versus-a-copy\n",
      "  hours_select.drop(columns=['date', 'flag', 'geartype', 'fishing_hours', 'mmsi_present'], inplace=True)\n"
     ]
    },
    {
     "name": "stdout",
     "output_type": "stream",
     "text": [
      "3\n"
     ]
    },
    {
     "name": "stderr",
     "output_type": "stream",
     "text": [
      "C:\\Users\\keit8223\\AppData\\Local\\Temp\\1\\ipykernel_21680\\1813207608.py:4: SettingWithCopyWarning: \n",
      "A value is trying to be set on a copy of a slice from a DataFrame\n",
      "\n",
      "See the caveats in the documentation: https://pandas.pydata.org/pandas-docs/stable/user_guide/indexing.html#returning-a-view-versus-a-copy\n",
      "  fishhours_select.drop(columns=['date', 'flag', 'geartype', 'hours', 'mmsi_present'], inplace=True)\n"
     ]
    },
    {
     "name": "stdout",
     "output_type": "stream",
     "text": [
      "Starting processing of 2020-12-10.csv...\n",
      "F:\\Global Fishing Watch\\Fishing Intensity\\v2\\fleet-daily\\fleet-daily-csvs-100-v2-2020\\2020-12-10.csv\n",
      "Done with 2020_12_10...\n"
     ]
    },
    {
     "name": "stderr",
     "output_type": "stream",
     "text": [
      "C:\\Users\\keit8223\\AppData\\Local\\Temp\\1\\ipykernel_21680\\959929405.py:5: SettingWithCopyWarning: \n",
      "A value is trying to be set on a copy of a slice from a DataFrame\n",
      "\n",
      "See the caveats in the documentation: https://pandas.pydata.org/pandas-docs/stable/user_guide/indexing.html#returning-a-view-versus-a-copy\n",
      "  hours_select.drop(columns=['date', 'flag', 'geartype', 'fishing_hours', 'mmsi_present'], inplace=True)\n"
     ]
    },
    {
     "name": "stdout",
     "output_type": "stream",
     "text": [
      "3\n"
     ]
    },
    {
     "name": "stderr",
     "output_type": "stream",
     "text": [
      "C:\\Users\\keit8223\\AppData\\Local\\Temp\\1\\ipykernel_21680\\1813207608.py:4: SettingWithCopyWarning: \n",
      "A value is trying to be set on a copy of a slice from a DataFrame\n",
      "\n",
      "See the caveats in the documentation: https://pandas.pydata.org/pandas-docs/stable/user_guide/indexing.html#returning-a-view-versus-a-copy\n",
      "  fishhours_select.drop(columns=['date', 'flag', 'geartype', 'hours', 'mmsi_present'], inplace=True)\n"
     ]
    },
    {
     "name": "stdout",
     "output_type": "stream",
     "text": [
      "Starting processing of 2020-12-11.csv...\n",
      "F:\\Global Fishing Watch\\Fishing Intensity\\v2\\fleet-daily\\fleet-daily-csvs-100-v2-2020\\2020-12-11.csv\n",
      "Done with 2020_12_11...\n"
     ]
    },
    {
     "name": "stderr",
     "output_type": "stream",
     "text": [
      "C:\\Users\\keit8223\\AppData\\Local\\Temp\\1\\ipykernel_21680\\959929405.py:5: SettingWithCopyWarning: \n",
      "A value is trying to be set on a copy of a slice from a DataFrame\n",
      "\n",
      "See the caveats in the documentation: https://pandas.pydata.org/pandas-docs/stable/user_guide/indexing.html#returning-a-view-versus-a-copy\n",
      "  hours_select.drop(columns=['date', 'flag', 'geartype', 'fishing_hours', 'mmsi_present'], inplace=True)\n"
     ]
    },
    {
     "name": "stdout",
     "output_type": "stream",
     "text": [
      "3\n"
     ]
    },
    {
     "name": "stderr",
     "output_type": "stream",
     "text": [
      "C:\\Users\\keit8223\\AppData\\Local\\Temp\\1\\ipykernel_21680\\1813207608.py:4: SettingWithCopyWarning: \n",
      "A value is trying to be set on a copy of a slice from a DataFrame\n",
      "\n",
      "See the caveats in the documentation: https://pandas.pydata.org/pandas-docs/stable/user_guide/indexing.html#returning-a-view-versus-a-copy\n",
      "  fishhours_select.drop(columns=['date', 'flag', 'geartype', 'hours', 'mmsi_present'], inplace=True)\n"
     ]
    },
    {
     "name": "stdout",
     "output_type": "stream",
     "text": [
      "Starting processing of 2020-12-12.csv...\n",
      "F:\\Global Fishing Watch\\Fishing Intensity\\v2\\fleet-daily\\fleet-daily-csvs-100-v2-2020\\2020-12-12.csv\n",
      "Done with 2020_12_12...\n"
     ]
    },
    {
     "name": "stderr",
     "output_type": "stream",
     "text": [
      "C:\\Users\\keit8223\\AppData\\Local\\Temp\\1\\ipykernel_21680\\959929405.py:5: SettingWithCopyWarning: \n",
      "A value is trying to be set on a copy of a slice from a DataFrame\n",
      "\n",
      "See the caveats in the documentation: https://pandas.pydata.org/pandas-docs/stable/user_guide/indexing.html#returning-a-view-versus-a-copy\n",
      "  hours_select.drop(columns=['date', 'flag', 'geartype', 'fishing_hours', 'mmsi_present'], inplace=True)\n"
     ]
    },
    {
     "name": "stdout",
     "output_type": "stream",
     "text": [
      "3\n"
     ]
    },
    {
     "name": "stderr",
     "output_type": "stream",
     "text": [
      "C:\\Users\\keit8223\\AppData\\Local\\Temp\\1\\ipykernel_21680\\1813207608.py:4: SettingWithCopyWarning: \n",
      "A value is trying to be set on a copy of a slice from a DataFrame\n",
      "\n",
      "See the caveats in the documentation: https://pandas.pydata.org/pandas-docs/stable/user_guide/indexing.html#returning-a-view-versus-a-copy\n",
      "  fishhours_select.drop(columns=['date', 'flag', 'geartype', 'hours', 'mmsi_present'], inplace=True)\n"
     ]
    },
    {
     "name": "stdout",
     "output_type": "stream",
     "text": [
      "Starting processing of 2020-12-13.csv...\n",
      "F:\\Global Fishing Watch\\Fishing Intensity\\v2\\fleet-daily\\fleet-daily-csvs-100-v2-2020\\2020-12-13.csv\n",
      "Done with 2020_12_13...\n"
     ]
    },
    {
     "name": "stderr",
     "output_type": "stream",
     "text": [
      "C:\\Users\\keit8223\\AppData\\Local\\Temp\\1\\ipykernel_21680\\959929405.py:5: SettingWithCopyWarning: \n",
      "A value is trying to be set on a copy of a slice from a DataFrame\n",
      "\n",
      "See the caveats in the documentation: https://pandas.pydata.org/pandas-docs/stable/user_guide/indexing.html#returning-a-view-versus-a-copy\n",
      "  hours_select.drop(columns=['date', 'flag', 'geartype', 'fishing_hours', 'mmsi_present'], inplace=True)\n"
     ]
    },
    {
     "name": "stdout",
     "output_type": "stream",
     "text": [
      "3\n"
     ]
    },
    {
     "name": "stderr",
     "output_type": "stream",
     "text": [
      "C:\\Users\\keit8223\\AppData\\Local\\Temp\\1\\ipykernel_21680\\1813207608.py:4: SettingWithCopyWarning: \n",
      "A value is trying to be set on a copy of a slice from a DataFrame\n",
      "\n",
      "See the caveats in the documentation: https://pandas.pydata.org/pandas-docs/stable/user_guide/indexing.html#returning-a-view-versus-a-copy\n",
      "  fishhours_select.drop(columns=['date', 'flag', 'geartype', 'hours', 'mmsi_present'], inplace=True)\n"
     ]
    },
    {
     "name": "stdout",
     "output_type": "stream",
     "text": [
      "Starting processing of 2020-12-14.csv...\n",
      "F:\\Global Fishing Watch\\Fishing Intensity\\v2\\fleet-daily\\fleet-daily-csvs-100-v2-2020\\2020-12-14.csv\n",
      "Done with 2020_12_14...\n"
     ]
    },
    {
     "name": "stderr",
     "output_type": "stream",
     "text": [
      "C:\\Users\\keit8223\\AppData\\Local\\Temp\\1\\ipykernel_21680\\959929405.py:5: SettingWithCopyWarning: \n",
      "A value is trying to be set on a copy of a slice from a DataFrame\n",
      "\n",
      "See the caveats in the documentation: https://pandas.pydata.org/pandas-docs/stable/user_guide/indexing.html#returning-a-view-versus-a-copy\n",
      "  hours_select.drop(columns=['date', 'flag', 'geartype', 'fishing_hours', 'mmsi_present'], inplace=True)\n"
     ]
    },
    {
     "name": "stdout",
     "output_type": "stream",
     "text": [
      "3\n"
     ]
    },
    {
     "name": "stderr",
     "output_type": "stream",
     "text": [
      "C:\\Users\\keit8223\\AppData\\Local\\Temp\\1\\ipykernel_21680\\1813207608.py:4: SettingWithCopyWarning: \n",
      "A value is trying to be set on a copy of a slice from a DataFrame\n",
      "\n",
      "See the caveats in the documentation: https://pandas.pydata.org/pandas-docs/stable/user_guide/indexing.html#returning-a-view-versus-a-copy\n",
      "  fishhours_select.drop(columns=['date', 'flag', 'geartype', 'hours', 'mmsi_present'], inplace=True)\n"
     ]
    },
    {
     "name": "stdout",
     "output_type": "stream",
     "text": [
      "Starting processing of 2020-12-15.csv...\n",
      "F:\\Global Fishing Watch\\Fishing Intensity\\v2\\fleet-daily\\fleet-daily-csvs-100-v2-2020\\2020-12-15.csv\n",
      "Done with 2020_12_15...\n"
     ]
    },
    {
     "name": "stderr",
     "output_type": "stream",
     "text": [
      "C:\\Users\\keit8223\\AppData\\Local\\Temp\\1\\ipykernel_21680\\959929405.py:5: SettingWithCopyWarning: \n",
      "A value is trying to be set on a copy of a slice from a DataFrame\n",
      "\n",
      "See the caveats in the documentation: https://pandas.pydata.org/pandas-docs/stable/user_guide/indexing.html#returning-a-view-versus-a-copy\n",
      "  hours_select.drop(columns=['date', 'flag', 'geartype', 'fishing_hours', 'mmsi_present'], inplace=True)\n"
     ]
    },
    {
     "name": "stdout",
     "output_type": "stream",
     "text": [
      "3\n"
     ]
    },
    {
     "name": "stderr",
     "output_type": "stream",
     "text": [
      "C:\\Users\\keit8223\\AppData\\Local\\Temp\\1\\ipykernel_21680\\1813207608.py:4: SettingWithCopyWarning: \n",
      "A value is trying to be set on a copy of a slice from a DataFrame\n",
      "\n",
      "See the caveats in the documentation: https://pandas.pydata.org/pandas-docs/stable/user_guide/indexing.html#returning-a-view-versus-a-copy\n",
      "  fishhours_select.drop(columns=['date', 'flag', 'geartype', 'hours', 'mmsi_present'], inplace=True)\n"
     ]
    },
    {
     "name": "stdout",
     "output_type": "stream",
     "text": [
      "Starting processing of 2020-12-16.csv...\n",
      "F:\\Global Fishing Watch\\Fishing Intensity\\v2\\fleet-daily\\fleet-daily-csvs-100-v2-2020\\2020-12-16.csv\n",
      "Done with 2020_12_16...\n"
     ]
    },
    {
     "name": "stderr",
     "output_type": "stream",
     "text": [
      "C:\\Users\\keit8223\\AppData\\Local\\Temp\\1\\ipykernel_21680\\959929405.py:5: SettingWithCopyWarning: \n",
      "A value is trying to be set on a copy of a slice from a DataFrame\n",
      "\n",
      "See the caveats in the documentation: https://pandas.pydata.org/pandas-docs/stable/user_guide/indexing.html#returning-a-view-versus-a-copy\n",
      "  hours_select.drop(columns=['date', 'flag', 'geartype', 'fishing_hours', 'mmsi_present'], inplace=True)\n"
     ]
    },
    {
     "name": "stdout",
     "output_type": "stream",
     "text": [
      "3\n"
     ]
    },
    {
     "name": "stderr",
     "output_type": "stream",
     "text": [
      "C:\\Users\\keit8223\\AppData\\Local\\Temp\\1\\ipykernel_21680\\1813207608.py:4: SettingWithCopyWarning: \n",
      "A value is trying to be set on a copy of a slice from a DataFrame\n",
      "\n",
      "See the caveats in the documentation: https://pandas.pydata.org/pandas-docs/stable/user_guide/indexing.html#returning-a-view-versus-a-copy\n",
      "  fishhours_select.drop(columns=['date', 'flag', 'geartype', 'hours', 'mmsi_present'], inplace=True)\n"
     ]
    },
    {
     "name": "stdout",
     "output_type": "stream",
     "text": [
      "Starting processing of 2020-12-17.csv...\n",
      "F:\\Global Fishing Watch\\Fishing Intensity\\v2\\fleet-daily\\fleet-daily-csvs-100-v2-2020\\2020-12-17.csv\n",
      "Done with 2020_12_17...\n"
     ]
    },
    {
     "name": "stderr",
     "output_type": "stream",
     "text": [
      "C:\\Users\\keit8223\\AppData\\Local\\Temp\\1\\ipykernel_21680\\959929405.py:5: SettingWithCopyWarning: \n",
      "A value is trying to be set on a copy of a slice from a DataFrame\n",
      "\n",
      "See the caveats in the documentation: https://pandas.pydata.org/pandas-docs/stable/user_guide/indexing.html#returning-a-view-versus-a-copy\n",
      "  hours_select.drop(columns=['date', 'flag', 'geartype', 'fishing_hours', 'mmsi_present'], inplace=True)\n"
     ]
    },
    {
     "name": "stdout",
     "output_type": "stream",
     "text": [
      "3\n"
     ]
    },
    {
     "name": "stderr",
     "output_type": "stream",
     "text": [
      "C:\\Users\\keit8223\\AppData\\Local\\Temp\\1\\ipykernel_21680\\1813207608.py:4: SettingWithCopyWarning: \n",
      "A value is trying to be set on a copy of a slice from a DataFrame\n",
      "\n",
      "See the caveats in the documentation: https://pandas.pydata.org/pandas-docs/stable/user_guide/indexing.html#returning-a-view-versus-a-copy\n",
      "  fishhours_select.drop(columns=['date', 'flag', 'geartype', 'hours', 'mmsi_present'], inplace=True)\n"
     ]
    },
    {
     "name": "stdout",
     "output_type": "stream",
     "text": [
      "Starting processing of 2020-12-18.csv...\n",
      "F:\\Global Fishing Watch\\Fishing Intensity\\v2\\fleet-daily\\fleet-daily-csvs-100-v2-2020\\2020-12-18.csv\n",
      "Done with 2020_12_18...\n"
     ]
    },
    {
     "name": "stderr",
     "output_type": "stream",
     "text": [
      "C:\\Users\\keit8223\\AppData\\Local\\Temp\\1\\ipykernel_21680\\959929405.py:5: SettingWithCopyWarning: \n",
      "A value is trying to be set on a copy of a slice from a DataFrame\n",
      "\n",
      "See the caveats in the documentation: https://pandas.pydata.org/pandas-docs/stable/user_guide/indexing.html#returning-a-view-versus-a-copy\n",
      "  hours_select.drop(columns=['date', 'flag', 'geartype', 'fishing_hours', 'mmsi_present'], inplace=True)\n"
     ]
    },
    {
     "name": "stdout",
     "output_type": "stream",
     "text": [
      "3\n"
     ]
    },
    {
     "name": "stderr",
     "output_type": "stream",
     "text": [
      "C:\\Users\\keit8223\\AppData\\Local\\Temp\\1\\ipykernel_21680\\1813207608.py:4: SettingWithCopyWarning: \n",
      "A value is trying to be set on a copy of a slice from a DataFrame\n",
      "\n",
      "See the caveats in the documentation: https://pandas.pydata.org/pandas-docs/stable/user_guide/indexing.html#returning-a-view-versus-a-copy\n",
      "  fishhours_select.drop(columns=['date', 'flag', 'geartype', 'hours', 'mmsi_present'], inplace=True)\n"
     ]
    },
    {
     "name": "stdout",
     "output_type": "stream",
     "text": [
      "Starting processing of 2020-12-19.csv...\n",
      "F:\\Global Fishing Watch\\Fishing Intensity\\v2\\fleet-daily\\fleet-daily-csvs-100-v2-2020\\2020-12-19.csv\n",
      "Done with 2020_12_19...\n"
     ]
    },
    {
     "name": "stderr",
     "output_type": "stream",
     "text": [
      "C:\\Users\\keit8223\\AppData\\Local\\Temp\\1\\ipykernel_21680\\959929405.py:5: SettingWithCopyWarning: \n",
      "A value is trying to be set on a copy of a slice from a DataFrame\n",
      "\n",
      "See the caveats in the documentation: https://pandas.pydata.org/pandas-docs/stable/user_guide/indexing.html#returning-a-view-versus-a-copy\n",
      "  hours_select.drop(columns=['date', 'flag', 'geartype', 'fishing_hours', 'mmsi_present'], inplace=True)\n"
     ]
    },
    {
     "name": "stdout",
     "output_type": "stream",
     "text": [
      "3\n"
     ]
    },
    {
     "name": "stderr",
     "output_type": "stream",
     "text": [
      "C:\\Users\\keit8223\\AppData\\Local\\Temp\\1\\ipykernel_21680\\1813207608.py:4: SettingWithCopyWarning: \n",
      "A value is trying to be set on a copy of a slice from a DataFrame\n",
      "\n",
      "See the caveats in the documentation: https://pandas.pydata.org/pandas-docs/stable/user_guide/indexing.html#returning-a-view-versus-a-copy\n",
      "  fishhours_select.drop(columns=['date', 'flag', 'geartype', 'hours', 'mmsi_present'], inplace=True)\n"
     ]
    },
    {
     "name": "stdout",
     "output_type": "stream",
     "text": [
      "Starting processing of 2020-12-20.csv...\n",
      "F:\\Global Fishing Watch\\Fishing Intensity\\v2\\fleet-daily\\fleet-daily-csvs-100-v2-2020\\2020-12-20.csv\n",
      "Done with 2020_12_20...\n"
     ]
    },
    {
     "name": "stderr",
     "output_type": "stream",
     "text": [
      "C:\\Users\\keit8223\\AppData\\Local\\Temp\\1\\ipykernel_21680\\959929405.py:5: SettingWithCopyWarning: \n",
      "A value is trying to be set on a copy of a slice from a DataFrame\n",
      "\n",
      "See the caveats in the documentation: https://pandas.pydata.org/pandas-docs/stable/user_guide/indexing.html#returning-a-view-versus-a-copy\n",
      "  hours_select.drop(columns=['date', 'flag', 'geartype', 'fishing_hours', 'mmsi_present'], inplace=True)\n"
     ]
    },
    {
     "name": "stdout",
     "output_type": "stream",
     "text": [
      "3\n"
     ]
    },
    {
     "name": "stderr",
     "output_type": "stream",
     "text": [
      "C:\\Users\\keit8223\\AppData\\Local\\Temp\\1\\ipykernel_21680\\1813207608.py:4: SettingWithCopyWarning: \n",
      "A value is trying to be set on a copy of a slice from a DataFrame\n",
      "\n",
      "See the caveats in the documentation: https://pandas.pydata.org/pandas-docs/stable/user_guide/indexing.html#returning-a-view-versus-a-copy\n",
      "  fishhours_select.drop(columns=['date', 'flag', 'geartype', 'hours', 'mmsi_present'], inplace=True)\n"
     ]
    },
    {
     "name": "stdout",
     "output_type": "stream",
     "text": [
      "Starting processing of 2020-12-21.csv...\n",
      "F:\\Global Fishing Watch\\Fishing Intensity\\v2\\fleet-daily\\fleet-daily-csvs-100-v2-2020\\2020-12-21.csv\n",
      "Done with 2020_12_21...\n"
     ]
    },
    {
     "name": "stderr",
     "output_type": "stream",
     "text": [
      "C:\\Users\\keit8223\\AppData\\Local\\Temp\\1\\ipykernel_21680\\959929405.py:5: SettingWithCopyWarning: \n",
      "A value is trying to be set on a copy of a slice from a DataFrame\n",
      "\n",
      "See the caveats in the documentation: https://pandas.pydata.org/pandas-docs/stable/user_guide/indexing.html#returning-a-view-versus-a-copy\n",
      "  hours_select.drop(columns=['date', 'flag', 'geartype', 'fishing_hours', 'mmsi_present'], inplace=True)\n"
     ]
    },
    {
     "name": "stdout",
     "output_type": "stream",
     "text": [
      "3\n"
     ]
    },
    {
     "name": "stderr",
     "output_type": "stream",
     "text": [
      "C:\\Users\\keit8223\\AppData\\Local\\Temp\\1\\ipykernel_21680\\1813207608.py:4: SettingWithCopyWarning: \n",
      "A value is trying to be set on a copy of a slice from a DataFrame\n",
      "\n",
      "See the caveats in the documentation: https://pandas.pydata.org/pandas-docs/stable/user_guide/indexing.html#returning-a-view-versus-a-copy\n",
      "  fishhours_select.drop(columns=['date', 'flag', 'geartype', 'hours', 'mmsi_present'], inplace=True)\n"
     ]
    },
    {
     "name": "stdout",
     "output_type": "stream",
     "text": [
      "Starting processing of 2020-12-22.csv...\n",
      "F:\\Global Fishing Watch\\Fishing Intensity\\v2\\fleet-daily\\fleet-daily-csvs-100-v2-2020\\2020-12-22.csv\n",
      "Done with 2020_12_22...\n"
     ]
    },
    {
     "name": "stderr",
     "output_type": "stream",
     "text": [
      "C:\\Users\\keit8223\\AppData\\Local\\Temp\\1\\ipykernel_21680\\959929405.py:5: SettingWithCopyWarning: \n",
      "A value is trying to be set on a copy of a slice from a DataFrame\n",
      "\n",
      "See the caveats in the documentation: https://pandas.pydata.org/pandas-docs/stable/user_guide/indexing.html#returning-a-view-versus-a-copy\n",
      "  hours_select.drop(columns=['date', 'flag', 'geartype', 'fishing_hours', 'mmsi_present'], inplace=True)\n"
     ]
    },
    {
     "name": "stdout",
     "output_type": "stream",
     "text": [
      "3\n"
     ]
    },
    {
     "name": "stderr",
     "output_type": "stream",
     "text": [
      "C:\\Users\\keit8223\\AppData\\Local\\Temp\\1\\ipykernel_21680\\1813207608.py:4: SettingWithCopyWarning: \n",
      "A value is trying to be set on a copy of a slice from a DataFrame\n",
      "\n",
      "See the caveats in the documentation: https://pandas.pydata.org/pandas-docs/stable/user_guide/indexing.html#returning-a-view-versus-a-copy\n",
      "  fishhours_select.drop(columns=['date', 'flag', 'geartype', 'hours', 'mmsi_present'], inplace=True)\n"
     ]
    },
    {
     "name": "stdout",
     "output_type": "stream",
     "text": [
      "Starting processing of 2020-12-23.csv...\n",
      "F:\\Global Fishing Watch\\Fishing Intensity\\v2\\fleet-daily\\fleet-daily-csvs-100-v2-2020\\2020-12-23.csv\n",
      "Done with 2020_12_23...\n"
     ]
    },
    {
     "name": "stderr",
     "output_type": "stream",
     "text": [
      "C:\\Users\\keit8223\\AppData\\Local\\Temp\\1\\ipykernel_21680\\959929405.py:5: SettingWithCopyWarning: \n",
      "A value is trying to be set on a copy of a slice from a DataFrame\n",
      "\n",
      "See the caveats in the documentation: https://pandas.pydata.org/pandas-docs/stable/user_guide/indexing.html#returning-a-view-versus-a-copy\n",
      "  hours_select.drop(columns=['date', 'flag', 'geartype', 'fishing_hours', 'mmsi_present'], inplace=True)\n"
     ]
    },
    {
     "name": "stdout",
     "output_type": "stream",
     "text": [
      "3\n"
     ]
    },
    {
     "name": "stderr",
     "output_type": "stream",
     "text": [
      "C:\\Users\\keit8223\\AppData\\Local\\Temp\\1\\ipykernel_21680\\1813207608.py:4: SettingWithCopyWarning: \n",
      "A value is trying to be set on a copy of a slice from a DataFrame\n",
      "\n",
      "See the caveats in the documentation: https://pandas.pydata.org/pandas-docs/stable/user_guide/indexing.html#returning-a-view-versus-a-copy\n",
      "  fishhours_select.drop(columns=['date', 'flag', 'geartype', 'hours', 'mmsi_present'], inplace=True)\n"
     ]
    },
    {
     "name": "stdout",
     "output_type": "stream",
     "text": [
      "Starting processing of 2020-12-24.csv...\n",
      "F:\\Global Fishing Watch\\Fishing Intensity\\v2\\fleet-daily\\fleet-daily-csvs-100-v2-2020\\2020-12-24.csv\n",
      "Done with 2020_12_24...\n"
     ]
    },
    {
     "name": "stderr",
     "output_type": "stream",
     "text": [
      "C:\\Users\\keit8223\\AppData\\Local\\Temp\\1\\ipykernel_21680\\959929405.py:5: SettingWithCopyWarning: \n",
      "A value is trying to be set on a copy of a slice from a DataFrame\n",
      "\n",
      "See the caveats in the documentation: https://pandas.pydata.org/pandas-docs/stable/user_guide/indexing.html#returning-a-view-versus-a-copy\n",
      "  hours_select.drop(columns=['date', 'flag', 'geartype', 'fishing_hours', 'mmsi_present'], inplace=True)\n"
     ]
    },
    {
     "name": "stdout",
     "output_type": "stream",
     "text": [
      "3\n"
     ]
    },
    {
     "name": "stderr",
     "output_type": "stream",
     "text": [
      "C:\\Users\\keit8223\\AppData\\Local\\Temp\\1\\ipykernel_21680\\1813207608.py:4: SettingWithCopyWarning: \n",
      "A value is trying to be set on a copy of a slice from a DataFrame\n",
      "\n",
      "See the caveats in the documentation: https://pandas.pydata.org/pandas-docs/stable/user_guide/indexing.html#returning-a-view-versus-a-copy\n",
      "  fishhours_select.drop(columns=['date', 'flag', 'geartype', 'hours', 'mmsi_present'], inplace=True)\n"
     ]
    },
    {
     "name": "stdout",
     "output_type": "stream",
     "text": [
      "Starting processing of 2020-12-25.csv...\n",
      "F:\\Global Fishing Watch\\Fishing Intensity\\v2\\fleet-daily\\fleet-daily-csvs-100-v2-2020\\2020-12-25.csv\n",
      "Done with 2020_12_25...\n"
     ]
    },
    {
     "name": "stderr",
     "output_type": "stream",
     "text": [
      "C:\\Users\\keit8223\\AppData\\Local\\Temp\\1\\ipykernel_21680\\959929405.py:5: SettingWithCopyWarning: \n",
      "A value is trying to be set on a copy of a slice from a DataFrame\n",
      "\n",
      "See the caveats in the documentation: https://pandas.pydata.org/pandas-docs/stable/user_guide/indexing.html#returning-a-view-versus-a-copy\n",
      "  hours_select.drop(columns=['date', 'flag', 'geartype', 'fishing_hours', 'mmsi_present'], inplace=True)\n"
     ]
    },
    {
     "name": "stdout",
     "output_type": "stream",
     "text": [
      "3\n"
     ]
    },
    {
     "name": "stderr",
     "output_type": "stream",
     "text": [
      "C:\\Users\\keit8223\\AppData\\Local\\Temp\\1\\ipykernel_21680\\1813207608.py:4: SettingWithCopyWarning: \n",
      "A value is trying to be set on a copy of a slice from a DataFrame\n",
      "\n",
      "See the caveats in the documentation: https://pandas.pydata.org/pandas-docs/stable/user_guide/indexing.html#returning-a-view-versus-a-copy\n",
      "  fishhours_select.drop(columns=['date', 'flag', 'geartype', 'hours', 'mmsi_present'], inplace=True)\n"
     ]
    },
    {
     "name": "stdout",
     "output_type": "stream",
     "text": [
      "Starting processing of 2020-12-26.csv...\n",
      "F:\\Global Fishing Watch\\Fishing Intensity\\v2\\fleet-daily\\fleet-daily-csvs-100-v2-2020\\2020-12-26.csv\n",
      "Done with 2020_12_26...\n"
     ]
    },
    {
     "name": "stderr",
     "output_type": "stream",
     "text": [
      "C:\\Users\\keit8223\\AppData\\Local\\Temp\\1\\ipykernel_21680\\959929405.py:5: SettingWithCopyWarning: \n",
      "A value is trying to be set on a copy of a slice from a DataFrame\n",
      "\n",
      "See the caveats in the documentation: https://pandas.pydata.org/pandas-docs/stable/user_guide/indexing.html#returning-a-view-versus-a-copy\n",
      "  hours_select.drop(columns=['date', 'flag', 'geartype', 'fishing_hours', 'mmsi_present'], inplace=True)\n"
     ]
    },
    {
     "name": "stdout",
     "output_type": "stream",
     "text": [
      "3\n"
     ]
    },
    {
     "name": "stderr",
     "output_type": "stream",
     "text": [
      "C:\\Users\\keit8223\\AppData\\Local\\Temp\\1\\ipykernel_21680\\1813207608.py:4: SettingWithCopyWarning: \n",
      "A value is trying to be set on a copy of a slice from a DataFrame\n",
      "\n",
      "See the caveats in the documentation: https://pandas.pydata.org/pandas-docs/stable/user_guide/indexing.html#returning-a-view-versus-a-copy\n",
      "  fishhours_select.drop(columns=['date', 'flag', 'geartype', 'hours', 'mmsi_present'], inplace=True)\n"
     ]
    },
    {
     "name": "stdout",
     "output_type": "stream",
     "text": [
      "Starting processing of 2020-12-27.csv...\n",
      "F:\\Global Fishing Watch\\Fishing Intensity\\v2\\fleet-daily\\fleet-daily-csvs-100-v2-2020\\2020-12-27.csv\n",
      "Done with 2020_12_27...\n"
     ]
    },
    {
     "name": "stderr",
     "output_type": "stream",
     "text": [
      "C:\\Users\\keit8223\\AppData\\Local\\Temp\\1\\ipykernel_21680\\959929405.py:5: SettingWithCopyWarning: \n",
      "A value is trying to be set on a copy of a slice from a DataFrame\n",
      "\n",
      "See the caveats in the documentation: https://pandas.pydata.org/pandas-docs/stable/user_guide/indexing.html#returning-a-view-versus-a-copy\n",
      "  hours_select.drop(columns=['date', 'flag', 'geartype', 'fishing_hours', 'mmsi_present'], inplace=True)\n"
     ]
    },
    {
     "name": "stdout",
     "output_type": "stream",
     "text": [
      "3\n"
     ]
    },
    {
     "name": "stderr",
     "output_type": "stream",
     "text": [
      "C:\\Users\\keit8223\\AppData\\Local\\Temp\\1\\ipykernel_21680\\1813207608.py:4: SettingWithCopyWarning: \n",
      "A value is trying to be set on a copy of a slice from a DataFrame\n",
      "\n",
      "See the caveats in the documentation: https://pandas.pydata.org/pandas-docs/stable/user_guide/indexing.html#returning-a-view-versus-a-copy\n",
      "  fishhours_select.drop(columns=['date', 'flag', 'geartype', 'hours', 'mmsi_present'], inplace=True)\n"
     ]
    },
    {
     "name": "stdout",
     "output_type": "stream",
     "text": [
      "Starting processing of 2020-12-28.csv...\n",
      "F:\\Global Fishing Watch\\Fishing Intensity\\v2\\fleet-daily\\fleet-daily-csvs-100-v2-2020\\2020-12-28.csv\n",
      "Done with 2020_12_28...\n"
     ]
    },
    {
     "name": "stderr",
     "output_type": "stream",
     "text": [
      "C:\\Users\\keit8223\\AppData\\Local\\Temp\\1\\ipykernel_21680\\959929405.py:5: SettingWithCopyWarning: \n",
      "A value is trying to be set on a copy of a slice from a DataFrame\n",
      "\n",
      "See the caveats in the documentation: https://pandas.pydata.org/pandas-docs/stable/user_guide/indexing.html#returning-a-view-versus-a-copy\n",
      "  hours_select.drop(columns=['date', 'flag', 'geartype', 'fishing_hours', 'mmsi_present'], inplace=True)\n"
     ]
    },
    {
     "name": "stdout",
     "output_type": "stream",
     "text": [
      "3\n"
     ]
    },
    {
     "name": "stderr",
     "output_type": "stream",
     "text": [
      "C:\\Users\\keit8223\\AppData\\Local\\Temp\\1\\ipykernel_21680\\1813207608.py:4: SettingWithCopyWarning: \n",
      "A value is trying to be set on a copy of a slice from a DataFrame\n",
      "\n",
      "See the caveats in the documentation: https://pandas.pydata.org/pandas-docs/stable/user_guide/indexing.html#returning-a-view-versus-a-copy\n",
      "  fishhours_select.drop(columns=['date', 'flag', 'geartype', 'hours', 'mmsi_present'], inplace=True)\n"
     ]
    },
    {
     "name": "stdout",
     "output_type": "stream",
     "text": [
      "Starting processing of 2020-12-29.csv...\n",
      "F:\\Global Fishing Watch\\Fishing Intensity\\v2\\fleet-daily\\fleet-daily-csvs-100-v2-2020\\2020-12-29.csv\n",
      "Done with 2020_12_29...\n"
     ]
    },
    {
     "name": "stderr",
     "output_type": "stream",
     "text": [
      "C:\\Users\\keit8223\\AppData\\Local\\Temp\\1\\ipykernel_21680\\959929405.py:5: SettingWithCopyWarning: \n",
      "A value is trying to be set on a copy of a slice from a DataFrame\n",
      "\n",
      "See the caveats in the documentation: https://pandas.pydata.org/pandas-docs/stable/user_guide/indexing.html#returning-a-view-versus-a-copy\n",
      "  hours_select.drop(columns=['date', 'flag', 'geartype', 'fishing_hours', 'mmsi_present'], inplace=True)\n"
     ]
    },
    {
     "name": "stdout",
     "output_type": "stream",
     "text": [
      "3\n"
     ]
    },
    {
     "name": "stderr",
     "output_type": "stream",
     "text": [
      "C:\\Users\\keit8223\\AppData\\Local\\Temp\\1\\ipykernel_21680\\1813207608.py:4: SettingWithCopyWarning: \n",
      "A value is trying to be set on a copy of a slice from a DataFrame\n",
      "\n",
      "See the caveats in the documentation: https://pandas.pydata.org/pandas-docs/stable/user_guide/indexing.html#returning-a-view-versus-a-copy\n",
      "  fishhours_select.drop(columns=['date', 'flag', 'geartype', 'hours', 'mmsi_present'], inplace=True)\n"
     ]
    },
    {
     "name": "stdout",
     "output_type": "stream",
     "text": [
      "Starting processing of 2020-12-30.csv...\n",
      "F:\\Global Fishing Watch\\Fishing Intensity\\v2\\fleet-daily\\fleet-daily-csvs-100-v2-2020\\2020-12-30.csv\n",
      "Done with 2020_12_30...\n"
     ]
    },
    {
     "name": "stderr",
     "output_type": "stream",
     "text": [
      "C:\\Users\\keit8223\\AppData\\Local\\Temp\\1\\ipykernel_21680\\959929405.py:5: SettingWithCopyWarning: \n",
      "A value is trying to be set on a copy of a slice from a DataFrame\n",
      "\n",
      "See the caveats in the documentation: https://pandas.pydata.org/pandas-docs/stable/user_guide/indexing.html#returning-a-view-versus-a-copy\n",
      "  hours_select.drop(columns=['date', 'flag', 'geartype', 'fishing_hours', 'mmsi_present'], inplace=True)\n"
     ]
    },
    {
     "name": "stdout",
     "output_type": "stream",
     "text": [
      "3\n"
     ]
    },
    {
     "name": "stderr",
     "output_type": "stream",
     "text": [
      "C:\\Users\\keit8223\\AppData\\Local\\Temp\\1\\ipykernel_21680\\1813207608.py:4: SettingWithCopyWarning: \n",
      "A value is trying to be set on a copy of a slice from a DataFrame\n",
      "\n",
      "See the caveats in the documentation: https://pandas.pydata.org/pandas-docs/stable/user_guide/indexing.html#returning-a-view-versus-a-copy\n",
      "  fishhours_select.drop(columns=['date', 'flag', 'geartype', 'hours', 'mmsi_present'], inplace=True)\n"
     ]
    },
    {
     "name": "stdout",
     "output_type": "stream",
     "text": [
      "Starting processing of 2020-12-31.csv...\n",
      "F:\\Global Fishing Watch\\Fishing Intensity\\v2\\fleet-daily\\fleet-daily-csvs-100-v2-2020\\2020-12-31.csv\n",
      "Done with 2020_12_31...\n"
     ]
    },
    {
     "name": "stderr",
     "output_type": "stream",
     "text": [
      "C:\\Users\\keit8223\\AppData\\Local\\Temp\\1\\ipykernel_21680\\959929405.py:5: SettingWithCopyWarning: \n",
      "A value is trying to be set on a copy of a slice from a DataFrame\n",
      "\n",
      "See the caveats in the documentation: https://pandas.pydata.org/pandas-docs/stable/user_guide/indexing.html#returning-a-view-versus-a-copy\n",
      "  hours_select.drop(columns=['date', 'flag', 'geartype', 'fishing_hours', 'mmsi_present'], inplace=True)\n"
     ]
    },
    {
     "name": "stdout",
     "output_type": "stream",
     "text": [
      "3\n"
     ]
    },
    {
     "name": "stderr",
     "output_type": "stream",
     "text": [
      "C:\\Users\\keit8223\\AppData\\Local\\Temp\\1\\ipykernel_21680\\1813207608.py:4: SettingWithCopyWarning: \n",
      "A value is trying to be set on a copy of a slice from a DataFrame\n",
      "\n",
      "See the caveats in the documentation: https://pandas.pydata.org/pandas-docs/stable/user_guide/indexing.html#returning-a-view-versus-a-copy\n",
      "  fishhours_select.drop(columns=['date', 'flag', 'geartype', 'hours', 'mmsi_present'], inplace=True)\n"
     ]
    },
    {
     "name": "stdout",
     "output_type": "stream",
     "text": [
      "All done...\n"
     ]
    }
   ],
   "source": [
    "create_directories()\n",
    "\n",
    "for filename in os.listdir(directory):\n",
    "    if filename.endswith('.csv'):\n",
    "        preprocess()\n",
    "        process_hours()\n",
    "        process_fishhours()\n",
    "print(\"All done...\")\n"
   ]
  },
  {
   "cell_type": "code",
   "execution_count": 10,
   "metadata": {},
   "outputs": [
    {
     "name": "stdout",
     "output_type": "stream",
     "text": [
      "daily_fleet_2020_01_01_fishhours.csv\n",
      "E:\\analysis\\GFW\\TIF\\2020\\daily_fleet_2020_01_01_fishhours.csv\n",
      "E:\\analysis\\GFW\\TIF\\2020\\daily_fleet_2020_01_01_fishhours.tif\n",
      "E:\\analysis\\GFW\\gfw_daily_fleet_2020.gdb\\daily_fleet_2020_01_01_fishhours\n",
      "daily_fleet_2020_01_02_fishhours.csv\n",
      "E:\\analysis\\GFW\\TIF\\2020\\daily_fleet_2020_01_02_fishhours.csv\n",
      "E:\\analysis\\GFW\\TIF\\2020\\daily_fleet_2020_01_02_fishhours.tif\n",
      "E:\\analysis\\GFW\\gfw_daily_fleet_2020.gdb\\daily_fleet_2020_01_02_fishhours\n",
      "daily_fleet_2020_01_03_fishhours.csv\n",
      "E:\\analysis\\GFW\\TIF\\2020\\daily_fleet_2020_01_03_fishhours.csv\n",
      "E:\\analysis\\GFW\\TIF\\2020\\daily_fleet_2020_01_03_fishhours.tif\n",
      "E:\\analysis\\GFW\\gfw_daily_fleet_2020.gdb\\daily_fleet_2020_01_03_fishhours\n",
      "daily_fleet_2020_01_04_fishhours.csv\n",
      "E:\\analysis\\GFW\\TIF\\2020\\daily_fleet_2020_01_04_fishhours.csv\n",
      "E:\\analysis\\GFW\\TIF\\2020\\daily_fleet_2020_01_04_fishhours.tif\n",
      "E:\\analysis\\GFW\\gfw_daily_fleet_2020.gdb\\daily_fleet_2020_01_04_fishhours\n",
      "daily_fleet_2020_01_05_fishhours.csv\n",
      "E:\\analysis\\GFW\\TIF\\2020\\daily_fleet_2020_01_05_fishhours.csv\n",
      "E:\\analysis\\GFW\\TIF\\2020\\daily_fleet_2020_01_05_fishhours.tif\n",
      "E:\\analysis\\GFW\\gfw_daily_fleet_2020.gdb\\daily_fleet_2020_01_05_fishhours\n",
      "daily_fleet_2020_01_06_fishhours.csv\n",
      "E:\\analysis\\GFW\\TIF\\2020\\daily_fleet_2020_01_06_fishhours.csv\n",
      "E:\\analysis\\GFW\\TIF\\2020\\daily_fleet_2020_01_06_fishhours.tif\n",
      "E:\\analysis\\GFW\\gfw_daily_fleet_2020.gdb\\daily_fleet_2020_01_06_fishhours\n",
      "daily_fleet_2020_01_07_fishhours.csv\n",
      "E:\\analysis\\GFW\\TIF\\2020\\daily_fleet_2020_01_07_fishhours.csv\n",
      "E:\\analysis\\GFW\\TIF\\2020\\daily_fleet_2020_01_07_fishhours.tif\n",
      "E:\\analysis\\GFW\\gfw_daily_fleet_2020.gdb\\daily_fleet_2020_01_07_fishhours\n",
      "daily_fleet_2020_01_08_fishhours.csv\n",
      "E:\\analysis\\GFW\\TIF\\2020\\daily_fleet_2020_01_08_fishhours.csv\n",
      "E:\\analysis\\GFW\\TIF\\2020\\daily_fleet_2020_01_08_fishhours.tif\n",
      "E:\\analysis\\GFW\\gfw_daily_fleet_2020.gdb\\daily_fleet_2020_01_08_fishhours\n",
      "daily_fleet_2020_01_09_fishhours.csv\n",
      "E:\\analysis\\GFW\\TIF\\2020\\daily_fleet_2020_01_09_fishhours.csv\n",
      "E:\\analysis\\GFW\\TIF\\2020\\daily_fleet_2020_01_09_fishhours.tif\n",
      "E:\\analysis\\GFW\\gfw_daily_fleet_2020.gdb\\daily_fleet_2020_01_09_fishhours\n",
      "daily_fleet_2020_01_10_fishhours.csv\n",
      "E:\\analysis\\GFW\\TIF\\2020\\daily_fleet_2020_01_10_fishhours.csv\n",
      "E:\\analysis\\GFW\\TIF\\2020\\daily_fleet_2020_01_10_fishhours.tif\n",
      "E:\\analysis\\GFW\\gfw_daily_fleet_2020.gdb\\daily_fleet_2020_01_10_fishhours\n",
      "daily_fleet_2020_01_11_fishhours.csv\n",
      "E:\\analysis\\GFW\\TIF\\2020\\daily_fleet_2020_01_11_fishhours.csv\n",
      "E:\\analysis\\GFW\\TIF\\2020\\daily_fleet_2020_01_11_fishhours.tif\n",
      "E:\\analysis\\GFW\\gfw_daily_fleet_2020.gdb\\daily_fleet_2020_01_11_fishhours\n",
      "daily_fleet_2020_01_12_fishhours.csv\n",
      "E:\\analysis\\GFW\\TIF\\2020\\daily_fleet_2020_01_12_fishhours.csv\n",
      "E:\\analysis\\GFW\\TIF\\2020\\daily_fleet_2020_01_12_fishhours.tif\n",
      "E:\\analysis\\GFW\\gfw_daily_fleet_2020.gdb\\daily_fleet_2020_01_12_fishhours\n",
      "daily_fleet_2020_01_13_fishhours.csv\n",
      "E:\\analysis\\GFW\\TIF\\2020\\daily_fleet_2020_01_13_fishhours.csv\n",
      "E:\\analysis\\GFW\\TIF\\2020\\daily_fleet_2020_01_13_fishhours.tif\n",
      "E:\\analysis\\GFW\\gfw_daily_fleet_2020.gdb\\daily_fleet_2020_01_13_fishhours\n",
      "daily_fleet_2020_01_14_fishhours.csv\n",
      "E:\\analysis\\GFW\\TIF\\2020\\daily_fleet_2020_01_14_fishhours.csv\n",
      "E:\\analysis\\GFW\\TIF\\2020\\daily_fleet_2020_01_14_fishhours.tif\n",
      "E:\\analysis\\GFW\\gfw_daily_fleet_2020.gdb\\daily_fleet_2020_01_14_fishhours\n",
      "daily_fleet_2020_01_15_fishhours.csv\n",
      "E:\\analysis\\GFW\\TIF\\2020\\daily_fleet_2020_01_15_fishhours.csv\n",
      "E:\\analysis\\GFW\\TIF\\2020\\daily_fleet_2020_01_15_fishhours.tif\n",
      "E:\\analysis\\GFW\\gfw_daily_fleet_2020.gdb\\daily_fleet_2020_01_15_fishhours\n",
      "daily_fleet_2020_01_16_fishhours.csv\n",
      "E:\\analysis\\GFW\\TIF\\2020\\daily_fleet_2020_01_16_fishhours.csv\n",
      "E:\\analysis\\GFW\\TIF\\2020\\daily_fleet_2020_01_16_fishhours.tif\n",
      "E:\\analysis\\GFW\\gfw_daily_fleet_2020.gdb\\daily_fleet_2020_01_16_fishhours\n",
      "daily_fleet_2020_01_17_fishhours.csv\n",
      "E:\\analysis\\GFW\\TIF\\2020\\daily_fleet_2020_01_17_fishhours.csv\n",
      "E:\\analysis\\GFW\\TIF\\2020\\daily_fleet_2020_01_17_fishhours.tif\n",
      "E:\\analysis\\GFW\\gfw_daily_fleet_2020.gdb\\daily_fleet_2020_01_17_fishhours\n",
      "daily_fleet_2020_01_18_fishhours.csv\n",
      "E:\\analysis\\GFW\\TIF\\2020\\daily_fleet_2020_01_18_fishhours.csv\n",
      "E:\\analysis\\GFW\\TIF\\2020\\daily_fleet_2020_01_18_fishhours.tif\n",
      "E:\\analysis\\GFW\\gfw_daily_fleet_2020.gdb\\daily_fleet_2020_01_18_fishhours\n",
      "daily_fleet_2020_01_19_fishhours.csv\n",
      "E:\\analysis\\GFW\\TIF\\2020\\daily_fleet_2020_01_19_fishhours.csv\n",
      "E:\\analysis\\GFW\\TIF\\2020\\daily_fleet_2020_01_19_fishhours.tif\n",
      "E:\\analysis\\GFW\\gfw_daily_fleet_2020.gdb\\daily_fleet_2020_01_19_fishhours\n",
      "daily_fleet_2020_01_20_fishhours.csv\n",
      "E:\\analysis\\GFW\\TIF\\2020\\daily_fleet_2020_01_20_fishhours.csv\n",
      "E:\\analysis\\GFW\\TIF\\2020\\daily_fleet_2020_01_20_fishhours.tif\n",
      "E:\\analysis\\GFW\\gfw_daily_fleet_2020.gdb\\daily_fleet_2020_01_20_fishhours\n",
      "daily_fleet_2020_01_21_fishhours.csv\n",
      "E:\\analysis\\GFW\\TIF\\2020\\daily_fleet_2020_01_21_fishhours.csv\n",
      "E:\\analysis\\GFW\\TIF\\2020\\daily_fleet_2020_01_21_fishhours.tif\n",
      "E:\\analysis\\GFW\\gfw_daily_fleet_2020.gdb\\daily_fleet_2020_01_21_fishhours\n",
      "daily_fleet_2020_01_22_fishhours.csv\n",
      "E:\\analysis\\GFW\\TIF\\2020\\daily_fleet_2020_01_22_fishhours.csv\n",
      "E:\\analysis\\GFW\\TIF\\2020\\daily_fleet_2020_01_22_fishhours.tif\n",
      "E:\\analysis\\GFW\\gfw_daily_fleet_2020.gdb\\daily_fleet_2020_01_22_fishhours\n",
      "daily_fleet_2020_01_23_fishhours.csv\n",
      "E:\\analysis\\GFW\\TIF\\2020\\daily_fleet_2020_01_23_fishhours.csv\n",
      "E:\\analysis\\GFW\\TIF\\2020\\daily_fleet_2020_01_23_fishhours.tif\n",
      "E:\\analysis\\GFW\\gfw_daily_fleet_2020.gdb\\daily_fleet_2020_01_23_fishhours\n",
      "daily_fleet_2020_01_24_fishhours.csv\n",
      "E:\\analysis\\GFW\\TIF\\2020\\daily_fleet_2020_01_24_fishhours.csv\n",
      "E:\\analysis\\GFW\\TIF\\2020\\daily_fleet_2020_01_24_fishhours.tif\n",
      "E:\\analysis\\GFW\\gfw_daily_fleet_2020.gdb\\daily_fleet_2020_01_24_fishhours\n",
      "daily_fleet_2020_01_25_fishhours.csv\n",
      "E:\\analysis\\GFW\\TIF\\2020\\daily_fleet_2020_01_25_fishhours.csv\n",
      "E:\\analysis\\GFW\\TIF\\2020\\daily_fleet_2020_01_25_fishhours.tif\n",
      "E:\\analysis\\GFW\\gfw_daily_fleet_2020.gdb\\daily_fleet_2020_01_25_fishhours\n",
      "daily_fleet_2020_01_26_fishhours.csv\n",
      "E:\\analysis\\GFW\\TIF\\2020\\daily_fleet_2020_01_26_fishhours.csv\n",
      "E:\\analysis\\GFW\\TIF\\2020\\daily_fleet_2020_01_26_fishhours.tif\n",
      "E:\\analysis\\GFW\\gfw_daily_fleet_2020.gdb\\daily_fleet_2020_01_26_fishhours\n",
      "daily_fleet_2020_01_27_fishhours.csv\n",
      "E:\\analysis\\GFW\\TIF\\2020\\daily_fleet_2020_01_27_fishhours.csv\n",
      "E:\\analysis\\GFW\\TIF\\2020\\daily_fleet_2020_01_27_fishhours.tif\n",
      "E:\\analysis\\GFW\\gfw_daily_fleet_2020.gdb\\daily_fleet_2020_01_27_fishhours\n",
      "daily_fleet_2020_01_28_fishhours.csv\n",
      "E:\\analysis\\GFW\\TIF\\2020\\daily_fleet_2020_01_28_fishhours.csv\n",
      "E:\\analysis\\GFW\\TIF\\2020\\daily_fleet_2020_01_28_fishhours.tif\n",
      "E:\\analysis\\GFW\\gfw_daily_fleet_2020.gdb\\daily_fleet_2020_01_28_fishhours\n",
      "daily_fleet_2020_01_29_fishhours.csv\n",
      "E:\\analysis\\GFW\\TIF\\2020\\daily_fleet_2020_01_29_fishhours.csv\n",
      "E:\\analysis\\GFW\\TIF\\2020\\daily_fleet_2020_01_29_fishhours.tif\n",
      "E:\\analysis\\GFW\\gfw_daily_fleet_2020.gdb\\daily_fleet_2020_01_29_fishhours\n",
      "daily_fleet_2020_01_30_fishhours.csv\n",
      "E:\\analysis\\GFW\\TIF\\2020\\daily_fleet_2020_01_30_fishhours.csv\n",
      "E:\\analysis\\GFW\\TIF\\2020\\daily_fleet_2020_01_30_fishhours.tif\n",
      "E:\\analysis\\GFW\\gfw_daily_fleet_2020.gdb\\daily_fleet_2020_01_30_fishhours\n",
      "daily_fleet_2020_01_31_fishhours.csv\n",
      "E:\\analysis\\GFW\\TIF\\2020\\daily_fleet_2020_01_31_fishhours.csv\n",
      "E:\\analysis\\GFW\\TIF\\2020\\daily_fleet_2020_01_31_fishhours.tif\n",
      "E:\\analysis\\GFW\\gfw_daily_fleet_2020.gdb\\daily_fleet_2020_01_31_fishhours\n",
      "daily_fleet_2020_02_01_fishhours.csv\n",
      "E:\\analysis\\GFW\\TIF\\2020\\daily_fleet_2020_02_01_fishhours.csv\n",
      "E:\\analysis\\GFW\\TIF\\2020\\daily_fleet_2020_02_01_fishhours.tif\n",
      "E:\\analysis\\GFW\\gfw_daily_fleet_2020.gdb\\daily_fleet_2020_02_01_fishhours\n",
      "daily_fleet_2020_02_02_fishhours.csv\n",
      "E:\\analysis\\GFW\\TIF\\2020\\daily_fleet_2020_02_02_fishhours.csv\n",
      "E:\\analysis\\GFW\\TIF\\2020\\daily_fleet_2020_02_02_fishhours.tif\n",
      "E:\\analysis\\GFW\\gfw_daily_fleet_2020.gdb\\daily_fleet_2020_02_02_fishhours\n",
      "daily_fleet_2020_02_03_fishhours.csv\n",
      "E:\\analysis\\GFW\\TIF\\2020\\daily_fleet_2020_02_03_fishhours.csv\n",
      "E:\\analysis\\GFW\\TIF\\2020\\daily_fleet_2020_02_03_fishhours.tif\n",
      "E:\\analysis\\GFW\\gfw_daily_fleet_2020.gdb\\daily_fleet_2020_02_03_fishhours\n",
      "daily_fleet_2020_02_04_fishhours.csv\n",
      "E:\\analysis\\GFW\\TIF\\2020\\daily_fleet_2020_02_04_fishhours.csv\n",
      "E:\\analysis\\GFW\\TIF\\2020\\daily_fleet_2020_02_04_fishhours.tif\n",
      "E:\\analysis\\GFW\\gfw_daily_fleet_2020.gdb\\daily_fleet_2020_02_04_fishhours\n",
      "daily_fleet_2020_02_05_fishhours.csv\n",
      "E:\\analysis\\GFW\\TIF\\2020\\daily_fleet_2020_02_05_fishhours.csv\n",
      "E:\\analysis\\GFW\\TIF\\2020\\daily_fleet_2020_02_05_fishhours.tif\n",
      "E:\\analysis\\GFW\\gfw_daily_fleet_2020.gdb\\daily_fleet_2020_02_05_fishhours\n",
      "daily_fleet_2020_02_06_fishhours.csv\n",
      "E:\\analysis\\GFW\\TIF\\2020\\daily_fleet_2020_02_06_fishhours.csv\n",
      "E:\\analysis\\GFW\\TIF\\2020\\daily_fleet_2020_02_06_fishhours.tif\n",
      "E:\\analysis\\GFW\\gfw_daily_fleet_2020.gdb\\daily_fleet_2020_02_06_fishhours\n",
      "daily_fleet_2020_02_07_fishhours.csv\n",
      "E:\\analysis\\GFW\\TIF\\2020\\daily_fleet_2020_02_07_fishhours.csv\n",
      "E:\\analysis\\GFW\\TIF\\2020\\daily_fleet_2020_02_07_fishhours.tif\n",
      "E:\\analysis\\GFW\\gfw_daily_fleet_2020.gdb\\daily_fleet_2020_02_07_fishhours\n",
      "daily_fleet_2020_02_08_fishhours.csv\n",
      "E:\\analysis\\GFW\\TIF\\2020\\daily_fleet_2020_02_08_fishhours.csv\n",
      "E:\\analysis\\GFW\\TIF\\2020\\daily_fleet_2020_02_08_fishhours.tif\n",
      "E:\\analysis\\GFW\\gfw_daily_fleet_2020.gdb\\daily_fleet_2020_02_08_fishhours\n",
      "daily_fleet_2020_02_09_fishhours.csv\n",
      "E:\\analysis\\GFW\\TIF\\2020\\daily_fleet_2020_02_09_fishhours.csv\n",
      "E:\\analysis\\GFW\\TIF\\2020\\daily_fleet_2020_02_09_fishhours.tif\n",
      "E:\\analysis\\GFW\\gfw_daily_fleet_2020.gdb\\daily_fleet_2020_02_09_fishhours\n",
      "daily_fleet_2020_02_10_fishhours.csv\n",
      "E:\\analysis\\GFW\\TIF\\2020\\daily_fleet_2020_02_10_fishhours.csv\n",
      "E:\\analysis\\GFW\\TIF\\2020\\daily_fleet_2020_02_10_fishhours.tif\n",
      "E:\\analysis\\GFW\\gfw_daily_fleet_2020.gdb\\daily_fleet_2020_02_10_fishhours\n",
      "daily_fleet_2020_02_11_fishhours.csv\n",
      "E:\\analysis\\GFW\\TIF\\2020\\daily_fleet_2020_02_11_fishhours.csv\n",
      "E:\\analysis\\GFW\\TIF\\2020\\daily_fleet_2020_02_11_fishhours.tif\n",
      "E:\\analysis\\GFW\\gfw_daily_fleet_2020.gdb\\daily_fleet_2020_02_11_fishhours\n",
      "daily_fleet_2020_02_12_fishhours.csv\n",
      "E:\\analysis\\GFW\\TIF\\2020\\daily_fleet_2020_02_12_fishhours.csv\n",
      "E:\\analysis\\GFW\\TIF\\2020\\daily_fleet_2020_02_12_fishhours.tif\n",
      "E:\\analysis\\GFW\\gfw_daily_fleet_2020.gdb\\daily_fleet_2020_02_12_fishhours\n",
      "daily_fleet_2020_02_13_fishhours.csv\n",
      "E:\\analysis\\GFW\\TIF\\2020\\daily_fleet_2020_02_13_fishhours.csv\n",
      "E:\\analysis\\GFW\\TIF\\2020\\daily_fleet_2020_02_13_fishhours.tif\n",
      "E:\\analysis\\GFW\\gfw_daily_fleet_2020.gdb\\daily_fleet_2020_02_13_fishhours\n",
      "daily_fleet_2020_02_14_fishhours.csv\n",
      "E:\\analysis\\GFW\\TIF\\2020\\daily_fleet_2020_02_14_fishhours.csv\n",
      "E:\\analysis\\GFW\\TIF\\2020\\daily_fleet_2020_02_14_fishhours.tif\n",
      "E:\\analysis\\GFW\\gfw_daily_fleet_2020.gdb\\daily_fleet_2020_02_14_fishhours\n",
      "daily_fleet_2020_02_15_fishhours.csv\n",
      "E:\\analysis\\GFW\\TIF\\2020\\daily_fleet_2020_02_15_fishhours.csv\n",
      "E:\\analysis\\GFW\\TIF\\2020\\daily_fleet_2020_02_15_fishhours.tif\n",
      "E:\\analysis\\GFW\\gfw_daily_fleet_2020.gdb\\daily_fleet_2020_02_15_fishhours\n",
      "daily_fleet_2020_02_16_fishhours.csv\n",
      "E:\\analysis\\GFW\\TIF\\2020\\daily_fleet_2020_02_16_fishhours.csv\n",
      "E:\\analysis\\GFW\\TIF\\2020\\daily_fleet_2020_02_16_fishhours.tif\n",
      "E:\\analysis\\GFW\\gfw_daily_fleet_2020.gdb\\daily_fleet_2020_02_16_fishhours\n",
      "daily_fleet_2020_02_17_fishhours.csv\n",
      "E:\\analysis\\GFW\\TIF\\2020\\daily_fleet_2020_02_17_fishhours.csv\n",
      "E:\\analysis\\GFW\\TIF\\2020\\daily_fleet_2020_02_17_fishhours.tif\n",
      "E:\\analysis\\GFW\\gfw_daily_fleet_2020.gdb\\daily_fleet_2020_02_17_fishhours\n",
      "daily_fleet_2020_02_18_fishhours.csv\n",
      "E:\\analysis\\GFW\\TIF\\2020\\daily_fleet_2020_02_18_fishhours.csv\n",
      "E:\\analysis\\GFW\\TIF\\2020\\daily_fleet_2020_02_18_fishhours.tif\n",
      "E:\\analysis\\GFW\\gfw_daily_fleet_2020.gdb\\daily_fleet_2020_02_18_fishhours\n",
      "daily_fleet_2020_02_19_fishhours.csv\n",
      "E:\\analysis\\GFW\\TIF\\2020\\daily_fleet_2020_02_19_fishhours.csv\n",
      "E:\\analysis\\GFW\\TIF\\2020\\daily_fleet_2020_02_19_fishhours.tif\n",
      "E:\\analysis\\GFW\\gfw_daily_fleet_2020.gdb\\daily_fleet_2020_02_19_fishhours\n",
      "daily_fleet_2020_02_20_fishhours.csv\n",
      "E:\\analysis\\GFW\\TIF\\2020\\daily_fleet_2020_02_20_fishhours.csv\n",
      "E:\\analysis\\GFW\\TIF\\2020\\daily_fleet_2020_02_20_fishhours.tif\n",
      "E:\\analysis\\GFW\\gfw_daily_fleet_2020.gdb\\daily_fleet_2020_02_20_fishhours\n",
      "daily_fleet_2020_02_21_fishhours.csv\n",
      "E:\\analysis\\GFW\\TIF\\2020\\daily_fleet_2020_02_21_fishhours.csv\n",
      "E:\\analysis\\GFW\\TIF\\2020\\daily_fleet_2020_02_21_fishhours.tif\n",
      "E:\\analysis\\GFW\\gfw_daily_fleet_2020.gdb\\daily_fleet_2020_02_21_fishhours\n",
      "daily_fleet_2020_02_22_fishhours.csv\n",
      "E:\\analysis\\GFW\\TIF\\2020\\daily_fleet_2020_02_22_fishhours.csv\n",
      "E:\\analysis\\GFW\\TIF\\2020\\daily_fleet_2020_02_22_fishhours.tif\n",
      "E:\\analysis\\GFW\\gfw_daily_fleet_2020.gdb\\daily_fleet_2020_02_22_fishhours\n",
      "daily_fleet_2020_02_23_fishhours.csv\n",
      "E:\\analysis\\GFW\\TIF\\2020\\daily_fleet_2020_02_23_fishhours.csv\n",
      "E:\\analysis\\GFW\\TIF\\2020\\daily_fleet_2020_02_23_fishhours.tif\n",
      "E:\\analysis\\GFW\\gfw_daily_fleet_2020.gdb\\daily_fleet_2020_02_23_fishhours\n",
      "daily_fleet_2020_02_24_fishhours.csv\n",
      "E:\\analysis\\GFW\\TIF\\2020\\daily_fleet_2020_02_24_fishhours.csv\n",
      "E:\\analysis\\GFW\\TIF\\2020\\daily_fleet_2020_02_24_fishhours.tif\n",
      "E:\\analysis\\GFW\\gfw_daily_fleet_2020.gdb\\daily_fleet_2020_02_24_fishhours\n",
      "daily_fleet_2020_02_25_fishhours.csv\n",
      "E:\\analysis\\GFW\\TIF\\2020\\daily_fleet_2020_02_25_fishhours.csv\n",
      "E:\\analysis\\GFW\\TIF\\2020\\daily_fleet_2020_02_25_fishhours.tif\n",
      "E:\\analysis\\GFW\\gfw_daily_fleet_2020.gdb\\daily_fleet_2020_02_25_fishhours\n",
      "daily_fleet_2020_02_26_fishhours.csv\n",
      "E:\\analysis\\GFW\\TIF\\2020\\daily_fleet_2020_02_26_fishhours.csv\n",
      "E:\\analysis\\GFW\\TIF\\2020\\daily_fleet_2020_02_26_fishhours.tif\n",
      "E:\\analysis\\GFW\\gfw_daily_fleet_2020.gdb\\daily_fleet_2020_02_26_fishhours\n",
      "daily_fleet_2020_02_27_fishhours.csv\n",
      "E:\\analysis\\GFW\\TIF\\2020\\daily_fleet_2020_02_27_fishhours.csv\n",
      "E:\\analysis\\GFW\\TIF\\2020\\daily_fleet_2020_02_27_fishhours.tif\n",
      "E:\\analysis\\GFW\\gfw_daily_fleet_2020.gdb\\daily_fleet_2020_02_27_fishhours\n",
      "daily_fleet_2020_02_28_fishhours.csv\n",
      "E:\\analysis\\GFW\\TIF\\2020\\daily_fleet_2020_02_28_fishhours.csv\n",
      "E:\\analysis\\GFW\\TIF\\2020\\daily_fleet_2020_02_28_fishhours.tif\n",
      "E:\\analysis\\GFW\\gfw_daily_fleet_2020.gdb\\daily_fleet_2020_02_28_fishhours\n",
      "daily_fleet_2020_02_29_fishhours.csv\n",
      "E:\\analysis\\GFW\\TIF\\2020\\daily_fleet_2020_02_29_fishhours.csv\n",
      "E:\\analysis\\GFW\\TIF\\2020\\daily_fleet_2020_02_29_fishhours.tif\n",
      "E:\\analysis\\GFW\\gfw_daily_fleet_2020.gdb\\daily_fleet_2020_02_29_fishhours\n",
      "daily_fleet_2020_03_01_fishhours.csv\n",
      "E:\\analysis\\GFW\\TIF\\2020\\daily_fleet_2020_03_01_fishhours.csv\n",
      "E:\\analysis\\GFW\\TIF\\2020\\daily_fleet_2020_03_01_fishhours.tif\n",
      "E:\\analysis\\GFW\\gfw_daily_fleet_2020.gdb\\daily_fleet_2020_03_01_fishhours\n",
      "daily_fleet_2020_03_02_fishhours.csv\n",
      "E:\\analysis\\GFW\\TIF\\2020\\daily_fleet_2020_03_02_fishhours.csv\n",
      "E:\\analysis\\GFW\\TIF\\2020\\daily_fleet_2020_03_02_fishhours.tif\n",
      "E:\\analysis\\GFW\\gfw_daily_fleet_2020.gdb\\daily_fleet_2020_03_02_fishhours\n",
      "daily_fleet_2020_03_03_fishhours.csv\n",
      "E:\\analysis\\GFW\\TIF\\2020\\daily_fleet_2020_03_03_fishhours.csv\n",
      "E:\\analysis\\GFW\\TIF\\2020\\daily_fleet_2020_03_03_fishhours.tif\n",
      "E:\\analysis\\GFW\\gfw_daily_fleet_2020.gdb\\daily_fleet_2020_03_03_fishhours\n",
      "daily_fleet_2020_03_04_fishhours.csv\n",
      "E:\\analysis\\GFW\\TIF\\2020\\daily_fleet_2020_03_04_fishhours.csv\n",
      "E:\\analysis\\GFW\\TIF\\2020\\daily_fleet_2020_03_04_fishhours.tif\n",
      "E:\\analysis\\GFW\\gfw_daily_fleet_2020.gdb\\daily_fleet_2020_03_04_fishhours\n",
      "daily_fleet_2020_03_05_fishhours.csv\n",
      "E:\\analysis\\GFW\\TIF\\2020\\daily_fleet_2020_03_05_fishhours.csv\n",
      "E:\\analysis\\GFW\\TIF\\2020\\daily_fleet_2020_03_05_fishhours.tif\n",
      "E:\\analysis\\GFW\\gfw_daily_fleet_2020.gdb\\daily_fleet_2020_03_05_fishhours\n",
      "daily_fleet_2020_03_06_fishhours.csv\n",
      "E:\\analysis\\GFW\\TIF\\2020\\daily_fleet_2020_03_06_fishhours.csv\n",
      "E:\\analysis\\GFW\\TIF\\2020\\daily_fleet_2020_03_06_fishhours.tif\n",
      "E:\\analysis\\GFW\\gfw_daily_fleet_2020.gdb\\daily_fleet_2020_03_06_fishhours\n",
      "daily_fleet_2020_03_07_fishhours.csv\n",
      "E:\\analysis\\GFW\\TIF\\2020\\daily_fleet_2020_03_07_fishhours.csv\n",
      "E:\\analysis\\GFW\\TIF\\2020\\daily_fleet_2020_03_07_fishhours.tif\n",
      "E:\\analysis\\GFW\\gfw_daily_fleet_2020.gdb\\daily_fleet_2020_03_07_fishhours\n",
      "daily_fleet_2020_03_08_fishhours.csv\n",
      "E:\\analysis\\GFW\\TIF\\2020\\daily_fleet_2020_03_08_fishhours.csv\n",
      "E:\\analysis\\GFW\\TIF\\2020\\daily_fleet_2020_03_08_fishhours.tif\n",
      "E:\\analysis\\GFW\\gfw_daily_fleet_2020.gdb\\daily_fleet_2020_03_08_fishhours\n",
      "daily_fleet_2020_03_09_fishhours.csv\n",
      "E:\\analysis\\GFW\\TIF\\2020\\daily_fleet_2020_03_09_fishhours.csv\n",
      "E:\\analysis\\GFW\\TIF\\2020\\daily_fleet_2020_03_09_fishhours.tif\n",
      "E:\\analysis\\GFW\\gfw_daily_fleet_2020.gdb\\daily_fleet_2020_03_09_fishhours\n",
      "daily_fleet_2020_03_10_fishhours.csv\n",
      "E:\\analysis\\GFW\\TIF\\2020\\daily_fleet_2020_03_10_fishhours.csv\n",
      "E:\\analysis\\GFW\\TIF\\2020\\daily_fleet_2020_03_10_fishhours.tif\n",
      "E:\\analysis\\GFW\\gfw_daily_fleet_2020.gdb\\daily_fleet_2020_03_10_fishhours\n",
      "daily_fleet_2020_03_11_fishhours.csv\n",
      "E:\\analysis\\GFW\\TIF\\2020\\daily_fleet_2020_03_11_fishhours.csv\n",
      "E:\\analysis\\GFW\\TIF\\2020\\daily_fleet_2020_03_11_fishhours.tif\n",
      "E:\\analysis\\GFW\\gfw_daily_fleet_2020.gdb\\daily_fleet_2020_03_11_fishhours\n",
      "daily_fleet_2020_03_12_fishhours.csv\n",
      "E:\\analysis\\GFW\\TIF\\2020\\daily_fleet_2020_03_12_fishhours.csv\n",
      "E:\\analysis\\GFW\\TIF\\2020\\daily_fleet_2020_03_12_fishhours.tif\n",
      "E:\\analysis\\GFW\\gfw_daily_fleet_2020.gdb\\daily_fleet_2020_03_12_fishhours\n",
      "daily_fleet_2020_03_13_fishhours.csv\n",
      "E:\\analysis\\GFW\\TIF\\2020\\daily_fleet_2020_03_13_fishhours.csv\n",
      "E:\\analysis\\GFW\\TIF\\2020\\daily_fleet_2020_03_13_fishhours.tif\n",
      "E:\\analysis\\GFW\\gfw_daily_fleet_2020.gdb\\daily_fleet_2020_03_13_fishhours\n",
      "daily_fleet_2020_03_14_fishhours.csv\n",
      "E:\\analysis\\GFW\\TIF\\2020\\daily_fleet_2020_03_14_fishhours.csv\n",
      "E:\\analysis\\GFW\\TIF\\2020\\daily_fleet_2020_03_14_fishhours.tif\n",
      "E:\\analysis\\GFW\\gfw_daily_fleet_2020.gdb\\daily_fleet_2020_03_14_fishhours\n",
      "daily_fleet_2020_03_15_fishhours.csv\n",
      "E:\\analysis\\GFW\\TIF\\2020\\daily_fleet_2020_03_15_fishhours.csv\n",
      "E:\\analysis\\GFW\\TIF\\2020\\daily_fleet_2020_03_15_fishhours.tif\n",
      "E:\\analysis\\GFW\\gfw_daily_fleet_2020.gdb\\daily_fleet_2020_03_15_fishhours\n",
      "daily_fleet_2020_03_16_fishhours.csv\n",
      "E:\\analysis\\GFW\\TIF\\2020\\daily_fleet_2020_03_16_fishhours.csv\n",
      "E:\\analysis\\GFW\\TIF\\2020\\daily_fleet_2020_03_16_fishhours.tif\n",
      "E:\\analysis\\GFW\\gfw_daily_fleet_2020.gdb\\daily_fleet_2020_03_16_fishhours\n",
      "daily_fleet_2020_03_17_fishhours.csv\n",
      "E:\\analysis\\GFW\\TIF\\2020\\daily_fleet_2020_03_17_fishhours.csv\n",
      "E:\\analysis\\GFW\\TIF\\2020\\daily_fleet_2020_03_17_fishhours.tif\n",
      "E:\\analysis\\GFW\\gfw_daily_fleet_2020.gdb\\daily_fleet_2020_03_17_fishhours\n",
      "daily_fleet_2020_03_18_fishhours.csv\n",
      "E:\\analysis\\GFW\\TIF\\2020\\daily_fleet_2020_03_18_fishhours.csv\n",
      "E:\\analysis\\GFW\\TIF\\2020\\daily_fleet_2020_03_18_fishhours.tif\n",
      "E:\\analysis\\GFW\\gfw_daily_fleet_2020.gdb\\daily_fleet_2020_03_18_fishhours\n",
      "daily_fleet_2020_03_19_fishhours.csv\n",
      "E:\\analysis\\GFW\\TIF\\2020\\daily_fleet_2020_03_19_fishhours.csv\n",
      "E:\\analysis\\GFW\\TIF\\2020\\daily_fleet_2020_03_19_fishhours.tif\n",
      "E:\\analysis\\GFW\\gfw_daily_fleet_2020.gdb\\daily_fleet_2020_03_19_fishhours\n",
      "daily_fleet_2020_03_20_fishhours.csv\n",
      "E:\\analysis\\GFW\\TIF\\2020\\daily_fleet_2020_03_20_fishhours.csv\n",
      "E:\\analysis\\GFW\\TIF\\2020\\daily_fleet_2020_03_20_fishhours.tif\n",
      "E:\\analysis\\GFW\\gfw_daily_fleet_2020.gdb\\daily_fleet_2020_03_20_fishhours\n",
      "daily_fleet_2020_03_21_fishhours.csv\n",
      "E:\\analysis\\GFW\\TIF\\2020\\daily_fleet_2020_03_21_fishhours.csv\n",
      "E:\\analysis\\GFW\\TIF\\2020\\daily_fleet_2020_03_21_fishhours.tif\n",
      "E:\\analysis\\GFW\\gfw_daily_fleet_2020.gdb\\daily_fleet_2020_03_21_fishhours\n",
      "daily_fleet_2020_03_22_fishhours.csv\n",
      "E:\\analysis\\GFW\\TIF\\2020\\daily_fleet_2020_03_22_fishhours.csv\n",
      "E:\\analysis\\GFW\\TIF\\2020\\daily_fleet_2020_03_22_fishhours.tif\n",
      "E:\\analysis\\GFW\\gfw_daily_fleet_2020.gdb\\daily_fleet_2020_03_22_fishhours\n",
      "daily_fleet_2020_03_23_fishhours.csv\n",
      "E:\\analysis\\GFW\\TIF\\2020\\daily_fleet_2020_03_23_fishhours.csv\n",
      "E:\\analysis\\GFW\\TIF\\2020\\daily_fleet_2020_03_23_fishhours.tif\n",
      "E:\\analysis\\GFW\\gfw_daily_fleet_2020.gdb\\daily_fleet_2020_03_23_fishhours\n",
      "daily_fleet_2020_03_24_fishhours.csv\n",
      "E:\\analysis\\GFW\\TIF\\2020\\daily_fleet_2020_03_24_fishhours.csv\n",
      "E:\\analysis\\GFW\\TIF\\2020\\daily_fleet_2020_03_24_fishhours.tif\n",
      "E:\\analysis\\GFW\\gfw_daily_fleet_2020.gdb\\daily_fleet_2020_03_24_fishhours\n",
      "daily_fleet_2020_03_25_fishhours.csv\n",
      "E:\\analysis\\GFW\\TIF\\2020\\daily_fleet_2020_03_25_fishhours.csv\n",
      "E:\\analysis\\GFW\\TIF\\2020\\daily_fleet_2020_03_25_fishhours.tif\n",
      "E:\\analysis\\GFW\\gfw_daily_fleet_2020.gdb\\daily_fleet_2020_03_25_fishhours\n",
      "daily_fleet_2020_03_26_fishhours.csv\n",
      "E:\\analysis\\GFW\\TIF\\2020\\daily_fleet_2020_03_26_fishhours.csv\n",
      "E:\\analysis\\GFW\\TIF\\2020\\daily_fleet_2020_03_26_fishhours.tif\n",
      "E:\\analysis\\GFW\\gfw_daily_fleet_2020.gdb\\daily_fleet_2020_03_26_fishhours\n",
      "daily_fleet_2020_03_27_fishhours.csv\n",
      "E:\\analysis\\GFW\\TIF\\2020\\daily_fleet_2020_03_27_fishhours.csv\n",
      "E:\\analysis\\GFW\\TIF\\2020\\daily_fleet_2020_03_27_fishhours.tif\n",
      "E:\\analysis\\GFW\\gfw_daily_fleet_2020.gdb\\daily_fleet_2020_03_27_fishhours\n",
      "daily_fleet_2020_03_28_fishhours.csv\n",
      "E:\\analysis\\GFW\\TIF\\2020\\daily_fleet_2020_03_28_fishhours.csv\n",
      "E:\\analysis\\GFW\\TIF\\2020\\daily_fleet_2020_03_28_fishhours.tif\n",
      "E:\\analysis\\GFW\\gfw_daily_fleet_2020.gdb\\daily_fleet_2020_03_28_fishhours\n",
      "daily_fleet_2020_03_29_fishhours.csv\n",
      "E:\\analysis\\GFW\\TIF\\2020\\daily_fleet_2020_03_29_fishhours.csv\n",
      "E:\\analysis\\GFW\\TIF\\2020\\daily_fleet_2020_03_29_fishhours.tif\n",
      "E:\\analysis\\GFW\\gfw_daily_fleet_2020.gdb\\daily_fleet_2020_03_29_fishhours\n",
      "daily_fleet_2020_03_30_fishhours.csv\n",
      "E:\\analysis\\GFW\\TIF\\2020\\daily_fleet_2020_03_30_fishhours.csv\n",
      "E:\\analysis\\GFW\\TIF\\2020\\daily_fleet_2020_03_30_fishhours.tif\n",
      "E:\\analysis\\GFW\\gfw_daily_fleet_2020.gdb\\daily_fleet_2020_03_30_fishhours\n",
      "daily_fleet_2020_03_31_fishhours.csv\n",
      "E:\\analysis\\GFW\\TIF\\2020\\daily_fleet_2020_03_31_fishhours.csv\n",
      "E:\\analysis\\GFW\\TIF\\2020\\daily_fleet_2020_03_31_fishhours.tif\n",
      "E:\\analysis\\GFW\\gfw_daily_fleet_2020.gdb\\daily_fleet_2020_03_31_fishhours\n",
      "daily_fleet_2020_04_01_fishhours.csv\n",
      "E:\\analysis\\GFW\\TIF\\2020\\daily_fleet_2020_04_01_fishhours.csv\n",
      "E:\\analysis\\GFW\\TIF\\2020\\daily_fleet_2020_04_01_fishhours.tif\n",
      "E:\\analysis\\GFW\\gfw_daily_fleet_2020.gdb\\daily_fleet_2020_04_01_fishhours\n",
      "daily_fleet_2020_04_02_fishhours.csv\n",
      "E:\\analysis\\GFW\\TIF\\2020\\daily_fleet_2020_04_02_fishhours.csv\n",
      "E:\\analysis\\GFW\\TIF\\2020\\daily_fleet_2020_04_02_fishhours.tif\n",
      "E:\\analysis\\GFW\\gfw_daily_fleet_2020.gdb\\daily_fleet_2020_04_02_fishhours\n",
      "daily_fleet_2020_04_03_fishhours.csv\n",
      "E:\\analysis\\GFW\\TIF\\2020\\daily_fleet_2020_04_03_fishhours.csv\n",
      "E:\\analysis\\GFW\\TIF\\2020\\daily_fleet_2020_04_03_fishhours.tif\n",
      "E:\\analysis\\GFW\\gfw_daily_fleet_2020.gdb\\daily_fleet_2020_04_03_fishhours\n",
      "daily_fleet_2020_04_04_fishhours.csv\n",
      "E:\\analysis\\GFW\\TIF\\2020\\daily_fleet_2020_04_04_fishhours.csv\n",
      "E:\\analysis\\GFW\\TIF\\2020\\daily_fleet_2020_04_04_fishhours.tif\n",
      "E:\\analysis\\GFW\\gfw_daily_fleet_2020.gdb\\daily_fleet_2020_04_04_fishhours\n",
      "daily_fleet_2020_04_05_fishhours.csv\n",
      "E:\\analysis\\GFW\\TIF\\2020\\daily_fleet_2020_04_05_fishhours.csv\n",
      "E:\\analysis\\GFW\\TIF\\2020\\daily_fleet_2020_04_05_fishhours.tif\n",
      "E:\\analysis\\GFW\\gfw_daily_fleet_2020.gdb\\daily_fleet_2020_04_05_fishhours\n",
      "daily_fleet_2020_04_06_fishhours.csv\n",
      "E:\\analysis\\GFW\\TIF\\2020\\daily_fleet_2020_04_06_fishhours.csv\n",
      "E:\\analysis\\GFW\\TIF\\2020\\daily_fleet_2020_04_06_fishhours.tif\n",
      "E:\\analysis\\GFW\\gfw_daily_fleet_2020.gdb\\daily_fleet_2020_04_06_fishhours\n",
      "daily_fleet_2020_04_07_fishhours.csv\n",
      "E:\\analysis\\GFW\\TIF\\2020\\daily_fleet_2020_04_07_fishhours.csv\n",
      "E:\\analysis\\GFW\\TIF\\2020\\daily_fleet_2020_04_07_fishhours.tif\n",
      "E:\\analysis\\GFW\\gfw_daily_fleet_2020.gdb\\daily_fleet_2020_04_07_fishhours\n",
      "daily_fleet_2020_04_08_fishhours.csv\n",
      "E:\\analysis\\GFW\\TIF\\2020\\daily_fleet_2020_04_08_fishhours.csv\n",
      "E:\\analysis\\GFW\\TIF\\2020\\daily_fleet_2020_04_08_fishhours.tif\n",
      "E:\\analysis\\GFW\\gfw_daily_fleet_2020.gdb\\daily_fleet_2020_04_08_fishhours\n",
      "daily_fleet_2020_04_09_fishhours.csv\n",
      "E:\\analysis\\GFW\\TIF\\2020\\daily_fleet_2020_04_09_fishhours.csv\n",
      "E:\\analysis\\GFW\\TIF\\2020\\daily_fleet_2020_04_09_fishhours.tif\n",
      "E:\\analysis\\GFW\\gfw_daily_fleet_2020.gdb\\daily_fleet_2020_04_09_fishhours\n",
      "daily_fleet_2020_04_10_fishhours.csv\n",
      "E:\\analysis\\GFW\\TIF\\2020\\daily_fleet_2020_04_10_fishhours.csv\n",
      "E:\\analysis\\GFW\\TIF\\2020\\daily_fleet_2020_04_10_fishhours.tif\n",
      "E:\\analysis\\GFW\\gfw_daily_fleet_2020.gdb\\daily_fleet_2020_04_10_fishhours\n",
      "daily_fleet_2020_04_11_fishhours.csv\n",
      "E:\\analysis\\GFW\\TIF\\2020\\daily_fleet_2020_04_11_fishhours.csv\n",
      "E:\\analysis\\GFW\\TIF\\2020\\daily_fleet_2020_04_11_fishhours.tif\n",
      "E:\\analysis\\GFW\\gfw_daily_fleet_2020.gdb\\daily_fleet_2020_04_11_fishhours\n",
      "daily_fleet_2020_04_12_fishhours.csv\n",
      "E:\\analysis\\GFW\\TIF\\2020\\daily_fleet_2020_04_12_fishhours.csv\n",
      "E:\\analysis\\GFW\\TIF\\2020\\daily_fleet_2020_04_12_fishhours.tif\n",
      "E:\\analysis\\GFW\\gfw_daily_fleet_2020.gdb\\daily_fleet_2020_04_12_fishhours\n",
      "daily_fleet_2020_04_13_fishhours.csv\n",
      "E:\\analysis\\GFW\\TIF\\2020\\daily_fleet_2020_04_13_fishhours.csv\n",
      "E:\\analysis\\GFW\\TIF\\2020\\daily_fleet_2020_04_13_fishhours.tif\n",
      "E:\\analysis\\GFW\\gfw_daily_fleet_2020.gdb\\daily_fleet_2020_04_13_fishhours\n",
      "daily_fleet_2020_04_14_fishhours.csv\n",
      "E:\\analysis\\GFW\\TIF\\2020\\daily_fleet_2020_04_14_fishhours.csv\n",
      "E:\\analysis\\GFW\\TIF\\2020\\daily_fleet_2020_04_14_fishhours.tif\n",
      "E:\\analysis\\GFW\\gfw_daily_fleet_2020.gdb\\daily_fleet_2020_04_14_fishhours\n",
      "daily_fleet_2020_04_15_fishhours.csv\n",
      "E:\\analysis\\GFW\\TIF\\2020\\daily_fleet_2020_04_15_fishhours.csv\n",
      "E:\\analysis\\GFW\\TIF\\2020\\daily_fleet_2020_04_15_fishhours.tif\n",
      "E:\\analysis\\GFW\\gfw_daily_fleet_2020.gdb\\daily_fleet_2020_04_15_fishhours\n",
      "daily_fleet_2020_04_16_fishhours.csv\n",
      "E:\\analysis\\GFW\\TIF\\2020\\daily_fleet_2020_04_16_fishhours.csv\n",
      "E:\\analysis\\GFW\\TIF\\2020\\daily_fleet_2020_04_16_fishhours.tif\n",
      "E:\\analysis\\GFW\\gfw_daily_fleet_2020.gdb\\daily_fleet_2020_04_16_fishhours\n",
      "daily_fleet_2020_04_17_fishhours.csv\n",
      "E:\\analysis\\GFW\\TIF\\2020\\daily_fleet_2020_04_17_fishhours.csv\n",
      "E:\\analysis\\GFW\\TIF\\2020\\daily_fleet_2020_04_17_fishhours.tif\n",
      "E:\\analysis\\GFW\\gfw_daily_fleet_2020.gdb\\daily_fleet_2020_04_17_fishhours\n",
      "daily_fleet_2020_04_18_fishhours.csv\n",
      "E:\\analysis\\GFW\\TIF\\2020\\daily_fleet_2020_04_18_fishhours.csv\n",
      "E:\\analysis\\GFW\\TIF\\2020\\daily_fleet_2020_04_18_fishhours.tif\n",
      "E:\\analysis\\GFW\\gfw_daily_fleet_2020.gdb\\daily_fleet_2020_04_18_fishhours\n",
      "daily_fleet_2020_04_19_fishhours.csv\n",
      "E:\\analysis\\GFW\\TIF\\2020\\daily_fleet_2020_04_19_fishhours.csv\n",
      "E:\\analysis\\GFW\\TIF\\2020\\daily_fleet_2020_04_19_fishhours.tif\n",
      "E:\\analysis\\GFW\\gfw_daily_fleet_2020.gdb\\daily_fleet_2020_04_19_fishhours\n",
      "daily_fleet_2020_04_20_fishhours.csv\n",
      "E:\\analysis\\GFW\\TIF\\2020\\daily_fleet_2020_04_20_fishhours.csv\n",
      "E:\\analysis\\GFW\\TIF\\2020\\daily_fleet_2020_04_20_fishhours.tif\n",
      "E:\\analysis\\GFW\\gfw_daily_fleet_2020.gdb\\daily_fleet_2020_04_20_fishhours\n",
      "daily_fleet_2020_04_21_fishhours.csv\n",
      "E:\\analysis\\GFW\\TIF\\2020\\daily_fleet_2020_04_21_fishhours.csv\n",
      "E:\\analysis\\GFW\\TIF\\2020\\daily_fleet_2020_04_21_fishhours.tif\n",
      "E:\\analysis\\GFW\\gfw_daily_fleet_2020.gdb\\daily_fleet_2020_04_21_fishhours\n",
      "daily_fleet_2020_04_22_fishhours.csv\n",
      "E:\\analysis\\GFW\\TIF\\2020\\daily_fleet_2020_04_22_fishhours.csv\n",
      "E:\\analysis\\GFW\\TIF\\2020\\daily_fleet_2020_04_22_fishhours.tif\n",
      "E:\\analysis\\GFW\\gfw_daily_fleet_2020.gdb\\daily_fleet_2020_04_22_fishhours\n",
      "daily_fleet_2020_04_23_fishhours.csv\n",
      "E:\\analysis\\GFW\\TIF\\2020\\daily_fleet_2020_04_23_fishhours.csv\n",
      "E:\\analysis\\GFW\\TIF\\2020\\daily_fleet_2020_04_23_fishhours.tif\n",
      "E:\\analysis\\GFW\\gfw_daily_fleet_2020.gdb\\daily_fleet_2020_04_23_fishhours\n",
      "daily_fleet_2020_04_24_fishhours.csv\n",
      "E:\\analysis\\GFW\\TIF\\2020\\daily_fleet_2020_04_24_fishhours.csv\n",
      "E:\\analysis\\GFW\\TIF\\2020\\daily_fleet_2020_04_24_fishhours.tif\n",
      "E:\\analysis\\GFW\\gfw_daily_fleet_2020.gdb\\daily_fleet_2020_04_24_fishhours\n",
      "daily_fleet_2020_04_25_fishhours.csv\n",
      "E:\\analysis\\GFW\\TIF\\2020\\daily_fleet_2020_04_25_fishhours.csv\n",
      "E:\\analysis\\GFW\\TIF\\2020\\daily_fleet_2020_04_25_fishhours.tif\n",
      "E:\\analysis\\GFW\\gfw_daily_fleet_2020.gdb\\daily_fleet_2020_04_25_fishhours\n",
      "daily_fleet_2020_04_26_fishhours.csv\n",
      "E:\\analysis\\GFW\\TIF\\2020\\daily_fleet_2020_04_26_fishhours.csv\n",
      "E:\\analysis\\GFW\\TIF\\2020\\daily_fleet_2020_04_26_fishhours.tif\n",
      "E:\\analysis\\GFW\\gfw_daily_fleet_2020.gdb\\daily_fleet_2020_04_26_fishhours\n",
      "daily_fleet_2020_04_27_fishhours.csv\n",
      "E:\\analysis\\GFW\\TIF\\2020\\daily_fleet_2020_04_27_fishhours.csv\n",
      "E:\\analysis\\GFW\\TIF\\2020\\daily_fleet_2020_04_27_fishhours.tif\n",
      "E:\\analysis\\GFW\\gfw_daily_fleet_2020.gdb\\daily_fleet_2020_04_27_fishhours\n",
      "daily_fleet_2020_04_28_fishhours.csv\n",
      "E:\\analysis\\GFW\\TIF\\2020\\daily_fleet_2020_04_28_fishhours.csv\n",
      "E:\\analysis\\GFW\\TIF\\2020\\daily_fleet_2020_04_28_fishhours.tif\n",
      "E:\\analysis\\GFW\\gfw_daily_fleet_2020.gdb\\daily_fleet_2020_04_28_fishhours\n",
      "daily_fleet_2020_04_29_fishhours.csv\n",
      "E:\\analysis\\GFW\\TIF\\2020\\daily_fleet_2020_04_29_fishhours.csv\n",
      "E:\\analysis\\GFW\\TIF\\2020\\daily_fleet_2020_04_29_fishhours.tif\n",
      "E:\\analysis\\GFW\\gfw_daily_fleet_2020.gdb\\daily_fleet_2020_04_29_fishhours\n",
      "daily_fleet_2020_04_30_fishhours.csv\n",
      "E:\\analysis\\GFW\\TIF\\2020\\daily_fleet_2020_04_30_fishhours.csv\n",
      "E:\\analysis\\GFW\\TIF\\2020\\daily_fleet_2020_04_30_fishhours.tif\n",
      "E:\\analysis\\GFW\\gfw_daily_fleet_2020.gdb\\daily_fleet_2020_04_30_fishhours\n",
      "daily_fleet_2020_05_01_fishhours.csv\n",
      "E:\\analysis\\GFW\\TIF\\2020\\daily_fleet_2020_05_01_fishhours.csv\n",
      "E:\\analysis\\GFW\\TIF\\2020\\daily_fleet_2020_05_01_fishhours.tif\n",
      "E:\\analysis\\GFW\\gfw_daily_fleet_2020.gdb\\daily_fleet_2020_05_01_fishhours\n",
      "daily_fleet_2020_05_02_fishhours.csv\n",
      "E:\\analysis\\GFW\\TIF\\2020\\daily_fleet_2020_05_02_fishhours.csv\n",
      "E:\\analysis\\GFW\\TIF\\2020\\daily_fleet_2020_05_02_fishhours.tif\n",
      "E:\\analysis\\GFW\\gfw_daily_fleet_2020.gdb\\daily_fleet_2020_05_02_fishhours\n",
      "daily_fleet_2020_05_03_fishhours.csv\n",
      "E:\\analysis\\GFW\\TIF\\2020\\daily_fleet_2020_05_03_fishhours.csv\n",
      "E:\\analysis\\GFW\\TIF\\2020\\daily_fleet_2020_05_03_fishhours.tif\n",
      "E:\\analysis\\GFW\\gfw_daily_fleet_2020.gdb\\daily_fleet_2020_05_03_fishhours\n",
      "daily_fleet_2020_05_04_fishhours.csv\n",
      "E:\\analysis\\GFW\\TIF\\2020\\daily_fleet_2020_05_04_fishhours.csv\n",
      "E:\\analysis\\GFW\\TIF\\2020\\daily_fleet_2020_05_04_fishhours.tif\n",
      "E:\\analysis\\GFW\\gfw_daily_fleet_2020.gdb\\daily_fleet_2020_05_04_fishhours\n",
      "daily_fleet_2020_05_05_fishhours.csv\n",
      "E:\\analysis\\GFW\\TIF\\2020\\daily_fleet_2020_05_05_fishhours.csv\n",
      "E:\\analysis\\GFW\\TIF\\2020\\daily_fleet_2020_05_05_fishhours.tif\n",
      "E:\\analysis\\GFW\\gfw_daily_fleet_2020.gdb\\daily_fleet_2020_05_05_fishhours\n",
      "daily_fleet_2020_05_06_fishhours.csv\n",
      "E:\\analysis\\GFW\\TIF\\2020\\daily_fleet_2020_05_06_fishhours.csv\n",
      "E:\\analysis\\GFW\\TIF\\2020\\daily_fleet_2020_05_06_fishhours.tif\n",
      "E:\\analysis\\GFW\\gfw_daily_fleet_2020.gdb\\daily_fleet_2020_05_06_fishhours\n",
      "daily_fleet_2020_05_07_fishhours.csv\n",
      "E:\\analysis\\GFW\\TIF\\2020\\daily_fleet_2020_05_07_fishhours.csv\n",
      "E:\\analysis\\GFW\\TIF\\2020\\daily_fleet_2020_05_07_fishhours.tif\n",
      "E:\\analysis\\GFW\\gfw_daily_fleet_2020.gdb\\daily_fleet_2020_05_07_fishhours\n",
      "daily_fleet_2020_05_08_fishhours.csv\n",
      "E:\\analysis\\GFW\\TIF\\2020\\daily_fleet_2020_05_08_fishhours.csv\n",
      "E:\\analysis\\GFW\\TIF\\2020\\daily_fleet_2020_05_08_fishhours.tif\n",
      "E:\\analysis\\GFW\\gfw_daily_fleet_2020.gdb\\daily_fleet_2020_05_08_fishhours\n",
      "daily_fleet_2020_05_09_fishhours.csv\n",
      "E:\\analysis\\GFW\\TIF\\2020\\daily_fleet_2020_05_09_fishhours.csv\n",
      "E:\\analysis\\GFW\\TIF\\2020\\daily_fleet_2020_05_09_fishhours.tif\n",
      "E:\\analysis\\GFW\\gfw_daily_fleet_2020.gdb\\daily_fleet_2020_05_09_fishhours\n",
      "daily_fleet_2020_05_10_fishhours.csv\n",
      "E:\\analysis\\GFW\\TIF\\2020\\daily_fleet_2020_05_10_fishhours.csv\n",
      "E:\\analysis\\GFW\\TIF\\2020\\daily_fleet_2020_05_10_fishhours.tif\n",
      "E:\\analysis\\GFW\\gfw_daily_fleet_2020.gdb\\daily_fleet_2020_05_10_fishhours\n",
      "daily_fleet_2020_05_11_fishhours.csv\n",
      "E:\\analysis\\GFW\\TIF\\2020\\daily_fleet_2020_05_11_fishhours.csv\n",
      "E:\\analysis\\GFW\\TIF\\2020\\daily_fleet_2020_05_11_fishhours.tif\n",
      "E:\\analysis\\GFW\\gfw_daily_fleet_2020.gdb\\daily_fleet_2020_05_11_fishhours\n",
      "daily_fleet_2020_05_12_fishhours.csv\n",
      "E:\\analysis\\GFW\\TIF\\2020\\daily_fleet_2020_05_12_fishhours.csv\n",
      "E:\\analysis\\GFW\\TIF\\2020\\daily_fleet_2020_05_12_fishhours.tif\n",
      "E:\\analysis\\GFW\\gfw_daily_fleet_2020.gdb\\daily_fleet_2020_05_12_fishhours\n",
      "daily_fleet_2020_05_13_fishhours.csv\n",
      "E:\\analysis\\GFW\\TIF\\2020\\daily_fleet_2020_05_13_fishhours.csv\n",
      "E:\\analysis\\GFW\\TIF\\2020\\daily_fleet_2020_05_13_fishhours.tif\n",
      "E:\\analysis\\GFW\\gfw_daily_fleet_2020.gdb\\daily_fleet_2020_05_13_fishhours\n",
      "daily_fleet_2020_05_14_fishhours.csv\n",
      "E:\\analysis\\GFW\\TIF\\2020\\daily_fleet_2020_05_14_fishhours.csv\n",
      "E:\\analysis\\GFW\\TIF\\2020\\daily_fleet_2020_05_14_fishhours.tif\n",
      "E:\\analysis\\GFW\\gfw_daily_fleet_2020.gdb\\daily_fleet_2020_05_14_fishhours\n",
      "daily_fleet_2020_05_15_fishhours.csv\n",
      "E:\\analysis\\GFW\\TIF\\2020\\daily_fleet_2020_05_15_fishhours.csv\n",
      "E:\\analysis\\GFW\\TIF\\2020\\daily_fleet_2020_05_15_fishhours.tif\n",
      "E:\\analysis\\GFW\\gfw_daily_fleet_2020.gdb\\daily_fleet_2020_05_15_fishhours\n",
      "daily_fleet_2020_05_16_fishhours.csv\n",
      "E:\\analysis\\GFW\\TIF\\2020\\daily_fleet_2020_05_16_fishhours.csv\n",
      "E:\\analysis\\GFW\\TIF\\2020\\daily_fleet_2020_05_16_fishhours.tif\n",
      "E:\\analysis\\GFW\\gfw_daily_fleet_2020.gdb\\daily_fleet_2020_05_16_fishhours\n",
      "daily_fleet_2020_05_17_fishhours.csv\n",
      "E:\\analysis\\GFW\\TIF\\2020\\daily_fleet_2020_05_17_fishhours.csv\n",
      "E:\\analysis\\GFW\\TIF\\2020\\daily_fleet_2020_05_17_fishhours.tif\n",
      "E:\\analysis\\GFW\\gfw_daily_fleet_2020.gdb\\daily_fleet_2020_05_17_fishhours\n",
      "daily_fleet_2020_05_18_fishhours.csv\n",
      "E:\\analysis\\GFW\\TIF\\2020\\daily_fleet_2020_05_18_fishhours.csv\n",
      "E:\\analysis\\GFW\\TIF\\2020\\daily_fleet_2020_05_18_fishhours.tif\n",
      "E:\\analysis\\GFW\\gfw_daily_fleet_2020.gdb\\daily_fleet_2020_05_18_fishhours\n",
      "daily_fleet_2020_05_19_fishhours.csv\n",
      "E:\\analysis\\GFW\\TIF\\2020\\daily_fleet_2020_05_19_fishhours.csv\n",
      "E:\\analysis\\GFW\\TIF\\2020\\daily_fleet_2020_05_19_fishhours.tif\n",
      "E:\\analysis\\GFW\\gfw_daily_fleet_2020.gdb\\daily_fleet_2020_05_19_fishhours\n",
      "daily_fleet_2020_05_20_fishhours.csv\n",
      "E:\\analysis\\GFW\\TIF\\2020\\daily_fleet_2020_05_20_fishhours.csv\n",
      "E:\\analysis\\GFW\\TIF\\2020\\daily_fleet_2020_05_20_fishhours.tif\n",
      "E:\\analysis\\GFW\\gfw_daily_fleet_2020.gdb\\daily_fleet_2020_05_20_fishhours\n",
      "daily_fleet_2020_05_21_fishhours.csv\n",
      "E:\\analysis\\GFW\\TIF\\2020\\daily_fleet_2020_05_21_fishhours.csv\n",
      "E:\\analysis\\GFW\\TIF\\2020\\daily_fleet_2020_05_21_fishhours.tif\n",
      "E:\\analysis\\GFW\\gfw_daily_fleet_2020.gdb\\daily_fleet_2020_05_21_fishhours\n",
      "daily_fleet_2020_05_22_fishhours.csv\n",
      "E:\\analysis\\GFW\\TIF\\2020\\daily_fleet_2020_05_22_fishhours.csv\n",
      "E:\\analysis\\GFW\\TIF\\2020\\daily_fleet_2020_05_22_fishhours.tif\n",
      "E:\\analysis\\GFW\\gfw_daily_fleet_2020.gdb\\daily_fleet_2020_05_22_fishhours\n",
      "daily_fleet_2020_05_23_fishhours.csv\n",
      "E:\\analysis\\GFW\\TIF\\2020\\daily_fleet_2020_05_23_fishhours.csv\n",
      "E:\\analysis\\GFW\\TIF\\2020\\daily_fleet_2020_05_23_fishhours.tif\n",
      "E:\\analysis\\GFW\\gfw_daily_fleet_2020.gdb\\daily_fleet_2020_05_23_fishhours\n",
      "daily_fleet_2020_05_24_fishhours.csv\n",
      "E:\\analysis\\GFW\\TIF\\2020\\daily_fleet_2020_05_24_fishhours.csv\n",
      "E:\\analysis\\GFW\\TIF\\2020\\daily_fleet_2020_05_24_fishhours.tif\n",
      "E:\\analysis\\GFW\\gfw_daily_fleet_2020.gdb\\daily_fleet_2020_05_24_fishhours\n",
      "daily_fleet_2020_05_25_fishhours.csv\n",
      "E:\\analysis\\GFW\\TIF\\2020\\daily_fleet_2020_05_25_fishhours.csv\n",
      "E:\\analysis\\GFW\\TIF\\2020\\daily_fleet_2020_05_25_fishhours.tif\n",
      "E:\\analysis\\GFW\\gfw_daily_fleet_2020.gdb\\daily_fleet_2020_05_25_fishhours\n",
      "daily_fleet_2020_05_26_fishhours.csv\n",
      "E:\\analysis\\GFW\\TIF\\2020\\daily_fleet_2020_05_26_fishhours.csv\n",
      "E:\\analysis\\GFW\\TIF\\2020\\daily_fleet_2020_05_26_fishhours.tif\n",
      "E:\\analysis\\GFW\\gfw_daily_fleet_2020.gdb\\daily_fleet_2020_05_26_fishhours\n",
      "daily_fleet_2020_05_27_fishhours.csv\n",
      "E:\\analysis\\GFW\\TIF\\2020\\daily_fleet_2020_05_27_fishhours.csv\n",
      "E:\\analysis\\GFW\\TIF\\2020\\daily_fleet_2020_05_27_fishhours.tif\n",
      "E:\\analysis\\GFW\\gfw_daily_fleet_2020.gdb\\daily_fleet_2020_05_27_fishhours\n",
      "daily_fleet_2020_05_28_fishhours.csv\n",
      "E:\\analysis\\GFW\\TIF\\2020\\daily_fleet_2020_05_28_fishhours.csv\n",
      "E:\\analysis\\GFW\\TIF\\2020\\daily_fleet_2020_05_28_fishhours.tif\n",
      "E:\\analysis\\GFW\\gfw_daily_fleet_2020.gdb\\daily_fleet_2020_05_28_fishhours\n",
      "daily_fleet_2020_05_29_fishhours.csv\n",
      "E:\\analysis\\GFW\\TIF\\2020\\daily_fleet_2020_05_29_fishhours.csv\n",
      "E:\\analysis\\GFW\\TIF\\2020\\daily_fleet_2020_05_29_fishhours.tif\n",
      "E:\\analysis\\GFW\\gfw_daily_fleet_2020.gdb\\daily_fleet_2020_05_29_fishhours\n",
      "daily_fleet_2020_05_30_fishhours.csv\n",
      "E:\\analysis\\GFW\\TIF\\2020\\daily_fleet_2020_05_30_fishhours.csv\n",
      "E:\\analysis\\GFW\\TIF\\2020\\daily_fleet_2020_05_30_fishhours.tif\n",
      "E:\\analysis\\GFW\\gfw_daily_fleet_2020.gdb\\daily_fleet_2020_05_30_fishhours\n",
      "daily_fleet_2020_05_31_fishhours.csv\n",
      "E:\\analysis\\GFW\\TIF\\2020\\daily_fleet_2020_05_31_fishhours.csv\n",
      "E:\\analysis\\GFW\\TIF\\2020\\daily_fleet_2020_05_31_fishhours.tif\n",
      "E:\\analysis\\GFW\\gfw_daily_fleet_2020.gdb\\daily_fleet_2020_05_31_fishhours\n",
      "daily_fleet_2020_06_01_fishhours.csv\n",
      "E:\\analysis\\GFW\\TIF\\2020\\daily_fleet_2020_06_01_fishhours.csv\n",
      "E:\\analysis\\GFW\\TIF\\2020\\daily_fleet_2020_06_01_fishhours.tif\n",
      "E:\\analysis\\GFW\\gfw_daily_fleet_2020.gdb\\daily_fleet_2020_06_01_fishhours\n",
      "daily_fleet_2020_06_02_fishhours.csv\n",
      "E:\\analysis\\GFW\\TIF\\2020\\daily_fleet_2020_06_02_fishhours.csv\n",
      "E:\\analysis\\GFW\\TIF\\2020\\daily_fleet_2020_06_02_fishhours.tif\n",
      "E:\\analysis\\GFW\\gfw_daily_fleet_2020.gdb\\daily_fleet_2020_06_02_fishhours\n",
      "daily_fleet_2020_06_03_fishhours.csv\n",
      "E:\\analysis\\GFW\\TIF\\2020\\daily_fleet_2020_06_03_fishhours.csv\n",
      "E:\\analysis\\GFW\\TIF\\2020\\daily_fleet_2020_06_03_fishhours.tif\n",
      "E:\\analysis\\GFW\\gfw_daily_fleet_2020.gdb\\daily_fleet_2020_06_03_fishhours\n",
      "daily_fleet_2020_06_04_fishhours.csv\n",
      "E:\\analysis\\GFW\\TIF\\2020\\daily_fleet_2020_06_04_fishhours.csv\n",
      "E:\\analysis\\GFW\\TIF\\2020\\daily_fleet_2020_06_04_fishhours.tif\n",
      "E:\\analysis\\GFW\\gfw_daily_fleet_2020.gdb\\daily_fleet_2020_06_04_fishhours\n",
      "daily_fleet_2020_06_05_fishhours.csv\n",
      "E:\\analysis\\GFW\\TIF\\2020\\daily_fleet_2020_06_05_fishhours.csv\n",
      "E:\\analysis\\GFW\\TIF\\2020\\daily_fleet_2020_06_05_fishhours.tif\n",
      "E:\\analysis\\GFW\\gfw_daily_fleet_2020.gdb\\daily_fleet_2020_06_05_fishhours\n",
      "daily_fleet_2020_06_06_fishhours.csv\n",
      "E:\\analysis\\GFW\\TIF\\2020\\daily_fleet_2020_06_06_fishhours.csv\n",
      "E:\\analysis\\GFW\\TIF\\2020\\daily_fleet_2020_06_06_fishhours.tif\n",
      "E:\\analysis\\GFW\\gfw_daily_fleet_2020.gdb\\daily_fleet_2020_06_06_fishhours\n",
      "daily_fleet_2020_06_07_fishhours.csv\n",
      "E:\\analysis\\GFW\\TIF\\2020\\daily_fleet_2020_06_07_fishhours.csv\n",
      "E:\\analysis\\GFW\\TIF\\2020\\daily_fleet_2020_06_07_fishhours.tif\n",
      "E:\\analysis\\GFW\\gfw_daily_fleet_2020.gdb\\daily_fleet_2020_06_07_fishhours\n",
      "daily_fleet_2020_06_08_fishhours.csv\n",
      "E:\\analysis\\GFW\\TIF\\2020\\daily_fleet_2020_06_08_fishhours.csv\n",
      "E:\\analysis\\GFW\\TIF\\2020\\daily_fleet_2020_06_08_fishhours.tif\n",
      "E:\\analysis\\GFW\\gfw_daily_fleet_2020.gdb\\daily_fleet_2020_06_08_fishhours\n",
      "daily_fleet_2020_06_09_fishhours.csv\n",
      "E:\\analysis\\GFW\\TIF\\2020\\daily_fleet_2020_06_09_fishhours.csv\n",
      "E:\\analysis\\GFW\\TIF\\2020\\daily_fleet_2020_06_09_fishhours.tif\n",
      "E:\\analysis\\GFW\\gfw_daily_fleet_2020.gdb\\daily_fleet_2020_06_09_fishhours\n",
      "daily_fleet_2020_06_10_fishhours.csv\n",
      "E:\\analysis\\GFW\\TIF\\2020\\daily_fleet_2020_06_10_fishhours.csv\n",
      "E:\\analysis\\GFW\\TIF\\2020\\daily_fleet_2020_06_10_fishhours.tif\n",
      "E:\\analysis\\GFW\\gfw_daily_fleet_2020.gdb\\daily_fleet_2020_06_10_fishhours\n",
      "daily_fleet_2020_06_11_fishhours.csv\n",
      "E:\\analysis\\GFW\\TIF\\2020\\daily_fleet_2020_06_11_fishhours.csv\n",
      "E:\\analysis\\GFW\\TIF\\2020\\daily_fleet_2020_06_11_fishhours.tif\n",
      "E:\\analysis\\GFW\\gfw_daily_fleet_2020.gdb\\daily_fleet_2020_06_11_fishhours\n",
      "daily_fleet_2020_06_12_fishhours.csv\n",
      "E:\\analysis\\GFW\\TIF\\2020\\daily_fleet_2020_06_12_fishhours.csv\n",
      "E:\\analysis\\GFW\\TIF\\2020\\daily_fleet_2020_06_12_fishhours.tif\n",
      "E:\\analysis\\GFW\\gfw_daily_fleet_2020.gdb\\daily_fleet_2020_06_12_fishhours\n",
      "daily_fleet_2020_06_13_fishhours.csv\n",
      "E:\\analysis\\GFW\\TIF\\2020\\daily_fleet_2020_06_13_fishhours.csv\n",
      "E:\\analysis\\GFW\\TIF\\2020\\daily_fleet_2020_06_13_fishhours.tif\n",
      "E:\\analysis\\GFW\\gfw_daily_fleet_2020.gdb\\daily_fleet_2020_06_13_fishhours\n",
      "daily_fleet_2020_06_14_fishhours.csv\n",
      "E:\\analysis\\GFW\\TIF\\2020\\daily_fleet_2020_06_14_fishhours.csv\n",
      "E:\\analysis\\GFW\\TIF\\2020\\daily_fleet_2020_06_14_fishhours.tif\n",
      "E:\\analysis\\GFW\\gfw_daily_fleet_2020.gdb\\daily_fleet_2020_06_14_fishhours\n",
      "daily_fleet_2020_06_15_fishhours.csv\n",
      "E:\\analysis\\GFW\\TIF\\2020\\daily_fleet_2020_06_15_fishhours.csv\n",
      "E:\\analysis\\GFW\\TIF\\2020\\daily_fleet_2020_06_15_fishhours.tif\n",
      "E:\\analysis\\GFW\\gfw_daily_fleet_2020.gdb\\daily_fleet_2020_06_15_fishhours\n",
      "daily_fleet_2020_06_16_fishhours.csv\n",
      "E:\\analysis\\GFW\\TIF\\2020\\daily_fleet_2020_06_16_fishhours.csv\n",
      "E:\\analysis\\GFW\\TIF\\2020\\daily_fleet_2020_06_16_fishhours.tif\n",
      "E:\\analysis\\GFW\\gfw_daily_fleet_2020.gdb\\daily_fleet_2020_06_16_fishhours\n",
      "daily_fleet_2020_06_17_fishhours.csv\n",
      "E:\\analysis\\GFW\\TIF\\2020\\daily_fleet_2020_06_17_fishhours.csv\n",
      "E:\\analysis\\GFW\\TIF\\2020\\daily_fleet_2020_06_17_fishhours.tif\n",
      "E:\\analysis\\GFW\\gfw_daily_fleet_2020.gdb\\daily_fleet_2020_06_17_fishhours\n",
      "daily_fleet_2020_06_18_fishhours.csv\n",
      "E:\\analysis\\GFW\\TIF\\2020\\daily_fleet_2020_06_18_fishhours.csv\n",
      "E:\\analysis\\GFW\\TIF\\2020\\daily_fleet_2020_06_18_fishhours.tif\n",
      "E:\\analysis\\GFW\\gfw_daily_fleet_2020.gdb\\daily_fleet_2020_06_18_fishhours\n",
      "daily_fleet_2020_06_19_fishhours.csv\n",
      "E:\\analysis\\GFW\\TIF\\2020\\daily_fleet_2020_06_19_fishhours.csv\n",
      "E:\\analysis\\GFW\\TIF\\2020\\daily_fleet_2020_06_19_fishhours.tif\n",
      "E:\\analysis\\GFW\\gfw_daily_fleet_2020.gdb\\daily_fleet_2020_06_19_fishhours\n",
      "daily_fleet_2020_06_20_fishhours.csv\n",
      "E:\\analysis\\GFW\\TIF\\2020\\daily_fleet_2020_06_20_fishhours.csv\n",
      "E:\\analysis\\GFW\\TIF\\2020\\daily_fleet_2020_06_20_fishhours.tif\n",
      "E:\\analysis\\GFW\\gfw_daily_fleet_2020.gdb\\daily_fleet_2020_06_20_fishhours\n",
      "daily_fleet_2020_06_21_fishhours.csv\n",
      "E:\\analysis\\GFW\\TIF\\2020\\daily_fleet_2020_06_21_fishhours.csv\n",
      "E:\\analysis\\GFW\\TIF\\2020\\daily_fleet_2020_06_21_fishhours.tif\n",
      "E:\\analysis\\GFW\\gfw_daily_fleet_2020.gdb\\daily_fleet_2020_06_21_fishhours\n",
      "daily_fleet_2020_06_22_fishhours.csv\n",
      "E:\\analysis\\GFW\\TIF\\2020\\daily_fleet_2020_06_22_fishhours.csv\n",
      "E:\\analysis\\GFW\\TIF\\2020\\daily_fleet_2020_06_22_fishhours.tif\n",
      "E:\\analysis\\GFW\\gfw_daily_fleet_2020.gdb\\daily_fleet_2020_06_22_fishhours\n",
      "daily_fleet_2020_06_23_fishhours.csv\n",
      "E:\\analysis\\GFW\\TIF\\2020\\daily_fleet_2020_06_23_fishhours.csv\n",
      "E:\\analysis\\GFW\\TIF\\2020\\daily_fleet_2020_06_23_fishhours.tif\n",
      "E:\\analysis\\GFW\\gfw_daily_fleet_2020.gdb\\daily_fleet_2020_06_23_fishhours\n",
      "daily_fleet_2020_06_24_fishhours.csv\n",
      "E:\\analysis\\GFW\\TIF\\2020\\daily_fleet_2020_06_24_fishhours.csv\n",
      "E:\\analysis\\GFW\\TIF\\2020\\daily_fleet_2020_06_24_fishhours.tif\n",
      "E:\\analysis\\GFW\\gfw_daily_fleet_2020.gdb\\daily_fleet_2020_06_24_fishhours\n",
      "daily_fleet_2020_06_25_fishhours.csv\n",
      "E:\\analysis\\GFW\\TIF\\2020\\daily_fleet_2020_06_25_fishhours.csv\n",
      "E:\\analysis\\GFW\\TIF\\2020\\daily_fleet_2020_06_25_fishhours.tif\n",
      "E:\\analysis\\GFW\\gfw_daily_fleet_2020.gdb\\daily_fleet_2020_06_25_fishhours\n",
      "daily_fleet_2020_06_26_fishhours.csv\n",
      "E:\\analysis\\GFW\\TIF\\2020\\daily_fleet_2020_06_26_fishhours.csv\n",
      "E:\\analysis\\GFW\\TIF\\2020\\daily_fleet_2020_06_26_fishhours.tif\n",
      "E:\\analysis\\GFW\\gfw_daily_fleet_2020.gdb\\daily_fleet_2020_06_26_fishhours\n",
      "daily_fleet_2020_06_27_fishhours.csv\n",
      "E:\\analysis\\GFW\\TIF\\2020\\daily_fleet_2020_06_27_fishhours.csv\n",
      "E:\\analysis\\GFW\\TIF\\2020\\daily_fleet_2020_06_27_fishhours.tif\n",
      "E:\\analysis\\GFW\\gfw_daily_fleet_2020.gdb\\daily_fleet_2020_06_27_fishhours\n",
      "daily_fleet_2020_06_28_fishhours.csv\n",
      "E:\\analysis\\GFW\\TIF\\2020\\daily_fleet_2020_06_28_fishhours.csv\n",
      "E:\\analysis\\GFW\\TIF\\2020\\daily_fleet_2020_06_28_fishhours.tif\n",
      "E:\\analysis\\GFW\\gfw_daily_fleet_2020.gdb\\daily_fleet_2020_06_28_fishhours\n",
      "daily_fleet_2020_06_29_fishhours.csv\n",
      "E:\\analysis\\GFW\\TIF\\2020\\daily_fleet_2020_06_29_fishhours.csv\n",
      "E:\\analysis\\GFW\\TIF\\2020\\daily_fleet_2020_06_29_fishhours.tif\n",
      "E:\\analysis\\GFW\\gfw_daily_fleet_2020.gdb\\daily_fleet_2020_06_29_fishhours\n",
      "daily_fleet_2020_06_30_fishhours.csv\n",
      "E:\\analysis\\GFW\\TIF\\2020\\daily_fleet_2020_06_30_fishhours.csv\n",
      "E:\\analysis\\GFW\\TIF\\2020\\daily_fleet_2020_06_30_fishhours.tif\n",
      "E:\\analysis\\GFW\\gfw_daily_fleet_2020.gdb\\daily_fleet_2020_06_30_fishhours\n",
      "daily_fleet_2020_07_01_fishhours.csv\n",
      "E:\\analysis\\GFW\\TIF\\2020\\daily_fleet_2020_07_01_fishhours.csv\n",
      "E:\\analysis\\GFW\\TIF\\2020\\daily_fleet_2020_07_01_fishhours.tif\n",
      "E:\\analysis\\GFW\\gfw_daily_fleet_2020.gdb\\daily_fleet_2020_07_01_fishhours\n",
      "daily_fleet_2020_07_02_fishhours.csv\n",
      "E:\\analysis\\GFW\\TIF\\2020\\daily_fleet_2020_07_02_fishhours.csv\n",
      "E:\\analysis\\GFW\\TIF\\2020\\daily_fleet_2020_07_02_fishhours.tif\n",
      "E:\\analysis\\GFW\\gfw_daily_fleet_2020.gdb\\daily_fleet_2020_07_02_fishhours\n",
      "daily_fleet_2020_07_03_fishhours.csv\n",
      "E:\\analysis\\GFW\\TIF\\2020\\daily_fleet_2020_07_03_fishhours.csv\n",
      "E:\\analysis\\GFW\\TIF\\2020\\daily_fleet_2020_07_03_fishhours.tif\n",
      "E:\\analysis\\GFW\\gfw_daily_fleet_2020.gdb\\daily_fleet_2020_07_03_fishhours\n",
      "daily_fleet_2020_07_04_fishhours.csv\n",
      "E:\\analysis\\GFW\\TIF\\2020\\daily_fleet_2020_07_04_fishhours.csv\n",
      "E:\\analysis\\GFW\\TIF\\2020\\daily_fleet_2020_07_04_fishhours.tif\n",
      "E:\\analysis\\GFW\\gfw_daily_fleet_2020.gdb\\daily_fleet_2020_07_04_fishhours\n",
      "daily_fleet_2020_07_05_fishhours.csv\n",
      "E:\\analysis\\GFW\\TIF\\2020\\daily_fleet_2020_07_05_fishhours.csv\n",
      "E:\\analysis\\GFW\\TIF\\2020\\daily_fleet_2020_07_05_fishhours.tif\n",
      "E:\\analysis\\GFW\\gfw_daily_fleet_2020.gdb\\daily_fleet_2020_07_05_fishhours\n",
      "daily_fleet_2020_07_06_fishhours.csv\n",
      "E:\\analysis\\GFW\\TIF\\2020\\daily_fleet_2020_07_06_fishhours.csv\n",
      "E:\\analysis\\GFW\\TIF\\2020\\daily_fleet_2020_07_06_fishhours.tif\n",
      "E:\\analysis\\GFW\\gfw_daily_fleet_2020.gdb\\daily_fleet_2020_07_06_fishhours\n",
      "daily_fleet_2020_07_07_fishhours.csv\n",
      "E:\\analysis\\GFW\\TIF\\2020\\daily_fleet_2020_07_07_fishhours.csv\n",
      "E:\\analysis\\GFW\\TIF\\2020\\daily_fleet_2020_07_07_fishhours.tif\n",
      "E:\\analysis\\GFW\\gfw_daily_fleet_2020.gdb\\daily_fleet_2020_07_07_fishhours\n",
      "daily_fleet_2020_07_08_fishhours.csv\n",
      "E:\\analysis\\GFW\\TIF\\2020\\daily_fleet_2020_07_08_fishhours.csv\n",
      "E:\\analysis\\GFW\\TIF\\2020\\daily_fleet_2020_07_08_fishhours.tif\n",
      "E:\\analysis\\GFW\\gfw_daily_fleet_2020.gdb\\daily_fleet_2020_07_08_fishhours\n",
      "daily_fleet_2020_07_09_fishhours.csv\n",
      "E:\\analysis\\GFW\\TIF\\2020\\daily_fleet_2020_07_09_fishhours.csv\n",
      "E:\\analysis\\GFW\\TIF\\2020\\daily_fleet_2020_07_09_fishhours.tif\n",
      "E:\\analysis\\GFW\\gfw_daily_fleet_2020.gdb\\daily_fleet_2020_07_09_fishhours\n",
      "daily_fleet_2020_07_10_fishhours.csv\n",
      "E:\\analysis\\GFW\\TIF\\2020\\daily_fleet_2020_07_10_fishhours.csv\n",
      "E:\\analysis\\GFW\\TIF\\2020\\daily_fleet_2020_07_10_fishhours.tif\n",
      "E:\\analysis\\GFW\\gfw_daily_fleet_2020.gdb\\daily_fleet_2020_07_10_fishhours\n",
      "daily_fleet_2020_07_11_fishhours.csv\n",
      "E:\\analysis\\GFW\\TIF\\2020\\daily_fleet_2020_07_11_fishhours.csv\n",
      "E:\\analysis\\GFW\\TIF\\2020\\daily_fleet_2020_07_11_fishhours.tif\n",
      "E:\\analysis\\GFW\\gfw_daily_fleet_2020.gdb\\daily_fleet_2020_07_11_fishhours\n",
      "daily_fleet_2020_07_12_fishhours.csv\n",
      "E:\\analysis\\GFW\\TIF\\2020\\daily_fleet_2020_07_12_fishhours.csv\n",
      "E:\\analysis\\GFW\\TIF\\2020\\daily_fleet_2020_07_12_fishhours.tif\n",
      "E:\\analysis\\GFW\\gfw_daily_fleet_2020.gdb\\daily_fleet_2020_07_12_fishhours\n",
      "daily_fleet_2020_07_13_fishhours.csv\n",
      "E:\\analysis\\GFW\\TIF\\2020\\daily_fleet_2020_07_13_fishhours.csv\n",
      "E:\\analysis\\GFW\\TIF\\2020\\daily_fleet_2020_07_13_fishhours.tif\n",
      "E:\\analysis\\GFW\\gfw_daily_fleet_2020.gdb\\daily_fleet_2020_07_13_fishhours\n",
      "daily_fleet_2020_07_14_fishhours.csv\n",
      "E:\\analysis\\GFW\\TIF\\2020\\daily_fleet_2020_07_14_fishhours.csv\n",
      "E:\\analysis\\GFW\\TIF\\2020\\daily_fleet_2020_07_14_fishhours.tif\n",
      "E:\\analysis\\GFW\\gfw_daily_fleet_2020.gdb\\daily_fleet_2020_07_14_fishhours\n",
      "daily_fleet_2020_07_15_fishhours.csv\n",
      "E:\\analysis\\GFW\\TIF\\2020\\daily_fleet_2020_07_15_fishhours.csv\n",
      "E:\\analysis\\GFW\\TIF\\2020\\daily_fleet_2020_07_15_fishhours.tif\n",
      "E:\\analysis\\GFW\\gfw_daily_fleet_2020.gdb\\daily_fleet_2020_07_15_fishhours\n",
      "daily_fleet_2020_07_16_fishhours.csv\n",
      "E:\\analysis\\GFW\\TIF\\2020\\daily_fleet_2020_07_16_fishhours.csv\n",
      "E:\\analysis\\GFW\\TIF\\2020\\daily_fleet_2020_07_16_fishhours.tif\n",
      "E:\\analysis\\GFW\\gfw_daily_fleet_2020.gdb\\daily_fleet_2020_07_16_fishhours\n",
      "daily_fleet_2020_07_17_fishhours.csv\n",
      "E:\\analysis\\GFW\\TIF\\2020\\daily_fleet_2020_07_17_fishhours.csv\n",
      "E:\\analysis\\GFW\\TIF\\2020\\daily_fleet_2020_07_17_fishhours.tif\n",
      "E:\\analysis\\GFW\\gfw_daily_fleet_2020.gdb\\daily_fleet_2020_07_17_fishhours\n",
      "daily_fleet_2020_07_18_fishhours.csv\n",
      "E:\\analysis\\GFW\\TIF\\2020\\daily_fleet_2020_07_18_fishhours.csv\n",
      "E:\\analysis\\GFW\\TIF\\2020\\daily_fleet_2020_07_18_fishhours.tif\n",
      "E:\\analysis\\GFW\\gfw_daily_fleet_2020.gdb\\daily_fleet_2020_07_18_fishhours\n",
      "daily_fleet_2020_07_19_fishhours.csv\n",
      "E:\\analysis\\GFW\\TIF\\2020\\daily_fleet_2020_07_19_fishhours.csv\n",
      "E:\\analysis\\GFW\\TIF\\2020\\daily_fleet_2020_07_19_fishhours.tif\n",
      "E:\\analysis\\GFW\\gfw_daily_fleet_2020.gdb\\daily_fleet_2020_07_19_fishhours\n",
      "daily_fleet_2020_07_20_fishhours.csv\n",
      "E:\\analysis\\GFW\\TIF\\2020\\daily_fleet_2020_07_20_fishhours.csv\n",
      "E:\\analysis\\GFW\\TIF\\2020\\daily_fleet_2020_07_20_fishhours.tif\n",
      "E:\\analysis\\GFW\\gfw_daily_fleet_2020.gdb\\daily_fleet_2020_07_20_fishhours\n",
      "daily_fleet_2020_07_21_fishhours.csv\n",
      "E:\\analysis\\GFW\\TIF\\2020\\daily_fleet_2020_07_21_fishhours.csv\n",
      "E:\\analysis\\GFW\\TIF\\2020\\daily_fleet_2020_07_21_fishhours.tif\n",
      "E:\\analysis\\GFW\\gfw_daily_fleet_2020.gdb\\daily_fleet_2020_07_21_fishhours\n",
      "daily_fleet_2020_07_22_fishhours.csv\n",
      "E:\\analysis\\GFW\\TIF\\2020\\daily_fleet_2020_07_22_fishhours.csv\n",
      "E:\\analysis\\GFW\\TIF\\2020\\daily_fleet_2020_07_22_fishhours.tif\n",
      "E:\\analysis\\GFW\\gfw_daily_fleet_2020.gdb\\daily_fleet_2020_07_22_fishhours\n",
      "daily_fleet_2020_07_23_fishhours.csv\n",
      "E:\\analysis\\GFW\\TIF\\2020\\daily_fleet_2020_07_23_fishhours.csv\n",
      "E:\\analysis\\GFW\\TIF\\2020\\daily_fleet_2020_07_23_fishhours.tif\n",
      "E:\\analysis\\GFW\\gfw_daily_fleet_2020.gdb\\daily_fleet_2020_07_23_fishhours\n",
      "daily_fleet_2020_07_24_fishhours.csv\n",
      "E:\\analysis\\GFW\\TIF\\2020\\daily_fleet_2020_07_24_fishhours.csv\n",
      "E:\\analysis\\GFW\\TIF\\2020\\daily_fleet_2020_07_24_fishhours.tif\n",
      "E:\\analysis\\GFW\\gfw_daily_fleet_2020.gdb\\daily_fleet_2020_07_24_fishhours\n",
      "daily_fleet_2020_07_25_fishhours.csv\n",
      "E:\\analysis\\GFW\\TIF\\2020\\daily_fleet_2020_07_25_fishhours.csv\n",
      "E:\\analysis\\GFW\\TIF\\2020\\daily_fleet_2020_07_25_fishhours.tif\n",
      "E:\\analysis\\GFW\\gfw_daily_fleet_2020.gdb\\daily_fleet_2020_07_25_fishhours\n",
      "daily_fleet_2020_07_26_fishhours.csv\n",
      "E:\\analysis\\GFW\\TIF\\2020\\daily_fleet_2020_07_26_fishhours.csv\n",
      "E:\\analysis\\GFW\\TIF\\2020\\daily_fleet_2020_07_26_fishhours.tif\n",
      "E:\\analysis\\GFW\\gfw_daily_fleet_2020.gdb\\daily_fleet_2020_07_26_fishhours\n",
      "daily_fleet_2020_07_27_fishhours.csv\n",
      "E:\\analysis\\GFW\\TIF\\2020\\daily_fleet_2020_07_27_fishhours.csv\n",
      "E:\\analysis\\GFW\\TIF\\2020\\daily_fleet_2020_07_27_fishhours.tif\n",
      "E:\\analysis\\GFW\\gfw_daily_fleet_2020.gdb\\daily_fleet_2020_07_27_fishhours\n",
      "daily_fleet_2020_07_28_fishhours.csv\n",
      "E:\\analysis\\GFW\\TIF\\2020\\daily_fleet_2020_07_28_fishhours.csv\n",
      "E:\\analysis\\GFW\\TIF\\2020\\daily_fleet_2020_07_28_fishhours.tif\n",
      "E:\\analysis\\GFW\\gfw_daily_fleet_2020.gdb\\daily_fleet_2020_07_28_fishhours\n",
      "daily_fleet_2020_07_29_fishhours.csv\n",
      "E:\\analysis\\GFW\\TIF\\2020\\daily_fleet_2020_07_29_fishhours.csv\n",
      "E:\\analysis\\GFW\\TIF\\2020\\daily_fleet_2020_07_29_fishhours.tif\n",
      "E:\\analysis\\GFW\\gfw_daily_fleet_2020.gdb\\daily_fleet_2020_07_29_fishhours\n",
      "daily_fleet_2020_07_30_fishhours.csv\n",
      "E:\\analysis\\GFW\\TIF\\2020\\daily_fleet_2020_07_30_fishhours.csv\n",
      "E:\\analysis\\GFW\\TIF\\2020\\daily_fleet_2020_07_30_fishhours.tif\n",
      "E:\\analysis\\GFW\\gfw_daily_fleet_2020.gdb\\daily_fleet_2020_07_30_fishhours\n",
      "daily_fleet_2020_07_31_fishhours.csv\n",
      "E:\\analysis\\GFW\\TIF\\2020\\daily_fleet_2020_07_31_fishhours.csv\n",
      "E:\\analysis\\GFW\\TIF\\2020\\daily_fleet_2020_07_31_fishhours.tif\n",
      "E:\\analysis\\GFW\\gfw_daily_fleet_2020.gdb\\daily_fleet_2020_07_31_fishhours\n",
      "daily_fleet_2020_08_01_fishhours.csv\n",
      "E:\\analysis\\GFW\\TIF\\2020\\daily_fleet_2020_08_01_fishhours.csv\n",
      "E:\\analysis\\GFW\\TIF\\2020\\daily_fleet_2020_08_01_fishhours.tif\n",
      "E:\\analysis\\GFW\\gfw_daily_fleet_2020.gdb\\daily_fleet_2020_08_01_fishhours\n",
      "daily_fleet_2020_08_02_fishhours.csv\n",
      "E:\\analysis\\GFW\\TIF\\2020\\daily_fleet_2020_08_02_fishhours.csv\n",
      "E:\\analysis\\GFW\\TIF\\2020\\daily_fleet_2020_08_02_fishhours.tif\n",
      "E:\\analysis\\GFW\\gfw_daily_fleet_2020.gdb\\daily_fleet_2020_08_02_fishhours\n",
      "daily_fleet_2020_08_03_fishhours.csv\n",
      "E:\\analysis\\GFW\\TIF\\2020\\daily_fleet_2020_08_03_fishhours.csv\n",
      "E:\\analysis\\GFW\\TIF\\2020\\daily_fleet_2020_08_03_fishhours.tif\n",
      "E:\\analysis\\GFW\\gfw_daily_fleet_2020.gdb\\daily_fleet_2020_08_03_fishhours\n",
      "daily_fleet_2020_08_04_fishhours.csv\n",
      "E:\\analysis\\GFW\\TIF\\2020\\daily_fleet_2020_08_04_fishhours.csv\n",
      "E:\\analysis\\GFW\\TIF\\2020\\daily_fleet_2020_08_04_fishhours.tif\n",
      "E:\\analysis\\GFW\\gfw_daily_fleet_2020.gdb\\daily_fleet_2020_08_04_fishhours\n",
      "daily_fleet_2020_08_05_fishhours.csv\n",
      "E:\\analysis\\GFW\\TIF\\2020\\daily_fleet_2020_08_05_fishhours.csv\n",
      "E:\\analysis\\GFW\\TIF\\2020\\daily_fleet_2020_08_05_fishhours.tif\n",
      "E:\\analysis\\GFW\\gfw_daily_fleet_2020.gdb\\daily_fleet_2020_08_05_fishhours\n",
      "daily_fleet_2020_08_06_fishhours.csv\n",
      "E:\\analysis\\GFW\\TIF\\2020\\daily_fleet_2020_08_06_fishhours.csv\n",
      "E:\\analysis\\GFW\\TIF\\2020\\daily_fleet_2020_08_06_fishhours.tif\n",
      "E:\\analysis\\GFW\\gfw_daily_fleet_2020.gdb\\daily_fleet_2020_08_06_fishhours\n",
      "daily_fleet_2020_08_07_fishhours.csv\n",
      "E:\\analysis\\GFW\\TIF\\2020\\daily_fleet_2020_08_07_fishhours.csv\n",
      "E:\\analysis\\GFW\\TIF\\2020\\daily_fleet_2020_08_07_fishhours.tif\n",
      "E:\\analysis\\GFW\\gfw_daily_fleet_2020.gdb\\daily_fleet_2020_08_07_fishhours\n",
      "daily_fleet_2020_08_08_fishhours.csv\n",
      "E:\\analysis\\GFW\\TIF\\2020\\daily_fleet_2020_08_08_fishhours.csv\n",
      "E:\\analysis\\GFW\\TIF\\2020\\daily_fleet_2020_08_08_fishhours.tif\n",
      "E:\\analysis\\GFW\\gfw_daily_fleet_2020.gdb\\daily_fleet_2020_08_08_fishhours\n",
      "daily_fleet_2020_08_09_fishhours.csv\n",
      "E:\\analysis\\GFW\\TIF\\2020\\daily_fleet_2020_08_09_fishhours.csv\n",
      "E:\\analysis\\GFW\\TIF\\2020\\daily_fleet_2020_08_09_fishhours.tif\n",
      "E:\\analysis\\GFW\\gfw_daily_fleet_2020.gdb\\daily_fleet_2020_08_09_fishhours\n",
      "daily_fleet_2020_08_10_fishhours.csv\n",
      "E:\\analysis\\GFW\\TIF\\2020\\daily_fleet_2020_08_10_fishhours.csv\n",
      "E:\\analysis\\GFW\\TIF\\2020\\daily_fleet_2020_08_10_fishhours.tif\n",
      "E:\\analysis\\GFW\\gfw_daily_fleet_2020.gdb\\daily_fleet_2020_08_10_fishhours\n",
      "daily_fleet_2020_08_11_fishhours.csv\n",
      "E:\\analysis\\GFW\\TIF\\2020\\daily_fleet_2020_08_11_fishhours.csv\n",
      "E:\\analysis\\GFW\\TIF\\2020\\daily_fleet_2020_08_11_fishhours.tif\n",
      "E:\\analysis\\GFW\\gfw_daily_fleet_2020.gdb\\daily_fleet_2020_08_11_fishhours\n",
      "daily_fleet_2020_08_12_fishhours.csv\n",
      "E:\\analysis\\GFW\\TIF\\2020\\daily_fleet_2020_08_12_fishhours.csv\n",
      "E:\\analysis\\GFW\\TIF\\2020\\daily_fleet_2020_08_12_fishhours.tif\n",
      "E:\\analysis\\GFW\\gfw_daily_fleet_2020.gdb\\daily_fleet_2020_08_12_fishhours\n",
      "daily_fleet_2020_08_13_fishhours.csv\n",
      "E:\\analysis\\GFW\\TIF\\2020\\daily_fleet_2020_08_13_fishhours.csv\n",
      "E:\\analysis\\GFW\\TIF\\2020\\daily_fleet_2020_08_13_fishhours.tif\n",
      "E:\\analysis\\GFW\\gfw_daily_fleet_2020.gdb\\daily_fleet_2020_08_13_fishhours\n",
      "daily_fleet_2020_08_14_fishhours.csv\n",
      "E:\\analysis\\GFW\\TIF\\2020\\daily_fleet_2020_08_14_fishhours.csv\n",
      "E:\\analysis\\GFW\\TIF\\2020\\daily_fleet_2020_08_14_fishhours.tif\n",
      "E:\\analysis\\GFW\\gfw_daily_fleet_2020.gdb\\daily_fleet_2020_08_14_fishhours\n",
      "daily_fleet_2020_08_15_fishhours.csv\n",
      "E:\\analysis\\GFW\\TIF\\2020\\daily_fleet_2020_08_15_fishhours.csv\n",
      "E:\\analysis\\GFW\\TIF\\2020\\daily_fleet_2020_08_15_fishhours.tif\n",
      "E:\\analysis\\GFW\\gfw_daily_fleet_2020.gdb\\daily_fleet_2020_08_15_fishhours\n",
      "daily_fleet_2020_08_16_fishhours.csv\n",
      "E:\\analysis\\GFW\\TIF\\2020\\daily_fleet_2020_08_16_fishhours.csv\n",
      "E:\\analysis\\GFW\\TIF\\2020\\daily_fleet_2020_08_16_fishhours.tif\n",
      "E:\\analysis\\GFW\\gfw_daily_fleet_2020.gdb\\daily_fleet_2020_08_16_fishhours\n",
      "daily_fleet_2020_08_17_fishhours.csv\n",
      "E:\\analysis\\GFW\\TIF\\2020\\daily_fleet_2020_08_17_fishhours.csv\n",
      "E:\\analysis\\GFW\\TIF\\2020\\daily_fleet_2020_08_17_fishhours.tif\n",
      "E:\\analysis\\GFW\\gfw_daily_fleet_2020.gdb\\daily_fleet_2020_08_17_fishhours\n",
      "daily_fleet_2020_08_18_fishhours.csv\n",
      "E:\\analysis\\GFW\\TIF\\2020\\daily_fleet_2020_08_18_fishhours.csv\n",
      "E:\\analysis\\GFW\\TIF\\2020\\daily_fleet_2020_08_18_fishhours.tif\n",
      "E:\\analysis\\GFW\\gfw_daily_fleet_2020.gdb\\daily_fleet_2020_08_18_fishhours\n",
      "daily_fleet_2020_08_19_fishhours.csv\n",
      "E:\\analysis\\GFW\\TIF\\2020\\daily_fleet_2020_08_19_fishhours.csv\n",
      "E:\\analysis\\GFW\\TIF\\2020\\daily_fleet_2020_08_19_fishhours.tif\n",
      "E:\\analysis\\GFW\\gfw_daily_fleet_2020.gdb\\daily_fleet_2020_08_19_fishhours\n",
      "daily_fleet_2020_08_20_fishhours.csv\n",
      "E:\\analysis\\GFW\\TIF\\2020\\daily_fleet_2020_08_20_fishhours.csv\n",
      "E:\\analysis\\GFW\\TIF\\2020\\daily_fleet_2020_08_20_fishhours.tif\n",
      "E:\\analysis\\GFW\\gfw_daily_fleet_2020.gdb\\daily_fleet_2020_08_20_fishhours\n",
      "daily_fleet_2020_08_21_fishhours.csv\n",
      "E:\\analysis\\GFW\\TIF\\2020\\daily_fleet_2020_08_21_fishhours.csv\n",
      "E:\\analysis\\GFW\\TIF\\2020\\daily_fleet_2020_08_21_fishhours.tif\n",
      "E:\\analysis\\GFW\\gfw_daily_fleet_2020.gdb\\daily_fleet_2020_08_21_fishhours\n",
      "daily_fleet_2020_08_22_fishhours.csv\n",
      "E:\\analysis\\GFW\\TIF\\2020\\daily_fleet_2020_08_22_fishhours.csv\n",
      "E:\\analysis\\GFW\\TIF\\2020\\daily_fleet_2020_08_22_fishhours.tif\n",
      "E:\\analysis\\GFW\\gfw_daily_fleet_2020.gdb\\daily_fleet_2020_08_22_fishhours\n",
      "daily_fleet_2020_08_23_fishhours.csv\n",
      "E:\\analysis\\GFW\\TIF\\2020\\daily_fleet_2020_08_23_fishhours.csv\n",
      "E:\\analysis\\GFW\\TIF\\2020\\daily_fleet_2020_08_23_fishhours.tif\n",
      "E:\\analysis\\GFW\\gfw_daily_fleet_2020.gdb\\daily_fleet_2020_08_23_fishhours\n",
      "daily_fleet_2020_08_24_fishhours.csv\n",
      "E:\\analysis\\GFW\\TIF\\2020\\daily_fleet_2020_08_24_fishhours.csv\n",
      "E:\\analysis\\GFW\\TIF\\2020\\daily_fleet_2020_08_24_fishhours.tif\n",
      "E:\\analysis\\GFW\\gfw_daily_fleet_2020.gdb\\daily_fleet_2020_08_24_fishhours\n",
      "daily_fleet_2020_08_25_fishhours.csv\n",
      "E:\\analysis\\GFW\\TIF\\2020\\daily_fleet_2020_08_25_fishhours.csv\n",
      "E:\\analysis\\GFW\\TIF\\2020\\daily_fleet_2020_08_25_fishhours.tif\n",
      "E:\\analysis\\GFW\\gfw_daily_fleet_2020.gdb\\daily_fleet_2020_08_25_fishhours\n",
      "daily_fleet_2020_08_26_fishhours.csv\n",
      "E:\\analysis\\GFW\\TIF\\2020\\daily_fleet_2020_08_26_fishhours.csv\n",
      "E:\\analysis\\GFW\\TIF\\2020\\daily_fleet_2020_08_26_fishhours.tif\n",
      "E:\\analysis\\GFW\\gfw_daily_fleet_2020.gdb\\daily_fleet_2020_08_26_fishhours\n",
      "daily_fleet_2020_08_27_fishhours.csv\n",
      "E:\\analysis\\GFW\\TIF\\2020\\daily_fleet_2020_08_27_fishhours.csv\n",
      "E:\\analysis\\GFW\\TIF\\2020\\daily_fleet_2020_08_27_fishhours.tif\n",
      "E:\\analysis\\GFW\\gfw_daily_fleet_2020.gdb\\daily_fleet_2020_08_27_fishhours\n",
      "daily_fleet_2020_08_28_fishhours.csv\n",
      "E:\\analysis\\GFW\\TIF\\2020\\daily_fleet_2020_08_28_fishhours.csv\n",
      "E:\\analysis\\GFW\\TIF\\2020\\daily_fleet_2020_08_28_fishhours.tif\n",
      "E:\\analysis\\GFW\\gfw_daily_fleet_2020.gdb\\daily_fleet_2020_08_28_fishhours\n",
      "daily_fleet_2020_08_29_fishhours.csv\n",
      "E:\\analysis\\GFW\\TIF\\2020\\daily_fleet_2020_08_29_fishhours.csv\n",
      "E:\\analysis\\GFW\\TIF\\2020\\daily_fleet_2020_08_29_fishhours.tif\n",
      "E:\\analysis\\GFW\\gfw_daily_fleet_2020.gdb\\daily_fleet_2020_08_29_fishhours\n",
      "daily_fleet_2020_08_30_fishhours.csv\n",
      "E:\\analysis\\GFW\\TIF\\2020\\daily_fleet_2020_08_30_fishhours.csv\n",
      "E:\\analysis\\GFW\\TIF\\2020\\daily_fleet_2020_08_30_fishhours.tif\n",
      "E:\\analysis\\GFW\\gfw_daily_fleet_2020.gdb\\daily_fleet_2020_08_30_fishhours\n",
      "daily_fleet_2020_08_31_fishhours.csv\n",
      "E:\\analysis\\GFW\\TIF\\2020\\daily_fleet_2020_08_31_fishhours.csv\n",
      "E:\\analysis\\GFW\\TIF\\2020\\daily_fleet_2020_08_31_fishhours.tif\n",
      "E:\\analysis\\GFW\\gfw_daily_fleet_2020.gdb\\daily_fleet_2020_08_31_fishhours\n",
      "daily_fleet_2020_09_01_fishhours.csv\n",
      "E:\\analysis\\GFW\\TIF\\2020\\daily_fleet_2020_09_01_fishhours.csv\n",
      "E:\\analysis\\GFW\\TIF\\2020\\daily_fleet_2020_09_01_fishhours.tif\n",
      "E:\\analysis\\GFW\\gfw_daily_fleet_2020.gdb\\daily_fleet_2020_09_01_fishhours\n",
      "daily_fleet_2020_09_02_fishhours.csv\n",
      "E:\\analysis\\GFW\\TIF\\2020\\daily_fleet_2020_09_02_fishhours.csv\n",
      "E:\\analysis\\GFW\\TIF\\2020\\daily_fleet_2020_09_02_fishhours.tif\n",
      "E:\\analysis\\GFW\\gfw_daily_fleet_2020.gdb\\daily_fleet_2020_09_02_fishhours\n",
      "daily_fleet_2020_09_03_fishhours.csv\n",
      "E:\\analysis\\GFW\\TIF\\2020\\daily_fleet_2020_09_03_fishhours.csv\n",
      "E:\\analysis\\GFW\\TIF\\2020\\daily_fleet_2020_09_03_fishhours.tif\n",
      "E:\\analysis\\GFW\\gfw_daily_fleet_2020.gdb\\daily_fleet_2020_09_03_fishhours\n",
      "daily_fleet_2020_09_04_fishhours.csv\n",
      "E:\\analysis\\GFW\\TIF\\2020\\daily_fleet_2020_09_04_fishhours.csv\n",
      "E:\\analysis\\GFW\\TIF\\2020\\daily_fleet_2020_09_04_fishhours.tif\n",
      "E:\\analysis\\GFW\\gfw_daily_fleet_2020.gdb\\daily_fleet_2020_09_04_fishhours\n",
      "daily_fleet_2020_09_05_fishhours.csv\n",
      "E:\\analysis\\GFW\\TIF\\2020\\daily_fleet_2020_09_05_fishhours.csv\n",
      "E:\\analysis\\GFW\\TIF\\2020\\daily_fleet_2020_09_05_fishhours.tif\n",
      "E:\\analysis\\GFW\\gfw_daily_fleet_2020.gdb\\daily_fleet_2020_09_05_fishhours\n",
      "daily_fleet_2020_09_06_fishhours.csv\n",
      "E:\\analysis\\GFW\\TIF\\2020\\daily_fleet_2020_09_06_fishhours.csv\n",
      "E:\\analysis\\GFW\\TIF\\2020\\daily_fleet_2020_09_06_fishhours.tif\n",
      "E:\\analysis\\GFW\\gfw_daily_fleet_2020.gdb\\daily_fleet_2020_09_06_fishhours\n",
      "daily_fleet_2020_09_07_fishhours.csv\n",
      "E:\\analysis\\GFW\\TIF\\2020\\daily_fleet_2020_09_07_fishhours.csv\n",
      "E:\\analysis\\GFW\\TIF\\2020\\daily_fleet_2020_09_07_fishhours.tif\n",
      "E:\\analysis\\GFW\\gfw_daily_fleet_2020.gdb\\daily_fleet_2020_09_07_fishhours\n",
      "daily_fleet_2020_09_08_fishhours.csv\n",
      "E:\\analysis\\GFW\\TIF\\2020\\daily_fleet_2020_09_08_fishhours.csv\n",
      "E:\\analysis\\GFW\\TIF\\2020\\daily_fleet_2020_09_08_fishhours.tif\n",
      "E:\\analysis\\GFW\\gfw_daily_fleet_2020.gdb\\daily_fleet_2020_09_08_fishhours\n",
      "daily_fleet_2020_09_09_fishhours.csv\n",
      "E:\\analysis\\GFW\\TIF\\2020\\daily_fleet_2020_09_09_fishhours.csv\n",
      "E:\\analysis\\GFW\\TIF\\2020\\daily_fleet_2020_09_09_fishhours.tif\n",
      "E:\\analysis\\GFW\\gfw_daily_fleet_2020.gdb\\daily_fleet_2020_09_09_fishhours\n",
      "daily_fleet_2020_09_10_fishhours.csv\n",
      "E:\\analysis\\GFW\\TIF\\2020\\daily_fleet_2020_09_10_fishhours.csv\n",
      "E:\\analysis\\GFW\\TIF\\2020\\daily_fleet_2020_09_10_fishhours.tif\n",
      "E:\\analysis\\GFW\\gfw_daily_fleet_2020.gdb\\daily_fleet_2020_09_10_fishhours\n",
      "daily_fleet_2020_09_11_fishhours.csv\n",
      "E:\\analysis\\GFW\\TIF\\2020\\daily_fleet_2020_09_11_fishhours.csv\n",
      "E:\\analysis\\GFW\\TIF\\2020\\daily_fleet_2020_09_11_fishhours.tif\n",
      "E:\\analysis\\GFW\\gfw_daily_fleet_2020.gdb\\daily_fleet_2020_09_11_fishhours\n",
      "daily_fleet_2020_09_12_fishhours.csv\n",
      "E:\\analysis\\GFW\\TIF\\2020\\daily_fleet_2020_09_12_fishhours.csv\n",
      "E:\\analysis\\GFW\\TIF\\2020\\daily_fleet_2020_09_12_fishhours.tif\n",
      "E:\\analysis\\GFW\\gfw_daily_fleet_2020.gdb\\daily_fleet_2020_09_12_fishhours\n",
      "daily_fleet_2020_09_13_fishhours.csv\n",
      "E:\\analysis\\GFW\\TIF\\2020\\daily_fleet_2020_09_13_fishhours.csv\n",
      "E:\\analysis\\GFW\\TIF\\2020\\daily_fleet_2020_09_13_fishhours.tif\n",
      "E:\\analysis\\GFW\\gfw_daily_fleet_2020.gdb\\daily_fleet_2020_09_13_fishhours\n",
      "daily_fleet_2020_09_14_fishhours.csv\n",
      "E:\\analysis\\GFW\\TIF\\2020\\daily_fleet_2020_09_14_fishhours.csv\n",
      "E:\\analysis\\GFW\\TIF\\2020\\daily_fleet_2020_09_14_fishhours.tif\n",
      "E:\\analysis\\GFW\\gfw_daily_fleet_2020.gdb\\daily_fleet_2020_09_14_fishhours\n",
      "daily_fleet_2020_09_15_fishhours.csv\n",
      "E:\\analysis\\GFW\\TIF\\2020\\daily_fleet_2020_09_15_fishhours.csv\n",
      "E:\\analysis\\GFW\\TIF\\2020\\daily_fleet_2020_09_15_fishhours.tif\n",
      "E:\\analysis\\GFW\\gfw_daily_fleet_2020.gdb\\daily_fleet_2020_09_15_fishhours\n",
      "daily_fleet_2020_09_16_fishhours.csv\n",
      "E:\\analysis\\GFW\\TIF\\2020\\daily_fleet_2020_09_16_fishhours.csv\n",
      "E:\\analysis\\GFW\\TIF\\2020\\daily_fleet_2020_09_16_fishhours.tif\n",
      "E:\\analysis\\GFW\\gfw_daily_fleet_2020.gdb\\daily_fleet_2020_09_16_fishhours\n",
      "daily_fleet_2020_09_17_fishhours.csv\n",
      "E:\\analysis\\GFW\\TIF\\2020\\daily_fleet_2020_09_17_fishhours.csv\n",
      "E:\\analysis\\GFW\\TIF\\2020\\daily_fleet_2020_09_17_fishhours.tif\n",
      "E:\\analysis\\GFW\\gfw_daily_fleet_2020.gdb\\daily_fleet_2020_09_17_fishhours\n",
      "daily_fleet_2020_09_18_fishhours.csv\n",
      "E:\\analysis\\GFW\\TIF\\2020\\daily_fleet_2020_09_18_fishhours.csv\n",
      "E:\\analysis\\GFW\\TIF\\2020\\daily_fleet_2020_09_18_fishhours.tif\n",
      "E:\\analysis\\GFW\\gfw_daily_fleet_2020.gdb\\daily_fleet_2020_09_18_fishhours\n",
      "daily_fleet_2020_09_19_fishhours.csv\n",
      "E:\\analysis\\GFW\\TIF\\2020\\daily_fleet_2020_09_19_fishhours.csv\n",
      "E:\\analysis\\GFW\\TIF\\2020\\daily_fleet_2020_09_19_fishhours.tif\n",
      "E:\\analysis\\GFW\\gfw_daily_fleet_2020.gdb\\daily_fleet_2020_09_19_fishhours\n",
      "daily_fleet_2020_09_20_fishhours.csv\n",
      "E:\\analysis\\GFW\\TIF\\2020\\daily_fleet_2020_09_20_fishhours.csv\n",
      "E:\\analysis\\GFW\\TIF\\2020\\daily_fleet_2020_09_20_fishhours.tif\n",
      "E:\\analysis\\GFW\\gfw_daily_fleet_2020.gdb\\daily_fleet_2020_09_20_fishhours\n",
      "daily_fleet_2020_09_21_fishhours.csv\n",
      "E:\\analysis\\GFW\\TIF\\2020\\daily_fleet_2020_09_21_fishhours.csv\n",
      "E:\\analysis\\GFW\\TIF\\2020\\daily_fleet_2020_09_21_fishhours.tif\n",
      "E:\\analysis\\GFW\\gfw_daily_fleet_2020.gdb\\daily_fleet_2020_09_21_fishhours\n",
      "daily_fleet_2020_09_22_fishhours.csv\n",
      "E:\\analysis\\GFW\\TIF\\2020\\daily_fleet_2020_09_22_fishhours.csv\n",
      "E:\\analysis\\GFW\\TIF\\2020\\daily_fleet_2020_09_22_fishhours.tif\n",
      "E:\\analysis\\GFW\\gfw_daily_fleet_2020.gdb\\daily_fleet_2020_09_22_fishhours\n",
      "daily_fleet_2020_09_23_fishhours.csv\n",
      "E:\\analysis\\GFW\\TIF\\2020\\daily_fleet_2020_09_23_fishhours.csv\n",
      "E:\\analysis\\GFW\\TIF\\2020\\daily_fleet_2020_09_23_fishhours.tif\n",
      "E:\\analysis\\GFW\\gfw_daily_fleet_2020.gdb\\daily_fleet_2020_09_23_fishhours\n",
      "daily_fleet_2020_09_24_fishhours.csv\n",
      "E:\\analysis\\GFW\\TIF\\2020\\daily_fleet_2020_09_24_fishhours.csv\n",
      "E:\\analysis\\GFW\\TIF\\2020\\daily_fleet_2020_09_24_fishhours.tif\n",
      "E:\\analysis\\GFW\\gfw_daily_fleet_2020.gdb\\daily_fleet_2020_09_24_fishhours\n",
      "daily_fleet_2020_09_25_fishhours.csv\n",
      "E:\\analysis\\GFW\\TIF\\2020\\daily_fleet_2020_09_25_fishhours.csv\n",
      "E:\\analysis\\GFW\\TIF\\2020\\daily_fleet_2020_09_25_fishhours.tif\n",
      "E:\\analysis\\GFW\\gfw_daily_fleet_2020.gdb\\daily_fleet_2020_09_25_fishhours\n",
      "daily_fleet_2020_09_26_fishhours.csv\n",
      "E:\\analysis\\GFW\\TIF\\2020\\daily_fleet_2020_09_26_fishhours.csv\n",
      "E:\\analysis\\GFW\\TIF\\2020\\daily_fleet_2020_09_26_fishhours.tif\n",
      "E:\\analysis\\GFW\\gfw_daily_fleet_2020.gdb\\daily_fleet_2020_09_26_fishhours\n",
      "daily_fleet_2020_09_27_fishhours.csv\n",
      "E:\\analysis\\GFW\\TIF\\2020\\daily_fleet_2020_09_27_fishhours.csv\n",
      "E:\\analysis\\GFW\\TIF\\2020\\daily_fleet_2020_09_27_fishhours.tif\n",
      "E:\\analysis\\GFW\\gfw_daily_fleet_2020.gdb\\daily_fleet_2020_09_27_fishhours\n",
      "daily_fleet_2020_09_28_fishhours.csv\n",
      "E:\\analysis\\GFW\\TIF\\2020\\daily_fleet_2020_09_28_fishhours.csv\n",
      "E:\\analysis\\GFW\\TIF\\2020\\daily_fleet_2020_09_28_fishhours.tif\n",
      "E:\\analysis\\GFW\\gfw_daily_fleet_2020.gdb\\daily_fleet_2020_09_28_fishhours\n",
      "daily_fleet_2020_09_29_fishhours.csv\n",
      "E:\\analysis\\GFW\\TIF\\2020\\daily_fleet_2020_09_29_fishhours.csv\n",
      "E:\\analysis\\GFW\\TIF\\2020\\daily_fleet_2020_09_29_fishhours.tif\n",
      "E:\\analysis\\GFW\\gfw_daily_fleet_2020.gdb\\daily_fleet_2020_09_29_fishhours\n",
      "daily_fleet_2020_09_30_fishhours.csv\n",
      "E:\\analysis\\GFW\\TIF\\2020\\daily_fleet_2020_09_30_fishhours.csv\n",
      "E:\\analysis\\GFW\\TIF\\2020\\daily_fleet_2020_09_30_fishhours.tif\n",
      "E:\\analysis\\GFW\\gfw_daily_fleet_2020.gdb\\daily_fleet_2020_09_30_fishhours\n",
      "daily_fleet_2020_10_01_fishhours.csv\n",
      "E:\\analysis\\GFW\\TIF\\2020\\daily_fleet_2020_10_01_fishhours.csv\n",
      "E:\\analysis\\GFW\\TIF\\2020\\daily_fleet_2020_10_01_fishhours.tif\n",
      "E:\\analysis\\GFW\\gfw_daily_fleet_2020.gdb\\daily_fleet_2020_10_01_fishhours\n",
      "daily_fleet_2020_10_02_fishhours.csv\n",
      "E:\\analysis\\GFW\\TIF\\2020\\daily_fleet_2020_10_02_fishhours.csv\n",
      "E:\\analysis\\GFW\\TIF\\2020\\daily_fleet_2020_10_02_fishhours.tif\n",
      "E:\\analysis\\GFW\\gfw_daily_fleet_2020.gdb\\daily_fleet_2020_10_02_fishhours\n",
      "daily_fleet_2020_10_03_fishhours.csv\n",
      "E:\\analysis\\GFW\\TIF\\2020\\daily_fleet_2020_10_03_fishhours.csv\n",
      "E:\\analysis\\GFW\\TIF\\2020\\daily_fleet_2020_10_03_fishhours.tif\n",
      "E:\\analysis\\GFW\\gfw_daily_fleet_2020.gdb\\daily_fleet_2020_10_03_fishhours\n",
      "daily_fleet_2020_10_04_fishhours.csv\n",
      "E:\\analysis\\GFW\\TIF\\2020\\daily_fleet_2020_10_04_fishhours.csv\n",
      "E:\\analysis\\GFW\\TIF\\2020\\daily_fleet_2020_10_04_fishhours.tif\n",
      "E:\\analysis\\GFW\\gfw_daily_fleet_2020.gdb\\daily_fleet_2020_10_04_fishhours\n",
      "daily_fleet_2020_10_05_fishhours.csv\n",
      "E:\\analysis\\GFW\\TIF\\2020\\daily_fleet_2020_10_05_fishhours.csv\n",
      "E:\\analysis\\GFW\\TIF\\2020\\daily_fleet_2020_10_05_fishhours.tif\n",
      "E:\\analysis\\GFW\\gfw_daily_fleet_2020.gdb\\daily_fleet_2020_10_05_fishhours\n",
      "daily_fleet_2020_10_06_fishhours.csv\n",
      "E:\\analysis\\GFW\\TIF\\2020\\daily_fleet_2020_10_06_fishhours.csv\n",
      "E:\\analysis\\GFW\\TIF\\2020\\daily_fleet_2020_10_06_fishhours.tif\n",
      "E:\\analysis\\GFW\\gfw_daily_fleet_2020.gdb\\daily_fleet_2020_10_06_fishhours\n",
      "daily_fleet_2020_10_07_fishhours.csv\n",
      "E:\\analysis\\GFW\\TIF\\2020\\daily_fleet_2020_10_07_fishhours.csv\n",
      "E:\\analysis\\GFW\\TIF\\2020\\daily_fleet_2020_10_07_fishhours.tif\n",
      "E:\\analysis\\GFW\\gfw_daily_fleet_2020.gdb\\daily_fleet_2020_10_07_fishhours\n",
      "daily_fleet_2020_10_08_fishhours.csv\n",
      "E:\\analysis\\GFW\\TIF\\2020\\daily_fleet_2020_10_08_fishhours.csv\n",
      "E:\\analysis\\GFW\\TIF\\2020\\daily_fleet_2020_10_08_fishhours.tif\n",
      "E:\\analysis\\GFW\\gfw_daily_fleet_2020.gdb\\daily_fleet_2020_10_08_fishhours\n",
      "daily_fleet_2020_10_09_fishhours.csv\n",
      "E:\\analysis\\GFW\\TIF\\2020\\daily_fleet_2020_10_09_fishhours.csv\n",
      "E:\\analysis\\GFW\\TIF\\2020\\daily_fleet_2020_10_09_fishhours.tif\n",
      "E:\\analysis\\GFW\\gfw_daily_fleet_2020.gdb\\daily_fleet_2020_10_09_fishhours\n",
      "daily_fleet_2020_10_10_fishhours.csv\n",
      "E:\\analysis\\GFW\\TIF\\2020\\daily_fleet_2020_10_10_fishhours.csv\n",
      "E:\\analysis\\GFW\\TIF\\2020\\daily_fleet_2020_10_10_fishhours.tif\n",
      "E:\\analysis\\GFW\\gfw_daily_fleet_2020.gdb\\daily_fleet_2020_10_10_fishhours\n",
      "daily_fleet_2020_10_11_fishhours.csv\n",
      "E:\\analysis\\GFW\\TIF\\2020\\daily_fleet_2020_10_11_fishhours.csv\n",
      "E:\\analysis\\GFW\\TIF\\2020\\daily_fleet_2020_10_11_fishhours.tif\n",
      "E:\\analysis\\GFW\\gfw_daily_fleet_2020.gdb\\daily_fleet_2020_10_11_fishhours\n",
      "daily_fleet_2020_10_12_fishhours.csv\n",
      "E:\\analysis\\GFW\\TIF\\2020\\daily_fleet_2020_10_12_fishhours.csv\n",
      "E:\\analysis\\GFW\\TIF\\2020\\daily_fleet_2020_10_12_fishhours.tif\n",
      "E:\\analysis\\GFW\\gfw_daily_fleet_2020.gdb\\daily_fleet_2020_10_12_fishhours\n",
      "daily_fleet_2020_10_13_fishhours.csv\n",
      "E:\\analysis\\GFW\\TIF\\2020\\daily_fleet_2020_10_13_fishhours.csv\n",
      "E:\\analysis\\GFW\\TIF\\2020\\daily_fleet_2020_10_13_fishhours.tif\n",
      "E:\\analysis\\GFW\\gfw_daily_fleet_2020.gdb\\daily_fleet_2020_10_13_fishhours\n",
      "daily_fleet_2020_10_14_fishhours.csv\n",
      "E:\\analysis\\GFW\\TIF\\2020\\daily_fleet_2020_10_14_fishhours.csv\n",
      "E:\\analysis\\GFW\\TIF\\2020\\daily_fleet_2020_10_14_fishhours.tif\n",
      "E:\\analysis\\GFW\\gfw_daily_fleet_2020.gdb\\daily_fleet_2020_10_14_fishhours\n",
      "daily_fleet_2020_10_15_fishhours.csv\n",
      "E:\\analysis\\GFW\\TIF\\2020\\daily_fleet_2020_10_15_fishhours.csv\n",
      "E:\\analysis\\GFW\\TIF\\2020\\daily_fleet_2020_10_15_fishhours.tif\n",
      "E:\\analysis\\GFW\\gfw_daily_fleet_2020.gdb\\daily_fleet_2020_10_15_fishhours\n",
      "daily_fleet_2020_10_16_fishhours.csv\n",
      "E:\\analysis\\GFW\\TIF\\2020\\daily_fleet_2020_10_16_fishhours.csv\n",
      "E:\\analysis\\GFW\\TIF\\2020\\daily_fleet_2020_10_16_fishhours.tif\n",
      "E:\\analysis\\GFW\\gfw_daily_fleet_2020.gdb\\daily_fleet_2020_10_16_fishhours\n",
      "daily_fleet_2020_10_17_fishhours.csv\n",
      "E:\\analysis\\GFW\\TIF\\2020\\daily_fleet_2020_10_17_fishhours.csv\n",
      "E:\\analysis\\GFW\\TIF\\2020\\daily_fleet_2020_10_17_fishhours.tif\n",
      "E:\\analysis\\GFW\\gfw_daily_fleet_2020.gdb\\daily_fleet_2020_10_17_fishhours\n",
      "daily_fleet_2020_10_18_fishhours.csv\n",
      "E:\\analysis\\GFW\\TIF\\2020\\daily_fleet_2020_10_18_fishhours.csv\n",
      "E:\\analysis\\GFW\\TIF\\2020\\daily_fleet_2020_10_18_fishhours.tif\n",
      "E:\\analysis\\GFW\\gfw_daily_fleet_2020.gdb\\daily_fleet_2020_10_18_fishhours\n",
      "daily_fleet_2020_10_19_fishhours.csv\n",
      "E:\\analysis\\GFW\\TIF\\2020\\daily_fleet_2020_10_19_fishhours.csv\n",
      "E:\\analysis\\GFW\\TIF\\2020\\daily_fleet_2020_10_19_fishhours.tif\n",
      "E:\\analysis\\GFW\\gfw_daily_fleet_2020.gdb\\daily_fleet_2020_10_19_fishhours\n",
      "daily_fleet_2020_10_20_fishhours.csv\n",
      "E:\\analysis\\GFW\\TIF\\2020\\daily_fleet_2020_10_20_fishhours.csv\n",
      "E:\\analysis\\GFW\\TIF\\2020\\daily_fleet_2020_10_20_fishhours.tif\n",
      "E:\\analysis\\GFW\\gfw_daily_fleet_2020.gdb\\daily_fleet_2020_10_20_fishhours\n",
      "daily_fleet_2020_10_21_fishhours.csv\n",
      "E:\\analysis\\GFW\\TIF\\2020\\daily_fleet_2020_10_21_fishhours.csv\n",
      "E:\\analysis\\GFW\\TIF\\2020\\daily_fleet_2020_10_21_fishhours.tif\n",
      "E:\\analysis\\GFW\\gfw_daily_fleet_2020.gdb\\daily_fleet_2020_10_21_fishhours\n",
      "daily_fleet_2020_10_22_fishhours.csv\n",
      "E:\\analysis\\GFW\\TIF\\2020\\daily_fleet_2020_10_22_fishhours.csv\n",
      "E:\\analysis\\GFW\\TIF\\2020\\daily_fleet_2020_10_22_fishhours.tif\n",
      "E:\\analysis\\GFW\\gfw_daily_fleet_2020.gdb\\daily_fleet_2020_10_22_fishhours\n",
      "daily_fleet_2020_10_23_fishhours.csv\n",
      "E:\\analysis\\GFW\\TIF\\2020\\daily_fleet_2020_10_23_fishhours.csv\n",
      "E:\\analysis\\GFW\\TIF\\2020\\daily_fleet_2020_10_23_fishhours.tif\n",
      "E:\\analysis\\GFW\\gfw_daily_fleet_2020.gdb\\daily_fleet_2020_10_23_fishhours\n",
      "daily_fleet_2020_10_24_fishhours.csv\n",
      "E:\\analysis\\GFW\\TIF\\2020\\daily_fleet_2020_10_24_fishhours.csv\n",
      "E:\\analysis\\GFW\\TIF\\2020\\daily_fleet_2020_10_24_fishhours.tif\n",
      "E:\\analysis\\GFW\\gfw_daily_fleet_2020.gdb\\daily_fleet_2020_10_24_fishhours\n",
      "daily_fleet_2020_10_25_fishhours.csv\n",
      "E:\\analysis\\GFW\\TIF\\2020\\daily_fleet_2020_10_25_fishhours.csv\n",
      "E:\\analysis\\GFW\\TIF\\2020\\daily_fleet_2020_10_25_fishhours.tif\n",
      "E:\\analysis\\GFW\\gfw_daily_fleet_2020.gdb\\daily_fleet_2020_10_25_fishhours\n",
      "daily_fleet_2020_10_26_fishhours.csv\n",
      "E:\\analysis\\GFW\\TIF\\2020\\daily_fleet_2020_10_26_fishhours.csv\n",
      "E:\\analysis\\GFW\\TIF\\2020\\daily_fleet_2020_10_26_fishhours.tif\n",
      "E:\\analysis\\GFW\\gfw_daily_fleet_2020.gdb\\daily_fleet_2020_10_26_fishhours\n",
      "daily_fleet_2020_10_27_fishhours.csv\n",
      "E:\\analysis\\GFW\\TIF\\2020\\daily_fleet_2020_10_27_fishhours.csv\n",
      "E:\\analysis\\GFW\\TIF\\2020\\daily_fleet_2020_10_27_fishhours.tif\n",
      "E:\\analysis\\GFW\\gfw_daily_fleet_2020.gdb\\daily_fleet_2020_10_27_fishhours\n",
      "daily_fleet_2020_10_28_fishhours.csv\n",
      "E:\\analysis\\GFW\\TIF\\2020\\daily_fleet_2020_10_28_fishhours.csv\n",
      "E:\\analysis\\GFW\\TIF\\2020\\daily_fleet_2020_10_28_fishhours.tif\n",
      "E:\\analysis\\GFW\\gfw_daily_fleet_2020.gdb\\daily_fleet_2020_10_28_fishhours\n",
      "daily_fleet_2020_10_29_fishhours.csv\n",
      "E:\\analysis\\GFW\\TIF\\2020\\daily_fleet_2020_10_29_fishhours.csv\n",
      "E:\\analysis\\GFW\\TIF\\2020\\daily_fleet_2020_10_29_fishhours.tif\n",
      "E:\\analysis\\GFW\\gfw_daily_fleet_2020.gdb\\daily_fleet_2020_10_29_fishhours\n",
      "daily_fleet_2020_10_30_fishhours.csv\n",
      "E:\\analysis\\GFW\\TIF\\2020\\daily_fleet_2020_10_30_fishhours.csv\n",
      "E:\\analysis\\GFW\\TIF\\2020\\daily_fleet_2020_10_30_fishhours.tif\n",
      "E:\\analysis\\GFW\\gfw_daily_fleet_2020.gdb\\daily_fleet_2020_10_30_fishhours\n",
      "daily_fleet_2020_10_31_fishhours.csv\n",
      "E:\\analysis\\GFW\\TIF\\2020\\daily_fleet_2020_10_31_fishhours.csv\n",
      "E:\\analysis\\GFW\\TIF\\2020\\daily_fleet_2020_10_31_fishhours.tif\n",
      "E:\\analysis\\GFW\\gfw_daily_fleet_2020.gdb\\daily_fleet_2020_10_31_fishhours\n",
      "daily_fleet_2020_11_01_fishhours.csv\n",
      "E:\\analysis\\GFW\\TIF\\2020\\daily_fleet_2020_11_01_fishhours.csv\n",
      "E:\\analysis\\GFW\\TIF\\2020\\daily_fleet_2020_11_01_fishhours.tif\n",
      "E:\\analysis\\GFW\\gfw_daily_fleet_2020.gdb\\daily_fleet_2020_11_01_fishhours\n",
      "daily_fleet_2020_11_02_fishhours.csv\n",
      "E:\\analysis\\GFW\\TIF\\2020\\daily_fleet_2020_11_02_fishhours.csv\n",
      "E:\\analysis\\GFW\\TIF\\2020\\daily_fleet_2020_11_02_fishhours.tif\n",
      "E:\\analysis\\GFW\\gfw_daily_fleet_2020.gdb\\daily_fleet_2020_11_02_fishhours\n",
      "daily_fleet_2020_11_03_fishhours.csv\n",
      "E:\\analysis\\GFW\\TIF\\2020\\daily_fleet_2020_11_03_fishhours.csv\n",
      "E:\\analysis\\GFW\\TIF\\2020\\daily_fleet_2020_11_03_fishhours.tif\n",
      "E:\\analysis\\GFW\\gfw_daily_fleet_2020.gdb\\daily_fleet_2020_11_03_fishhours\n",
      "daily_fleet_2020_11_04_fishhours.csv\n",
      "E:\\analysis\\GFW\\TIF\\2020\\daily_fleet_2020_11_04_fishhours.csv\n",
      "E:\\analysis\\GFW\\TIF\\2020\\daily_fleet_2020_11_04_fishhours.tif\n",
      "E:\\analysis\\GFW\\gfw_daily_fleet_2020.gdb\\daily_fleet_2020_11_04_fishhours\n",
      "daily_fleet_2020_11_05_fishhours.csv\n",
      "E:\\analysis\\GFW\\TIF\\2020\\daily_fleet_2020_11_05_fishhours.csv\n",
      "E:\\analysis\\GFW\\TIF\\2020\\daily_fleet_2020_11_05_fishhours.tif\n",
      "E:\\analysis\\GFW\\gfw_daily_fleet_2020.gdb\\daily_fleet_2020_11_05_fishhours\n",
      "daily_fleet_2020_11_06_fishhours.csv\n",
      "E:\\analysis\\GFW\\TIF\\2020\\daily_fleet_2020_11_06_fishhours.csv\n",
      "E:\\analysis\\GFW\\TIF\\2020\\daily_fleet_2020_11_06_fishhours.tif\n",
      "E:\\analysis\\GFW\\gfw_daily_fleet_2020.gdb\\daily_fleet_2020_11_06_fishhours\n",
      "daily_fleet_2020_11_07_fishhours.csv\n",
      "E:\\analysis\\GFW\\TIF\\2020\\daily_fleet_2020_11_07_fishhours.csv\n",
      "E:\\analysis\\GFW\\TIF\\2020\\daily_fleet_2020_11_07_fishhours.tif\n",
      "E:\\analysis\\GFW\\gfw_daily_fleet_2020.gdb\\daily_fleet_2020_11_07_fishhours\n",
      "daily_fleet_2020_11_08_fishhours.csv\n",
      "E:\\analysis\\GFW\\TIF\\2020\\daily_fleet_2020_11_08_fishhours.csv\n",
      "E:\\analysis\\GFW\\TIF\\2020\\daily_fleet_2020_11_08_fishhours.tif\n",
      "E:\\analysis\\GFW\\gfw_daily_fleet_2020.gdb\\daily_fleet_2020_11_08_fishhours\n",
      "daily_fleet_2020_11_09_fishhours.csv\n",
      "E:\\analysis\\GFW\\TIF\\2020\\daily_fleet_2020_11_09_fishhours.csv\n",
      "E:\\analysis\\GFW\\TIF\\2020\\daily_fleet_2020_11_09_fishhours.tif\n",
      "E:\\analysis\\GFW\\gfw_daily_fleet_2020.gdb\\daily_fleet_2020_11_09_fishhours\n",
      "daily_fleet_2020_11_10_fishhours.csv\n",
      "E:\\analysis\\GFW\\TIF\\2020\\daily_fleet_2020_11_10_fishhours.csv\n",
      "E:\\analysis\\GFW\\TIF\\2020\\daily_fleet_2020_11_10_fishhours.tif\n",
      "E:\\analysis\\GFW\\gfw_daily_fleet_2020.gdb\\daily_fleet_2020_11_10_fishhours\n",
      "daily_fleet_2020_11_11_fishhours.csv\n",
      "E:\\analysis\\GFW\\TIF\\2020\\daily_fleet_2020_11_11_fishhours.csv\n",
      "E:\\analysis\\GFW\\TIF\\2020\\daily_fleet_2020_11_11_fishhours.tif\n",
      "E:\\analysis\\GFW\\gfw_daily_fleet_2020.gdb\\daily_fleet_2020_11_11_fishhours\n",
      "daily_fleet_2020_11_12_fishhours.csv\n",
      "E:\\analysis\\GFW\\TIF\\2020\\daily_fleet_2020_11_12_fishhours.csv\n",
      "E:\\analysis\\GFW\\TIF\\2020\\daily_fleet_2020_11_12_fishhours.tif\n",
      "E:\\analysis\\GFW\\gfw_daily_fleet_2020.gdb\\daily_fleet_2020_11_12_fishhours\n",
      "daily_fleet_2020_11_13_fishhours.csv\n",
      "E:\\analysis\\GFW\\TIF\\2020\\daily_fleet_2020_11_13_fishhours.csv\n",
      "E:\\analysis\\GFW\\TIF\\2020\\daily_fleet_2020_11_13_fishhours.tif\n",
      "E:\\analysis\\GFW\\gfw_daily_fleet_2020.gdb\\daily_fleet_2020_11_13_fishhours\n",
      "daily_fleet_2020_11_14_fishhours.csv\n",
      "E:\\analysis\\GFW\\TIF\\2020\\daily_fleet_2020_11_14_fishhours.csv\n",
      "E:\\analysis\\GFW\\TIF\\2020\\daily_fleet_2020_11_14_fishhours.tif\n",
      "E:\\analysis\\GFW\\gfw_daily_fleet_2020.gdb\\daily_fleet_2020_11_14_fishhours\n",
      "daily_fleet_2020_11_15_fishhours.csv\n",
      "E:\\analysis\\GFW\\TIF\\2020\\daily_fleet_2020_11_15_fishhours.csv\n",
      "E:\\analysis\\GFW\\TIF\\2020\\daily_fleet_2020_11_15_fishhours.tif\n",
      "E:\\analysis\\GFW\\gfw_daily_fleet_2020.gdb\\daily_fleet_2020_11_15_fishhours\n",
      "daily_fleet_2020_11_16_fishhours.csv\n",
      "E:\\analysis\\GFW\\TIF\\2020\\daily_fleet_2020_11_16_fishhours.csv\n",
      "E:\\analysis\\GFW\\TIF\\2020\\daily_fleet_2020_11_16_fishhours.tif\n",
      "E:\\analysis\\GFW\\gfw_daily_fleet_2020.gdb\\daily_fleet_2020_11_16_fishhours\n",
      "daily_fleet_2020_11_17_fishhours.csv\n",
      "E:\\analysis\\GFW\\TIF\\2020\\daily_fleet_2020_11_17_fishhours.csv\n",
      "E:\\analysis\\GFW\\TIF\\2020\\daily_fleet_2020_11_17_fishhours.tif\n",
      "E:\\analysis\\GFW\\gfw_daily_fleet_2020.gdb\\daily_fleet_2020_11_17_fishhours\n",
      "daily_fleet_2020_11_18_fishhours.csv\n",
      "E:\\analysis\\GFW\\TIF\\2020\\daily_fleet_2020_11_18_fishhours.csv\n",
      "E:\\analysis\\GFW\\TIF\\2020\\daily_fleet_2020_11_18_fishhours.tif\n",
      "E:\\analysis\\GFW\\gfw_daily_fleet_2020.gdb\\daily_fleet_2020_11_18_fishhours\n",
      "daily_fleet_2020_11_19_fishhours.csv\n",
      "E:\\analysis\\GFW\\TIF\\2020\\daily_fleet_2020_11_19_fishhours.csv\n",
      "E:\\analysis\\GFW\\TIF\\2020\\daily_fleet_2020_11_19_fishhours.tif\n",
      "E:\\analysis\\GFW\\gfw_daily_fleet_2020.gdb\\daily_fleet_2020_11_19_fishhours\n",
      "daily_fleet_2020_11_20_fishhours.csv\n",
      "E:\\analysis\\GFW\\TIF\\2020\\daily_fleet_2020_11_20_fishhours.csv\n",
      "E:\\analysis\\GFW\\TIF\\2020\\daily_fleet_2020_11_20_fishhours.tif\n",
      "E:\\analysis\\GFW\\gfw_daily_fleet_2020.gdb\\daily_fleet_2020_11_20_fishhours\n",
      "daily_fleet_2020_11_21_fishhours.csv\n",
      "E:\\analysis\\GFW\\TIF\\2020\\daily_fleet_2020_11_21_fishhours.csv\n",
      "E:\\analysis\\GFW\\TIF\\2020\\daily_fleet_2020_11_21_fishhours.tif\n",
      "E:\\analysis\\GFW\\gfw_daily_fleet_2020.gdb\\daily_fleet_2020_11_21_fishhours\n",
      "daily_fleet_2020_11_22_fishhours.csv\n",
      "E:\\analysis\\GFW\\TIF\\2020\\daily_fleet_2020_11_22_fishhours.csv\n",
      "E:\\analysis\\GFW\\TIF\\2020\\daily_fleet_2020_11_22_fishhours.tif\n",
      "E:\\analysis\\GFW\\gfw_daily_fleet_2020.gdb\\daily_fleet_2020_11_22_fishhours\n",
      "daily_fleet_2020_11_23_fishhours.csv\n",
      "E:\\analysis\\GFW\\TIF\\2020\\daily_fleet_2020_11_23_fishhours.csv\n",
      "E:\\analysis\\GFW\\TIF\\2020\\daily_fleet_2020_11_23_fishhours.tif\n",
      "E:\\analysis\\GFW\\gfw_daily_fleet_2020.gdb\\daily_fleet_2020_11_23_fishhours\n",
      "daily_fleet_2020_11_24_fishhours.csv\n",
      "E:\\analysis\\GFW\\TIF\\2020\\daily_fleet_2020_11_24_fishhours.csv\n",
      "E:\\analysis\\GFW\\TIF\\2020\\daily_fleet_2020_11_24_fishhours.tif\n",
      "E:\\analysis\\GFW\\gfw_daily_fleet_2020.gdb\\daily_fleet_2020_11_24_fishhours\n",
      "daily_fleet_2020_11_25_fishhours.csv\n",
      "E:\\analysis\\GFW\\TIF\\2020\\daily_fleet_2020_11_25_fishhours.csv\n",
      "E:\\analysis\\GFW\\TIF\\2020\\daily_fleet_2020_11_25_fishhours.tif\n",
      "E:\\analysis\\GFW\\gfw_daily_fleet_2020.gdb\\daily_fleet_2020_11_25_fishhours\n",
      "daily_fleet_2020_11_26_fishhours.csv\n",
      "E:\\analysis\\GFW\\TIF\\2020\\daily_fleet_2020_11_26_fishhours.csv\n",
      "E:\\analysis\\GFW\\TIF\\2020\\daily_fleet_2020_11_26_fishhours.tif\n",
      "E:\\analysis\\GFW\\gfw_daily_fleet_2020.gdb\\daily_fleet_2020_11_26_fishhours\n",
      "daily_fleet_2020_11_27_fishhours.csv\n",
      "E:\\analysis\\GFW\\TIF\\2020\\daily_fleet_2020_11_27_fishhours.csv\n",
      "E:\\analysis\\GFW\\TIF\\2020\\daily_fleet_2020_11_27_fishhours.tif\n",
      "E:\\analysis\\GFW\\gfw_daily_fleet_2020.gdb\\daily_fleet_2020_11_27_fishhours\n",
      "daily_fleet_2020_11_28_fishhours.csv\n",
      "E:\\analysis\\GFW\\TIF\\2020\\daily_fleet_2020_11_28_fishhours.csv\n",
      "E:\\analysis\\GFW\\TIF\\2020\\daily_fleet_2020_11_28_fishhours.tif\n",
      "E:\\analysis\\GFW\\gfw_daily_fleet_2020.gdb\\daily_fleet_2020_11_28_fishhours\n",
      "daily_fleet_2020_11_29_fishhours.csv\n",
      "E:\\analysis\\GFW\\TIF\\2020\\daily_fleet_2020_11_29_fishhours.csv\n",
      "E:\\analysis\\GFW\\TIF\\2020\\daily_fleet_2020_11_29_fishhours.tif\n",
      "E:\\analysis\\GFW\\gfw_daily_fleet_2020.gdb\\daily_fleet_2020_11_29_fishhours\n",
      "daily_fleet_2020_11_30_fishhours.csv\n",
      "E:\\analysis\\GFW\\TIF\\2020\\daily_fleet_2020_11_30_fishhours.csv\n",
      "E:\\analysis\\GFW\\TIF\\2020\\daily_fleet_2020_11_30_fishhours.tif\n",
      "E:\\analysis\\GFW\\gfw_daily_fleet_2020.gdb\\daily_fleet_2020_11_30_fishhours\n",
      "daily_fleet_2020_12_01_fishhours.csv\n",
      "E:\\analysis\\GFW\\TIF\\2020\\daily_fleet_2020_12_01_fishhours.csv\n",
      "E:\\analysis\\GFW\\TIF\\2020\\daily_fleet_2020_12_01_fishhours.tif\n",
      "E:\\analysis\\GFW\\gfw_daily_fleet_2020.gdb\\daily_fleet_2020_12_01_fishhours\n",
      "daily_fleet_2020_12_02_fishhours.csv\n",
      "E:\\analysis\\GFW\\TIF\\2020\\daily_fleet_2020_12_02_fishhours.csv\n",
      "E:\\analysis\\GFW\\TIF\\2020\\daily_fleet_2020_12_02_fishhours.tif\n",
      "E:\\analysis\\GFW\\gfw_daily_fleet_2020.gdb\\daily_fleet_2020_12_02_fishhours\n",
      "daily_fleet_2020_12_03_fishhours.csv\n",
      "E:\\analysis\\GFW\\TIF\\2020\\daily_fleet_2020_12_03_fishhours.csv\n",
      "E:\\analysis\\GFW\\TIF\\2020\\daily_fleet_2020_12_03_fishhours.tif\n",
      "E:\\analysis\\GFW\\gfw_daily_fleet_2020.gdb\\daily_fleet_2020_12_03_fishhours\n",
      "daily_fleet_2020_12_04_fishhours.csv\n",
      "E:\\analysis\\GFW\\TIF\\2020\\daily_fleet_2020_12_04_fishhours.csv\n",
      "E:\\analysis\\GFW\\TIF\\2020\\daily_fleet_2020_12_04_fishhours.tif\n",
      "E:\\analysis\\GFW\\gfw_daily_fleet_2020.gdb\\daily_fleet_2020_12_04_fishhours\n",
      "daily_fleet_2020_12_05_fishhours.csv\n",
      "E:\\analysis\\GFW\\TIF\\2020\\daily_fleet_2020_12_05_fishhours.csv\n",
      "E:\\analysis\\GFW\\TIF\\2020\\daily_fleet_2020_12_05_fishhours.tif\n",
      "E:\\analysis\\GFW\\gfw_daily_fleet_2020.gdb\\daily_fleet_2020_12_05_fishhours\n",
      "daily_fleet_2020_12_06_fishhours.csv\n",
      "E:\\analysis\\GFW\\TIF\\2020\\daily_fleet_2020_12_06_fishhours.csv\n",
      "E:\\analysis\\GFW\\TIF\\2020\\daily_fleet_2020_12_06_fishhours.tif\n",
      "E:\\analysis\\GFW\\gfw_daily_fleet_2020.gdb\\daily_fleet_2020_12_06_fishhours\n",
      "daily_fleet_2020_12_07_fishhours.csv\n",
      "E:\\analysis\\GFW\\TIF\\2020\\daily_fleet_2020_12_07_fishhours.csv\n",
      "E:\\analysis\\GFW\\TIF\\2020\\daily_fleet_2020_12_07_fishhours.tif\n",
      "E:\\analysis\\GFW\\gfw_daily_fleet_2020.gdb\\daily_fleet_2020_12_07_fishhours\n",
      "daily_fleet_2020_12_08_fishhours.csv\n",
      "E:\\analysis\\GFW\\TIF\\2020\\daily_fleet_2020_12_08_fishhours.csv\n",
      "E:\\analysis\\GFW\\TIF\\2020\\daily_fleet_2020_12_08_fishhours.tif\n",
      "E:\\analysis\\GFW\\gfw_daily_fleet_2020.gdb\\daily_fleet_2020_12_08_fishhours\n",
      "daily_fleet_2020_12_09_fishhours.csv\n",
      "E:\\analysis\\GFW\\TIF\\2020\\daily_fleet_2020_12_09_fishhours.csv\n",
      "E:\\analysis\\GFW\\TIF\\2020\\daily_fleet_2020_12_09_fishhours.tif\n",
      "E:\\analysis\\GFW\\gfw_daily_fleet_2020.gdb\\daily_fleet_2020_12_09_fishhours\n",
      "daily_fleet_2020_12_10_fishhours.csv\n",
      "E:\\analysis\\GFW\\TIF\\2020\\daily_fleet_2020_12_10_fishhours.csv\n",
      "E:\\analysis\\GFW\\TIF\\2020\\daily_fleet_2020_12_10_fishhours.tif\n",
      "E:\\analysis\\GFW\\gfw_daily_fleet_2020.gdb\\daily_fleet_2020_12_10_fishhours\n",
      "daily_fleet_2020_12_11_fishhours.csv\n",
      "E:\\analysis\\GFW\\TIF\\2020\\daily_fleet_2020_12_11_fishhours.csv\n",
      "E:\\analysis\\GFW\\TIF\\2020\\daily_fleet_2020_12_11_fishhours.tif\n",
      "E:\\analysis\\GFW\\gfw_daily_fleet_2020.gdb\\daily_fleet_2020_12_11_fishhours\n",
      "daily_fleet_2020_12_12_fishhours.csv\n",
      "E:\\analysis\\GFW\\TIF\\2020\\daily_fleet_2020_12_12_fishhours.csv\n",
      "E:\\analysis\\GFW\\TIF\\2020\\daily_fleet_2020_12_12_fishhours.tif\n",
      "E:\\analysis\\GFW\\gfw_daily_fleet_2020.gdb\\daily_fleet_2020_12_12_fishhours\n",
      "daily_fleet_2020_12_13_fishhours.csv\n",
      "E:\\analysis\\GFW\\TIF\\2020\\daily_fleet_2020_12_13_fishhours.csv\n",
      "E:\\analysis\\GFW\\TIF\\2020\\daily_fleet_2020_12_13_fishhours.tif\n",
      "E:\\analysis\\GFW\\gfw_daily_fleet_2020.gdb\\daily_fleet_2020_12_13_fishhours\n",
      "daily_fleet_2020_12_14_fishhours.csv\n",
      "E:\\analysis\\GFW\\TIF\\2020\\daily_fleet_2020_12_14_fishhours.csv\n",
      "E:\\analysis\\GFW\\TIF\\2020\\daily_fleet_2020_12_14_fishhours.tif\n",
      "E:\\analysis\\GFW\\gfw_daily_fleet_2020.gdb\\daily_fleet_2020_12_14_fishhours\n",
      "daily_fleet_2020_12_15_fishhours.csv\n",
      "E:\\analysis\\GFW\\TIF\\2020\\daily_fleet_2020_12_15_fishhours.csv\n",
      "E:\\analysis\\GFW\\TIF\\2020\\daily_fleet_2020_12_15_fishhours.tif\n",
      "E:\\analysis\\GFW\\gfw_daily_fleet_2020.gdb\\daily_fleet_2020_12_15_fishhours\n",
      "daily_fleet_2020_12_16_fishhours.csv\n",
      "E:\\analysis\\GFW\\TIF\\2020\\daily_fleet_2020_12_16_fishhours.csv\n",
      "E:\\analysis\\GFW\\TIF\\2020\\daily_fleet_2020_12_16_fishhours.tif\n",
      "E:\\analysis\\GFW\\gfw_daily_fleet_2020.gdb\\daily_fleet_2020_12_16_fishhours\n",
      "daily_fleet_2020_12_17_fishhours.csv\n",
      "E:\\analysis\\GFW\\TIF\\2020\\daily_fleet_2020_12_17_fishhours.csv\n",
      "E:\\analysis\\GFW\\TIF\\2020\\daily_fleet_2020_12_17_fishhours.tif\n",
      "E:\\analysis\\GFW\\gfw_daily_fleet_2020.gdb\\daily_fleet_2020_12_17_fishhours\n",
      "daily_fleet_2020_12_18_fishhours.csv\n",
      "E:\\analysis\\GFW\\TIF\\2020\\daily_fleet_2020_12_18_fishhours.csv\n",
      "E:\\analysis\\GFW\\TIF\\2020\\daily_fleet_2020_12_18_fishhours.tif\n",
      "E:\\analysis\\GFW\\gfw_daily_fleet_2020.gdb\\daily_fleet_2020_12_18_fishhours\n",
      "daily_fleet_2020_12_19_fishhours.csv\n",
      "E:\\analysis\\GFW\\TIF\\2020\\daily_fleet_2020_12_19_fishhours.csv\n",
      "E:\\analysis\\GFW\\TIF\\2020\\daily_fleet_2020_12_19_fishhours.tif\n",
      "E:\\analysis\\GFW\\gfw_daily_fleet_2020.gdb\\daily_fleet_2020_12_19_fishhours\n",
      "daily_fleet_2020_12_20_fishhours.csv\n",
      "E:\\analysis\\GFW\\TIF\\2020\\daily_fleet_2020_12_20_fishhours.csv\n",
      "E:\\analysis\\GFW\\TIF\\2020\\daily_fleet_2020_12_20_fishhours.tif\n",
      "E:\\analysis\\GFW\\gfw_daily_fleet_2020.gdb\\daily_fleet_2020_12_20_fishhours\n",
      "daily_fleet_2020_12_21_fishhours.csv\n",
      "E:\\analysis\\GFW\\TIF\\2020\\daily_fleet_2020_12_21_fishhours.csv\n",
      "E:\\analysis\\GFW\\TIF\\2020\\daily_fleet_2020_12_21_fishhours.tif\n",
      "E:\\analysis\\GFW\\gfw_daily_fleet_2020.gdb\\daily_fleet_2020_12_21_fishhours\n",
      "daily_fleet_2020_12_22_fishhours.csv\n",
      "E:\\analysis\\GFW\\TIF\\2020\\daily_fleet_2020_12_22_fishhours.csv\n",
      "E:\\analysis\\GFW\\TIF\\2020\\daily_fleet_2020_12_22_fishhours.tif\n",
      "E:\\analysis\\GFW\\gfw_daily_fleet_2020.gdb\\daily_fleet_2020_12_22_fishhours\n",
      "daily_fleet_2020_12_23_fishhours.csv\n",
      "E:\\analysis\\GFW\\TIF\\2020\\daily_fleet_2020_12_23_fishhours.csv\n",
      "E:\\analysis\\GFW\\TIF\\2020\\daily_fleet_2020_12_23_fishhours.tif\n",
      "E:\\analysis\\GFW\\gfw_daily_fleet_2020.gdb\\daily_fleet_2020_12_23_fishhours\n",
      "daily_fleet_2020_12_24_fishhours.csv\n",
      "E:\\analysis\\GFW\\TIF\\2020\\daily_fleet_2020_12_24_fishhours.csv\n",
      "E:\\analysis\\GFW\\TIF\\2020\\daily_fleet_2020_12_24_fishhours.tif\n",
      "E:\\analysis\\GFW\\gfw_daily_fleet_2020.gdb\\daily_fleet_2020_12_24_fishhours\n",
      "daily_fleet_2020_12_25_fishhours.csv\n",
      "E:\\analysis\\GFW\\TIF\\2020\\daily_fleet_2020_12_25_fishhours.csv\n",
      "E:\\analysis\\GFW\\TIF\\2020\\daily_fleet_2020_12_25_fishhours.tif\n",
      "E:\\analysis\\GFW\\gfw_daily_fleet_2020.gdb\\daily_fleet_2020_12_25_fishhours\n",
      "daily_fleet_2020_12_26_fishhours.csv\n",
      "E:\\analysis\\GFW\\TIF\\2020\\daily_fleet_2020_12_26_fishhours.csv\n",
      "E:\\analysis\\GFW\\TIF\\2020\\daily_fleet_2020_12_26_fishhours.tif\n",
      "E:\\analysis\\GFW\\gfw_daily_fleet_2020.gdb\\daily_fleet_2020_12_26_fishhours\n",
      "daily_fleet_2020_12_27_fishhours.csv\n",
      "E:\\analysis\\GFW\\TIF\\2020\\daily_fleet_2020_12_27_fishhours.csv\n",
      "E:\\analysis\\GFW\\TIF\\2020\\daily_fleet_2020_12_27_fishhours.tif\n",
      "E:\\analysis\\GFW\\gfw_daily_fleet_2020.gdb\\daily_fleet_2020_12_27_fishhours\n",
      "daily_fleet_2020_12_28_fishhours.csv\n",
      "E:\\analysis\\GFW\\TIF\\2020\\daily_fleet_2020_12_28_fishhours.csv\n",
      "E:\\analysis\\GFW\\TIF\\2020\\daily_fleet_2020_12_28_fishhours.tif\n",
      "E:\\analysis\\GFW\\gfw_daily_fleet_2020.gdb\\daily_fleet_2020_12_28_fishhours\n",
      "daily_fleet_2020_12_29_fishhours.csv\n",
      "E:\\analysis\\GFW\\TIF\\2020\\daily_fleet_2020_12_29_fishhours.csv\n",
      "E:\\analysis\\GFW\\TIF\\2020\\daily_fleet_2020_12_29_fishhours.tif\n",
      "E:\\analysis\\GFW\\gfw_daily_fleet_2020.gdb\\daily_fleet_2020_12_29_fishhours\n",
      "daily_fleet_2020_12_30_fishhours.csv\n",
      "E:\\analysis\\GFW\\TIF\\2020\\daily_fleet_2020_12_30_fishhours.csv\n",
      "E:\\analysis\\GFW\\TIF\\2020\\daily_fleet_2020_12_30_fishhours.tif\n",
      "E:\\analysis\\GFW\\gfw_daily_fleet_2020.gdb\\daily_fleet_2020_12_30_fishhours\n",
      "daily_fleet_2020_12_31_fishhours.csv\n",
      "E:\\analysis\\GFW\\TIF\\2020\\daily_fleet_2020_12_31_fishhours.csv\n",
      "E:\\analysis\\GFW\\TIF\\2020\\daily_fleet_2020_12_31_fishhours.tif\n",
      "E:\\analysis\\GFW\\gfw_daily_fleet_2020.gdb\\daily_fleet_2020_12_31_fishhours\n"
     ]
    }
   ],
   "source": [
    "for filename in os.listdir(analysis_directory):\n",
    "    if filename.endswith('fishhours.csv'):\n",
    "        csv_name = (os.path.basename(filename))\n",
    "        print(\"Processing \" + csv_name + \"...\")\n",
    "        fish_csv = (os.path.join(analysis_directory, os.path.splitext(filename)[0] + \".csv\"))\n",
    "        # print(fish_csv)\n",
    "        fish_tif = (os.path.join(analysis_directory, os.path.splitext(filename)[0] + \".tif\"))\n",
    "        # print(fish_tif)\n",
    "        fish_fc = (os.path.join(processing_gdb, os.path.splitext(os.path.basename(filename))[0]))\n",
    "        # print(fish_fc)\n",
    "        arcpy.management.XYTableToPoint(fish_csv, fish_fc, 'lon', 'lat', '', projectCoordinateSystem)\n",
    "        arcpy.conversion.PointToRaster(fish_fc, 'fishing_hours', fish_tif, \"SUM\", 'fishing_hours', 0.01)"
   ]
  },
  {
   "cell_type": "code",
   "execution_count": 11,
   "metadata": {},
   "outputs": [
    {
     "name": "stdout",
     "output_type": "stream",
     "text": [
      "Processing daily_fleet_2020_01_01_hours.csv...\n",
      "Processing daily_fleet_2020_01_02_hours.csv...\n",
      "Processing daily_fleet_2020_01_03_hours.csv...\n",
      "Processing daily_fleet_2020_01_04_hours.csv...\n",
      "Processing daily_fleet_2020_01_05_hours.csv...\n",
      "Processing daily_fleet_2020_01_06_hours.csv...\n",
      "Processing daily_fleet_2020_01_07_hours.csv...\n",
      "Processing daily_fleet_2020_01_08_hours.csv...\n",
      "Processing daily_fleet_2020_01_09_hours.csv...\n",
      "Processing daily_fleet_2020_01_10_hours.csv...\n",
      "Processing daily_fleet_2020_01_11_hours.csv...\n",
      "Processing daily_fleet_2020_01_12_hours.csv...\n",
      "Processing daily_fleet_2020_01_13_hours.csv...\n",
      "Processing daily_fleet_2020_01_14_hours.csv...\n",
      "Processing daily_fleet_2020_01_15_hours.csv...\n",
      "Processing daily_fleet_2020_01_16_hours.csv...\n",
      "Processing daily_fleet_2020_01_17_hours.csv...\n",
      "Processing daily_fleet_2020_01_18_hours.csv...\n",
      "Processing daily_fleet_2020_01_19_hours.csv...\n",
      "Processing daily_fleet_2020_01_20_hours.csv...\n",
      "Processing daily_fleet_2020_01_21_hours.csv...\n",
      "Processing daily_fleet_2020_01_22_hours.csv...\n",
      "Processing daily_fleet_2020_01_23_hours.csv...\n",
      "Processing daily_fleet_2020_01_24_hours.csv...\n",
      "Processing daily_fleet_2020_01_25_hours.csv...\n",
      "Processing daily_fleet_2020_01_26_hours.csv...\n",
      "Processing daily_fleet_2020_01_27_hours.csv...\n",
      "Processing daily_fleet_2020_01_28_hours.csv...\n",
      "Processing daily_fleet_2020_01_29_hours.csv...\n",
      "Processing daily_fleet_2020_01_30_hours.csv...\n",
      "Processing daily_fleet_2020_01_31_hours.csv...\n",
      "Processing daily_fleet_2020_02_01_hours.csv...\n",
      "Processing daily_fleet_2020_02_02_hours.csv...\n",
      "Processing daily_fleet_2020_02_03_hours.csv...\n",
      "Processing daily_fleet_2020_02_04_hours.csv...\n",
      "Processing daily_fleet_2020_02_05_hours.csv...\n",
      "Processing daily_fleet_2020_02_06_hours.csv...\n",
      "Processing daily_fleet_2020_02_07_hours.csv...\n",
      "Processing daily_fleet_2020_02_08_hours.csv...\n",
      "Processing daily_fleet_2020_02_09_hours.csv...\n",
      "Processing daily_fleet_2020_02_10_hours.csv...\n",
      "Processing daily_fleet_2020_02_11_hours.csv...\n",
      "Processing daily_fleet_2020_02_12_hours.csv...\n",
      "Processing daily_fleet_2020_02_13_hours.csv...\n",
      "Processing daily_fleet_2020_02_14_hours.csv...\n",
      "Processing daily_fleet_2020_02_15_hours.csv...\n",
      "Processing daily_fleet_2020_02_16_hours.csv...\n",
      "Processing daily_fleet_2020_02_17_hours.csv...\n",
      "Processing daily_fleet_2020_02_18_hours.csv...\n",
      "Processing daily_fleet_2020_02_19_hours.csv...\n",
      "Processing daily_fleet_2020_02_20_hours.csv...\n",
      "Processing daily_fleet_2020_02_21_hours.csv...\n",
      "Processing daily_fleet_2020_02_22_hours.csv...\n",
      "Processing daily_fleet_2020_02_23_hours.csv...\n",
      "Processing daily_fleet_2020_02_24_hours.csv...\n",
      "Processing daily_fleet_2020_02_25_hours.csv...\n",
      "Processing daily_fleet_2020_02_26_hours.csv...\n",
      "Processing daily_fleet_2020_02_27_hours.csv...\n",
      "Processing daily_fleet_2020_02_28_hours.csv...\n",
      "Processing daily_fleet_2020_02_29_hours.csv...\n",
      "Processing daily_fleet_2020_03_01_hours.csv...\n",
      "Processing daily_fleet_2020_03_02_hours.csv...\n",
      "Processing daily_fleet_2020_03_03_hours.csv...\n",
      "Processing daily_fleet_2020_03_04_hours.csv...\n",
      "Processing daily_fleet_2020_03_05_hours.csv...\n",
      "Processing daily_fleet_2020_03_06_hours.csv...\n",
      "Processing daily_fleet_2020_03_07_hours.csv...\n",
      "Processing daily_fleet_2020_03_08_hours.csv...\n",
      "Processing daily_fleet_2020_03_09_hours.csv...\n",
      "Processing daily_fleet_2020_03_10_hours.csv...\n",
      "Processing daily_fleet_2020_03_11_hours.csv...\n",
      "Processing daily_fleet_2020_03_12_hours.csv...\n",
      "Processing daily_fleet_2020_03_13_hours.csv...\n",
      "Processing daily_fleet_2020_03_14_hours.csv...\n",
      "Processing daily_fleet_2020_03_15_hours.csv...\n",
      "Processing daily_fleet_2020_03_16_hours.csv...\n",
      "Processing daily_fleet_2020_03_17_hours.csv...\n",
      "Processing daily_fleet_2020_03_18_hours.csv...\n",
      "Processing daily_fleet_2020_03_19_hours.csv...\n",
      "Processing daily_fleet_2020_03_20_hours.csv...\n",
      "Processing daily_fleet_2020_03_21_hours.csv...\n",
      "Processing daily_fleet_2020_03_22_hours.csv...\n",
      "Processing daily_fleet_2020_03_23_hours.csv...\n",
      "Processing daily_fleet_2020_03_24_hours.csv...\n",
      "Processing daily_fleet_2020_03_25_hours.csv...\n",
      "Processing daily_fleet_2020_03_26_hours.csv...\n",
      "Processing daily_fleet_2020_03_27_hours.csv...\n",
      "Processing daily_fleet_2020_03_28_hours.csv...\n",
      "Processing daily_fleet_2020_03_29_hours.csv...\n",
      "Processing daily_fleet_2020_03_30_hours.csv...\n",
      "Processing daily_fleet_2020_03_31_hours.csv...\n",
      "Processing daily_fleet_2020_04_01_hours.csv...\n",
      "Processing daily_fleet_2020_04_02_hours.csv...\n",
      "Processing daily_fleet_2020_04_03_hours.csv...\n",
      "Processing daily_fleet_2020_04_04_hours.csv...\n",
      "Processing daily_fleet_2020_04_05_hours.csv...\n",
      "Processing daily_fleet_2020_04_06_hours.csv...\n",
      "Processing daily_fleet_2020_04_07_hours.csv...\n",
      "Processing daily_fleet_2020_04_08_hours.csv...\n",
      "Processing daily_fleet_2020_04_09_hours.csv...\n",
      "Processing daily_fleet_2020_04_10_hours.csv...\n",
      "Processing daily_fleet_2020_04_11_hours.csv...\n",
      "Processing daily_fleet_2020_04_12_hours.csv...\n",
      "Processing daily_fleet_2020_04_13_hours.csv...\n",
      "Processing daily_fleet_2020_04_14_hours.csv...\n",
      "Processing daily_fleet_2020_04_15_hours.csv...\n",
      "Processing daily_fleet_2020_04_16_hours.csv...\n",
      "Processing daily_fleet_2020_04_17_hours.csv...\n",
      "Processing daily_fleet_2020_04_18_hours.csv...\n",
      "Processing daily_fleet_2020_04_19_hours.csv...\n",
      "Processing daily_fleet_2020_04_20_hours.csv...\n",
      "Processing daily_fleet_2020_04_21_hours.csv...\n",
      "Processing daily_fleet_2020_04_22_hours.csv...\n",
      "Processing daily_fleet_2020_04_23_hours.csv...\n",
      "Processing daily_fleet_2020_04_24_hours.csv...\n",
      "Processing daily_fleet_2020_04_25_hours.csv...\n",
      "Processing daily_fleet_2020_04_26_hours.csv...\n",
      "Processing daily_fleet_2020_04_27_hours.csv...\n",
      "Processing daily_fleet_2020_04_28_hours.csv...\n",
      "Processing daily_fleet_2020_04_29_hours.csv...\n",
      "Processing daily_fleet_2020_04_30_hours.csv...\n",
      "Processing daily_fleet_2020_05_01_hours.csv...\n",
      "Processing daily_fleet_2020_05_02_hours.csv...\n",
      "Processing daily_fleet_2020_05_03_hours.csv...\n",
      "Processing daily_fleet_2020_05_04_hours.csv...\n",
      "Processing daily_fleet_2020_05_05_hours.csv...\n",
      "Processing daily_fleet_2020_05_06_hours.csv...\n",
      "Processing daily_fleet_2020_05_07_hours.csv...\n",
      "Processing daily_fleet_2020_05_08_hours.csv...\n",
      "Processing daily_fleet_2020_05_09_hours.csv...\n",
      "Processing daily_fleet_2020_05_10_hours.csv...\n",
      "Processing daily_fleet_2020_05_11_hours.csv...\n",
      "Processing daily_fleet_2020_05_12_hours.csv...\n",
      "Processing daily_fleet_2020_05_13_hours.csv...\n",
      "Processing daily_fleet_2020_05_14_hours.csv...\n",
      "Processing daily_fleet_2020_05_15_hours.csv...\n",
      "Processing daily_fleet_2020_05_16_hours.csv...\n",
      "Processing daily_fleet_2020_05_17_hours.csv...\n",
      "Processing daily_fleet_2020_05_18_hours.csv...\n",
      "Processing daily_fleet_2020_05_19_hours.csv...\n",
      "Processing daily_fleet_2020_05_20_hours.csv...\n",
      "Processing daily_fleet_2020_05_21_hours.csv...\n",
      "Processing daily_fleet_2020_05_22_hours.csv...\n",
      "Processing daily_fleet_2020_05_23_hours.csv...\n",
      "Processing daily_fleet_2020_05_24_hours.csv...\n",
      "Processing daily_fleet_2020_05_25_hours.csv...\n",
      "Processing daily_fleet_2020_05_26_hours.csv...\n",
      "Processing daily_fleet_2020_05_27_hours.csv...\n",
      "Processing daily_fleet_2020_05_28_hours.csv...\n",
      "Processing daily_fleet_2020_05_29_hours.csv...\n",
      "Processing daily_fleet_2020_05_30_hours.csv...\n",
      "Processing daily_fleet_2020_05_31_hours.csv...\n",
      "Processing daily_fleet_2020_06_01_hours.csv...\n",
      "Processing daily_fleet_2020_06_02_hours.csv...\n",
      "Processing daily_fleet_2020_06_03_hours.csv...\n",
      "Processing daily_fleet_2020_06_04_hours.csv...\n",
      "Processing daily_fleet_2020_06_05_hours.csv...\n",
      "Processing daily_fleet_2020_06_06_hours.csv...\n",
      "Processing daily_fleet_2020_06_07_hours.csv...\n",
      "Processing daily_fleet_2020_06_08_hours.csv...\n",
      "Processing daily_fleet_2020_06_09_hours.csv...\n",
      "Processing daily_fleet_2020_06_10_hours.csv...\n",
      "Processing daily_fleet_2020_06_11_hours.csv...\n",
      "Processing daily_fleet_2020_06_12_hours.csv...\n",
      "Processing daily_fleet_2020_06_13_hours.csv...\n",
      "Processing daily_fleet_2020_06_14_hours.csv...\n",
      "Processing daily_fleet_2020_06_15_hours.csv...\n",
      "Processing daily_fleet_2020_06_16_hours.csv...\n",
      "Processing daily_fleet_2020_06_17_hours.csv...\n",
      "Processing daily_fleet_2020_06_18_hours.csv...\n",
      "Processing daily_fleet_2020_06_19_hours.csv...\n",
      "Processing daily_fleet_2020_06_20_hours.csv...\n",
      "Processing daily_fleet_2020_06_21_hours.csv...\n",
      "Processing daily_fleet_2020_06_22_hours.csv...\n",
      "Processing daily_fleet_2020_06_23_hours.csv...\n",
      "Processing daily_fleet_2020_06_24_hours.csv...\n",
      "Processing daily_fleet_2020_06_25_hours.csv...\n",
      "Processing daily_fleet_2020_06_26_hours.csv...\n",
      "Processing daily_fleet_2020_06_27_hours.csv...\n",
      "Processing daily_fleet_2020_06_28_hours.csv...\n",
      "Processing daily_fleet_2020_06_29_hours.csv...\n",
      "Processing daily_fleet_2020_06_30_hours.csv...\n",
      "Processing daily_fleet_2020_07_01_hours.csv...\n",
      "Processing daily_fleet_2020_07_02_hours.csv...\n",
      "Processing daily_fleet_2020_07_03_hours.csv...\n",
      "Processing daily_fleet_2020_07_04_hours.csv...\n",
      "Processing daily_fleet_2020_07_05_hours.csv...\n",
      "Processing daily_fleet_2020_07_06_hours.csv...\n",
      "Processing daily_fleet_2020_07_07_hours.csv...\n",
      "Processing daily_fleet_2020_07_08_hours.csv...\n",
      "Processing daily_fleet_2020_07_09_hours.csv...\n",
      "Processing daily_fleet_2020_07_10_hours.csv...\n",
      "Processing daily_fleet_2020_07_11_hours.csv...\n",
      "Processing daily_fleet_2020_07_12_hours.csv...\n",
      "Processing daily_fleet_2020_07_13_hours.csv...\n",
      "Processing daily_fleet_2020_07_14_hours.csv...\n",
      "Processing daily_fleet_2020_07_15_hours.csv...\n",
      "Processing daily_fleet_2020_07_16_hours.csv...\n",
      "Processing daily_fleet_2020_07_17_hours.csv...\n",
      "Processing daily_fleet_2020_07_18_hours.csv...\n",
      "Processing daily_fleet_2020_07_19_hours.csv...\n",
      "Processing daily_fleet_2020_07_20_hours.csv...\n",
      "Processing daily_fleet_2020_07_21_hours.csv...\n",
      "Processing daily_fleet_2020_07_22_hours.csv...\n",
      "Processing daily_fleet_2020_07_23_hours.csv...\n",
      "Processing daily_fleet_2020_07_24_hours.csv...\n",
      "Processing daily_fleet_2020_07_25_hours.csv...\n",
      "Processing daily_fleet_2020_07_26_hours.csv...\n",
      "Processing daily_fleet_2020_07_27_hours.csv...\n",
      "Processing daily_fleet_2020_07_28_hours.csv...\n",
      "Processing daily_fleet_2020_07_29_hours.csv...\n",
      "Processing daily_fleet_2020_07_30_hours.csv...\n",
      "Processing daily_fleet_2020_07_31_hours.csv...\n",
      "Processing daily_fleet_2020_08_01_hours.csv...\n",
      "Processing daily_fleet_2020_08_02_hours.csv...\n",
      "Processing daily_fleet_2020_08_03_hours.csv...\n",
      "Processing daily_fleet_2020_08_04_hours.csv...\n",
      "Processing daily_fleet_2020_08_05_hours.csv...\n",
      "Processing daily_fleet_2020_08_06_hours.csv...\n",
      "Processing daily_fleet_2020_08_07_hours.csv...\n",
      "Processing daily_fleet_2020_08_08_hours.csv...\n",
      "Processing daily_fleet_2020_08_09_hours.csv...\n",
      "Processing daily_fleet_2020_08_10_hours.csv...\n",
      "Processing daily_fleet_2020_08_11_hours.csv...\n",
      "Processing daily_fleet_2020_08_12_hours.csv...\n",
      "Processing daily_fleet_2020_08_13_hours.csv...\n",
      "Processing daily_fleet_2020_08_14_hours.csv...\n",
      "Processing daily_fleet_2020_08_15_hours.csv...\n",
      "Processing daily_fleet_2020_08_16_hours.csv...\n",
      "Processing daily_fleet_2020_08_17_hours.csv...\n",
      "Processing daily_fleet_2020_08_18_hours.csv...\n",
      "Processing daily_fleet_2020_08_19_hours.csv...\n",
      "Processing daily_fleet_2020_08_20_hours.csv...\n",
      "Processing daily_fleet_2020_08_21_hours.csv...\n",
      "Processing daily_fleet_2020_08_22_hours.csv...\n",
      "Processing daily_fleet_2020_08_23_hours.csv...\n",
      "Processing daily_fleet_2020_08_24_hours.csv...\n",
      "Processing daily_fleet_2020_08_25_hours.csv...\n",
      "Processing daily_fleet_2020_08_26_hours.csv...\n",
      "Processing daily_fleet_2020_08_27_hours.csv...\n",
      "Processing daily_fleet_2020_08_28_hours.csv...\n",
      "Processing daily_fleet_2020_08_29_hours.csv...\n",
      "Processing daily_fleet_2020_08_30_hours.csv...\n",
      "Processing daily_fleet_2020_08_31_hours.csv...\n",
      "Processing daily_fleet_2020_09_01_hours.csv...\n",
      "Processing daily_fleet_2020_09_02_hours.csv...\n",
      "Processing daily_fleet_2020_09_03_hours.csv...\n",
      "Processing daily_fleet_2020_09_04_hours.csv...\n",
      "Processing daily_fleet_2020_09_05_hours.csv...\n",
      "Processing daily_fleet_2020_09_06_hours.csv...\n",
      "Processing daily_fleet_2020_09_07_hours.csv...\n",
      "Processing daily_fleet_2020_09_08_hours.csv...\n",
      "Processing daily_fleet_2020_09_09_hours.csv...\n",
      "Processing daily_fleet_2020_09_10_hours.csv...\n",
      "Processing daily_fleet_2020_09_11_hours.csv...\n",
      "Processing daily_fleet_2020_09_12_hours.csv...\n",
      "Processing daily_fleet_2020_09_13_hours.csv...\n",
      "Processing daily_fleet_2020_09_14_hours.csv...\n",
      "Processing daily_fleet_2020_09_15_hours.csv...\n",
      "Processing daily_fleet_2020_09_16_hours.csv...\n",
      "Processing daily_fleet_2020_09_17_hours.csv...\n",
      "Processing daily_fleet_2020_09_18_hours.csv...\n",
      "Processing daily_fleet_2020_09_19_hours.csv...\n",
      "Processing daily_fleet_2020_09_20_hours.csv...\n",
      "Processing daily_fleet_2020_09_21_hours.csv...\n",
      "Processing daily_fleet_2020_09_22_hours.csv...\n",
      "Processing daily_fleet_2020_09_23_hours.csv...\n",
      "Processing daily_fleet_2020_09_24_hours.csv...\n",
      "Processing daily_fleet_2020_09_25_hours.csv...\n",
      "Processing daily_fleet_2020_09_26_hours.csv...\n",
      "Processing daily_fleet_2020_09_27_hours.csv...\n",
      "Processing daily_fleet_2020_09_28_hours.csv...\n",
      "Processing daily_fleet_2020_09_29_hours.csv...\n",
      "Processing daily_fleet_2020_09_30_hours.csv...\n",
      "Processing daily_fleet_2020_10_01_hours.csv...\n",
      "Processing daily_fleet_2020_10_02_hours.csv...\n",
      "Processing daily_fleet_2020_10_03_hours.csv...\n",
      "Processing daily_fleet_2020_10_04_hours.csv...\n",
      "Processing daily_fleet_2020_10_05_hours.csv...\n",
      "Processing daily_fleet_2020_10_06_hours.csv...\n",
      "Processing daily_fleet_2020_10_07_hours.csv...\n",
      "Processing daily_fleet_2020_10_08_hours.csv...\n",
      "Processing daily_fleet_2020_10_09_hours.csv...\n",
      "Processing daily_fleet_2020_10_10_hours.csv...\n",
      "Processing daily_fleet_2020_10_11_hours.csv...\n",
      "Processing daily_fleet_2020_10_12_hours.csv...\n",
      "Processing daily_fleet_2020_10_13_hours.csv...\n",
      "Processing daily_fleet_2020_10_14_hours.csv...\n",
      "Processing daily_fleet_2020_10_15_hours.csv...\n",
      "Processing daily_fleet_2020_10_16_hours.csv...\n",
      "Processing daily_fleet_2020_10_17_hours.csv...\n",
      "Processing daily_fleet_2020_10_18_hours.csv...\n",
      "Processing daily_fleet_2020_10_19_hours.csv...\n",
      "Processing daily_fleet_2020_10_20_hours.csv...\n",
      "Processing daily_fleet_2020_10_21_hours.csv...\n",
      "Processing daily_fleet_2020_10_22_hours.csv...\n",
      "Processing daily_fleet_2020_10_23_hours.csv...\n",
      "Processing daily_fleet_2020_10_24_hours.csv...\n",
      "Processing daily_fleet_2020_10_25_hours.csv...\n",
      "Processing daily_fleet_2020_10_26_hours.csv...\n",
      "Processing daily_fleet_2020_10_27_hours.csv...\n",
      "Processing daily_fleet_2020_10_28_hours.csv...\n",
      "Processing daily_fleet_2020_10_29_hours.csv...\n",
      "Processing daily_fleet_2020_10_30_hours.csv...\n",
      "Processing daily_fleet_2020_10_31_hours.csv...\n",
      "Processing daily_fleet_2020_11_01_hours.csv...\n",
      "Processing daily_fleet_2020_11_02_hours.csv...\n",
      "Processing daily_fleet_2020_11_03_hours.csv...\n",
      "Processing daily_fleet_2020_11_04_hours.csv...\n",
      "Processing daily_fleet_2020_11_05_hours.csv...\n",
      "Processing daily_fleet_2020_11_06_hours.csv...\n",
      "Processing daily_fleet_2020_11_07_hours.csv...\n",
      "Processing daily_fleet_2020_11_08_hours.csv...\n",
      "Processing daily_fleet_2020_11_09_hours.csv...\n",
      "Processing daily_fleet_2020_11_10_hours.csv...\n",
      "Processing daily_fleet_2020_11_11_hours.csv...\n",
      "Processing daily_fleet_2020_11_12_hours.csv...\n",
      "Processing daily_fleet_2020_11_13_hours.csv...\n",
      "Processing daily_fleet_2020_11_14_hours.csv...\n",
      "Processing daily_fleet_2020_11_15_hours.csv...\n",
      "Processing daily_fleet_2020_11_16_hours.csv...\n",
      "Processing daily_fleet_2020_11_17_hours.csv...\n",
      "Processing daily_fleet_2020_11_18_hours.csv...\n",
      "Processing daily_fleet_2020_11_19_hours.csv...\n",
      "Processing daily_fleet_2020_11_20_hours.csv...\n",
      "Processing daily_fleet_2020_11_21_hours.csv...\n",
      "Processing daily_fleet_2020_11_22_hours.csv...\n",
      "Processing daily_fleet_2020_11_23_hours.csv...\n",
      "Processing daily_fleet_2020_11_24_hours.csv...\n",
      "Processing daily_fleet_2020_11_25_hours.csv...\n",
      "Processing daily_fleet_2020_11_26_hours.csv...\n",
      "Processing daily_fleet_2020_11_27_hours.csv...\n",
      "Processing daily_fleet_2020_11_28_hours.csv...\n",
      "Processing daily_fleet_2020_11_29_hours.csv...\n",
      "Processing daily_fleet_2020_11_30_hours.csv...\n",
      "Processing daily_fleet_2020_12_01_hours.csv...\n",
      "Processing daily_fleet_2020_12_02_hours.csv...\n",
      "Processing daily_fleet_2020_12_03_hours.csv...\n",
      "Processing daily_fleet_2020_12_04_hours.csv...\n",
      "Processing daily_fleet_2020_12_05_hours.csv...\n",
      "Processing daily_fleet_2020_12_06_hours.csv...\n",
      "Processing daily_fleet_2020_12_07_hours.csv...\n",
      "Processing daily_fleet_2020_12_08_hours.csv...\n",
      "Processing daily_fleet_2020_12_09_hours.csv...\n",
      "Processing daily_fleet_2020_12_10_hours.csv...\n",
      "Processing daily_fleet_2020_12_11_hours.csv...\n",
      "Processing daily_fleet_2020_12_12_hours.csv...\n",
      "Processing daily_fleet_2020_12_13_hours.csv...\n",
      "Processing daily_fleet_2020_12_14_hours.csv...\n",
      "Processing daily_fleet_2020_12_15_hours.csv...\n",
      "Processing daily_fleet_2020_12_16_hours.csv...\n",
      "Processing daily_fleet_2020_12_17_hours.csv...\n",
      "Processing daily_fleet_2020_12_18_hours.csv...\n",
      "Processing daily_fleet_2020_12_19_hours.csv...\n",
      "Processing daily_fleet_2020_12_20_hours.csv...\n",
      "Processing daily_fleet_2020_12_21_hours.csv...\n",
      "Processing daily_fleet_2020_12_22_hours.csv...\n",
      "Processing daily_fleet_2020_12_23_hours.csv...\n",
      "Processing daily_fleet_2020_12_24_hours.csv...\n",
      "Processing daily_fleet_2020_12_25_hours.csv...\n",
      "Processing daily_fleet_2020_12_26_hours.csv...\n",
      "Processing daily_fleet_2020_12_27_hours.csv...\n",
      "Processing daily_fleet_2020_12_28_hours.csv...\n",
      "Processing daily_fleet_2020_12_29_hours.csv...\n",
      "Processing daily_fleet_2020_12_30_hours.csv...\n",
      "Processing daily_fleet_2020_12_31_hours.csv...\n"
     ]
    }
   ],
   "source": [
    "for filename in os.listdir(analysis_directory):\n",
    "    if filename.endswith('_hours.csv'):\n",
    "        csv_name = (os.path.basename(filename))\n",
    "        print(\"Processing \" + csv_name + \"...\")\n",
    "        hours_csv = (os.path.join(analysis_directory, os.path.splitext(filename)[0] + \".csv\"))\n",
    "        # print(hours_csv)\n",
    "        hours_tif = (os.path.join(analysis_directory, os.path.splitext(filename)[0] + \".tif\"))\n",
    "        # print(hours_tif)\n",
    "        hours_fc = (os.path.join(processing_gdb, os.path.splitext(os.path.basename(filename))[0]))\n",
    "        # print(hours_fc)\n",
    "        arcpy.management.XYTableToPoint(hours_csv, hours_fc, 'lon', 'lat', '', projectCoordinateSystem)\n",
    "        arcpy.conversion.PointToRaster(hours_fc, 'hours', hours_tif, \"SUM\", 'hours', 0.01)"
   ]
  },
  {
   "cell_type": "code",
   "execution_count": 12,
   "metadata": {},
   "outputs": [
    {
     "data": {
      "text/html": [
       "<div class='gpresult'><h2>Messages</h2><div id='messages'>Start Time: Wednesday, September 11, 2024 4:31:12 PM<br>Succeeded at Wednesday, September 11, 2024 4:31:14 PM (Elapsed Time: 1.79 seconds)<br></div><div id = 'default' /></div></div>"
      ],
      "text/plain": [
       "<Result 'E:\\\\analysis\\\\GFW\\\\gfw_daily_fleet_2020.gdb\\\\global_fish_watch_daily_fleet_sum_2000'>"
      ]
     },
     "execution_count": 12,
     "metadata": {},
     "output_type": "execute_result"
    }
   ],
   "source": [
    "## Create a mosaic dataset\n",
    "mosacic_name = 'global_fish_watch_daily_fleet_sum_2000'\n",
    "mosaic_path = os.path.join(processing_gdb, mosacic_name)\n",
    "\n",
    "arcpy.management.CreateMosaicDataset(in_workspace = processing_gdb,\n",
    "                                     in_mosaicdataset_name = mosacic_name,\n",
    "                                     coordinate_system = projectCoordinateSystem)"
   ]
  },
  {
   "cell_type": "code",
   "execution_count": 13,
   "metadata": {},
   "outputs": [
    {
     "data": {
      "text/html": [
       "<div class='gpresult'><h2>Messages</h2><div id='messages'>Start Time: Wednesday, September 11, 2024 4:36:18 PM<br>2024-09-11T16:36:22.716: Loading raster datasets<br>2024-09-11T16:36:23.034: Completed crawling 732 data source items. Added 732 mosaic dataset items.<br>2024-09-11T16:36:23.035: Synchronizing crawled data source items<br>2024-09-11T16:36:23.044: Synchronizing items associated with raster type instance &#39;Raster Dataset&#39; [ID: 1].<br>2024-09-11T16:36:23.047: Distributing mosaic dataset operation across 32 parallel instances on the specified host: [KVANGRAAF].<br>2024-09-11T16:37:19.631: Completed synchronization: 732 items selected, 732 items synchronized.<br>2024-09-11T16:37:19.696: Computing cell size levels<br>2024-09-11T16:37:19.696: Computing unique cell size values<br>2024-09-11T16:37:26.715: Computing maximum cell size values<br>2024-09-11T16:37:26.717: Computing minimum cell size values<br>2024-09-11T16:37:26.719: Updating visibility values of selected items<br>2024-09-11T16:37:26.857: Computing maximum cell size for mosaic dataset<br>2024-09-11T16:37:26.862: Completed computing cell size ranges.<br>2024-09-11T16:37:33.720: Completed building boundary.<br>Succeeded at Wednesday, September 11, 2024 4:37:35 PM (Elapsed Time: 1 minutes 16 seconds)<br></div><div id = 'default' /></div></div>"
      ],
      "text/plain": [
       "<Result 'E:\\\\analysis\\\\GFW\\\\gfw_daily_fleet_2020.gdb\\\\global_fish_watch_daily_fleet_sum_2000'>"
      ]
     },
     "execution_count": 13,
     "metadata": {},
     "output_type": "execute_result"
    }
   ],
   "source": [
    "\n",
    "arcpy.management.AddRastersToMosaicDataset(in_mosaic_dataset = mosaic_path,\n",
    "                                           raster_type = \"Raster Dataset\",\n",
    "                                           input_path = analysis_directory, \n",
    "                                           sub_folder=\"SUBFOLDERS\")\n"
   ]
  },
  {
   "cell_type": "code",
   "execution_count": 23,
   "metadata": {},
   "outputs": [
    {
     "data": {
      "text/html": [
       "<div class='gpresult'><h2>Messages</h2><div id='messages'>Start Time: Wednesday, September 11, 2024 4:49:21 PM<br>Adding date to AMD_global_fish_watch_daily_fleet_sum_2000_CAT...<br>Succeeded at Wednesday, September 11, 2024 4:49:25 PM (Elapsed Time: 3.93 seconds)<br></div><div id = 'default' /></div></div>"
      ],
      "text/plain": [
       "<Result 'E:\\\\analysis\\\\GFW\\\\gfw_daily_fleet_2020.gdb\\\\global_fish_watch_daily_fleet_sum_2000'>"
      ]
     },
     "execution_count": 23,
     "metadata": {},
     "output_type": "execute_result"
    }
   ],
   "source": [
    "arcpy.management.CalculateField(\n",
    "    in_table=mosaic_path,\n",
    "    field=\"date\",\n",
    "    expression=\"\"\"(!Name!.split('_')[3] + \"-\" + !Name!.split('_')[4] + \"-\" + !Name!.split('_')[2])\"\"\",\n",
    "    expression_type=\"PYTHON3\",\n",
    "    code_block=\"\",\n",
    "    field_type=\"DATE\",\n",
    "    enforce_domains=\"NO_ENFORCE_DOMAINS\"\n",
    ")"
   ]
  },
  {
   "cell_type": "code",
   "execution_count": 29,
   "metadata": {},
   "outputs": [
    {
     "data": {
      "text/html": [
       "<div class='gpresult'><h2>Messages</h2><div id='messages'>Start Time: Wednesday, September 11, 2024 4:54:40 PM<br>Adding variable to AMD_global_fish_watch_daily_fleet_sum_2000_CAT...<br>Succeeded at Wednesday, September 11, 2024 4:54:44 PM (Elapsed Time: 3.83 seconds)<br></div><div id = 'default' /></div></div>"
      ],
      "text/plain": [
       "<Result 'E:\\\\analysis\\\\GFW\\\\gfw_daily_fleet_2020.gdb\\\\global_fish_watch_daily_fleet_sum_2000'>"
      ]
     },
     "execution_count": 29,
     "metadata": {},
     "output_type": "execute_result"
    }
   ],
   "source": [
    "arcpy.management.CalculateField(\n",
    "    in_table=mosaic_path,\n",
    "    field=\"variable\",\n",
    "    expression=\"\"\"(!Name!.split('_')[5].split('.')[0])\"\"\",\n",
    "    expression_type=\"PYTHON3\",\n",
    "    code_block=\"\",\n",
    "    field_type=\"TEXT\",\n",
    "    enforce_domains=\"NO_ENFORCE_DOMAINS\")"
   ]
  },
  {
   "cell_type": "code",
   "execution_count": 30,
   "metadata": {},
   "outputs": [
    {
     "data": {
      "text/html": [
       "<div class='gpresult'><h2>Messages</h2><div id='messages'>Start Time: Wednesday, September 11, 2024 5:01:03 PM<br>Succeeded at Wednesday, September 11, 2024 5:01:05 PM (Elapsed Time: 2.66 seconds)<br></div><div id = 'default' /></div></div>"
      ],
      "text/plain": [
       "<Result 'E:\\\\analysis\\\\GFW\\\\gfw_daily_fleet_2020.gdb\\\\global_fish_watch_daily_fleet_sum_2000'>"
      ]
     },
     "execution_count": 30,
     "metadata": {},
     "output_type": "execute_result"
    }
   ],
   "source": [
    "mosacic_name = 'global_fish_watch_daily_fleet_sum_2000'\n",
    "mosaic_path = os.path.join(processing_gdb, mosacic_name)\n",
    "\n",
    "arcpy.md.BuildMultidimensionalInfo(in_mosaic_dataset = mosaic_path,\n",
    "                                   variable_field = 'variable',\n",
    "                                   dimension_fields = 'date')"
   ]
  },
  {
   "cell_type": "code",
   "execution_count": 31,
   "metadata": {},
   "outputs": [],
   "source": [
    "arcpy.management.CalculateStatistics(in_raster_dataset = mosaic_path)"
   ]
  }
 ],
 "metadata": {
  "kernelspec": {
   "display_name": "Python 3",
   "language": "python",
   "name": "python3"
  },
  "language_info": {
   "codemirror_mode": {
    "name": "ipython",
    "version": 3
   },
   "file_extension": ".py",
   "mimetype": "text/x-python",
   "name": "python",
   "nbconvert_exporter": "python",
   "pygments_lexer": "ipython3",
   "version": "3.11.8"
  }
 },
 "nbformat": 4,
 "nbformat_minor": 2
}
